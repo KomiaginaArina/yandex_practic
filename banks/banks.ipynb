{
 "cells": [
  {
   "cell_type": "markdown",
   "id": "c557d0a3",
   "metadata": {},
   "source": [
    "# Исследование надежности заемщиков."
   ]
  },
  {
   "cell_type": "markdown",
   "id": "8c69c5f4",
   "metadata": {},
   "source": [
    "## Импорт библиотек, загрузка и обзор данных"
   ]
  },
  {
   "cell_type": "code",
   "execution_count": 1,
   "id": "749842ed",
   "metadata": {},
   "outputs": [],
   "source": [
    "import pandas as pd"
   ]
  },
  {
   "cell_type": "code",
   "execution_count": 2,
   "id": "32326e1d",
   "metadata": {},
   "outputs": [
    {
     "name": "stdout",
     "output_type": "stream",
     "text": [
      "<class 'pandas.core.frame.DataFrame'>\n",
      "RangeIndex: 21525 entries, 0 to 21524\n",
      "Data columns (total 12 columns):\n",
      " #   Column            Non-Null Count  Dtype  \n",
      "---  ------            --------------  -----  \n",
      " 0   children          21525 non-null  int64  \n",
      " 1   days_employed     19351 non-null  float64\n",
      " 2   dob_years         21525 non-null  int64  \n",
      " 3   education         21525 non-null  object \n",
      " 4   education_id      21525 non-null  int64  \n",
      " 5   family_status     21525 non-null  object \n",
      " 6   family_status_id  21525 non-null  int64  \n",
      " 7   gender            21525 non-null  object \n",
      " 8   income_type       21525 non-null  object \n",
      " 9   debt              21525 non-null  int64  \n",
      " 10  total_income      19351 non-null  float64\n",
      " 11  purpose           21525 non-null  object \n",
      "dtypes: float64(2), int64(5), object(5)\n",
      "memory usage: 2.0+ MB\n"
     ]
    }
   ],
   "source": [
    "\n",
    "data=pd.read_csv('/datasets/data.csv')\n",
    "data.info()"
   ]
  },
  {
   "cell_type": "markdown",
   "id": "bdeb6083",
   "metadata": {},
   "source": [
    "- Есть пропущенные значения в колонках days_empoyed и total_income. Предположительно, в других колонках пропусков нет, но это подтвердится/опровергнется после подсчёта числа пропусков в одном из столбцов. \n",
    "\n",
    " - В total_income тип данных - float. Если нас интересует разбиение по типам дохода, то дробной частью можно пренебречь.\n",
    "\n",
    "- Аналогично - в days_empoyed: важно число полных отработанных дней, а не доли дня в часах."
   ]
  },
  {
   "cell_type": "markdown",
   "id": "44cf7c40",
   "metadata": {},
   "source": [
    "## Предобработка данных"
   ]
  },
  {
   "cell_type": "markdown",
   "id": "39226410",
   "metadata": {},
   "source": [
    "### Заполнение пропусков"
   ]
  },
  {
   "cell_type": "code",
   "execution_count": 3,
   "id": "357ee4e9",
   "metadata": {},
   "outputs": [
    {
     "data": {
      "text/plain": [
       "2174"
      ]
     },
     "execution_count": 3,
     "metadata": {},
     "output_type": "execute_result"
    }
   ],
   "source": [
    "#Посмотрим, сколько всего пропусков в колонках. Предположительно, 2174 - если в остальных столбцах нет пропусков\n",
    "len(data[data['days_employed'].isna()])"
   ]
  },
  {
   "cell_type": "markdown",
   "id": "696806b6",
   "metadata": {},
   "source": [
    "Гипотеза подтвердилась.Итак, пропущено 2174/21525 - примерно 10% значений. Вероятно, это может быть связано как с человеческим фактором (ошибка при вводе/отказ клиента предоставить информацию), так и с ошибками при переносе данных. 10% - существенная часть данных, и потому просто удалить нельзя. Оптимальной будет замена пропусков медианным значением: так искажение данных будет минимальным.(Cреднее не подойдёт, т.к при наличии сильно выделяющегося значения оно \"перетянет одеяло на себя\". Как среднее по палате: если у 4 пациентов 36.6, а у одного - 40.0- средняя температура = 37.2. Объективные выводы из этого сделать сложно :) )"
   ]
  },
  {
   "cell_type": "code",
   "execution_count": 4,
   "id": "335cc384",
   "metadata": {
    "scrolled": true
   },
   "outputs": [],
   "source": [
    "median_days_employed = data['days_employed'].median()\n",
    "# Медиана отрицательная?  Интересно...\n",
    "data['days_employed']=data['days_employed'].abs() #Удалять половину данных не хочется: рискнём и просто возьмём модуль\n",
    "data['days_employed'].sort_values() #Проверим, получилось ли\n",
    "median_days_employed = int(data['days_employed'].median())\n",
    "median_income=data['total_income'].median()\n",
    "\n",
    "data['days_employed']=data['days_employed'].fillna(median_days_employed) #Меняем пропушенные значения на медианное\n",
    "data['total_income']=data['total_income'].fillna(median_income) #И ещё раз для другого столбца"
   ]
  },
  {
   "cell_type": "markdown",
   "id": "6d98954c",
   "metadata": {},
   "source": [
    "### Проверка данных на аномалии и исправления."
   ]
  },
  {
   "cell_type": "code",
   "execution_count": 5,
   "id": "96a9384d",
   "metadata": {},
   "outputs": [
    {
     "data": {
      "text/html": [
       "<div>\n",
       "<style scoped>\n",
       "    .dataframe tbody tr th:only-of-type {\n",
       "        vertical-align: middle;\n",
       "    }\n",
       "\n",
       "    .dataframe tbody tr th {\n",
       "        vertical-align: top;\n",
       "    }\n",
       "\n",
       "    .dataframe thead th {\n",
       "        text-align: right;\n",
       "    }\n",
       "</style>\n",
       "<table border=\"1\" class=\"dataframe\">\n",
       "  <thead>\n",
       "    <tr style=\"text-align: right;\">\n",
       "      <th></th>\n",
       "      <th>children</th>\n",
       "      <th>days_employed</th>\n",
       "      <th>dob_years</th>\n",
       "      <th>education</th>\n",
       "      <th>education_id</th>\n",
       "      <th>family_status</th>\n",
       "      <th>family_status_id</th>\n",
       "      <th>gender</th>\n",
       "      <th>income_type</th>\n",
       "      <th>debt</th>\n",
       "      <th>total_income</th>\n",
       "      <th>purpose</th>\n",
       "    </tr>\n",
       "  </thead>\n",
       "  <tbody>\n",
       "    <tr>\n",
       "      <th>16335</th>\n",
       "      <td>1</td>\n",
       "      <td>18388.949901</td>\n",
       "      <td>61</td>\n",
       "      <td>среднее</td>\n",
       "      <td>1</td>\n",
       "      <td>женат / замужем</td>\n",
       "      <td>0</td>\n",
       "      <td>F</td>\n",
       "      <td>сотрудник</td>\n",
       "      <td>0</td>\n",
       "      <td>186178.934089</td>\n",
       "      <td>операции с недвижимостью</td>\n",
       "    </tr>\n",
       "    <tr>\n",
       "      <th>20444</th>\n",
       "      <td>0</td>\n",
       "      <td>328728.720605</td>\n",
       "      <td>72</td>\n",
       "      <td>среднее</td>\n",
       "      <td>1</td>\n",
       "      <td>вдовец / вдова</td>\n",
       "      <td>2</td>\n",
       "      <td>F</td>\n",
       "      <td>пенсионер</td>\n",
       "      <td>0</td>\n",
       "      <td>96519.339647</td>\n",
       "      <td>покупка жилья для семьи</td>\n",
       "    </tr>\n",
       "    <tr>\n",
       "      <th>9328</th>\n",
       "      <td>2</td>\n",
       "      <td>328734.923996</td>\n",
       "      <td>41</td>\n",
       "      <td>высшее</td>\n",
       "      <td>0</td>\n",
       "      <td>женат / замужем</td>\n",
       "      <td>0</td>\n",
       "      <td>M</td>\n",
       "      <td>пенсионер</td>\n",
       "      <td>0</td>\n",
       "      <td>126997.497760</td>\n",
       "      <td>операции со своей недвижимостью</td>\n",
       "    </tr>\n",
       "    <tr>\n",
       "      <th>17782</th>\n",
       "      <td>0</td>\n",
       "      <td>328771.341387</td>\n",
       "      <td>56</td>\n",
       "      <td>среднее</td>\n",
       "      <td>1</td>\n",
       "      <td>женат / замужем</td>\n",
       "      <td>0</td>\n",
       "      <td>F</td>\n",
       "      <td>пенсионер</td>\n",
       "      <td>0</td>\n",
       "      <td>68648.047062</td>\n",
       "      <td>операции с коммерческой недвижимостью</td>\n",
       "    </tr>\n",
       "    <tr>\n",
       "      <th>14783</th>\n",
       "      <td>0</td>\n",
       "      <td>328795.726728</td>\n",
       "      <td>62</td>\n",
       "      <td>высшее</td>\n",
       "      <td>0</td>\n",
       "      <td>женат / замужем</td>\n",
       "      <td>0</td>\n",
       "      <td>F</td>\n",
       "      <td>пенсионер</td>\n",
       "      <td>0</td>\n",
       "      <td>79940.196752</td>\n",
       "      <td>на покупку своего автомобиля</td>\n",
       "    </tr>\n",
       "    <tr>\n",
       "      <th>...</th>\n",
       "      <td>...</td>\n",
       "      <td>...</td>\n",
       "      <td>...</td>\n",
       "      <td>...</td>\n",
       "      <td>...</td>\n",
       "      <td>...</td>\n",
       "      <td>...</td>\n",
       "      <td>...</td>\n",
       "      <td>...</td>\n",
       "      <td>...</td>\n",
       "      <td>...</td>\n",
       "      <td>...</td>\n",
       "    </tr>\n",
       "    <tr>\n",
       "      <th>7794</th>\n",
       "      <td>0</td>\n",
       "      <td>401663.850046</td>\n",
       "      <td>61</td>\n",
       "      <td>среднее</td>\n",
       "      <td>1</td>\n",
       "      <td>гражданский брак</td>\n",
       "      <td>1</td>\n",
       "      <td>F</td>\n",
       "      <td>пенсионер</td>\n",
       "      <td>0</td>\n",
       "      <td>48286.441362</td>\n",
       "      <td>свадьба</td>\n",
       "    </tr>\n",
       "    <tr>\n",
       "      <th>2156</th>\n",
       "      <td>0</td>\n",
       "      <td>401674.466633</td>\n",
       "      <td>60</td>\n",
       "      <td>среднее</td>\n",
       "      <td>1</td>\n",
       "      <td>женат / замужем</td>\n",
       "      <td>0</td>\n",
       "      <td>M</td>\n",
       "      <td>пенсионер</td>\n",
       "      <td>0</td>\n",
       "      <td>325395.724541</td>\n",
       "      <td>автомобили</td>\n",
       "    </tr>\n",
       "    <tr>\n",
       "      <th>7664</th>\n",
       "      <td>1</td>\n",
       "      <td>401675.093434</td>\n",
       "      <td>61</td>\n",
       "      <td>среднее</td>\n",
       "      <td>1</td>\n",
       "      <td>женат / замужем</td>\n",
       "      <td>0</td>\n",
       "      <td>F</td>\n",
       "      <td>пенсионер</td>\n",
       "      <td>0</td>\n",
       "      <td>126214.519212</td>\n",
       "      <td>операции с жильем</td>\n",
       "    </tr>\n",
       "    <tr>\n",
       "      <th>10006</th>\n",
       "      <td>0</td>\n",
       "      <td>401715.811749</td>\n",
       "      <td>69</td>\n",
       "      <td>высшее</td>\n",
       "      <td>0</td>\n",
       "      <td>Не женат / не замужем</td>\n",
       "      <td>4</td>\n",
       "      <td>F</td>\n",
       "      <td>пенсионер</td>\n",
       "      <td>0</td>\n",
       "      <td>57390.256908</td>\n",
       "      <td>получение образования</td>\n",
       "    </tr>\n",
       "    <tr>\n",
       "      <th>6954</th>\n",
       "      <td>0</td>\n",
       "      <td>401755.400475</td>\n",
       "      <td>56</td>\n",
       "      <td>среднее</td>\n",
       "      <td>1</td>\n",
       "      <td>вдовец / вдова</td>\n",
       "      <td>2</td>\n",
       "      <td>F</td>\n",
       "      <td>пенсионер</td>\n",
       "      <td>0</td>\n",
       "      <td>176278.441171</td>\n",
       "      <td>ремонт жилью</td>\n",
       "    </tr>\n",
       "  </tbody>\n",
       "</table>\n",
       "<p>3446 rows × 12 columns</p>\n",
       "</div>"
      ],
      "text/plain": [
       "       children  days_employed  dob_years education  education_id  \\\n",
       "16335         1   18388.949901         61   среднее             1   \n",
       "20444         0  328728.720605         72   среднее             1   \n",
       "9328          2  328734.923996         41    высшее             0   \n",
       "17782         0  328771.341387         56   среднее             1   \n",
       "14783         0  328795.726728         62    высшее             0   \n",
       "...         ...            ...        ...       ...           ...   \n",
       "7794          0  401663.850046         61   среднее             1   \n",
       "2156          0  401674.466633         60   среднее             1   \n",
       "7664          1  401675.093434         61   среднее             1   \n",
       "10006         0  401715.811749         69    высшее             0   \n",
       "6954          0  401755.400475         56   среднее             1   \n",
       "\n",
       "               family_status  family_status_id gender income_type  debt  \\\n",
       "16335        женат / замужем                 0      F   сотрудник     0   \n",
       "20444         вдовец / вдова                 2      F   пенсионер     0   \n",
       "9328         женат / замужем                 0      M   пенсионер     0   \n",
       "17782        женат / замужем                 0      F   пенсионер     0   \n",
       "14783        женат / замужем                 0      F   пенсионер     0   \n",
       "...                      ...               ...    ...         ...   ...   \n",
       "7794        гражданский брак                 1      F   пенсионер     0   \n",
       "2156         женат / замужем                 0      M   пенсионер     0   \n",
       "7664         женат / замужем                 0      F   пенсионер     0   \n",
       "10006  Не женат / не замужем                 4      F   пенсионер     0   \n",
       "6954          вдовец / вдова                 2      F   пенсионер     0   \n",
       "\n",
       "        total_income                                purpose  \n",
       "16335  186178.934089               операции с недвижимостью  \n",
       "20444   96519.339647                покупка жилья для семьи  \n",
       "9328   126997.497760        операции со своей недвижимостью  \n",
       "17782   68648.047062  операции с коммерческой недвижимостью  \n",
       "14783   79940.196752           на покупку своего автомобиля  \n",
       "...              ...                                    ...  \n",
       "7794    48286.441362                                свадьба  \n",
       "2156   325395.724541                             автомобили  \n",
       "7664   126214.519212                      операции с жильем  \n",
       "10006   57390.256908                  получение образования  \n",
       "6954   176278.441171                           ремонт жилью  \n",
       "\n",
       "[3446 rows x 12 columns]"
      ]
     },
     "execution_count": 5,
     "metadata": {},
     "output_type": "execute_result"
    }
   ],
   "source": [
    "data.sort_values(by='days_employed').head() \n",
    "data.sort_values(by='days_employed').tail(3446)\n",
    "\n",
    "#Величина \"хвоста\" определена эмпирически: проверялось, с какого момента теряется адекватность"
   ]
  },
  {
   "cell_type": "markdown",
   "id": "8fd06eef",
   "metadata": {},
   "source": [
    "Последние 3445 чисел дней трудового стажа слишком огромные. Получается, трудовой стаж некоторых клиентов превышает 900 лет. \n",
    "Возможно, записали число часов вместо дней; а возможно, ошиблись с расположением точки - и, следовательно, с порядком числа.\n",
    "Предположу, что дело в первом варианте: для второго -то есть, для простой опечатки -  таких ошибок слишком много, так что логичнее выглядит версия о том, что кто-то перепутал и занёс число рабочих часов.\n",
    "\n",
    "//Как он это считал, бедный...\n",
    "\n",
    "Проверим остальные столбцы. Аномально высокие значения могут быть в столбцах dob_years и children. Количественной переменной является и total_income, но верхнюю границу \"адекватных результатов\" провести сложно. Проверим, нет ли отрицательных значений"
   ]
  },
  {
   "cell_type": "code",
   "execution_count": 6,
   "id": "61546d0c",
   "metadata": {},
   "outputs": [
    {
     "data": {
      "text/html": [
       "<div>\n",
       "<style scoped>\n",
       "    .dataframe tbody tr th:only-of-type {\n",
       "        vertical-align: middle;\n",
       "    }\n",
       "\n",
       "    .dataframe tbody tr th {\n",
       "        vertical-align: top;\n",
       "    }\n",
       "\n",
       "    .dataframe thead th {\n",
       "        text-align: right;\n",
       "    }\n",
       "</style>\n",
       "<table border=\"1\" class=\"dataframe\">\n",
       "  <thead>\n",
       "    <tr style=\"text-align: right;\">\n",
       "      <th></th>\n",
       "      <th>children</th>\n",
       "      <th>days_employed</th>\n",
       "      <th>dob_years</th>\n",
       "      <th>education</th>\n",
       "      <th>education_id</th>\n",
       "      <th>family_status</th>\n",
       "      <th>family_status_id</th>\n",
       "      <th>gender</th>\n",
       "      <th>income_type</th>\n",
       "      <th>debt</th>\n",
       "      <th>total_income</th>\n",
       "      <th>purpose</th>\n",
       "    </tr>\n",
       "  </thead>\n",
       "  <tbody>\n",
       "    <tr>\n",
       "      <th>14585</th>\n",
       "      <td>0</td>\n",
       "      <td>359219.059341</td>\n",
       "      <td>57</td>\n",
       "      <td>среднее</td>\n",
       "      <td>1</td>\n",
       "      <td>женат / замужем</td>\n",
       "      <td>0</td>\n",
       "      <td>F</td>\n",
       "      <td>пенсионер</td>\n",
       "      <td>1</td>\n",
       "      <td>20667.263793</td>\n",
       "      <td>недвижимость</td>\n",
       "    </tr>\n",
       "    <tr>\n",
       "      <th>13006</th>\n",
       "      <td>0</td>\n",
       "      <td>369708.589113</td>\n",
       "      <td>37</td>\n",
       "      <td>среднее</td>\n",
       "      <td>1</td>\n",
       "      <td>гражданский брак</td>\n",
       "      <td>1</td>\n",
       "      <td>M</td>\n",
       "      <td>пенсионер</td>\n",
       "      <td>0</td>\n",
       "      <td>21205.280566</td>\n",
       "      <td>заняться высшим образованием</td>\n",
       "    </tr>\n",
       "    <tr>\n",
       "      <th>16174</th>\n",
       "      <td>1</td>\n",
       "      <td>3642.820023</td>\n",
       "      <td>52</td>\n",
       "      <td>Среднее</td>\n",
       "      <td>1</td>\n",
       "      <td>женат / замужем</td>\n",
       "      <td>0</td>\n",
       "      <td>M</td>\n",
       "      <td>сотрудник</td>\n",
       "      <td>0</td>\n",
       "      <td>21367.648356</td>\n",
       "      <td>приобретение автомобиля</td>\n",
       "    </tr>\n",
       "    <tr>\n",
       "      <th>1598</th>\n",
       "      <td>0</td>\n",
       "      <td>359726.104207</td>\n",
       "      <td>68</td>\n",
       "      <td>среднее</td>\n",
       "      <td>1</td>\n",
       "      <td>гражданский брак</td>\n",
       "      <td>1</td>\n",
       "      <td>M</td>\n",
       "      <td>пенсионер</td>\n",
       "      <td>0</td>\n",
       "      <td>21695.101789</td>\n",
       "      <td>на проведение свадьбы</td>\n",
       "    </tr>\n",
       "    <tr>\n",
       "      <th>14276</th>\n",
       "      <td>0</td>\n",
       "      <td>346602.453782</td>\n",
       "      <td>61</td>\n",
       "      <td>среднее</td>\n",
       "      <td>1</td>\n",
       "      <td>женат / замужем</td>\n",
       "      <td>0</td>\n",
       "      <td>F</td>\n",
       "      <td>пенсионер</td>\n",
       "      <td>0</td>\n",
       "      <td>21895.614355</td>\n",
       "      <td>недвижимость</td>\n",
       "    </tr>\n",
       "  </tbody>\n",
       "</table>\n",
       "</div>"
      ],
      "text/plain": [
       "       children  days_employed  dob_years education  education_id  \\\n",
       "14585         0  359219.059341         57   среднее             1   \n",
       "13006         0  369708.589113         37   среднее             1   \n",
       "16174         1    3642.820023         52   Среднее             1   \n",
       "1598          0  359726.104207         68   среднее             1   \n",
       "14276         0  346602.453782         61   среднее             1   \n",
       "\n",
       "          family_status  family_status_id gender income_type  debt  \\\n",
       "14585   женат / замужем                 0      F   пенсионер     1   \n",
       "13006  гражданский брак                 1      M   пенсионер     0   \n",
       "16174   женат / замужем                 0      M   сотрудник     0   \n",
       "1598   гражданский брак                 1      M   пенсионер     0   \n",
       "14276   женат / замужем                 0      F   пенсионер     0   \n",
       "\n",
       "       total_income                       purpose  \n",
       "14585  20667.263793                  недвижимость  \n",
       "13006  21205.280566  заняться высшим образованием  \n",
       "16174  21367.648356       приобретение автомобиля  \n",
       "1598   21695.101789         на проведение свадьбы  \n",
       "14276  21895.614355                  недвижимость  "
      ]
     },
     "execution_count": 6,
     "metadata": {},
     "output_type": "execute_result"
    }
   ],
   "source": [
    "data.sort_values(by='dob_years').head(10) #Отрицательных возрастов нет, хотя опыт работы в 0 лет настораживает\n",
    "data.sort_values(by='dob_years').tail(10) \n",
    "#Максимальный возраст - 75. Интересно, что цель кредита \"обучение\", но признать неадекваным не можем: теоретически это возможно\n",
    "\n",
    "data.sort_values(by='children').head(48) \n",
    "#У 47 людей -1 ребёнок. Либо это был прочерк, либо \"минус\" лишний. Большая часть пар семейная, так что предположим 2-ой вариант\n",
    "data.sort_values(by='children').tail(77)\n",
    "#У 76 людей -20 детей. Можно было бы предположить, что настолько многодетные семьи - тоже клиенты банка\n",
    "# Но тогда были бы и 19, 18, 17 детей..Предположу, что \"0\" лишний, и имелось в виду 2\n",
    "\n",
    "data.sort_values(by='total_income').head() #Отрицательных значений нет - считаем столбец достоверным"
   ]
  },
  {
   "cell_type": "markdown",
   "id": "9c997ef5",
   "metadata": {},
   "source": [
    "Теперь проверим категориальные переменные на отсутствие неожиданных значений. Оно пригодится ещё при удалении дубликатов, но вдруг кто-то умудрился учиться в Хогвартсе  и ощущает себя боевым вертолётом?"
   ]
  },
  {
   "cell_type": "code",
   "execution_count": 7,
   "id": "1925793c",
   "metadata": {},
   "outputs": [
    {
     "data": {
      "text/plain": [
       "array(['покупка жилья', 'приобретение автомобиля',\n",
       "       'дополнительное образование', 'сыграть свадьбу',\n",
       "       'операции с жильем', 'образование', 'на проведение свадьбы',\n",
       "       'покупка жилья для семьи', 'покупка недвижимости',\n",
       "       'покупка коммерческой недвижимости', 'покупка жилой недвижимости',\n",
       "       'строительство собственной недвижимости', 'недвижимость',\n",
       "       'строительство недвижимости', 'на покупку подержанного автомобиля',\n",
       "       'на покупку своего автомобиля',\n",
       "       'операции с коммерческой недвижимостью',\n",
       "       'строительство жилой недвижимости', 'жилье',\n",
       "       'операции со своей недвижимостью', 'автомобили',\n",
       "       'заняться образованием', 'сделка с подержанным автомобилем',\n",
       "       'получение образования', 'автомобиль', 'свадьба',\n",
       "       'получение дополнительного образования', 'покупка своего жилья',\n",
       "       'операции с недвижимостью', 'получение высшего образования',\n",
       "       'свой автомобиль', 'сделка с автомобилем',\n",
       "       'профильное образование', 'высшее образование',\n",
       "       'покупка жилья для сдачи', 'на покупку автомобиля', 'ремонт жилью',\n",
       "       'заняться высшим образованием'], dtype=object)"
      ]
     },
     "execution_count": 7,
     "metadata": {},
     "output_type": "execute_result"
    }
   ],
   "source": [
    "data['education'].unique()\n",
    "data['education_id'].unique()\n",
    "data['family_status'].unique()\n",
    "data['family_status_id'].unique()\n",
    "data['gender'].unique() #XNA? Интересно... Вызовем строчки с ним\n",
    "data[data['gender']=='XNA'] #Он такой один, так что оставим. Но непонятно.\n",
    "data['income_type'].unique()\n",
    "data['debt'].unique()\n",
    "data['purpose'].unique()\n"
   ]
  },
  {
   "cell_type": "markdown",
   "id": "4cd67fb5",
   "metadata": {},
   "source": [
    "Итак, аномальные значения найдены в столбцах 'children' - отрицательное количество детей и 20 детей; 'days_employed' - больше 900 лет рабочего стажа. Также обнаружены дубликаты в столбцах 'education' и 'purpose', и странное значение 'XNA' в гендере одного из клиентов (неожиданно угадала с боевым вертолётом?) . XNA оставили, с дубликатами разберёмся позднее.\n",
    "Преобразуем аномальные значения в соответствии с нашими предположениями"
   ]
  },
  {
   "cell_type": "code",
   "execution_count": 8,
   "id": "62e9a0d3",
   "metadata": {},
   "outputs": [
    {
     "data": {
      "text/html": [
       "<div>\n",
       "<style scoped>\n",
       "    .dataframe tbody tr th:only-of-type {\n",
       "        vertical-align: middle;\n",
       "    }\n",
       "\n",
       "    .dataframe tbody tr th {\n",
       "        vertical-align: top;\n",
       "    }\n",
       "\n",
       "    .dataframe thead th {\n",
       "        text-align: right;\n",
       "    }\n",
       "</style>\n",
       "<table border=\"1\" class=\"dataframe\">\n",
       "  <thead>\n",
       "    <tr style=\"text-align: right;\">\n",
       "      <th></th>\n",
       "      <th>children</th>\n",
       "      <th>days_employed</th>\n",
       "      <th>dob_years</th>\n",
       "      <th>education</th>\n",
       "      <th>education_id</th>\n",
       "      <th>family_status</th>\n",
       "      <th>family_status_id</th>\n",
       "      <th>gender</th>\n",
       "      <th>income_type</th>\n",
       "      <th>debt</th>\n",
       "      <th>total_income</th>\n",
       "      <th>purpose</th>\n",
       "    </tr>\n",
       "  </thead>\n",
       "  <tbody>\n",
       "    <tr>\n",
       "      <th>14856</th>\n",
       "      <td>0</td>\n",
       "      <td>13724.473816</td>\n",
       "      <td>60</td>\n",
       "      <td>среднее</td>\n",
       "      <td>1</td>\n",
       "      <td>гражданский брак</td>\n",
       "      <td>1</td>\n",
       "      <td>F</td>\n",
       "      <td>пенсионер</td>\n",
       "      <td>0</td>\n",
       "      <td>124468.944722</td>\n",
       "      <td>образование</td>\n",
       "    </tr>\n",
       "    <tr>\n",
       "      <th>8354</th>\n",
       "      <td>0</td>\n",
       "      <td>13725.427022</td>\n",
       "      <td>54</td>\n",
       "      <td>СРЕДНЕЕ</td>\n",
       "      <td>1</td>\n",
       "      <td>гражданский брак</td>\n",
       "      <td>1</td>\n",
       "      <td>F</td>\n",
       "      <td>пенсионер</td>\n",
       "      <td>0</td>\n",
       "      <td>95950.360328</td>\n",
       "      <td>сыграть свадьбу</td>\n",
       "    </tr>\n",
       "    <tr>\n",
       "      <th>9166</th>\n",
       "      <td>0</td>\n",
       "      <td>13725.510457</td>\n",
       "      <td>68</td>\n",
       "      <td>среднее</td>\n",
       "      <td>1</td>\n",
       "      <td>женат / замужем</td>\n",
       "      <td>0</td>\n",
       "      <td>F</td>\n",
       "      <td>пенсионер</td>\n",
       "      <td>0</td>\n",
       "      <td>101396.295670</td>\n",
       "      <td>заняться образованием</td>\n",
       "    </tr>\n",
       "    <tr>\n",
       "      <th>11157</th>\n",
       "      <td>0</td>\n",
       "      <td>13725.703094</td>\n",
       "      <td>71</td>\n",
       "      <td>СРЕДНЕЕ</td>\n",
       "      <td>1</td>\n",
       "      <td>вдовец / вдова</td>\n",
       "      <td>2</td>\n",
       "      <td>F</td>\n",
       "      <td>пенсионер</td>\n",
       "      <td>0</td>\n",
       "      <td>39406.483691</td>\n",
       "      <td>покупка жилой недвижимости</td>\n",
       "    </tr>\n",
       "    <tr>\n",
       "      <th>16253</th>\n",
       "      <td>0</td>\n",
       "      <td>13727.539247</td>\n",
       "      <td>53</td>\n",
       "      <td>среднее</td>\n",
       "      <td>1</td>\n",
       "      <td>гражданский брак</td>\n",
       "      <td>1</td>\n",
       "      <td>F</td>\n",
       "      <td>пенсионер</td>\n",
       "      <td>0</td>\n",
       "      <td>94973.587101</td>\n",
       "      <td>заняться высшим образованием</td>\n",
       "    </tr>\n",
       "    <tr>\n",
       "      <th>...</th>\n",
       "      <td>...</td>\n",
       "      <td>...</td>\n",
       "      <td>...</td>\n",
       "      <td>...</td>\n",
       "      <td>...</td>\n",
       "      <td>...</td>\n",
       "      <td>...</td>\n",
       "      <td>...</td>\n",
       "      <td>...</td>\n",
       "      <td>...</td>\n",
       "      <td>...</td>\n",
       "      <td>...</td>\n",
       "    </tr>\n",
       "    <tr>\n",
       "      <th>7664</th>\n",
       "      <td>1</td>\n",
       "      <td>16736.462226</td>\n",
       "      <td>61</td>\n",
       "      <td>среднее</td>\n",
       "      <td>1</td>\n",
       "      <td>женат / замужем</td>\n",
       "      <td>0</td>\n",
       "      <td>F</td>\n",
       "      <td>пенсионер</td>\n",
       "      <td>0</td>\n",
       "      <td>126214.519212</td>\n",
       "      <td>операции с жильем</td>\n",
       "    </tr>\n",
       "    <tr>\n",
       "      <th>10006</th>\n",
       "      <td>0</td>\n",
       "      <td>16738.158823</td>\n",
       "      <td>69</td>\n",
       "      <td>высшее</td>\n",
       "      <td>0</td>\n",
       "      <td>Не женат / не замужем</td>\n",
       "      <td>4</td>\n",
       "      <td>F</td>\n",
       "      <td>пенсионер</td>\n",
       "      <td>0</td>\n",
       "      <td>57390.256908</td>\n",
       "      <td>получение образования</td>\n",
       "    </tr>\n",
       "    <tr>\n",
       "      <th>6954</th>\n",
       "      <td>0</td>\n",
       "      <td>16739.808353</td>\n",
       "      <td>56</td>\n",
       "      <td>среднее</td>\n",
       "      <td>1</td>\n",
       "      <td>вдовец / вдова</td>\n",
       "      <td>2</td>\n",
       "      <td>F</td>\n",
       "      <td>пенсионер</td>\n",
       "      <td>0</td>\n",
       "      <td>176278.441171</td>\n",
       "      <td>ремонт жилью</td>\n",
       "    </tr>\n",
       "    <tr>\n",
       "      <th>4299</th>\n",
       "      <td>0</td>\n",
       "      <td>17615.563266</td>\n",
       "      <td>61</td>\n",
       "      <td>среднее</td>\n",
       "      <td>1</td>\n",
       "      <td>женат / замужем</td>\n",
       "      <td>0</td>\n",
       "      <td>F</td>\n",
       "      <td>компаньон</td>\n",
       "      <td>0</td>\n",
       "      <td>122560.741753</td>\n",
       "      <td>покупка жилья</td>\n",
       "    </tr>\n",
       "    <tr>\n",
       "      <th>16335</th>\n",
       "      <td>1</td>\n",
       "      <td>18388.949901</td>\n",
       "      <td>61</td>\n",
       "      <td>среднее</td>\n",
       "      <td>1</td>\n",
       "      <td>женат / замужем</td>\n",
       "      <td>0</td>\n",
       "      <td>F</td>\n",
       "      <td>сотрудник</td>\n",
       "      <td>0</td>\n",
       "      <td>186178.934089</td>\n",
       "      <td>операции с недвижимостью</td>\n",
       "    </tr>\n",
       "  </tbody>\n",
       "</table>\n",
       "<p>3446 rows × 12 columns</p>\n",
       "</div>"
      ],
      "text/plain": [
       "       children  days_employed  dob_years education  education_id  \\\n",
       "14856         0   13724.473816         60   среднее             1   \n",
       "8354          0   13725.427022         54   СРЕДНЕЕ             1   \n",
       "9166          0   13725.510457         68   среднее             1   \n",
       "11157         0   13725.703094         71   СРЕДНЕЕ             1   \n",
       "16253         0   13727.539247         53   среднее             1   \n",
       "...         ...            ...        ...       ...           ...   \n",
       "7664          1   16736.462226         61   среднее             1   \n",
       "10006         0   16738.158823         69    высшее             0   \n",
       "6954          0   16739.808353         56   среднее             1   \n",
       "4299          0   17615.563266         61   среднее             1   \n",
       "16335         1   18388.949901         61   среднее             1   \n",
       "\n",
       "               family_status  family_status_id gender income_type  debt  \\\n",
       "14856       гражданский брак                 1      F   пенсионер     0   \n",
       "8354        гражданский брак                 1      F   пенсионер     0   \n",
       "9166         женат / замужем                 0      F   пенсионер     0   \n",
       "11157         вдовец / вдова                 2      F   пенсионер     0   \n",
       "16253       гражданский брак                 1      F   пенсионер     0   \n",
       "...                      ...               ...    ...         ...   ...   \n",
       "7664         женат / замужем                 0      F   пенсионер     0   \n",
       "10006  Не женат / не замужем                 4      F   пенсионер     0   \n",
       "6954          вдовец / вдова                 2      F   пенсионер     0   \n",
       "4299         женат / замужем                 0      F   компаньон     0   \n",
       "16335        женат / замужем                 0      F   сотрудник     0   \n",
       "\n",
       "        total_income                       purpose  \n",
       "14856  124468.944722                   образование  \n",
       "8354    95950.360328               сыграть свадьбу  \n",
       "9166   101396.295670         заняться образованием  \n",
       "11157   39406.483691    покупка жилой недвижимости  \n",
       "16253   94973.587101  заняться высшим образованием  \n",
       "...              ...                           ...  \n",
       "7664   126214.519212             операции с жильем  \n",
       "10006   57390.256908         получение образования  \n",
       "6954   176278.441171                  ремонт жилью  \n",
       "4299   122560.741753                 покупка жилья  \n",
       "16335  186178.934089      операции с недвижимостью  \n",
       "\n",
       "[3446 rows x 12 columns]"
      ]
     },
     "execution_count": 8,
     "metadata": {},
     "output_type": "execute_result"
    }
   ],
   "source": [
    "data['children']=data['children'].abs() #Теперь отрицательного количества детей нет, только 0 и больше\n",
    "data['children']=data['children'].replace(20,2) #В соответствии с предположением, что 20 детей означало 2, заменим на нужное число\n",
    "\n",
    "data['dob_years']=data['dob_years'].replace(0,15) #поменяем возраст на адекватный: сделаем минимальный возраст=15\n",
    "data['dob_years'].min() #Теперь минимальное значение=15\n",
    "\n",
    "data.sort_values(by='days_employed').tail(3446)\n",
    "\n",
    "def max_stage(row): \n",
    "#Функция делит стаж, больший максимально возможного, на 24 (т.к предполагаем, что это число часов - переводим в дни), и оставляет адекватный\n",
    "    current_age = row['days_employed']\n",
    "    max_age= 21900 #60*365 - максимальный стаж, выраженный в днях\n",
    "    if current_age > max_age:\n",
    "        return (current_age/24)\n",
    "    else:\n",
    "        return current_age\n",
    "data['days_employed'] = data.apply(max_stage,axis=1)    \n",
    "data.sort_values(by='days_employed').tail(3446)\n"
   ]
  },
  {
   "cell_type": "markdown",
   "id": "8106a85c",
   "metadata": {},
   "source": [
    "###  Изменение типов данных."
   ]
  },
  {
   "cell_type": "code",
   "execution_count": 9,
   "id": "bbe45093",
   "metadata": {},
   "outputs": [
    {
     "name": "stdout",
     "output_type": "stream",
     "text": [
      "<class 'pandas.core.frame.DataFrame'>\n",
      "RangeIndex: 21525 entries, 0 to 21524\n",
      "Data columns (total 12 columns):\n",
      " #   Column            Non-Null Count  Dtype  \n",
      "---  ------            --------------  -----  \n",
      " 0   children          21525 non-null  int64  \n",
      " 1   days_employed     21525 non-null  float64\n",
      " 2   dob_years         21525 non-null  int64  \n",
      " 3   education         21525 non-null  object \n",
      " 4   education_id      21525 non-null  int64  \n",
      " 5   family_status     21525 non-null  object \n",
      " 6   family_status_id  21525 non-null  int64  \n",
      " 7   gender            21525 non-null  object \n",
      " 8   income_type       21525 non-null  object \n",
      " 9   debt              21525 non-null  int64  \n",
      " 10  total_income      21525 non-null  float64\n",
      " 11  purpose           21525 non-null  object \n",
      "dtypes: float64(2), int64(5), object(5)\n",
      "memory usage: 2.0+ MB\n",
      "<class 'pandas.core.frame.DataFrame'>\n",
      "RangeIndex: 21525 entries, 0 to 21524\n",
      "Data columns (total 12 columns):\n",
      " #   Column            Non-Null Count  Dtype \n",
      "---  ------            --------------  ----- \n",
      " 0   children          21525 non-null  int64 \n",
      " 1   days_employed     21525 non-null  int64 \n",
      " 2   dob_years         21525 non-null  int64 \n",
      " 3   education         21525 non-null  object\n",
      " 4   education_id      21525 non-null  int64 \n",
      " 5   family_status     21525 non-null  object\n",
      " 6   family_status_id  21525 non-null  int64 \n",
      " 7   gender            21525 non-null  object\n",
      " 8   income_type       21525 non-null  object\n",
      " 9   debt              21525 non-null  int64 \n",
      " 10  total_income      21525 non-null  int64 \n",
      " 11  purpose           21525 non-null  object\n",
      "dtypes: int64(7), object(5)\n",
      "memory usage: 2.0+ MB\n"
     ]
    },
    {
     "data": {
      "text/html": [
       "<div>\n",
       "<style scoped>\n",
       "    .dataframe tbody tr th:only-of-type {\n",
       "        vertical-align: middle;\n",
       "    }\n",
       "\n",
       "    .dataframe tbody tr th {\n",
       "        vertical-align: top;\n",
       "    }\n",
       "\n",
       "    .dataframe thead th {\n",
       "        text-align: right;\n",
       "    }\n",
       "</style>\n",
       "<table border=\"1\" class=\"dataframe\">\n",
       "  <thead>\n",
       "    <tr style=\"text-align: right;\">\n",
       "      <th></th>\n",
       "      <th>children</th>\n",
       "      <th>days_employed</th>\n",
       "      <th>dob_years</th>\n",
       "      <th>education</th>\n",
       "      <th>education_id</th>\n",
       "      <th>family_status</th>\n",
       "      <th>family_status_id</th>\n",
       "      <th>gender</th>\n",
       "      <th>income_type</th>\n",
       "      <th>debt</th>\n",
       "      <th>total_income</th>\n",
       "      <th>purpose</th>\n",
       "    </tr>\n",
       "  </thead>\n",
       "  <tbody>\n",
       "    <tr>\n",
       "      <th>0</th>\n",
       "      <td>1</td>\n",
       "      <td>8437</td>\n",
       "      <td>42</td>\n",
       "      <td>высшее</td>\n",
       "      <td>0</td>\n",
       "      <td>женат / замужем</td>\n",
       "      <td>0</td>\n",
       "      <td>F</td>\n",
       "      <td>сотрудник</td>\n",
       "      <td>0</td>\n",
       "      <td>253875</td>\n",
       "      <td>покупка жилья</td>\n",
       "    </tr>\n",
       "    <tr>\n",
       "      <th>1</th>\n",
       "      <td>1</td>\n",
       "      <td>4024</td>\n",
       "      <td>36</td>\n",
       "      <td>среднее</td>\n",
       "      <td>1</td>\n",
       "      <td>женат / замужем</td>\n",
       "      <td>0</td>\n",
       "      <td>F</td>\n",
       "      <td>сотрудник</td>\n",
       "      <td>0</td>\n",
       "      <td>112080</td>\n",
       "      <td>приобретение автомобиля</td>\n",
       "    </tr>\n",
       "    <tr>\n",
       "      <th>2</th>\n",
       "      <td>0</td>\n",
       "      <td>5623</td>\n",
       "      <td>33</td>\n",
       "      <td>Среднее</td>\n",
       "      <td>1</td>\n",
       "      <td>женат / замужем</td>\n",
       "      <td>0</td>\n",
       "      <td>M</td>\n",
       "      <td>сотрудник</td>\n",
       "      <td>0</td>\n",
       "      <td>145885</td>\n",
       "      <td>покупка жилья</td>\n",
       "    </tr>\n",
       "    <tr>\n",
       "      <th>3</th>\n",
       "      <td>3</td>\n",
       "      <td>4124</td>\n",
       "      <td>32</td>\n",
       "      <td>среднее</td>\n",
       "      <td>1</td>\n",
       "      <td>женат / замужем</td>\n",
       "      <td>0</td>\n",
       "      <td>M</td>\n",
       "      <td>сотрудник</td>\n",
       "      <td>0</td>\n",
       "      <td>267628</td>\n",
       "      <td>дополнительное образование</td>\n",
       "    </tr>\n",
       "    <tr>\n",
       "      <th>4</th>\n",
       "      <td>0</td>\n",
       "      <td>14177</td>\n",
       "      <td>53</td>\n",
       "      <td>среднее</td>\n",
       "      <td>1</td>\n",
       "      <td>гражданский брак</td>\n",
       "      <td>1</td>\n",
       "      <td>F</td>\n",
       "      <td>пенсионер</td>\n",
       "      <td>0</td>\n",
       "      <td>158616</td>\n",
       "      <td>сыграть свадьбу</td>\n",
       "    </tr>\n",
       "    <tr>\n",
       "      <th>...</th>\n",
       "      <td>...</td>\n",
       "      <td>...</td>\n",
       "      <td>...</td>\n",
       "      <td>...</td>\n",
       "      <td>...</td>\n",
       "      <td>...</td>\n",
       "      <td>...</td>\n",
       "      <td>...</td>\n",
       "      <td>...</td>\n",
       "      <td>...</td>\n",
       "      <td>...</td>\n",
       "      <td>...</td>\n",
       "    </tr>\n",
       "    <tr>\n",
       "      <th>21520</th>\n",
       "      <td>1</td>\n",
       "      <td>4529</td>\n",
       "      <td>43</td>\n",
       "      <td>среднее</td>\n",
       "      <td>1</td>\n",
       "      <td>гражданский брак</td>\n",
       "      <td>1</td>\n",
       "      <td>F</td>\n",
       "      <td>компаньон</td>\n",
       "      <td>0</td>\n",
       "      <td>224791</td>\n",
       "      <td>операции с жильем</td>\n",
       "    </tr>\n",
       "    <tr>\n",
       "      <th>21521</th>\n",
       "      <td>0</td>\n",
       "      <td>14330</td>\n",
       "      <td>67</td>\n",
       "      <td>среднее</td>\n",
       "      <td>1</td>\n",
       "      <td>женат / замужем</td>\n",
       "      <td>0</td>\n",
       "      <td>F</td>\n",
       "      <td>пенсионер</td>\n",
       "      <td>0</td>\n",
       "      <td>155999</td>\n",
       "      <td>сделка с автомобилем</td>\n",
       "    </tr>\n",
       "    <tr>\n",
       "      <th>21522</th>\n",
       "      <td>1</td>\n",
       "      <td>2113</td>\n",
       "      <td>38</td>\n",
       "      <td>среднее</td>\n",
       "      <td>1</td>\n",
       "      <td>гражданский брак</td>\n",
       "      <td>1</td>\n",
       "      <td>M</td>\n",
       "      <td>сотрудник</td>\n",
       "      <td>1</td>\n",
       "      <td>89672</td>\n",
       "      <td>недвижимость</td>\n",
       "    </tr>\n",
       "    <tr>\n",
       "      <th>21523</th>\n",
       "      <td>3</td>\n",
       "      <td>3112</td>\n",
       "      <td>38</td>\n",
       "      <td>среднее</td>\n",
       "      <td>1</td>\n",
       "      <td>женат / замужем</td>\n",
       "      <td>0</td>\n",
       "      <td>M</td>\n",
       "      <td>сотрудник</td>\n",
       "      <td>1</td>\n",
       "      <td>244093</td>\n",
       "      <td>на покупку своего автомобиля</td>\n",
       "    </tr>\n",
       "    <tr>\n",
       "      <th>21524</th>\n",
       "      <td>2</td>\n",
       "      <td>1984</td>\n",
       "      <td>40</td>\n",
       "      <td>среднее</td>\n",
       "      <td>1</td>\n",
       "      <td>женат / замужем</td>\n",
       "      <td>0</td>\n",
       "      <td>F</td>\n",
       "      <td>сотрудник</td>\n",
       "      <td>0</td>\n",
       "      <td>82047</td>\n",
       "      <td>на покупку автомобиля</td>\n",
       "    </tr>\n",
       "  </tbody>\n",
       "</table>\n",
       "<p>21525 rows × 12 columns</p>\n",
       "</div>"
      ],
      "text/plain": [
       "       children  days_employed  dob_years education  education_id  \\\n",
       "0             1           8437         42    высшее             0   \n",
       "1             1           4024         36   среднее             1   \n",
       "2             0           5623         33   Среднее             1   \n",
       "3             3           4124         32   среднее             1   \n",
       "4             0          14177         53   среднее             1   \n",
       "...         ...            ...        ...       ...           ...   \n",
       "21520         1           4529         43   среднее             1   \n",
       "21521         0          14330         67   среднее             1   \n",
       "21522         1           2113         38   среднее             1   \n",
       "21523         3           3112         38   среднее             1   \n",
       "21524         2           1984         40   среднее             1   \n",
       "\n",
       "          family_status  family_status_id gender income_type  debt  \\\n",
       "0       женат / замужем                 0      F   сотрудник     0   \n",
       "1       женат / замужем                 0      F   сотрудник     0   \n",
       "2       женат / замужем                 0      M   сотрудник     0   \n",
       "3       женат / замужем                 0      M   сотрудник     0   \n",
       "4      гражданский брак                 1      F   пенсионер     0   \n",
       "...                 ...               ...    ...         ...   ...   \n",
       "21520  гражданский брак                 1      F   компаньон     0   \n",
       "21521   женат / замужем                 0      F   пенсионер     0   \n",
       "21522  гражданский брак                 1      M   сотрудник     1   \n",
       "21523   женат / замужем                 0      M   сотрудник     1   \n",
       "21524   женат / замужем                 0      F   сотрудник     0   \n",
       "\n",
       "       total_income                       purpose  \n",
       "0            253875                 покупка жилья  \n",
       "1            112080       приобретение автомобиля  \n",
       "2            145885                 покупка жилья  \n",
       "3            267628    дополнительное образование  \n",
       "4            158616               сыграть свадьбу  \n",
       "...             ...                           ...  \n",
       "21520        224791             операции с жильем  \n",
       "21521        155999          сделка с автомобилем  \n",
       "21522         89672                  недвижимость  \n",
       "21523        244093  на покупку своего автомобиля  \n",
       "21524         82047         на покупку автомобиля  \n",
       "\n",
       "[21525 rows x 12 columns]"
      ]
     },
     "execution_count": 9,
     "metadata": {},
     "output_type": "execute_result"
    }
   ],
   "source": [
    "data.info() #Вспомним, что не тот тип данных у days_employed  и total_income. Поменяем на int\n",
    "data['days_employed'] = data['days_employed'].astype('int')\n",
    "data['total_income'] = data['total_income'].astype('int')\n",
    "data.info()\n",
    "data"
   ]
  },
  {
   "cell_type": "markdown",
   "id": "11efa566",
   "metadata": {},
   "source": [
    "Теперь все данные имеют нужный тип. "
   ]
  },
  {
   "cell_type": "markdown",
   "id": "f57714f7",
   "metadata": {},
   "source": [
    "### Удаление дубликатов."
   ]
  },
  {
   "cell_type": "markdown",
   "id": "af964604",
   "metadata": {},
   "source": [
    "Мы уже проверяли данные на уникальность, когда искали аномальные значения.  Были обнаружены дубликаты в столбцах 'education' и 'purpose'."
   ]
  },
  {
   "cell_type": "code",
   "execution_count": 10,
   "id": "db6ad829",
   "metadata": {},
   "outputs": [
    {
     "data": {
      "text/plain": [
       "array(['высшее', 'среднее', 'Среднее', 'СРЕДНЕЕ', 'ВЫСШЕЕ',\n",
       "       'неоконченное высшее', 'начальное', 'Высшее',\n",
       "       'НЕОКОНЧЕННОЕ ВЫСШЕЕ', 'Неоконченное высшее', 'НАЧАЛЬНОЕ',\n",
       "       'Начальное', 'Ученая степень', 'УЧЕНАЯ СТЕПЕНЬ', 'ученая степень'],\n",
       "      dtype=object)"
      ]
     },
     "execution_count": 10,
     "metadata": {},
     "output_type": "execute_result"
    }
   ],
   "source": [
    "data['education'].unique()"
   ]
  },
  {
   "cell_type": "code",
   "execution_count": 11,
   "id": "3ad53874",
   "metadata": {},
   "outputs": [
    {
     "data": {
      "text/plain": [
       "array(['покупка жилья', 'приобретение автомобиля',\n",
       "       'дополнительное образование', 'сыграть свадьбу',\n",
       "       'операции с жильем', 'образование', 'на проведение свадьбы',\n",
       "       'покупка жилья для семьи', 'покупка недвижимости',\n",
       "       'покупка коммерческой недвижимости', 'покупка жилой недвижимости',\n",
       "       'строительство собственной недвижимости', 'недвижимость',\n",
       "       'строительство недвижимости', 'на покупку подержанного автомобиля',\n",
       "       'на покупку своего автомобиля',\n",
       "       'операции с коммерческой недвижимостью',\n",
       "       'строительство жилой недвижимости', 'жилье',\n",
       "       'операции со своей недвижимостью', 'автомобили',\n",
       "       'заняться образованием', 'сделка с подержанным автомобилем',\n",
       "       'получение образования', 'автомобиль', 'свадьба',\n",
       "       'получение дополнительного образования', 'покупка своего жилья',\n",
       "       'операции с недвижимостью', 'получение высшего образования',\n",
       "       'свой автомобиль', 'сделка с автомобилем',\n",
       "       'профильное образование', 'высшее образование',\n",
       "       'покупка жилья для сдачи', 'на покупку автомобиля', 'ремонт жилью',\n",
       "       'заняться высшим образованием'], dtype=object)"
      ]
     },
     "execution_count": 11,
     "metadata": {},
     "output_type": "execute_result"
    }
   ],
   "source": [
    "data['purpose'].unique()"
   ]
  },
  {
   "cell_type": "code",
   "execution_count": 12,
   "id": "6f588811",
   "metadata": {},
   "outputs": [
    {
     "data": {
      "text/plain": [
       "array(['высшее', 'среднее', 'неоконченное высшее', 'начальное',\n",
       "       'ученая степень'], dtype=object)"
      ]
     },
     "execution_count": 12,
     "metadata": {},
     "output_type": "execute_result"
    }
   ],
   "source": [
    "data[\"education\"] = data[\"education\"].str.lower()\n",
    "data[\"education\"].unique()"
   ]
  },
  {
   "cell_type": "markdown",
   "id": "1ebfacd6",
   "metadata": {},
   "source": [
    "В столбце purpose заменой букв на строчные не обойдёмся: регистр тут одинаковый, а вот формулировки разные..."
   ]
  },
  {
   "cell_type": "code",
   "execution_count": 13,
   "id": "1c7f8de8",
   "metadata": {},
   "outputs": [
    {
     "data": {
      "text/plain": [
       "array(['недвижимость', 'автомобиль', 'образование', 'свадьба'],\n",
       "      dtype=object)"
      ]
     },
     "execution_count": 13,
     "metadata": {},
     "output_type": "execute_result"
    }
   ],
   "source": [
    "data['purpose']=data['purpose'].replace('сыграть свадьбу','свадьба').replace('на проведение свадьбы','свадьба')\n",
    "data['purpose']=data['purpose'].replace('дополнительное образование','образование').replace('заняться образованием','образование').replace('получение дополнительного образования','образование').replace('заняться образованием','образование').replace('заняться высшим образованием','образование').replace('профильное образование','образование').replace('получение высшего образования','образование').replace('высшее образование','образование').replace('получение образования','образование')\n",
    "data['purpose']=data['purpose'].replace('операции с жильем', 'недвижимость').replace('покупка жилья для семьи', 'недвижимость').replace('покупка недвижимости', 'недвижимость').replace('покупка коммерческой недвижимости', 'недвижимость').replace('покупка жилой недвижимости', 'недвижимость').replace('строительство собственной недвижимости', 'недвижимость').replace('строительство недвижимости', 'недвижимость').replace('операции со своей недвижимостью', 'недвижимость').replace('операции с коммерческой недвижимостью', 'недвижимость')\n",
    "data['purpose']=data['purpose'].replace('покупка жилья', 'недвижимость').replace('строительство жилой недвижимости', 'недвижимость').replace('покупка жилья для сдачи', 'недвижимость').replace('покупка своего жилья', 'недвижимость').replace('ремонт жилью', 'недвижимость').replace('жилье', 'недвижимость').replace('операции с недвижимостью', 'недвижимость')\n",
    "data['purpose']=data['purpose'].replace('приобретение автомобиля', 'автомобиль').replace('на покупку подержанного автомобиля', 'автомобиль').replace('на покупку своего автомобиля', 'автомобиль').replace('автомобили', 'автомобиль').replace('сделка с подержанным автомобилем', 'автомобиль').replace('сделка с автомобилем', 'автомобиль').replace('свой автомобиль', 'автомобиль').replace('на покупку автомобиля', 'автомобиль')\n",
    "data['purpose'].unique()"
   ]
  },
  {
   "cell_type": "markdown",
   "id": "95805cb6",
   "metadata": {},
   "source": [
    "Подобные дубликаты могли появиться из-за человеческого фактора: разные люди по-разному формулируют одну и ту же причину (и выбирают регистр)\n",
    "Проверим таблицу на дубликаты строк (что означало бы, что один и тот же клиент был внесен в БД несколько раз - может быть как технической, так и человеческой ошибкой)."
   ]
  },
  {
   "cell_type": "code",
   "execution_count": 14,
   "id": "dbf31793",
   "metadata": {},
   "outputs": [
    {
     "data": {
      "text/html": [
       "<div>\n",
       "<style scoped>\n",
       "    .dataframe tbody tr th:only-of-type {\n",
       "        vertical-align: middle;\n",
       "    }\n",
       "\n",
       "    .dataframe tbody tr th {\n",
       "        vertical-align: top;\n",
       "    }\n",
       "\n",
       "    .dataframe thead th {\n",
       "        text-align: right;\n",
       "    }\n",
       "</style>\n",
       "<table border=\"1\" class=\"dataframe\">\n",
       "  <thead>\n",
       "    <tr style=\"text-align: right;\">\n",
       "      <th></th>\n",
       "      <th>children</th>\n",
       "      <th>days_employed</th>\n",
       "      <th>dob_years</th>\n",
       "      <th>education</th>\n",
       "      <th>education_id</th>\n",
       "      <th>family_status</th>\n",
       "      <th>family_status_id</th>\n",
       "      <th>gender</th>\n",
       "      <th>income_type</th>\n",
       "      <th>debt</th>\n",
       "      <th>total_income</th>\n",
       "      <th>purpose</th>\n",
       "    </tr>\n",
       "  </thead>\n",
       "  <tbody>\n",
       "    <tr>\n",
       "      <th>0</th>\n",
       "      <td>1</td>\n",
       "      <td>8437</td>\n",
       "      <td>42</td>\n",
       "      <td>высшее</td>\n",
       "      <td>0</td>\n",
       "      <td>женат / замужем</td>\n",
       "      <td>0</td>\n",
       "      <td>F</td>\n",
       "      <td>сотрудник</td>\n",
       "      <td>0</td>\n",
       "      <td>253875</td>\n",
       "      <td>недвижимость</td>\n",
       "    </tr>\n",
       "    <tr>\n",
       "      <th>1</th>\n",
       "      <td>1</td>\n",
       "      <td>4024</td>\n",
       "      <td>36</td>\n",
       "      <td>среднее</td>\n",
       "      <td>1</td>\n",
       "      <td>женат / замужем</td>\n",
       "      <td>0</td>\n",
       "      <td>F</td>\n",
       "      <td>сотрудник</td>\n",
       "      <td>0</td>\n",
       "      <td>112080</td>\n",
       "      <td>автомобиль</td>\n",
       "    </tr>\n",
       "    <tr>\n",
       "      <th>2</th>\n",
       "      <td>0</td>\n",
       "      <td>5623</td>\n",
       "      <td>33</td>\n",
       "      <td>среднее</td>\n",
       "      <td>1</td>\n",
       "      <td>женат / замужем</td>\n",
       "      <td>0</td>\n",
       "      <td>M</td>\n",
       "      <td>сотрудник</td>\n",
       "      <td>0</td>\n",
       "      <td>145885</td>\n",
       "      <td>недвижимость</td>\n",
       "    </tr>\n",
       "    <tr>\n",
       "      <th>3</th>\n",
       "      <td>3</td>\n",
       "      <td>4124</td>\n",
       "      <td>32</td>\n",
       "      <td>среднее</td>\n",
       "      <td>1</td>\n",
       "      <td>женат / замужем</td>\n",
       "      <td>0</td>\n",
       "      <td>M</td>\n",
       "      <td>сотрудник</td>\n",
       "      <td>0</td>\n",
       "      <td>267628</td>\n",
       "      <td>образование</td>\n",
       "    </tr>\n",
       "    <tr>\n",
       "      <th>4</th>\n",
       "      <td>0</td>\n",
       "      <td>14177</td>\n",
       "      <td>53</td>\n",
       "      <td>среднее</td>\n",
       "      <td>1</td>\n",
       "      <td>гражданский брак</td>\n",
       "      <td>1</td>\n",
       "      <td>F</td>\n",
       "      <td>пенсионер</td>\n",
       "      <td>0</td>\n",
       "      <td>158616</td>\n",
       "      <td>свадьба</td>\n",
       "    </tr>\n",
       "    <tr>\n",
       "      <th>...</th>\n",
       "      <td>...</td>\n",
       "      <td>...</td>\n",
       "      <td>...</td>\n",
       "      <td>...</td>\n",
       "      <td>...</td>\n",
       "      <td>...</td>\n",
       "      <td>...</td>\n",
       "      <td>...</td>\n",
       "      <td>...</td>\n",
       "      <td>...</td>\n",
       "      <td>...</td>\n",
       "      <td>...</td>\n",
       "    </tr>\n",
       "    <tr>\n",
       "      <th>21115</th>\n",
       "      <td>1</td>\n",
       "      <td>4529</td>\n",
       "      <td>43</td>\n",
       "      <td>среднее</td>\n",
       "      <td>1</td>\n",
       "      <td>гражданский брак</td>\n",
       "      <td>1</td>\n",
       "      <td>F</td>\n",
       "      <td>компаньон</td>\n",
       "      <td>0</td>\n",
       "      <td>224791</td>\n",
       "      <td>недвижимость</td>\n",
       "    </tr>\n",
       "    <tr>\n",
       "      <th>21116</th>\n",
       "      <td>0</td>\n",
       "      <td>14330</td>\n",
       "      <td>67</td>\n",
       "      <td>среднее</td>\n",
       "      <td>1</td>\n",
       "      <td>женат / замужем</td>\n",
       "      <td>0</td>\n",
       "      <td>F</td>\n",
       "      <td>пенсионер</td>\n",
       "      <td>0</td>\n",
       "      <td>155999</td>\n",
       "      <td>автомобиль</td>\n",
       "    </tr>\n",
       "    <tr>\n",
       "      <th>21117</th>\n",
       "      <td>1</td>\n",
       "      <td>2113</td>\n",
       "      <td>38</td>\n",
       "      <td>среднее</td>\n",
       "      <td>1</td>\n",
       "      <td>гражданский брак</td>\n",
       "      <td>1</td>\n",
       "      <td>M</td>\n",
       "      <td>сотрудник</td>\n",
       "      <td>1</td>\n",
       "      <td>89672</td>\n",
       "      <td>недвижимость</td>\n",
       "    </tr>\n",
       "    <tr>\n",
       "      <th>21118</th>\n",
       "      <td>3</td>\n",
       "      <td>3112</td>\n",
       "      <td>38</td>\n",
       "      <td>среднее</td>\n",
       "      <td>1</td>\n",
       "      <td>женат / замужем</td>\n",
       "      <td>0</td>\n",
       "      <td>M</td>\n",
       "      <td>сотрудник</td>\n",
       "      <td>1</td>\n",
       "      <td>244093</td>\n",
       "      <td>автомобиль</td>\n",
       "    </tr>\n",
       "    <tr>\n",
       "      <th>21119</th>\n",
       "      <td>2</td>\n",
       "      <td>1984</td>\n",
       "      <td>40</td>\n",
       "      <td>среднее</td>\n",
       "      <td>1</td>\n",
       "      <td>женат / замужем</td>\n",
       "      <td>0</td>\n",
       "      <td>F</td>\n",
       "      <td>сотрудник</td>\n",
       "      <td>0</td>\n",
       "      <td>82047</td>\n",
       "      <td>автомобиль</td>\n",
       "    </tr>\n",
       "  </tbody>\n",
       "</table>\n",
       "<p>21120 rows × 12 columns</p>\n",
       "</div>"
      ],
      "text/plain": [
       "       children  days_employed  dob_years education  education_id  \\\n",
       "0             1           8437         42    высшее             0   \n",
       "1             1           4024         36   среднее             1   \n",
       "2             0           5623         33   среднее             1   \n",
       "3             3           4124         32   среднее             1   \n",
       "4             0          14177         53   среднее             1   \n",
       "...         ...            ...        ...       ...           ...   \n",
       "21115         1           4529         43   среднее             1   \n",
       "21116         0          14330         67   среднее             1   \n",
       "21117         1           2113         38   среднее             1   \n",
       "21118         3           3112         38   среднее             1   \n",
       "21119         2           1984         40   среднее             1   \n",
       "\n",
       "          family_status  family_status_id gender income_type  debt  \\\n",
       "0       женат / замужем                 0      F   сотрудник     0   \n",
       "1       женат / замужем                 0      F   сотрудник     0   \n",
       "2       женат / замужем                 0      M   сотрудник     0   \n",
       "3       женат / замужем                 0      M   сотрудник     0   \n",
       "4      гражданский брак                 1      F   пенсионер     0   \n",
       "...                 ...               ...    ...         ...   ...   \n",
       "21115  гражданский брак                 1      F   компаньон     0   \n",
       "21116   женат / замужем                 0      F   пенсионер     0   \n",
       "21117  гражданский брак                 1      M   сотрудник     1   \n",
       "21118   женат / замужем                 0      M   сотрудник     1   \n",
       "21119   женат / замужем                 0      F   сотрудник     0   \n",
       "\n",
       "       total_income       purpose  \n",
       "0            253875  недвижимость  \n",
       "1            112080    автомобиль  \n",
       "2            145885  недвижимость  \n",
       "3            267628   образование  \n",
       "4            158616       свадьба  \n",
       "...             ...           ...  \n",
       "21115        224791  недвижимость  \n",
       "21116        155999    автомобиль  \n",
       "21117         89672  недвижимость  \n",
       "21118        244093    автомобиль  \n",
       "21119         82047    автомобиль  \n",
       "\n",
       "[21120 rows x 12 columns]"
      ]
     },
     "execution_count": 14,
     "metadata": {},
     "output_type": "execute_result"
    }
   ],
   "source": [
    "data.duplicated().sum() #405 - не критично, но и немало\n",
    "data = data.drop_duplicates().reset_index(drop = True)\n",
    "data.duplicated().sum() #Все дубликаты удалены\n",
    "data"
   ]
  },
  {
   "cell_type": "markdown",
   "id": "dced3892",
   "metadata": {},
   "source": [
    "###  Формирование дополнительных датафреймов словарей, декомпозиция исходного датафрейма."
   ]
  },
  {
   "cell_type": "markdown",
   "id": "b308f5b2",
   "metadata": {},
   "source": [
    "Cоздадим дополнительные датафреймы: с образованием и его идентификатором и, аналогично, с семейным статусом"
   ]
  },
  {
   "cell_type": "code",
   "execution_count": 15,
   "id": "142b80d9",
   "metadata": {},
   "outputs": [
    {
     "data": {
      "text/html": [
       "<div>\n",
       "<style scoped>\n",
       "    .dataframe tbody tr th:only-of-type {\n",
       "        vertical-align: middle;\n",
       "    }\n",
       "\n",
       "    .dataframe tbody tr th {\n",
       "        vertical-align: top;\n",
       "    }\n",
       "\n",
       "    .dataframe thead th {\n",
       "        text-align: right;\n",
       "    }\n",
       "</style>\n",
       "<table border=\"1\" class=\"dataframe\">\n",
       "  <thead>\n",
       "    <tr style=\"text-align: right;\">\n",
       "      <th></th>\n",
       "      <th>education_id</th>\n",
       "      <th>education</th>\n",
       "    </tr>\n",
       "  </thead>\n",
       "  <tbody>\n",
       "    <tr>\n",
       "      <th>0</th>\n",
       "      <td>0</td>\n",
       "      <td>высшее</td>\n",
       "    </tr>\n",
       "    <tr>\n",
       "      <th>1</th>\n",
       "      <td>1</td>\n",
       "      <td>среднее</td>\n",
       "    </tr>\n",
       "    <tr>\n",
       "      <th>2</th>\n",
       "      <td>2</td>\n",
       "      <td>неоконченное высшее</td>\n",
       "    </tr>\n",
       "    <tr>\n",
       "      <th>3</th>\n",
       "      <td>3</td>\n",
       "      <td>начальное</td>\n",
       "    </tr>\n",
       "    <tr>\n",
       "      <th>4</th>\n",
       "      <td>4</td>\n",
       "      <td>ученая степень</td>\n",
       "    </tr>\n",
       "  </tbody>\n",
       "</table>\n",
       "</div>"
      ],
      "text/plain": [
       "   education_id            education\n",
       "0             0               высшее\n",
       "1             1              среднее\n",
       "2             2  неоконченное высшее\n",
       "3             3            начальное\n",
       "4             4       ученая степень"
      ]
     },
     "execution_count": 15,
     "metadata": {},
     "output_type": "execute_result"
    }
   ],
   "source": [
    "education_dict=data[['education_id','education']]\n",
    "education_dict = education_dict.drop_duplicates().reset_index(drop = True)\n",
    "education_dict"
   ]
  },
  {
   "cell_type": "markdown",
   "id": "3e9a57aa",
   "metadata": {},
   "source": [
    "Нелогичное распределение id (логичнее было 0 - начальное, 2- неоконченное высшее, 3 - высшее), нуданесуть "
   ]
  },
  {
   "cell_type": "code",
   "execution_count": 16,
   "id": "259a4b28",
   "metadata": {
    "scrolled": true
   },
   "outputs": [
    {
     "data": {
      "text/html": [
       "<div>\n",
       "<style scoped>\n",
       "    .dataframe tbody tr th:only-of-type {\n",
       "        vertical-align: middle;\n",
       "    }\n",
       "\n",
       "    .dataframe tbody tr th {\n",
       "        vertical-align: top;\n",
       "    }\n",
       "\n",
       "    .dataframe thead th {\n",
       "        text-align: right;\n",
       "    }\n",
       "</style>\n",
       "<table border=\"1\" class=\"dataframe\">\n",
       "  <thead>\n",
       "    <tr style=\"text-align: right;\">\n",
       "      <th></th>\n",
       "      <th>family_status_id</th>\n",
       "      <th>family_status</th>\n",
       "    </tr>\n",
       "  </thead>\n",
       "  <tbody>\n",
       "    <tr>\n",
       "      <th>0</th>\n",
       "      <td>0</td>\n",
       "      <td>женат / замужем</td>\n",
       "    </tr>\n",
       "    <tr>\n",
       "      <th>1</th>\n",
       "      <td>1</td>\n",
       "      <td>гражданский брак</td>\n",
       "    </tr>\n",
       "    <tr>\n",
       "      <th>2</th>\n",
       "      <td>2</td>\n",
       "      <td>вдовец / вдова</td>\n",
       "    </tr>\n",
       "    <tr>\n",
       "      <th>3</th>\n",
       "      <td>3</td>\n",
       "      <td>в разводе</td>\n",
       "    </tr>\n",
       "    <tr>\n",
       "      <th>4</th>\n",
       "      <td>4</td>\n",
       "      <td>Не женат / не замужем</td>\n",
       "    </tr>\n",
       "  </tbody>\n",
       "</table>\n",
       "</div>"
      ],
      "text/plain": [
       "   family_status_id          family_status\n",
       "0                 0        женат / замужем\n",
       "1                 1       гражданский брак\n",
       "2                 2         вдовец / вдова\n",
       "3                 3              в разводе\n",
       "4                 4  Не женат / не замужем"
      ]
     },
     "execution_count": 16,
     "metadata": {},
     "output_type": "execute_result"
    }
   ],
   "source": [
    "family_dict=data[['family_status_id','family_status']]\n",
    "family_dict = family_dict.drop_duplicates().reset_index(drop = True)\n",
    "family_dict"
   ]
  },
  {
   "cell_type": "code",
   "execution_count": 17,
   "id": "8f6ae73a",
   "metadata": {},
   "outputs": [
    {
     "data": {
      "text/html": [
       "<div>\n",
       "<style scoped>\n",
       "    .dataframe tbody tr th:only-of-type {\n",
       "        vertical-align: middle;\n",
       "    }\n",
       "\n",
       "    .dataframe tbody tr th {\n",
       "        vertical-align: top;\n",
       "    }\n",
       "\n",
       "    .dataframe thead th {\n",
       "        text-align: right;\n",
       "    }\n",
       "</style>\n",
       "<table border=\"1\" class=\"dataframe\">\n",
       "  <thead>\n",
       "    <tr style=\"text-align: right;\">\n",
       "      <th></th>\n",
       "      <th>children</th>\n",
       "      <th>days_employed</th>\n",
       "      <th>dob_years</th>\n",
       "      <th>education_id</th>\n",
       "      <th>family_status_id</th>\n",
       "      <th>gender</th>\n",
       "      <th>income_type</th>\n",
       "      <th>debt</th>\n",
       "      <th>total_income</th>\n",
       "      <th>purpose</th>\n",
       "    </tr>\n",
       "  </thead>\n",
       "  <tbody>\n",
       "    <tr>\n",
       "      <th>0</th>\n",
       "      <td>1</td>\n",
       "      <td>8437</td>\n",
       "      <td>42</td>\n",
       "      <td>0</td>\n",
       "      <td>0</td>\n",
       "      <td>F</td>\n",
       "      <td>сотрудник</td>\n",
       "      <td>0</td>\n",
       "      <td>253875</td>\n",
       "      <td>недвижимость</td>\n",
       "    </tr>\n",
       "    <tr>\n",
       "      <th>1</th>\n",
       "      <td>1</td>\n",
       "      <td>4024</td>\n",
       "      <td>36</td>\n",
       "      <td>1</td>\n",
       "      <td>0</td>\n",
       "      <td>F</td>\n",
       "      <td>сотрудник</td>\n",
       "      <td>0</td>\n",
       "      <td>112080</td>\n",
       "      <td>автомобиль</td>\n",
       "    </tr>\n",
       "    <tr>\n",
       "      <th>2</th>\n",
       "      <td>0</td>\n",
       "      <td>5623</td>\n",
       "      <td>33</td>\n",
       "      <td>1</td>\n",
       "      <td>0</td>\n",
       "      <td>M</td>\n",
       "      <td>сотрудник</td>\n",
       "      <td>0</td>\n",
       "      <td>145885</td>\n",
       "      <td>недвижимость</td>\n",
       "    </tr>\n",
       "    <tr>\n",
       "      <th>3</th>\n",
       "      <td>3</td>\n",
       "      <td>4124</td>\n",
       "      <td>32</td>\n",
       "      <td>1</td>\n",
       "      <td>0</td>\n",
       "      <td>M</td>\n",
       "      <td>сотрудник</td>\n",
       "      <td>0</td>\n",
       "      <td>267628</td>\n",
       "      <td>образование</td>\n",
       "    </tr>\n",
       "    <tr>\n",
       "      <th>4</th>\n",
       "      <td>0</td>\n",
       "      <td>14177</td>\n",
       "      <td>53</td>\n",
       "      <td>1</td>\n",
       "      <td>1</td>\n",
       "      <td>F</td>\n",
       "      <td>пенсионер</td>\n",
       "      <td>0</td>\n",
       "      <td>158616</td>\n",
       "      <td>свадьба</td>\n",
       "    </tr>\n",
       "    <tr>\n",
       "      <th>...</th>\n",
       "      <td>...</td>\n",
       "      <td>...</td>\n",
       "      <td>...</td>\n",
       "      <td>...</td>\n",
       "      <td>...</td>\n",
       "      <td>...</td>\n",
       "      <td>...</td>\n",
       "      <td>...</td>\n",
       "      <td>...</td>\n",
       "      <td>...</td>\n",
       "    </tr>\n",
       "    <tr>\n",
       "      <th>21115</th>\n",
       "      <td>1</td>\n",
       "      <td>4529</td>\n",
       "      <td>43</td>\n",
       "      <td>1</td>\n",
       "      <td>1</td>\n",
       "      <td>F</td>\n",
       "      <td>компаньон</td>\n",
       "      <td>0</td>\n",
       "      <td>224791</td>\n",
       "      <td>недвижимость</td>\n",
       "    </tr>\n",
       "    <tr>\n",
       "      <th>21116</th>\n",
       "      <td>0</td>\n",
       "      <td>14330</td>\n",
       "      <td>67</td>\n",
       "      <td>1</td>\n",
       "      <td>0</td>\n",
       "      <td>F</td>\n",
       "      <td>пенсионер</td>\n",
       "      <td>0</td>\n",
       "      <td>155999</td>\n",
       "      <td>автомобиль</td>\n",
       "    </tr>\n",
       "    <tr>\n",
       "      <th>21117</th>\n",
       "      <td>1</td>\n",
       "      <td>2113</td>\n",
       "      <td>38</td>\n",
       "      <td>1</td>\n",
       "      <td>1</td>\n",
       "      <td>M</td>\n",
       "      <td>сотрудник</td>\n",
       "      <td>1</td>\n",
       "      <td>89672</td>\n",
       "      <td>недвижимость</td>\n",
       "    </tr>\n",
       "    <tr>\n",
       "      <th>21118</th>\n",
       "      <td>3</td>\n",
       "      <td>3112</td>\n",
       "      <td>38</td>\n",
       "      <td>1</td>\n",
       "      <td>0</td>\n",
       "      <td>M</td>\n",
       "      <td>сотрудник</td>\n",
       "      <td>1</td>\n",
       "      <td>244093</td>\n",
       "      <td>автомобиль</td>\n",
       "    </tr>\n",
       "    <tr>\n",
       "      <th>21119</th>\n",
       "      <td>2</td>\n",
       "      <td>1984</td>\n",
       "      <td>40</td>\n",
       "      <td>1</td>\n",
       "      <td>0</td>\n",
       "      <td>F</td>\n",
       "      <td>сотрудник</td>\n",
       "      <td>0</td>\n",
       "      <td>82047</td>\n",
       "      <td>автомобиль</td>\n",
       "    </tr>\n",
       "  </tbody>\n",
       "</table>\n",
       "<p>21120 rows × 10 columns</p>\n",
       "</div>"
      ],
      "text/plain": [
       "       children  days_employed  dob_years  education_id  family_status_id  \\\n",
       "0             1           8437         42             0                 0   \n",
       "1             1           4024         36             1                 0   \n",
       "2             0           5623         33             1                 0   \n",
       "3             3           4124         32             1                 0   \n",
       "4             0          14177         53             1                 1   \n",
       "...         ...            ...        ...           ...               ...   \n",
       "21115         1           4529         43             1                 1   \n",
       "21116         0          14330         67             1                 0   \n",
       "21117         1           2113         38             1                 1   \n",
       "21118         3           3112         38             1                 0   \n",
       "21119         2           1984         40             1                 0   \n",
       "\n",
       "      gender income_type  debt  total_income       purpose  \n",
       "0          F   сотрудник     0        253875  недвижимость  \n",
       "1          F   сотрудник     0        112080    автомобиль  \n",
       "2          M   сотрудник     0        145885  недвижимость  \n",
       "3          M   сотрудник     0        267628   образование  \n",
       "4          F   пенсионер     0        158616       свадьба  \n",
       "...      ...         ...   ...           ...           ...  \n",
       "21115      F   компаньон     0        224791  недвижимость  \n",
       "21116      F   пенсионер     0        155999    автомобиль  \n",
       "21117      M   сотрудник     1         89672  недвижимость  \n",
       "21118      M   сотрудник     1        244093    автомобиль  \n",
       "21119      F   сотрудник     0         82047    автомобиль  \n",
       "\n",
       "[21120 rows x 10 columns]"
      ]
     },
     "execution_count": 17,
     "metadata": {},
     "output_type": "execute_result"
    }
   ],
   "source": [
    "#Удалим лишние столбцы из исходной таблицы\n",
    "data=data.drop('education',1)\n",
    "data=data.drop('family_status',1)\n",
    "data\n"
   ]
  },
  {
   "cell_type": "markdown",
   "id": "e894966f",
   "metadata": {},
   "source": [
    "## Категоризация"
   ]
  },
  {
   "cell_type": "markdown",
   "id": "89ad5d33",
   "metadata": {},
   "source": [
    "###  Категоризация дохода."
   ]
  },
  {
   "cell_type": "markdown",
   "id": "6a659a8c",
   "metadata": {},
   "source": [
    "Создадим столбец total_income_category с категориями дохода"
   ]
  },
  {
   "cell_type": "code",
   "execution_count": 18,
   "id": "3d719a04",
   "metadata": {},
   "outputs": [
    {
     "data": {
      "text/html": [
       "<div>\n",
       "<style scoped>\n",
       "    .dataframe tbody tr th:only-of-type {\n",
       "        vertical-align: middle;\n",
       "    }\n",
       "\n",
       "    .dataframe tbody tr th {\n",
       "        vertical-align: top;\n",
       "    }\n",
       "\n",
       "    .dataframe thead th {\n",
       "        text-align: right;\n",
       "    }\n",
       "</style>\n",
       "<table border=\"1\" class=\"dataframe\">\n",
       "  <thead>\n",
       "    <tr style=\"text-align: right;\">\n",
       "      <th></th>\n",
       "      <th>children</th>\n",
       "      <th>days_employed</th>\n",
       "      <th>dob_years</th>\n",
       "      <th>education_id</th>\n",
       "      <th>family_status_id</th>\n",
       "      <th>gender</th>\n",
       "      <th>income_type</th>\n",
       "      <th>debt</th>\n",
       "      <th>total_income</th>\n",
       "      <th>purpose</th>\n",
       "      <th>income_category</th>\n",
       "    </tr>\n",
       "  </thead>\n",
       "  <tbody>\n",
       "    <tr>\n",
       "      <th>10945</th>\n",
       "      <td>1</td>\n",
       "      <td>1851</td>\n",
       "      <td>36</td>\n",
       "      <td>0</td>\n",
       "      <td>1</td>\n",
       "      <td>F</td>\n",
       "      <td>сотрудник</td>\n",
       "      <td>0</td>\n",
       "      <td>1286280</td>\n",
       "      <td>недвижимость</td>\n",
       "      <td>A</td>\n",
       "    </tr>\n",
       "    <tr>\n",
       "      <th>15050</th>\n",
       "      <td>1</td>\n",
       "      <td>10207</td>\n",
       "      <td>64</td>\n",
       "      <td>0</td>\n",
       "      <td>3</td>\n",
       "      <td>M</td>\n",
       "      <td>компаньон</td>\n",
       "      <td>0</td>\n",
       "      <td>1350245</td>\n",
       "      <td>недвижимость</td>\n",
       "      <td>A</td>\n",
       "    </tr>\n",
       "    <tr>\n",
       "      <th>18055</th>\n",
       "      <td>1</td>\n",
       "      <td>3173</td>\n",
       "      <td>41</td>\n",
       "      <td>0</td>\n",
       "      <td>4</td>\n",
       "      <td>F</td>\n",
       "      <td>компаньон</td>\n",
       "      <td>0</td>\n",
       "      <td>1427934</td>\n",
       "      <td>автомобиль</td>\n",
       "      <td>A</td>\n",
       "    </tr>\n",
       "    <tr>\n",
       "      <th>18070</th>\n",
       "      <td>1</td>\n",
       "      <td>333</td>\n",
       "      <td>41</td>\n",
       "      <td>0</td>\n",
       "      <td>1</td>\n",
       "      <td>M</td>\n",
       "      <td>компаньон</td>\n",
       "      <td>0</td>\n",
       "      <td>1551152</td>\n",
       "      <td>свадьба</td>\n",
       "      <td>A</td>\n",
       "    </tr>\n",
       "    <tr>\n",
       "      <th>17229</th>\n",
       "      <td>0</td>\n",
       "      <td>2285</td>\n",
       "      <td>43</td>\n",
       "      <td>1</td>\n",
       "      <td>0</td>\n",
       "      <td>M</td>\n",
       "      <td>компаньон</td>\n",
       "      <td>0</td>\n",
       "      <td>1597613</td>\n",
       "      <td>недвижимость</td>\n",
       "      <td>A</td>\n",
       "    </tr>\n",
       "    <tr>\n",
       "      <th>16914</th>\n",
       "      <td>0</td>\n",
       "      <td>5734</td>\n",
       "      <td>42</td>\n",
       "      <td>0</td>\n",
       "      <td>1</td>\n",
       "      <td>M</td>\n",
       "      <td>компаньон</td>\n",
       "      <td>0</td>\n",
       "      <td>1711309</td>\n",
       "      <td>свадьба</td>\n",
       "      <td>A</td>\n",
       "    </tr>\n",
       "    <tr>\n",
       "      <th>20423</th>\n",
       "      <td>0</td>\n",
       "      <td>4719</td>\n",
       "      <td>61</td>\n",
       "      <td>1</td>\n",
       "      <td>4</td>\n",
       "      <td>F</td>\n",
       "      <td>сотрудник</td>\n",
       "      <td>0</td>\n",
       "      <td>1715018</td>\n",
       "      <td>недвижимость</td>\n",
       "      <td>A</td>\n",
       "    </tr>\n",
       "    <tr>\n",
       "      <th>9082</th>\n",
       "      <td>1</td>\n",
       "      <td>5248</td>\n",
       "      <td>35</td>\n",
       "      <td>1</td>\n",
       "      <td>1</td>\n",
       "      <td>M</td>\n",
       "      <td>сотрудник</td>\n",
       "      <td>0</td>\n",
       "      <td>1726276</td>\n",
       "      <td>образование</td>\n",
       "      <td>A</td>\n",
       "    </tr>\n",
       "    <tr>\n",
       "      <th>19265</th>\n",
       "      <td>1</td>\n",
       "      <td>2577</td>\n",
       "      <td>39</td>\n",
       "      <td>0</td>\n",
       "      <td>0</td>\n",
       "      <td>M</td>\n",
       "      <td>компаньон</td>\n",
       "      <td>1</td>\n",
       "      <td>2200852</td>\n",
       "      <td>недвижимость</td>\n",
       "      <td>A</td>\n",
       "    </tr>\n",
       "    <tr>\n",
       "      <th>12262</th>\n",
       "      <td>0</td>\n",
       "      <td>1477</td>\n",
       "      <td>44</td>\n",
       "      <td>0</td>\n",
       "      <td>0</td>\n",
       "      <td>M</td>\n",
       "      <td>компаньон</td>\n",
       "      <td>0</td>\n",
       "      <td>2265604</td>\n",
       "      <td>недвижимость</td>\n",
       "      <td>A</td>\n",
       "    </tr>\n",
       "  </tbody>\n",
       "</table>\n",
       "</div>"
      ],
      "text/plain": [
       "       children  days_employed  dob_years  education_id  family_status_id  \\\n",
       "10945         1           1851         36             0                 1   \n",
       "15050         1          10207         64             0                 3   \n",
       "18055         1           3173         41             0                 4   \n",
       "18070         1            333         41             0                 1   \n",
       "17229         0           2285         43             1                 0   \n",
       "16914         0           5734         42             0                 1   \n",
       "20423         0           4719         61             1                 4   \n",
       "9082          1           5248         35             1                 1   \n",
       "19265         1           2577         39             0                 0   \n",
       "12262         0           1477         44             0                 0   \n",
       "\n",
       "      gender income_type  debt  total_income       purpose income_category  \n",
       "10945      F   сотрудник     0       1286280  недвижимость               A  \n",
       "15050      M   компаньон     0       1350245  недвижимость               A  \n",
       "18055      F   компаньон     0       1427934    автомобиль               A  \n",
       "18070      M   компаньон     0       1551152       свадьба               A  \n",
       "17229      M   компаньон     0       1597613  недвижимость               A  \n",
       "16914      M   компаньон     0       1711309       свадьба               A  \n",
       "20423      F   сотрудник     0       1715018  недвижимость               A  \n",
       "9082       M   сотрудник     0       1726276   образование               A  \n",
       "19265      M   компаньон     1       2200852  недвижимость               A  \n",
       "12262      M   компаньон     0       2265604  недвижимость               A  "
      ]
     },
     "execution_count": 18,
     "metadata": {},
     "output_type": "execute_result"
    }
   ],
   "source": [
    "def income_category(row): #Функция, определяющая категорию дохода\n",
    "    income = row['total_income']\n",
    "    if income <=30000:\n",
    "        category='E'    \n",
    "    elif income <=50000:\n",
    "        category='D'    \n",
    "    elif income <=200000:\n",
    "        category='C'  \n",
    "    elif income <=1000000:\n",
    "        category='B'    \n",
    "    else:\n",
    "        category='A'    \n",
    "    return category\n",
    "data['income_category']=data.apply(income_category, axis=1)\n",
    "data.sort_values(by='total_income').head(10)\n",
    "data.sort_values(by='total_income').tail(10)\n",
    "#Выглядит правильно. В отсортированной по доходу таблице в начале категория \"Е\", в конце \"А\""
   ]
  },
  {
   "cell_type": "markdown",
   "id": "0df8bc6a",
   "metadata": {},
   "source": [
    "###  Категоризация целей кредита."
   ]
  },
  {
   "cell_type": "code",
   "execution_count": 19,
   "id": "a09afb77",
   "metadata": {},
   "outputs": [
    {
     "data": {
      "text/html": [
       "<div>\n",
       "<style scoped>\n",
       "    .dataframe tbody tr th:only-of-type {\n",
       "        vertical-align: middle;\n",
       "    }\n",
       "\n",
       "    .dataframe tbody tr th {\n",
       "        vertical-align: top;\n",
       "    }\n",
       "\n",
       "    .dataframe thead tr th {\n",
       "        text-align: left;\n",
       "    }\n",
       "\n",
       "    .dataframe thead tr:last-of-type th {\n",
       "        text-align: right;\n",
       "    }\n",
       "</style>\n",
       "<table border=\"1\" class=\"dataframe\">\n",
       "  <thead>\n",
       "    <tr>\n",
       "      <th></th>\n",
       "      <th></th>\n",
       "      <th>debt</th>\n",
       "    </tr>\n",
       "    <tr>\n",
       "      <th></th>\n",
       "      <th></th>\n",
       "      <th>count</th>\n",
       "    </tr>\n",
       "    <tr>\n",
       "      <th>children</th>\n",
       "      <th>debt</th>\n",
       "      <th></th>\n",
       "    </tr>\n",
       "  </thead>\n",
       "  <tbody>\n",
       "    <tr>\n",
       "      <th rowspan=\"2\" valign=\"top\">0</th>\n",
       "      <th>0</th>\n",
       "      <td>12768</td>\n",
       "    </tr>\n",
       "    <tr>\n",
       "      <th>1</th>\n",
       "      <td>1061</td>\n",
       "    </tr>\n",
       "    <tr>\n",
       "      <th rowspan=\"2\" valign=\"top\">1</th>\n",
       "      <th>0</th>\n",
       "      <td>4353</td>\n",
       "    </tr>\n",
       "    <tr>\n",
       "      <th>1</th>\n",
       "      <td>445</td>\n",
       "    </tr>\n",
       "    <tr>\n",
       "      <th rowspan=\"2\" valign=\"top\">2</th>\n",
       "      <th>0</th>\n",
       "      <td>1913</td>\n",
       "    </tr>\n",
       "    <tr>\n",
       "      <th>1</th>\n",
       "      <td>202</td>\n",
       "    </tr>\n",
       "    <tr>\n",
       "      <th rowspan=\"2\" valign=\"top\">3</th>\n",
       "      <th>0</th>\n",
       "      <td>302</td>\n",
       "    </tr>\n",
       "    <tr>\n",
       "      <th>1</th>\n",
       "      <td>27</td>\n",
       "    </tr>\n",
       "    <tr>\n",
       "      <th rowspan=\"2\" valign=\"top\">4</th>\n",
       "      <th>0</th>\n",
       "      <td>36</td>\n",
       "    </tr>\n",
       "    <tr>\n",
       "      <th>1</th>\n",
       "      <td>4</td>\n",
       "    </tr>\n",
       "    <tr>\n",
       "      <th>5</th>\n",
       "      <th>0</th>\n",
       "      <td>9</td>\n",
       "    </tr>\n",
       "  </tbody>\n",
       "</table>\n",
       "</div>"
      ],
      "text/plain": [
       "                debt\n",
       "               count\n",
       "children debt       \n",
       "0        0     12768\n",
       "         1      1061\n",
       "1        0      4353\n",
       "         1       445\n",
       "2        0      1913\n",
       "         1       202\n",
       "3        0       302\n",
       "         1        27\n",
       "4        0        36\n",
       "         1         4\n",
       "5        0         9"
      ]
     },
     "execution_count": 19,
     "metadata": {},
     "output_type": "execute_result"
    }
   ],
   "source": [
    "#Создадим таблицу, демонстрирующую зависимость между количеством детей и наличием долга\n",
    "debt_and_children = data.groupby(['children','debt']).agg({'debt':[\"count\"]})\n",
    "debt_and_children"
   ]
  },
  {
   "cell_type": "markdown",
   "id": "9159034d",
   "metadata": {},
   "source": [
    "Таблица недостаточно наглядна,хотя в ней уже есть необходимые данные. Но интереснее сразу посмотреть на процент должников от общего числа клиентов"
   ]
  },
  {
   "cell_type": "markdown",
   "id": "b0eb5611",
   "metadata": {},
   "source": [
    "## Необходимые расчёты"
   ]
  },
  {
   "cell_type": "code",
   "execution_count": 20,
   "id": "79875414",
   "metadata": {},
   "outputs": [
    {
     "data": {
      "text/plain": [
       "children\n",
       "0     7.672283\n",
       "1     9.274698\n",
       "2     9.550827\n",
       "3     8.206687\n",
       "4    10.000000\n",
       "5     0.000000\n",
       "Name: debt, dtype: float64"
      ]
     },
     "execution_count": 20,
     "metadata": {},
     "output_type": "execute_result"
    }
   ],
   "source": [
    "debtors=data.groupby('children')['debt'].sum()\n",
    "clients=data.groupby('children')['debt'].count()\n",
    "percentage=debtors*100/clients\n",
    "percentage\n"
   ]
  },
  {
   "cell_type": "markdown",
   "id": "e42be973",
   "metadata": {},
   "source": [
    "Итак, с увеличением числа детей вероятность не отдать долг растёт. Выпадает только результат для клиентов с 5 детьми. Это объяснимо малой выборкой: таких клиентов было всего 9.\n",
    "\n",
    "Аналогично для других пунктов"
   ]
  },
  {
   "cell_type": "code",
   "execution_count": 21,
   "id": "ad86fd8d",
   "metadata": {},
   "outputs": [
    {
     "data": {
      "text/plain": [
       "family_status_id\n",
       "0    7.692945\n",
       "1    9.408341\n",
       "2    6.680806\n",
       "3    7.124895\n",
       "4    9.841954\n",
       "Name: debt, dtype: float64"
      ]
     },
     "execution_count": 21,
     "metadata": {},
     "output_type": "execute_result"
    }
   ],
   "source": [
    "debtors=data.groupby('family_status_id')['debt'].sum()\n",
    "clients=data.groupby('family_status_id')['debt'].count()\n",
    "percentage=debtors*100/clients\n",
    "percentage"
   ]
  },
  {
   "cell_type": "code",
   "execution_count": 22,
   "id": "c87db25c",
   "metadata": {},
   "outputs": [
    {
     "data": {
      "text/plain": [
       "income_category\n",
       "A    8.000000\n",
       "B    7.062091\n",
       "C    8.659610\n",
       "D    6.000000\n",
       "E    9.090909\n",
       "Name: debt, dtype: float64"
      ]
     },
     "execution_count": 22,
     "metadata": {},
     "output_type": "execute_result"
    }
   ],
   "source": [
    "debtors=data.groupby('income_category')['debt'].sum()\n",
    "clients=data.groupby('income_category')['debt'].count()\n",
    "percentage=debtors*100/clients\n",
    "percentage"
   ]
  },
  {
   "cell_type": "code",
   "execution_count": 23,
   "id": "70ffba92",
   "metadata": {},
   "outputs": [
    {
     "data": {
      "text/plain": [
       "purpose\n",
       "автомобиль      9.410112\n",
       "недвижимость    7.383248\n",
       "образование     9.334006\n",
       "свадьба         8.065915\n",
       "Name: debt, dtype: float64"
      ]
     },
     "execution_count": 23,
     "metadata": {},
     "output_type": "execute_result"
    }
   ],
   "source": [
    "debtors=data.groupby('purpose')['debt'].sum()\n",
    "clients=data.groupby('purpose')['debt'].count()\n",
    "percentage=debtors*100/clients\n",
    "percentage"
   ]
  },
  {
   "cell_type": "markdown",
   "id": "1dae48ea",
   "metadata": {},
   "source": [
    "## Ответы на вопросы."
   ]
  },
  {
   "cell_type": "markdown",
   "id": "95ab97e7",
   "metadata": {},
   "source": [
    "### Есть ли зависимость между количеством детей и возвратом кредита в срок?\n",
    "\n",
    "Да. С увеличением числа детей вырастает вероятность, что человек не вернёт кредит в срок\n",
    "\n",
    "### Есть ли зависимость между семейным положением и возвратом кредита в срок?\n",
    "Чаще всего должниками становятся люди, состоящие в гражданском браке (9,4%) и неженатые (незамужние). Реже всего - вдовствующие\n",
    "\n",
    "### Есть ли зависимость между уровнем дохода и возвратом кредита в срок?\n",
    "Как ни странно, прямой зависимости нет. Реже всего кредит возвращают вовремя люди с самым низким доходом (что логично), но далее зависимость идёт нелинейно.  Чаще всего вовремя отдают люди с доходом категории D.\n",
    "\n",
    "### Как разные цели кредита влияют на его возврат в срок?\n",
    "Чаще всего вовремя отдают кредиты, взятые на операции с недвижимостью. Реже всего -  на образование и операции с автомобилями"
   ]
  },
  {
   "cell_type": "markdown",
   "id": "1ae40d68",
   "metadata": {},
   "source": [
    "### Вывод \n",
    "Наиболее безопасными для банка заёмщиками являются вдовствующие клиенты без детей со средним доходом, берущие кредит на операции с недвижимостью"
   ]
  },
  {
   "cell_type": "markdown",
   "id": "8aec5c3a",
   "metadata": {},
   "source": [
    "## Общий вывод:"
   ]
  },
  {
   "cell_type": "markdown",
   "id": "cfe2dde8",
   "metadata": {},
   "source": [
    "<strike>Оторвать руки тому</strike> Отправить в срочный отпуск человека, который составлял эту таблицу. Большая часть данных так или иначе повреждена, и восстановлена исключительно из моих предположений, что там могло быть. Я бы не рекомендовала делать сколько-нибудь серьёзные выводы по этим результатам и основывать на них какие бы то ни было решения.\n",
    "\n",
    "Выводы, которые можно сделать на основании этих данных:\n",
    "### Влияние количества детей:\n",
    "По предоставленным данным, невовремя вернули кредит: 7.7% клиентов без детей; 9.3% - с одним ребёнком; 9.6% - с двумя; 8.2%  - с тремя; 10% - с четырьмя. Все клиенты с 5 детьми вернули кредит вовремя, однако для них выборка крайне мала: 9 человек.  \n",
    "Вывод: С увеличением числа детей вырастает вероятность, что клиент не вернёт кредит в срок\n",
    "\n",
    "### Влияние семейного положения:\n",
    "По предоставленным данным, невовремя вернули кредит:7.7% клиентов, состоящих в браке; 9.4% клиентов в гражданском браке; 6.7% вдовствующих клиентов; 7.1% клиентов в разводе; 9.8% не женатых/не замужних.  \n",
    "Вывод: Чаще всего должниками становятся люди, состоящие в гражданском браке и неженатые (незамужние). Реже всего - вдовствующие\n",
    "\n",
    "###  Влияние уровней дохода: \n",
    "По предоставленным данным, невовремя вернули кредит: 8% клиентов с категорией доходов А; 7% - с категорией дохода B; 8.7% - с категорией дохода C; 6% - с категорией дохода D; 9% - с категорией дохода E.  \n",
    "Вывод: прямой зависимости нет. Реже всего кредит возвращают вовремя люди с самым низким доходом, но далее зависимость идёт нелинейно. Чаще всего вовремя отдают люди с доходом категории D.\n",
    "\n",
    "### Влияние целей кредита:\n",
    "По предоставленным данным, невовремя вернули кредит: 9.4% клиентов, взявших его на операции с автомобилем; 7.4% - на операции с недвижимостью; 9.3% - на образование; 8.1% - на свадьбу. \n",
    "Вывод: Чаще всего вовремя отдают кредиты, взятые на операции с недвижимостью. Реже всего - на образование и операции с автомобилями"
   ]
  },
  {
   "cell_type": "code",
   "execution_count": null,
   "id": "f1ea6549",
   "metadata": {},
   "outputs": [],
   "source": []
  }
 ],
 "metadata": {
  "ExecuteTimeLog": [
   {
    "duration": 609,
    "start_time": "2022-04-11T06:17:26.095Z"
   },
   {
    "duration": 14,
    "start_time": "2022-04-11T06:51:05.395Z"
   },
   {
    "duration": 6,
    "start_time": "2022-04-11T06:52:22.956Z"
   },
   {
    "duration": 98,
    "start_time": "2022-04-11T07:02:44.920Z"
   },
   {
    "duration": 6,
    "start_time": "2022-04-11T07:04:17.498Z"
   },
   {
    "duration": 7,
    "start_time": "2022-04-11T07:04:40.643Z"
   },
   {
    "duration": 107,
    "start_time": "2022-04-11T07:04:57.820Z"
   },
   {
    "duration": 6,
    "start_time": "2022-04-11T07:05:01.064Z"
   },
   {
    "duration": 8,
    "start_time": "2022-04-11T07:11:25.258Z"
   },
   {
    "duration": 7,
    "start_time": "2022-04-11T07:11:45.373Z"
   },
   {
    "duration": 120,
    "start_time": "2022-04-11T10:22:07.710Z"
   },
   {
    "duration": 61,
    "start_time": "2022-04-11T10:22:22.923Z"
   },
   {
    "duration": 903,
    "start_time": "2022-04-11T10:22:35.029Z"
   },
   {
    "duration": 22,
    "start_time": "2022-04-11T10:22:40.760Z"
   },
   {
    "duration": 120,
    "start_time": "2022-04-11T10:22:44.919Z"
   },
   {
    "duration": 6,
    "start_time": "2022-04-11T10:23:31.595Z"
   },
   {
    "duration": 5,
    "start_time": "2022-04-11T10:23:33.038Z"
   },
   {
    "duration": 5,
    "start_time": "2022-04-11T10:23:34.832Z"
   },
   {
    "duration": 4,
    "start_time": "2022-04-11T10:23:38.829Z"
   },
   {
    "duration": 8,
    "start_time": "2022-04-11T10:23:54.142Z"
   },
   {
    "duration": 43,
    "start_time": "2022-04-11T15:19:42.140Z"
   },
   {
    "duration": 432,
    "start_time": "2022-04-11T15:19:46.822Z"
   },
   {
    "duration": 9,
    "start_time": "2022-04-11T15:19:50.365Z"
   },
   {
    "duration": 9,
    "start_time": "2022-04-11T15:19:53.173Z"
   },
   {
    "duration": 7,
    "start_time": "2022-04-11T15:20:43.461Z"
   },
   {
    "duration": 7,
    "start_time": "2022-04-11T15:20:47.806Z"
   },
   {
    "duration": 7,
    "start_time": "2022-04-11T15:20:51.104Z"
   },
   {
    "duration": 7,
    "start_time": "2022-04-11T15:20:53.853Z"
   },
   {
    "duration": 7,
    "start_time": "2022-04-11T15:20:55.584Z"
   },
   {
    "duration": 8,
    "start_time": "2022-04-11T15:21:11.496Z"
   },
   {
    "duration": 12,
    "start_time": "2022-04-11T15:26:28.394Z"
   },
   {
    "duration": 11,
    "start_time": "2022-04-11T15:28:38.274Z"
   },
   {
    "duration": 13,
    "start_time": "2022-04-11T15:28:46.132Z"
   },
   {
    "duration": 12,
    "start_time": "2022-04-11T15:29:01.645Z"
   },
   {
    "duration": 13,
    "start_time": "2022-04-11T15:30:10.553Z"
   },
   {
    "duration": 12,
    "start_time": "2022-04-11T15:30:16.739Z"
   },
   {
    "duration": 12,
    "start_time": "2022-04-11T15:30:38.972Z"
   },
   {
    "duration": 12,
    "start_time": "2022-04-11T15:31:04.776Z"
   },
   {
    "duration": 12,
    "start_time": "2022-04-11T15:31:14.760Z"
   },
   {
    "duration": 11,
    "start_time": "2022-04-11T15:31:39.405Z"
   },
   {
    "duration": 13,
    "start_time": "2022-04-11T15:32:57.254Z"
   },
   {
    "duration": 12,
    "start_time": "2022-04-11T15:33:10.182Z"
   },
   {
    "duration": 12,
    "start_time": "2022-04-11T15:33:41.194Z"
   },
   {
    "duration": 13,
    "start_time": "2022-04-11T15:33:56.497Z"
   },
   {
    "duration": 12,
    "start_time": "2022-04-11T15:34:29.108Z"
   },
   {
    "duration": 13,
    "start_time": "2022-04-11T15:34:44.073Z"
   },
   {
    "duration": 12,
    "start_time": "2022-04-11T15:35:04.521Z"
   },
   {
    "duration": 12,
    "start_time": "2022-04-11T15:35:28.762Z"
   },
   {
    "duration": 12,
    "start_time": "2022-04-11T15:35:55.345Z"
   },
   {
    "duration": 13,
    "start_time": "2022-04-11T15:36:14.008Z"
   },
   {
    "duration": 12,
    "start_time": "2022-04-11T15:36:25.402Z"
   },
   {
    "duration": 13,
    "start_time": "2022-04-11T15:37:01.083Z"
   },
   {
    "duration": 12,
    "start_time": "2022-04-11T15:37:51.861Z"
   },
   {
    "duration": 11,
    "start_time": "2022-04-11T15:38:06.669Z"
   },
   {
    "duration": 12,
    "start_time": "2022-04-11T15:38:24.464Z"
   },
   {
    "duration": 13,
    "start_time": "2022-04-11T15:38:48.544Z"
   },
   {
    "duration": 13,
    "start_time": "2022-04-11T15:39:05.740Z"
   },
   {
    "duration": 13,
    "start_time": "2022-04-11T15:39:12.951Z"
   },
   {
    "duration": 83,
    "start_time": "2022-04-11T20:36:47.751Z"
   },
   {
    "duration": 15,
    "start_time": "2022-04-11T20:36:53.425Z"
   },
   {
    "duration": 11,
    "start_time": "2022-04-11T20:38:15.816Z"
   },
   {
    "duration": 786,
    "start_time": "2022-04-11T20:40:21.220Z"
   },
   {
    "duration": 15,
    "start_time": "2022-04-11T20:40:25.576Z"
   },
   {
    "duration": 19,
    "start_time": "2022-04-11T20:40:31.032Z"
   },
   {
    "duration": 17,
    "start_time": "2022-04-11T20:42:43.631Z"
   },
   {
    "duration": 11,
    "start_time": "2022-04-11T20:44:07.512Z"
   },
   {
    "duration": 657,
    "start_time": "2022-04-13T07:46:10.649Z"
   },
   {
    "duration": 23,
    "start_time": "2022-04-13T07:54:07.570Z"
   },
   {
    "duration": 482,
    "start_time": "2022-04-13T21:02:46.492Z"
   },
   {
    "duration": 19,
    "start_time": "2022-04-13T21:02:52.159Z"
   },
   {
    "duration": 10,
    "start_time": "2022-04-13T21:05:33.515Z"
   },
   {
    "duration": 11,
    "start_time": "2022-04-13T21:05:46.672Z"
   },
   {
    "duration": 9,
    "start_time": "2022-04-13T21:08:19.607Z"
   },
   {
    "duration": 28,
    "start_time": "2022-04-13T21:12:26.661Z"
   },
   {
    "duration": 25,
    "start_time": "2022-04-13T21:17:52.639Z"
   },
   {
    "duration": 19,
    "start_time": "2022-04-13T21:18:15.330Z"
   },
   {
    "duration": 22,
    "start_time": "2022-04-13T21:25:44.268Z"
   },
   {
    "duration": 24,
    "start_time": "2022-04-13T21:26:43.842Z"
   },
   {
    "duration": 23,
    "start_time": "2022-04-13T21:27:51.380Z"
   },
   {
    "duration": 22,
    "start_time": "2022-04-13T21:28:17.373Z"
   },
   {
    "duration": 21,
    "start_time": "2022-04-13T21:29:16.704Z"
   },
   {
    "duration": 28,
    "start_time": "2022-04-13T21:31:42.234Z"
   },
   {
    "duration": 25,
    "start_time": "2022-04-13T21:32:15.578Z"
   },
   {
    "duration": 26,
    "start_time": "2022-04-13T21:32:23.022Z"
   },
   {
    "duration": 33,
    "start_time": "2022-04-13T21:32:30.078Z"
   },
   {
    "duration": 32,
    "start_time": "2022-04-13T21:32:38.345Z"
   },
   {
    "duration": 32,
    "start_time": "2022-04-13T21:32:43.641Z"
   },
   {
    "duration": 33,
    "start_time": "2022-04-13T21:32:51.247Z"
   },
   {
    "duration": 30,
    "start_time": "2022-04-13T21:32:56.132Z"
   },
   {
    "duration": 31,
    "start_time": "2022-04-13T21:33:01.062Z"
   },
   {
    "duration": 29,
    "start_time": "2022-04-13T21:33:07.858Z"
   },
   {
    "duration": 30,
    "start_time": "2022-04-13T21:33:12.818Z"
   },
   {
    "duration": 34,
    "start_time": "2022-04-13T21:33:19.730Z"
   },
   {
    "duration": 36,
    "start_time": "2022-04-13T21:33:48.260Z"
   },
   {
    "duration": 34,
    "start_time": "2022-04-13T21:34:14.184Z"
   },
   {
    "duration": 34,
    "start_time": "2022-04-13T21:45:08.751Z"
   },
   {
    "duration": 31,
    "start_time": "2022-04-13T21:45:41.727Z"
   },
   {
    "duration": 34,
    "start_time": "2022-04-13T21:46:23.974Z"
   },
   {
    "duration": 40,
    "start_time": "2022-04-13T21:46:35.615Z"
   },
   {
    "duration": 37,
    "start_time": "2022-04-13T21:46:45.009Z"
   },
   {
    "duration": 33,
    "start_time": "2022-04-13T21:46:53.220Z"
   },
   {
    "duration": 33,
    "start_time": "2022-04-13T21:47:03.956Z"
   },
   {
    "duration": 35,
    "start_time": "2022-04-13T21:48:46.385Z"
   },
   {
    "duration": 36,
    "start_time": "2022-04-13T21:49:44.348Z"
   },
   {
    "duration": 51,
    "start_time": "2022-04-13T21:50:44.806Z"
   },
   {
    "duration": 32,
    "start_time": "2022-04-13T21:50:59.355Z"
   },
   {
    "duration": 3,
    "start_time": "2022-04-13T21:52:55.810Z"
   },
   {
    "duration": 5,
    "start_time": "2022-04-13T21:55:58.893Z"
   },
   {
    "duration": 6,
    "start_time": "2022-04-13T22:15:58.616Z"
   },
   {
    "duration": 5,
    "start_time": "2022-04-13T22:16:23.077Z"
   },
   {
    "duration": 6,
    "start_time": "2022-04-13T22:17:33.406Z"
   },
   {
    "duration": 8,
    "start_time": "2022-04-13T22:18:24.636Z"
   },
   {
    "duration": 8,
    "start_time": "2022-04-13T22:18:51.487Z"
   },
   {
    "duration": 8,
    "start_time": "2022-04-13T22:18:54.321Z"
   },
   {
    "duration": 9,
    "start_time": "2022-04-13T22:19:20.916Z"
   },
   {
    "duration": 13,
    "start_time": "2022-04-13T22:23:10.389Z"
   },
   {
    "duration": 1422,
    "start_time": "2022-04-13T22:23:57.880Z"
   },
   {
    "duration": 14,
    "start_time": "2022-04-13T22:24:14.123Z"
   },
   {
    "duration": 19,
    "start_time": "2022-04-13T22:24:44.755Z"
   },
   {
    "duration": 17,
    "start_time": "2022-04-13T22:25:18.665Z"
   },
   {
    "duration": 18,
    "start_time": "2022-04-13T22:25:22.894Z"
   },
   {
    "duration": 20,
    "start_time": "2022-04-13T22:25:42.478Z"
   },
   {
    "duration": 13,
    "start_time": "2022-04-13T22:26:14.533Z"
   },
   {
    "duration": 13,
    "start_time": "2022-04-13T22:26:23.242Z"
   },
   {
    "duration": 14,
    "start_time": "2022-04-13T22:26:38.188Z"
   },
   {
    "duration": 13,
    "start_time": "2022-04-13T22:26:51.922Z"
   },
   {
    "duration": 17,
    "start_time": "2022-04-13T22:27:34.307Z"
   },
   {
    "duration": 27,
    "start_time": "2022-04-13T22:35:41.486Z"
   },
   {
    "duration": 29,
    "start_time": "2022-04-13T22:36:09.299Z"
   },
   {
    "duration": 18,
    "start_time": "2022-04-13T22:36:28.951Z"
   },
   {
    "duration": 473,
    "start_time": "2022-04-16T20:21:22.694Z"
   },
   {
    "duration": 11,
    "start_time": "2022-04-16T20:21:25.916Z"
   },
   {
    "duration": 32,
    "start_time": "2022-04-16T20:21:30.210Z"
   },
   {
    "duration": 30,
    "start_time": "2022-04-16T20:21:36.757Z"
   },
   {
    "duration": 16,
    "start_time": "2022-04-16T20:21:42.052Z"
   },
   {
    "duration": 4,
    "start_time": "2022-04-16T20:36:00.395Z"
   },
   {
    "duration": 299,
    "start_time": "2022-04-16T20:40:06.968Z"
   },
   {
    "duration": 7,
    "start_time": "2022-04-16T20:40:20.245Z"
   },
   {
    "duration": 6,
    "start_time": "2022-04-16T20:40:23.250Z"
   },
   {
    "duration": 29,
    "start_time": "2022-04-16T20:43:21.561Z"
   },
   {
    "duration": 13,
    "start_time": "2022-04-16T20:45:00.347Z"
   },
   {
    "duration": 10,
    "start_time": "2022-04-16T20:51:13.096Z"
   },
   {
    "duration": 28,
    "start_time": "2022-04-16T20:51:38.540Z"
   },
   {
    "duration": 30,
    "start_time": "2022-04-16T20:51:53.782Z"
   },
   {
    "duration": 18,
    "start_time": "2022-04-16T20:56:26.038Z"
   },
   {
    "duration": 29,
    "start_time": "2022-04-16T20:56:34.508Z"
   },
   {
    "duration": 223,
    "start_time": "2022-04-16T21:00:02.711Z"
   },
   {
    "duration": 7,
    "start_time": "2022-04-16T21:00:18.885Z"
   },
   {
    "duration": 7,
    "start_time": "2022-04-16T21:01:10.896Z"
   },
   {
    "duration": 155,
    "start_time": "2022-04-16T21:03:00.409Z"
   },
   {
    "duration": 152,
    "start_time": "2022-04-16T21:03:52.147Z"
   },
   {
    "duration": 147,
    "start_time": "2022-04-16T21:04:22.674Z"
   },
   {
    "duration": 150,
    "start_time": "2022-04-16T21:06:14.189Z"
   },
   {
    "duration": 157,
    "start_time": "2022-04-16T21:06:39.279Z"
   },
   {
    "duration": 176,
    "start_time": "2022-04-16T21:07:11.879Z"
   },
   {
    "duration": 163,
    "start_time": "2022-04-16T21:08:45.881Z"
   },
   {
    "duration": 160,
    "start_time": "2022-04-16T21:09:06.899Z"
   },
   {
    "duration": 149,
    "start_time": "2022-04-16T21:12:47.572Z"
   },
   {
    "duration": 16,
    "start_time": "2022-04-17T11:32:44.898Z"
   },
   {
    "duration": 16,
    "start_time": "2022-04-17T11:33:03.158Z"
   },
   {
    "duration": 974,
    "start_time": "2022-04-17T11:38:21.839Z"
   },
   {
    "duration": 834,
    "start_time": "2022-04-17T11:41:10.800Z"
   },
   {
    "duration": 865,
    "start_time": "2022-04-17T12:13:44.787Z"
   },
   {
    "duration": 820,
    "start_time": "2022-04-17T12:19:57.966Z"
   },
   {
    "duration": 2783,
    "start_time": "2022-04-17T12:20:30.681Z"
   },
   {
    "duration": 1186,
    "start_time": "2022-04-17T12:20:36.063Z"
   },
   {
    "duration": 8,
    "start_time": "2022-04-17T12:29:09.418Z"
   },
   {
    "duration": 819,
    "start_time": "2022-04-17T12:29:23.655Z"
   },
   {
    "duration": 29,
    "start_time": "2022-04-17T12:32:24.360Z"
   },
   {
    "duration": 1154,
    "start_time": "2022-04-17T12:34:39.806Z"
   },
   {
    "duration": 24,
    "start_time": "2022-04-17T12:36:44.003Z"
   },
   {
    "duration": 22,
    "start_time": "2022-04-17T12:37:27.002Z"
   },
   {
    "duration": 15,
    "start_time": "2022-04-17T12:37:49.356Z"
   },
   {
    "duration": 44,
    "start_time": "2022-04-17T12:37:51.648Z"
   },
   {
    "duration": 43,
    "start_time": "2022-04-17T12:37:55.676Z"
   },
   {
    "duration": 23,
    "start_time": "2022-04-17T12:37:58.435Z"
   },
   {
    "duration": 871,
    "start_time": "2022-04-17T12:38:02.302Z"
   },
   {
    "duration": 20,
    "start_time": "2022-04-17T12:38:07.195Z"
   },
   {
    "duration": 19,
    "start_time": "2022-04-17T12:38:10.148Z"
   },
   {
    "duration": 40,
    "start_time": "2022-04-17T12:38:27.120Z"
   },
   {
    "duration": 53,
    "start_time": "2022-04-17T12:38:31.874Z"
   },
   {
    "duration": 57,
    "start_time": "2022-04-17T12:38:48.407Z"
   },
   {
    "duration": 59,
    "start_time": "2022-04-17T12:39:05.198Z"
   },
   {
    "duration": 26,
    "start_time": "2022-04-17T12:40:25.059Z"
   },
   {
    "duration": 859,
    "start_time": "2022-04-17T12:42:22.861Z"
   },
   {
    "duration": 7,
    "start_time": "2022-04-17T12:43:46.253Z"
   },
   {
    "duration": 34,
    "start_time": "2022-04-17T12:44:58.322Z"
   },
   {
    "duration": 26,
    "start_time": "2022-04-17T12:45:06.081Z"
   },
   {
    "duration": 44,
    "start_time": "2022-04-17T12:45:52.451Z"
   },
   {
    "duration": 35,
    "start_time": "2022-04-17T12:46:17.133Z"
   },
   {
    "duration": 24,
    "start_time": "2022-04-17T12:46:48.686Z"
   },
   {
    "duration": 874,
    "start_time": "2022-04-17T12:47:34.327Z"
   },
   {
    "duration": 850,
    "start_time": "2022-04-17T12:47:45.329Z"
   },
   {
    "duration": 933,
    "start_time": "2022-04-17T12:48:01.612Z"
   },
   {
    "duration": 24,
    "start_time": "2022-04-17T12:48:26.397Z"
   },
   {
    "duration": 862,
    "start_time": "2022-04-17T12:48:49.987Z"
   },
   {
    "duration": 21,
    "start_time": "2022-04-17T12:49:09.046Z"
   },
   {
    "duration": 9,
    "start_time": "2022-04-17T12:50:47.439Z"
   },
   {
    "duration": 25,
    "start_time": "2022-04-17T12:50:56.272Z"
   },
   {
    "duration": 844,
    "start_time": "2022-04-17T12:51:50.276Z"
   },
   {
    "duration": 849,
    "start_time": "2022-04-17T12:52:26.522Z"
   },
   {
    "duration": 821,
    "start_time": "2022-04-17T12:52:56.845Z"
   },
   {
    "duration": 912,
    "start_time": "2022-04-17T12:53:04.771Z"
   },
   {
    "duration": 229,
    "start_time": "2022-04-17T12:56:23.027Z"
   },
   {
    "duration": 268,
    "start_time": "2022-04-17T12:56:34.182Z"
   },
   {
    "duration": 254,
    "start_time": "2022-04-17T12:57:08.856Z"
   },
   {
    "duration": 418,
    "start_time": "2022-04-17T12:57:25.668Z"
   },
   {
    "duration": 407,
    "start_time": "2022-04-17T12:57:33.162Z"
   },
   {
    "duration": 38,
    "start_time": "2022-04-17T13:04:05.147Z"
   },
   {
    "duration": 43,
    "start_time": "2022-04-17T13:04:08.363Z"
   },
   {
    "duration": 36,
    "start_time": "2022-04-17T13:04:11.565Z"
   },
   {
    "duration": 40,
    "start_time": "2022-04-17T13:04:31.468Z"
   },
   {
    "duration": 37,
    "start_time": "2022-04-17T13:07:17.902Z"
   },
   {
    "duration": 37,
    "start_time": "2022-04-17T13:07:37.608Z"
   },
   {
    "duration": 37,
    "start_time": "2022-04-17T13:07:53.945Z"
   },
   {
    "duration": 68,
    "start_time": "2022-04-17T13:08:18.498Z"
   },
   {
    "duration": 88,
    "start_time": "2022-04-17T13:08:24.690Z"
   },
   {
    "duration": 7,
    "start_time": "2022-04-17T13:08:27.963Z"
   },
   {
    "duration": 12,
    "start_time": "2022-04-17T13:08:31.149Z"
   },
   {
    "duration": 41,
    "start_time": "2022-04-17T13:08:34.332Z"
   },
   {
    "duration": 48,
    "start_time": "2022-04-17T13:08:43.676Z"
   },
   {
    "duration": 22,
    "start_time": "2022-04-17T13:08:59.347Z"
   },
   {
    "duration": 40,
    "start_time": "2022-04-17T13:09:06.620Z"
   },
   {
    "duration": 41,
    "start_time": "2022-04-17T13:09:23.396Z"
   },
   {
    "duration": 91,
    "start_time": "2022-04-17T13:09:47.823Z"
   },
   {
    "duration": 9,
    "start_time": "2022-04-17T13:09:52.426Z"
   },
   {
    "duration": 14,
    "start_time": "2022-04-17T13:09:53.167Z"
   },
   {
    "duration": 43,
    "start_time": "2022-04-17T13:09:54.082Z"
   },
   {
    "duration": 43,
    "start_time": "2022-04-17T13:09:56.547Z"
   },
   {
    "duration": 23,
    "start_time": "2022-04-17T13:10:00.146Z"
   },
   {
    "duration": 41,
    "start_time": "2022-04-17T13:10:02.926Z"
   },
   {
    "duration": 42,
    "start_time": "2022-04-17T13:10:07.908Z"
   },
   {
    "duration": 91,
    "start_time": "2022-04-17T13:10:15.854Z"
   },
   {
    "duration": 7,
    "start_time": "2022-04-17T13:10:15.948Z"
   },
   {
    "duration": 13,
    "start_time": "2022-04-17T13:10:15.958Z"
   },
   {
    "duration": 41,
    "start_time": "2022-04-17T13:10:15.992Z"
   },
   {
    "duration": 59,
    "start_time": "2022-04-17T13:10:16.035Z"
   },
   {
    "duration": 23,
    "start_time": "2022-04-17T13:10:16.096Z"
   },
   {
    "duration": 40,
    "start_time": "2022-04-17T13:10:16.121Z"
   },
   {
    "duration": 47,
    "start_time": "2022-04-17T13:10:16.163Z"
   },
   {
    "duration": 100,
    "start_time": "2022-04-17T13:12:44.724Z"
   },
   {
    "duration": 7,
    "start_time": "2022-04-17T13:12:44.827Z"
   },
   {
    "duration": 13,
    "start_time": "2022-04-17T13:12:44.836Z"
   },
   {
    "duration": 61,
    "start_time": "2022-04-17T13:12:44.851Z"
   },
   {
    "duration": 41,
    "start_time": "2022-04-17T13:12:44.915Z"
   },
   {
    "duration": 42,
    "start_time": "2022-04-17T13:12:44.958Z"
   },
   {
    "duration": 42,
    "start_time": "2022-04-17T13:12:45.002Z"
   },
   {
    "duration": 48,
    "start_time": "2022-04-17T13:12:45.046Z"
   },
   {
    "duration": 90,
    "start_time": "2022-04-17T13:13:09.841Z"
   },
   {
    "duration": 87,
    "start_time": "2022-04-17T13:13:44.883Z"
   },
   {
    "duration": 7,
    "start_time": "2022-04-17T13:13:48.871Z"
   },
   {
    "duration": 14,
    "start_time": "2022-04-17T13:13:52.016Z"
   },
   {
    "duration": 42,
    "start_time": "2022-04-17T13:13:54.912Z"
   },
   {
    "duration": 44,
    "start_time": "2022-04-17T13:14:09.870Z"
   },
   {
    "duration": 43,
    "start_time": "2022-04-17T13:14:20.496Z"
   },
   {
    "duration": 40,
    "start_time": "2022-04-17T13:14:25.495Z"
   },
   {
    "duration": 40,
    "start_time": "2022-04-17T13:14:41.386Z"
   },
   {
    "duration": 44,
    "start_time": "2022-04-17T13:14:45.432Z"
   },
   {
    "duration": 90,
    "start_time": "2022-04-17T13:14:50.283Z"
   },
   {
    "duration": 8,
    "start_time": "2022-04-17T13:14:52.845Z"
   },
   {
    "duration": 13,
    "start_time": "2022-04-17T13:14:55.670Z"
   },
   {
    "duration": 42,
    "start_time": "2022-04-17T13:14:58.137Z"
   },
   {
    "duration": 45,
    "start_time": "2022-04-17T13:15:01.692Z"
   },
   {
    "duration": 44,
    "start_time": "2022-04-17T13:15:04.357Z"
   },
   {
    "duration": 39,
    "start_time": "2022-04-17T13:15:08.114Z"
   },
   {
    "duration": 42,
    "start_time": "2022-04-17T13:15:15.018Z"
   },
   {
    "duration": 43,
    "start_time": "2022-04-17T13:15:20.608Z"
   },
   {
    "duration": 254,
    "start_time": "2022-04-17T13:16:05.030Z"
   },
   {
    "duration": 910,
    "start_time": "2022-04-17T13:41:47.487Z"
   },
   {
    "duration": 22,
    "start_time": "2022-04-17T13:42:25.020Z"
   },
   {
    "duration": 41,
    "start_time": "2022-04-17T13:42:47.872Z"
   },
   {
    "duration": 70,
    "start_time": "2022-04-17T13:42:58.698Z"
   },
   {
    "duration": 7,
    "start_time": "2022-04-17T13:50:18.429Z"
   },
   {
    "duration": 13,
    "start_time": "2022-04-17T13:50:28.688Z"
   },
   {
    "duration": 16,
    "start_time": "2022-04-17T13:54:43.340Z"
   },
   {
    "duration": 34,
    "start_time": "2022-04-17T13:55:00.762Z"
   },
   {
    "duration": 25,
    "start_time": "2022-04-17T14:11:21.247Z"
   },
   {
    "duration": 211,
    "start_time": "2022-04-17T14:14:08.410Z"
   },
   {
    "duration": 200,
    "start_time": "2022-04-17T14:14:22.006Z"
   },
   {
    "duration": 22,
    "start_time": "2022-04-17T14:14:42.320Z"
   },
   {
    "duration": 21,
    "start_time": "2022-04-17T14:15:49.578Z"
   },
   {
    "duration": 22,
    "start_time": "2022-04-17T14:16:09.421Z"
   },
   {
    "duration": 32,
    "start_time": "2022-04-17T14:24:23.996Z"
   },
   {
    "duration": 33,
    "start_time": "2022-04-17T14:26:28.193Z"
   },
   {
    "duration": 39,
    "start_time": "2022-04-17T14:29:09.298Z"
   },
   {
    "duration": 41,
    "start_time": "2022-04-17T14:32:25.514Z"
   },
   {
    "duration": 44,
    "start_time": "2022-04-17T14:33:58.779Z"
   },
   {
    "duration": 30,
    "start_time": "2022-04-17T14:42:55.181Z"
   },
   {
    "duration": 23,
    "start_time": "2022-04-17T14:43:03.817Z"
   },
   {
    "duration": 44,
    "start_time": "2022-04-17T14:43:55.254Z"
   },
   {
    "duration": 67,
    "start_time": "2022-04-17T14:44:04.651Z"
   },
   {
    "duration": 60,
    "start_time": "2022-04-17T14:44:17.638Z"
   },
   {
    "duration": 77,
    "start_time": "2022-04-17T14:44:36.374Z"
   },
   {
    "duration": 6,
    "start_time": "2022-04-17T14:52:01.489Z"
   },
   {
    "duration": 14,
    "start_time": "2022-04-17T14:52:30.271Z"
   },
   {
    "duration": 15,
    "start_time": "2022-04-17T14:53:04.125Z"
   },
   {
    "duration": 14,
    "start_time": "2022-04-17T14:57:32.462Z"
   },
   {
    "duration": 16,
    "start_time": "2022-04-17T14:57:47.639Z"
   },
   {
    "duration": 9,
    "start_time": "2022-04-17T15:08:32.765Z"
   },
   {
    "duration": 3299,
    "start_time": "2022-04-17T15:09:21.463Z"
   },
   {
    "duration": 17,
    "start_time": "2022-04-17T15:11:17.606Z"
   },
   {
    "duration": 15,
    "start_time": "2022-04-17T15:11:31.165Z"
   },
   {
    "duration": 106,
    "start_time": "2022-04-17T15:11:39.622Z"
   },
   {
    "duration": 7,
    "start_time": "2022-04-17T15:11:43.620Z"
   },
   {
    "duration": 13,
    "start_time": "2022-04-17T15:11:48.008Z"
   },
   {
    "duration": 42,
    "start_time": "2022-04-17T15:11:50.632Z"
   },
   {
    "duration": 43,
    "start_time": "2022-04-17T15:11:52.726Z"
   },
   {
    "duration": 23,
    "start_time": "2022-04-17T15:11:59.318Z"
   },
   {
    "duration": 279,
    "start_time": "2022-04-17T15:12:01.297Z"
   },
   {
    "duration": 58,
    "start_time": "2022-04-17T15:12:03.358Z"
   },
   {
    "duration": 8,
    "start_time": "2022-04-17T15:12:07.227Z"
   },
   {
    "duration": 9,
    "start_time": "2022-04-17T15:12:09.778Z"
   },
   {
    "duration": 23,
    "start_time": "2022-04-17T15:12:12.777Z"
   },
   {
    "duration": 55,
    "start_time": "2022-04-17T15:12:14.258Z"
   },
   {
    "duration": 82,
    "start_time": "2022-04-17T15:13:18.211Z"
   },
   {
    "duration": 16,
    "start_time": "2022-04-17T15:13:23.484Z"
   },
   {
    "duration": 17,
    "start_time": "2022-04-17T15:13:26.461Z"
   },
   {
    "duration": 19,
    "start_time": "2022-04-17T15:13:54.105Z"
   },
   {
    "duration": 16,
    "start_time": "2022-04-17T15:14:03.461Z"
   },
   {
    "duration": 26,
    "start_time": "2022-04-17T15:16:58.990Z"
   },
   {
    "duration": 208,
    "start_time": "2022-04-17T15:18:59.415Z"
   },
   {
    "duration": 213,
    "start_time": "2022-04-17T15:28:48.670Z"
   },
   {
    "duration": 196,
    "start_time": "2022-04-17T15:30:47.309Z"
   },
   {
    "duration": 241,
    "start_time": "2022-04-17T15:32:06.160Z"
   },
   {
    "duration": 242,
    "start_time": "2022-04-17T15:33:10.878Z"
   },
   {
    "duration": 233,
    "start_time": "2022-04-17T15:33:38.629Z"
   },
   {
    "duration": 240,
    "start_time": "2022-04-17T15:33:49.527Z"
   },
   {
    "duration": 238,
    "start_time": "2022-04-17T15:33:59.188Z"
   },
   {
    "duration": 275,
    "start_time": "2022-04-17T15:34:20.145Z"
   },
   {
    "duration": 234,
    "start_time": "2022-04-17T15:36:50.116Z"
   },
   {
    "duration": 9,
    "start_time": "2022-04-17T16:00:00.468Z"
   },
   {
    "duration": 17,
    "start_time": "2022-04-17T16:00:13.585Z"
   },
   {
    "duration": 20,
    "start_time": "2022-04-17T16:20:04.689Z"
   },
   {
    "duration": 20,
    "start_time": "2022-04-17T16:20:17.286Z"
   },
   {
    "duration": 19,
    "start_time": "2022-04-17T16:20:29.118Z"
   },
   {
    "duration": 9,
    "start_time": "2022-04-17T16:38:08.923Z"
   },
   {
    "duration": 14,
    "start_time": "2022-04-17T16:39:28.584Z"
   },
   {
    "duration": 24,
    "start_time": "2022-04-17T16:39:35.152Z"
   },
   {
    "duration": 10,
    "start_time": "2022-04-17T16:40:17.478Z"
   },
   {
    "duration": 13,
    "start_time": "2022-04-17T16:43:51.265Z"
   },
   {
    "duration": 14,
    "start_time": "2022-04-17T16:43:57.550Z"
   },
   {
    "duration": 23,
    "start_time": "2022-04-17T16:48:12.989Z"
   },
   {
    "duration": 14,
    "start_time": "2022-04-17T16:49:01.008Z"
   },
   {
    "duration": 13,
    "start_time": "2022-04-17T16:52:10.998Z"
   },
   {
    "duration": 19,
    "start_time": "2022-04-17T16:55:24.295Z"
   },
   {
    "duration": 11,
    "start_time": "2022-04-17T16:56:23.914Z"
   },
   {
    "duration": 13,
    "start_time": "2022-04-17T16:56:30.221Z"
   },
   {
    "duration": 11,
    "start_time": "2022-04-17T16:56:43.078Z"
   },
   {
    "duration": 15,
    "start_time": "2022-04-17T16:57:36.515Z"
   },
   {
    "duration": 15,
    "start_time": "2022-04-17T16:58:21.598Z"
   },
   {
    "duration": 542,
    "start_time": "2022-04-26T11:37:55.386Z"
   },
   {
    "duration": 17,
    "start_time": "2022-04-26T11:37:55.930Z"
   },
   {
    "duration": 38,
    "start_time": "2022-04-26T11:37:55.949Z"
   },
   {
    "duration": 34,
    "start_time": "2022-04-26T11:37:55.989Z"
   },
   {
    "duration": 50,
    "start_time": "2022-04-26T11:37:56.024Z"
   },
   {
    "duration": 19,
    "start_time": "2022-04-26T11:37:56.076Z"
   },
   {
    "duration": 228,
    "start_time": "2022-04-26T11:37:56.097Z"
   },
   {
    "duration": 70,
    "start_time": "2022-04-26T11:37:56.327Z"
   },
   {
    "duration": 5,
    "start_time": "2022-04-26T11:37:56.399Z"
   },
   {
    "duration": 15,
    "start_time": "2022-04-26T11:37:56.407Z"
   },
   {
    "duration": 42,
    "start_time": "2022-04-26T11:37:56.423Z"
   },
   {
    "duration": 47,
    "start_time": "2022-04-26T11:37:56.467Z"
   },
   {
    "duration": 81,
    "start_time": "2022-04-26T11:37:56.516Z"
   },
   {
    "duration": 12,
    "start_time": "2022-04-26T11:37:56.598Z"
   },
   {
    "duration": 28,
    "start_time": "2022-04-26T11:37:56.612Z"
   },
   {
    "duration": 32,
    "start_time": "2022-04-26T11:37:56.643Z"
   },
   {
    "duration": 197,
    "start_time": "2022-04-26T11:37:56.676Z"
   },
   {
    "duration": 14,
    "start_time": "2022-04-26T11:37:56.875Z"
   },
   {
    "duration": 9,
    "start_time": "2022-04-26T11:37:56.890Z"
   },
   {
    "duration": 9,
    "start_time": "2022-04-26T11:37:56.901Z"
   },
   {
    "duration": 37,
    "start_time": "2022-04-26T11:37:56.911Z"
   },
   {
    "duration": 40,
    "start_time": "2022-04-26T11:37:56.950Z"
   },
   {
    "duration": 1218,
    "start_time": "2022-04-26T11:46:11.058Z"
   },
   {
    "duration": 11,
    "start_time": "2022-04-26T11:46:12.278Z"
   },
   {
    "duration": 42,
    "start_time": "2022-04-26T11:46:12.290Z"
   },
   {
    "duration": 69,
    "start_time": "2022-04-26T11:46:12.340Z"
   },
   {
    "duration": 32,
    "start_time": "2022-04-26T11:46:12.411Z"
   },
   {
    "duration": 39,
    "start_time": "2022-04-26T11:46:12.445Z"
   },
   {
    "duration": 214,
    "start_time": "2022-04-26T11:46:12.486Z"
   },
   {
    "duration": 59,
    "start_time": "2022-04-26T11:46:12.702Z"
   },
   {
    "duration": 17,
    "start_time": "2022-04-26T11:46:12.763Z"
   },
   {
    "duration": 16,
    "start_time": "2022-04-26T11:46:12.782Z"
   },
   {
    "duration": 25,
    "start_time": "2022-04-26T11:46:12.800Z"
   },
   {
    "duration": 66,
    "start_time": "2022-04-26T11:46:12.827Z"
   },
   {
    "duration": 108,
    "start_time": "2022-04-26T11:46:12.895Z"
   },
   {
    "duration": 12,
    "start_time": "2022-04-26T11:46:13.005Z"
   },
   {
    "duration": 66,
    "start_time": "2022-04-26T11:46:13.019Z"
   },
   {
    "duration": 23,
    "start_time": "2022-04-26T11:46:13.087Z"
   },
   {
    "duration": 233,
    "start_time": "2022-04-26T11:46:13.111Z"
   },
   {
    "duration": 19,
    "start_time": "2022-04-26T11:46:13.347Z"
   },
   {
    "duration": 51,
    "start_time": "2022-04-26T11:46:13.368Z"
   },
   {
    "duration": 17,
    "start_time": "2022-04-26T11:46:13.421Z"
   },
   {
    "duration": 48,
    "start_time": "2022-04-26T11:46:13.440Z"
   },
   {
    "duration": 19,
    "start_time": "2022-04-26T11:46:13.490Z"
   },
   {
    "duration": 213,
    "start_time": "2022-04-27T15:26:33.150Z"
   },
   {
    "duration": 415,
    "start_time": "2022-04-27T16:33:49.590Z"
   },
   {
    "duration": 75,
    "start_time": "2022-04-27T16:33:50.006Z"
   },
   {
    "duration": 9,
    "start_time": "2022-04-27T16:33:50.083Z"
   },
   {
    "duration": 16,
    "start_time": "2022-04-27T16:33:50.094Z"
   },
   {
    "duration": 24,
    "start_time": "2022-04-27T16:33:50.111Z"
   },
   {
    "duration": 23,
    "start_time": "2022-04-27T16:33:50.137Z"
   },
   {
    "duration": 15,
    "start_time": "2022-04-27T16:33:50.161Z"
   },
   {
    "duration": 175,
    "start_time": "2022-04-27T16:33:50.177Z"
   },
   {
    "duration": 33,
    "start_time": "2022-04-27T16:33:50.353Z"
   },
   {
    "duration": 5,
    "start_time": "2022-04-27T16:33:50.399Z"
   },
   {
    "duration": 6,
    "start_time": "2022-04-27T16:33:50.405Z"
   },
   {
    "duration": 14,
    "start_time": "2022-04-27T16:33:50.413Z"
   },
   {
    "duration": 72,
    "start_time": "2022-04-27T16:33:50.429Z"
   },
   {
    "duration": 55,
    "start_time": "2022-04-27T16:33:50.503Z"
   },
   {
    "duration": 10,
    "start_time": "2022-04-27T16:33:50.560Z"
   },
   {
    "duration": 29,
    "start_time": "2022-04-27T16:33:50.571Z"
   },
   {
    "duration": 17,
    "start_time": "2022-04-27T16:33:50.601Z"
   },
   {
    "duration": 143,
    "start_time": "2022-04-27T16:33:50.619Z"
   },
   {
    "duration": 10,
    "start_time": "2022-04-27T16:33:50.763Z"
   },
   {
    "duration": 9,
    "start_time": "2022-04-27T16:33:50.775Z"
   },
   {
    "duration": 20,
    "start_time": "2022-04-27T16:33:50.785Z"
   },
   {
    "duration": 10,
    "start_time": "2022-04-27T16:33:50.806Z"
   },
   {
    "duration": 10,
    "start_time": "2022-04-27T16:33:50.817Z"
   },
   {
    "duration": 531,
    "start_time": "2022-04-27T16:47:09.953Z"
   },
   {
    "duration": 103,
    "start_time": "2022-04-27T16:47:10.487Z"
   },
   {
    "duration": 10,
    "start_time": "2022-04-27T16:47:10.592Z"
   },
   {
    "duration": 19,
    "start_time": "2022-04-27T16:47:10.604Z"
   },
   {
    "duration": 39,
    "start_time": "2022-04-27T16:47:10.624Z"
   },
   {
    "duration": 27,
    "start_time": "2022-04-27T16:47:10.664Z"
   },
   {
    "duration": 17,
    "start_time": "2022-04-27T16:47:10.693Z"
   },
   {
    "duration": 188,
    "start_time": "2022-04-27T16:47:10.712Z"
   },
   {
    "duration": 40,
    "start_time": "2022-04-27T16:47:10.902Z"
   },
   {
    "duration": 5,
    "start_time": "2022-04-27T16:47:10.956Z"
   },
   {
    "duration": 27,
    "start_time": "2022-04-27T16:47:10.962Z"
   },
   {
    "duration": 29,
    "start_time": "2022-04-27T16:47:10.991Z"
   },
   {
    "duration": 44,
    "start_time": "2022-04-27T16:47:11.023Z"
   },
   {
    "duration": 59,
    "start_time": "2022-04-27T16:47:11.069Z"
   },
   {
    "duration": 31,
    "start_time": "2022-04-27T16:47:11.130Z"
   },
   {
    "duration": 11,
    "start_time": "2022-04-27T16:47:11.163Z"
   },
   {
    "duration": 27,
    "start_time": "2022-04-27T16:47:11.176Z"
   },
   {
    "duration": 166,
    "start_time": "2022-04-27T16:47:11.205Z"
   },
   {
    "duration": 11,
    "start_time": "2022-04-27T16:47:11.373Z"
   },
   {
    "duration": 14,
    "start_time": "2022-04-27T16:47:11.386Z"
   },
   {
    "duration": 25,
    "start_time": "2022-04-27T16:47:11.402Z"
   },
   {
    "duration": 27,
    "start_time": "2022-04-27T16:47:11.428Z"
   },
   {
    "duration": 11,
    "start_time": "2022-04-27T16:47:11.457Z"
   }
  ],
  "kernelspec": {
   "display_name": "Python 3 (ipykernel)",
   "language": "python",
   "name": "python3"
  },
  "language_info": {
   "codemirror_mode": {
    "name": "ipython",
    "version": 3
   },
   "file_extension": ".py",
   "mimetype": "text/x-python",
   "name": "python",
   "nbconvert_exporter": "python",
   "pygments_lexer": "ipython3",
   "version": "3.9.5"
  },
  "toc": {
   "base_numbering": 1,
   "nav_menu": {},
   "number_sections": true,
   "sideBar": true,
   "skip_h1_title": true,
   "title_cell": "Table of Contents",
   "title_sidebar": "Contents",
   "toc_cell": false,
   "toc_position": {
    "height": "calc(100% - 180px)",
    "left": "10px",
    "top": "150px",
    "width": "323.711px"
   },
   "toc_section_display": true,
   "toc_window_display": true
  }
 },
 "nbformat": 4,
 "nbformat_minor": 5
}
