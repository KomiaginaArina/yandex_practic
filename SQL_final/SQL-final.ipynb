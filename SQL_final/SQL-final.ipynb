{
 "cells": [
  {
   "cell_type": "markdown",
   "metadata": {},
   "source": [
    "# Проект: анализ базы данных сервиса для чтения книг по подписке.\n",
    "\n",
    "\n",
    "## Описание:\n",
    "В базе данных находятся информация о книгах, издательствах, авторах, а также пользовательские обзоры книг.\n",
    "\n",
    "### Задачи исследования:\n",
    "- Посчитать, сколько книг вышло после 1 января 2000 года;\n",
    "- Для каждой книги посчитать количество обзоров и среднюю оценку;\n",
    "- Определить издательство, которое выпустило наибольшее число книг толще 50 страниц (не брошюры)\n",
    "- Определить автора с самой высокой средней оценкой книг, учитывая только книги с 50 и более оценками;\n",
    "- Посчитать среднее количество обзоров от пользователей, которые поставили больше 50 оценок."
   ]
  },
  {
   "cell_type": "markdown",
   "metadata": {},
   "source": [
    "## Подключение к библиотекам и базе данных "
   ]
  },
  {
   "cell_type": "code",
   "execution_count": 1,
   "metadata": {},
   "outputs": [],
   "source": [
    "# импортируем библиотеки\n",
    "import pandas as pd\n",
    "from sqlalchemy import create_engine\n",
    "# устанавливаем параметры\n",
    "db_config = {'user': 'praktikum_student', # имя пользователя\n",
    "'pwd': 'Sdf4$2;d-d30pp', # пароль\n",
    "'host': 'rc1b-wcoijxj3yxfsf3fs.mdb.yandexcloud.net',\n",
    "'port': 6432, # порт подключения\n",
    "'db': 'data-analyst-final-project-db'} # название базы данных\n",
    "connection_string = 'postgresql://{}:{}@{}:{}/{}'.format(db_config['user'],\n",
    " db_config['pwd'],\n",
    " db_config['host'],\n",
    " db_config['port'],\n",
    " db_config['db'])\n",
    "# сохраняем коннектор\n",
    "engine = create_engine(connection_string, connect_args={'sslmode':'require'}) "
   ]
  },
  {
   "cell_type": "markdown",
   "metadata": {},
   "source": [
    "## Знакомство с таблицами"
   ]
  },
  {
   "cell_type": "code",
   "execution_count": 2,
   "metadata": {},
   "outputs": [
    {
     "data": {
      "text/html": [
       "<div>\n",
       "<style scoped>\n",
       "    .dataframe tbody tr th:only-of-type {\n",
       "        vertical-align: middle;\n",
       "    }\n",
       "\n",
       "    .dataframe tbody tr th {\n",
       "        vertical-align: top;\n",
       "    }\n",
       "\n",
       "    .dataframe thead th {\n",
       "        text-align: right;\n",
       "    }\n",
       "</style>\n",
       "<table border=\"1\" class=\"dataframe\">\n",
       "  <thead>\n",
       "    <tr style=\"text-align: right;\">\n",
       "      <th></th>\n",
       "      <th>book_id</th>\n",
       "      <th>author_id</th>\n",
       "      <th>title</th>\n",
       "      <th>num_pages</th>\n",
       "      <th>publication_date</th>\n",
       "      <th>publisher_id</th>\n",
       "    </tr>\n",
       "  </thead>\n",
       "  <tbody>\n",
       "    <tr>\n",
       "      <th>0</th>\n",
       "      <td>1</td>\n",
       "      <td>546</td>\n",
       "      <td>'Salem's Lot</td>\n",
       "      <td>594</td>\n",
       "      <td>2005-11-01</td>\n",
       "      <td>93</td>\n",
       "    </tr>\n",
       "    <tr>\n",
       "      <th>1</th>\n",
       "      <td>2</td>\n",
       "      <td>465</td>\n",
       "      <td>1 000 Places to See Before You Die</td>\n",
       "      <td>992</td>\n",
       "      <td>2003-05-22</td>\n",
       "      <td>336</td>\n",
       "    </tr>\n",
       "    <tr>\n",
       "      <th>2</th>\n",
       "      <td>3</td>\n",
       "      <td>407</td>\n",
       "      <td>13 Little Blue Envelopes (Little Blue Envelope...</td>\n",
       "      <td>322</td>\n",
       "      <td>2010-12-21</td>\n",
       "      <td>135</td>\n",
       "    </tr>\n",
       "    <tr>\n",
       "      <th>3</th>\n",
       "      <td>4</td>\n",
       "      <td>82</td>\n",
       "      <td>1491: New Revelations of the Americas Before C...</td>\n",
       "      <td>541</td>\n",
       "      <td>2006-10-10</td>\n",
       "      <td>309</td>\n",
       "    </tr>\n",
       "    <tr>\n",
       "      <th>4</th>\n",
       "      <td>5</td>\n",
       "      <td>125</td>\n",
       "      <td>1776</td>\n",
       "      <td>386</td>\n",
       "      <td>2006-07-04</td>\n",
       "      <td>268</td>\n",
       "    </tr>\n",
       "  </tbody>\n",
       "</table>\n",
       "</div>"
      ],
      "text/plain": [
       "   book_id  author_id                                              title  \\\n",
       "0        1        546                                       'Salem's Lot   \n",
       "1        2        465                 1 000 Places to See Before You Die   \n",
       "2        3        407  13 Little Blue Envelopes (Little Blue Envelope...   \n",
       "3        4         82  1491: New Revelations of the Americas Before C...   \n",
       "4        5        125                                               1776   \n",
       "\n",
       "   num_pages publication_date  publisher_id  \n",
       "0        594       2005-11-01            93  \n",
       "1        992       2003-05-22           336  \n",
       "2        322       2010-12-21           135  \n",
       "3        541       2006-10-10           309  \n",
       "4        386       2006-07-04           268  "
      ]
     },
     "execution_count": 2,
     "metadata": {},
     "output_type": "execute_result"
    }
   ],
   "source": [
    "# Таблица books\n",
    "pd.io.sql.read_sql('''\n",
    "SELECT *\n",
    "FROM books\n",
    "LIMIT 5\n",
    "''', con = engine)"
   ]
  },
  {
   "cell_type": "code",
   "execution_count": 3,
   "metadata": {},
   "outputs": [
    {
     "data": {
      "text/html": [
       "<div>\n",
       "<style scoped>\n",
       "    .dataframe tbody tr th:only-of-type {\n",
       "        vertical-align: middle;\n",
       "    }\n",
       "\n",
       "    .dataframe tbody tr th {\n",
       "        vertical-align: top;\n",
       "    }\n",
       "\n",
       "    .dataframe thead th {\n",
       "        text-align: right;\n",
       "    }\n",
       "</style>\n",
       "<table border=\"1\" class=\"dataframe\">\n",
       "  <thead>\n",
       "    <tr style=\"text-align: right;\">\n",
       "      <th></th>\n",
       "      <th>author_id</th>\n",
       "      <th>author</th>\n",
       "    </tr>\n",
       "  </thead>\n",
       "  <tbody>\n",
       "    <tr>\n",
       "      <th>0</th>\n",
       "      <td>1</td>\n",
       "      <td>A.S. Byatt</td>\n",
       "    </tr>\n",
       "    <tr>\n",
       "      <th>1</th>\n",
       "      <td>2</td>\n",
       "      <td>Aesop/Laura Harris/Laura Gibbs</td>\n",
       "    </tr>\n",
       "    <tr>\n",
       "      <th>2</th>\n",
       "      <td>3</td>\n",
       "      <td>Agatha Christie</td>\n",
       "    </tr>\n",
       "    <tr>\n",
       "      <th>3</th>\n",
       "      <td>4</td>\n",
       "      <td>Alan Brennert</td>\n",
       "    </tr>\n",
       "    <tr>\n",
       "      <th>4</th>\n",
       "      <td>5</td>\n",
       "      <td>Alan Moore/David   Lloyd</td>\n",
       "    </tr>\n",
       "  </tbody>\n",
       "</table>\n",
       "</div>"
      ],
      "text/plain": [
       "   author_id                          author\n",
       "0          1                      A.S. Byatt\n",
       "1          2  Aesop/Laura Harris/Laura Gibbs\n",
       "2          3                 Agatha Christie\n",
       "3          4                   Alan Brennert\n",
       "4          5        Alan Moore/David   Lloyd"
      ]
     },
     "execution_count": 3,
     "metadata": {},
     "output_type": "execute_result"
    }
   ],
   "source": [
    "# Таблица authors\n",
    "pd.io.sql.read_sql('''\n",
    "SELECT * \n",
    "FROM authors\n",
    "LIMIT 5\n",
    "''', con = engine)"
   ]
  },
  {
   "cell_type": "code",
   "execution_count": 4,
   "metadata": {},
   "outputs": [
    {
     "data": {
      "text/html": [
       "<div>\n",
       "<style scoped>\n",
       "    .dataframe tbody tr th:only-of-type {\n",
       "        vertical-align: middle;\n",
       "    }\n",
       "\n",
       "    .dataframe tbody tr th {\n",
       "        vertical-align: top;\n",
       "    }\n",
       "\n",
       "    .dataframe thead th {\n",
       "        text-align: right;\n",
       "    }\n",
       "</style>\n",
       "<table border=\"1\" class=\"dataframe\">\n",
       "  <thead>\n",
       "    <tr style=\"text-align: right;\">\n",
       "      <th></th>\n",
       "      <th>publisher_id</th>\n",
       "      <th>publisher</th>\n",
       "    </tr>\n",
       "  </thead>\n",
       "  <tbody>\n",
       "    <tr>\n",
       "      <th>0</th>\n",
       "      <td>1</td>\n",
       "      <td>Ace</td>\n",
       "    </tr>\n",
       "    <tr>\n",
       "      <th>1</th>\n",
       "      <td>2</td>\n",
       "      <td>Ace Book</td>\n",
       "    </tr>\n",
       "    <tr>\n",
       "      <th>2</th>\n",
       "      <td>3</td>\n",
       "      <td>Ace Books</td>\n",
       "    </tr>\n",
       "    <tr>\n",
       "      <th>3</th>\n",
       "      <td>4</td>\n",
       "      <td>Ace Hardcover</td>\n",
       "    </tr>\n",
       "    <tr>\n",
       "      <th>4</th>\n",
       "      <td>5</td>\n",
       "      <td>Addison Wesley Publishing Company</td>\n",
       "    </tr>\n",
       "  </tbody>\n",
       "</table>\n",
       "</div>"
      ],
      "text/plain": [
       "   publisher_id                          publisher\n",
       "0             1                                Ace\n",
       "1             2                           Ace Book\n",
       "2             3                          Ace Books\n",
       "3             4                      Ace Hardcover\n",
       "4             5  Addison Wesley Publishing Company"
      ]
     },
     "execution_count": 4,
     "metadata": {},
     "output_type": "execute_result"
    }
   ],
   "source": [
    "# Таблица publishers\n",
    "pd.io.sql.read_sql('''\n",
    "SELECT *\n",
    "FROM publishers\n",
    "LIMIT 5\n",
    "''', con = engine)"
   ]
  },
  {
   "cell_type": "code",
   "execution_count": 5,
   "metadata": {},
   "outputs": [
    {
     "data": {
      "text/html": [
       "<div>\n",
       "<style scoped>\n",
       "    .dataframe tbody tr th:only-of-type {\n",
       "        vertical-align: middle;\n",
       "    }\n",
       "\n",
       "    .dataframe tbody tr th {\n",
       "        vertical-align: top;\n",
       "    }\n",
       "\n",
       "    .dataframe thead th {\n",
       "        text-align: right;\n",
       "    }\n",
       "</style>\n",
       "<table border=\"1\" class=\"dataframe\">\n",
       "  <thead>\n",
       "    <tr style=\"text-align: right;\">\n",
       "      <th></th>\n",
       "      <th>rating_id</th>\n",
       "      <th>book_id</th>\n",
       "      <th>username</th>\n",
       "      <th>rating</th>\n",
       "    </tr>\n",
       "  </thead>\n",
       "  <tbody>\n",
       "    <tr>\n",
       "      <th>0</th>\n",
       "      <td>1</td>\n",
       "      <td>1</td>\n",
       "      <td>ryanfranco</td>\n",
       "      <td>4</td>\n",
       "    </tr>\n",
       "    <tr>\n",
       "      <th>1</th>\n",
       "      <td>2</td>\n",
       "      <td>1</td>\n",
       "      <td>grantpatricia</td>\n",
       "      <td>2</td>\n",
       "    </tr>\n",
       "    <tr>\n",
       "      <th>2</th>\n",
       "      <td>3</td>\n",
       "      <td>1</td>\n",
       "      <td>brandtandrea</td>\n",
       "      <td>5</td>\n",
       "    </tr>\n",
       "    <tr>\n",
       "      <th>3</th>\n",
       "      <td>4</td>\n",
       "      <td>2</td>\n",
       "      <td>lorichen</td>\n",
       "      <td>3</td>\n",
       "    </tr>\n",
       "    <tr>\n",
       "      <th>4</th>\n",
       "      <td>5</td>\n",
       "      <td>2</td>\n",
       "      <td>mariokeller</td>\n",
       "      <td>2</td>\n",
       "    </tr>\n",
       "  </tbody>\n",
       "</table>\n",
       "</div>"
      ],
      "text/plain": [
       "   rating_id  book_id       username  rating\n",
       "0          1        1     ryanfranco       4\n",
       "1          2        1  grantpatricia       2\n",
       "2          3        1   brandtandrea       5\n",
       "3          4        2       lorichen       3\n",
       "4          5        2    mariokeller       2"
      ]
     },
     "execution_count": 5,
     "metadata": {},
     "output_type": "execute_result"
    }
   ],
   "source": [
    "# Таблица ratings\n",
    "pd.io.sql.read_sql('''\n",
    "SELECT * \n",
    "FROM ratings \n",
    "LIMIT 5\n",
    "''', con = engine)"
   ]
  },
  {
   "cell_type": "code",
   "execution_count": 6,
   "metadata": {
    "scrolled": true
   },
   "outputs": [
    {
     "data": {
      "text/html": [
       "<div>\n",
       "<style scoped>\n",
       "    .dataframe tbody tr th:only-of-type {\n",
       "        vertical-align: middle;\n",
       "    }\n",
       "\n",
       "    .dataframe tbody tr th {\n",
       "        vertical-align: top;\n",
       "    }\n",
       "\n",
       "    .dataframe thead th {\n",
       "        text-align: right;\n",
       "    }\n",
       "</style>\n",
       "<table border=\"1\" class=\"dataframe\">\n",
       "  <thead>\n",
       "    <tr style=\"text-align: right;\">\n",
       "      <th></th>\n",
       "      <th>review_id</th>\n",
       "      <th>book_id</th>\n",
       "      <th>username</th>\n",
       "      <th>text</th>\n",
       "    </tr>\n",
       "  </thead>\n",
       "  <tbody>\n",
       "    <tr>\n",
       "      <th>0</th>\n",
       "      <td>1</td>\n",
       "      <td>1</td>\n",
       "      <td>brandtandrea</td>\n",
       "      <td>Mention society tell send professor analysis. ...</td>\n",
       "    </tr>\n",
       "    <tr>\n",
       "      <th>1</th>\n",
       "      <td>2</td>\n",
       "      <td>1</td>\n",
       "      <td>ryanfranco</td>\n",
       "      <td>Foot glass pretty audience hit themselves. Amo...</td>\n",
       "    </tr>\n",
       "    <tr>\n",
       "      <th>2</th>\n",
       "      <td>3</td>\n",
       "      <td>2</td>\n",
       "      <td>lorichen</td>\n",
       "      <td>Listen treat keep worry. Miss husband tax but ...</td>\n",
       "    </tr>\n",
       "    <tr>\n",
       "      <th>3</th>\n",
       "      <td>4</td>\n",
       "      <td>3</td>\n",
       "      <td>johnsonamanda</td>\n",
       "      <td>Finally month interesting blue could nature cu...</td>\n",
       "    </tr>\n",
       "    <tr>\n",
       "      <th>4</th>\n",
       "      <td>5</td>\n",
       "      <td>3</td>\n",
       "      <td>scotttamara</td>\n",
       "      <td>Nation purpose heavy give wait song will. List...</td>\n",
       "    </tr>\n",
       "  </tbody>\n",
       "</table>\n",
       "</div>"
      ],
      "text/plain": [
       "   review_id  book_id       username  \\\n",
       "0          1        1   brandtandrea   \n",
       "1          2        1     ryanfranco   \n",
       "2          3        2       lorichen   \n",
       "3          4        3  johnsonamanda   \n",
       "4          5        3    scotttamara   \n",
       "\n",
       "                                                text  \n",
       "0  Mention society tell send professor analysis. ...  \n",
       "1  Foot glass pretty audience hit themselves. Amo...  \n",
       "2  Listen treat keep worry. Miss husband tax but ...  \n",
       "3  Finally month interesting blue could nature cu...  \n",
       "4  Nation purpose heavy give wait song will. List...  "
      ]
     },
     "execution_count": 6,
     "metadata": {},
     "output_type": "execute_result"
    }
   ],
   "source": [
    "# Таблица reviews\n",
    "pd.io.sql.read_sql('''\n",
    "SELECT * \n",
    "FROM reviews \n",
    "LIMIT 5''', con = engine)"
   ]
  },
  {
   "cell_type": "markdown",
   "metadata": {},
   "source": [
    "## Изучение данных, ответы на поставленные задачи"
   ]
  },
  {
   "cell_type": "markdown",
   "metadata": {},
   "source": [
    "### Сколько книг вышло после 1 января 2000 года?"
   ]
  },
  {
   "cell_type": "code",
   "execution_count": 8,
   "metadata": {},
   "outputs": [
    {
     "data": {
      "text/html": [
       "<div>\n",
       "<style scoped>\n",
       "    .dataframe tbody tr th:only-of-type {\n",
       "        vertical-align: middle;\n",
       "    }\n",
       "\n",
       "    .dataframe tbody tr th {\n",
       "        vertical-align: top;\n",
       "    }\n",
       "\n",
       "    .dataframe thead th {\n",
       "        text-align: right;\n",
       "    }\n",
       "</style>\n",
       "<table border=\"1\" class=\"dataframe\">\n",
       "  <thead>\n",
       "    <tr style=\"text-align: right;\">\n",
       "      <th></th>\n",
       "      <th>count</th>\n",
       "    </tr>\n",
       "  </thead>\n",
       "  <tbody>\n",
       "    <tr>\n",
       "      <th>0</th>\n",
       "      <td>819</td>\n",
       "    </tr>\n",
       "  </tbody>\n",
       "</table>\n",
       "</div>"
      ],
      "text/plain": [
       "   count\n",
       "0    819"
      ]
     },
     "execution_count": 8,
     "metadata": {},
     "output_type": "execute_result"
    }
   ],
   "source": [
    "pd.io.sql.read_sql('''\n",
    "SELECT COUNT(book_id) \n",
    "FROM books\n",
    "WHERE publication_date>'2000-01-01'\n",
    "''',con = engine)"
   ]
  },
  {
   "cell_type": "markdown",
   "metadata": {},
   "source": [
    "Итак, после 1 января 2000 года вышло 819 книг."
   ]
  },
  {
   "cell_type": "markdown",
   "metadata": {},
   "source": [
    "### Для каждой книги посчитать количество обзоров и среднюю оценку"
   ]
  },
  {
   "cell_type": "code",
   "execution_count": 9,
   "metadata": {},
   "outputs": [
    {
     "data": {
      "text/html": [
       "<div>\n",
       "<style scoped>\n",
       "    .dataframe tbody tr th:only-of-type {\n",
       "        vertical-align: middle;\n",
       "    }\n",
       "\n",
       "    .dataframe tbody tr th {\n",
       "        vertical-align: top;\n",
       "    }\n",
       "\n",
       "    .dataframe thead th {\n",
       "        text-align: right;\n",
       "    }\n",
       "</style>\n",
       "<table border=\"1\" class=\"dataframe\">\n",
       "  <thead>\n",
       "    <tr style=\"text-align: right;\">\n",
       "      <th></th>\n",
       "      <th>book_id</th>\n",
       "      <th>title</th>\n",
       "      <th>num_of_reviews</th>\n",
       "      <th>average_rating</th>\n",
       "    </tr>\n",
       "  </thead>\n",
       "  <tbody>\n",
       "    <tr>\n",
       "      <th>0</th>\n",
       "      <td>1</td>\n",
       "      <td>'Salem's Lot</td>\n",
       "      <td>2</td>\n",
       "      <td>3.67</td>\n",
       "    </tr>\n",
       "    <tr>\n",
       "      <th>1</th>\n",
       "      <td>2</td>\n",
       "      <td>1 000 Places to See Before You Die</td>\n",
       "      <td>1</td>\n",
       "      <td>2.50</td>\n",
       "    </tr>\n",
       "    <tr>\n",
       "      <th>2</th>\n",
       "      <td>3</td>\n",
       "      <td>13 Little Blue Envelopes (Little Blue Envelope...</td>\n",
       "      <td>3</td>\n",
       "      <td>4.67</td>\n",
       "    </tr>\n",
       "    <tr>\n",
       "      <th>3</th>\n",
       "      <td>4</td>\n",
       "      <td>1491: New Revelations of the Americas Before C...</td>\n",
       "      <td>2</td>\n",
       "      <td>4.50</td>\n",
       "    </tr>\n",
       "    <tr>\n",
       "      <th>4</th>\n",
       "      <td>5</td>\n",
       "      <td>1776</td>\n",
       "      <td>4</td>\n",
       "      <td>4.00</td>\n",
       "    </tr>\n",
       "    <tr>\n",
       "      <th>...</th>\n",
       "      <td>...</td>\n",
       "      <td>...</td>\n",
       "      <td>...</td>\n",
       "      <td>...</td>\n",
       "    </tr>\n",
       "    <tr>\n",
       "      <th>995</th>\n",
       "      <td>996</td>\n",
       "      <td>Wyrd Sisters (Discworld  #6; Witches #2)</td>\n",
       "      <td>3</td>\n",
       "      <td>3.67</td>\n",
       "    </tr>\n",
       "    <tr>\n",
       "      <th>996</th>\n",
       "      <td>997</td>\n",
       "      <td>Xenocide (Ender's Saga  #3)</td>\n",
       "      <td>3</td>\n",
       "      <td>3.40</td>\n",
       "    </tr>\n",
       "    <tr>\n",
       "      <th>997</th>\n",
       "      <td>998</td>\n",
       "      <td>Year of Wonders</td>\n",
       "      <td>4</td>\n",
       "      <td>3.20</td>\n",
       "    </tr>\n",
       "    <tr>\n",
       "      <th>998</th>\n",
       "      <td>999</td>\n",
       "      <td>You Suck (A Love Story  #2)</td>\n",
       "      <td>2</td>\n",
       "      <td>4.50</td>\n",
       "    </tr>\n",
       "    <tr>\n",
       "      <th>999</th>\n",
       "      <td>1000</td>\n",
       "      <td>Zen and the Art of Motorcycle Maintenance: An ...</td>\n",
       "      <td>4</td>\n",
       "      <td>3.83</td>\n",
       "    </tr>\n",
       "  </tbody>\n",
       "</table>\n",
       "<p>1000 rows × 4 columns</p>\n",
       "</div>"
      ],
      "text/plain": [
       "     book_id                                              title  \\\n",
       "0          1                                       'Salem's Lot   \n",
       "1          2                 1 000 Places to See Before You Die   \n",
       "2          3  13 Little Blue Envelopes (Little Blue Envelope...   \n",
       "3          4  1491: New Revelations of the Americas Before C...   \n",
       "4          5                                               1776   \n",
       "..       ...                                                ...   \n",
       "995      996           Wyrd Sisters (Discworld  #6; Witches #2)   \n",
       "996      997                        Xenocide (Ender's Saga  #3)   \n",
       "997      998                                    Year of Wonders   \n",
       "998      999                        You Suck (A Love Story  #2)   \n",
       "999     1000  Zen and the Art of Motorcycle Maintenance: An ...   \n",
       "\n",
       "     num_of_reviews  average_rating  \n",
       "0                 2            3.67  \n",
       "1                 1            2.50  \n",
       "2                 3            4.67  \n",
       "3                 2            4.50  \n",
       "4                 4            4.00  \n",
       "..              ...             ...  \n",
       "995               3            3.67  \n",
       "996               3            3.40  \n",
       "997               4            3.20  \n",
       "998               2            4.50  \n",
       "999               4            3.83  \n",
       "\n",
       "[1000 rows x 4 columns]"
      ]
     },
     "execution_count": 9,
     "metadata": {},
     "output_type": "execute_result"
    }
   ],
   "source": [
    "pd.io.sql.read_sql('''\n",
    "SELECT b.book_id,\n",
    "b.title,\n",
    "COUNT(DISTINCT re.text) AS num_of_reviews,\n",
    "ROUND (AVG(ra.rating), 2) AS average_rating\n",
    "FROM books as b\n",
    "\n",
    "LEFT JOIN ratings AS ra ON ra.book_id=b.book_id\n",
    "LEFT JOIN reviews AS re ON re.book_id=b.book_id\n",
    "GROUP BY b.book_id\n",
    "''', con = engine)"
   ]
  },
  {
   "cell_type": "code",
   "execution_count": 10,
   "metadata": {},
   "outputs": [
    {
     "data": {
      "text/html": [
       "<div>\n",
       "<style scoped>\n",
       "    .dataframe tbody tr th:only-of-type {\n",
       "        vertical-align: middle;\n",
       "    }\n",
       "\n",
       "    .dataframe tbody tr th {\n",
       "        vertical-align: top;\n",
       "    }\n",
       "\n",
       "    .dataframe thead th {\n",
       "        text-align: right;\n",
       "    }\n",
       "</style>\n",
       "<table border=\"1\" class=\"dataframe\">\n",
       "  <thead>\n",
       "    <tr style=\"text-align: right;\">\n",
       "      <th></th>\n",
       "      <th>book_id</th>\n",
       "      <th>title</th>\n",
       "      <th>num_of_reviews</th>\n",
       "      <th>average_rating</th>\n",
       "    </tr>\n",
       "  </thead>\n",
       "  <tbody>\n",
       "    <tr>\n",
       "      <th>0</th>\n",
       "      <td>948</td>\n",
       "      <td>Twilight (Twilight  #1)</td>\n",
       "      <td>7</td>\n",
       "      <td>3.66</td>\n",
       "    </tr>\n",
       "    <tr>\n",
       "      <th>1</th>\n",
       "      <td>963</td>\n",
       "      <td>Water for Elephants</td>\n",
       "      <td>6</td>\n",
       "      <td>3.98</td>\n",
       "    </tr>\n",
       "    <tr>\n",
       "      <th>2</th>\n",
       "      <td>734</td>\n",
       "      <td>The Glass Castle</td>\n",
       "      <td>6</td>\n",
       "      <td>4.21</td>\n",
       "    </tr>\n",
       "    <tr>\n",
       "      <th>3</th>\n",
       "      <td>302</td>\n",
       "      <td>Harry Potter and the Prisoner of Azkaban (Harr...</td>\n",
       "      <td>6</td>\n",
       "      <td>4.41</td>\n",
       "    </tr>\n",
       "    <tr>\n",
       "      <th>4</th>\n",
       "      <td>695</td>\n",
       "      <td>The Curious Incident of the Dog in the Night-Time</td>\n",
       "      <td>6</td>\n",
       "      <td>4.08</td>\n",
       "    </tr>\n",
       "    <tr>\n",
       "      <th>...</th>\n",
       "      <td>...</td>\n",
       "      <td>...</td>\n",
       "      <td>...</td>\n",
       "      <td>...</td>\n",
       "    </tr>\n",
       "    <tr>\n",
       "      <th>995</th>\n",
       "      <td>83</td>\n",
       "      <td>Anne Rice's The Vampire Lestat: A Graphic Novel</td>\n",
       "      <td>0</td>\n",
       "      <td>3.67</td>\n",
       "    </tr>\n",
       "    <tr>\n",
       "      <th>996</th>\n",
       "      <td>808</td>\n",
       "      <td>The Natural Way to Draw</td>\n",
       "      <td>0</td>\n",
       "      <td>3.00</td>\n",
       "    </tr>\n",
       "    <tr>\n",
       "      <th>997</th>\n",
       "      <td>672</td>\n",
       "      <td>The Cat in the Hat and Other Dr. Seuss Favorites</td>\n",
       "      <td>0</td>\n",
       "      <td>5.00</td>\n",
       "    </tr>\n",
       "    <tr>\n",
       "      <th>998</th>\n",
       "      <td>221</td>\n",
       "      <td>Essential Tales and Poems</td>\n",
       "      <td>0</td>\n",
       "      <td>4.00</td>\n",
       "    </tr>\n",
       "    <tr>\n",
       "      <th>999</th>\n",
       "      <td>191</td>\n",
       "      <td>Disney's Beauty and the Beast (A Little Golden...</td>\n",
       "      <td>0</td>\n",
       "      <td>4.00</td>\n",
       "    </tr>\n",
       "  </tbody>\n",
       "</table>\n",
       "<p>1000 rows × 4 columns</p>\n",
       "</div>"
      ],
      "text/plain": [
       "     book_id                                              title  \\\n",
       "0        948                            Twilight (Twilight  #1)   \n",
       "1        963                                Water for Elephants   \n",
       "2        734                                   The Glass Castle   \n",
       "3        302  Harry Potter and the Prisoner of Azkaban (Harr...   \n",
       "4        695  The Curious Incident of the Dog in the Night-Time   \n",
       "..       ...                                                ...   \n",
       "995       83    Anne Rice's The Vampire Lestat: A Graphic Novel   \n",
       "996      808                            The Natural Way to Draw   \n",
       "997      672   The Cat in the Hat and Other Dr. Seuss Favorites   \n",
       "998      221                          Essential Tales and Poems   \n",
       "999      191  Disney's Beauty and the Beast (A Little Golden...   \n",
       "\n",
       "     num_of_reviews  average_rating  \n",
       "0                 7            3.66  \n",
       "1                 6            3.98  \n",
       "2                 6            4.21  \n",
       "3                 6            4.41  \n",
       "4                 6            4.08  \n",
       "..              ...             ...  \n",
       "995               0            3.67  \n",
       "996               0            3.00  \n",
       "997               0            5.00  \n",
       "998               0            4.00  \n",
       "999               0            4.00  \n",
       "\n",
       "[1000 rows x 4 columns]"
      ]
     },
     "execution_count": 10,
     "metadata": {},
     "output_type": "execute_result"
    }
   ],
   "source": [
    "pd.io.sql.read_sql('''\n",
    "SELECT b.book_id,\n",
    "b.title,\n",
    "COUNT(DISTINCT re.text) AS num_of_reviews,\n",
    "ROUND (AVG(ra.rating), 2) AS average_rating\n",
    "FROM books as b\n",
    "\n",
    "LEFT JOIN ratings AS ra ON ra.book_id=b.book_id\n",
    "LEFT JOIN reviews AS re ON re.book_id=b.book_id\n",
    "GROUP BY b.book_id\n",
    "ORDER BY num_of_reviews DESC\n",
    "\n",
    "''', con = engine)"
   ]
  },
  {
   "cell_type": "code",
   "execution_count": 11,
   "metadata": {},
   "outputs": [
    {
     "data": {
      "text/html": [
       "<div>\n",
       "<style scoped>\n",
       "    .dataframe tbody tr th:only-of-type {\n",
       "        vertical-align: middle;\n",
       "    }\n",
       "\n",
       "    .dataframe tbody tr th {\n",
       "        vertical-align: top;\n",
       "    }\n",
       "\n",
       "    .dataframe thead th {\n",
       "        text-align: right;\n",
       "    }\n",
       "</style>\n",
       "<table border=\"1\" class=\"dataframe\">\n",
       "  <thead>\n",
       "    <tr style=\"text-align: right;\">\n",
       "      <th></th>\n",
       "      <th>book_id</th>\n",
       "      <th>title</th>\n",
       "      <th>num_of_reviews</th>\n",
       "      <th>average_rating</th>\n",
       "    </tr>\n",
       "  </thead>\n",
       "  <tbody>\n",
       "    <tr>\n",
       "      <th>0</th>\n",
       "      <td>303</td>\n",
       "      <td>Harvesting the Heart</td>\n",
       "      <td>2</td>\n",
       "      <td>1.50</td>\n",
       "    </tr>\n",
       "    <tr>\n",
       "      <th>1</th>\n",
       "      <td>371</td>\n",
       "      <td>Junky</td>\n",
       "      <td>2</td>\n",
       "      <td>2.00</td>\n",
       "    </tr>\n",
       "    <tr>\n",
       "      <th>2</th>\n",
       "      <td>316</td>\n",
       "      <td>His Excellency: George Washington</td>\n",
       "      <td>2</td>\n",
       "      <td>2.00</td>\n",
       "    </tr>\n",
       "    <tr>\n",
       "      <th>3</th>\n",
       "      <td>202</td>\n",
       "      <td>Drowning Ruth</td>\n",
       "      <td>3</td>\n",
       "      <td>2.00</td>\n",
       "    </tr>\n",
       "    <tr>\n",
       "      <th>4</th>\n",
       "      <td>915</td>\n",
       "      <td>The World Is Flat: A Brief History of the Twen...</td>\n",
       "      <td>3</td>\n",
       "      <td>2.25</td>\n",
       "    </tr>\n",
       "    <tr>\n",
       "      <th>...</th>\n",
       "      <td>...</td>\n",
       "      <td>...</td>\n",
       "      <td>...</td>\n",
       "      <td>...</td>\n",
       "    </tr>\n",
       "    <tr>\n",
       "      <th>995</th>\n",
       "      <td>421</td>\n",
       "      <td>Marvel 1602</td>\n",
       "      <td>2</td>\n",
       "      <td>5.00</td>\n",
       "    </tr>\n",
       "    <tr>\n",
       "      <th>996</th>\n",
       "      <td>418</td>\n",
       "      <td>March</td>\n",
       "      <td>2</td>\n",
       "      <td>5.00</td>\n",
       "    </tr>\n",
       "    <tr>\n",
       "      <th>997</th>\n",
       "      <td>169</td>\n",
       "      <td>Crucial Conversations: Tools for Talking When ...</td>\n",
       "      <td>2</td>\n",
       "      <td>5.00</td>\n",
       "    </tr>\n",
       "    <tr>\n",
       "      <th>998</th>\n",
       "      <td>901</td>\n",
       "      <td>The Walking Dead  Book One (The Walking Dead #...</td>\n",
       "      <td>2</td>\n",
       "      <td>5.00</td>\n",
       "    </tr>\n",
       "    <tr>\n",
       "      <th>999</th>\n",
       "      <td>902</td>\n",
       "      <td>The War of Art: Break Through the Blocks &amp; Win...</td>\n",
       "      <td>2</td>\n",
       "      <td>5.00</td>\n",
       "    </tr>\n",
       "  </tbody>\n",
       "</table>\n",
       "<p>1000 rows × 4 columns</p>\n",
       "</div>"
      ],
      "text/plain": [
       "     book_id                                              title  \\\n",
       "0        303                               Harvesting the Heart   \n",
       "1        371                                              Junky   \n",
       "2        316                  His Excellency: George Washington   \n",
       "3        202                                      Drowning Ruth   \n",
       "4        915  The World Is Flat: A Brief History of the Twen...   \n",
       "..       ...                                                ...   \n",
       "995      421                                        Marvel 1602   \n",
       "996      418                                              March   \n",
       "997      169  Crucial Conversations: Tools for Talking When ...   \n",
       "998      901  The Walking Dead  Book One (The Walking Dead #...   \n",
       "999      902  The War of Art: Break Through the Blocks & Win...   \n",
       "\n",
       "     num_of_reviews  average_rating  \n",
       "0                 2            1.50  \n",
       "1                 2            2.00  \n",
       "2                 2            2.00  \n",
       "3                 3            2.00  \n",
       "4                 3            2.25  \n",
       "..              ...             ...  \n",
       "995               2            5.00  \n",
       "996               2            5.00  \n",
       "997               2            5.00  \n",
       "998               2            5.00  \n",
       "999               2            5.00  \n",
       "\n",
       "[1000 rows x 4 columns]"
      ]
     },
     "execution_count": 11,
     "metadata": {},
     "output_type": "execute_result"
    }
   ],
   "source": [
    "pd.io.sql.read_sql('''\n",
    "SELECT b.book_id,\n",
    "b.title,\n",
    "COUNT(DISTINCT re.text) AS num_of_reviews,\n",
    "ROUND (AVG(ra.rating), 2) AS average_rating\n",
    "FROM books as b\n",
    "\n",
    "LEFT JOIN ratings AS ra ON ra.book_id=b.book_id\n",
    "LEFT JOIN reviews AS re ON re.book_id=b.book_id\n",
    "GROUP BY b.book_id\n",
    "ORDER BY average_rating\n",
    "''', con = engine)"
   ]
  },
  {
   "cell_type": "markdown",
   "metadata": {},
   "source": [
    "Число ревью - от 7 до 0, причём нет ревью только у 6 книг, а 7 ревью - только у одной, \"Twilight (Twilight #1)\"\n",
    "Рейтинги варьируются  от 1.50 до 5.00, причём рейтинг <=3 получили 102 книги, а >= 4 - 564 книги."
   ]
  },
  {
   "cell_type": "markdown",
   "metadata": {},
   "source": [
    "### Издательство, которое выпустило наибольшее число книг толще 50 страниц (не брошюры)"
   ]
  },
  {
   "cell_type": "code",
   "execution_count": 12,
   "metadata": {},
   "outputs": [
    {
     "data": {
      "text/html": [
       "<div>\n",
       "<style scoped>\n",
       "    .dataframe tbody tr th:only-of-type {\n",
       "        vertical-align: middle;\n",
       "    }\n",
       "\n",
       "    .dataframe tbody tr th {\n",
       "        vertical-align: top;\n",
       "    }\n",
       "\n",
       "    .dataframe thead th {\n",
       "        text-align: right;\n",
       "    }\n",
       "</style>\n",
       "<table border=\"1\" class=\"dataframe\">\n",
       "  <thead>\n",
       "    <tr style=\"text-align: right;\">\n",
       "      <th></th>\n",
       "      <th>publisher</th>\n",
       "      <th>number_of_book</th>\n",
       "    </tr>\n",
       "  </thead>\n",
       "  <tbody>\n",
       "    <tr>\n",
       "      <th>0</th>\n",
       "      <td>Penguin Books</td>\n",
       "      <td>42</td>\n",
       "    </tr>\n",
       "  </tbody>\n",
       "</table>\n",
       "</div>"
      ],
      "text/plain": [
       "       publisher  number_of_book\n",
       "0  Penguin Books              42"
      ]
     },
     "execution_count": 12,
     "metadata": {},
     "output_type": "execute_result"
    }
   ],
   "source": [
    "pd.io.sql.read_sql('''\n",
    "SELECT num_b.publisher,\n",
    "       num_b.number_of_book\n",
    "\n",
    "FROM (SELECT COUNT(DISTINCT b.book_id) AS number_of_book,\n",
    "        pub.publisher     \n",
    "        FROM books AS b\n",
    "        LEFT JOIN publishers AS pub ON pub.publisher_id=b.publisher_id\n",
    "        WHERE b.num_pages>50\n",
    "        GROUP BY publisher\n",
    "           ) AS num_b\n",
    "ORDER BY  number_of_book DESC\n",
    "LIMIT 1\n",
    "''', con = engine)"
   ]
  },
  {
   "cell_type": "markdown",
   "metadata": {},
   "source": [
    "Наибольшее число книг выпустило издательство Penguin Books\t- 42 книги."
   ]
  },
  {
   "cell_type": "markdown",
   "metadata": {},
   "source": [
    "### Автор с самой высокой средней оценкой книг, если оценок книги не меньше 50"
   ]
  },
  {
   "cell_type": "code",
   "execution_count": 13,
   "metadata": {},
   "outputs": [
    {
     "data": {
      "text/html": [
       "<div>\n",
       "<style scoped>\n",
       "    .dataframe tbody tr th:only-of-type {\n",
       "        vertical-align: middle;\n",
       "    }\n",
       "\n",
       "    .dataframe tbody tr th {\n",
       "        vertical-align: top;\n",
       "    }\n",
       "\n",
       "    .dataframe thead th {\n",
       "        text-align: right;\n",
       "    }\n",
       "</style>\n",
       "<table border=\"1\" class=\"dataframe\">\n",
       "  <thead>\n",
       "    <tr style=\"text-align: right;\">\n",
       "      <th></th>\n",
       "      <th>author</th>\n",
       "      <th>avg_book_rat</th>\n",
       "    </tr>\n",
       "  </thead>\n",
       "  <tbody>\n",
       "    <tr>\n",
       "      <th>0</th>\n",
       "      <td>J.K. Rowling/Mary GrandPré</td>\n",
       "      <td>4.287097</td>\n",
       "    </tr>\n",
       "  </tbody>\n",
       "</table>\n",
       "</div>"
      ],
      "text/plain": [
       "                       author  avg_book_rat\n",
       "0  J.K. Rowling/Mary GrandPré      4.287097"
      ]
     },
     "execution_count": 13,
     "metadata": {},
     "output_type": "execute_result"
    }
   ],
   "source": [
    "pd.io.sql.read_sql('''\n",
    "SELECT a.author,\n",
    "AVG(ra.rating) AS avg_book_rat\n",
    "FROM  books AS b\n",
    "LEFT JOIN authors AS a ON b.author_id=a.author_id\n",
    "LEFT JOIN ratings AS ra ON ra.book_id=b.book_id\n",
    "WHERE b.book_id IN (SELECT book_id\n",
    "                  FROM ratings\n",
    "                  GROUP BY book_id\n",
    "                  HAVING COUNT(rating_id) >= 50\n",
    "                  ) \n",
    "GROUP BY a.author_id \n",
    "ORDER BY avg_book_rat DESC\n",
    "LIMIT 1\n",
    "\n",
    "\n",
    "''', con = engine)"
   ]
  },
  {
   "cell_type": "markdown",
   "metadata": {},
   "source": [
    "Автор с самой высокой средней оценкой книг - Дж.К.Роулинг. Средняя оценка её книг - 4.29"
   ]
  },
  {
   "cell_type": "markdown",
   "metadata": {},
   "source": [
    "### Cреднее количество обзоров от пользователей, которые поставили больше 50 оценок"
   ]
  },
  {
   "cell_type": "code",
   "execution_count": 14,
   "metadata": {},
   "outputs": [
    {
     "data": {
      "text/html": [
       "<div>\n",
       "<style scoped>\n",
       "    .dataframe tbody tr th:only-of-type {\n",
       "        vertical-align: middle;\n",
       "    }\n",
       "\n",
       "    .dataframe tbody tr th {\n",
       "        vertical-align: top;\n",
       "    }\n",
       "\n",
       "    .dataframe thead th {\n",
       "        text-align: right;\n",
       "    }\n",
       "</style>\n",
       "<table border=\"1\" class=\"dataframe\">\n",
       "  <thead>\n",
       "    <tr style=\"text-align: right;\">\n",
       "      <th></th>\n",
       "      <th>avg_num_of_review</th>\n",
       "    </tr>\n",
       "  </thead>\n",
       "  <tbody>\n",
       "    <tr>\n",
       "      <th>0</th>\n",
       "      <td>24.0</td>\n",
       "    </tr>\n",
       "  </tbody>\n",
       "</table>\n",
       "</div>"
      ],
      "text/plain": [
       "   avg_num_of_review\n",
       "0               24.0"
      ]
     },
     "execution_count": 14,
     "metadata": {},
     "output_type": "execute_result"
    }
   ],
   "source": [
    "pd.io.sql.read_sql('''\n",
    "SELECT ROUND(AVG(re_ra.num_rev),0) AS avg_num_of_review\n",
    "\n",
    "FROM (SELECT username, \n",
    "    COUNT(review_id)  AS num_rev\n",
    "    FROM reviews \n",
    "    WHERE username IN \n",
    "        (SELECT username \n",
    "        FROM ratings \n",
    "        GROUP BY username \n",
    "        HAVING COUNT(rating_id) > 50) \n",
    "    GROUP BY username) AS re_ra\n",
    "    \n",
    "\n",
    "''', con = engine)"
   ]
  },
  {
   "cell_type": "markdown",
   "metadata": {},
   "source": [
    "Итак, среднее количество обзоров от пользователей, которые поставили больше 50 оценок - 24."
   ]
  },
  {
   "cell_type": "markdown",
   "metadata": {},
   "source": [
    "## Вывод:\n",
    "- После 1 января 2000 года вышло 819 книг.\n",
    "- Число ревью - от 7 до 0, причём нет ревью только у 6 книг, а 7 ревью - только у одной, \"Twilight (Twilight #1)\"\n",
    "- Рейтинги варьируются  от 1.50 до 5.00, причём рейтинг <=3 получили 102 книги, а >= 4 - 564 книги.\n",
    "- Наибольшее число книг выпустило издательство Penguin Books - 42 книги.\n",
    "- Автор с самой высокой средней оценкой книг - Дж.К.Роулинг. Средняя оценка её книг - 4.28\n",
    "- Среднее количество обзоров от пользователей, которые поставили больше 50 оценок - 24."
   ]
  }
 ],
 "metadata": {
  "ExecuteTimeLog": [
   {
    "duration": 8509,
    "start_time": "2023-01-09T04:43:10.270Z"
   },
   {
    "duration": 57,
    "start_time": "2023-01-09T04:43:18.781Z"
   },
   {
    "duration": 11,
    "start_time": "2023-01-09T04:43:18.840Z"
   },
   {
    "duration": 12,
    "start_time": "2023-01-09T04:43:18.852Z"
   },
   {
    "duration": 13,
    "start_time": "2023-01-09T04:43:18.866Z"
   },
   {
    "duration": 13,
    "start_time": "2023-01-09T04:43:18.881Z"
   },
   {
    "duration": 11,
    "start_time": "2023-01-09T04:43:18.896Z"
   },
   {
    "duration": 43,
    "start_time": "2023-01-09T04:43:18.910Z"
   },
   {
    "duration": 23,
    "start_time": "2023-01-09T04:43:18.955Z"
   },
   {
    "duration": 187,
    "start_time": "2023-01-09T04:43:18.980Z"
   },
   {
    "duration": 8459,
    "start_time": "2023-01-09T04:57:10.228Z"
   },
   {
    "duration": 56,
    "start_time": "2023-01-09T04:58:26.577Z"
   },
   {
    "duration": 13,
    "start_time": "2023-01-09T04:58:30.100Z"
   },
   {
    "duration": 13,
    "start_time": "2023-01-09T04:59:13.496Z"
   },
   {
    "duration": 13,
    "start_time": "2023-01-09T04:59:32.454Z"
   },
   {
    "duration": 15,
    "start_time": "2023-01-09T04:59:58.580Z"
   },
   {
    "duration": 9482,
    "start_time": "2023-01-09T05:00:17.096Z"
   },
   {
    "duration": 40,
    "start_time": "2023-01-09T05:00:26.580Z"
   },
   {
    "duration": 13,
    "start_time": "2023-01-09T05:00:26.622Z"
   },
   {
    "duration": 13,
    "start_time": "2023-01-09T05:00:26.636Z"
   },
   {
    "duration": 26,
    "start_time": "2023-01-09T05:00:26.651Z"
   },
   {
    "duration": 25,
    "start_time": "2023-01-09T05:00:26.678Z"
   },
   {
    "duration": 11,
    "start_time": "2023-01-09T05:01:31.781Z"
   },
   {
    "duration": 38,
    "start_time": "2023-01-09T05:01:54.573Z"
   },
   {
    "duration": 669,
    "start_time": "2023-01-09T05:02:20.428Z"
   },
   {
    "duration": 34,
    "start_time": "2023-01-09T05:02:29.297Z"
   },
   {
    "duration": 38,
    "start_time": "2023-01-09T05:28:57.351Z"
   },
   {
    "duration": 42,
    "start_time": "2023-01-09T05:29:20.715Z"
   },
   {
    "duration": 101,
    "start_time": "2023-01-09T05:37:02.340Z"
   },
   {
    "duration": 98,
    "start_time": "2023-01-09T05:37:15.867Z"
   },
   {
    "duration": 104,
    "start_time": "2023-01-09T05:37:39.758Z"
   },
   {
    "duration": 99,
    "start_time": "2023-01-09T05:43:18.649Z"
   },
   {
    "duration": 122,
    "start_time": "2023-01-09T05:45:51.822Z"
   },
   {
    "duration": 103,
    "start_time": "2023-01-09T05:46:14.805Z"
   },
   {
    "duration": 96,
    "start_time": "2023-01-09T05:46:48.511Z"
   },
   {
    "duration": 15,
    "start_time": "2023-01-09T05:48:12.496Z"
   },
   {
    "duration": 108,
    "start_time": "2023-01-09T05:48:47.812Z"
   },
   {
    "duration": 17,
    "start_time": "2023-01-09T05:48:51.993Z"
   },
   {
    "duration": 21,
    "start_time": "2023-01-09T05:49:29.813Z"
   },
   {
    "duration": 15,
    "start_time": "2023-01-09T05:49:39.534Z"
   },
   {
    "duration": 34,
    "start_time": "2023-01-09T05:51:18.542Z"
   },
   {
    "duration": 33,
    "start_time": "2023-01-09T05:52:12.952Z"
   },
   {
    "duration": 32,
    "start_time": "2023-01-09T05:52:28.777Z"
   },
   {
    "duration": 34,
    "start_time": "2023-01-09T05:52:38.200Z"
   },
   {
    "duration": 34,
    "start_time": "2023-01-09T05:52:42.897Z"
   },
   {
    "duration": 41,
    "start_time": "2023-01-09T05:52:56.341Z"
   },
   {
    "duration": 36,
    "start_time": "2023-01-09T05:53:01.801Z"
   },
   {
    "duration": 39,
    "start_time": "2023-01-09T05:53:10.565Z"
   },
   {
    "duration": 42,
    "start_time": "2023-01-09T05:53:15.740Z"
   },
   {
    "duration": 35,
    "start_time": "2023-01-09T05:53:22.027Z"
   },
   {
    "duration": 33,
    "start_time": "2023-01-09T05:53:42.797Z"
   },
   {
    "duration": 32,
    "start_time": "2023-01-09T05:55:44.875Z"
   },
   {
    "duration": 32,
    "start_time": "2023-01-09T05:55:53.296Z"
   },
   {
    "duration": 31,
    "start_time": "2023-01-09T05:56:02.079Z"
   },
   {
    "duration": 35,
    "start_time": "2023-01-09T05:56:07.479Z"
   },
   {
    "duration": 34,
    "start_time": "2023-01-09T05:56:20.468Z"
   },
   {
    "duration": 31,
    "start_time": "2023-01-09T05:56:26.252Z"
   },
   {
    "duration": 33,
    "start_time": "2023-01-09T05:56:30.127Z"
   },
   {
    "duration": 32,
    "start_time": "2023-01-09T05:56:35.705Z"
   },
   {
    "duration": 33,
    "start_time": "2023-01-09T05:57:26.312Z"
   },
   {
    "duration": 41,
    "start_time": "2023-01-09T05:57:34.574Z"
   },
   {
    "duration": 33,
    "start_time": "2023-01-09T05:57:38.729Z"
   },
   {
    "duration": 36,
    "start_time": "2023-01-09T05:57:51.351Z"
   },
   {
    "duration": 36,
    "start_time": "2023-01-09T05:57:58.656Z"
   },
   {
    "duration": 36,
    "start_time": "2023-01-09T06:01:32.762Z"
   },
   {
    "duration": 95,
    "start_time": "2023-01-09T06:08:11.036Z"
   },
   {
    "duration": 107,
    "start_time": "2023-01-09T06:11:29.861Z"
   },
   {
    "duration": 101,
    "start_time": "2023-01-09T06:13:40.430Z"
   },
   {
    "duration": 108,
    "start_time": "2023-01-09T06:13:55.830Z"
   },
   {
    "duration": 23,
    "start_time": "2023-01-09T06:14:44.819Z"
   },
   {
    "duration": 121,
    "start_time": "2023-01-09T06:17:34.373Z"
   },
   {
    "duration": 109,
    "start_time": "2023-01-09T06:17:48.767Z"
   },
   {
    "duration": 136,
    "start_time": "2023-01-09T06:18:12.967Z"
   },
   {
    "duration": 19,
    "start_time": "2023-01-09T06:18:39.201Z"
   },
   {
    "duration": 21,
    "start_time": "2023-01-09T06:18:49.380Z"
   },
   {
    "duration": 20,
    "start_time": "2023-01-09T06:19:28.015Z"
   },
   {
    "duration": 130,
    "start_time": "2023-01-09T06:20:09.212Z"
   },
   {
    "duration": 115,
    "start_time": "2023-01-09T06:21:24.414Z"
   },
   {
    "duration": 22,
    "start_time": "2023-01-09T06:21:43.372Z"
   },
   {
    "duration": 100,
    "start_time": "2023-01-09T06:28:55.909Z"
   },
   {
    "duration": 22,
    "start_time": "2023-01-09T06:29:00.593Z"
   },
   {
    "duration": 110,
    "start_time": "2023-01-09T06:29:35.726Z"
   },
   {
    "duration": 98,
    "start_time": "2023-01-09T06:30:23.650Z"
   },
   {
    "duration": 17,
    "start_time": "2023-01-09T06:30:47.123Z"
   },
   {
    "duration": 18,
    "start_time": "2023-01-09T06:31:16.138Z"
   },
   {
    "duration": 19,
    "start_time": "2023-01-09T06:31:30.135Z"
   },
   {
    "duration": 98,
    "start_time": "2023-01-09T06:45:42.377Z"
   },
   {
    "duration": 104,
    "start_time": "2023-01-09T06:46:01.867Z"
   },
   {
    "duration": 99,
    "start_time": "2023-01-09T06:46:13.029Z"
   },
   {
    "duration": 39,
    "start_time": "2023-01-09T06:46:56.468Z"
   },
   {
    "duration": 37,
    "start_time": "2023-01-09T06:47:09.439Z"
   },
   {
    "duration": 122,
    "start_time": "2023-01-09T06:47:29.615Z"
   },
   {
    "duration": 35,
    "start_time": "2023-01-09T06:47:52.777Z"
   },
   {
    "duration": 43,
    "start_time": "2023-01-09T06:55:09.709Z"
   },
   {
    "duration": 64,
    "start_time": "2023-01-09T06:55:30.958Z"
   },
   {
    "duration": 62,
    "start_time": "2023-01-09T06:55:44.198Z"
   },
   {
    "duration": 16,
    "start_time": "2023-01-09T06:56:51.430Z"
   },
   {
    "duration": 17,
    "start_time": "2023-01-09T06:57:00.738Z"
   },
   {
    "duration": 14,
    "start_time": "2023-01-09T06:57:04.833Z"
   },
   {
    "duration": 93,
    "start_time": "2023-01-09T06:59:18.687Z"
   },
   {
    "duration": 18,
    "start_time": "2023-01-09T06:59:55.240Z"
   },
   {
    "duration": 5461,
    "start_time": "2023-01-09T08:45:16.450Z"
   },
   {
    "duration": 278,
    "start_time": "2023-01-09T08:45:21.913Z"
   },
   {
    "duration": 72,
    "start_time": "2023-01-09T08:45:22.193Z"
   },
   {
    "duration": 72,
    "start_time": "2023-01-09T08:45:22.267Z"
   },
   {
    "duration": 74,
    "start_time": "2023-01-09T08:45:22.341Z"
   },
   {
    "duration": 73,
    "start_time": "2023-01-09T08:45:22.416Z"
   },
   {
    "duration": 72,
    "start_time": "2023-01-09T08:45:22.490Z"
   },
   {
    "duration": 107,
    "start_time": "2023-01-09T08:45:22.564Z"
   },
   {
    "duration": 94,
    "start_time": "2023-01-09T08:45:22.672Z"
   },
   {
    "duration": 98,
    "start_time": "2023-01-09T08:45:22.768Z"
   },
   {
    "duration": 71,
    "start_time": "2023-01-09T08:45:22.867Z"
   },
   {
    "duration": 77,
    "start_time": "2023-01-09T08:45:22.940Z"
   },
   {
    "duration": 72,
    "start_time": "2023-01-09T08:45:23.019Z"
   },
   {
    "duration": 99,
    "start_time": "2023-01-09T08:46:48.227Z"
   },
   {
    "duration": 51,
    "start_time": "2023-01-09T10:13:27.760Z"
   },
   {
    "duration": 6507,
    "start_time": "2023-01-09T10:13:33.944Z"
   },
   {
    "duration": 272,
    "start_time": "2023-01-09T10:13:40.454Z"
   },
   {
    "duration": 76,
    "start_time": "2023-01-09T10:13:40.727Z"
   },
   {
    "duration": 77,
    "start_time": "2023-01-09T10:13:40.805Z"
   },
   {
    "duration": 75,
    "start_time": "2023-01-09T10:13:40.883Z"
   },
   {
    "duration": 76,
    "start_time": "2023-01-09T10:13:40.960Z"
   },
   {
    "duration": 105,
    "start_time": "2023-01-09T10:13:41.038Z"
   },
   {
    "duration": 81,
    "start_time": "2023-01-09T10:13:41.145Z"
   },
   {
    "duration": 110,
    "start_time": "2023-01-09T10:13:41.227Z"
   },
   {
    "duration": 95,
    "start_time": "2023-01-09T10:13:41.340Z"
   },
   {
    "duration": 95,
    "start_time": "2023-01-09T10:13:41.437Z"
   },
   {
    "duration": 76,
    "start_time": "2023-01-09T10:13:41.533Z"
   },
   {
    "duration": 78,
    "start_time": "2023-01-09T10:13:41.611Z"
   },
   {
    "duration": 165,
    "start_time": "2023-01-09T10:13:41.691Z"
   },
   {
    "duration": 0,
    "start_time": "2023-01-09T10:13:41.858Z"
   },
   {
    "duration": 198,
    "start_time": "2023-01-09T10:14:14.819Z"
   },
   {
    "duration": 145,
    "start_time": "2023-01-09T10:14:32.237Z"
   },
   {
    "duration": 131,
    "start_time": "2023-01-09T10:14:40.155Z"
   },
   {
    "duration": 156,
    "start_time": "2023-01-09T10:14:48.266Z"
   },
   {
    "duration": 79,
    "start_time": "2023-01-09T10:14:56.768Z"
   },
   {
    "duration": 138,
    "start_time": "2023-01-09T10:15:11.801Z"
   },
   {
    "duration": 79,
    "start_time": "2023-01-09T10:15:21.354Z"
   },
   {
    "duration": 82,
    "start_time": "2023-01-09T10:16:29.988Z"
   },
   {
    "duration": 5791,
    "start_time": "2023-01-09T14:29:52.966Z"
   },
   {
    "duration": 269,
    "start_time": "2023-01-09T14:29:58.759Z"
   },
   {
    "duration": 78,
    "start_time": "2023-01-09T14:29:59.030Z"
   },
   {
    "duration": 76,
    "start_time": "2023-01-09T14:29:59.111Z"
   },
   {
    "duration": 77,
    "start_time": "2023-01-09T14:29:59.189Z"
   },
   {
    "duration": 81,
    "start_time": "2023-01-09T14:29:59.267Z"
   },
   {
    "duration": 144,
    "start_time": "2023-01-09T14:29:59.350Z"
   },
   {
    "duration": 75,
    "start_time": "2023-01-09T14:29:59.496Z"
   },
   {
    "duration": 110,
    "start_time": "2023-01-09T14:29:59.573Z"
   },
   {
    "duration": 103,
    "start_time": "2023-01-09T14:29:59.686Z"
   },
   {
    "duration": 109,
    "start_time": "2023-01-09T14:29:59.791Z"
   },
   {
    "duration": 81,
    "start_time": "2023-01-09T14:29:59.902Z"
   },
   {
    "duration": 82,
    "start_time": "2023-01-09T14:29:59.985Z"
   },
   {
    "duration": 83,
    "start_time": "2023-01-09T14:30:00.069Z"
   }
  ],
  "kernelspec": {
   "display_name": "Python 3 (ipykernel)",
   "language": "python",
   "name": "python3"
  },
  "language_info": {
   "codemirror_mode": {
    "name": "ipython",
    "version": 3
   },
   "file_extension": ".py",
   "mimetype": "text/x-python",
   "name": "python",
   "nbconvert_exporter": "python",
   "pygments_lexer": "ipython3",
   "version": "3.9.5"
  },
  "toc": {
   "base_numbering": 1,
   "nav_menu": {},
   "number_sections": true,
   "sideBar": true,
   "skip_h1_title": true,
   "title_cell": "Table of Contents",
   "title_sidebar": "Contents",
   "toc_cell": false,
   "toc_position": {},
   "toc_section_display": true,
   "toc_window_display": false
  }
 },
 "nbformat": 4,
 "nbformat_minor": 2
}
