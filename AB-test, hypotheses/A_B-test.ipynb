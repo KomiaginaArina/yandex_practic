{
 "cells": [
  {
   "cell_type": "markdown",
   "metadata": {},
   "source": [
    "# Проект \"Принятие решений в бизнесе\"\n",
    "## Описание:\n",
    "Изображаем аналитика крупного интернет-магазина. Вместе с отделом маркетинга был подготовлен список гипотез для увеличения выручки. \n",
    "\n",
    "Необходимо приоритизировать гипотезы, запустить A/B-тест и проанализировать результаты."
   ]
  },
  {
   "cell_type": "markdown",
   "metadata": {},
   "source": [
    "### Ход исследования:\n",
    "1)  Приоритизация гипотез методами ICE и RICE\n",
    " \n",
    "2) Анализ A/B - теста: \n",
    "\n",
    "  - графики кумулятивного среднего чека и кумулятивной выручки по группам\n",
    "  - график относительного изменения кумулятивного среднего чека группы B к группе A\n",
    "  - график кумулятивной конверсии по группам и график относительного изменения кумулятивной конверсии группы B к группе A. \n",
    "  - точечный график количества заказов по пользователям и точечный график стоимостей заказов     \n",
    "  - расчёт перцентилей количества заказов на пользователя и  стоимости заказов\n",
    "  - расчёт статистической значимости различий в конверсии и в среднем чеке заказа между группами по «сырым» данным     \n",
    "  - расчёт статистической значимости различий в конверсии и в среднем чеке заказа между группами по «очищенным» данным   \n",
    "  - решение о результате А/B - теста"
   ]
  },
  {
   "cell_type": "markdown",
   "metadata": {},
   "source": [
    "## Подключение библиотек, чтение файлов"
   ]
  },
  {
   "cell_type": "code",
   "execution_count": 39,
   "metadata": {},
   "outputs": [],
   "source": [
    "import pandas as pd\n",
    "import datetime as dt\n",
    "import numpy as np\n",
    "import matplotlib.pyplot as plt\n",
    "import warnings\n",
    "from pandas.plotting import register_matplotlib_converters\n",
    "register_matplotlib_converters()\n",
    "import scipy.stats as stats"
   ]
  },
  {
   "cell_type": "code",
   "execution_count": 40,
   "metadata": {},
   "outputs": [],
   "source": [
    "hyp =pd.read_csv('/datasets/hypothesis.csv')\n",
    "orders= pd.read_csv('/datasets/orders.csv')\n",
    "visitors=pd.read_csv('/datasets/visitors.csv')"
   ]
  },
  {
   "cell_type": "markdown",
   "metadata": {},
   "source": [
    "## Предобработка"
   ]
  },
  {
   "cell_type": "code",
   "execution_count": 41,
   "metadata": {},
   "outputs": [
    {
     "name": "stdout",
     "output_type": "stream",
     "text": [
      "<class 'pandas.core.frame.DataFrame'>\n",
      "RangeIndex: 9 entries, 0 to 8\n",
      "Data columns (total 5 columns):\n",
      " #   Column      Non-Null Count  Dtype \n",
      "---  ------      --------------  ----- \n",
      " 0   Hypothesis  9 non-null      object\n",
      " 1   Reach       9 non-null      int64 \n",
      " 2   Impact      9 non-null      int64 \n",
      " 3   Confidence  9 non-null      int64 \n",
      " 4   Efforts     9 non-null      int64 \n",
      "dtypes: int64(4), object(1)\n",
      "memory usage: 488.0+ bytes\n"
     ]
    }
   ],
   "source": [
    "hyp.info() "
   ]
  },
  {
   "cell_type": "code",
   "execution_count": 42,
   "metadata": {},
   "outputs": [
    {
     "name": "stdout",
     "output_type": "stream",
     "text": [
      "<class 'pandas.core.frame.DataFrame'>\n",
      "RangeIndex: 1197 entries, 0 to 1196\n",
      "Data columns (total 5 columns):\n",
      " #   Column         Non-Null Count  Dtype \n",
      "---  ------         --------------  ----- \n",
      " 0   transactionId  1197 non-null   int64 \n",
      " 1   visitorId      1197 non-null   int64 \n",
      " 2   date           1197 non-null   object\n",
      " 3   revenue        1197 non-null   int64 \n",
      " 4   group          1197 non-null   object\n",
      "dtypes: int64(3), object(2)\n",
      "memory usage: 46.9+ KB\n"
     ]
    }
   ],
   "source": [
    "orders.info()"
   ]
  },
  {
   "cell_type": "code",
   "execution_count": 43,
   "metadata": {},
   "outputs": [
    {
     "name": "stdout",
     "output_type": "stream",
     "text": [
      "<class 'pandas.core.frame.DataFrame'>\n",
      "RangeIndex: 62 entries, 0 to 61\n",
      "Data columns (total 3 columns):\n",
      " #   Column    Non-Null Count  Dtype \n",
      "---  ------    --------------  ----- \n",
      " 0   date      62 non-null     object\n",
      " 1   group     62 non-null     object\n",
      " 2   visitors  62 non-null     int64 \n",
      "dtypes: int64(1), object(2)\n",
      "memory usage: 1.6+ KB\n"
     ]
    }
   ],
   "source": [
    "visitors.info()"
   ]
  },
  {
   "cell_type": "code",
   "execution_count": 44,
   "metadata": {},
   "outputs": [],
   "source": [
    "#Приведём названия столбцов к snake_style, и столбцы с датой - к нужному формату.\n",
    "hyp.columns=hyp.columns.str.lower()\n",
    "orders.rename(columns={'transactionId': 'transaction_id', 'visitorId': 'visitor_id'}, inplace=True)"
   ]
  },
  {
   "cell_type": "code",
   "execution_count": 45,
   "metadata": {},
   "outputs": [],
   "source": [
    "visitors['date'] = pd.to_datetime(visitors['date'])\n",
    "orders['date'] = pd.to_datetime(orders['date'])"
   ]
  },
  {
   "cell_type": "code",
   "execution_count": 46,
   "metadata": {},
   "outputs": [
    {
     "data": {
      "text/plain": [
       "0"
      ]
     },
     "metadata": {},
     "output_type": "display_data"
    },
    {
     "data": {
      "text/plain": [
       "0"
      ]
     },
     "metadata": {},
     "output_type": "display_data"
    },
    {
     "data": {
      "text/plain": [
       "0"
      ]
     },
     "execution_count": 46,
     "metadata": {},
     "output_type": "execute_result"
    }
   ],
   "source": [
    "#Проверим на наличие дубликатов\n",
    "display(hyp.duplicated().sum())\n",
    "display(orders.duplicated().sum())\n",
    "visitors.duplicated().sum()"
   ]
  },
  {
   "cell_type": "code",
   "execution_count": 47,
   "metadata": {},
   "outputs": [
    {
     "name": "stdout",
     "output_type": "stream",
     "text": [
      "<class 'pandas.core.frame.DataFrame'>\n",
      "RangeIndex: 9 entries, 0 to 8\n",
      "Data columns (total 5 columns):\n",
      " #   Column      Non-Null Count  Dtype \n",
      "---  ------      --------------  ----- \n",
      " 0   hypothesis  9 non-null      object\n",
      " 1   reach       9 non-null      int64 \n",
      " 2   impact      9 non-null      int64 \n",
      " 3   confidence  9 non-null      int64 \n",
      " 4   efforts     9 non-null      int64 \n",
      "dtypes: int64(4), object(1)\n",
      "memory usage: 488.0+ bytes\n"
     ]
    }
   ],
   "source": [
    "hyp.info()"
   ]
  },
  {
   "cell_type": "code",
   "execution_count": 48,
   "metadata": {},
   "outputs": [
    {
     "name": "stdout",
     "output_type": "stream",
     "text": [
      "<class 'pandas.core.frame.DataFrame'>\n",
      "RangeIndex: 1197 entries, 0 to 1196\n",
      "Data columns (total 5 columns):\n",
      " #   Column          Non-Null Count  Dtype         \n",
      "---  ------          --------------  -----         \n",
      " 0   transaction_id  1197 non-null   int64         \n",
      " 1   visitor_id      1197 non-null   int64         \n",
      " 2   date            1197 non-null   datetime64[ns]\n",
      " 3   revenue         1197 non-null   int64         \n",
      " 4   group           1197 non-null   object        \n",
      "dtypes: datetime64[ns](1), int64(3), object(1)\n",
      "memory usage: 46.9+ KB\n"
     ]
    }
   ],
   "source": [
    "orders.info()"
   ]
  },
  {
   "cell_type": "code",
   "execution_count": 49,
   "metadata": {},
   "outputs": [
    {
     "name": "stdout",
     "output_type": "stream",
     "text": [
      "<class 'pandas.core.frame.DataFrame'>\n",
      "RangeIndex: 62 entries, 0 to 61\n",
      "Data columns (total 3 columns):\n",
      " #   Column    Non-Null Count  Dtype         \n",
      "---  ------    --------------  -----         \n",
      " 0   date      62 non-null     datetime64[ns]\n",
      " 1   group     62 non-null     object        \n",
      " 2   visitors  62 non-null     int64         \n",
      "dtypes: datetime64[ns](1), int64(1), object(1)\n",
      "memory usage: 1.6+ KB\n"
     ]
    }
   ],
   "source": [
    "visitors.info()"
   ]
  },
  {
   "cell_type": "markdown",
   "metadata": {},
   "source": [
    "#### Вывод\n",
    "Итак, нужные файлы загружены, проверены на наличие пропусков и дубликатов (оные не обнаружены),  названия столбцов приведены к стилю snake,  данные в столбцах, связаннных с датой и временем, переведены в формат datetime"
   ]
  },
  {
   "cell_type": "markdown",
   "metadata": {},
   "source": [
    "## Приоритизация гипотез методами ICE и RICE"
   ]
  },
  {
   "cell_type": "markdown",
   "metadata": {},
   "source": [
    "### Метод ICE\n",
    "$$ICE = \\frac{Impact * Confidence}{Efforts}$$\n"
   ]
  },
  {
   "cell_type": "code",
   "execution_count": 52,
   "metadata": {},
   "outputs": [
    {
     "data": {
      "text/html": [
       "<div>\n",
       "<style scoped>\n",
       "    .dataframe tbody tr th:only-of-type {\n",
       "        vertical-align: middle;\n",
       "    }\n",
       "\n",
       "    .dataframe tbody tr th {\n",
       "        vertical-align: top;\n",
       "    }\n",
       "\n",
       "    .dataframe thead th {\n",
       "        text-align: right;\n",
       "    }\n",
       "</style>\n",
       "<table border=\"1\" class=\"dataframe\">\n",
       "  <thead>\n",
       "    <tr style=\"text-align: right;\">\n",
       "      <th></th>\n",
       "      <th>hypothesis</th>\n",
       "      <th>ICE</th>\n",
       "    </tr>\n",
       "  </thead>\n",
       "  <tbody>\n",
       "    <tr>\n",
       "      <th>8</th>\n",
       "      <td>Запустить акцию, дающую скидку на товар в день...</td>\n",
       "      <td>16.2</td>\n",
       "    </tr>\n",
       "    <tr>\n",
       "      <th>0</th>\n",
       "      <td>Добавить два новых канала привлечения трафика,...</td>\n",
       "      <td>13.3</td>\n",
       "    </tr>\n",
       "    <tr>\n",
       "      <th>7</th>\n",
       "      <td>Добавить форму подписки на все основные страни...</td>\n",
       "      <td>11.2</td>\n",
       "    </tr>\n",
       "    <tr>\n",
       "      <th>6</th>\n",
       "      <td>Показать на главной странице баннеры с актуаль...</td>\n",
       "      <td>8.0</td>\n",
       "    </tr>\n",
       "    <tr>\n",
       "      <th>2</th>\n",
       "      <td>Добавить блоки рекомендаций товаров на сайт ин...</td>\n",
       "      <td>7.0</td>\n",
       "    </tr>\n",
       "    <tr>\n",
       "      <th>1</th>\n",
       "      <td>Запустить собственную службу доставки, что сок...</td>\n",
       "      <td>2.0</td>\n",
       "    </tr>\n",
       "    <tr>\n",
       "      <th>5</th>\n",
       "      <td>Добавить страницу отзывов клиентов о магазине,...</td>\n",
       "      <td>1.3</td>\n",
       "    </tr>\n",
       "    <tr>\n",
       "      <th>3</th>\n",
       "      <td>Изменить структура категорий, что увеличит кон...</td>\n",
       "      <td>1.1</td>\n",
       "    </tr>\n",
       "    <tr>\n",
       "      <th>4</th>\n",
       "      <td>Изменить цвет фона главной страницы, чтобы уве...</td>\n",
       "      <td>1.0</td>\n",
       "    </tr>\n",
       "  </tbody>\n",
       "</table>\n",
       "</div>"
      ],
      "text/plain": [
       "                                          hypothesis   ICE\n",
       "8  Запустить акцию, дающую скидку на товар в день...  16.2\n",
       "0  Добавить два новых канала привлечения трафика,...  13.3\n",
       "7  Добавить форму подписки на все основные страни...  11.2\n",
       "6  Показать на главной странице баннеры с актуаль...   8.0\n",
       "2  Добавить блоки рекомендаций товаров на сайт ин...   7.0\n",
       "1  Запустить собственную службу доставки, что сок...   2.0\n",
       "5  Добавить страницу отзывов клиентов о магазине,...   1.3\n",
       "3  Изменить структура категорий, что увеличит кон...   1.1\n",
       "4  Изменить цвет фона главной страницы, чтобы уве...   1.0"
      ]
     },
     "execution_count": 52,
     "metadata": {},
     "output_type": "execute_result"
    }
   ],
   "source": [
    "hyp['ICE']=round(hyp['impact']*hyp['confidence']/hyp['efforts'],1)\n",
    "hyp[['hypothesis','ICE']].sort_values(by='ICE', ascending=False)"
   ]
  },
  {
   "cell_type": "markdown",
   "metadata": {},
   "source": [
    "Наиболее перспективные гипотезы по методу ICE - акция на товар в день рождения, 2 новых канала привлечения трафика, форма подписки на основные страницы  и  баннеры на главной странице."
   ]
  },
  {
   "cell_type": "markdown",
   "metadata": {},
   "source": [
    "### Метод RICE\n",
    "$$RICE = \\frac{Rearch * Impact * Confidence}{Efforts}$$"
   ]
  },
  {
   "cell_type": "code",
   "execution_count": 53,
   "metadata": {},
   "outputs": [
    {
     "data": {
      "text/html": [
       "<div>\n",
       "<style scoped>\n",
       "    .dataframe tbody tr th:only-of-type {\n",
       "        vertical-align: middle;\n",
       "    }\n",
       "\n",
       "    .dataframe tbody tr th {\n",
       "        vertical-align: top;\n",
       "    }\n",
       "\n",
       "    .dataframe thead th {\n",
       "        text-align: right;\n",
       "    }\n",
       "</style>\n",
       "<table border=\"1\" class=\"dataframe\">\n",
       "  <thead>\n",
       "    <tr style=\"text-align: right;\">\n",
       "      <th></th>\n",
       "      <th>hypothesis</th>\n",
       "      <th>RICE</th>\n",
       "    </tr>\n",
       "  </thead>\n",
       "  <tbody>\n",
       "    <tr>\n",
       "      <th>7</th>\n",
       "      <td>Добавить форму подписки на все основные страни...</td>\n",
       "      <td>112.0</td>\n",
       "    </tr>\n",
       "    <tr>\n",
       "      <th>2</th>\n",
       "      <td>Добавить блоки рекомендаций товаров на сайт ин...</td>\n",
       "      <td>56.0</td>\n",
       "    </tr>\n",
       "    <tr>\n",
       "      <th>0</th>\n",
       "      <td>Добавить два новых канала привлечения трафика,...</td>\n",
       "      <td>40.0</td>\n",
       "    </tr>\n",
       "    <tr>\n",
       "      <th>6</th>\n",
       "      <td>Показать на главной странице баннеры с актуаль...</td>\n",
       "      <td>40.0</td>\n",
       "    </tr>\n",
       "    <tr>\n",
       "      <th>8</th>\n",
       "      <td>Запустить акцию, дающую скидку на товар в день...</td>\n",
       "      <td>16.2</td>\n",
       "    </tr>\n",
       "    <tr>\n",
       "      <th>3</th>\n",
       "      <td>Изменить структура категорий, что увеличит кон...</td>\n",
       "      <td>9.0</td>\n",
       "    </tr>\n",
       "    <tr>\n",
       "      <th>1</th>\n",
       "      <td>Запустить собственную службу доставки, что сок...</td>\n",
       "      <td>4.0</td>\n",
       "    </tr>\n",
       "    <tr>\n",
       "      <th>5</th>\n",
       "      <td>Добавить страницу отзывов клиентов о магазине,...</td>\n",
       "      <td>4.0</td>\n",
       "    </tr>\n",
       "    <tr>\n",
       "      <th>4</th>\n",
       "      <td>Изменить цвет фона главной страницы, чтобы уве...</td>\n",
       "      <td>3.0</td>\n",
       "    </tr>\n",
       "  </tbody>\n",
       "</table>\n",
       "</div>"
      ],
      "text/plain": [
       "                                          hypothesis   RICE\n",
       "7  Добавить форму подписки на все основные страни...  112.0\n",
       "2  Добавить блоки рекомендаций товаров на сайт ин...   56.0\n",
       "0  Добавить два новых канала привлечения трафика,...   40.0\n",
       "6  Показать на главной странице баннеры с актуаль...   40.0\n",
       "8  Запустить акцию, дающую скидку на товар в день...   16.2\n",
       "3  Изменить структура категорий, что увеличит кон...    9.0\n",
       "1  Запустить собственную службу доставки, что сок...    4.0\n",
       "5  Добавить страницу отзывов клиентов о магазине,...    4.0\n",
       "4  Изменить цвет фона главной страницы, чтобы уве...    3.0"
      ]
     },
     "execution_count": 53,
     "metadata": {},
     "output_type": "execute_result"
    }
   ],
   "source": [
    "hyp['RICE']=hyp['reach']*hyp['impact']*hyp['confidence']/hyp['efforts']\n",
    "hyp[['hypothesis','RICE']].sort_values(by='RICE', ascending=False)"
   ]
  },
  {
   "cell_type": "markdown",
   "metadata": {},
   "source": [
    "Наиболее перспективные гипотезы по методу RICE - Добавить форму подписки на основные страницы, добавить блоки рекомендаций товаров, добавить два новых канала привлечения трафика, показать на главной странице баннеры. (7, 2, 0, 6)"
   ]
  },
  {
   "cell_type": "code",
   "execution_count": 54,
   "metadata": {},
   "outputs": [
    {
     "data": {
      "image/png": "[encoded data removed]",
      "text/plain": [
       "<Figure size 720x720 with 1 Axes>"
      ]
     },
     "metadata": {
      "needs_background": "light"
     },
     "output_type": "display_data"
    }
   ],
   "source": [
    "y = hyp['ICE'] \n",
    "z = hyp['RICE'] \n",
    "n = hyp.index \n",
    "\n",
    "fig, ax = plt.subplots()\n",
    "ax.scatter(z, y)\n",
    "\n",
    "for i, txt in enumerate(n):\n",
    "    ax.annotate(txt, (z[i], y[i]), size=30)\n",
    "\n",
    "plt.title(\"ICE and RICE гипотезы\") \n",
    "plt.xlabel(\"RICE\") \n",
    "plt.ylabel(\"ICE\")\n",
    "\n",
    "fig.set_figheight(10)\n",
    "fig.set_figwidth(10) \n",
    "plt.show() "
   ]
  },
  {
   "cell_type": "markdown",
   "metadata": {},
   "source": [
    "### Вывод\n",
    "Т.к в методе RICE учитывается и количество пользователей, которых затронет изменение (очевидно, акция в день рождения затрагивает очень малое число людей,  а блоки рекомендаций товаров - очень большое), будем основываться именно на нём.\n",
    "\n",
    "Итак, будем считать наиболее перспективными следующие предложения: \n",
    "- Добавить форму подписки на все основные страницы, чтобы собрать базу клиентов для email-рассылок\n",
    "- Добавить блоки рекомендаций товаров на сайт интернет магазина, чтобы повысить конверсию и средний чек заказа\n",
    "- Добавить два новых канала привлечения трафика, что позволит привлекать на 30% больше пользователей\n",
    "- Показать на главной странице баннеры с актуальными акциями и распродажами, чтобы увеличить конверсию"
   ]
  },
  {
   "cell_type": "markdown",
   "metadata": {},
   "source": [
    "## Анализ А/В-теста"
   ]
  },
  {
   "cell_type": "markdown",
   "metadata": {},
   "source": [
    "### Графики кумулятивного среднего чека и кумулятивной выручки по группам"
   ]
  },
  {
   "cell_type": "code",
   "execution_count": 55,
   "metadata": {},
   "outputs": [],
   "source": [
    "#Cоздадим датафрейм пар значений дат и групп теста\n",
    "date_groups = orders[['date','group']].drop_duplicates() "
   ]
  },
  {
   "cell_type": "code",
   "execution_count": 56,
   "metadata": {},
   "outputs": [],
   "source": [
    " #Соберём агрегированные кумулятивные по дням данные о заказах и о пользователях\n",
    "ord_agg= date_groups.apply(lambda x: orders[np.logical_and(orders['date'] <= x['date'], orders['group'] == x['group'])]\n",
    ".agg(\n",
    "    {'date' : 'max', 'group' : 'max', 'transaction_id' : 'nunique', 'visitor_id' : 'nunique', 'revenue' : 'sum'}), axis=1\n",
    "                          ).sort_values(by=['date','group'])\n",
    "\n",
    "\n",
    "vis_agg=date_groups.apply(lambda x: visitors[np.logical_and(visitors['date'] <= x['date'], \n",
    "                                                               visitors['group'] == x['group'])]\n",
    "                                       .agg({'date' : 'max', 'group' : 'max', 'visitors' : 'sum'}), axis=1\n",
    "                         ).sort_values(by=['date','group'])"
   ]
  },
  {
   "cell_type": "code",
   "execution_count": 57,
   "metadata": {},
   "outputs": [
    {
     "data": {
      "text/html": [
       "<div>\n",
       "<style scoped>\n",
       "    .dataframe tbody tr th:only-of-type {\n",
       "        vertical-align: middle;\n",
       "    }\n",
       "\n",
       "    .dataframe tbody tr th {\n",
       "        vertical-align: top;\n",
       "    }\n",
       "\n",
       "    .dataframe thead th {\n",
       "        text-align: right;\n",
       "    }\n",
       "</style>\n",
       "<table border=\"1\" class=\"dataframe\">\n",
       "  <thead>\n",
       "    <tr style=\"text-align: right;\">\n",
       "      <th></th>\n",
       "      <th>date</th>\n",
       "      <th>group</th>\n",
       "      <th>orders</th>\n",
       "      <th>buyers</th>\n",
       "      <th>revenue</th>\n",
       "      <th>visitors</th>\n",
       "    </tr>\n",
       "  </thead>\n",
       "  <tbody>\n",
       "    <tr>\n",
       "      <th>0</th>\n",
       "      <td>2019-08-01</td>\n",
       "      <td>A</td>\n",
       "      <td>24</td>\n",
       "      <td>20</td>\n",
       "      <td>148579</td>\n",
       "      <td>719</td>\n",
       "    </tr>\n",
       "    <tr>\n",
       "      <th>1</th>\n",
       "      <td>2019-08-01</td>\n",
       "      <td>B</td>\n",
       "      <td>21</td>\n",
       "      <td>20</td>\n",
       "      <td>101217</td>\n",
       "      <td>713</td>\n",
       "    </tr>\n",
       "    <tr>\n",
       "      <th>2</th>\n",
       "      <td>2019-08-02</td>\n",
       "      <td>A</td>\n",
       "      <td>44</td>\n",
       "      <td>38</td>\n",
       "      <td>242401</td>\n",
       "      <td>1338</td>\n",
       "    </tr>\n",
       "    <tr>\n",
       "      <th>3</th>\n",
       "      <td>2019-08-02</td>\n",
       "      <td>B</td>\n",
       "      <td>45</td>\n",
       "      <td>43</td>\n",
       "      <td>266748</td>\n",
       "      <td>1294</td>\n",
       "    </tr>\n",
       "    <tr>\n",
       "      <th>4</th>\n",
       "      <td>2019-08-03</td>\n",
       "      <td>A</td>\n",
       "      <td>68</td>\n",
       "      <td>62</td>\n",
       "      <td>354874</td>\n",
       "      <td>1845</td>\n",
       "    </tr>\n",
       "  </tbody>\n",
       "</table>\n",
       "</div>"
      ],
      "text/plain": [
       "        date group  orders  buyers  revenue  visitors\n",
       "0 2019-08-01     A      24      20   148579       719\n",
       "1 2019-08-01     B      21      20   101217       713\n",
       "2 2019-08-02     A      44      38   242401      1338\n",
       "3 2019-08-02     B      45      43   266748      1294\n",
       "4 2019-08-03     A      68      62   354874      1845"
      ]
     },
     "execution_count": 57,
     "metadata": {},
     "output_type": "execute_result"
    }
   ],
   "source": [
    "#Объединим в удобную таблицу\n",
    "cumulative_data = ord_agg.merge(vis_agg, left_on=['date', 'group'], right_on=['date', 'group'])\n",
    "cumulative_data.columns = ['date', 'group', 'orders', 'buyers', 'revenue', 'visitors']\n",
    "cumulative_data.head()"
   ]
  },
  {
   "cell_type": "code",
   "execution_count": 58,
   "metadata": {},
   "outputs": [
    {
     "data": {
      "image/png": "[encoded data removed]",
      "text/plain": [
       "<Figure size 864x432 with 1 Axes>"
      ]
     },
     "metadata": {
      "needs_background": "light"
     },
     "output_type": "display_data"
    }
   ],
   "source": [
    "#График кумулятивной выручки\n",
    "plt.figure(figsize=(12,6))\n",
    "# датафрейм с кумулятивным количеством заказов и кумулятивной выручкой по дням в группе А\n",
    "c_rev_a = cumulative_data[cumulative_data['group']=='A'][['date','revenue', 'orders']]\n",
    "\n",
    "# датафрейм с кумулятивным количеством заказов и кумулятивной выручкой по дням в группе B\n",
    "c_rev_b = cumulative_data[cumulative_data['group']=='B'][['date','revenue', 'orders']]\n",
    "\n",
    "\n",
    "plt.plot(c_rev_a['date'], c_rev_a['revenue'], label='A')\n",
    "\n",
    "plt.plot(c_rev_b['date'], c_rev_b['revenue'], label='B')\n",
    "\n",
    "plt.title('Кумулятивная выручка по дням и группам A/B-тестирования', pad=20)\n",
    "\n",
    "plt.xlabel('Дата')\n",
    "plt.ylabel('Выручка')\n",
    "plt.legend(['Группа А', 'Группа B'])\n",
    "plt.show()"
   ]
  },
  {
   "cell_type": "markdown",
   "metadata": {},
   "source": [
    "Можно видеть, что в обеих группах выручка плавно растёт, хотя в группе B она несколько больше. 13 августа выручки в обеих группах были почти одинаковыми, но после 17 августа выручка в группе В резко возросла (скачком), после чего разница в выручке между группами стала заметно существеннее (в пользу B-группы)."
   ]
  },
  {
   "cell_type": "code",
   "execution_count": 59,
   "metadata": {},
   "outputs": [
    {
     "data": {
      "image/png": "[encoded data removed]",
      "text/plain": [
       "<Figure size 864x432 with 1 Axes>"
      ]
     },
     "metadata": {
      "needs_background": "light"
     },
     "output_type": "display_data"
    }
   ],
   "source": [
    "#График среднего чека\n",
    "plt.figure(figsize=(12,6))\n",
    "plt.plot(c_rev_a['date'], c_rev_a['revenue']/c_rev_a['orders'], label='A')\n",
    "plt.plot(c_rev_b['date'], c_rev_b['revenue']/c_rev_b['orders'], label='B')\n",
    "\n",
    "\n",
    "plt.title('Кумулятивный средний чек по дням и группам A/B-тестирования', pad=20)\n",
    "plt.xlabel('Дата')\n",
    "plt.ylabel('Средний чек')\n",
    "plt.legend(['Группа А', 'Группа B'])\n",
    "plt.show()"
   ]
  },
  {
   "cell_type": "markdown",
   "metadata": {},
   "source": [
    "Виден резкий скачок 17 августа (как и на графике с выручкой). До этого средний чек большую часть времени был больше в групее B (за исключением краткосрочных периодов вроде 1 августа и 13 августа, когда средний чек в группе А немного превысил средний чек группы В). После 17 августа разница между средними чеками двух групп стала заметно существеннее, как и в случае с выручкой.\n",
    "\n",
    "Вероятно, после 17 августа клиенты стали делать более дорогие заказы."
   ]
  },
  {
   "cell_type": "markdown",
   "metadata": {},
   "source": [
    "### Относительное изменение кумулятивного среднего чека группы B к группе A"
   ]
  },
  {
   "cell_type": "code",
   "execution_count": 60,
   "metadata": {},
   "outputs": [
    {
     "data": {
      "image/png": "[encoded data removed]",
      "text/plain": [
       "<Figure size 864x432 with 1 Axes>"
      ]
     },
     "metadata": {
      "needs_background": "light"
     },
     "output_type": "display_data"
    }
   ],
   "source": [
    "plt.figure(figsize=(12,6))\n",
    "# собираем данные в одном датафрейме\n",
    "full_c_rev = c_rev_a.merge(c_rev_b, left_on='date', right_on='date', how='left', suffixes=['A', 'B'])\n",
    "\n",
    "# cтроим отношение средних чеков\n",
    "plt.plot(full_c_rev['date'], (full_c_rev['revenueB']/full_c_rev['ordersB'])/(full_c_rev['revenueA']/full_c_rev['ordersA'])-1)\n",
    "\n",
    "plt.title('График относительного различия для среднего чека', pad=20)\n",
    "plt.xlabel('Дата')\n",
    "plt.ylabel('Отношение чеков')\n",
    "plt.axhline(y=0, color='black', linestyle='--')\n",
    "plt.show()"
   ]
  },
  {
   "cell_type": "markdown",
   "metadata": {},
   "source": [
    "Есть точки, в которых график \"скачет\"  -значит, есть выбросы и крупные заказы."
   ]
  },
  {
   "cell_type": "markdown",
   "metadata": {},
   "source": [
    "### Кумулятивная конверсия по группам и относительное изменение кумулятивной конверсии группы B к группе A.   "
   ]
  },
  {
   "cell_type": "code",
   "execution_count": 61,
   "metadata": {},
   "outputs": [
    {
     "data": {
      "image/png": "[encoded data removed]",
      "text/plain": [
       "<Figure size 864x432 with 1 Axes>"
      ]
     },
     "metadata": {
      "needs_background": "light"
     },
     "output_type": "display_data"
    }
   ],
   "source": [
    "plt.figure(figsize=(12,6))\n",
    "\n",
    "cumulative_data['conversion'] = cumulative_data['orders']/cumulative_data['visitors']\n",
    "\n",
    "cumulative_data_a = cumulative_data[cumulative_data['group']=='A']\n",
    "cumulative_data_b = cumulative_data[cumulative_data['group']=='B']\n",
    "\n",
    "plt.plot(cumulative_data_a['date'], cumulative_data_a['conversion'], label='A')\n",
    "plt.plot(cumulative_data_b['date'], cumulative_data_b['conversion'], label='B')\n",
    "plt.title('График кумулятивной конверсии по группам', pad=20)\n",
    "plt.xlabel('Дата')\n",
    "plt.ylabel('Конверсия')\n",
    "plt.legend()\n",
    "\n",
    "plt.axis([\"2019-08-01\", '2019-09-01', 0, 0.045])\n",
    "plt.show()"
   ]
  },
  {
   "cell_type": "markdown",
   "metadata": {},
   "source": [
    "Конверсии двух групп были примерно равны в самом начале эксперимента. После 5 августа конверсия группы B с некоторыми колебаниями, но увеличилась и зафиксировалась. Конверсия группы А же наоборот, несколько просела."
   ]
  },
  {
   "cell_type": "code",
   "execution_count": 62,
   "metadata": {},
   "outputs": [
    {
     "data": {
      "image/png": "[encoded data removed]",
      "text/plain": [
       "<Figure size 864x432 with 1 Axes>"
      ]
     },
     "metadata": {
      "needs_background": "light"
     },
     "output_type": "display_data"
    }
   ],
   "source": [
    "plt.figure(figsize=(12,6))\n",
    "full_c_conv = cumulative_data_a[['date','conversion']].merge(cumulative_data_b[['date','conversion']], left_on='date', right_on='date', how='left', suffixes=['A', 'B'])\n",
    "\n",
    "plt.plot(full_c_conv['date'], full_c_conv['conversionB']/full_c_conv['conversionA']-1)\n",
    "\n",
    "plt.title('Относительный прирост конверсии группы B относительно группы A')\n",
    "plt.axhline(y=0, color='black', linestyle='--')\n",
    "plt.axhline(y=-0.1, color='grey', linestyle='--')\n",
    "plt.axis([\"2019-08-01\", '2019-09-01', -0.6, 0.6])\n",
    "plt.show()"
   ]
  },
  {
   "cell_type": "markdown",
   "metadata": {},
   "source": [
    "Как видно и из этого, и из предыдущего графика: в начале теста группы были примерно на одном уровне, затем конверсия группы возросла, и стала превышать конверсию группы А."
   ]
  },
  {
   "cell_type": "markdown",
   "metadata": {},
   "source": [
    "### Точечный график количества заказов по пользователям и точечный график стоимостей заказов. Расчёт перцентилей."
   ]
  },
  {
   "cell_type": "code",
   "execution_count": 63,
   "metadata": {},
   "outputs": [
    {
     "data": {
      "text/plain": [
       "Text(0.5, 0, 'Cтоимость')"
      ]
     },
     "execution_count": 63,
     "metadata": {},
     "output_type": "execute_result"
    },
    {
     "data": {
      "image/png": "[encoded data removed]",
      "text/plain": [
       "<Figure size 432x288 with 1 Axes>"
      ]
     },
     "metadata": {
      "needs_background": "light"
     },
     "output_type": "display_data"
    }
   ],
   "source": [
    "# Построим гистограмму распределения стоимости заказов\n",
    "orders['revenue'].hist(bins = 25, range = (0, 100000))\n",
    "plt.title('Распределение стоимости заказов')\n",
    "plt.xlabel('Cтоимость')\n"
   ]
  },
  {
   "cell_type": "markdown",
   "metadata": {},
   "source": [
    " Есть достаточно дорогие, выбивающиеся заказы: около 60 000, 80 000 и 90 000.\n",
    " Построим точечную диаграмму:"
   ]
  },
  {
   "cell_type": "code",
   "execution_count": 64,
   "metadata": {},
   "outputs": [
    {
     "data": {
      "image/png": "[encoded data removed]",
      "text/plain": [
       "<Figure size 432x288 with 1 Axes>"
      ]
     },
     "metadata": {
      "needs_background": "light"
     },
     "output_type": "display_data"
    }
   ],
   "source": [
    "x_values = pd.Series(range(0,len(orders['revenue'])))\n",
    "plt.scatter(x_values, orders['revenue'])\n",
    "plt.title('Распределение стоимости заказов')\n",
    "plt.xlabel('Номер наблюдения')\n",
    "plt.ylabel('Cтоимость')\n",
    "plt.show()"
   ]
  },
  {
   "cell_type": "markdown",
   "metadata": {},
   "source": [
    "Явно выпадающие значения - около 200к и 1,2 миллиона. \n",
    "\n",
    "Подсчитаем  95-й и 99-й перцентили стоимости заказов:"
   ]
  },
  {
   "cell_type": "code",
   "execution_count": 65,
   "metadata": {},
   "outputs": [
    {
     "data": {
      "text/plain": [
       "array([28000. , 58233.2])"
      ]
     },
     "execution_count": 65,
     "metadata": {},
     "output_type": "execute_result"
    }
   ],
   "source": [
    "np.percentile(orders['revenue'], [95, 99])"
   ]
  },
  {
   "cell_type": "markdown",
   "metadata": {},
   "source": [
    "Итак, не более 5% заказов дороже 28к. Не более 1% заказов дороже 58223.2. Будем считать границей 46к - среднее между 28к и 58к"
   ]
  },
  {
   "cell_type": "markdown",
   "metadata": {},
   "source": [
    "Подсчитаем количество заказов по пользователям:"
   ]
  },
  {
   "cell_type": "code",
   "execution_count": 66,
   "metadata": {},
   "outputs": [
    {
     "data": {
      "text/html": [
       "<div>\n",
       "<style scoped>\n",
       "    .dataframe tbody tr th:only-of-type {\n",
       "        vertical-align: middle;\n",
       "    }\n",
       "\n",
       "    .dataframe tbody tr th {\n",
       "        vertical-align: top;\n",
       "    }\n",
       "\n",
       "    .dataframe thead th {\n",
       "        text-align: right;\n",
       "    }\n",
       "</style>\n",
       "<table border=\"1\" class=\"dataframe\">\n",
       "  <thead>\n",
       "    <tr style=\"text-align: right;\">\n",
       "      <th></th>\n",
       "      <th>user_id</th>\n",
       "      <th>orders</th>\n",
       "    </tr>\n",
       "  </thead>\n",
       "  <tbody>\n",
       "    <tr>\n",
       "      <th>1023</th>\n",
       "      <td>4256040402</td>\n",
       "      <td>11</td>\n",
       "    </tr>\n",
       "    <tr>\n",
       "      <th>591</th>\n",
       "      <td>2458001652</td>\n",
       "      <td>11</td>\n",
       "    </tr>\n",
       "    <tr>\n",
       "      <th>569</th>\n",
       "      <td>2378935119</td>\n",
       "      <td>9</td>\n",
       "    </tr>\n",
       "    <tr>\n",
       "      <th>487</th>\n",
       "      <td>2038680547</td>\n",
       "      <td>8</td>\n",
       "    </tr>\n",
       "    <tr>\n",
       "      <th>44</th>\n",
       "      <td>199603092</td>\n",
       "      <td>5</td>\n",
       "    </tr>\n",
       "    <tr>\n",
       "      <th>744</th>\n",
       "      <td>3062433592</td>\n",
       "      <td>5</td>\n",
       "    </tr>\n",
       "    <tr>\n",
       "      <th>55</th>\n",
       "      <td>237748145</td>\n",
       "      <td>5</td>\n",
       "    </tr>\n",
       "    <tr>\n",
       "      <th>917</th>\n",
       "      <td>3803269165</td>\n",
       "      <td>5</td>\n",
       "    </tr>\n",
       "    <tr>\n",
       "      <th>299</th>\n",
       "      <td>1230306981</td>\n",
       "      <td>5</td>\n",
       "    </tr>\n",
       "    <tr>\n",
       "      <th>897</th>\n",
       "      <td>3717692402</td>\n",
       "      <td>5</td>\n",
       "    </tr>\n",
       "  </tbody>\n",
       "</table>\n",
       "</div>"
      ],
      "text/plain": [
       "         user_id  orders\n",
       "1023  4256040402      11\n",
       "591   2458001652      11\n",
       "569   2378935119       9\n",
       "487   2038680547       8\n",
       "44     199603092       5\n",
       "744   3062433592       5\n",
       "55     237748145       5\n",
       "917   3803269165       5\n",
       "299   1230306981       5\n",
       "897   3717692402       5"
      ]
     },
     "execution_count": 66,
     "metadata": {},
     "output_type": "execute_result"
    }
   ],
   "source": [
    "ord_by_us = orders.groupby('visitor_id', as_index=False).agg({'transaction_id' : pd.Series.nunique})\n",
    "ord_by_us.columns = ['user_id','orders']\n",
    "ord_by_us.sort_values(by='orders',ascending=False).head(10)"
   ]
  },
  {
   "cell_type": "markdown",
   "metadata": {},
   "source": [
    "Построим гистограмму и точечную диаграмму:"
   ]
  },
  {
   "cell_type": "code",
   "execution_count": 67,
   "metadata": {},
   "outputs": [
    {
     "data": {
      "image/png": "[encoded data removed]",
      "text/plain": [
       "<Figure size 432x288 with 1 Axes>"
      ]
     },
     "metadata": {
      "needs_background": "light"
     },
     "output_type": "display_data"
    }
   ],
   "source": [
    "ord_by_us['orders'].hist(bins = 12, range = (0, 15))\n",
    "plt.title('Распределение количества заказов по пользователям')\n",
    "#plt.xlabel('Число заказов)\n",
    "plt.xlabel('Число заказов') \n",
    "plt.show()"
   ]
  },
  {
   "cell_type": "code",
   "execution_count": 68,
   "metadata": {},
   "outputs": [
    {
     "data": {
      "image/png": "[encoded data removed]",
      "text/plain": [
       "<Figure size 432x288 with 1 Axes>"
      ]
     },
     "metadata": {
      "needs_background": "light"
     },
     "output_type": "display_data"
    }
   ],
   "source": [
    "x_values = pd.Series(range(0,len(ord_by_us)))\n",
    "plt.scatter(x_values, ord_by_us['orders'])\n",
    "plt.title('Распределение количества заказов по пользователям')\n",
    "plt.xlabel('Номер наблюдения')\n",
    "plt.ylabel('Число заказов')\n",
    "plt.show()"
   ]
  },
  {
   "cell_type": "code",
   "execution_count": 69,
   "metadata": {},
   "outputs": [
    {
     "data": {
      "text/plain": [
       "array([2., 4.])"
      ]
     },
     "execution_count": 69,
     "metadata": {},
     "output_type": "execute_result"
    }
   ],
   "source": [
    "#Расчёт перцентилей\n",
    "np.percentile(ord_by_us['orders'], [95, 99])"
   ]
  },
  {
   "cell_type": "markdown",
   "metadata": {},
   "source": [
    "Итак, не более 5% клиентов оформляли больше чем 2 заказа, 1% пользователей - более четырёх. Выберем границу в 3 заказа, т.к судя по точечной диаграммме, пренебречь клиентами с 2 заказами нельзя."
   ]
  },
  {
   "cell_type": "markdown",
   "metadata": {},
   "source": [
    "Итог: будем отсеивать тех пользователей, у которых больше трёх заказов или сумма заказа больше 46к. "
   ]
  },
  {
   "cell_type": "markdown",
   "metadata": {},
   "source": [
    "### Расчёт статистической значимости различий в конверсии и в среднем чеке заказа между группами по «сырым» данным   "
   ]
  },
  {
   "cell_type": "markdown",
   "metadata": {},
   "source": [
    "Сформулируем гипотезы.\n",
    "\n",
    "Нулевая гипотеза - Кол-во заказов на пользователя по сырым данным одинаковое.<br> \n",
    "Альтернативная гипотеза - Между кол-вом заказов на пользователя по сырым данным есть значимая разница."
   ]
  },
  {
   "cell_type": "code",
   "execution_count": 70,
   "metadata": {},
   "outputs": [],
   "source": [
    "# Кумулятивные данные по дням о количестве пользователей\n",
    "visitors_day_a = visitors[visitors['group']=='A'][['date', 'visitors']]\n",
    "visitors_day_b = visitors[visitors['group']=='B'][['date', 'visitors']]\n",
    "\n",
    "visitors_day_a.columns = ['date', 'visitors_per_day_a']\n",
    "visitors_day_b.columns = ['date', 'visitors_per_day_b']\n",
    "\n",
    "visitors_day_сu_a = visitors_day_a.apply(\n",
    "    lambda x: visitors_day_a[visitors_day_a['date'] <= x['date']].agg(\n",
    "        {'date': 'max', 'visitors_per_day_a': 'sum'}\n",
    "    ),\n",
    "    axis=1,\n",
    ")\n",
    "\n",
    "visitors_day_сu_b = visitors_day_b.apply(\n",
    "    lambda x: visitors_day_b[visitors_day_b['date'] <= x['date']].agg(\n",
    "        {'date': 'max', 'visitors_per_day_b': 'sum'}\n",
    "    ),\n",
    "    axis=1,\n",
    ")\n",
    "\n",
    "visitors_day_сu_a.columns = ['date', 'visitors_cu_a']\n",
    "visitors_day_сu_b.columns = ['date', 'visitors_cu_b']"
   ]
  },
  {
   "cell_type": "code",
   "execution_count": 71,
   "metadata": {},
   "outputs": [],
   "source": [
    "# Кумулятивные данные по дням о количестве заказов и суммарной выручке\n",
    "orders_day_a = (\n",
    "    orders[orders['group'] == 'A'][['date', 'transaction_id', 'visitor_id', 'revenue']]\n",
    "    .groupby('date', as_index=False)\n",
    "    .agg({'transaction_id': pd.Series.nunique, 'revenue': 'sum'})\n",
    ")\n",
    "\n",
    "orders_day_b = (\n",
    "    orders[orders['group'] == 'B'][['date', 'transaction_id', 'visitor_id', 'revenue']]\n",
    "    .groupby('date', as_index=False)\n",
    "    .agg({'transaction_id': pd.Series.nunique, 'revenue': 'sum'})\n",
    ")\n",
    "\n",
    "orders_day_a.columns = ['date', 'orders_per_day_a', 'revenue_per_day_a']\n",
    "orders_day_b.columns = ['date', 'orders_per_day_b', 'revenue_per_day_b']\n",
    "\n",
    "\n",
    "orders_day_cu_a = orders_day_a.apply(\n",
    "    lambda x: orders_day_a[orders_day_a['date'] <= x['date']].agg(\n",
    "        {'date': 'max', 'orders_per_day_a': 'sum', 'revenue_per_day_a': 'sum'}\n",
    "    ),\n",
    "    axis=1,\n",
    ").sort_values(by=['date'])\n",
    "\n",
    "orders_day_cu_b = orders_day_b.apply(\n",
    "    lambda x: orders_day_b[orders_day_b['date'] <= x['date']].agg(\n",
    "        {'date': 'max', 'orders_per_day_b': 'sum', 'revenue_per_day_b': 'sum'}\n",
    "    ),\n",
    "    axis=1,\n",
    ").sort_values(by=['date'])\n",
    "\n",
    "orders_day_cu_a.columns= ['date', 'orders_cu_a', 'revenue_cu_a']\n",
    "orders_day_cu_b.columns = ['date', 'orders_cu_b', 'revenue_cu_b']"
   ]
  },
  {
   "cell_type": "code",
   "execution_count": 72,
   "metadata": {
    "scrolled": true
   },
   "outputs": [
    {
     "data": {
      "text/html": [
       "<div>\n",
       "<style scoped>\n",
       "    .dataframe tbody tr th:only-of-type {\n",
       "        vertical-align: middle;\n",
       "    }\n",
       "\n",
       "    .dataframe tbody tr th {\n",
       "        vertical-align: top;\n",
       "    }\n",
       "\n",
       "    .dataframe thead th {\n",
       "        text-align: right;\n",
       "    }\n",
       "</style>\n",
       "<table border=\"1\" class=\"dataframe\">\n",
       "  <thead>\n",
       "    <tr style=\"text-align: right;\">\n",
       "      <th></th>\n",
       "      <th>date</th>\n",
       "      <th>orders_per_day_a</th>\n",
       "      <th>revenue_per_day_a</th>\n",
       "      <th>orders_per_day_b</th>\n",
       "      <th>revenue_per_day_b</th>\n",
       "      <th>orders_cu_a</th>\n",
       "      <th>revenue_cu_a</th>\n",
       "      <th>orders_cu_b</th>\n",
       "      <th>revenue_cu_b</th>\n",
       "      <th>visitors_per_day_a</th>\n",
       "      <th>visitors_per_day_b</th>\n",
       "      <th>visitors_cu_a</th>\n",
       "      <th>visitors_cu_b</th>\n",
       "    </tr>\n",
       "  </thead>\n",
       "  <tbody>\n",
       "    <tr>\n",
       "      <th>0</th>\n",
       "      <td>2019-08-01</td>\n",
       "      <td>24</td>\n",
       "      <td>148579</td>\n",
       "      <td>21</td>\n",
       "      <td>101217</td>\n",
       "      <td>24</td>\n",
       "      <td>148579</td>\n",
       "      <td>21</td>\n",
       "      <td>101217</td>\n",
       "      <td>719</td>\n",
       "      <td>713</td>\n",
       "      <td>719</td>\n",
       "      <td>713</td>\n",
       "    </tr>\n",
       "    <tr>\n",
       "      <th>1</th>\n",
       "      <td>2019-08-02</td>\n",
       "      <td>20</td>\n",
       "      <td>93822</td>\n",
       "      <td>24</td>\n",
       "      <td>165531</td>\n",
       "      <td>44</td>\n",
       "      <td>242401</td>\n",
       "      <td>45</td>\n",
       "      <td>266748</td>\n",
       "      <td>619</td>\n",
       "      <td>581</td>\n",
       "      <td>1338</td>\n",
       "      <td>1294</td>\n",
       "    </tr>\n",
       "    <tr>\n",
       "      <th>2</th>\n",
       "      <td>2019-08-03</td>\n",
       "      <td>24</td>\n",
       "      <td>112473</td>\n",
       "      <td>16</td>\n",
       "      <td>114248</td>\n",
       "      <td>68</td>\n",
       "      <td>354874</td>\n",
       "      <td>61</td>\n",
       "      <td>380996</td>\n",
       "      <td>507</td>\n",
       "      <td>509</td>\n",
       "      <td>1845</td>\n",
       "      <td>1803</td>\n",
       "    </tr>\n",
       "    <tr>\n",
       "      <th>3</th>\n",
       "      <td>2019-08-04</td>\n",
       "      <td>16</td>\n",
       "      <td>70825</td>\n",
       "      <td>17</td>\n",
       "      <td>108571</td>\n",
       "      <td>84</td>\n",
       "      <td>425699</td>\n",
       "      <td>78</td>\n",
       "      <td>489567</td>\n",
       "      <td>717</td>\n",
       "      <td>770</td>\n",
       "      <td>2562</td>\n",
       "      <td>2573</td>\n",
       "    </tr>\n",
       "    <tr>\n",
       "      <th>4</th>\n",
       "      <td>2019-08-05</td>\n",
       "      <td>25</td>\n",
       "      <td>124218</td>\n",
       "      <td>23</td>\n",
       "      <td>92428</td>\n",
       "      <td>109</td>\n",
       "      <td>549917</td>\n",
       "      <td>101</td>\n",
       "      <td>581995</td>\n",
       "      <td>756</td>\n",
       "      <td>707</td>\n",
       "      <td>3318</td>\n",
       "      <td>3280</td>\n",
       "    </tr>\n",
       "  </tbody>\n",
       "</table>\n",
       "</div>"
      ],
      "text/plain": [
       "        date  orders_per_day_a  revenue_per_day_a  orders_per_day_b  \\\n",
       "0 2019-08-01                24             148579                21   \n",
       "1 2019-08-02                20              93822                24   \n",
       "2 2019-08-03                24             112473                16   \n",
       "3 2019-08-04                16              70825                17   \n",
       "4 2019-08-05                25             124218                23   \n",
       "\n",
       "   revenue_per_day_b  orders_cu_a  revenue_cu_a  orders_cu_b  revenue_cu_b  \\\n",
       "0             101217           24        148579           21        101217   \n",
       "1             165531           44        242401           45        266748   \n",
       "2             114248           68        354874           61        380996   \n",
       "3             108571           84        425699           78        489567   \n",
       "4              92428          109        549917          101        581995   \n",
       "\n",
       "   visitors_per_day_a  visitors_per_day_b  visitors_cu_a  visitors_cu_b  \n",
       "0                 719                 713            719            713  \n",
       "1                 619                 581           1338           1294  \n",
       "2                 507                 509           1845           1803  \n",
       "3                 717                 770           2562           2573  \n",
       "4                 756                 707           3318           3280  "
      ]
     },
     "execution_count": 72,
     "metadata": {},
     "output_type": "execute_result"
    }
   ],
   "source": [
    "# Соберём данные в одну таблицу\n",
    "data = (\n",
    "    orders_day_a.merge(\n",
    "        orders_day_b, left_on='date', right_on='date', how='left'\n",
    "    )\n",
    "    .merge(orders_day_cu_a, left_on='date', right_on='date', how='left')\n",
    "    .merge(orders_day_cu_b, left_on='date', right_on='date', how='left')\n",
    "    .merge(visitors_day_a, left_on='date', right_on='date', how='left')\n",
    "    .merge(visitors_day_b, left_on='date', right_on='date', how='left')\n",
    "    .merge(visitors_day_сu_a, left_on='date', right_on='date', how='left')\n",
    "    .merge(visitors_day_сu_b, left_on='date', right_on='date', how='left')\n",
    ")\n",
    "\n",
    "data.head()"
   ]
  },
  {
   "cell_type": "code",
   "execution_count": 73,
   "metadata": {},
   "outputs": [],
   "source": [
    "# Посчитаем число совершённых заказов для каждого пользователя, делавшего заказ хоть раз\n",
    "ord_by_us_a = orders[orders['group']=='A'].groupby('visitor_id', as_index=False).agg({'transaction_id' : pd.Series.nunique})\n",
    "ord_by_us_a.columns = ['visitor_id', 'orders']\n",
    " \n",
    "ord_by_us_b = orders[orders['group']=='B'].groupby('visitor_id', as_index=False).agg({'transaction_id' : pd.Series.nunique})\n",
    "ord_by_us_b.columns = ['visitor_id', 'orders']\n",
    " "
   ]
  },
  {
   "cell_type": "markdown",
   "metadata": {},
   "source": [
    "Объявим переменные sampleA и sampleB, в которых пользователям из разных групп будет соответствовать количество заказов. Тем, кто ничего не заказал, будут соответствовать нули."
   ]
  },
  {
   "cell_type": "code",
   "execution_count": 74,
   "metadata": {},
   "outputs": [
    {
     "name": "stdout",
     "output_type": "stream",
     "text": [
      "P-value: 0.01679\n",
      "Прирост конверсии: 0.138\n"
     ]
    }
   ],
   "source": [
    "sampleA = pd.concat([ord_by_us_a['orders'],pd.Series(0, index=np.arange(visitors[visitors['group']=='A']['visitors'].sum() - len(ord_by_us_a['orders'])), name='orders')],axis=0)\n",
    "sampleB = pd.concat([ord_by_us_b['orders'],pd.Series(0, index=np.arange(visitors[visitors['group']=='B']['visitors'].sum() - len(ord_by_us_b['orders'])), name='orders')],axis=0)\n",
    " \n",
    "print(\"P-value: {0:.5f}\".format(stats.mannwhitneyu(sampleA, sampleB)[1]))\n",
    "print(\"Прирост конверсии: {0:.3f}\".format(sampleB.mean()/sampleA.mean()-1))"
   ]
  },
  {
   "cell_type": "markdown",
   "metadata": {},
   "source": [
    " P-value меньше 0.05 - отвергаем нулевую гипотезу. Статистически значимые различия в конверсии между группами есть.\n",
    " Относительный прирост конверсии группы B = 13.8%"
   ]
  },
  {
   "cell_type": "markdown",
   "metadata": {},
   "source": [
    "Нулевая гипотеза - Средний чек по сырым данным одинаковый.\n",
    "\n",
    "Альтернативная гипотеза - Между средними чеками по сырым данным есть значимая разница."
   ]
  },
  {
   "cell_type": "code",
   "execution_count": 75,
   "metadata": {},
   "outputs": [
    {
     "name": "stdout",
     "output_type": "stream",
     "text": [
      "P-value: 0.729\n",
      "Прирост среднего чека:  0.259\n"
     ]
    }
   ],
   "source": [
    "#Cредний чек\n",
    "print(\"P-value: {0:.3f}\".format(stats.mannwhitneyu(orders[orders['group']=='A']['revenue'], orders[orders['group']=='B']['revenue'])[1]))\n",
    "print(\"Прирост среднего чека:  {0:.3f}\".format(orders[orders['group']=='B']['revenue'].mean()/orders[orders['group']=='A']['revenue'].mean()-1))"
   ]
  },
  {
   "cell_type": "markdown",
   "metadata": {},
   "source": [
    "P-value больше 0.05 - нулевую гипотезу отвергнуть нельзя. Статистически значимых различий в среднем чеке между группами нет. \n",
    "\n",
    "Различие среднего чека между сегментами 25.9%"
   ]
  },
  {
   "cell_type": "markdown",
   "metadata": {},
   "source": [
    "### Расчёт статистической значимости различий в конверсии и в среднем чеке заказа между группами по «очищенным» данным"
   ]
  },
  {
   "cell_type": "code",
   "execution_count": 76,
   "metadata": {},
   "outputs": [
    {
     "name": "stdout",
     "output_type": "stream",
     "text": [
      "(15,)\n"
     ]
    }
   ],
   "source": [
    "# Отбросим пользователей, совершивших больше трёх заказо и пользователей, чья сумма заказа была больше 46к.\n",
    "\n",
    "usersWithManyOrders = pd.concat(\n",
    "    [\n",
    "        ord_by_us_a[ord_by_us_a['orders'] > np.percentile(ord_by_us['orders'], [95, 99])[1]]['visitor_id'],\n",
    "        ord_by_us_b[ord_by_us_b['orders'] > np.percentile(ord_by_us['orders'], [95, 99])[1]]['visitor_id'],\n",
    "    ],\n",
    "    axis=0,\n",
    ")\n",
    "\n",
    "usersWithExpensiveOrders = orders[orders['revenue'] > np.percentile(orders['revenue'], [95, 99])[1]]['visitor_id']\n",
    "\n",
    "abnormalUsers = (\n",
    "    pd.concat([usersWithManyOrders, usersWithExpensiveOrders], axis=0)\n",
    "    .drop_duplicates()\n",
    "    .sort_values()\n",
    ")\n",
    "print(abnormalUsers.shape)"
   ]
  },
  {
   "cell_type": "markdown",
   "metadata": {},
   "source": [
    "15 \"аномальных\"  пользователей. Отбросим их"
   ]
  },
  {
   "cell_type": "code",
   "execution_count": 77,
   "metadata": {},
   "outputs": [
    {
     "name": "stdout",
     "output_type": "stream",
     "text": [
      "P-value: 0.01438\n",
      "Прирост конверсии: 0.153\n"
     ]
    }
   ],
   "source": [
    "sample_A_filtr = pd.concat(\n",
    "    [\n",
    "        ord_by_us_a[\n",
    "            np.logical_not(ord_by_us_a['visitor_id'].isin(abnormalUsers))\n",
    "        ]['orders'],\n",
    "        pd.Series(\n",
    "            0,\n",
    "            index=np.arange(\n",
    "                data['visitors_per_day_a'].sum() - len(ord_by_us_a['orders'])\n",
    "            ),\n",
    "            name='orders',\n",
    "        ),\n",
    "    ],\n",
    "    axis=0,\n",
    ")\n",
    "\n",
    "sample_B_filtr = pd.concat(\n",
    "    [\n",
    "        ord_by_us_b[\n",
    "            np.logical_not(ord_by_us_b['visitor_id'].isin(abnormalUsers))\n",
    "        ]['orders'],\n",
    "        pd.Series(\n",
    "            0,\n",
    "            index=np.arange(\n",
    "                data['visitors_per_day_b'].sum() - len(ord_by_us_b['orders'])\n",
    "            ),\n",
    "            name='orders',\n",
    "        ),\n",
    "    ],\n",
    "    axis=0,\n",
    ")\n",
    "# Конверсия\n",
    "print('P-value: {0:.5f}'.format(stats.mannwhitneyu(sample_A_filtr, sample_B_filtr)[1]))\n",
    "print('Прирост конверсии: {0:.3f}'.format(sample_B_filtr.mean()/sample_A_filtr.mean()-1))"
   ]
  },
  {
   "cell_type": "markdown",
   "metadata": {},
   "source": [
    "Как и для сырых данных,  p-value меньше 0.05 - отвергаем нулевую гипотезу. Статистически значимые различия в конверсии между группами есть.\n",
    " Относительный прирост конверсии группы B = 15.3%"
   ]
  },
  {
   "cell_type": "code",
   "execution_count": 78,
   "metadata": {},
   "outputs": [
    {
     "name": "stdout",
     "output_type": "stream",
     "text": [
      "P-value: 0.851\n",
      "Прирост среднего чека: -0.006\n"
     ]
    }
   ],
   "source": [
    "print( \"P-value: {0:.3f}\".format(stats.mannwhitneyu(\n",
    "    orders[np.logical_and(\n",
    "        orders['group']=='A',\n",
    "        np.logical_not(orders['visitor_id'].isin(abnormalUsers)))]['revenue'],\n",
    "    orders[np.logical_and(\n",
    "        orders['group']=='B',\n",
    "        np.logical_not(orders['visitor_id'].isin(abnormalUsers)))]['revenue'])[1]))\n",
    "\n",
    "print(\"Прирост среднего чека: {0:.3f}\".format(\n",
    "    orders[np.logical_and(orders['group']=='B',np.logical_not(orders['visitor_id'].isin(abnormalUsers)))]['revenue'].mean()/\n",
    "    orders[np.logical_and(\n",
    "        orders['group']=='A',\n",
    "        np.logical_not(orders['visitor_id'].isin(abnormalUsers)))]['revenue'].mean() - 1))"
   ]
  },
  {
   "cell_type": "markdown",
   "metadata": {},
   "source": [
    "P-value увеличился до 0.851 - много больше, чем 0.05. Нулевую гипотезу не отбрасываем.\n",
    "Средний чек группы B стал немного меньше, чем у группы А -на 0.6% \n"
   ]
  },
  {
   "cell_type": "markdown",
   "metadata": {},
   "source": [
    "### Вывод\n",
    " По неочищенным данным: \n",
    " - Конверсия:  p-value меньше 0.05 - отвергаем нулевую гипотезу. Статистически значимые различия в конверсии между группами есть. Относительный прирост конверсии группы B = 13.8%\n",
    " - Средний чек:  p-value больше 0.05 - нулевую гипотезу отвергнуть нельзя. Статистически значимых различий в среднем чеке между группами нет. Различие среднего чека между сегментами 25.9% в пользу группы B\n",
    " \n",
    "По очищенным данным:\n",
    " - Конверсия: p-value меньше 0.05 - отвергаем нулевую гипотезу. Статистически значимые различия в конверсии между группами есть. Относительный прирост конверсии группы B = 15.3%\n",
    " - Средний чек: P-value увеличился до 0.775 - много больше, чем 0.05. Нулевую гипотезу не отбрасываем. Средний чек группы B превышает средний чек группы А на 3,8%\n",
    " "
   ]
  },
  {
   "cell_type": "markdown",
   "metadata": {},
   "source": [
    "## Вывод по проекту"
   ]
  },
  {
   "cell_type": "markdown",
   "metadata": {},
   "source": [
    "В результате выполнения проекта был изучен массив данных из крупного интернет-магазина: с параметрами гипотез  и с результатами A/B - теста.\n",
    "- В ходе предобработки  данные были проверены на наличие пропусков и дубликатов (оные не обнаружены),  названия столбцов приведены к стилю snake,  данные в столбцах, связаннных с датой и временем, переведены в формат datetime\n",
    "\n",
    "- В ходе рассмотрения гипотез наиболее перспективными были признаны следующие: будем считать наиболее перспективными следующие предложения: \n",
    "     - Добавить форму подписки на все основные страницы, чтобы собрать базу клиентов для email-рассылок\n",
    "     - Добавить блоки рекомендаций товаров на сайт интернет магазина, чтобы повысить конверсию и средний чек заказа\n",
    "     - Добавить два новых канала привлечения трафика, что позволит привлекать на 30% больше пользователей\n",
    "     - Показать на главной странице баннеры с актуальными акциями и распродажами, чтобы увеличить конверсию\n",
    "      \n",
    "- В ходе анализа результатов А/B - теста было выяснено следующее:\n",
    "     - В обеих группах как выручка, так и средний чек сначало плавно росли, хотя в группе B она несколько больше. После 17 августа выручка и средний чек в группе В резко возросли (скачком), после чего разница между группами стала заметно существеннее (в пользу B-группы).\n",
    "     - Конверсии двух групп были примерно равны в самом начале эксперимента. После 5 августа конверсия группы B с некоторыми колебаниями, но увеличилась и зафиксировалась. Конверсия группы А же наоборот, несколько просела\n",
    "     - В данных присутствуют выбросы. Были отброшены данные по пользователям, у которых больше трёх заказов или сумма заказа больше 46к.\n",
    "     - По неочищенным данным:\n",
    "\n",
    "        - Конверсия: p-value меньше 0.05 - отвергаем нулевую гипотезу. Статистически значимые различия в конверсии между группами есть. Относительный прирост конверсии группы B = 13.8%\n",
    "        - Средний чек: p-value больше 0.05 - нулевую гипотезу отвергнуть нельзя. Статистически значимых различий в среднем чеке между группами нет. Различие среднего чека между сегментами 25.9% в пользу группы B\n",
    "           \n",
    "     - По очищенным данным:\n",
    "\n",
    "       - Конверсия: p-value меньше 0.05 - отвергаем нулевую гипотезу. Статистически значимые различия в конверсии между группами есть. Относительный прирост конверсии группы B = 15.3%\n",
    "       - Средний чек: P-value увеличился до 0\n",
    "         \n",
    "Исходя из вышеперечисленного, я бы предложила остановить тест и зафиксировать \"победу\" B-группы. "
   ]
  },
  {
   "cell_type": "code",
   "execution_count": null,
   "metadata": {},
   "outputs": [],
   "source": []
  }
 ],
 "metadata": {
  "ExecuteTimeLog": [
   {
    "duration": 385,
    "start_time": "2022-09-23T13:11:01.031Z"
   },
   {
    "duration": 203,
    "start_time": "2022-09-23T13:11:02.087Z"
   },
   {
    "duration": 57,
    "start_time": "2022-09-23T13:17:15.440Z"
   },
   {
    "duration": 73,
    "start_time": "2022-09-23T13:17:20.264Z"
   },
   {
    "duration": 21,
    "start_time": "2022-09-23T13:17:22.183Z"
   },
   {
    "duration": 86,
    "start_time": "2022-09-23T13:17:45.781Z"
   },
   {
    "duration": 110,
    "start_time": "2022-09-23T13:18:44.769Z"
   },
   {
    "duration": 111,
    "start_time": "2022-09-23T13:19:51.633Z"
   },
   {
    "duration": 22,
    "start_time": "2022-09-23T13:19:58.979Z"
   },
   {
    "duration": 9,
    "start_time": "2022-09-23T13:20:11.166Z"
   },
   {
    "duration": 9,
    "start_time": "2022-09-23T13:20:33.749Z"
   },
   {
    "duration": 12,
    "start_time": "2022-09-23T13:20:35.556Z"
   },
   {
    "duration": 4,
    "start_time": "2022-09-23T13:24:02.809Z"
   },
   {
    "duration": 4,
    "start_time": "2022-09-23T13:24:19.553Z"
   },
   {
    "duration": 5,
    "start_time": "2022-09-23T13:25:57.561Z"
   },
   {
    "duration": 9,
    "start_time": "2022-09-23T13:26:08.018Z"
   },
   {
    "duration": 3,
    "start_time": "2022-09-23T13:26:33.480Z"
   },
   {
    "duration": 9,
    "start_time": "2022-09-23T13:26:35.226Z"
   },
   {
    "duration": 3,
    "start_time": "2022-09-23T13:26:49.651Z"
   },
   {
    "duration": 74,
    "start_time": "2022-09-23T13:26:49.656Z"
   },
   {
    "duration": 10,
    "start_time": "2022-09-23T13:26:49.732Z"
   },
   {
    "duration": 12,
    "start_time": "2022-09-23T13:26:49.744Z"
   },
   {
    "duration": 9,
    "start_time": "2022-09-23T13:26:49.758Z"
   },
   {
    "duration": 5,
    "start_time": "2022-09-23T13:26:49.769Z"
   },
   {
    "duration": 9,
    "start_time": "2022-09-23T13:26:49.775Z"
   },
   {
    "duration": 339,
    "start_time": "2022-09-23T13:27:05.163Z"
   },
   {
    "duration": 73,
    "start_time": "2022-09-23T13:27:05.504Z"
   },
   {
    "duration": 10,
    "start_time": "2022-09-23T13:27:05.579Z"
   },
   {
    "duration": 25,
    "start_time": "2022-09-23T13:27:05.591Z"
   },
   {
    "duration": 20,
    "start_time": "2022-09-23T13:27:05.618Z"
   },
   {
    "duration": 11,
    "start_time": "2022-09-23T13:27:05.640Z"
   },
   {
    "duration": 13,
    "start_time": "2022-09-23T13:27:05.653Z"
   },
   {
    "duration": 10,
    "start_time": "2022-09-23T13:27:05.668Z"
   },
   {
    "duration": 64,
    "start_time": "2022-09-23T13:27:05.680Z"
   },
   {
    "duration": 10,
    "start_time": "2022-09-23T13:27:32.071Z"
   },
   {
    "duration": 9,
    "start_time": "2022-09-23T13:27:34.469Z"
   },
   {
    "duration": 15,
    "start_time": "2022-09-23T13:28:33.448Z"
   },
   {
    "duration": 11,
    "start_time": "2022-09-23T13:28:44.526Z"
   },
   {
    "duration": 15,
    "start_time": "2022-09-23T13:29:00.345Z"
   },
   {
    "duration": 11,
    "start_time": "2022-09-23T13:29:23.687Z"
   },
   {
    "duration": 14,
    "start_time": "2022-09-23T13:31:13.639Z"
   },
   {
    "duration": 10,
    "start_time": "2022-09-23T13:31:20.156Z"
   },
   {
    "duration": 10,
    "start_time": "2022-09-23T13:37:04.401Z"
   },
   {
    "duration": 414,
    "start_time": "2022-09-24T15:38:01.229Z"
   },
   {
    "duration": 238,
    "start_time": "2022-09-24T15:38:01.645Z"
   },
   {
    "duration": 11,
    "start_time": "2022-09-24T15:38:01.884Z"
   },
   {
    "duration": 51,
    "start_time": "2022-09-24T15:38:01.897Z"
   },
   {
    "duration": 39,
    "start_time": "2022-09-24T15:38:01.949Z"
   },
   {
    "duration": 73,
    "start_time": "2022-09-24T15:38:01.989Z"
   },
   {
    "duration": 20,
    "start_time": "2022-09-24T15:38:02.064Z"
   },
   {
    "duration": 64,
    "start_time": "2022-09-24T15:38:02.086Z"
   },
   {
    "duration": 17,
    "start_time": "2022-09-24T15:38:02.152Z"
   },
   {
    "duration": 81,
    "start_time": "2022-09-24T15:38:02.172Z"
   },
   {
    "duration": 28,
    "start_time": "2022-09-24T15:38:02.254Z"
   },
   {
    "duration": 62,
    "start_time": "2022-09-24T15:38:02.283Z"
   },
   {
    "duration": 26,
    "start_time": "2022-09-24T15:38:02.346Z"
   },
   {
    "duration": 29,
    "start_time": "2022-09-24T15:38:02.373Z"
   },
   {
    "duration": 96,
    "start_time": "2022-09-24T15:38:41.680Z"
   },
   {
    "duration": 453,
    "start_time": "2022-09-24T15:39:13.371Z"
   },
   {
    "duration": 36,
    "start_time": "2022-09-24T15:39:38.122Z"
   },
   {
    "duration": 161,
    "start_time": "2022-09-24T15:40:47.306Z"
   },
   {
    "duration": 157,
    "start_time": "2022-09-24T15:44:06.864Z"
   },
   {
    "duration": 255,
    "start_time": "2022-09-24T15:44:18.316Z"
   },
   {
    "duration": 11,
    "start_time": "2022-09-24T15:50:03.964Z"
   },
   {
    "duration": 6,
    "start_time": "2022-09-24T15:50:09.450Z"
   },
   {
    "duration": 13,
    "start_time": "2022-09-24T15:50:20.072Z"
   },
   {
    "duration": 254,
    "start_time": "2022-09-24T15:59:24.370Z"
   },
   {
    "duration": 149,
    "start_time": "2022-09-24T15:59:44.872Z"
   },
   {
    "duration": 300,
    "start_time": "2022-09-24T16:00:16.537Z"
   },
   {
    "duration": 165,
    "start_time": "2022-09-24T16:00:42.136Z"
   },
   {
    "duration": 372,
    "start_time": "2022-09-24T16:05:38.787Z"
   },
   {
    "duration": 167,
    "start_time": "2022-09-24T16:05:45.196Z"
   },
   {
    "duration": 352,
    "start_time": "2022-09-24T16:16:57.761Z"
   },
   {
    "duration": 346,
    "start_time": "2022-09-24T16:18:30.655Z"
   },
   {
    "duration": 348,
    "start_time": "2022-09-24T16:18:39.187Z"
   },
   {
    "duration": 314,
    "start_time": "2022-09-24T17:52:48.153Z"
   },
   {
    "duration": 398,
    "start_time": "2022-09-24T17:53:32.567Z"
   },
   {
    "duration": 3,
    "start_time": "2022-09-24T17:54:04.071Z"
   },
   {
    "duration": 112,
    "start_time": "2022-09-24T17:54:04.075Z"
   },
   {
    "duration": 16,
    "start_time": "2022-09-24T17:54:04.189Z"
   },
   {
    "duration": 78,
    "start_time": "2022-09-24T17:54:04.206Z"
   },
   {
    "duration": 46,
    "start_time": "2022-09-24T17:54:04.287Z"
   },
   {
    "duration": 15,
    "start_time": "2022-09-24T17:54:04.335Z"
   },
   {
    "duration": 34,
    "start_time": "2022-09-24T17:54:04.352Z"
   },
   {
    "duration": 19,
    "start_time": "2022-09-24T17:54:04.388Z"
   },
   {
    "duration": 35,
    "start_time": "2022-09-24T17:54:04.409Z"
   },
   {
    "duration": 14,
    "start_time": "2022-09-24T17:54:04.446Z"
   },
   {
    "duration": 27,
    "start_time": "2022-09-24T17:54:04.463Z"
   },
   {
    "duration": 46,
    "start_time": "2022-09-24T17:54:04.493Z"
   },
   {
    "duration": 30,
    "start_time": "2022-09-24T17:54:04.541Z"
   },
   {
    "duration": 32,
    "start_time": "2022-09-24T17:54:04.573Z"
   },
   {
    "duration": 300,
    "start_time": "2022-09-24T17:54:04.607Z"
   },
   {
    "duration": 22,
    "start_time": "2022-09-24T17:54:04.909Z"
   },
   {
    "duration": 305,
    "start_time": "2022-09-24T17:54:04.933Z"
   },
   {
    "duration": 362,
    "start_time": "2022-09-24T17:54:10.378Z"
   },
   {
    "duration": 194,
    "start_time": "2022-09-24T17:54:51.016Z"
   },
   {
    "duration": 299,
    "start_time": "2022-09-24T17:55:55.203Z"
   },
   {
    "duration": 175,
    "start_time": "2022-09-24T17:58:20.196Z"
   },
   {
    "duration": 268,
    "start_time": "2022-09-24T18:00:18.230Z"
   },
   {
    "duration": 186,
    "start_time": "2022-09-24T18:03:51.197Z"
   },
   {
    "duration": 281,
    "start_time": "2022-09-24T18:05:09.705Z"
   },
   {
    "duration": 204,
    "start_time": "2022-09-24T18:07:38.960Z"
   },
   {
    "duration": 638,
    "start_time": "2022-09-24T18:29:04.080Z"
   },
   {
    "duration": 73,
    "start_time": "2022-09-24T18:29:04.720Z"
   },
   {
    "duration": 10,
    "start_time": "2022-09-24T18:29:04.795Z"
   },
   {
    "duration": 24,
    "start_time": "2022-09-24T18:29:04.807Z"
   },
   {
    "duration": 41,
    "start_time": "2022-09-24T18:29:04.832Z"
   },
   {
    "duration": 20,
    "start_time": "2022-09-24T18:29:04.874Z"
   },
   {
    "duration": 22,
    "start_time": "2022-09-24T18:29:04.895Z"
   },
   {
    "duration": 27,
    "start_time": "2022-09-24T18:29:04.918Z"
   },
   {
    "duration": 27,
    "start_time": "2022-09-24T18:29:04.946Z"
   },
   {
    "duration": 27,
    "start_time": "2022-09-24T18:29:04.976Z"
   },
   {
    "duration": 14,
    "start_time": "2022-09-24T18:29:05.006Z"
   },
   {
    "duration": 24,
    "start_time": "2022-09-24T18:29:05.022Z"
   },
   {
    "duration": 22,
    "start_time": "2022-09-24T18:29:05.047Z"
   },
   {
    "duration": 30,
    "start_time": "2022-09-24T18:29:05.070Z"
   },
   {
    "duration": 262,
    "start_time": "2022-09-24T18:29:05.101Z"
   },
   {
    "duration": 12,
    "start_time": "2022-09-24T18:29:05.364Z"
   },
   {
    "duration": 271,
    "start_time": "2022-09-24T18:29:05.378Z"
   },
   {
    "duration": 261,
    "start_time": "2022-09-24T18:29:17.283Z"
   },
   {
    "duration": 751,
    "start_time": "2022-09-24T18:30:01.732Z"
   },
   {
    "duration": 87,
    "start_time": "2022-09-24T18:30:02.485Z"
   },
   {
    "duration": 14,
    "start_time": "2022-09-24T18:30:02.574Z"
   },
   {
    "duration": 20,
    "start_time": "2022-09-24T18:30:02.590Z"
   },
   {
    "duration": 29,
    "start_time": "2022-09-24T18:30:02.613Z"
   },
   {
    "duration": 7,
    "start_time": "2022-09-24T18:30:02.644Z"
   },
   {
    "duration": 12,
    "start_time": "2022-09-24T18:30:02.653Z"
   },
   {
    "duration": 23,
    "start_time": "2022-09-24T18:30:02.667Z"
   },
   {
    "duration": 17,
    "start_time": "2022-09-24T18:30:02.692Z"
   },
   {
    "duration": 15,
    "start_time": "2022-09-24T18:30:02.711Z"
   },
   {
    "duration": 13,
    "start_time": "2022-09-24T18:30:02.727Z"
   },
   {
    "duration": 15,
    "start_time": "2022-09-24T18:30:02.741Z"
   },
   {
    "duration": 9,
    "start_time": "2022-09-24T18:30:02.758Z"
   },
   {
    "duration": 40,
    "start_time": "2022-09-24T18:30:02.770Z"
   },
   {
    "duration": 283,
    "start_time": "2022-09-24T18:30:02.812Z"
   },
   {
    "duration": 17,
    "start_time": "2022-09-24T18:30:03.097Z"
   },
   {
    "duration": 371,
    "start_time": "2022-09-24T18:30:03.116Z"
   },
   {
    "duration": 2,
    "start_time": "2022-09-24T18:32:48.058Z"
   },
   {
    "duration": 262,
    "start_time": "2022-09-24T18:32:53.332Z"
   },
   {
    "duration": 3,
    "start_time": "2022-09-24T18:33:13.635Z"
   },
   {
    "duration": 620,
    "start_time": "2022-09-24T18:33:34.107Z"
   },
   {
    "duration": 78,
    "start_time": "2022-09-24T18:33:34.729Z"
   },
   {
    "duration": 10,
    "start_time": "2022-09-24T18:33:34.809Z"
   },
   {
    "duration": 31,
    "start_time": "2022-09-24T18:33:34.821Z"
   },
   {
    "duration": 25,
    "start_time": "2022-09-24T18:33:34.853Z"
   },
   {
    "duration": 41,
    "start_time": "2022-09-24T18:33:34.880Z"
   },
   {
    "duration": 18,
    "start_time": "2022-09-24T18:33:34.922Z"
   },
   {
    "duration": 30,
    "start_time": "2022-09-24T18:33:34.942Z"
   },
   {
    "duration": 28,
    "start_time": "2022-09-24T18:33:34.974Z"
   },
   {
    "duration": 44,
    "start_time": "2022-09-24T18:33:35.004Z"
   },
   {
    "duration": 33,
    "start_time": "2022-09-24T18:33:35.050Z"
   },
   {
    "duration": 52,
    "start_time": "2022-09-24T18:33:35.085Z"
   },
   {
    "duration": 26,
    "start_time": "2022-09-24T18:33:35.139Z"
   },
   {
    "duration": 28,
    "start_time": "2022-09-24T18:33:35.166Z"
   },
   {
    "duration": 280,
    "start_time": "2022-09-24T18:33:35.196Z"
   },
   {
    "duration": 11,
    "start_time": "2022-09-24T18:33:35.478Z"
   },
   {
    "duration": 361,
    "start_time": "2022-09-24T18:33:35.491Z"
   },
   {
    "duration": 357,
    "start_time": "2022-09-24T18:43:31.193Z"
   },
   {
    "duration": 13,
    "start_time": "2022-09-24T19:36:41.416Z"
   },
   {
    "duration": 212,
    "start_time": "2022-09-24T19:37:12.017Z"
   },
   {
    "duration": 326,
    "start_time": "2022-09-24T19:38:23.225Z"
   },
   {
    "duration": 209,
    "start_time": "2022-09-24T19:38:42.179Z"
   },
   {
    "duration": 2,
    "start_time": "2022-09-24T19:39:51.045Z"
   },
   {
    "duration": 174,
    "start_time": "2022-09-24T19:42:18.771Z"
   },
   {
    "duration": 305,
    "start_time": "2022-09-24T19:43:24.579Z"
   },
   {
    "duration": 274,
    "start_time": "2022-09-24T19:43:33.459Z"
   },
   {
    "duration": 213,
    "start_time": "2022-09-24T19:43:47.298Z"
   },
   {
    "duration": 216,
    "start_time": "2022-09-24T19:48:17.474Z"
   },
   {
    "duration": 208,
    "start_time": "2022-09-24T19:48:24.880Z"
   },
   {
    "duration": 247,
    "start_time": "2022-09-24T20:03:43.744Z"
   },
   {
    "duration": 419,
    "start_time": "2022-09-24T20:09:15.054Z"
   },
   {
    "duration": 175,
    "start_time": "2022-09-24T20:19:18.532Z"
   },
   {
    "duration": 204,
    "start_time": "2022-09-24T20:19:38.024Z"
   },
   {
    "duration": 220,
    "start_time": "2022-09-24T20:21:26.582Z"
   },
   {
    "duration": 252,
    "start_time": "2022-09-24T20:28:23.734Z"
   },
   {
    "duration": 5,
    "start_time": "2022-09-24T20:28:47.545Z"
   },
   {
    "duration": 254,
    "start_time": "2022-09-24T20:28:52.257Z"
   },
   {
    "duration": 306,
    "start_time": "2022-09-24T20:29:51.794Z"
   },
   {
    "duration": 261,
    "start_time": "2022-09-24T20:30:02.850Z"
   },
   {
    "duration": 173,
    "start_time": "2022-09-24T20:40:03.304Z"
   },
   {
    "duration": 133,
    "start_time": "2022-09-24T20:42:27.654Z"
   },
   {
    "duration": 156,
    "start_time": "2022-09-24T20:43:07.640Z"
   },
   {
    "duration": 209,
    "start_time": "2022-09-24T20:43:10.795Z"
   },
   {
    "duration": 5,
    "start_time": "2022-09-24T20:46:32.763Z"
   },
   {
    "duration": 82,
    "start_time": "2022-09-24T20:47:59.042Z"
   },
   {
    "duration": 11,
    "start_time": "2022-09-24T20:50:12.242Z"
   },
   {
    "duration": 126,
    "start_time": "2022-09-24T20:50:19.544Z"
   },
   {
    "duration": 153,
    "start_time": "2022-09-24T20:50:25.499Z"
   },
   {
    "duration": 139,
    "start_time": "2022-09-24T20:52:14.441Z"
   },
   {
    "duration": 123,
    "start_time": "2022-09-24T20:54:24.852Z"
   },
   {
    "duration": 112,
    "start_time": "2022-09-24T20:55:02.071Z"
   },
   {
    "duration": 6,
    "start_time": "2022-09-24T20:56:10.630Z"
   },
   {
    "duration": 6,
    "start_time": "2022-09-24T20:56:25.744Z"
   },
   {
    "duration": 41,
    "start_time": "2022-09-25T14:49:15.075Z"
   },
   {
    "duration": 745,
    "start_time": "2022-09-25T14:49:19.613Z"
   },
   {
    "duration": 185,
    "start_time": "2022-09-25T14:49:20.360Z"
   },
   {
    "duration": 12,
    "start_time": "2022-09-25T14:49:20.546Z"
   },
   {
    "duration": 12,
    "start_time": "2022-09-25T14:49:20.559Z"
   },
   {
    "duration": 9,
    "start_time": "2022-09-25T14:49:20.573Z"
   },
   {
    "duration": 5,
    "start_time": "2022-09-25T14:49:20.584Z"
   },
   {
    "duration": 7,
    "start_time": "2022-09-25T14:49:20.591Z"
   },
   {
    "duration": 14,
    "start_time": "2022-09-25T14:49:20.600Z"
   },
   {
    "duration": 9,
    "start_time": "2022-09-25T14:49:20.616Z"
   },
   {
    "duration": 12,
    "start_time": "2022-09-25T14:49:20.627Z"
   },
   {
    "duration": 13,
    "start_time": "2022-09-25T14:49:20.641Z"
   },
   {
    "duration": 17,
    "start_time": "2022-09-25T14:49:20.655Z"
   },
   {
    "duration": 36,
    "start_time": "2022-09-25T14:49:20.673Z"
   },
   {
    "duration": 7,
    "start_time": "2022-09-25T14:49:20.711Z"
   },
   {
    "duration": 257,
    "start_time": "2022-09-25T14:49:20.719Z"
   },
   {
    "duration": 12,
    "start_time": "2022-09-25T14:49:20.977Z"
   },
   {
    "duration": 278,
    "start_time": "2022-09-25T14:49:20.990Z"
   },
   {
    "duration": 207,
    "start_time": "2022-09-25T14:49:21.269Z"
   },
   {
    "duration": 362,
    "start_time": "2022-09-25T14:49:21.477Z"
   },
   {
    "duration": 207,
    "start_time": "2022-09-25T14:49:21.841Z"
   },
   {
    "duration": 286,
    "start_time": "2022-09-25T14:49:22.050Z"
   },
   {
    "duration": 153,
    "start_time": "2022-09-25T14:49:22.338Z"
   },
   {
    "duration": 134,
    "start_time": "2022-09-25T14:49:22.492Z"
   },
   {
    "duration": 4,
    "start_time": "2022-09-25T14:49:22.627Z"
   },
   {
    "duration": 138,
    "start_time": "2022-09-25T14:49:22.632Z"
   },
   {
    "duration": 138,
    "start_time": "2022-09-25T14:49:22.772Z"
   },
   {
    "duration": 119,
    "start_time": "2022-09-25T14:49:22.911Z"
   },
   {
    "duration": 4,
    "start_time": "2022-09-25T14:49:23.032Z"
   },
   {
    "duration": 7,
    "start_time": "2022-09-25T14:49:23.038Z"
   },
   {
    "duration": 4,
    "start_time": "2022-09-25T14:50:19.294Z"
   },
   {
    "duration": 38,
    "start_time": "2022-09-25T15:31:43.617Z"
   },
   {
    "duration": 15,
    "start_time": "2022-09-25T15:31:57.637Z"
   },
   {
    "duration": 39,
    "start_time": "2022-09-25T15:32:14.605Z"
   },
   {
    "duration": 221,
    "start_time": "2022-09-25T15:36:15.831Z"
   },
   {
    "duration": 99,
    "start_time": "2022-09-25T15:36:25.433Z"
   },
   {
    "duration": 16,
    "start_time": "2022-09-25T15:37:43.105Z"
   },
   {
    "duration": 27,
    "start_time": "2022-09-25T15:38:01.266Z"
   },
   {
    "duration": 97,
    "start_time": "2022-09-25T15:38:12.827Z"
   },
   {
    "duration": 86,
    "start_time": "2022-09-25T15:38:27.187Z"
   },
   {
    "duration": 26,
    "start_time": "2022-09-25T15:38:51.942Z"
   },
   {
    "duration": 139,
    "start_time": "2022-09-25T15:44:25.636Z"
   },
   {
    "duration": 897,
    "start_time": "2022-09-25T15:50:05.359Z"
   },
   {
    "duration": 832,
    "start_time": "2022-09-25T15:51:07.088Z"
   },
   {
    "duration": 10,
    "start_time": "2022-09-25T15:51:37.807Z"
   },
   {
    "duration": 420,
    "start_time": "2022-09-25T15:52:13.066Z"
   },
   {
    "duration": 26,
    "start_time": "2022-09-25T15:52:17.791Z"
   },
   {
    "duration": 22,
    "start_time": "2022-09-25T15:53:06.244Z"
   },
   {
    "duration": 889,
    "start_time": "2022-09-25T16:14:26.346Z"
   },
   {
    "duration": 118,
    "start_time": "2022-09-25T16:14:36.331Z"
   },
   {
    "duration": 24,
    "start_time": "2022-09-25T16:14:38.075Z"
   },
   {
    "duration": 10,
    "start_time": "2022-09-25T16:16:24.733Z"
   },
   {
    "duration": 890,
    "start_time": "2022-09-25T16:28:19.363Z"
   },
   {
    "duration": 8,
    "start_time": "2022-09-25T16:29:03.330Z"
   },
   {
    "duration": 24,
    "start_time": "2022-09-25T16:33:27.533Z"
   },
   {
    "duration": 30,
    "start_time": "2022-09-25T16:38:34.464Z"
   },
   {
    "duration": 16,
    "start_time": "2022-09-25T16:40:40.687Z"
   },
   {
    "duration": 12,
    "start_time": "2022-09-25T16:40:56.050Z"
   },
   {
    "duration": 64,
    "start_time": "2022-09-25T16:44:32.862Z"
   },
   {
    "duration": 7,
    "start_time": "2022-09-25T16:49:51.291Z"
   },
   {
    "duration": 24,
    "start_time": "2022-09-25T16:50:02.908Z"
   },
   {
    "duration": 12,
    "start_time": "2022-09-25T16:50:16.355Z"
   },
   {
    "duration": 1190,
    "start_time": "2022-09-26T06:40:44.077Z"
   },
   {
    "duration": 203,
    "start_time": "2022-09-26T06:40:45.269Z"
   },
   {
    "duration": 11,
    "start_time": "2022-09-26T06:40:45.474Z"
   },
   {
    "duration": 14,
    "start_time": "2022-09-26T06:40:45.486Z"
   },
   {
    "duration": 14,
    "start_time": "2022-09-26T06:40:45.502Z"
   },
   {
    "duration": 7,
    "start_time": "2022-09-26T06:40:45.518Z"
   },
   {
    "duration": 13,
    "start_time": "2022-09-26T06:40:45.528Z"
   },
   {
    "duration": 18,
    "start_time": "2022-09-26T06:40:45.544Z"
   },
   {
    "duration": 9,
    "start_time": "2022-09-26T06:40:45.564Z"
   },
   {
    "duration": 10,
    "start_time": "2022-09-26T06:40:45.575Z"
   },
   {
    "duration": 36,
    "start_time": "2022-09-26T06:40:45.586Z"
   },
   {
    "duration": 23,
    "start_time": "2022-09-26T06:40:45.624Z"
   },
   {
    "duration": 11,
    "start_time": "2022-09-26T06:40:45.648Z"
   },
   {
    "duration": 8,
    "start_time": "2022-09-26T06:40:45.660Z"
   },
   {
    "duration": 286,
    "start_time": "2022-09-26T06:40:45.669Z"
   },
   {
    "duration": 13,
    "start_time": "2022-09-26T06:40:45.957Z"
   },
   {
    "duration": 391,
    "start_time": "2022-09-26T06:40:45.971Z"
   },
   {
    "duration": 223,
    "start_time": "2022-09-26T06:40:46.364Z"
   },
   {
    "duration": 403,
    "start_time": "2022-09-26T06:40:46.588Z"
   },
   {
    "duration": 270,
    "start_time": "2022-09-26T06:40:46.992Z"
   },
   {
    "duration": 290,
    "start_time": "2022-09-26T06:40:47.264Z"
   },
   {
    "duration": 165,
    "start_time": "2022-09-26T06:40:47.556Z"
   },
   {
    "duration": 173,
    "start_time": "2022-09-26T06:40:47.723Z"
   },
   {
    "duration": 4,
    "start_time": "2022-09-26T06:40:47.898Z"
   },
   {
    "duration": 157,
    "start_time": "2022-09-26T06:40:47.904Z"
   },
   {
    "duration": 148,
    "start_time": "2022-09-26T06:40:48.062Z"
   },
   {
    "duration": 212,
    "start_time": "2022-09-26T06:40:48.212Z"
   },
   {
    "duration": 5,
    "start_time": "2022-09-26T06:40:48.427Z"
   },
   {
    "duration": 116,
    "start_time": "2022-09-26T06:40:48.435Z"
   },
   {
    "duration": 127,
    "start_time": "2022-09-26T06:40:48.552Z"
   },
   {
    "duration": 25,
    "start_time": "2022-09-26T06:40:48.680Z"
   },
   {
    "duration": 165,
    "start_time": "2022-09-26T06:40:48.706Z"
   },
   {
    "duration": 23,
    "start_time": "2022-09-26T06:40:48.872Z"
   },
   {
    "duration": 28,
    "start_time": "2022-09-26T06:40:48.896Z"
   },
   {
    "duration": 15,
    "start_time": "2022-09-26T06:40:48.926Z"
   },
   {
    "duration": 33,
    "start_time": "2022-09-26T06:40:48.943Z"
   },
   {
    "duration": 12,
    "start_time": "2022-09-26T06:40:48.977Z"
   },
   {
    "duration": 50,
    "start_time": "2022-09-27T08:46:39.257Z"
   },
   {
    "duration": 1290,
    "start_time": "2022-09-27T08:46:45.450Z"
   },
   {
    "duration": 197,
    "start_time": "2022-09-27T08:46:46.743Z"
   },
   {
    "duration": 12,
    "start_time": "2022-09-27T08:46:46.942Z"
   },
   {
    "duration": 12,
    "start_time": "2022-09-27T08:46:46.956Z"
   },
   {
    "duration": 11,
    "start_time": "2022-09-27T08:46:46.970Z"
   },
   {
    "duration": 8,
    "start_time": "2022-09-27T08:46:46.983Z"
   },
   {
    "duration": 8,
    "start_time": "2022-09-27T08:46:46.992Z"
   },
   {
    "duration": 14,
    "start_time": "2022-09-27T08:46:47.001Z"
   },
   {
    "duration": 10,
    "start_time": "2022-09-27T08:46:47.022Z"
   },
   {
    "duration": 12,
    "start_time": "2022-09-27T08:46:47.036Z"
   },
   {
    "duration": 37,
    "start_time": "2022-09-27T08:46:47.050Z"
   },
   {
    "duration": 76,
    "start_time": "2022-09-27T08:46:47.089Z"
   },
   {
    "duration": 0,
    "start_time": "2022-09-27T08:46:47.167Z"
   },
   {
    "duration": 0,
    "start_time": "2022-09-27T08:46:47.169Z"
   },
   {
    "duration": 0,
    "start_time": "2022-09-27T08:46:47.171Z"
   },
   {
    "duration": 0,
    "start_time": "2022-09-27T08:46:47.172Z"
   },
   {
    "duration": 0,
    "start_time": "2022-09-27T08:46:47.173Z"
   },
   {
    "duration": 1,
    "start_time": "2022-09-27T08:46:47.174Z"
   },
   {
    "duration": 0,
    "start_time": "2022-09-27T08:46:47.176Z"
   },
   {
    "duration": 0,
    "start_time": "2022-09-27T08:46:47.177Z"
   },
   {
    "duration": 0,
    "start_time": "2022-09-27T08:46:47.179Z"
   },
   {
    "duration": 0,
    "start_time": "2022-09-27T08:46:47.180Z"
   },
   {
    "duration": 0,
    "start_time": "2022-09-27T08:46:47.181Z"
   },
   {
    "duration": 0,
    "start_time": "2022-09-27T08:46:47.183Z"
   },
   {
    "duration": 0,
    "start_time": "2022-09-27T08:46:47.184Z"
   },
   {
    "duration": 0,
    "start_time": "2022-09-27T08:46:47.185Z"
   },
   {
    "duration": 0,
    "start_time": "2022-09-27T08:46:47.186Z"
   },
   {
    "duration": 0,
    "start_time": "2022-09-27T08:46:47.222Z"
   },
   {
    "duration": 0,
    "start_time": "2022-09-27T08:46:47.223Z"
   },
   {
    "duration": 0,
    "start_time": "2022-09-27T08:46:47.224Z"
   },
   {
    "duration": 0,
    "start_time": "2022-09-27T08:46:47.225Z"
   },
   {
    "duration": 0,
    "start_time": "2022-09-27T08:46:47.226Z"
   },
   {
    "duration": 0,
    "start_time": "2022-09-27T08:46:47.227Z"
   },
   {
    "duration": 0,
    "start_time": "2022-09-27T08:46:47.228Z"
   },
   {
    "duration": 0,
    "start_time": "2022-09-27T08:46:47.229Z"
   },
   {
    "duration": 0,
    "start_time": "2022-09-27T08:46:47.231Z"
   },
   {
    "duration": 0,
    "start_time": "2022-09-27T08:46:47.231Z"
   },
   {
    "duration": 0,
    "start_time": "2022-09-27T08:46:47.232Z"
   },
   {
    "duration": 0,
    "start_time": "2022-09-27T08:46:47.233Z"
   },
   {
    "duration": 13,
    "start_time": "2022-09-27T08:48:39.088Z"
   },
   {
    "duration": 11,
    "start_time": "2022-09-27T08:57:10.377Z"
   },
   {
    "duration": 3,
    "start_time": "2022-09-27T08:57:30.032Z"
   },
   {
    "duration": 81,
    "start_time": "2022-09-27T08:57:30.038Z"
   },
   {
    "duration": 12,
    "start_time": "2022-09-27T08:57:30.121Z"
   },
   {
    "duration": 12,
    "start_time": "2022-09-27T08:57:30.136Z"
   },
   {
    "duration": 14,
    "start_time": "2022-09-27T08:57:30.149Z"
   },
   {
    "duration": 7,
    "start_time": "2022-09-27T08:57:30.164Z"
   },
   {
    "duration": 15,
    "start_time": "2022-09-27T08:57:30.173Z"
   },
   {
    "duration": 20,
    "start_time": "2022-09-27T08:57:30.190Z"
   },
   {
    "duration": 15,
    "start_time": "2022-09-27T08:57:30.211Z"
   },
   {
    "duration": 9,
    "start_time": "2022-09-27T08:57:30.228Z"
   },
   {
    "duration": 19,
    "start_time": "2022-09-27T08:57:30.239Z"
   },
   {
    "duration": 21,
    "start_time": "2022-09-27T08:57:30.259Z"
   },
   {
    "duration": 0,
    "start_time": "2022-09-27T08:57:30.281Z"
   },
   {
    "duration": 0,
    "start_time": "2022-09-27T08:57:30.282Z"
   },
   {
    "duration": 0,
    "start_time": "2022-09-27T08:57:30.283Z"
   },
   {
    "duration": 0,
    "start_time": "2022-09-27T08:57:30.284Z"
   },
   {
    "duration": 0,
    "start_time": "2022-09-27T08:57:30.285Z"
   },
   {
    "duration": 0,
    "start_time": "2022-09-27T08:57:30.287Z"
   },
   {
    "duration": 0,
    "start_time": "2022-09-27T08:57:30.288Z"
   },
   {
    "duration": 0,
    "start_time": "2022-09-27T08:57:30.290Z"
   },
   {
    "duration": 0,
    "start_time": "2022-09-27T08:57:30.291Z"
   },
   {
    "duration": 0,
    "start_time": "2022-09-27T08:57:30.292Z"
   },
   {
    "duration": 0,
    "start_time": "2022-09-27T08:57:30.293Z"
   },
   {
    "duration": 13,
    "start_time": "2022-09-27T08:57:51.569Z"
   },
   {
    "duration": 8,
    "start_time": "2022-09-27T08:58:01.528Z"
   },
   {
    "duration": 9,
    "start_time": "2022-09-27T08:58:13.876Z"
   },
   {
    "duration": 1151,
    "start_time": "2022-09-27T09:00:20.487Z"
   },
   {
    "duration": 12,
    "start_time": "2022-09-27T09:00:32.927Z"
   },
   {
    "duration": 13,
    "start_time": "2022-09-27T09:05:00.036Z"
   },
   {
    "duration": 8,
    "start_time": "2022-09-27T09:05:21.014Z"
   },
   {
    "duration": 9,
    "start_time": "2022-09-27T09:05:36.295Z"
   },
   {
    "duration": 11,
    "start_time": "2022-09-27T09:20:56.229Z"
   },
   {
    "duration": 52,
    "start_time": "2022-09-27T10:35:02.494Z"
   },
   {
    "duration": 1268,
    "start_time": "2022-09-27T10:35:09.516Z"
   },
   {
    "duration": 196,
    "start_time": "2022-09-27T10:35:10.786Z"
   },
   {
    "duration": 11,
    "start_time": "2022-09-27T10:35:10.983Z"
   },
   {
    "duration": 11,
    "start_time": "2022-09-27T10:35:10.996Z"
   },
   {
    "duration": 9,
    "start_time": "2022-09-27T10:35:11.010Z"
   },
   {
    "duration": 8,
    "start_time": "2022-09-27T10:35:11.020Z"
   },
   {
    "duration": 12,
    "start_time": "2022-09-27T10:35:11.029Z"
   },
   {
    "duration": 20,
    "start_time": "2022-09-27T10:35:11.042Z"
   },
   {
    "duration": 11,
    "start_time": "2022-09-27T10:35:11.064Z"
   },
   {
    "duration": 11,
    "start_time": "2022-09-27T10:35:11.076Z"
   },
   {
    "duration": 29,
    "start_time": "2022-09-27T10:35:11.088Z"
   },
   {
    "duration": 14,
    "start_time": "2022-09-27T10:35:11.118Z"
   },
   {
    "duration": 9,
    "start_time": "2022-09-27T10:35:11.133Z"
   },
   {
    "duration": 11,
    "start_time": "2022-09-27T10:35:11.144Z"
   },
   {
    "duration": 9,
    "start_time": "2022-09-27T10:35:11.157Z"
   },
   {
    "duration": 211,
    "start_time": "2022-09-27T10:35:16.566Z"
   },
   {
    "duration": 69,
    "start_time": "2022-09-27T10:36:35.580Z"
   },
   {
    "duration": 3,
    "start_time": "2022-09-27T10:37:45.821Z"
   },
   {
    "duration": 82,
    "start_time": "2022-09-27T10:37:45.826Z"
   },
   {
    "duration": 9,
    "start_time": "2022-09-27T10:37:45.909Z"
   },
   {
    "duration": 10,
    "start_time": "2022-09-27T10:37:45.920Z"
   },
   {
    "duration": 13,
    "start_time": "2022-09-27T10:37:45.932Z"
   },
   {
    "duration": 4,
    "start_time": "2022-09-27T10:37:45.946Z"
   },
   {
    "duration": 10,
    "start_time": "2022-09-27T10:37:45.952Z"
   },
   {
    "duration": 14,
    "start_time": "2022-09-27T10:37:45.963Z"
   },
   {
    "duration": 32,
    "start_time": "2022-09-27T10:37:45.979Z"
   },
   {
    "duration": 11,
    "start_time": "2022-09-27T10:37:46.013Z"
   },
   {
    "duration": 12,
    "start_time": "2022-09-27T10:37:46.026Z"
   },
   {
    "duration": 15,
    "start_time": "2022-09-27T10:37:46.039Z"
   },
   {
    "duration": 8,
    "start_time": "2022-09-27T10:37:46.055Z"
   },
   {
    "duration": 9,
    "start_time": "2022-09-27T10:37:46.064Z"
   },
   {
    "duration": 40,
    "start_time": "2022-09-27T10:37:46.075Z"
   },
   {
    "duration": 189,
    "start_time": "2022-09-27T10:37:46.117Z"
   },
   {
    "duration": 5,
    "start_time": "2022-09-27T10:37:46.309Z"
   },
   {
    "duration": 274,
    "start_time": "2022-09-27T10:37:46.315Z"
   },
   {
    "duration": 11,
    "start_time": "2022-09-27T10:37:46.590Z"
   },
   {
    "duration": 270,
    "start_time": "2022-09-27T10:37:46.608Z"
   },
   {
    "duration": 202,
    "start_time": "2022-09-27T10:37:46.880Z"
   },
   {
    "duration": 371,
    "start_time": "2022-09-27T10:37:47.084Z"
   },
   {
    "duration": 222,
    "start_time": "2022-09-27T10:37:52.710Z"
   },
   {
    "duration": 260,
    "start_time": "2022-09-27T10:38:15.537Z"
   },
   {
    "duration": 339,
    "start_time": "2022-09-27T10:38:28.652Z"
   },
   {
    "duration": 160,
    "start_time": "2022-09-27T10:39:47.835Z"
   },
   {
    "duration": 188,
    "start_time": "2022-09-27T10:40:48.476Z"
   },
   {
    "duration": 3,
    "start_time": "2022-09-27T10:44:46.853Z"
   },
   {
    "duration": 81,
    "start_time": "2022-09-27T10:44:46.858Z"
   },
   {
    "duration": 10,
    "start_time": "2022-09-27T10:44:46.941Z"
   },
   {
    "duration": 10,
    "start_time": "2022-09-27T10:44:46.953Z"
   },
   {
    "duration": 9,
    "start_time": "2022-09-27T10:44:46.965Z"
   },
   {
    "duration": 4,
    "start_time": "2022-09-27T10:44:46.976Z"
   },
   {
    "duration": 7,
    "start_time": "2022-09-27T10:44:46.982Z"
   },
   {
    "duration": 22,
    "start_time": "2022-09-27T10:44:46.990Z"
   },
   {
    "duration": 9,
    "start_time": "2022-09-27T10:44:47.015Z"
   },
   {
    "duration": 10,
    "start_time": "2022-09-27T10:44:47.025Z"
   },
   {
    "duration": 9,
    "start_time": "2022-09-27T10:44:47.037Z"
   },
   {
    "duration": 11,
    "start_time": "2022-09-27T10:44:47.047Z"
   },
   {
    "duration": 8,
    "start_time": "2022-09-27T10:44:47.059Z"
   },
   {
    "duration": 46,
    "start_time": "2022-09-27T10:44:47.068Z"
   },
   {
    "duration": 14,
    "start_time": "2022-09-27T10:44:47.115Z"
   },
   {
    "duration": 205,
    "start_time": "2022-09-27T10:44:47.130Z"
   },
   {
    "duration": 6,
    "start_time": "2022-09-27T10:44:47.337Z"
   },
   {
    "duration": 277,
    "start_time": "2022-09-27T10:44:47.344Z"
   },
   {
    "duration": 11,
    "start_time": "2022-09-27T10:44:47.623Z"
   },
   {
    "duration": 201,
    "start_time": "2022-09-27T10:44:47.636Z"
   },
   {
    "duration": 205,
    "start_time": "2022-09-27T10:44:47.839Z"
   },
   {
    "duration": 277,
    "start_time": "2022-09-27T10:44:48.045Z"
   },
   {
    "duration": 218,
    "start_time": "2022-09-27T10:44:48.324Z"
   },
   {
    "duration": 263,
    "start_time": "2022-09-27T10:44:48.546Z"
   },
   {
    "duration": 145,
    "start_time": "2022-09-27T10:44:48.811Z"
   },
   {
    "duration": 143,
    "start_time": "2022-09-27T10:44:48.958Z"
   },
   {
    "duration": 8,
    "start_time": "2022-09-27T10:44:49.102Z"
   },
   {
    "duration": 136,
    "start_time": "2022-09-27T10:44:49.111Z"
   },
   {
    "duration": 212,
    "start_time": "2022-09-27T10:44:49.250Z"
   },
   {
    "duration": 122,
    "start_time": "2022-09-27T10:44:49.464Z"
   },
   {
    "duration": 5,
    "start_time": "2022-09-27T10:44:49.588Z"
   },
   {
    "duration": 90,
    "start_time": "2022-09-27T10:44:49.595Z"
   },
   {
    "duration": 133,
    "start_time": "2022-09-27T10:44:49.687Z"
   },
   {
    "duration": 27,
    "start_time": "2022-09-27T10:44:49.821Z"
   },
   {
    "duration": 140,
    "start_time": "2022-09-27T10:44:49.850Z"
   },
   {
    "duration": 26,
    "start_time": "2022-09-27T10:44:49.991Z"
   },
   {
    "duration": 8,
    "start_time": "2022-09-27T10:44:50.019Z"
   },
   {
    "duration": 9,
    "start_time": "2022-09-27T10:44:56.343Z"
   },
   {
    "duration": 25,
    "start_time": "2022-09-27T10:45:34.196Z"
   },
   {
    "duration": 1132,
    "start_time": "2022-09-27T10:46:45.561Z"
   },
   {
    "duration": 9,
    "start_time": "2022-09-27T10:49:07.844Z"
   },
   {
    "duration": 30,
    "start_time": "2022-09-27T10:49:30.351Z"
   },
   {
    "duration": 13,
    "start_time": "2022-09-27T10:49:46.807Z"
   },
   {
    "duration": 54,
    "start_time": "2022-09-27T10:52:19.938Z"
   },
   {
    "duration": 54,
    "start_time": "2022-09-27T10:53:31.296Z"
   },
   {
    "duration": 142,
    "start_time": "2022-09-27T10:58:25.288Z"
   },
   {
    "duration": 117,
    "start_time": "2022-09-27T11:04:48.581Z"
   },
   {
    "duration": 119,
    "start_time": "2022-09-27T11:05:00.495Z"
   },
   {
    "duration": 121,
    "start_time": "2022-09-27T11:05:11.518Z"
   },
   {
    "duration": 120,
    "start_time": "2022-09-27T11:05:20.685Z"
   },
   {
    "duration": 137,
    "start_time": "2022-09-27T11:05:29.732Z"
   },
   {
    "duration": 112,
    "start_time": "2022-09-27T11:06:02.647Z"
   },
   {
    "duration": 111,
    "start_time": "2022-09-27T11:06:35.502Z"
   },
   {
    "duration": 125,
    "start_time": "2022-09-27T11:28:43.676Z"
   },
   {
    "duration": 142,
    "start_time": "2022-09-27T11:28:52.589Z"
   },
   {
    "duration": 1374,
    "start_time": "2022-09-27T11:36:53.687Z"
   },
   {
    "duration": 246,
    "start_time": "2022-09-27T11:36:55.063Z"
   },
   {
    "duration": 14,
    "start_time": "2022-09-27T11:36:55.312Z"
   },
   {
    "duration": 14,
    "start_time": "2022-09-27T11:36:55.328Z"
   },
   {
    "duration": 13,
    "start_time": "2022-09-27T11:36:55.344Z"
   },
   {
    "duration": 8,
    "start_time": "2022-09-27T11:36:55.358Z"
   },
   {
    "duration": 12,
    "start_time": "2022-09-27T11:36:55.367Z"
   },
   {
    "duration": 28,
    "start_time": "2022-09-27T11:36:55.380Z"
   },
   {
    "duration": 11,
    "start_time": "2022-09-27T11:36:55.410Z"
   },
   {
    "duration": 15,
    "start_time": "2022-09-27T11:36:55.424Z"
   },
   {
    "duration": 10,
    "start_time": "2022-09-27T11:36:55.441Z"
   },
   {
    "duration": 15,
    "start_time": "2022-09-27T11:36:55.453Z"
   },
   {
    "duration": 42,
    "start_time": "2022-09-27T11:36:55.470Z"
   },
   {
    "duration": 13,
    "start_time": "2022-09-27T11:36:55.514Z"
   },
   {
    "duration": 11,
    "start_time": "2022-09-27T11:36:55.529Z"
   },
   {
    "duration": 221,
    "start_time": "2022-09-27T11:36:55.541Z"
   },
   {
    "duration": 6,
    "start_time": "2022-09-27T11:36:55.764Z"
   },
   {
    "duration": 294,
    "start_time": "2022-09-27T11:36:55.772Z"
   },
   {
    "duration": 12,
    "start_time": "2022-09-27T11:36:56.070Z"
   },
   {
    "duration": 307,
    "start_time": "2022-09-27T11:36:56.095Z"
   },
   {
    "duration": 240,
    "start_time": "2022-09-27T11:36:56.405Z"
   },
   {
    "duration": 398,
    "start_time": "2022-09-27T11:36:56.647Z"
   },
   {
    "duration": 256,
    "start_time": "2022-09-27T11:36:57.047Z"
   },
   {
    "duration": 305,
    "start_time": "2022-09-27T11:36:57.306Z"
   },
   {
    "duration": 173,
    "start_time": "2022-09-27T11:36:57.612Z"
   },
   {
    "duration": 154,
    "start_time": "2022-09-27T11:36:57.787Z"
   },
   {
    "duration": 6,
    "start_time": "2022-09-27T11:36:57.943Z"
   },
   {
    "duration": 161,
    "start_time": "2022-09-27T11:36:57.953Z"
   },
   {
    "duration": 98,
    "start_time": "2022-09-27T11:36:58.119Z"
   },
   {
    "duration": 0,
    "start_time": "2022-09-27T11:36:58.219Z"
   },
   {
    "duration": 0,
    "start_time": "2022-09-27T11:36:58.221Z"
   },
   {
    "duration": 0,
    "start_time": "2022-09-27T11:36:58.223Z"
   },
   {
    "duration": 0,
    "start_time": "2022-09-27T11:36:58.225Z"
   },
   {
    "duration": 0,
    "start_time": "2022-09-27T11:36:58.226Z"
   },
   {
    "duration": 0,
    "start_time": "2022-09-27T11:36:58.227Z"
   },
   {
    "duration": 0,
    "start_time": "2022-09-27T11:36:58.228Z"
   },
   {
    "duration": 0,
    "start_time": "2022-09-27T11:36:58.230Z"
   },
   {
    "duration": 0,
    "start_time": "2022-09-27T11:36:58.231Z"
   },
   {
    "duration": 0,
    "start_time": "2022-09-27T11:36:58.232Z"
   },
   {
    "duration": 0,
    "start_time": "2022-09-27T11:36:58.233Z"
   },
   {
    "duration": 215,
    "start_time": "2022-09-27T11:37:25.660Z"
   },
   {
    "duration": 124,
    "start_time": "2022-09-27T11:37:53.579Z"
   },
   {
    "duration": 1089,
    "start_time": "2022-09-27T11:38:07.256Z"
   },
   {
    "duration": 88,
    "start_time": "2022-09-27T11:38:08.347Z"
   },
   {
    "duration": 12,
    "start_time": "2022-09-27T11:38:08.437Z"
   },
   {
    "duration": 13,
    "start_time": "2022-09-27T11:38:08.450Z"
   },
   {
    "duration": 10,
    "start_time": "2022-09-27T11:38:08.465Z"
   },
   {
    "duration": 5,
    "start_time": "2022-09-27T11:38:08.477Z"
   },
   {
    "duration": 19,
    "start_time": "2022-09-27T11:38:08.484Z"
   },
   {
    "duration": 16,
    "start_time": "2022-09-27T11:38:08.505Z"
   },
   {
    "duration": 10,
    "start_time": "2022-09-27T11:38:08.522Z"
   },
   {
    "duration": 13,
    "start_time": "2022-09-27T11:38:08.535Z"
   },
   {
    "duration": 11,
    "start_time": "2022-09-27T11:38:08.549Z"
   },
   {
    "duration": 12,
    "start_time": "2022-09-27T11:38:08.562Z"
   },
   {
    "duration": 35,
    "start_time": "2022-09-27T11:38:08.575Z"
   },
   {
    "duration": 13,
    "start_time": "2022-09-27T11:38:08.612Z"
   },
   {
    "duration": 10,
    "start_time": "2022-09-27T11:38:08.627Z"
   },
   {
    "duration": 212,
    "start_time": "2022-09-27T11:38:08.639Z"
   },
   {
    "duration": 6,
    "start_time": "2022-09-27T11:38:08.853Z"
   },
   {
    "duration": 298,
    "start_time": "2022-09-27T11:38:08.861Z"
   },
   {
    "duration": 13,
    "start_time": "2022-09-27T11:38:09.160Z"
   },
   {
    "duration": 297,
    "start_time": "2022-09-27T11:38:09.175Z"
   },
   {
    "duration": 237,
    "start_time": "2022-09-27T11:38:09.474Z"
   },
   {
    "duration": 324,
    "start_time": "2022-09-27T11:38:09.713Z"
   },
   {
    "duration": 239,
    "start_time": "2022-09-27T11:38:10.039Z"
   },
   {
    "duration": 331,
    "start_time": "2022-09-27T11:38:10.279Z"
   },
   {
    "duration": 162,
    "start_time": "2022-09-27T11:38:10.612Z"
   },
   {
    "duration": 154,
    "start_time": "2022-09-27T11:38:10.775Z"
   },
   {
    "duration": 5,
    "start_time": "2022-09-27T11:38:10.930Z"
   },
   {
    "duration": 134,
    "start_time": "2022-09-27T11:38:10.937Z"
   },
   {
    "duration": 112,
    "start_time": "2022-09-27T11:38:11.072Z"
   },
   {
    "duration": 0,
    "start_time": "2022-09-27T11:38:11.185Z"
   },
   {
    "duration": 0,
    "start_time": "2022-09-27T11:38:11.186Z"
   },
   {
    "duration": 0,
    "start_time": "2022-09-27T11:38:11.187Z"
   },
   {
    "duration": 0,
    "start_time": "2022-09-27T11:38:11.188Z"
   },
   {
    "duration": 0,
    "start_time": "2022-09-27T11:38:11.189Z"
   },
   {
    "duration": 0,
    "start_time": "2022-09-27T11:38:11.190Z"
   },
   {
    "duration": 0,
    "start_time": "2022-09-27T11:38:11.191Z"
   },
   {
    "duration": 0,
    "start_time": "2022-09-27T11:38:11.192Z"
   },
   {
    "duration": 0,
    "start_time": "2022-09-27T11:38:11.193Z"
   },
   {
    "duration": 0,
    "start_time": "2022-09-27T11:38:11.194Z"
   },
   {
    "duration": 0,
    "start_time": "2022-09-27T11:38:11.195Z"
   },
   {
    "duration": 1139,
    "start_time": "2022-09-27T11:39:07.623Z"
   },
   {
    "duration": 80,
    "start_time": "2022-09-27T11:39:08.765Z"
   },
   {
    "duration": 11,
    "start_time": "2022-09-27T11:39:08.847Z"
   },
   {
    "duration": 11,
    "start_time": "2022-09-27T11:39:08.860Z"
   },
   {
    "duration": 12,
    "start_time": "2022-09-27T11:39:08.872Z"
   },
   {
    "duration": 7,
    "start_time": "2022-09-27T11:39:08.886Z"
   },
   {
    "duration": 24,
    "start_time": "2022-09-27T11:39:08.895Z"
   },
   {
    "duration": 17,
    "start_time": "2022-09-27T11:39:08.921Z"
   },
   {
    "duration": 10,
    "start_time": "2022-09-27T11:39:08.940Z"
   },
   {
    "duration": 13,
    "start_time": "2022-09-27T11:39:08.953Z"
   },
   {
    "duration": 10,
    "start_time": "2022-09-27T11:39:08.968Z"
   },
   {
    "duration": 30,
    "start_time": "2022-09-27T11:39:08.980Z"
   },
   {
    "duration": 14,
    "start_time": "2022-09-27T11:39:09.011Z"
   },
   {
    "duration": 12,
    "start_time": "2022-09-27T11:39:09.027Z"
   },
   {
    "duration": 11,
    "start_time": "2022-09-27T11:39:09.041Z"
   },
   {
    "duration": 228,
    "start_time": "2022-09-27T11:39:09.054Z"
   },
   {
    "duration": 16,
    "start_time": "2022-09-27T11:39:09.283Z"
   },
   {
    "duration": 303,
    "start_time": "2022-09-27T11:39:09.300Z"
   },
   {
    "duration": 14,
    "start_time": "2022-09-27T11:39:09.606Z"
   },
   {
    "duration": 314,
    "start_time": "2022-09-27T11:39:09.622Z"
   },
   {
    "duration": 244,
    "start_time": "2022-09-27T11:39:09.938Z"
   },
   {
    "duration": 336,
    "start_time": "2022-09-27T11:39:10.184Z"
   },
   {
    "duration": 233,
    "start_time": "2022-09-27T11:39:10.522Z"
   },
   {
    "duration": 334,
    "start_time": "2022-09-27T11:39:10.757Z"
   },
   {
    "duration": 163,
    "start_time": "2022-09-27T11:39:11.094Z"
   },
   {
    "duration": 147,
    "start_time": "2022-09-27T11:39:11.259Z"
   },
   {
    "duration": 9,
    "start_time": "2022-09-27T11:39:11.407Z"
   },
   {
    "duration": 177,
    "start_time": "2022-09-27T11:39:11.419Z"
   },
   {
    "duration": 231,
    "start_time": "2022-09-27T11:39:11.601Z"
   },
   {
    "duration": 142,
    "start_time": "2022-09-27T11:39:11.834Z"
   },
   {
    "duration": 5,
    "start_time": "2022-09-27T11:39:11.977Z"
   },
   {
    "duration": 101,
    "start_time": "2022-09-27T11:39:11.984Z"
   },
   {
    "duration": 131,
    "start_time": "2022-09-27T11:39:12.087Z"
   },
   {
    "duration": 30,
    "start_time": "2022-09-27T11:39:12.220Z"
   },
   {
    "duration": 156,
    "start_time": "2022-09-27T11:39:12.251Z"
   },
   {
    "duration": 27,
    "start_time": "2022-09-27T11:39:12.409Z"
   },
   {
    "duration": 11,
    "start_time": "2022-09-27T11:39:12.438Z"
   },
   {
    "duration": 10,
    "start_time": "2022-09-27T11:39:12.451Z"
   },
   {
    "duration": 52,
    "start_time": "2022-09-27T11:39:12.463Z"
   },
   {
    "duration": 12,
    "start_time": "2022-09-27T11:39:12.517Z"
   },
   {
    "duration": 1492,
    "start_time": "2023-01-17T15:03:41.936Z"
   },
   {
    "duration": 224,
    "start_time": "2023-01-17T15:03:43.431Z"
   },
   {
    "duration": 13,
    "start_time": "2023-01-17T15:03:43.657Z"
   },
   {
    "duration": 15,
    "start_time": "2023-01-17T15:03:43.672Z"
   },
   {
    "duration": 18,
    "start_time": "2023-01-17T15:03:43.691Z"
   },
   {
    "duration": 24,
    "start_time": "2023-01-17T15:03:43.711Z"
   },
   {
    "duration": 8,
    "start_time": "2023-01-17T15:03:43.738Z"
   },
   {
    "duration": 24,
    "start_time": "2023-01-17T15:03:43.748Z"
   },
   {
    "duration": 11,
    "start_time": "2023-01-17T15:03:43.773Z"
   },
   {
    "duration": 19,
    "start_time": "2023-01-17T15:03:43.787Z"
   },
   {
    "duration": 15,
    "start_time": "2023-01-17T15:03:43.808Z"
   },
   {
    "duration": 12,
    "start_time": "2023-01-17T15:03:43.837Z"
   },
   {
    "duration": 9,
    "start_time": "2023-01-17T15:03:43.851Z"
   },
   {
    "duration": 18,
    "start_time": "2023-01-17T15:03:43.863Z"
   },
   {
    "duration": 12,
    "start_time": "2023-01-17T15:03:43.883Z"
   },
   {
    "duration": 251,
    "start_time": "2023-01-17T15:03:43.896Z"
   },
   {
    "duration": 7,
    "start_time": "2023-01-17T15:03:44.149Z"
   },
   {
    "duration": 301,
    "start_time": "2023-01-17T15:03:44.158Z"
   },
   {
    "duration": 13,
    "start_time": "2023-01-17T15:03:44.461Z"
   },
   {
    "duration": 311,
    "start_time": "2023-01-17T15:03:44.476Z"
   },
   {
    "duration": 232,
    "start_time": "2023-01-17T15:03:44.789Z"
   },
   {
    "duration": 376,
    "start_time": "2023-01-17T15:03:45.024Z"
   },
   {
    "duration": 329,
    "start_time": "2023-01-17T15:03:45.402Z"
   },
   {
    "duration": 366,
    "start_time": "2023-01-17T15:03:45.733Z"
   },
   {
    "duration": 205,
    "start_time": "2023-01-17T15:03:46.101Z"
   },
   {
    "duration": 175,
    "start_time": "2023-01-17T15:03:46.308Z"
   },
   {
    "duration": 14,
    "start_time": "2023-01-17T15:03:46.485Z"
   },
   {
    "duration": 186,
    "start_time": "2023-01-17T15:03:46.502Z"
   },
   {
    "duration": 242,
    "start_time": "2023-01-17T15:03:46.690Z"
   },
   {
    "duration": 147,
    "start_time": "2023-01-17T15:03:46.934Z"
   },
   {
    "duration": 5,
    "start_time": "2023-01-17T15:03:47.083Z"
   },
   {
    "duration": 140,
    "start_time": "2023-01-17T15:03:47.090Z"
   },
   {
    "duration": 144,
    "start_time": "2023-01-17T15:03:47.239Z"
   },
   {
    "duration": 55,
    "start_time": "2023-01-17T15:03:47.385Z"
   },
   {
    "duration": 197,
    "start_time": "2023-01-17T15:03:47.442Z"
   },
   {
    "duration": 45,
    "start_time": "2023-01-17T15:04:44.802Z"
   },
   {
    "duration": 107,
    "start_time": "2023-01-17T15:11:53.157Z"
   },
   {
    "duration": 13,
    "start_time": "2023-01-17T15:12:20.996Z"
   },
   {
    "duration": 4,
    "start_time": "2023-01-17T15:12:42.236Z"
   },
   {
    "duration": 77,
    "start_time": "2023-01-17T15:12:42.241Z"
   },
   {
    "duration": 10,
    "start_time": "2023-01-17T15:12:42.320Z"
   },
   {
    "duration": 15,
    "start_time": "2023-01-17T15:12:42.332Z"
   },
   {
    "duration": 20,
    "start_time": "2023-01-17T15:12:42.352Z"
   },
   {
    "duration": 7,
    "start_time": "2023-01-17T15:12:42.374Z"
   },
   {
    "duration": 7,
    "start_time": "2023-01-17T15:12:42.384Z"
   },
   {
    "duration": 23,
    "start_time": "2023-01-17T15:12:42.393Z"
   },
   {
    "duration": 42,
    "start_time": "2023-01-17T15:12:42.418Z"
   },
   {
    "duration": 23,
    "start_time": "2023-01-17T15:12:42.462Z"
   },
   {
    "duration": 14,
    "start_time": "2023-01-17T15:12:42.487Z"
   },
   {
    "duration": 22,
    "start_time": "2023-01-17T15:12:42.503Z"
   },
   {
    "duration": 9,
    "start_time": "2023-01-17T15:12:42.774Z"
   },
   {
    "duration": 15,
    "start_time": "2023-01-17T15:12:42.785Z"
   },
   {
    "duration": 12,
    "start_time": "2023-01-17T15:12:42.806Z"
   },
   {
    "duration": 209,
    "start_time": "2023-01-17T15:12:42.820Z"
   },
   {
    "duration": 9,
    "start_time": "2023-01-17T15:12:43.031Z"
   },
   {
    "duration": 285,
    "start_time": "2023-01-17T15:12:43.041Z"
   },
   {
    "duration": 16,
    "start_time": "2023-01-17T15:12:43.328Z"
   },
   {
    "duration": 260,
    "start_time": "2023-01-17T15:12:43.346Z"
   },
   {
    "duration": 236,
    "start_time": "2023-01-17T15:12:43.608Z"
   },
   {
    "duration": 316,
    "start_time": "2023-01-17T15:12:43.846Z"
   },
   {
    "duration": 229,
    "start_time": "2023-01-17T15:12:44.164Z"
   },
   {
    "duration": 301,
    "start_time": "2023-01-17T15:12:44.395Z"
   },
   {
    "duration": 190,
    "start_time": "2023-01-17T15:12:44.697Z"
   },
   {
    "duration": 155,
    "start_time": "2023-01-17T15:12:44.889Z"
   },
   {
    "duration": 13,
    "start_time": "2023-01-17T15:12:45.047Z"
   },
   {
    "duration": 159,
    "start_time": "2023-01-17T15:12:45.061Z"
   },
   {
    "duration": 156,
    "start_time": "2023-01-17T15:12:45.221Z"
   },
   {
    "duration": 238,
    "start_time": "2023-01-17T15:12:45.379Z"
   },
   {
    "duration": 5,
    "start_time": "2023-01-17T15:12:45.619Z"
   },
   {
    "duration": 115,
    "start_time": "2023-01-17T15:12:45.626Z"
   },
   {
    "duration": 145,
    "start_time": "2023-01-17T15:12:45.743Z"
   },
   {
    "duration": 34,
    "start_time": "2023-01-17T15:12:45.891Z"
   },
   {
    "duration": 171,
    "start_time": "2023-01-17T15:12:45.927Z"
   },
   {
    "duration": 39,
    "start_time": "2023-01-17T15:12:46.101Z"
   },
   {
    "duration": 13,
    "start_time": "2023-01-17T15:12:46.142Z"
   },
   {
    "duration": 15,
    "start_time": "2023-01-17T15:12:46.157Z"
   },
   {
    "duration": 46,
    "start_time": "2023-01-17T15:12:46.174Z"
   },
   {
    "duration": 14,
    "start_time": "2023-01-17T15:16:07.904Z"
   }
  ],
  "kernelspec": {
   "display_name": "Python 3 (ipykernel)",
   "language": "python",
   "name": "python3"
  },
  "language_info": {
   "codemirror_mode": {
    "name": "ipython",
    "version": 3
   },
   "file_extension": ".py",
   "mimetype": "text/x-python",
   "name": "python",
   "nbconvert_exporter": "python",
   "pygments_lexer": "ipython3",
   "version": "3.9.5"
  },
  "toc": {
   "base_numbering": 1,
   "nav_menu": {},
   "number_sections": true,
   "sideBar": true,
   "skip_h1_title": true,
   "title_cell": "Table of Contents",
   "title_sidebar": "Contents",
   "toc_cell": false,
   "toc_position": {},
   "toc_section_display": true,
   "toc_window_display": true
  }
 },
 "nbformat": 4,
 "nbformat_minor": 2
}
