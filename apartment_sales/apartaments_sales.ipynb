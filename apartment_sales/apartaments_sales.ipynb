{
 "cells": [
  {
   "cell_type": "markdown",
   "metadata": {},
   "source": [
    "# Исследование объявлений о продаже квартир\n",
    "\n",
    "В нашем распоряжении данные сервиса Яндекс.Недвижимость — архив объявлений о продаже квартир в Санкт-Петербурге и соседних населённых пунктов за несколько лет. Нужно научиться определять рыночную стоимость объектов недвижимости. Ваша задача — установить параметры. Это позволит построить автоматизированную систему: она отследит аномалии и мошенническую деятельность. \n",
    "\n",
    "По каждой квартире на продажу доступны два вида данных. Первые вписаны пользователем, вторые — получены автоматически на основе картографических данных. Например, расстояние до центра, аэропорта, ближайшего парка и водоёма. "
   ]
  },
  {
   "cell_type": "markdown",
   "metadata": {},
   "source": [
    "### Откройте файл с данными и изучите общую информацию. "
   ]
  },
  {
   "cell_type": "code",
   "execution_count": 3,
   "metadata": {},
   "outputs": [],
   "source": [
    "import pandas as pd\n",
    "import numpy as np\n",
    "import matplotlib.pyplot as plt"
   ]
  },
  {
   "cell_type": "code",
   "execution_count": 4,
   "metadata": {},
   "outputs": [
    {
     "name": "stdout",
     "output_type": "stream",
     "text": [
      "<class 'pandas.core.frame.DataFrame'>\n",
      "RangeIndex: 23699 entries, 0 to 23698\n",
      "Data columns (total 22 columns):\n",
      " #   Column                Non-Null Count  Dtype  \n",
      "---  ------                --------------  -----  \n",
      " 0   total_images          23699 non-null  int64  \n",
      " 1   last_price            23699 non-null  float64\n",
      " 2   total_area            23699 non-null  float64\n",
      " 3   first_day_exposition  23699 non-null  object \n",
      " 4   rooms                 23699 non-null  int64  \n",
      " 5   ceiling_height        14504 non-null  float64\n",
      " 6   floors_total          23613 non-null  float64\n",
      " 7   living_area           21796 non-null  float64\n",
      " 8   floor                 23699 non-null  int64  \n",
      " 9   is_apartment          2775 non-null   object \n",
      " 10  studio                23699 non-null  bool   \n",
      " 11  open_plan             23699 non-null  bool   \n",
      " 12  kitchen_area          21421 non-null  float64\n",
      " 13  balcony               12180 non-null  float64\n",
      " 14  locality_name         23650 non-null  object \n",
      " 15  airports_nearest      18157 non-null  float64\n",
      " 16  cityCenters_nearest   18180 non-null  float64\n",
      " 17  parks_around3000      18181 non-null  float64\n",
      " 18  parks_nearest         8079 non-null   float64\n",
      " 19  ponds_around3000      18181 non-null  float64\n",
      " 20  ponds_nearest         9110 non-null   float64\n",
      " 21  days_exposition       20518 non-null  float64\n",
      "dtypes: bool(2), float64(14), int64(3), object(3)\n",
      "memory usage: 3.7+ MB\n"
     ]
    }
   ],
   "source": [
    "data=pd.read_csv('/datasets/real_estate_data.csv', sep='\\t')\n",
    "data.info()"
   ]
  },
  {
   "cell_type": "code",
   "execution_count": 5,
   "metadata": {
    "scrolled": true
   },
   "outputs": [
    {
     "data": {
      "text/html": [
       "<div>\n",
       "<style scoped>\n",
       "    .dataframe tbody tr th:only-of-type {\n",
       "        vertical-align: middle;\n",
       "    }\n",
       "\n",
       "    .dataframe tbody tr th {\n",
       "        vertical-align: top;\n",
       "    }\n",
       "\n",
       "    .dataframe thead th {\n",
       "        text-align: right;\n",
       "    }\n",
       "</style>\n",
       "<table border=\"1\" class=\"dataframe\">\n",
       "  <thead>\n",
       "    <tr style=\"text-align: right;\">\n",
       "      <th></th>\n",
       "      <th>total_images</th>\n",
       "      <th>last_price</th>\n",
       "      <th>total_area</th>\n",
       "      <th>first_day_exposition</th>\n",
       "      <th>rooms</th>\n",
       "      <th>ceiling_height</th>\n",
       "      <th>floors_total</th>\n",
       "      <th>living_area</th>\n",
       "      <th>floor</th>\n",
       "      <th>is_apartment</th>\n",
       "      <th>...</th>\n",
       "      <th>kitchen_area</th>\n",
       "      <th>balcony</th>\n",
       "      <th>locality_name</th>\n",
       "      <th>airports_nearest</th>\n",
       "      <th>cityCenters_nearest</th>\n",
       "      <th>parks_around3000</th>\n",
       "      <th>parks_nearest</th>\n",
       "      <th>ponds_around3000</th>\n",
       "      <th>ponds_nearest</th>\n",
       "      <th>days_exposition</th>\n",
       "    </tr>\n",
       "  </thead>\n",
       "  <tbody>\n",
       "    <tr>\n",
       "      <th>0</th>\n",
       "      <td>20</td>\n",
       "      <td>13000000.0</td>\n",
       "      <td>108.00</td>\n",
       "      <td>2019-03-07T00:00:00</td>\n",
       "      <td>3</td>\n",
       "      <td>2.70</td>\n",
       "      <td>16.0</td>\n",
       "      <td>51.0</td>\n",
       "      <td>8</td>\n",
       "      <td>NaN</td>\n",
       "      <td>...</td>\n",
       "      <td>25.00</td>\n",
       "      <td>NaN</td>\n",
       "      <td>Санкт-Петербург</td>\n",
       "      <td>18863.0</td>\n",
       "      <td>16028.0</td>\n",
       "      <td>1.0</td>\n",
       "      <td>482.0</td>\n",
       "      <td>2.0</td>\n",
       "      <td>755.0</td>\n",
       "      <td>NaN</td>\n",
       "    </tr>\n",
       "    <tr>\n",
       "      <th>1</th>\n",
       "      <td>7</td>\n",
       "      <td>3350000.0</td>\n",
       "      <td>40.40</td>\n",
       "      <td>2018-12-04T00:00:00</td>\n",
       "      <td>1</td>\n",
       "      <td>NaN</td>\n",
       "      <td>11.0</td>\n",
       "      <td>18.6</td>\n",
       "      <td>1</td>\n",
       "      <td>NaN</td>\n",
       "      <td>...</td>\n",
       "      <td>11.00</td>\n",
       "      <td>2.0</td>\n",
       "      <td>посёлок Шушары</td>\n",
       "      <td>12817.0</td>\n",
       "      <td>18603.0</td>\n",
       "      <td>0.0</td>\n",
       "      <td>NaN</td>\n",
       "      <td>0.0</td>\n",
       "      <td>NaN</td>\n",
       "      <td>81.0</td>\n",
       "    </tr>\n",
       "    <tr>\n",
       "      <th>2</th>\n",
       "      <td>10</td>\n",
       "      <td>5196000.0</td>\n",
       "      <td>56.00</td>\n",
       "      <td>2015-08-20T00:00:00</td>\n",
       "      <td>2</td>\n",
       "      <td>NaN</td>\n",
       "      <td>5.0</td>\n",
       "      <td>34.3</td>\n",
       "      <td>4</td>\n",
       "      <td>NaN</td>\n",
       "      <td>...</td>\n",
       "      <td>8.30</td>\n",
       "      <td>0.0</td>\n",
       "      <td>Санкт-Петербург</td>\n",
       "      <td>21741.0</td>\n",
       "      <td>13933.0</td>\n",
       "      <td>1.0</td>\n",
       "      <td>90.0</td>\n",
       "      <td>2.0</td>\n",
       "      <td>574.0</td>\n",
       "      <td>558.0</td>\n",
       "    </tr>\n",
       "    <tr>\n",
       "      <th>3</th>\n",
       "      <td>0</td>\n",
       "      <td>64900000.0</td>\n",
       "      <td>159.00</td>\n",
       "      <td>2015-07-24T00:00:00</td>\n",
       "      <td>3</td>\n",
       "      <td>NaN</td>\n",
       "      <td>14.0</td>\n",
       "      <td>NaN</td>\n",
       "      <td>9</td>\n",
       "      <td>NaN</td>\n",
       "      <td>...</td>\n",
       "      <td>NaN</td>\n",
       "      <td>0.0</td>\n",
       "      <td>Санкт-Петербург</td>\n",
       "      <td>28098.0</td>\n",
       "      <td>6800.0</td>\n",
       "      <td>2.0</td>\n",
       "      <td>84.0</td>\n",
       "      <td>3.0</td>\n",
       "      <td>234.0</td>\n",
       "      <td>424.0</td>\n",
       "    </tr>\n",
       "    <tr>\n",
       "      <th>4</th>\n",
       "      <td>2</td>\n",
       "      <td>10000000.0</td>\n",
       "      <td>100.00</td>\n",
       "      <td>2018-06-19T00:00:00</td>\n",
       "      <td>2</td>\n",
       "      <td>3.03</td>\n",
       "      <td>14.0</td>\n",
       "      <td>32.0</td>\n",
       "      <td>13</td>\n",
       "      <td>NaN</td>\n",
       "      <td>...</td>\n",
       "      <td>41.00</td>\n",
       "      <td>NaN</td>\n",
       "      <td>Санкт-Петербург</td>\n",
       "      <td>31856.0</td>\n",
       "      <td>8098.0</td>\n",
       "      <td>2.0</td>\n",
       "      <td>112.0</td>\n",
       "      <td>1.0</td>\n",
       "      <td>48.0</td>\n",
       "      <td>121.0</td>\n",
       "    </tr>\n",
       "    <tr>\n",
       "      <th>...</th>\n",
       "      <td>...</td>\n",
       "      <td>...</td>\n",
       "      <td>...</td>\n",
       "      <td>...</td>\n",
       "      <td>...</td>\n",
       "      <td>...</td>\n",
       "      <td>...</td>\n",
       "      <td>...</td>\n",
       "      <td>...</td>\n",
       "      <td>...</td>\n",
       "      <td>...</td>\n",
       "      <td>...</td>\n",
       "      <td>...</td>\n",
       "      <td>...</td>\n",
       "      <td>...</td>\n",
       "      <td>...</td>\n",
       "      <td>...</td>\n",
       "      <td>...</td>\n",
       "      <td>...</td>\n",
       "      <td>...</td>\n",
       "      <td>...</td>\n",
       "    </tr>\n",
       "    <tr>\n",
       "      <th>23694</th>\n",
       "      <td>9</td>\n",
       "      <td>9700000.0</td>\n",
       "      <td>133.81</td>\n",
       "      <td>2017-03-21T00:00:00</td>\n",
       "      <td>3</td>\n",
       "      <td>3.70</td>\n",
       "      <td>5.0</td>\n",
       "      <td>73.3</td>\n",
       "      <td>3</td>\n",
       "      <td>NaN</td>\n",
       "      <td>...</td>\n",
       "      <td>13.83</td>\n",
       "      <td>NaN</td>\n",
       "      <td>Санкт-Петербург</td>\n",
       "      <td>24665.0</td>\n",
       "      <td>4232.0</td>\n",
       "      <td>1.0</td>\n",
       "      <td>796.0</td>\n",
       "      <td>3.0</td>\n",
       "      <td>381.0</td>\n",
       "      <td>NaN</td>\n",
       "    </tr>\n",
       "    <tr>\n",
       "      <th>23695</th>\n",
       "      <td>14</td>\n",
       "      <td>3100000.0</td>\n",
       "      <td>59.00</td>\n",
       "      <td>2018-01-15T00:00:00</td>\n",
       "      <td>3</td>\n",
       "      <td>NaN</td>\n",
       "      <td>5.0</td>\n",
       "      <td>38.0</td>\n",
       "      <td>4</td>\n",
       "      <td>NaN</td>\n",
       "      <td>...</td>\n",
       "      <td>8.50</td>\n",
       "      <td>NaN</td>\n",
       "      <td>Тосно</td>\n",
       "      <td>NaN</td>\n",
       "      <td>NaN</td>\n",
       "      <td>NaN</td>\n",
       "      <td>NaN</td>\n",
       "      <td>NaN</td>\n",
       "      <td>NaN</td>\n",
       "      <td>45.0</td>\n",
       "    </tr>\n",
       "    <tr>\n",
       "      <th>23696</th>\n",
       "      <td>18</td>\n",
       "      <td>2500000.0</td>\n",
       "      <td>56.70</td>\n",
       "      <td>2018-02-11T00:00:00</td>\n",
       "      <td>2</td>\n",
       "      <td>NaN</td>\n",
       "      <td>3.0</td>\n",
       "      <td>29.7</td>\n",
       "      <td>1</td>\n",
       "      <td>NaN</td>\n",
       "      <td>...</td>\n",
       "      <td>NaN</td>\n",
       "      <td>NaN</td>\n",
       "      <td>село Рождествено</td>\n",
       "      <td>NaN</td>\n",
       "      <td>NaN</td>\n",
       "      <td>NaN</td>\n",
       "      <td>NaN</td>\n",
       "      <td>NaN</td>\n",
       "      <td>NaN</td>\n",
       "      <td>NaN</td>\n",
       "    </tr>\n",
       "    <tr>\n",
       "      <th>23697</th>\n",
       "      <td>13</td>\n",
       "      <td>11475000.0</td>\n",
       "      <td>76.75</td>\n",
       "      <td>2017-03-28T00:00:00</td>\n",
       "      <td>2</td>\n",
       "      <td>3.00</td>\n",
       "      <td>17.0</td>\n",
       "      <td>NaN</td>\n",
       "      <td>12</td>\n",
       "      <td>NaN</td>\n",
       "      <td>...</td>\n",
       "      <td>23.30</td>\n",
       "      <td>2.0</td>\n",
       "      <td>Санкт-Петербург</td>\n",
       "      <td>39140.0</td>\n",
       "      <td>10364.0</td>\n",
       "      <td>2.0</td>\n",
       "      <td>173.0</td>\n",
       "      <td>3.0</td>\n",
       "      <td>196.0</td>\n",
       "      <td>602.0</td>\n",
       "    </tr>\n",
       "    <tr>\n",
       "      <th>23698</th>\n",
       "      <td>4</td>\n",
       "      <td>1350000.0</td>\n",
       "      <td>32.30</td>\n",
       "      <td>2017-07-21T00:00:00</td>\n",
       "      <td>1</td>\n",
       "      <td>2.50</td>\n",
       "      <td>5.0</td>\n",
       "      <td>12.3</td>\n",
       "      <td>1</td>\n",
       "      <td>NaN</td>\n",
       "      <td>...</td>\n",
       "      <td>9.00</td>\n",
       "      <td>NaN</td>\n",
       "      <td>поселок Новый Учхоз</td>\n",
       "      <td>NaN</td>\n",
       "      <td>NaN</td>\n",
       "      <td>NaN</td>\n",
       "      <td>NaN</td>\n",
       "      <td>NaN</td>\n",
       "      <td>NaN</td>\n",
       "      <td>NaN</td>\n",
       "    </tr>\n",
       "  </tbody>\n",
       "</table>\n",
       "<p>23699 rows × 22 columns</p>\n",
       "</div>"
      ],
      "text/plain": [
       "       total_images  last_price  total_area first_day_exposition  rooms  \\\n",
       "0                20  13000000.0      108.00  2019-03-07T00:00:00      3   \n",
       "1                 7   3350000.0       40.40  2018-12-04T00:00:00      1   \n",
       "2                10   5196000.0       56.00  2015-08-20T00:00:00      2   \n",
       "3                 0  64900000.0      159.00  2015-07-24T00:00:00      3   \n",
       "4                 2  10000000.0      100.00  2018-06-19T00:00:00      2   \n",
       "...             ...         ...         ...                  ...    ...   \n",
       "23694             9   9700000.0      133.81  2017-03-21T00:00:00      3   \n",
       "23695            14   3100000.0       59.00  2018-01-15T00:00:00      3   \n",
       "23696            18   2500000.0       56.70  2018-02-11T00:00:00      2   \n",
       "23697            13  11475000.0       76.75  2017-03-28T00:00:00      2   \n",
       "23698             4   1350000.0       32.30  2017-07-21T00:00:00      1   \n",
       "\n",
       "       ceiling_height  floors_total  living_area  floor is_apartment  ...  \\\n",
       "0                2.70          16.0         51.0      8          NaN  ...   \n",
       "1                 NaN          11.0         18.6      1          NaN  ...   \n",
       "2                 NaN           5.0         34.3      4          NaN  ...   \n",
       "3                 NaN          14.0          NaN      9          NaN  ...   \n",
       "4                3.03          14.0         32.0     13          NaN  ...   \n",
       "...               ...           ...          ...    ...          ...  ...   \n",
       "23694            3.70           5.0         73.3      3          NaN  ...   \n",
       "23695             NaN           5.0         38.0      4          NaN  ...   \n",
       "23696             NaN           3.0         29.7      1          NaN  ...   \n",
       "23697            3.00          17.0          NaN     12          NaN  ...   \n",
       "23698            2.50           5.0         12.3      1          NaN  ...   \n",
       "\n",
       "       kitchen_area  balcony        locality_name  airports_nearest  \\\n",
       "0             25.00      NaN      Санкт-Петербург           18863.0   \n",
       "1             11.00      2.0       посёлок Шушары           12817.0   \n",
       "2              8.30      0.0      Санкт-Петербург           21741.0   \n",
       "3               NaN      0.0      Санкт-Петербург           28098.0   \n",
       "4             41.00      NaN      Санкт-Петербург           31856.0   \n",
       "...             ...      ...                  ...               ...   \n",
       "23694         13.83      NaN      Санкт-Петербург           24665.0   \n",
       "23695          8.50      NaN                Тосно               NaN   \n",
       "23696           NaN      NaN     село Рождествено               NaN   \n",
       "23697         23.30      2.0      Санкт-Петербург           39140.0   \n",
       "23698          9.00      NaN  поселок Новый Учхоз               NaN   \n",
       "\n",
       "      cityCenters_nearest  parks_around3000  parks_nearest  ponds_around3000  \\\n",
       "0                 16028.0               1.0          482.0               2.0   \n",
       "1                 18603.0               0.0            NaN               0.0   \n",
       "2                 13933.0               1.0           90.0               2.0   \n",
       "3                  6800.0               2.0           84.0               3.0   \n",
       "4                  8098.0               2.0          112.0               1.0   \n",
       "...                   ...               ...            ...               ...   \n",
       "23694              4232.0               1.0          796.0               3.0   \n",
       "23695                 NaN               NaN            NaN               NaN   \n",
       "23696                 NaN               NaN            NaN               NaN   \n",
       "23697             10364.0               2.0          173.0               3.0   \n",
       "23698                 NaN               NaN            NaN               NaN   \n",
       "\n",
       "       ponds_nearest  days_exposition  \n",
       "0              755.0              NaN  \n",
       "1                NaN             81.0  \n",
       "2              574.0            558.0  \n",
       "3              234.0            424.0  \n",
       "4               48.0            121.0  \n",
       "...              ...              ...  \n",
       "23694          381.0              NaN  \n",
       "23695            NaN             45.0  \n",
       "23696            NaN              NaN  \n",
       "23697          196.0            602.0  \n",
       "23698            NaN              NaN  \n",
       "\n",
       "[23699 rows x 22 columns]"
      ]
     },
     "execution_count": 5,
     "metadata": {},
     "output_type": "execute_result"
    }
   ],
   "source": [
    "#Посмотрим вообще на таблицу\n",
    "data"
   ]
  },
  {
   "cell_type": "markdown",
   "metadata": {},
   "source": [
    "Для определения числа объектов ориентироваться стоит на дату размещения - она-то точно должна быть у каждого объекта. Видимо, всего 23699 объектов (но на всякий случай проверим). Тогда пропуски есть в: ceiling_height, floors_total, living_area, is_apartment, kitchen_area, balcony, locality_name, airports_nearest, cityCenters_nearest, parks_around3000, parks_nearest, ponds_around3000, ponds_nearest, days_exposition.\n",
    "\n",
    "Логично заменить на 0 отсутствующие значения в balcony, parks_around3000, ponds_around3000. Возможно, ещё days_exposition - если объявление сняли в тот же день. В остальных случаях корректно оставить пропуск: вероятнее всего, данные просто не указаны пользователями.\n",
    "\n",
    "Проверим, правда ли всего строчек 23699"
   ]
  },
  {
   "cell_type": "code",
   "execution_count": 6,
   "metadata": {},
   "outputs": [
    {
     "data": {
      "text/plain": [
       "0"
      ]
     },
     "execution_count": 6,
     "metadata": {},
     "output_type": "execute_result"
    }
   ],
   "source": [
    "len(data[data['total_images'].isna()])"
   ]
  },
  {
   "cell_type": "markdown",
   "metadata": {},
   "source": [
    "Итак, действительно, речь идёт о 23699 объявлениях. Имеет смысл заменить тип данных в days_exposition (потому что зачем нам доли дней размещения?), floors_total, balcony и всё, что касается расстояния - на int, а is_apartment - на булев тип."
   ]
  },
  {
   "cell_type": "code",
   "execution_count": 7,
   "metadata": {},
   "outputs": [
    {
     "data": {
      "text/plain": [
       "array([[<AxesSubplot:title={'center':'total_images'}>,\n",
       "        <AxesSubplot:title={'center':'last_price'}>,\n",
       "        <AxesSubplot:title={'center':'total_area'}>,\n",
       "        <AxesSubplot:title={'center':'rooms'}>],\n",
       "       [<AxesSubplot:title={'center':'ceiling_height'}>,\n",
       "        <AxesSubplot:title={'center':'floors_total'}>,\n",
       "        <AxesSubplot:title={'center':'living_area'}>,\n",
       "        <AxesSubplot:title={'center':'floor'}>],\n",
       "       [<AxesSubplot:title={'center':'kitchen_area'}>,\n",
       "        <AxesSubplot:title={'center':'balcony'}>,\n",
       "        <AxesSubplot:title={'center':'airports_nearest'}>,\n",
       "        <AxesSubplot:title={'center':'cityCenters_nearest'}>],\n",
       "       [<AxesSubplot:title={'center':'parks_around3000'}>,\n",
       "        <AxesSubplot:title={'center':'parks_nearest'}>,\n",
       "        <AxesSubplot:title={'center':'ponds_around3000'}>,\n",
       "        <AxesSubplot:title={'center':'ponds_nearest'}>],\n",
       "       [<AxesSubplot:title={'center':'days_exposition'}>, <AxesSubplot:>,\n",
       "        <AxesSubplot:>, <AxesSubplot:>]], dtype=object)"
      ]
     },
     "execution_count": 7,
     "metadata": {},
     "output_type": "execute_result"
    },
    {
     "data": {
      "image/png": "[encoded data removed]",
      "text/plain": [
       "<Figure size 1080x1440 with 20 Axes>"
      ]
     },
     "metadata": {
      "needs_background": "light"
     },
     "output_type": "display_data"
    }
   ],
   "source": [
    "data.hist(figsize=(15, 20))"
   ]
  },
  {
   "cell_type": "markdown",
   "metadata": {},
   "source": [
    "### Предобработка данных"
   ]
  },
  {
   "cell_type": "code",
   "execution_count": 9,
   "metadata": {},
   "outputs": [],
   "source": [
    "#Можно искать аномалии на этом этапе, но проще будет смотреть на гистограммы в исследовательском анализе.\n",
    "#Заменим пропуски на 0\n",
    "data['balcony']=data['balcony'].fillna(0)\n",
    "data['balcony']=data['balcony'].fillna(0)\n",
    "data['parks_around3000']=data['parks_around3000'].fillna(0)\n",
    "data['ponds_around3000']=data['ponds_around3000'].fillna(0)\n",
    "data['days_exposition']=data['days_exposition'].fillna(0)"
   ]
  },
  {
   "cell_type": "code",
   "execution_count": 10,
   "metadata": {
    "scrolled": false
   },
   "outputs": [
    {
     "name": "stdout",
     "output_type": "stream",
     "text": [
      "<class 'pandas.core.frame.DataFrame'>\n",
      "RangeIndex: 23699 entries, 0 to 23698\n",
      "Data columns (total 22 columns):\n",
      " #   Column                Non-Null Count  Dtype         \n",
      "---  ------                --------------  -----         \n",
      " 0   total_images          23699 non-null  int64         \n",
      " 1   last_price            23699 non-null  float64       \n",
      " 2   total_area            23699 non-null  float64       \n",
      " 3   first_day_exposition  23699 non-null  datetime64[ns]\n",
      " 4   rooms                 23699 non-null  int64         \n",
      " 5   ceiling_height        14504 non-null  float64       \n",
      " 6   floors_total          23613 non-null  float64       \n",
      " 7   living_area           21796 non-null  float64       \n",
      " 8   floor                 23699 non-null  int64         \n",
      " 9   is_apartment          23699 non-null  bool          \n",
      " 10  studio                23699 non-null  bool          \n",
      " 11  open_plan             23699 non-null  bool          \n",
      " 12  kitchen_area          21421 non-null  float64       \n",
      " 13  balcony               23699 non-null  int64         \n",
      " 14  locality_name         23650 non-null  object        \n",
      " 15  airports_nearest      18157 non-null  Int64         \n",
      " 16  cityCenters_nearest   18180 non-null  Int64         \n",
      " 17  parks_around3000      23699 non-null  int64         \n",
      " 18  parks_nearest         8079 non-null   Int64         \n",
      " 19  ponds_around3000      23699 non-null  int64         \n",
      " 20  ponds_nearest         9110 non-null   Int64         \n",
      " 21  days_exposition       23699 non-null  int64         \n",
      "dtypes: Int64(4), bool(3), datetime64[ns](1), float64(6), int64(7), object(1)\n",
      "memory usage: 3.6+ MB\n"
     ]
    },
    {
     "data": {
      "text/html": [
       "<div>\n",
       "<style scoped>\n",
       "    .dataframe tbody tr th:only-of-type {\n",
       "        vertical-align: middle;\n",
       "    }\n",
       "\n",
       "    .dataframe tbody tr th {\n",
       "        vertical-align: top;\n",
       "    }\n",
       "\n",
       "    .dataframe thead th {\n",
       "        text-align: right;\n",
       "    }\n",
       "</style>\n",
       "<table border=\"1\" class=\"dataframe\">\n",
       "  <thead>\n",
       "    <tr style=\"text-align: right;\">\n",
       "      <th></th>\n",
       "      <th>total_images</th>\n",
       "      <th>last_price</th>\n",
       "      <th>total_area</th>\n",
       "      <th>first_day_exposition</th>\n",
       "      <th>rooms</th>\n",
       "      <th>ceiling_height</th>\n",
       "      <th>floors_total</th>\n",
       "      <th>living_area</th>\n",
       "      <th>floor</th>\n",
       "      <th>is_apartment</th>\n",
       "      <th>...</th>\n",
       "      <th>kitchen_area</th>\n",
       "      <th>balcony</th>\n",
       "      <th>locality_name</th>\n",
       "      <th>airports_nearest</th>\n",
       "      <th>cityCenters_nearest</th>\n",
       "      <th>parks_around3000</th>\n",
       "      <th>parks_nearest</th>\n",
       "      <th>ponds_around3000</th>\n",
       "      <th>ponds_nearest</th>\n",
       "      <th>days_exposition</th>\n",
       "    </tr>\n",
       "  </thead>\n",
       "  <tbody>\n",
       "    <tr>\n",
       "      <th>0</th>\n",
       "      <td>20</td>\n",
       "      <td>13000000.0</td>\n",
       "      <td>108.00</td>\n",
       "      <td>2019-03-07</td>\n",
       "      <td>3</td>\n",
       "      <td>2.70</td>\n",
       "      <td>16.0</td>\n",
       "      <td>51.0</td>\n",
       "      <td>8</td>\n",
       "      <td>False</td>\n",
       "      <td>...</td>\n",
       "      <td>25.00</td>\n",
       "      <td>0</td>\n",
       "      <td>Санкт-Петербург</td>\n",
       "      <td>18863</td>\n",
       "      <td>16028</td>\n",
       "      <td>1</td>\n",
       "      <td>482</td>\n",
       "      <td>2</td>\n",
       "      <td>755</td>\n",
       "      <td>0</td>\n",
       "    </tr>\n",
       "    <tr>\n",
       "      <th>1</th>\n",
       "      <td>7</td>\n",
       "      <td>3350000.0</td>\n",
       "      <td>40.40</td>\n",
       "      <td>2018-12-04</td>\n",
       "      <td>1</td>\n",
       "      <td>NaN</td>\n",
       "      <td>11.0</td>\n",
       "      <td>18.6</td>\n",
       "      <td>1</td>\n",
       "      <td>False</td>\n",
       "      <td>...</td>\n",
       "      <td>11.00</td>\n",
       "      <td>2</td>\n",
       "      <td>посёлок Шушары</td>\n",
       "      <td>12817</td>\n",
       "      <td>18603</td>\n",
       "      <td>0</td>\n",
       "      <td>&lt;NA&gt;</td>\n",
       "      <td>0</td>\n",
       "      <td>&lt;NA&gt;</td>\n",
       "      <td>81</td>\n",
       "    </tr>\n",
       "    <tr>\n",
       "      <th>2</th>\n",
       "      <td>10</td>\n",
       "      <td>5196000.0</td>\n",
       "      <td>56.00</td>\n",
       "      <td>2015-08-20</td>\n",
       "      <td>2</td>\n",
       "      <td>NaN</td>\n",
       "      <td>5.0</td>\n",
       "      <td>34.3</td>\n",
       "      <td>4</td>\n",
       "      <td>False</td>\n",
       "      <td>...</td>\n",
       "      <td>8.30</td>\n",
       "      <td>0</td>\n",
       "      <td>Санкт-Петербург</td>\n",
       "      <td>21741</td>\n",
       "      <td>13933</td>\n",
       "      <td>1</td>\n",
       "      <td>90</td>\n",
       "      <td>2</td>\n",
       "      <td>574</td>\n",
       "      <td>558</td>\n",
       "    </tr>\n",
       "    <tr>\n",
       "      <th>3</th>\n",
       "      <td>0</td>\n",
       "      <td>64900000.0</td>\n",
       "      <td>159.00</td>\n",
       "      <td>2015-07-24</td>\n",
       "      <td>3</td>\n",
       "      <td>NaN</td>\n",
       "      <td>14.0</td>\n",
       "      <td>NaN</td>\n",
       "      <td>9</td>\n",
       "      <td>False</td>\n",
       "      <td>...</td>\n",
       "      <td>NaN</td>\n",
       "      <td>0</td>\n",
       "      <td>Санкт-Петербург</td>\n",
       "      <td>28098</td>\n",
       "      <td>6800</td>\n",
       "      <td>2</td>\n",
       "      <td>84</td>\n",
       "      <td>3</td>\n",
       "      <td>234</td>\n",
       "      <td>424</td>\n",
       "    </tr>\n",
       "    <tr>\n",
       "      <th>4</th>\n",
       "      <td>2</td>\n",
       "      <td>10000000.0</td>\n",
       "      <td>100.00</td>\n",
       "      <td>2018-06-19</td>\n",
       "      <td>2</td>\n",
       "      <td>3.03</td>\n",
       "      <td>14.0</td>\n",
       "      <td>32.0</td>\n",
       "      <td>13</td>\n",
       "      <td>False</td>\n",
       "      <td>...</td>\n",
       "      <td>41.00</td>\n",
       "      <td>0</td>\n",
       "      <td>Санкт-Петербург</td>\n",
       "      <td>31856</td>\n",
       "      <td>8098</td>\n",
       "      <td>2</td>\n",
       "      <td>112</td>\n",
       "      <td>1</td>\n",
       "      <td>48</td>\n",
       "      <td>121</td>\n",
       "    </tr>\n",
       "    <tr>\n",
       "      <th>...</th>\n",
       "      <td>...</td>\n",
       "      <td>...</td>\n",
       "      <td>...</td>\n",
       "      <td>...</td>\n",
       "      <td>...</td>\n",
       "      <td>...</td>\n",
       "      <td>...</td>\n",
       "      <td>...</td>\n",
       "      <td>...</td>\n",
       "      <td>...</td>\n",
       "      <td>...</td>\n",
       "      <td>...</td>\n",
       "      <td>...</td>\n",
       "      <td>...</td>\n",
       "      <td>...</td>\n",
       "      <td>...</td>\n",
       "      <td>...</td>\n",
       "      <td>...</td>\n",
       "      <td>...</td>\n",
       "      <td>...</td>\n",
       "      <td>...</td>\n",
       "    </tr>\n",
       "    <tr>\n",
       "      <th>23694</th>\n",
       "      <td>9</td>\n",
       "      <td>9700000.0</td>\n",
       "      <td>133.81</td>\n",
       "      <td>2017-03-21</td>\n",
       "      <td>3</td>\n",
       "      <td>3.70</td>\n",
       "      <td>5.0</td>\n",
       "      <td>73.3</td>\n",
       "      <td>3</td>\n",
       "      <td>False</td>\n",
       "      <td>...</td>\n",
       "      <td>13.83</td>\n",
       "      <td>0</td>\n",
       "      <td>Санкт-Петербург</td>\n",
       "      <td>24665</td>\n",
       "      <td>4232</td>\n",
       "      <td>1</td>\n",
       "      <td>796</td>\n",
       "      <td>3</td>\n",
       "      <td>381</td>\n",
       "      <td>0</td>\n",
       "    </tr>\n",
       "    <tr>\n",
       "      <th>23695</th>\n",
       "      <td>14</td>\n",
       "      <td>3100000.0</td>\n",
       "      <td>59.00</td>\n",
       "      <td>2018-01-15</td>\n",
       "      <td>3</td>\n",
       "      <td>NaN</td>\n",
       "      <td>5.0</td>\n",
       "      <td>38.0</td>\n",
       "      <td>4</td>\n",
       "      <td>False</td>\n",
       "      <td>...</td>\n",
       "      <td>8.50</td>\n",
       "      <td>0</td>\n",
       "      <td>Тосно</td>\n",
       "      <td>&lt;NA&gt;</td>\n",
       "      <td>&lt;NA&gt;</td>\n",
       "      <td>0</td>\n",
       "      <td>&lt;NA&gt;</td>\n",
       "      <td>0</td>\n",
       "      <td>&lt;NA&gt;</td>\n",
       "      <td>45</td>\n",
       "    </tr>\n",
       "    <tr>\n",
       "      <th>23696</th>\n",
       "      <td>18</td>\n",
       "      <td>2500000.0</td>\n",
       "      <td>56.70</td>\n",
       "      <td>2018-02-11</td>\n",
       "      <td>2</td>\n",
       "      <td>NaN</td>\n",
       "      <td>3.0</td>\n",
       "      <td>29.7</td>\n",
       "      <td>1</td>\n",
       "      <td>False</td>\n",
       "      <td>...</td>\n",
       "      <td>NaN</td>\n",
       "      <td>0</td>\n",
       "      <td>село Рождествено</td>\n",
       "      <td>&lt;NA&gt;</td>\n",
       "      <td>&lt;NA&gt;</td>\n",
       "      <td>0</td>\n",
       "      <td>&lt;NA&gt;</td>\n",
       "      <td>0</td>\n",
       "      <td>&lt;NA&gt;</td>\n",
       "      <td>0</td>\n",
       "    </tr>\n",
       "    <tr>\n",
       "      <th>23697</th>\n",
       "      <td>13</td>\n",
       "      <td>11475000.0</td>\n",
       "      <td>76.75</td>\n",
       "      <td>2017-03-28</td>\n",
       "      <td>2</td>\n",
       "      <td>3.00</td>\n",
       "      <td>17.0</td>\n",
       "      <td>NaN</td>\n",
       "      <td>12</td>\n",
       "      <td>False</td>\n",
       "      <td>...</td>\n",
       "      <td>23.30</td>\n",
       "      <td>2</td>\n",
       "      <td>Санкт-Петербург</td>\n",
       "      <td>39140</td>\n",
       "      <td>10364</td>\n",
       "      <td>2</td>\n",
       "      <td>173</td>\n",
       "      <td>3</td>\n",
       "      <td>196</td>\n",
       "      <td>602</td>\n",
       "    </tr>\n",
       "    <tr>\n",
       "      <th>23698</th>\n",
       "      <td>4</td>\n",
       "      <td>1350000.0</td>\n",
       "      <td>32.30</td>\n",
       "      <td>2017-07-21</td>\n",
       "      <td>1</td>\n",
       "      <td>2.50</td>\n",
       "      <td>5.0</td>\n",
       "      <td>12.3</td>\n",
       "      <td>1</td>\n",
       "      <td>False</td>\n",
       "      <td>...</td>\n",
       "      <td>9.00</td>\n",
       "      <td>0</td>\n",
       "      <td>поселок Новый Учхоз</td>\n",
       "      <td>&lt;NA&gt;</td>\n",
       "      <td>&lt;NA&gt;</td>\n",
       "      <td>0</td>\n",
       "      <td>&lt;NA&gt;</td>\n",
       "      <td>0</td>\n",
       "      <td>&lt;NA&gt;</td>\n",
       "      <td>0</td>\n",
       "    </tr>\n",
       "  </tbody>\n",
       "</table>\n",
       "<p>23699 rows × 22 columns</p>\n",
       "</div>"
      ],
      "text/plain": [
       "       total_images  last_price  total_area first_day_exposition  rooms  \\\n",
       "0                20  13000000.0      108.00           2019-03-07      3   \n",
       "1                 7   3350000.0       40.40           2018-12-04      1   \n",
       "2                10   5196000.0       56.00           2015-08-20      2   \n",
       "3                 0  64900000.0      159.00           2015-07-24      3   \n",
       "4                 2  10000000.0      100.00           2018-06-19      2   \n",
       "...             ...         ...         ...                  ...    ...   \n",
       "23694             9   9700000.0      133.81           2017-03-21      3   \n",
       "23695            14   3100000.0       59.00           2018-01-15      3   \n",
       "23696            18   2500000.0       56.70           2018-02-11      2   \n",
       "23697            13  11475000.0       76.75           2017-03-28      2   \n",
       "23698             4   1350000.0       32.30           2017-07-21      1   \n",
       "\n",
       "       ceiling_height  floors_total  living_area  floor  is_apartment  ...  \\\n",
       "0                2.70          16.0         51.0      8         False  ...   \n",
       "1                 NaN          11.0         18.6      1         False  ...   \n",
       "2                 NaN           5.0         34.3      4         False  ...   \n",
       "3                 NaN          14.0          NaN      9         False  ...   \n",
       "4                3.03          14.0         32.0     13         False  ...   \n",
       "...               ...           ...          ...    ...           ...  ...   \n",
       "23694            3.70           5.0         73.3      3         False  ...   \n",
       "23695             NaN           5.0         38.0      4         False  ...   \n",
       "23696             NaN           3.0         29.7      1         False  ...   \n",
       "23697            3.00          17.0          NaN     12         False  ...   \n",
       "23698            2.50           5.0         12.3      1         False  ...   \n",
       "\n",
       "       kitchen_area  balcony        locality_name  airports_nearest  \\\n",
       "0             25.00        0      Санкт-Петербург             18863   \n",
       "1             11.00        2       посёлок Шушары             12817   \n",
       "2              8.30        0      Санкт-Петербург             21741   \n",
       "3               NaN        0      Санкт-Петербург             28098   \n",
       "4             41.00        0      Санкт-Петербург             31856   \n",
       "...             ...      ...                  ...               ...   \n",
       "23694         13.83        0      Санкт-Петербург             24665   \n",
       "23695          8.50        0                Тосно              <NA>   \n",
       "23696           NaN        0     село Рождествено              <NA>   \n",
       "23697         23.30        2      Санкт-Петербург             39140   \n",
       "23698          9.00        0  поселок Новый Учхоз              <NA>   \n",
       "\n",
       "      cityCenters_nearest  parks_around3000  parks_nearest  ponds_around3000  \\\n",
       "0                   16028                 1            482                 2   \n",
       "1                   18603                 0           <NA>                 0   \n",
       "2                   13933                 1             90                 2   \n",
       "3                    6800                 2             84                 3   \n",
       "4                    8098                 2            112                 1   \n",
       "...                   ...               ...            ...               ...   \n",
       "23694                4232                 1            796                 3   \n",
       "23695                <NA>                 0           <NA>                 0   \n",
       "23696                <NA>                 0           <NA>                 0   \n",
       "23697               10364                 2            173                 3   \n",
       "23698                <NA>                 0           <NA>                 0   \n",
       "\n",
       "       ponds_nearest  days_exposition  \n",
       "0                755                0  \n",
       "1               <NA>               81  \n",
       "2                574              558  \n",
       "3                234              424  \n",
       "4                 48              121  \n",
       "...              ...              ...  \n",
       "23694            381                0  \n",
       "23695           <NA>               45  \n",
       "23696           <NA>                0  \n",
       "23697            196              602  \n",
       "23698           <NA>                0  \n",
       "\n",
       "[23699 rows x 22 columns]"
      ]
     },
     "execution_count": 10,
     "metadata": {},
     "output_type": "execute_result"
    }
   ],
   "source": [
    "#Поменяем тип данных на int:  число балконов, этажей и парков с водоёмами вокруг исчисляется натуральными числами,\n",
    "#а доли метров до парков и водоёмов, как и дней, нам неважны.\n",
    "data['days_exposition'] = data['days_exposition'].astype('int')\n",
    "data['balcony'] = data['balcony'].astype('int')\n",
    "data['parks_around3000'] = data['parks_around3000'].astype('int')\n",
    "data['ponds_around3000'] = data['ponds_around3000'].astype('int')\n",
    "data['first_day_exposition'] = pd.to_datetime(data['first_day_exposition'], format='%Y-%m-%dT')\n",
    "    \n",
    "data['airports_nearest'] = data['airports_nearest'].astype('Int64')\n",
    "data['cityCenters_nearest'] = data['cityCenters_nearest'].astype('Int64')\n",
    "data['parks_nearest'] = data['parks_nearest'].astype('Int64')\n",
    "data['ponds_nearest'] = data['ponds_nearest'].astype('Int64')\n",
    "\n",
    "data['is_apartment'].unique() \n",
    "#Вероятнее всего, если владелец пропустил пункт про апартаменты, то это не они.\n",
    "data['is_apartment']=data['is_apartment'].fillna(False)\n",
    "data.info()\n",
    "data"
   ]
  },
  {
   "cell_type": "code",
   "execution_count": 11,
   "metadata": {},
   "outputs": [
    {
     "data": {
      "text/plain": [
       "array(['Санкт-Петербург', 'посёлок Шушары', 'городской посёлок Янино-1',\n",
       "       'посёлок Парголово', 'посёлок Мурино', 'Ломоносов', 'Сертолово',\n",
       "       'Петергоф', 'Пушкин', 'деревня Кудрово', 'Коммунар', 'Колпино',\n",
       "       'поселок городского типа Красный Бор', 'Гатчина', 'поселок Мурино',\n",
       "       'деревня Фёдоровское', 'Выборг', 'Кронштадт', 'Кировск',\n",
       "       'деревня Новое Девяткино', 'посёлок Металлострой',\n",
       "       'посёлок городского типа Лебяжье',\n",
       "       'посёлок городского типа Сиверский', 'поселок Молодцово',\n",
       "       'поселок городского типа Кузьмоловский',\n",
       "       'садовое товарищество Новая Ропша', 'Павловск',\n",
       "       'деревня Пикколово', 'Всеволожск', 'Волхов', 'Кингисепп',\n",
       "       'Приозерск', 'Сестрорецк', 'деревня Куттузи', 'посёлок Аннино',\n",
       "       'поселок городского типа Ефимовский', 'посёлок Плодовое',\n",
       "       'деревня Заклинье', 'поселок Торковичи', 'поселок Первомайское',\n",
       "       'Красное Село', 'посёлок Понтонный', 'Сясьстрой', 'деревня Старая',\n",
       "       'деревня Лесколово', 'посёлок Новый Свет', 'Сланцы',\n",
       "       'село Путилово', 'Ивангород', 'Мурино', 'Шлиссельбург',\n",
       "       'Никольское', 'Зеленогорск', 'Сосновый Бор', 'поселок Новый Свет',\n",
       "       'деревня Оржицы', 'деревня Кальтино', 'Кудрово',\n",
       "       'поселок Романовка', 'посёлок Бугры', 'поселок Бугры',\n",
       "       'поселок городского типа Рощино', 'Кириши', 'Луга', 'Волосово',\n",
       "       'Отрадное', 'село Павлово', 'поселок Оредеж', 'село Копорье',\n",
       "       'посёлок городского типа Красный Бор', 'посёлок Молодёжное',\n",
       "       'Тихвин', 'посёлок Победа', 'деревня Нурма',\n",
       "       'поселок городского типа Синявино', 'Тосно',\n",
       "       'посёлок городского типа Кузьмоловский', 'посёлок Стрельна',\n",
       "       'Бокситогорск', 'посёлок Александровская', 'деревня Лопухинка',\n",
       "       'Пикалёво', 'поселок Терволово',\n",
       "       'поселок городского типа Советский', 'Подпорожье',\n",
       "       'посёлок Петровское', 'посёлок городского типа Токсово',\n",
       "       'поселок Сельцо', 'посёлок городского типа Вырица',\n",
       "       'деревня Кипень', 'деревня Келози', 'деревня Вартемяги',\n",
       "       'посёлок Тельмана', 'поселок Севастьяново',\n",
       "       'городской поселок Большая Ижора', nan,\n",
       "       'городской посёлок Павлово', 'деревня Агалатово',\n",
       "       'посёлок Новогорелово', 'городской посёлок Лесогорский',\n",
       "       'деревня Лаголово', 'поселок Цвелодубово',\n",
       "       'поселок городского типа Рахья', 'поселок городского типа Вырица',\n",
       "       'деревня Белогорка', 'поселок Заводской',\n",
       "       'городской посёлок Новоселье', 'деревня Большие Колпаны',\n",
       "       'деревня Горбунки', 'деревня Батово', 'деревня Заневка',\n",
       "       'деревня Иссад', 'Приморск', 'городской посёлок Фёдоровское',\n",
       "       'деревня Мистолово', 'Новая Ладога', 'поселок Зимитицы',\n",
       "       'поселок Барышево', 'деревня Разметелево',\n",
       "       'поселок городского типа имени Свердлова', 'деревня Пеники',\n",
       "       'поселок Рябово', 'деревня Пудомяги', 'поселок станции Корнево',\n",
       "       'деревня Низино', 'деревня Бегуницы', 'посёлок Поляны',\n",
       "       'городской посёлок Мга', 'поселок Елизаветино',\n",
       "       'посёлок городского типа Кузнечное', 'деревня Колтуши',\n",
       "       'поселок Запорожское', 'посёлок городского типа Рощино',\n",
       "       'деревня Гостилицы', 'деревня Малое Карлино',\n",
       "       'посёлок Мичуринское', 'посёлок городского типа имени Морозова',\n",
       "       'посёлок Песочный', 'посёлок Сосново', 'деревня Аро',\n",
       "       'поселок Ильичёво', 'посёлок городского типа Тайцы',\n",
       "       'деревня Малое Верево', 'деревня Извара', 'поселок станции Вещево',\n",
       "       'село Паша', 'деревня Калитино',\n",
       "       'посёлок городского типа Ульяновка', 'деревня Чудской Бор',\n",
       "       'поселок городского типа Дубровка', 'деревня Мины',\n",
       "       'поселок Войсковицы', 'посёлок городского типа имени Свердлова',\n",
       "       'деревня Коркино', 'посёлок Ропша',\n",
       "       'поселок городского типа Приладожский', 'посёлок Щеглово',\n",
       "       'посёлок Гаврилово', 'Лодейное Поле', 'деревня Рабитицы',\n",
       "       'поселок городского типа Никольский', 'деревня Кузьмолово',\n",
       "       'деревня Малые Колпаны', 'поселок Тельмана',\n",
       "       'посёлок Петро-Славянка', 'городской посёлок Назия',\n",
       "       'посёлок Репино', 'посёлок Ильичёво', 'поселок Углово',\n",
       "       'поселок Старая Малукса', 'садовое товарищество Рахья',\n",
       "       'поселок Аннино', 'поселок Победа', 'деревня Меньково',\n",
       "       'деревня Старые Бегуницы', 'посёлок Сапёрный', 'поселок Семрино',\n",
       "       'поселок Гаврилово', 'поселок Глажево', 'поселок Кобринское',\n",
       "       'деревня Гарболово', 'деревня Юкки',\n",
       "       'поселок станции Приветнинское', 'деревня Мануйлово',\n",
       "       'деревня Пчева', 'поселок Поляны', 'поселок Цвылёво',\n",
       "       'поселок Мельниково', 'посёлок Пудость', 'посёлок Усть-Луга',\n",
       "       'Светогорск', 'Любань', 'поселок Селезнёво',\n",
       "       'поселок городского типа Рябово', 'Каменногорск', 'деревня Кривко',\n",
       "       'поселок Глебычево', 'деревня Парицы', 'поселок Жилпосёлок',\n",
       "       'посёлок городского типа Мга', 'городской поселок Янино-1',\n",
       "       'посёлок Войскорово', 'село Никольское', 'посёлок Терволово',\n",
       "       'поселок Стеклянный', 'посёлок городского типа Важины',\n",
       "       'посёлок Мыза-Ивановка', 'село Русско-Высоцкое',\n",
       "       'поселок городского типа Лебяжье',\n",
       "       'поселок городского типа Форносово', 'село Старая Ладога',\n",
       "       'поселок Житково', 'городской посёлок Виллози', 'деревня Лампово',\n",
       "       'деревня Шпаньково', 'деревня Лаврики', 'посёлок Сумино',\n",
       "       'посёлок Возрождение', 'деревня Старосиверская',\n",
       "       'посёлок Кикерино', 'поселок Возрождение',\n",
       "       'деревня Старое Хинколово', 'посёлок Пригородный',\n",
       "       'посёлок Торфяное', 'городской посёлок Будогощь',\n",
       "       'поселок Суходолье', 'поселок Красная Долина', 'деревня Хапо-Ое',\n",
       "       'поселок городского типа Дружная Горка', 'поселок Лисий Нос',\n",
       "       'деревня Яльгелево', 'посёлок Стеклянный', 'село Рождествено',\n",
       "       'деревня Старополье', 'посёлок Левашово', 'деревня Сяськелево',\n",
       "       'деревня Камышовка',\n",
       "       'садоводческое некоммерческое товарищество Лесная Поляна',\n",
       "       'деревня Хязельки', 'поселок Жилгородок',\n",
       "       'посёлок городского типа Павлово', 'деревня Ялгино',\n",
       "       'поселок Новый Учхоз', 'городской посёлок Рощино',\n",
       "       'поселок Гончарово', 'поселок Почап', 'посёлок Сапёрное',\n",
       "       'посёлок Платформа 69-й километр', 'поселок Каложицы',\n",
       "       'деревня Фалилеево', 'деревня Пельгора',\n",
       "       'поселок городского типа Лесогорский', 'деревня Торошковичи',\n",
       "       'посёлок Белоостров', 'посёлок Алексеевка', 'поселок Серебрянский',\n",
       "       'поселок Лукаши', 'поселок Петровское', 'деревня Щеглово',\n",
       "       'поселок Мичуринское', 'деревня Тарасово', 'поселок Кингисеппский',\n",
       "       'посёлок при железнодорожной станции Вещево', 'поселок Ушаки',\n",
       "       'деревня Котлы', 'деревня Сижно', 'деревня Торосово',\n",
       "       'посёлок Форт Красная Горка', 'поселок городского типа Токсово',\n",
       "       'деревня Новолисино', 'посёлок станции Громово', 'деревня Глинка',\n",
       "       'посёлок Мельниково', 'поселок городского типа Назия',\n",
       "       'деревня Старая Пустошь', 'поселок Коммунары', 'поселок Починок',\n",
       "       'посёлок городского типа Вознесенье', 'деревня Разбегаево',\n",
       "       'посёлок городского типа Рябово', 'поселок Гладкое',\n",
       "       'посёлок при железнодорожной станции Приветнинское',\n",
       "       'поселок Тёсово-4', 'посёлок Жилгородок', 'деревня Бор',\n",
       "       'посёлок Коробицыно', 'деревня Большая Вруда', 'деревня Курковицы',\n",
       "       'посёлок Лисий Нос', 'городской посёлок Советский',\n",
       "       'посёлок Кобралово', 'деревня Суоранда', 'поселок Кобралово',\n",
       "       'поселок городского типа Кондратьево',\n",
       "       'коттеджный поселок Счастье', 'поселок Любань', 'деревня Реброво',\n",
       "       'деревня Зимитицы', 'деревня Тойворово', 'поселок Семиозерье',\n",
       "       'поселок Лесное', 'поселок Совхозный', 'поселок Усть-Луга',\n",
       "       'посёлок Ленинское', 'посёлок Суйда',\n",
       "       'посёлок городского типа Форносово', 'деревня Нижние Осельки',\n",
       "       'посёлок станции Свирь', 'поселок Перово', 'Высоцк',\n",
       "       'поселок Гарболово', 'село Шум', 'поселок Котельский',\n",
       "       'поселок станции Лужайка', 'деревня Большая Пустомержа',\n",
       "       'поселок Красносельское', 'деревня Вахнова Кара', 'деревня Пижма',\n",
       "       'коттеджный поселок Кивеннапа Север', 'поселок Коробицыно',\n",
       "       'поселок Ромашки', 'посёлок Перово', 'деревня Каськово',\n",
       "       'деревня Куровицы', 'посёлок Плоское', 'поселок Сумино',\n",
       "       'поселок городского типа Большая Ижора', 'поселок Кирпичное',\n",
       "       'деревня Ям-Тесово', 'деревня Раздолье', 'деревня Терпилицы',\n",
       "       'посёлок Шугозеро', 'деревня Ваганово', 'поселок Пушное',\n",
       "       'садовое товарищество Садко', 'посёлок Усть-Ижора',\n",
       "       'деревня Выскатка', 'городской посёлок Свирьстрой',\n",
       "       'поселок Громово', 'деревня Кисельня', 'посёлок Старая Малукса',\n",
       "       'деревня Трубников Бор', 'поселок Калитино',\n",
       "       'посёлок Высокоключевой', 'садовое товарищество Приладожский',\n",
       "       'посёлок Пансионат Зелёный Бор', 'деревня Ненимяки',\n",
       "       'поселок Пансионат Зелёный Бор', 'деревня Снегирёвка',\n",
       "       'деревня Рапполово', 'деревня Пустынка', 'поселок Рабитицы',\n",
       "       'деревня Большой Сабск', 'деревня Русско', 'деревня Лупполово',\n",
       "       'деревня Большое Рейзино', 'деревня Малая Романовка',\n",
       "       'поселок Дружноселье', 'поселок Пчевжа', 'поселок Володарское',\n",
       "       'деревня Нижняя', 'коттеджный посёлок Лесное', 'деревня Тихковицы',\n",
       "       'деревня Борисова Грива', 'посёлок Дзержинского'], dtype=object)"
      ]
     },
     "execution_count": 11,
     "metadata": {},
     "output_type": "execute_result"
    }
   ],
   "source": [
    "#Проверим на дубликаты\n",
    "data['locality_name'].unique()"
   ]
  },
  {
   "cell_type": "code",
   "execution_count": 12,
   "metadata": {},
   "outputs": [
    {
     "data": {
      "text/plain": [
       "array(['Санкт-Петербург', 'посёлок Шушары', 'городской посёлок Янино-1',\n",
       "       'посёлок Парголово', 'посёлок Мурино', 'Ломоносов', 'Сертолово',\n",
       "       'Петергоф', 'Пушкин', 'Кудрово', 'Коммунар', 'Колпино',\n",
       "       'поселок городского типа Красный Бор', 'Гатчина',\n",
       "       'деревня Фёдоровское', 'Выборг', 'Кронштадт', 'Кировск',\n",
       "       'деревня Новое Девяткино', 'посёлок Металлострой',\n",
       "       'посёлок городского типа Лебяжье',\n",
       "       'посёлок городского типа Сиверский', 'поселок Молодцово',\n",
       "       'поселок городского типа Кузьмоловский',\n",
       "       'садовое товарищество Новая Ропша', 'Павловск',\n",
       "       'деревня Пикколово', 'Всеволожск', 'Волхов', 'Кингисепп',\n",
       "       'Приозерск', 'Сестрорецк', 'деревня Куттузи', 'посёлок Аннино',\n",
       "       'поселок городского типа Ефимовский', 'посёлок Плодовое',\n",
       "       'деревня Заклинье', 'поселок Торковичи', 'поселок Первомайское',\n",
       "       'Красное Село', 'посёлок Понтонный', 'Сясьстрой', 'деревня Старая',\n",
       "       'деревня Лесколово', 'посёлок Новый Свет', 'Сланцы',\n",
       "       'село Путилово', 'Ивангород', 'Шлиссельбург', 'село Никольское',\n",
       "       'Зеленогорск', 'Сосновый Бор', 'деревня Оржицы',\n",
       "       'деревня Кальтино', 'поселок Романовка', 'посёлок Бугры',\n",
       "       'поселок городского типа Рощино', 'Кириши', 'Луга', 'Волосово',\n",
       "       'Отрадное', 'село Павлово', 'поселок Оредеж', 'село Копорье',\n",
       "       'посёлок городского типа Красный Бор', 'посёлок Молодёжное',\n",
       "       'Тихвин', 'посёлок Победа', 'деревня Нурма',\n",
       "       'поселок городского типа Синявино', 'Тосно',\n",
       "       'посёлок городского типа Кузьмоловский', 'посёлок Стрельна',\n",
       "       'Бокситогорск', 'посёлок Александровская', 'деревня Лопухинка',\n",
       "       'Пикалёво', 'посёлок Терволово',\n",
       "       'поселок городского типа Советский', 'Подпорожье',\n",
       "       'посёлок Петровское', 'посёлок городского типа Токсово',\n",
       "       'поселок Сельцо', 'посёлок городского типа Вырица',\n",
       "       'деревня Кипень', 'деревня Келози', 'деревня Вартемяги',\n",
       "       'посёлок Тельмана', 'поселок Севастьяново',\n",
       "       'городской поселок Большая Ижора', nan,\n",
       "       'городской посёлок Павлово', 'деревня Агалатово',\n",
       "       'посёлок Новогорелово', 'городской посёлок Лесогорский',\n",
       "       'деревня Лаголово', 'поселок Цвелодубово',\n",
       "       'поселок городского типа Рахья', 'поселок городского типа Вырица',\n",
       "       'деревня Белогорка', 'поселок Заводской',\n",
       "       'городской посёлок Новоселье', 'деревня Большие Колпаны',\n",
       "       'деревня Горбунки', 'деревня Батово', 'деревня Заневка',\n",
       "       'деревня Иссад', 'Приморск', 'городской посёлок Фёдоровское',\n",
       "       'деревня Мистолово', 'Новая Ладога', 'поселок Зимитицы',\n",
       "       'поселок Барышево', 'деревня Разметелево',\n",
       "       'поселок городского типа имени Свердлова', 'деревня Пеники',\n",
       "       'поселок Рябово', 'деревня Пудомяги', 'поселок станции Корнево',\n",
       "       'деревня Низино', 'деревня Бегуницы', 'посёлок Поляны',\n",
       "       'посёлок городского типа Мга', 'поселок Елизаветино',\n",
       "       'посёлок городского типа Кузнечное', 'деревня Колтуши',\n",
       "       'поселок Запорожское', 'посёлок городского типа Рощино',\n",
       "       'деревня Гостилицы', 'деревня Малое Карлино',\n",
       "       'посёлок Мичуринское', 'посёлок городского типа имени Морозова',\n",
       "       'посёлок Песочный', 'посёлок Сосново', 'деревня Аро',\n",
       "       'посёлок Ильичёво', 'посёлок городского типа Тайцы',\n",
       "       'деревня Малое Верево', 'деревня Извара',\n",
       "       'посёлок при железнодорожной станции Вещево', 'село Паша',\n",
       "       'деревня Калитино', 'посёлок городского типа Ульяновка',\n",
       "       'деревня Чудской Бор', 'поселок городского типа Дубровка',\n",
       "       'деревня Мины', 'поселок Войсковицы',\n",
       "       'посёлок городского типа имени Свердлова', 'деревня Коркино',\n",
       "       'посёлок Ропша', 'поселок городского типа Приладожский',\n",
       "       'посёлок Щеглово', 'посёлок Гаврилово', 'Лодейное Поле',\n",
       "       'деревня Рабитицы', 'поселок городского типа Никольский',\n",
       "       'деревня Кузьмолово', 'деревня Малые Колпаны',\n",
       "       'посёлок Петро-Славянка', 'городской посёлок Назия',\n",
       "       'посёлок Репино', 'поселок Углово', 'посёлок Старая Малукса',\n",
       "       'садовое товарищество Рахья', 'деревня Меньково',\n",
       "       'деревня Старые Бегуницы', 'посёлок Сапёрный', 'поселок Семрино',\n",
       "       'поселок Глажево', 'поселок Кобринское', 'деревня Гарболово',\n",
       "       'деревня Юкки',\n",
       "       'посёлок при железнодорожной станции Приветнинское',\n",
       "       'деревня Мануйлово', 'деревня Пчева', 'поселок Цвылёво',\n",
       "       'посёлок Мельниково', 'посёлок Пудость', 'посёлок Усть-Луга',\n",
       "       'Светогорск', 'Любань', 'поселок Селезнёво',\n",
       "       'поселок городского типа Рябово', 'Каменногорск', 'деревня Кривко',\n",
       "       'поселок Глебычево', 'деревня Парицы', 'поселок Жилпосёлок',\n",
       "       'посёлок Войскорово', 'посёлок Стеклянный',\n",
       "       'посёлок городского типа Важины', 'посёлок Мыза-Ивановка',\n",
       "       'село Русско-Высоцкое', 'поселок городского типа Лебяжье',\n",
       "       'поселок городского типа Форносово', 'село Старая Ладога',\n",
       "       'поселок Житково', 'городской посёлок Виллози', 'деревня Лампово',\n",
       "       'деревня Шпаньково', 'деревня Лаврики', 'посёлок Сумино',\n",
       "       'посёлок Возрождение', 'деревня Старосиверская',\n",
       "       'посёлок Кикерино', 'деревня Старое Хинколово',\n",
       "       'посёлок Пригородный', 'посёлок Торфяное',\n",
       "       'городской посёлок Будогощь', 'поселок Суходолье',\n",
       "       'поселок Красная Долина', 'деревня Хапо-Ое',\n",
       "       'поселок городского типа Дружная Горка', 'посёлок Лисий Нос',\n",
       "       'деревня Яльгелево', 'село Рождествено', 'деревня Старополье',\n",
       "       'посёлок Левашово', 'деревня Сяськелево', 'деревня Камышовка',\n",
       "       'садоводческое некоммерческое товарищество Лесная Поляна',\n",
       "       'деревня Хязельки', 'поселок Жилгородок',\n",
       "       'посёлок городского типа Павлово', 'деревня Ялгино',\n",
       "       'поселок Новый Учхоз', 'городской посёлок Рощино',\n",
       "       'поселок Гончарово', 'поселок Почап', 'посёлок Сапёрное',\n",
       "       'посёлок Платформа 69-й километр', 'поселок Каложицы',\n",
       "       'деревня Фалилеево', 'деревня Пельгора',\n",
       "       'поселок городского типа Лесогорский', 'деревня Торошковичи',\n",
       "       'посёлок Белоостров', 'посёлок Алексеевка', 'поселок Серебрянский',\n",
       "       'поселок Лукаши', 'деревня Щеглово', 'деревня Тарасово',\n",
       "       'поселок Кингисеппский', 'поселок Ушаки', 'деревня Котлы',\n",
       "       'деревня Сижно', 'деревня Торосово', 'посёлок Форт Красная Горка',\n",
       "       'поселок городского типа Токсово', 'деревня Новолисино',\n",
       "       'посёлок станции Громово', 'деревня Глинка',\n",
       "       'поселок городского типа Назия', 'деревня Старая Пустошь',\n",
       "       'поселок Коммунары', 'поселок Починок',\n",
       "       'посёлок городского типа Вознесенье', 'деревня Разбегаево',\n",
       "       'посёлок городского типа Рябово', 'поселок Гладкое',\n",
       "       'поселок Тёсово-4', 'посёлок Жилгородок', 'деревня Бор',\n",
       "       'посёлок Коробицыно', 'деревня Большая Вруда', 'деревня Курковицы',\n",
       "       'городской посёлок Советский', 'посёлок Кобралово',\n",
       "       'деревня Суоранда', 'поселок городского типа Кондратьево',\n",
       "       'коттеджный поселок Счастье', 'поселок Любань', 'деревня Реброво',\n",
       "       'деревня Зимитицы', 'деревня Тойворово', 'поселок Семиозерье',\n",
       "       'поселок Лесное', 'поселок Совхозный', 'посёлок Ленинское',\n",
       "       'посёлок Суйда', 'посёлок городского типа Форносово',\n",
       "       'деревня Нижние Осельки', 'посёлок станции Свирь',\n",
       "       'посёлок Перово', 'Высоцк', 'поселок Гарболово', 'село Шум',\n",
       "       'поселок Котельский', 'поселок станции Лужайка',\n",
       "       'деревня Большая Пустомержа', 'поселок Красносельское',\n",
       "       'деревня Вахнова Кара', 'деревня Пижма',\n",
       "       'коттеджный поселок Кивеннапа Север', 'поселок Ромашки',\n",
       "       'деревня Каськово', 'деревня Куровицы', 'посёлок Плоское',\n",
       "       'поселок городского типа Большая Ижора', 'поселок Кирпичное',\n",
       "       'деревня Ям-Тесово', 'деревня Раздолье', 'деревня Терпилицы',\n",
       "       'посёлок Шугозеро', 'деревня Ваганово', 'поселок Пушное',\n",
       "       'садовое товарищество Садко', 'посёлок Усть-Ижора',\n",
       "       'деревня Выскатка', 'городской посёлок Свирьстрой',\n",
       "       'поселок Громово', 'деревня Кисельня', 'деревня Трубников Бор',\n",
       "       'поселок Калитино', 'посёлок Высокоключевой',\n",
       "       'садовое товарищество Приладожский',\n",
       "       'посёлок Пансионат Зелёный Бор', 'деревня Ненимяки',\n",
       "       'деревня Снегирёвка', 'деревня Рапполово', 'деревня Пустынка',\n",
       "       'поселок Рабитицы', 'деревня Большой Сабск', 'деревня Русско',\n",
       "       'деревня Лупполово', 'деревня Большое Рейзино',\n",
       "       'деревня Малая Романовка', 'поселок Дружноселье', 'поселок Пчевжа',\n",
       "       'поселок Володарское', 'деревня Нижняя',\n",
       "       'коттеджный посёлок Лесное', 'деревня Тихковицы',\n",
       "       'деревня Борисова Грива', 'посёлок Дзержинского'], dtype=object)"
      ]
     },
     "execution_count": 12,
     "metadata": {},
     "output_type": "execute_result"
    }
   ],
   "source": [
    "data['locality_name']=data['locality_name'].replace('поселок Мурино', 'посёлок Мурино')\n",
    "data['locality_name']=data['locality_name'].replace('Мурино', 'посёлок Мурино')\n",
    "data['locality_name']=data['locality_name'].replace('городской поселок Янино-1', 'городской посёлок Янино-1')\n",
    "data['locality_name']=data['locality_name'].replace('деревня Кудрово', 'Кудрово')\n",
    "#Гугл говорит, с 2018 года деревня стала городом\n",
    "data['locality_name']=data['locality_name'].replace('поселок Аннино', 'посёлок Аннино')\n",
    "data['locality_name']=data['locality_name'].replace('поселок Бугры', 'посёлок Бугры')\n",
    "data['locality_name']=data['locality_name'].replace('поселок Возрождение', 'посёлок Возрождение')\n",
    "data['locality_name']=data['locality_name'].replace('поселок Гаврилово', 'посёлок Гаврилово')\n",
    "data['locality_name']=data['locality_name'].replace('поселок Ильичёво', 'посёлок Ильичёво')\n",
    "data['locality_name']=data['locality_name'].replace('поселок Кобралово', 'посёлок Кобралово')\n",
    "data['locality_name']=data['locality_name'].replace('поселок Коробицыно', 'посёлок Коробицыно')\n",
    "data['locality_name']=data['locality_name'].replace('поселок Лисий Нос', 'посёлок Лисий Нос')\n",
    "data['locality_name']=data['locality_name'].replace('поселок Мельниково', 'посёлок Мельниково')\n",
    "data['locality_name']=data['locality_name'].replace('поселок Мичуринское', 'посёлок Мичуринское')\n",
    "data['locality_name']=data['locality_name'].replace('поселок Новый Свет', 'посёлок Новый Свет')\n",
    "data['locality_name']=data['locality_name'].replace('поселок Пансионат Зелёный Бор', 'посёлок Пансионат Зелёный Бор')\n",
    "data['locality_name']=data['locality_name'].replace('поселок Перово', 'посёлок Перово')\n",
    "data['locality_name']=data['locality_name'].replace('поселок Петровское', 'посёлок Петровское')\n",
    "data['locality_name']=data['locality_name'].replace('поселок Победа', 'посёлок Победа')\n",
    "data['locality_name']=data['locality_name'].replace('поселок Поляны', 'посёлок Поляны')\n",
    "data['locality_name']=data['locality_name'].replace('поселок Старая Малукса', 'посёлок Старая Малукса')\n",
    "data['locality_name']=data['locality_name'].replace('поселок Стеклянный', 'посёлок Стеклянный')\n",
    "data['locality_name']=data['locality_name'].replace('поселок Сумино', 'посёлок Сумино')\n",
    "data['locality_name']=data['locality_name'].replace('поселок Тельмана', 'посёлок Тельмана')\n",
    "data['locality_name']=data['locality_name'].replace('поселок Терволово', 'посёлок Терволово')\n",
    "data['locality_name']=data['locality_name'].replace('поселок Усть-Луга', 'посёлок Усть-Луга')\n",
    "data['locality_name']=data['locality_name'].replace('городской посёлок Мга', 'посёлок городского типа Мга')\n",
    "data['locality_name']=data['locality_name'].replace('городской поселок Павлово', 'посёлок городского типа Павлово')\n",
    "data['locality_name']=data['locality_name'].replace('городской поселок Рощино', 'посёлок городского типа Рощино')\n",
    "data['locality_name']=data['locality_name'].replace('поселок станции Вещево', 'посёлок при железнодорожной станции Вещево')\n",
    "data['locality_name']=data['locality_name'].replace('поселок станции Приветнинское', 'посёлок при железнодорожной станции Приветнинское')\n",
    "data['locality_name']=data['locality_name'].replace('Никольское', 'село Никольское')\n",
    "\n",
    "data['locality_name'].unique()\n",
    "\n"
   ]
  },
  {
   "cell_type": "markdown",
   "metadata": {},
   "source": [
    "Неявные дубликаты (дублирование локаций из-за написания \"поселок\" и \"посёлок\", \"городской посёлок\" и \"посёлок городского типа\", \"посёлок станции\" и \"посёлок при железнодорожной станции\", а также из-за неуказывания в некоторых случаях типа локации: \"Мурино\" и \"посёлок Мурино\") устранены."
   ]
  },
  {
   "cell_type": "markdown",
   "metadata": {},
   "source": [
    "### Посчитайте и добавьте в таблицу новые столбцы"
   ]
  },
  {
   "cell_type": "code",
   "execution_count": 13,
   "metadata": {},
   "outputs": [
    {
     "data": {
      "text/html": [
       "<div>\n",
       "<style scoped>\n",
       "    .dataframe tbody tr th:only-of-type {\n",
       "        vertical-align: middle;\n",
       "    }\n",
       "\n",
       "    .dataframe tbody tr th {\n",
       "        vertical-align: top;\n",
       "    }\n",
       "\n",
       "    .dataframe thead th {\n",
       "        text-align: right;\n",
       "    }\n",
       "</style>\n",
       "<table border=\"1\" class=\"dataframe\">\n",
       "  <thead>\n",
       "    <tr style=\"text-align: right;\">\n",
       "      <th></th>\n",
       "      <th>total_images</th>\n",
       "      <th>last_price</th>\n",
       "      <th>total_area</th>\n",
       "      <th>rooms</th>\n",
       "      <th>ceiling_height</th>\n",
       "      <th>floors_total</th>\n",
       "      <th>living_area</th>\n",
       "      <th>floor</th>\n",
       "      <th>is_apartment</th>\n",
       "      <th>studio</th>\n",
       "      <th>...</th>\n",
       "      <th>ponds_nearest</th>\n",
       "      <th>days_exposition</th>\n",
       "      <th>price_per_area</th>\n",
       "      <th>living_per_all_area, %</th>\n",
       "      <th>kitchen_per_all_area, %</th>\n",
       "      <th>floor_status</th>\n",
       "      <th>year</th>\n",
       "      <th>month</th>\n",
       "      <th>day_of_month</th>\n",
       "      <th>day_of_week</th>\n",
       "    </tr>\n",
       "  </thead>\n",
       "  <tbody>\n",
       "    <tr>\n",
       "      <th>0</th>\n",
       "      <td>20</td>\n",
       "      <td>13000000.0</td>\n",
       "      <td>108.00</td>\n",
       "      <td>3</td>\n",
       "      <td>2.70</td>\n",
       "      <td>16.0</td>\n",
       "      <td>51.0</td>\n",
       "      <td>8</td>\n",
       "      <td>False</td>\n",
       "      <td>False</td>\n",
       "      <td>...</td>\n",
       "      <td>755</td>\n",
       "      <td>0</td>\n",
       "      <td>120370.0</td>\n",
       "      <td>47.0</td>\n",
       "      <td>23.0</td>\n",
       "      <td>Другой</td>\n",
       "      <td>2019</td>\n",
       "      <td>3</td>\n",
       "      <td>7</td>\n",
       "      <td>Thursday</td>\n",
       "    </tr>\n",
       "    <tr>\n",
       "      <th>1</th>\n",
       "      <td>7</td>\n",
       "      <td>3350000.0</td>\n",
       "      <td>40.40</td>\n",
       "      <td>1</td>\n",
       "      <td>NaN</td>\n",
       "      <td>11.0</td>\n",
       "      <td>18.6</td>\n",
       "      <td>1</td>\n",
       "      <td>False</td>\n",
       "      <td>False</td>\n",
       "      <td>...</td>\n",
       "      <td>&lt;NA&gt;</td>\n",
       "      <td>81</td>\n",
       "      <td>82921.0</td>\n",
       "      <td>46.0</td>\n",
       "      <td>27.0</td>\n",
       "      <td>Первый</td>\n",
       "      <td>2018</td>\n",
       "      <td>12</td>\n",
       "      <td>4</td>\n",
       "      <td>Tuesday</td>\n",
       "    </tr>\n",
       "    <tr>\n",
       "      <th>2</th>\n",
       "      <td>10</td>\n",
       "      <td>5196000.0</td>\n",
       "      <td>56.00</td>\n",
       "      <td>2</td>\n",
       "      <td>NaN</td>\n",
       "      <td>5.0</td>\n",
       "      <td>34.3</td>\n",
       "      <td>4</td>\n",
       "      <td>False</td>\n",
       "      <td>False</td>\n",
       "      <td>...</td>\n",
       "      <td>574</td>\n",
       "      <td>558</td>\n",
       "      <td>92786.0</td>\n",
       "      <td>61.0</td>\n",
       "      <td>15.0</td>\n",
       "      <td>Другой</td>\n",
       "      <td>2015</td>\n",
       "      <td>8</td>\n",
       "      <td>20</td>\n",
       "      <td>Thursday</td>\n",
       "    </tr>\n",
       "    <tr>\n",
       "      <th>3</th>\n",
       "      <td>0</td>\n",
       "      <td>64900000.0</td>\n",
       "      <td>159.00</td>\n",
       "      <td>3</td>\n",
       "      <td>NaN</td>\n",
       "      <td>14.0</td>\n",
       "      <td>NaN</td>\n",
       "      <td>9</td>\n",
       "      <td>False</td>\n",
       "      <td>False</td>\n",
       "      <td>...</td>\n",
       "      <td>234</td>\n",
       "      <td>424</td>\n",
       "      <td>408176.0</td>\n",
       "      <td>NaN</td>\n",
       "      <td>NaN</td>\n",
       "      <td>Другой</td>\n",
       "      <td>2015</td>\n",
       "      <td>7</td>\n",
       "      <td>24</td>\n",
       "      <td>Friday</td>\n",
       "    </tr>\n",
       "    <tr>\n",
       "      <th>4</th>\n",
       "      <td>2</td>\n",
       "      <td>10000000.0</td>\n",
       "      <td>100.00</td>\n",
       "      <td>2</td>\n",
       "      <td>3.03</td>\n",
       "      <td>14.0</td>\n",
       "      <td>32.0</td>\n",
       "      <td>13</td>\n",
       "      <td>False</td>\n",
       "      <td>False</td>\n",
       "      <td>...</td>\n",
       "      <td>48</td>\n",
       "      <td>121</td>\n",
       "      <td>100000.0</td>\n",
       "      <td>32.0</td>\n",
       "      <td>41.0</td>\n",
       "      <td>Другой</td>\n",
       "      <td>2018</td>\n",
       "      <td>6</td>\n",
       "      <td>19</td>\n",
       "      <td>Tuesday</td>\n",
       "    </tr>\n",
       "    <tr>\n",
       "      <th>...</th>\n",
       "      <td>...</td>\n",
       "      <td>...</td>\n",
       "      <td>...</td>\n",
       "      <td>...</td>\n",
       "      <td>...</td>\n",
       "      <td>...</td>\n",
       "      <td>...</td>\n",
       "      <td>...</td>\n",
       "      <td>...</td>\n",
       "      <td>...</td>\n",
       "      <td>...</td>\n",
       "      <td>...</td>\n",
       "      <td>...</td>\n",
       "      <td>...</td>\n",
       "      <td>...</td>\n",
       "      <td>...</td>\n",
       "      <td>...</td>\n",
       "      <td>...</td>\n",
       "      <td>...</td>\n",
       "      <td>...</td>\n",
       "      <td>...</td>\n",
       "    </tr>\n",
       "    <tr>\n",
       "      <th>23694</th>\n",
       "      <td>9</td>\n",
       "      <td>9700000.0</td>\n",
       "      <td>133.81</td>\n",
       "      <td>3</td>\n",
       "      <td>3.70</td>\n",
       "      <td>5.0</td>\n",
       "      <td>73.3</td>\n",
       "      <td>3</td>\n",
       "      <td>False</td>\n",
       "      <td>False</td>\n",
       "      <td>...</td>\n",
       "      <td>381</td>\n",
       "      <td>0</td>\n",
       "      <td>72491.0</td>\n",
       "      <td>55.0</td>\n",
       "      <td>10.0</td>\n",
       "      <td>Другой</td>\n",
       "      <td>2017</td>\n",
       "      <td>3</td>\n",
       "      <td>21</td>\n",
       "      <td>Tuesday</td>\n",
       "    </tr>\n",
       "    <tr>\n",
       "      <th>23695</th>\n",
       "      <td>14</td>\n",
       "      <td>3100000.0</td>\n",
       "      <td>59.00</td>\n",
       "      <td>3</td>\n",
       "      <td>NaN</td>\n",
       "      <td>5.0</td>\n",
       "      <td>38.0</td>\n",
       "      <td>4</td>\n",
       "      <td>False</td>\n",
       "      <td>False</td>\n",
       "      <td>...</td>\n",
       "      <td>&lt;NA&gt;</td>\n",
       "      <td>45</td>\n",
       "      <td>52542.0</td>\n",
       "      <td>64.0</td>\n",
       "      <td>14.0</td>\n",
       "      <td>Другой</td>\n",
       "      <td>2018</td>\n",
       "      <td>1</td>\n",
       "      <td>15</td>\n",
       "      <td>Monday</td>\n",
       "    </tr>\n",
       "    <tr>\n",
       "      <th>23696</th>\n",
       "      <td>18</td>\n",
       "      <td>2500000.0</td>\n",
       "      <td>56.70</td>\n",
       "      <td>2</td>\n",
       "      <td>NaN</td>\n",
       "      <td>3.0</td>\n",
       "      <td>29.7</td>\n",
       "      <td>1</td>\n",
       "      <td>False</td>\n",
       "      <td>False</td>\n",
       "      <td>...</td>\n",
       "      <td>&lt;NA&gt;</td>\n",
       "      <td>0</td>\n",
       "      <td>44092.0</td>\n",
       "      <td>52.0</td>\n",
       "      <td>NaN</td>\n",
       "      <td>Первый</td>\n",
       "      <td>2018</td>\n",
       "      <td>2</td>\n",
       "      <td>11</td>\n",
       "      <td>Sunday</td>\n",
       "    </tr>\n",
       "    <tr>\n",
       "      <th>23697</th>\n",
       "      <td>13</td>\n",
       "      <td>11475000.0</td>\n",
       "      <td>76.75</td>\n",
       "      <td>2</td>\n",
       "      <td>3.00</td>\n",
       "      <td>17.0</td>\n",
       "      <td>NaN</td>\n",
       "      <td>12</td>\n",
       "      <td>False</td>\n",
       "      <td>False</td>\n",
       "      <td>...</td>\n",
       "      <td>196</td>\n",
       "      <td>602</td>\n",
       "      <td>149511.0</td>\n",
       "      <td>NaN</td>\n",
       "      <td>30.0</td>\n",
       "      <td>Другой</td>\n",
       "      <td>2017</td>\n",
       "      <td>3</td>\n",
       "      <td>28</td>\n",
       "      <td>Tuesday</td>\n",
       "    </tr>\n",
       "    <tr>\n",
       "      <th>23698</th>\n",
       "      <td>4</td>\n",
       "      <td>1350000.0</td>\n",
       "      <td>32.30</td>\n",
       "      <td>1</td>\n",
       "      <td>2.50</td>\n",
       "      <td>5.0</td>\n",
       "      <td>12.3</td>\n",
       "      <td>1</td>\n",
       "      <td>False</td>\n",
       "      <td>False</td>\n",
       "      <td>...</td>\n",
       "      <td>&lt;NA&gt;</td>\n",
       "      <td>0</td>\n",
       "      <td>41796.0</td>\n",
       "      <td>38.0</td>\n",
       "      <td>28.0</td>\n",
       "      <td>Первый</td>\n",
       "      <td>2017</td>\n",
       "      <td>7</td>\n",
       "      <td>21</td>\n",
       "      <td>Friday</td>\n",
       "    </tr>\n",
       "  </tbody>\n",
       "</table>\n",
       "<p>23699 rows × 29 columns</p>\n",
       "</div>"
      ],
      "text/plain": [
       "       total_images  last_price  total_area  rooms  ceiling_height  \\\n",
       "0                20  13000000.0      108.00      3            2.70   \n",
       "1                 7   3350000.0       40.40      1             NaN   \n",
       "2                10   5196000.0       56.00      2             NaN   \n",
       "3                 0  64900000.0      159.00      3             NaN   \n",
       "4                 2  10000000.0      100.00      2            3.03   \n",
       "...             ...         ...         ...    ...             ...   \n",
       "23694             9   9700000.0      133.81      3            3.70   \n",
       "23695            14   3100000.0       59.00      3             NaN   \n",
       "23696            18   2500000.0       56.70      2             NaN   \n",
       "23697            13  11475000.0       76.75      2            3.00   \n",
       "23698             4   1350000.0       32.30      1            2.50   \n",
       "\n",
       "       floors_total  living_area  floor  is_apartment  studio  ...  \\\n",
       "0              16.0         51.0      8         False   False  ...   \n",
       "1              11.0         18.6      1         False   False  ...   \n",
       "2               5.0         34.3      4         False   False  ...   \n",
       "3              14.0          NaN      9         False   False  ...   \n",
       "4              14.0         32.0     13         False   False  ...   \n",
       "...             ...          ...    ...           ...     ...  ...   \n",
       "23694           5.0         73.3      3         False   False  ...   \n",
       "23695           5.0         38.0      4         False   False  ...   \n",
       "23696           3.0         29.7      1         False   False  ...   \n",
       "23697          17.0          NaN     12         False   False  ...   \n",
       "23698           5.0         12.3      1         False   False  ...   \n",
       "\n",
       "       ponds_nearest  days_exposition  price_per_area living_per_all_area, %  \\\n",
       "0                755                0        120370.0                   47.0   \n",
       "1               <NA>               81         82921.0                   46.0   \n",
       "2                574              558         92786.0                   61.0   \n",
       "3                234              424        408176.0                    NaN   \n",
       "4                 48              121        100000.0                   32.0   \n",
       "...              ...              ...             ...                    ...   \n",
       "23694            381                0         72491.0                   55.0   \n",
       "23695           <NA>               45         52542.0                   64.0   \n",
       "23696           <NA>                0         44092.0                   52.0   \n",
       "23697            196              602        149511.0                    NaN   \n",
       "23698           <NA>                0         41796.0                   38.0   \n",
       "\n",
       "       kitchen_per_all_area, %  floor_status  year  month  day_of_month  \\\n",
       "0                         23.0        Другой  2019      3             7   \n",
       "1                         27.0        Первый  2018     12             4   \n",
       "2                         15.0        Другой  2015      8            20   \n",
       "3                          NaN        Другой  2015      7            24   \n",
       "4                         41.0        Другой  2018      6            19   \n",
       "...                        ...           ...   ...    ...           ...   \n",
       "23694                     10.0        Другой  2017      3            21   \n",
       "23695                     14.0        Другой  2018      1            15   \n",
       "23696                      NaN        Первый  2018      2            11   \n",
       "23697                     30.0        Другой  2017      3            28   \n",
       "23698                     28.0        Первый  2017      7            21   \n",
       "\n",
       "       day_of_week  \n",
       "0         Thursday  \n",
       "1          Tuesday  \n",
       "2         Thursday  \n",
       "3           Friday  \n",
       "4          Tuesday  \n",
       "...            ...  \n",
       "23694      Tuesday  \n",
       "23695       Monday  \n",
       "23696       Sunday  \n",
       "23697      Tuesday  \n",
       "23698       Friday  \n",
       "\n",
       "[23699 rows x 29 columns]"
      ]
     },
     "execution_count": 13,
     "metadata": {},
     "output_type": "execute_result"
    }
   ],
   "source": [
    "#Добавим в таблицу полезные данные: цену за кв.метр, этаж (первый/последний/другой), день публикации и отношения площадей\n",
    "\n",
    "try:\n",
    "    data['price_per_area']=round(data['last_price']/data['total_area'], 0)\n",
    "except:\n",
    "    display('Недостаточно данных!')\n",
    "    \n",
    "try:\n",
    "    data['living_per_all_area, %']=round(data['living_area']/data['total_area']*100,0)\n",
    "except:\n",
    "    display('Недостаточно данных!')\n",
    "    \n",
    "try:\n",
    "    data['kitchen_per_all_area, %']=round(data['kitchen_area']/data['total_area']*100,0)\n",
    "except:\n",
    "    display('Недостаточно данных!')\n",
    "    \n",
    "def floor_status(row):\n",
    "#Функция, сравнивающая этаж, на котором расположена квартира, с числом этажей в доме и с 1 - и делающая вывод о \"статусе\" этажа\n",
    "    floor_number= row['floors_total']\n",
    "    flat_floor = row['floor']\n",
    "    if  floor_number==flat_floor:\n",
    "        status = 'Последний'\n",
    "    elif flat_floor==1:\n",
    "        status = 'Первый'\n",
    "    else:\n",
    "        status='Другой'\n",
    "    return status\n",
    "data['floor_status']=data.apply(floor_status, axis=1)\n",
    "\n",
    "data['first_day_exposition'] = pd.to_datetime(data['first_day_exposition'], format='%Y-%m-%d') #Переведём в формат времени\n",
    "\n",
    "data['year'] = data['first_day_exposition'].dt.year\n",
    "data['month'] = data['first_day_exposition'].dt.month\n",
    "data['day_of_month'] = data['first_day_exposition'].dt.day\n",
    "data['day_of_week'] = data['first_day_exposition'].dt.day_name()   \n",
    "# И исходный столбец нам больше не нужен:\n",
    "data=data.drop('first_day_exposition',1)\n",
    "data"
   ]
  },
  {
   "cell_type": "markdown",
   "metadata": {},
   "source": [
    "Теперь в таблице очень много столбцов, но они полезные :) Впрочем, удобнее будет разбить таблицу на несколько"
   ]
  },
  {
   "cell_type": "code",
   "execution_count": 14,
   "metadata": {},
   "outputs": [
    {
     "data": {
      "text/html": [
       "<div>\n",
       "<style scoped>\n",
       "    .dataframe tbody tr th:only-of-type {\n",
       "        vertical-align: middle;\n",
       "    }\n",
       "\n",
       "    .dataframe tbody tr th {\n",
       "        vertical-align: top;\n",
       "    }\n",
       "\n",
       "    .dataframe thead th {\n",
       "        text-align: right;\n",
       "    }\n",
       "</style>\n",
       "<table border=\"1\" class=\"dataframe\">\n",
       "  <thead>\n",
       "    <tr style=\"text-align: right;\">\n",
       "      <th></th>\n",
       "      <th>last_price</th>\n",
       "      <th>price_per_area</th>\n",
       "      <th>total_images</th>\n",
       "      <th>year</th>\n",
       "      <th>month</th>\n",
       "      <th>day_of_month</th>\n",
       "      <th>day_of_week</th>\n",
       "      <th>days_exposition</th>\n",
       "    </tr>\n",
       "  </thead>\n",
       "  <tbody>\n",
       "    <tr>\n",
       "      <th>0</th>\n",
       "      <td>13000000.0</td>\n",
       "      <td>120370.0</td>\n",
       "      <td>20</td>\n",
       "      <td>2019</td>\n",
       "      <td>3</td>\n",
       "      <td>7</td>\n",
       "      <td>Thursday</td>\n",
       "      <td>0</td>\n",
       "    </tr>\n",
       "    <tr>\n",
       "      <th>1</th>\n",
       "      <td>3350000.0</td>\n",
       "      <td>82921.0</td>\n",
       "      <td>7</td>\n",
       "      <td>2018</td>\n",
       "      <td>12</td>\n",
       "      <td>4</td>\n",
       "      <td>Tuesday</td>\n",
       "      <td>81</td>\n",
       "    </tr>\n",
       "    <tr>\n",
       "      <th>2</th>\n",
       "      <td>5196000.0</td>\n",
       "      <td>92786.0</td>\n",
       "      <td>10</td>\n",
       "      <td>2015</td>\n",
       "      <td>8</td>\n",
       "      <td>20</td>\n",
       "      <td>Thursday</td>\n",
       "      <td>558</td>\n",
       "    </tr>\n",
       "    <tr>\n",
       "      <th>3</th>\n",
       "      <td>64900000.0</td>\n",
       "      <td>408176.0</td>\n",
       "      <td>0</td>\n",
       "      <td>2015</td>\n",
       "      <td>7</td>\n",
       "      <td>24</td>\n",
       "      <td>Friday</td>\n",
       "      <td>424</td>\n",
       "    </tr>\n",
       "    <tr>\n",
       "      <th>4</th>\n",
       "      <td>10000000.0</td>\n",
       "      <td>100000.0</td>\n",
       "      <td>2</td>\n",
       "      <td>2018</td>\n",
       "      <td>6</td>\n",
       "      <td>19</td>\n",
       "      <td>Tuesday</td>\n",
       "      <td>121</td>\n",
       "    </tr>\n",
       "    <tr>\n",
       "      <th>...</th>\n",
       "      <td>...</td>\n",
       "      <td>...</td>\n",
       "      <td>...</td>\n",
       "      <td>...</td>\n",
       "      <td>...</td>\n",
       "      <td>...</td>\n",
       "      <td>...</td>\n",
       "      <td>...</td>\n",
       "    </tr>\n",
       "    <tr>\n",
       "      <th>23694</th>\n",
       "      <td>9700000.0</td>\n",
       "      <td>72491.0</td>\n",
       "      <td>9</td>\n",
       "      <td>2017</td>\n",
       "      <td>3</td>\n",
       "      <td>21</td>\n",
       "      <td>Tuesday</td>\n",
       "      <td>0</td>\n",
       "    </tr>\n",
       "    <tr>\n",
       "      <th>23695</th>\n",
       "      <td>3100000.0</td>\n",
       "      <td>52542.0</td>\n",
       "      <td>14</td>\n",
       "      <td>2018</td>\n",
       "      <td>1</td>\n",
       "      <td>15</td>\n",
       "      <td>Monday</td>\n",
       "      <td>45</td>\n",
       "    </tr>\n",
       "    <tr>\n",
       "      <th>23696</th>\n",
       "      <td>2500000.0</td>\n",
       "      <td>44092.0</td>\n",
       "      <td>18</td>\n",
       "      <td>2018</td>\n",
       "      <td>2</td>\n",
       "      <td>11</td>\n",
       "      <td>Sunday</td>\n",
       "      <td>0</td>\n",
       "    </tr>\n",
       "    <tr>\n",
       "      <th>23697</th>\n",
       "      <td>11475000.0</td>\n",
       "      <td>149511.0</td>\n",
       "      <td>13</td>\n",
       "      <td>2017</td>\n",
       "      <td>3</td>\n",
       "      <td>28</td>\n",
       "      <td>Tuesday</td>\n",
       "      <td>602</td>\n",
       "    </tr>\n",
       "    <tr>\n",
       "      <th>23698</th>\n",
       "      <td>1350000.0</td>\n",
       "      <td>41796.0</td>\n",
       "      <td>4</td>\n",
       "      <td>2017</td>\n",
       "      <td>7</td>\n",
       "      <td>21</td>\n",
       "      <td>Friday</td>\n",
       "      <td>0</td>\n",
       "    </tr>\n",
       "  </tbody>\n",
       "</table>\n",
       "<p>23699 rows × 8 columns</p>\n",
       "</div>"
      ],
      "text/plain": [
       "       last_price  price_per_area  total_images  year  month  day_of_month  \\\n",
       "0      13000000.0        120370.0            20  2019      3             7   \n",
       "1       3350000.0         82921.0             7  2018     12             4   \n",
       "2       5196000.0         92786.0            10  2015      8            20   \n",
       "3      64900000.0        408176.0             0  2015      7            24   \n",
       "4      10000000.0        100000.0             2  2018      6            19   \n",
       "...           ...             ...           ...   ...    ...           ...   \n",
       "23694   9700000.0         72491.0             9  2017      3            21   \n",
       "23695   3100000.0         52542.0            14  2018      1            15   \n",
       "23696   2500000.0         44092.0            18  2018      2            11   \n",
       "23697  11475000.0        149511.0            13  2017      3            28   \n",
       "23698   1350000.0         41796.0             4  2017      7            21   \n",
       "\n",
       "      day_of_week  days_exposition  \n",
       "0        Thursday                0  \n",
       "1         Tuesday               81  \n",
       "2        Thursday              558  \n",
       "3          Friday              424  \n",
       "4         Tuesday              121  \n",
       "...           ...              ...  \n",
       "23694     Tuesday                0  \n",
       "23695      Monday               45  \n",
       "23696      Sunday                0  \n",
       "23697     Tuesday              602  \n",
       "23698      Friday                0  \n",
       "\n",
       "[23699 rows x 8 columns]"
      ]
     },
     "execution_count": 14,
     "metadata": {},
     "output_type": "execute_result"
    }
   ],
   "source": [
    "#Создадим таблицу, описывающую зависимость цены от свойств объявления\n",
    "price_and_advt = data[['last_price', 'price_per_area','total_images', 'year', 'month', 'day_of_month', 'day_of_week','days_exposition']]\n",
    "price_and_advt"
   ]
  },
  {
   "cell_type": "code",
   "execution_count": 15,
   "metadata": {},
   "outputs": [
    {
     "data": {
      "text/html": [
       "<div>\n",
       "<style scoped>\n",
       "    .dataframe tbody tr th:only-of-type {\n",
       "        vertical-align: middle;\n",
       "    }\n",
       "\n",
       "    .dataframe tbody tr th {\n",
       "        vertical-align: top;\n",
       "    }\n",
       "\n",
       "    .dataframe thead th {\n",
       "        text-align: right;\n",
       "    }\n",
       "</style>\n",
       "<table border=\"1\" class=\"dataframe\">\n",
       "  <thead>\n",
       "    <tr style=\"text-align: right;\">\n",
       "      <th></th>\n",
       "      <th>last_price</th>\n",
       "      <th>price_per_area</th>\n",
       "      <th>is_apartment</th>\n",
       "      <th>studio</th>\n",
       "      <th>open_plan</th>\n",
       "      <th>floor</th>\n",
       "      <th>floor_status</th>\n",
       "      <th>total_area</th>\n",
       "      <th>living_area</th>\n",
       "      <th>kitchen_area</th>\n",
       "      <th>ceiling_height</th>\n",
       "      <th>rooms</th>\n",
       "      <th>balcony</th>\n",
       "      <th>living_per_all_area, %</th>\n",
       "      <th>kitchen_per_all_area, %</th>\n",
       "    </tr>\n",
       "  </thead>\n",
       "  <tbody>\n",
       "    <tr>\n",
       "      <th>0</th>\n",
       "      <td>13000000.0</td>\n",
       "      <td>120370.0</td>\n",
       "      <td>False</td>\n",
       "      <td>False</td>\n",
       "      <td>False</td>\n",
       "      <td>8</td>\n",
       "      <td>Другой</td>\n",
       "      <td>108.00</td>\n",
       "      <td>51.0</td>\n",
       "      <td>25.00</td>\n",
       "      <td>2.70</td>\n",
       "      <td>3</td>\n",
       "      <td>0</td>\n",
       "      <td>47.0</td>\n",
       "      <td>23.0</td>\n",
       "    </tr>\n",
       "    <tr>\n",
       "      <th>1</th>\n",
       "      <td>3350000.0</td>\n",
       "      <td>82921.0</td>\n",
       "      <td>False</td>\n",
       "      <td>False</td>\n",
       "      <td>False</td>\n",
       "      <td>1</td>\n",
       "      <td>Первый</td>\n",
       "      <td>40.40</td>\n",
       "      <td>18.6</td>\n",
       "      <td>11.00</td>\n",
       "      <td>NaN</td>\n",
       "      <td>1</td>\n",
       "      <td>2</td>\n",
       "      <td>46.0</td>\n",
       "      <td>27.0</td>\n",
       "    </tr>\n",
       "    <tr>\n",
       "      <th>2</th>\n",
       "      <td>5196000.0</td>\n",
       "      <td>92786.0</td>\n",
       "      <td>False</td>\n",
       "      <td>False</td>\n",
       "      <td>False</td>\n",
       "      <td>4</td>\n",
       "      <td>Другой</td>\n",
       "      <td>56.00</td>\n",
       "      <td>34.3</td>\n",
       "      <td>8.30</td>\n",
       "      <td>NaN</td>\n",
       "      <td>2</td>\n",
       "      <td>0</td>\n",
       "      <td>61.0</td>\n",
       "      <td>15.0</td>\n",
       "    </tr>\n",
       "    <tr>\n",
       "      <th>3</th>\n",
       "      <td>64900000.0</td>\n",
       "      <td>408176.0</td>\n",
       "      <td>False</td>\n",
       "      <td>False</td>\n",
       "      <td>False</td>\n",
       "      <td>9</td>\n",
       "      <td>Другой</td>\n",
       "      <td>159.00</td>\n",
       "      <td>NaN</td>\n",
       "      <td>NaN</td>\n",
       "      <td>NaN</td>\n",
       "      <td>3</td>\n",
       "      <td>0</td>\n",
       "      <td>NaN</td>\n",
       "      <td>NaN</td>\n",
       "    </tr>\n",
       "    <tr>\n",
       "      <th>4</th>\n",
       "      <td>10000000.0</td>\n",
       "      <td>100000.0</td>\n",
       "      <td>False</td>\n",
       "      <td>False</td>\n",
       "      <td>False</td>\n",
       "      <td>13</td>\n",
       "      <td>Другой</td>\n",
       "      <td>100.00</td>\n",
       "      <td>32.0</td>\n",
       "      <td>41.00</td>\n",
       "      <td>3.03</td>\n",
       "      <td>2</td>\n",
       "      <td>0</td>\n",
       "      <td>32.0</td>\n",
       "      <td>41.0</td>\n",
       "    </tr>\n",
       "    <tr>\n",
       "      <th>...</th>\n",
       "      <td>...</td>\n",
       "      <td>...</td>\n",
       "      <td>...</td>\n",
       "      <td>...</td>\n",
       "      <td>...</td>\n",
       "      <td>...</td>\n",
       "      <td>...</td>\n",
       "      <td>...</td>\n",
       "      <td>...</td>\n",
       "      <td>...</td>\n",
       "      <td>...</td>\n",
       "      <td>...</td>\n",
       "      <td>...</td>\n",
       "      <td>...</td>\n",
       "      <td>...</td>\n",
       "    </tr>\n",
       "    <tr>\n",
       "      <th>23694</th>\n",
       "      <td>9700000.0</td>\n",
       "      <td>72491.0</td>\n",
       "      <td>False</td>\n",
       "      <td>False</td>\n",
       "      <td>False</td>\n",
       "      <td>3</td>\n",
       "      <td>Другой</td>\n",
       "      <td>133.81</td>\n",
       "      <td>73.3</td>\n",
       "      <td>13.83</td>\n",
       "      <td>3.70</td>\n",
       "      <td>3</td>\n",
       "      <td>0</td>\n",
       "      <td>55.0</td>\n",
       "      <td>10.0</td>\n",
       "    </tr>\n",
       "    <tr>\n",
       "      <th>23695</th>\n",
       "      <td>3100000.0</td>\n",
       "      <td>52542.0</td>\n",
       "      <td>False</td>\n",
       "      <td>False</td>\n",
       "      <td>False</td>\n",
       "      <td>4</td>\n",
       "      <td>Другой</td>\n",
       "      <td>59.00</td>\n",
       "      <td>38.0</td>\n",
       "      <td>8.50</td>\n",
       "      <td>NaN</td>\n",
       "      <td>3</td>\n",
       "      <td>0</td>\n",
       "      <td>64.0</td>\n",
       "      <td>14.0</td>\n",
       "    </tr>\n",
       "    <tr>\n",
       "      <th>23696</th>\n",
       "      <td>2500000.0</td>\n",
       "      <td>44092.0</td>\n",
       "      <td>False</td>\n",
       "      <td>False</td>\n",
       "      <td>False</td>\n",
       "      <td>1</td>\n",
       "      <td>Первый</td>\n",
       "      <td>56.70</td>\n",
       "      <td>29.7</td>\n",
       "      <td>NaN</td>\n",
       "      <td>NaN</td>\n",
       "      <td>2</td>\n",
       "      <td>0</td>\n",
       "      <td>52.0</td>\n",
       "      <td>NaN</td>\n",
       "    </tr>\n",
       "    <tr>\n",
       "      <th>23697</th>\n",
       "      <td>11475000.0</td>\n",
       "      <td>149511.0</td>\n",
       "      <td>False</td>\n",
       "      <td>False</td>\n",
       "      <td>False</td>\n",
       "      <td>12</td>\n",
       "      <td>Другой</td>\n",
       "      <td>76.75</td>\n",
       "      <td>NaN</td>\n",
       "      <td>23.30</td>\n",
       "      <td>3.00</td>\n",
       "      <td>2</td>\n",
       "      <td>2</td>\n",
       "      <td>NaN</td>\n",
       "      <td>30.0</td>\n",
       "    </tr>\n",
       "    <tr>\n",
       "      <th>23698</th>\n",
       "      <td>1350000.0</td>\n",
       "      <td>41796.0</td>\n",
       "      <td>False</td>\n",
       "      <td>False</td>\n",
       "      <td>False</td>\n",
       "      <td>1</td>\n",
       "      <td>Первый</td>\n",
       "      <td>32.30</td>\n",
       "      <td>12.3</td>\n",
       "      <td>9.00</td>\n",
       "      <td>2.50</td>\n",
       "      <td>1</td>\n",
       "      <td>0</td>\n",
       "      <td>38.0</td>\n",
       "      <td>28.0</td>\n",
       "    </tr>\n",
       "  </tbody>\n",
       "</table>\n",
       "<p>23699 rows × 15 columns</p>\n",
       "</div>"
      ],
      "text/plain": [
       "       last_price  price_per_area  is_apartment  studio  open_plan  floor  \\\n",
       "0      13000000.0        120370.0         False   False      False      8   \n",
       "1       3350000.0         82921.0         False   False      False      1   \n",
       "2       5196000.0         92786.0         False   False      False      4   \n",
       "3      64900000.0        408176.0         False   False      False      9   \n",
       "4      10000000.0        100000.0         False   False      False     13   \n",
       "...           ...             ...           ...     ...        ...    ...   \n",
       "23694   9700000.0         72491.0         False   False      False      3   \n",
       "23695   3100000.0         52542.0         False   False      False      4   \n",
       "23696   2500000.0         44092.0         False   False      False      1   \n",
       "23697  11475000.0        149511.0         False   False      False     12   \n",
       "23698   1350000.0         41796.0         False   False      False      1   \n",
       "\n",
       "      floor_status  total_area  living_area  kitchen_area  ceiling_height  \\\n",
       "0           Другой      108.00         51.0         25.00            2.70   \n",
       "1           Первый       40.40         18.6         11.00             NaN   \n",
       "2           Другой       56.00         34.3          8.30             NaN   \n",
       "3           Другой      159.00          NaN           NaN             NaN   \n",
       "4           Другой      100.00         32.0         41.00            3.03   \n",
       "...            ...         ...          ...           ...             ...   \n",
       "23694       Другой      133.81         73.3         13.83            3.70   \n",
       "23695       Другой       59.00         38.0          8.50             NaN   \n",
       "23696       Первый       56.70         29.7           NaN             NaN   \n",
       "23697       Другой       76.75          NaN         23.30            3.00   \n",
       "23698       Первый       32.30         12.3          9.00            2.50   \n",
       "\n",
       "       rooms  balcony  living_per_all_area, %  kitchen_per_all_area, %  \n",
       "0          3        0                    47.0                     23.0  \n",
       "1          1        2                    46.0                     27.0  \n",
       "2          2        0                    61.0                     15.0  \n",
       "3          3        0                     NaN                      NaN  \n",
       "4          2        0                    32.0                     41.0  \n",
       "...      ...      ...                     ...                      ...  \n",
       "23694      3        0                    55.0                     10.0  \n",
       "23695      3        0                    64.0                     14.0  \n",
       "23696      2        0                    52.0                      NaN  \n",
       "23697      2        2                     NaN                     30.0  \n",
       "23698      1        0                    38.0                     28.0  \n",
       "\n",
       "[23699 rows x 15 columns]"
      ]
     },
     "execution_count": 15,
     "metadata": {},
     "output_type": "execute_result"
    }
   ],
   "source": [
    "#Создадим таблицу, описывающую зависимость цены от свойств самой квартиры\n",
    "price_and_flat = data[['last_price', 'price_per_area','is_apartment','studio','open_plan', 'floor','floor_status','total_area','living_area','kitchen_area','ceiling_height','rooms', 'balcony', 'living_per_all_area, %','kitchen_per_all_area, %']]\n",
    "\n",
    "price_and_flat"
   ]
  },
  {
   "cell_type": "code",
   "execution_count": 16,
   "metadata": {
    "scrolled": true
   },
   "outputs": [
    {
     "data": {
      "text/html": [
       "<div>\n",
       "<style scoped>\n",
       "    .dataframe tbody tr th:only-of-type {\n",
       "        vertical-align: middle;\n",
       "    }\n",
       "\n",
       "    .dataframe tbody tr th {\n",
       "        vertical-align: top;\n",
       "    }\n",
       "\n",
       "    .dataframe thead th {\n",
       "        text-align: right;\n",
       "    }\n",
       "</style>\n",
       "<table border=\"1\" class=\"dataframe\">\n",
       "  <thead>\n",
       "    <tr style=\"text-align: right;\">\n",
       "      <th></th>\n",
       "      <th>last_price</th>\n",
       "      <th>price_per_area</th>\n",
       "      <th>locality_name</th>\n",
       "      <th>parks_around3000</th>\n",
       "      <th>parks_nearest</th>\n",
       "      <th>ponds_around3000</th>\n",
       "      <th>ponds_nearest</th>\n",
       "      <th>cityCenters_nearest_km</th>\n",
       "      <th>airports_nearest_km</th>\n",
       "    </tr>\n",
       "  </thead>\n",
       "  <tbody>\n",
       "    <tr>\n",
       "      <th>0</th>\n",
       "      <td>13000000.0</td>\n",
       "      <td>120370.0</td>\n",
       "      <td>Санкт-Петербург</td>\n",
       "      <td>1</td>\n",
       "      <td>482</td>\n",
       "      <td>2</td>\n",
       "      <td>755</td>\n",
       "      <td>16.0</td>\n",
       "      <td>18.9</td>\n",
       "    </tr>\n",
       "    <tr>\n",
       "      <th>1</th>\n",
       "      <td>3350000.0</td>\n",
       "      <td>82921.0</td>\n",
       "      <td>посёлок Шушары</td>\n",
       "      <td>0</td>\n",
       "      <td>&lt;NA&gt;</td>\n",
       "      <td>0</td>\n",
       "      <td>&lt;NA&gt;</td>\n",
       "      <td>18.6</td>\n",
       "      <td>12.8</td>\n",
       "    </tr>\n",
       "    <tr>\n",
       "      <th>2</th>\n",
       "      <td>5196000.0</td>\n",
       "      <td>92786.0</td>\n",
       "      <td>Санкт-Петербург</td>\n",
       "      <td>1</td>\n",
       "      <td>90</td>\n",
       "      <td>2</td>\n",
       "      <td>574</td>\n",
       "      <td>13.9</td>\n",
       "      <td>21.7</td>\n",
       "    </tr>\n",
       "    <tr>\n",
       "      <th>3</th>\n",
       "      <td>64900000.0</td>\n",
       "      <td>408176.0</td>\n",
       "      <td>Санкт-Петербург</td>\n",
       "      <td>2</td>\n",
       "      <td>84</td>\n",
       "      <td>3</td>\n",
       "      <td>234</td>\n",
       "      <td>6.8</td>\n",
       "      <td>28.1</td>\n",
       "    </tr>\n",
       "    <tr>\n",
       "      <th>4</th>\n",
       "      <td>10000000.0</td>\n",
       "      <td>100000.0</td>\n",
       "      <td>Санкт-Петербург</td>\n",
       "      <td>2</td>\n",
       "      <td>112</td>\n",
       "      <td>1</td>\n",
       "      <td>48</td>\n",
       "      <td>8.1</td>\n",
       "      <td>31.9</td>\n",
       "    </tr>\n",
       "    <tr>\n",
       "      <th>...</th>\n",
       "      <td>...</td>\n",
       "      <td>...</td>\n",
       "      <td>...</td>\n",
       "      <td>...</td>\n",
       "      <td>...</td>\n",
       "      <td>...</td>\n",
       "      <td>...</td>\n",
       "      <td>...</td>\n",
       "      <td>...</td>\n",
       "    </tr>\n",
       "    <tr>\n",
       "      <th>23694</th>\n",
       "      <td>9700000.0</td>\n",
       "      <td>72491.0</td>\n",
       "      <td>Санкт-Петербург</td>\n",
       "      <td>1</td>\n",
       "      <td>796</td>\n",
       "      <td>3</td>\n",
       "      <td>381</td>\n",
       "      <td>4.2</td>\n",
       "      <td>24.7</td>\n",
       "    </tr>\n",
       "    <tr>\n",
       "      <th>23695</th>\n",
       "      <td>3100000.0</td>\n",
       "      <td>52542.0</td>\n",
       "      <td>Тосно</td>\n",
       "      <td>0</td>\n",
       "      <td>&lt;NA&gt;</td>\n",
       "      <td>0</td>\n",
       "      <td>&lt;NA&gt;</td>\n",
       "      <td>NaN</td>\n",
       "      <td>NaN</td>\n",
       "    </tr>\n",
       "    <tr>\n",
       "      <th>23696</th>\n",
       "      <td>2500000.0</td>\n",
       "      <td>44092.0</td>\n",
       "      <td>село Рождествено</td>\n",
       "      <td>0</td>\n",
       "      <td>&lt;NA&gt;</td>\n",
       "      <td>0</td>\n",
       "      <td>&lt;NA&gt;</td>\n",
       "      <td>NaN</td>\n",
       "      <td>NaN</td>\n",
       "    </tr>\n",
       "    <tr>\n",
       "      <th>23697</th>\n",
       "      <td>11475000.0</td>\n",
       "      <td>149511.0</td>\n",
       "      <td>Санкт-Петербург</td>\n",
       "      <td>2</td>\n",
       "      <td>173</td>\n",
       "      <td>3</td>\n",
       "      <td>196</td>\n",
       "      <td>10.4</td>\n",
       "      <td>39.1</td>\n",
       "    </tr>\n",
       "    <tr>\n",
       "      <th>23698</th>\n",
       "      <td>1350000.0</td>\n",
       "      <td>41796.0</td>\n",
       "      <td>поселок Новый Учхоз</td>\n",
       "      <td>0</td>\n",
       "      <td>&lt;NA&gt;</td>\n",
       "      <td>0</td>\n",
       "      <td>&lt;NA&gt;</td>\n",
       "      <td>NaN</td>\n",
       "      <td>NaN</td>\n",
       "    </tr>\n",
       "  </tbody>\n",
       "</table>\n",
       "<p>23699 rows × 9 columns</p>\n",
       "</div>"
      ],
      "text/plain": [
       "       last_price  price_per_area        locality_name  parks_around3000  \\\n",
       "0      13000000.0        120370.0      Санкт-Петербург                 1   \n",
       "1       3350000.0         82921.0       посёлок Шушары                 0   \n",
       "2       5196000.0         92786.0      Санкт-Петербург                 1   \n",
       "3      64900000.0        408176.0      Санкт-Петербург                 2   \n",
       "4      10000000.0        100000.0      Санкт-Петербург                 2   \n",
       "...           ...             ...                  ...               ...   \n",
       "23694   9700000.0         72491.0      Санкт-Петербург                 1   \n",
       "23695   3100000.0         52542.0                Тосно                 0   \n",
       "23696   2500000.0         44092.0     село Рождествено                 0   \n",
       "23697  11475000.0        149511.0      Санкт-Петербург                 2   \n",
       "23698   1350000.0         41796.0  поселок Новый Учхоз                 0   \n",
       "\n",
       "       parks_nearest  ponds_around3000  ponds_nearest  cityCenters_nearest_km  \\\n",
       "0                482                 2            755                    16.0   \n",
       "1               <NA>                 0           <NA>                    18.6   \n",
       "2                 90                 2            574                    13.9   \n",
       "3                 84                 3            234                     6.8   \n",
       "4                112                 1             48                     8.1   \n",
       "...              ...               ...            ...                     ...   \n",
       "23694            796                 3            381                     4.2   \n",
       "23695           <NA>                 0           <NA>                     NaN   \n",
       "23696           <NA>                 0           <NA>                     NaN   \n",
       "23697            173                 3            196                    10.4   \n",
       "23698           <NA>                 0           <NA>                     NaN   \n",
       "\n",
       "       airports_nearest_km  \n",
       "0                     18.9  \n",
       "1                     12.8  \n",
       "2                     21.7  \n",
       "3                     28.1  \n",
       "4                     31.9  \n",
       "...                    ...  \n",
       "23694                 24.7  \n",
       "23695                  NaN  \n",
       "23696                  NaN  \n",
       "23697                 39.1  \n",
       "23698                  NaN  \n",
       "\n",
       "[23699 rows x 9 columns]"
      ]
     },
     "execution_count": 16,
     "metadata": {},
     "output_type": "execute_result"
    }
   ],
   "source": [
    "#Создадим таблицу, описывающую зависимость цены от расположения дома\n",
    "price_and_location =data[['last_price', 'price_per_area','locality_name','airports_nearest','cityCenters_nearest','parks_around3000','parks_nearest','ponds_around3000','ponds_nearest']].copy()\n",
    "#Переведём расстояние до центра города и до аэропорта в км\n",
    "price_and_location['cityCenters_nearest_km']=price_and_location['cityCenters_nearest']/1000\n",
    "price_and_location['cityCenters_nearest_km']=price_and_location['cityCenters_nearest_km'].astype(float).round(1)\n",
    "\n",
    "price_and_location['airports_nearest_km']=price_and_location['airports_nearest']/1000\n",
    "price_and_location['airports_nearest_km']=price_and_location['airports_nearest_km'].astype(float).round(1)\n",
    "\n",
    "#Удалим информацию о расстоянии до аэропорта и центра города в метрах, т.к информация дублируется\n",
    "price_and_location=price_and_location.drop('cityCenters_nearest',1) \n",
    "price_and_location=price_and_location.drop('airports_nearest',1) \n",
    "price_and_location"
   ]
  },
  {
   "cell_type": "markdown",
   "metadata": {},
   "source": [
    "Теперь данные разбиты на удобные таблицы, часть данных переведена в удобный для восприятия вид."
   ]
  },
  {
   "cell_type": "markdown",
   "metadata": {},
   "source": [
    "### Выбросим выпадающие значения"
   ]
  },
  {
   "cell_type": "markdown",
   "metadata": {},
   "source": [
    "#### Полная цена квартиры"
   ]
  },
  {
   "cell_type": "markdown",
   "metadata": {},
   "source": [
    "Cреди квартир есть резко выбивающиеся по цене. Предположу, что это элитное жильё, и сравнивать его с обычным было бы некорректно. Установлю границу \"обычного\" жилья - 100 миллионов."
   ]
  },
  {
   "cell_type": "code",
   "execution_count": 17,
   "metadata": {
    "scrolled": true
   },
   "outputs": [
    {
     "data": {
      "text/plain": [
       "(1.0, 20000000.0)"
      ]
     },
     "execution_count": 17,
     "metadata": {},
     "output_type": "execute_result"
    },
    {
     "data": {
      "image/png": "[encoded data removed]",
      "text/plain": [
       "<Figure size 432x288 with 1 Axes>"
      ]
     },
     "metadata": {
      "needs_background": "light"
     },
     "output_type": "display_data"
    }
   ],
   "source": [
    "price_and_flat.boxplot(column=['last_price'])\n",
    "#Подтверждение, что оценка была выбрана правильно\n",
    "plt.ylim(1,20000000)"
   ]
  },
  {
   "cell_type": "code",
   "execution_count": 18,
   "metadata": {},
   "outputs": [
    {
     "data": {
      "image/png": "[encoded data removed]",
      "text/plain": [
       "<Figure size 432x288 with 1 Axes>"
      ]
     },
     "metadata": {
      "needs_background": "light"
     },
     "output_type": "display_data"
    }
   ],
   "source": [
    "#Оценка количества отброшеннных данных:\n",
    "price_and_flat['last_price'].hist(bins=10, range=(100000000,1000000000))\n",
    "#Выбросов менее 0.5%\n",
    "price_and_flat=price_and_flat.query('last_price<=100000000')"
   ]
  },
  {
   "cell_type": "markdown",
   "metadata": {},
   "source": [
    "#### Количество комнат"
   ]
  },
  {
   "cell_type": "code",
   "execution_count": 19,
   "metadata": {},
   "outputs": [
    {
     "data": {
      "image/png": "[encoded data removed]",
      "text/plain": [
       "<Figure size 432x288 with 1 Axes>"
      ]
     },
     "metadata": {
      "needs_background": "light"
     },
     "output_type": "display_data"
    }
   ],
   "source": [
    "#Исследуем данные, связанные с числом комнат\n",
    "price_and_flat.sort_values(by='rooms').tail(10)\n",
    "#19 комнат, божечки...\n",
    "\n",
    "plt.hist(price_and_flat['rooms'], bins=19)\n",
    "plt.xticks(range(20))\n",
    "plt.show()\n",
    "#Получилось не очень наглядно. Разделим на куски: \"Обычные\" квартиры и \"многокомнатные\"  - где комнат больше 5"
   ]
  },
  {
   "cell_type": "code",
   "execution_count": 20,
   "metadata": {
    "scrolled": true
   },
   "outputs": [
    {
     "data": {
      "image/png": "[encoded data removed]",
      "text/plain": [
       "<Figure size 432x288 with 1 Axes>"
      ]
     },
     "metadata": {
      "needs_background": "light"
     },
     "output_type": "display_data"
    }
   ],
   "source": [
    "#Кусок, связанный с \"многокомнатными\" квартирами\n",
    "plt.hist(price_and_flat['rooms'], bins=15, range=(6,19))\n",
    "plt.xticks(range(6,20))\n",
    "plt.show()\n",
    "#Многокомнатных квартир не очень много, около 1,5% - отбросим эти данные.\n",
    "price_and_flat=price_and_flat.query('rooms<6')"
   ]
  },
  {
   "cell_type": "markdown",
   "metadata": {},
   "source": [
    "#### Цена за квадратный метр"
   ]
  },
  {
   "cell_type": "code",
   "execution_count": 21,
   "metadata": {},
   "outputs": [
    {
     "data": {
      "text/plain": [
       "<AxesSubplot:>"
      ]
     },
     "execution_count": 21,
     "metadata": {},
     "output_type": "execute_result"
    },
    {
     "data": {
      "image/png": "[encoded data removed]",
      "text/plain": [
       "<Figure size 432x288 with 1 Axes>"
      ]
     },
     "metadata": {
      "needs_background": "light"
     },
     "output_type": "display_data"
    }
   ],
   "source": [
    "price_and_flat['price_per_area'].hist(bins=50)"
   ]
  },
  {
   "cell_type": "code",
   "execution_count": 22,
   "metadata": {},
   "outputs": [
    {
     "data": {
      "image/png": "[encoded data removed]",
      "text/plain": [
       "<Figure size 432x288 with 1 Axes>"
      ]
     },
     "metadata": {
      "needs_background": "light"
     },
     "output_type": "display_data"
    }
   ],
   "source": [
    "price_and_flat['price_per_area'].hist(bins=10, range=(200000,800000))\n",
    "#Данных, которые мы считаем выбросами, примерно 1,3%.\n",
    "price_and_flat=price_and_flat.query('price_per_area<200000')"
   ]
  },
  {
   "cell_type": "markdown",
   "metadata": {},
   "source": [
    "#### Общая площадь"
   ]
  },
  {
   "cell_type": "code",
   "execution_count": 23,
   "metadata": {},
   "outputs": [
    {
     "data": {
      "text/plain": [
       "<AxesSubplot:>"
      ]
     },
     "execution_count": 23,
     "metadata": {},
     "output_type": "execute_result"
    },
    {
     "data": {
      "image/png": "[encoded data removed]",
      "text/plain": [
       "<Figure size 432x288 with 1 Axes>"
      ]
     },
     "metadata": {
      "needs_background": "light"
     },
     "output_type": "display_data"
    }
   ],
   "source": [
    "price_and_flat['total_area'].hist(bins=100)"
   ]
  },
  {
   "cell_type": "code",
   "execution_count": 24,
   "metadata": {},
   "outputs": [
    {
     "data": {
      "image/png": "[encoded data removed]",
      "text/plain": [
       "<Figure size 432x288 with 1 Axes>"
      ]
     },
     "metadata": {
      "needs_background": "light"
     },
     "output_type": "display_data"
    }
   ],
   "source": [
    "price_and_flat['total_area'].hist(range=(150,500))\n",
    "#Выбивающихся квартир немного, около 1.5% => устанавливаем границу \"обычной\" квартиры в 150 м^2\n",
    "price_and_flat=price_and_flat.query('total_area<150')"
   ]
  },
  {
   "cell_type": "markdown",
   "metadata": {},
   "source": [
    "#### Высота потолков"
   ]
  },
  {
   "cell_type": "code",
   "execution_count": 25,
   "metadata": {},
   "outputs": [
    {
     "data": {
      "text/plain": [
       "<AxesSubplot:>"
      ]
     },
     "execution_count": 25,
     "metadata": {},
     "output_type": "execute_result"
    },
    {
     "data": {
      "image/png": "[encoded data removed]",
      "text/plain": [
       "<Figure size 432x288 with 1 Axes>"
      ]
     },
     "metadata": {
      "needs_background": "light"
     },
     "output_type": "display_data"
    }
   ],
   "source": [
    "price_and_flat['ceiling_height'].hist(bins=30)"
   ]
  },
  {
   "cell_type": "code",
   "execution_count": 26,
   "metadata": {},
   "outputs": [
    {
     "data": {
      "image/png": "[encoded data removed]",
      "text/plain": [
       "<Figure size 432x288 with 1 Axes>"
      ]
     },
     "metadata": {
      "needs_background": "light"
     },
     "output_type": "display_data"
    }
   ],
   "source": [
    "price_and_flat['ceiling_height'].hist(range=(5,35))\n",
    "#Квартиры с высотой потолков выше 5 метров вряд ли можно считать обычными. Их совсем чуть-чуть, 0.13%  - избавляемся.\n",
    "price_and_flat=price_and_flat.query('ceiling_height<=5')"
   ]
  },
  {
   "cell_type": "markdown",
   "metadata": {},
   "source": [
    "#### Число этажей"
   ]
  },
  {
   "cell_type": "code",
   "execution_count": 27,
   "metadata": {},
   "outputs": [
    {
     "data": {
      "text/plain": [
       "<AxesSubplot:>"
      ]
     },
     "execution_count": 27,
     "metadata": {},
     "output_type": "execute_result"
    },
    {
     "data": {
      "image/png": "[encoded data removed]",
      "text/plain": [
       "<Figure size 432x288 with 1 Axes>"
      ]
     },
     "metadata": {
      "needs_background": "light"
     },
     "output_type": "display_data"
    }
   ],
   "source": [
    "data['floors_total'].hist(bins=15)\n"
   ]
  },
  {
   "cell_type": "code",
   "execution_count": 28,
   "metadata": {
    "scrolled": true
   },
   "outputs": [
    {
     "data": {
      "image/png": "[encoded data removed]",
      "text/plain": [
       "<Figure size 432x288 with 1 Axes>"
      ]
     },
     "metadata": {
      "needs_background": "light"
     },
     "output_type": "display_data"
    }
   ],
   "source": [
    "data['floors_total'].hist(range=(35,60), bins=25)\n",
    "#Гугл говорит, что самое высокое жилое  здание в СПб - ЖК «Князь Александр Невский» - имеет 37 этажей. \n",
    "#53 и 59 этажей быть явно не может. Выброшенных данных около 1%. \n",
    "data=data.query('floors_total<37')"
   ]
  },
  {
   "cell_type": "markdown",
   "metadata": {},
   "source": [
    "### Проведите исследовательский анализ данных"
   ]
  },
  {
   "cell_type": "markdown",
   "metadata": {},
   "source": [
    "#### Исследование полной цены квартиры"
   ]
  },
  {
   "cell_type": "code",
   "execution_count": 29,
   "metadata": {},
   "outputs": [
    {
     "data": {
      "text/plain": [
       "<AxesSubplot:>"
      ]
     },
     "execution_count": 29,
     "metadata": {},
     "output_type": "execute_result"
    },
    {
     "data": {
      "image/png": "[encoded data removed]",
      "text/plain": [
       "<Figure size 432x288 with 1 Axes>"
      ]
     },
     "metadata": {
      "needs_background": "light"
     },
     "output_type": "display_data"
    }
   ],
   "source": [
    "price_and_flat['last_price'].hist(bins=100) \n",
    "#Диаграмма не наглядна - большая часть значений лежит в пределах 20 миллионов. Уточним:"
   ]
  },
  {
   "cell_type": "code",
   "execution_count": 30,
   "metadata": {
    "scrolled": true
   },
   "outputs": [
    {
     "data": {
      "text/plain": [
       "count    1.380300e+04\n",
       "mean     5.560508e+06\n",
       "std      3.270806e+06\n",
       "min      1.219000e+04\n",
       "25%      3.500000e+06\n",
       "50%      4.700000e+06\n",
       "75%      6.600000e+06\n",
       "max      2.757720e+07\n",
       "Name: last_price, dtype: float64"
      ]
     },
     "execution_count": 30,
     "metadata": {},
     "output_type": "execute_result"
    },
    {
     "data": {
      "image/png": "[encoded data removed]",
      "text/plain": [
       "<Figure size 432x288 with 1 Axes>"
      ]
     },
     "metadata": {
      "needs_background": "light"
     },
     "output_type": "display_data"
    }
   ],
   "source": [
    "price_and_flat['last_price'].hist(bins=25, range=(0, 20000000))\n",
    "price_and_flat['last_price'].describe()\n",
    "#Пик наблюдается при ~3.5 миллионах. Это согласуется с нагугленными данными :)"
   ]
  },
  {
   "cell_type": "markdown",
   "metadata": {},
   "source": [
    "#### Исследование количества комнат"
   ]
  },
  {
   "cell_type": "code",
   "execution_count": 31,
   "metadata": {},
   "outputs": [
    {
     "data": {
      "image/png": "[encoded data removed]",
      "text/plain": [
       "<Figure size 432x288 with 1 Axes>"
      ]
     },
     "metadata": {
      "needs_background": "light"
     },
     "output_type": "display_data"
    }
   ],
   "source": [
    "#Кусок, связанный с \"обычными\" квартирами\n",
    "plt.hist(price_and_flat['rooms'], bins=5, range=(0,5))\n",
    "plt.xticks(range(6))\n",
    "plt.show()\n",
    "#Больше всего 2-комнатных квартир, чуть меньше 3-комнатных."
   ]
  },
  {
   "cell_type": "code",
   "execution_count": 32,
   "metadata": {},
   "outputs": [
    {
     "data": {
      "text/plain": [
       "count    13803.000000\n",
       "mean         2.044193\n",
       "std          0.940216\n",
       "min          0.000000\n",
       "25%          1.000000\n",
       "50%          2.000000\n",
       "75%          3.000000\n",
       "max          5.000000\n",
       "Name: rooms, dtype: float64"
      ]
     },
     "execution_count": 32,
     "metadata": {},
     "output_type": "execute_result"
    }
   ],
   "source": [
    "price_and_flat['rooms'].describe()"
   ]
  },
  {
   "cell_type": "markdown",
   "metadata": {},
   "source": [
    "#### Исследование цен за квадратный метр"
   ]
  },
  {
   "cell_type": "code",
   "execution_count": 33,
   "metadata": {},
   "outputs": [
    {
     "data": {
      "text/plain": [
       "count     13803.000000\n",
       "mean      96235.243932\n",
       "std       30909.088338\n",
       "min         112.000000\n",
       "25%       77674.500000\n",
       "50%       95699.000000\n",
       "75%      114286.000000\n",
       "max      199597.000000\n",
       "Name: price_per_area, dtype: float64"
      ]
     },
     "execution_count": 33,
     "metadata": {},
     "output_type": "execute_result"
    },
    {
     "data": {
      "image/png": "[encoded data removed]",
      "text/plain": [
       "<Figure size 432x288 with 1 Axes>"
      ]
     },
     "metadata": {
      "needs_background": "light"
     },
     "output_type": "display_data"
    }
   ],
   "source": [
    "price_and_flat['price_per_area'].hist(bins=100)\n",
    "#Пик - при 100000 руб/м^2.\n",
    "price_and_flat['price_per_area'].describe()"
   ]
  },
  {
   "cell_type": "markdown",
   "metadata": {},
   "source": [
    "#### Исследование общей площади"
   ]
  },
  {
   "cell_type": "code",
   "execution_count": 34,
   "metadata": {},
   "outputs": [
    {
     "data": {
      "text/plain": [
       "count    13803.000000\n",
       "mean        56.953935\n",
       "std         22.543863\n",
       "min         13.000000\n",
       "25%         40.500000\n",
       "50%         52.000000\n",
       "75%         68.100000\n",
       "max        149.500000\n",
       "Name: total_area, dtype: float64"
      ]
     },
     "execution_count": 34,
     "metadata": {},
     "output_type": "execute_result"
    }
   ],
   "source": [
    "price_and_flat['total_area'].describe()"
   ]
  },
  {
   "cell_type": "code",
   "execution_count": 35,
   "metadata": {},
   "outputs": [
    {
     "data": {
      "text/plain": [
       "<AxesSubplot:>"
      ]
     },
     "execution_count": 35,
     "metadata": {},
     "output_type": "execute_result"
    },
    {
     "data": {
      "image/png": "[encoded data removed]",
      "text/plain": [
       "<Figure size 432x288 with 1 Axes>"
      ]
     },
     "metadata": {
      "needs_background": "light"
     },
     "output_type": "display_data"
    }
   ],
   "source": [
    "price_and_flat['total_area'].hist(bins=50, range=(0,150))\n",
    "#Пик - приблизительно на 45 м^2. Пик поменьше - около 60 м^2"
   ]
  },
  {
   "cell_type": "markdown",
   "metadata": {},
   "source": [
    "#### Исследование жилой площади"
   ]
  },
  {
   "cell_type": "code",
   "execution_count": 36,
   "metadata": {},
   "outputs": [
    {
     "data": {
      "text/plain": [
       "count    13065.000000\n",
       "mean        32.928049\n",
       "std         15.301741\n",
       "min          2.000000\n",
       "25%         19.000000\n",
       "50%         30.000000\n",
       "75%         42.100000\n",
       "max        128.000000\n",
       "Name: living_area, dtype: float64"
      ]
     },
     "execution_count": 36,
     "metadata": {},
     "output_type": "execute_result"
    },
    {
     "data": {
      "image/png": "[encoded data removed]",
      "text/plain": [
       "<Figure size 432x288 with 1 Axes>"
      ]
     },
     "metadata": {
      "needs_background": "light"
     },
     "output_type": "display_data"
    }
   ],
   "source": [
    "price_and_flat['living_area'].hist(bins=50)\n",
    "#Наблюдаем два пика: примерно на 18 м^2 и на 30 м^2\n",
    "price_and_flat['living_area'].describe()"
   ]
  },
  {
   "cell_type": "code",
   "execution_count": 37,
   "metadata": {},
   "outputs": [
    {
     "data": {
      "text/plain": [
       "<AxesSubplot:>"
      ]
     },
     "execution_count": 37,
     "metadata": {},
     "output_type": "execute_result"
    },
    {
     "data": {
      "image/png": "[encoded data removed]",
      "text/plain": [
       "<Figure size 432x288 with 1 Axes>"
      ]
     },
     "metadata": {
      "needs_background": "light"
     },
     "output_type": "display_data"
    }
   ],
   "source": [
    "#Разобьём гистограмму на две части, чтобы аккуратнее посмотреть пики.\n",
    "#Первый пик:\n",
    "price_and_flat['living_area'].hist(bins=25, range=(0,25))"
   ]
  },
  {
   "cell_type": "code",
   "execution_count": 38,
   "metadata": {},
   "outputs": [
    {
     "data": {
      "text/plain": [
       "<AxesSubplot:>"
      ]
     },
     "execution_count": 38,
     "metadata": {},
     "output_type": "execute_result"
    },
    {
     "data": {
      "image/png": "[encoded data removed]",
      "text/plain": [
       "<Figure size 432x288 with 1 Axes>"
      ]
     },
     "metadata": {
      "needs_background": "light"
     },
     "output_type": "display_data"
    }
   ],
   "source": [
    "#Второй пик\n",
    "price_and_flat['living_area'].hist(bins=50, range=(26,100))"
   ]
  },
  {
   "cell_type": "markdown",
   "metadata": {},
   "source": [
    "// Я даже попала с ~18 и ~30...\n",
    "Сильно выбивающихся данных нет.  С учётом того, что квартиры общей площадью больше 150 кв.метров мы отбросили, это неудивительно. \n",
    "Оценим разброс соотношения жилой площади к общей"
   ]
  },
  {
   "cell_type": "code",
   "execution_count": 39,
   "metadata": {},
   "outputs": [
    {
     "data": {
      "text/plain": [
       "<AxesSubplot:>"
      ]
     },
     "execution_count": 39,
     "metadata": {},
     "output_type": "execute_result"
    },
    {
     "data": {
      "image/png": "[encoded data removed]",
      "text/plain": [
       "<Figure size 432x288 with 1 Axes>"
      ]
     },
     "metadata": {
      "needs_background": "light"
     },
     "output_type": "display_data"
    }
   ],
   "source": [
    "price_and_flat['living_per_all_area, %'].hist(bins=100)\n",
    "#Распределение выглядит адекватно, хотя два провала на ~50 и на ~75 неожиданны."
   ]
  },
  {
   "cell_type": "code",
   "execution_count": 40,
   "metadata": {},
   "outputs": [
    {
     "data": {
      "text/plain": [
       "<AxesSubplot:>"
      ]
     },
     "execution_count": 40,
     "metadata": {},
     "output_type": "execute_result"
    },
    {
     "data": {
      "image/png": "[encoded data removed]",
      "text/plain": [
       "<Figure size 432x288 with 1 Axes>"
      ]
     },
     "metadata": {
      "needs_background": "light"
     },
     "output_type": "display_data"
    }
   ],
   "source": [
    "price_and_flat['living_per_all_area, %'].hist(bins=26, range=(40,65))\n",
    "#price_and_flat['living_per_all_area, %'].hist(bins=20, range=(60,80))\n",
    "#Интересно, что при более детальном рассмотрении провалы исчезли. С чем это связано понять не смогла :("
   ]
  },
  {
   "cell_type": "markdown",
   "metadata": {},
   "source": [
    "#### Исследование площади кухни"
   ]
  },
  {
   "cell_type": "code",
   "execution_count": 41,
   "metadata": {},
   "outputs": [
    {
     "data": {
      "text/plain": [
       "count    12933.000000\n",
       "mean        10.022007\n",
       "std          4.786335\n",
       "min          1.300000\n",
       "25%          7.000000\n",
       "50%          9.000000\n",
       "75%         11.400000\n",
       "max         64.000000\n",
       "Name: kitchen_area, dtype: float64"
      ]
     },
     "execution_count": 41,
     "metadata": {},
     "output_type": "execute_result"
    },
    {
     "data": {
      "image/png": "[encoded data removed]",
      "text/plain": [
       "<Figure size 432x288 with 1 Axes>"
      ]
     },
     "metadata": {
      "needs_background": "light"
     },
     "output_type": "display_data"
    }
   ],
   "source": [
    "price_and_flat['kitchen_area'].hist(bins=60)\n",
    "price_and_flat['kitchen_area'].describe()"
   ]
  },
  {
   "cell_type": "code",
   "execution_count": 42,
   "metadata": {
    "scrolled": true
   },
   "outputs": [
    {
     "data": {
      "text/plain": [
       "<AxesSubplot:>"
      ]
     },
     "execution_count": 42,
     "metadata": {},
     "output_type": "execute_result"
    },
    {
     "data": {
      "image/png": "[encoded data removed]",
      "text/plain": [
       "<Figure size 432x288 with 1 Axes>"
      ]
     },
     "metadata": {
      "needs_background": "light"
     },
     "output_type": "display_data"
    }
   ],
   "source": [
    "price_and_flat['kitchen_area'].hist(range=(5,15),bins=10)\n",
    "#Наблюдаем три пика: 7, 9, 11"
   ]
  },
  {
   "cell_type": "code",
   "execution_count": 43,
   "metadata": {},
   "outputs": [
    {
     "data": {
      "text/plain": [
       "<AxesSubplot:>"
      ]
     },
     "execution_count": 43,
     "metadata": {},
     "output_type": "execute_result"
    },
    {
     "data": {
      "image/png": "[encoded data removed]",
      "text/plain": [
       "<Figure size 432x288 with 1 Axes>"
      ]
     },
     "metadata": {
      "needs_background": "light"
     },
     "output_type": "display_data"
    }
   ],
   "source": [
    "price_and_flat['kitchen_area'].hist(range=(50,75),bins=25)\n",
    "#Кухни в 65 метров выглядят странно, но их мало. Предположим, такое и правда может быть."
   ]
  },
  {
   "cell_type": "code",
   "execution_count": 44,
   "metadata": {},
   "outputs": [
    {
     "data": {
      "text/plain": [
       "count    12933.000000\n",
       "mean        18.456893\n",
       "std          7.061028\n",
       "min          5.000000\n",
       "25%         13.000000\n",
       "50%         17.000000\n",
       "75%         23.000000\n",
       "max         72.000000\n",
       "Name: kitchen_per_all_area, %, dtype: float64"
      ]
     },
     "execution_count": 44,
     "metadata": {},
     "output_type": "execute_result"
    },
    {
     "data": {
      "image/png": "[encoded data removed]",
      "text/plain": [
       "<Figure size 432x288 with 1 Axes>"
      ]
     },
     "metadata": {
      "needs_background": "light"
     },
     "output_type": "display_data"
    }
   ],
   "source": [
    "price_and_flat['kitchen_per_all_area, %'].hist(bins=100)\n",
    "price_and_flat['kitchen_per_all_area, %'].describe()"
   ]
  },
  {
   "cell_type": "code",
   "execution_count": 45,
   "metadata": {},
   "outputs": [
    {
     "data": {
      "text/plain": [
       "<AxesSubplot:>"
      ]
     },
     "execution_count": 45,
     "metadata": {},
     "output_type": "execute_result"
    },
    {
     "data": {
      "image/png": "[encoded data removed]",
      "text/plain": [
       "<Figure size 432x288 with 1 Axes>"
      ]
     },
     "metadata": {
      "needs_background": "light"
     },
     "output_type": "display_data"
    }
   ],
   "source": [
    "price_and_flat['kitchen_per_all_area, %'].hist(range=(25,50),bins=25)"
   ]
  },
  {
   "cell_type": "markdown",
   "metadata": {},
   "source": [
    "#### Исследование высоты потолков"
   ]
  },
  {
   "cell_type": "code",
   "execution_count": 46,
   "metadata": {},
   "outputs": [
    {
     "data": {
      "text/plain": [
       "count    13803.000000\n",
       "mean         2.703833\n",
       "std          0.247616\n",
       "min          1.000000\n",
       "25%          2.500000\n",
       "50%          2.650000\n",
       "75%          2.790000\n",
       "max          5.000000\n",
       "Name: ceiling_height, dtype: float64"
      ]
     },
     "execution_count": 46,
     "metadata": {},
     "output_type": "execute_result"
    },
    {
     "data": {
      "image/png": "[encoded data removed]",
      "text/plain": [
       "<Figure size 432x288 with 1 Axes>"
      ]
     },
     "metadata": {
      "needs_background": "light"
     },
     "output_type": "display_data"
    }
   ],
   "source": [
    "price_and_flat['ceiling_height'].hist(range=(1.5,5), bins=50)\n",
    "#Пик - на 2,5 метрах\n",
    "price_and_flat['ceiling_height'].describe()"
   ]
  },
  {
   "cell_type": "markdown",
   "metadata": {},
   "source": [
    "#### Исследование этажей"
   ]
  },
  {
   "cell_type": "code",
   "execution_count": 47,
   "metadata": {},
   "outputs": [
    {
     "data": {
      "text/plain": [
       "<AxesSubplot:>"
      ]
     },
     "execution_count": 47,
     "metadata": {},
     "output_type": "execute_result"
    },
    {
     "data": {
      "image/png": "[encoded data removed]",
      "text/plain": [
       "<Figure size 432x288 with 1 Axes>"
      ]
     },
     "metadata": {
      "needs_background": "light"
     },
     "output_type": "display_data"
    }
   ],
   "source": [
    "price_and_flat['floor'].hist(bins=30)\n",
    "#Пик - на втором этаже, выпадающих данных нет"
   ]
  },
  {
   "cell_type": "code",
   "execution_count": 48,
   "metadata": {},
   "outputs": [
    {
     "data": {
      "text/plain": [
       "count    13803.000000\n",
       "mean         5.637180\n",
       "std          4.635293\n",
       "min          1.000000\n",
       "25%          2.000000\n",
       "50%          4.000000\n",
       "75%          8.000000\n",
       "max         30.000000\n",
       "Name: floor, dtype: float64"
      ]
     },
     "execution_count": 48,
     "metadata": {},
     "output_type": "execute_result"
    },
    {
     "data": {
      "image/png": "[encoded data removed]",
      "text/plain": [
       "<Figure size 432x288 with 1 Axes>"
      ]
     },
     "metadata": {
      "needs_background": "light"
     },
     "output_type": "display_data"
    }
   ],
   "source": [
    "price_and_flat['floor'].hist(range=(1,10),bins=10)\n",
    "price_and_flat['floor'].describe()"
   ]
  },
  {
   "cell_type": "code",
   "execution_count": 49,
   "metadata": {},
   "outputs": [
    {
     "data": {
      "text/plain": [
       "<AxesSubplot:>"
      ]
     },
     "execution_count": 49,
     "metadata": {},
     "output_type": "execute_result"
    },
    {
     "data": {
      "image/png": "[encoded data removed]",
      "text/plain": [
       "<Figure size 432x288 with 1 Axes>"
      ]
     },
     "metadata": {
      "needs_background": "light"
     },
     "output_type": "display_data"
    }
   ],
   "source": [
    "price_and_flat['floor_status'].hist()\n",
    "#Кажется, похоже на правду. Кваритир не на первом и не на последнем этаже больше приблизительно в 5 раз."
   ]
  },
  {
   "cell_type": "code",
   "execution_count": 50,
   "metadata": {
    "scrolled": true
   },
   "outputs": [
    {
     "data": {
      "text/plain": [
       "count    23610.000000\n",
       "mean        10.668869\n",
       "std          6.582055\n",
       "min          1.000000\n",
       "25%          5.000000\n",
       "50%          9.000000\n",
       "75%         16.000000\n",
       "max         36.000000\n",
       "Name: floors_total, dtype: float64"
      ]
     },
     "execution_count": 50,
     "metadata": {},
     "output_type": "execute_result"
    },
    {
     "data": {
      "image/png": "[encoded data removed]",
      "text/plain": [
       "<Figure size 432x288 with 1 Axes>"
      ]
     },
     "metadata": {
      "needs_background": "light"
     },
     "output_type": "display_data"
    }
   ],
   "source": [
    "data['floors_total'].hist(range=(1,20), bins=20)\n",
    "data['floors_total'].describe()\n",
    "#Больше всего в Питере 5- и 9-этажных зданий"
   ]
  },
  {
   "cell_type": "markdown",
   "metadata": {},
   "source": [
    "#### Исследование расстояний"
   ]
  },
  {
   "cell_type": "code",
   "execution_count": 51,
   "metadata": {},
   "outputs": [
    {
     "data": {
      "text/plain": [
       "count    18180.000000\n",
       "mean        14.191309\n",
       "std          8.608045\n",
       "min          0.200000\n",
       "25%          9.200000\n",
       "50%         13.100000\n",
       "75%         16.300000\n",
       "max         66.000000\n",
       "Name: cityCenters_nearest_km, dtype: float64"
      ]
     },
     "execution_count": 51,
     "metadata": {},
     "output_type": "execute_result"
    },
    {
     "data": {
      "image/png": "[encoded data removed]",
      "text/plain": [
       "<Figure size 432x288 with 1 Axes>"
      ]
     },
     "metadata": {
      "needs_background": "light"
     },
     "output_type": "display_data"
    }
   ],
   "source": [
    "price_and_location['cityCenters_nearest_km'].hist(bins=60)\n",
    "price_and_location['cityCenters_nearest_km'].describe()\n",
    "#По заданию нужно было исследовать расстояния в метрах, но, кажется, в километрах оно нагляднее \n",
    "#Большая часть квартир находятся на расстоянии 10-15 км от ацентра города.  Это похоже на правду: \n",
    "#В радиус 15 км попадает весь СПб и множество маленьких населенных пунктов. Максимальное расстояние около 67 км"
   ]
  },
  {
   "cell_type": "code",
   "execution_count": 52,
   "metadata": {},
   "outputs": [
    {
     "data": {
      "text/plain": [
       "count    18157.000000\n",
       "mean        28.793259\n",
       "std         12.630643\n",
       "min          0.000000\n",
       "25%         18.600000\n",
       "50%         26.700000\n",
       "75%         37.300000\n",
       "max         84.900000\n",
       "Name: airports_nearest_km, dtype: float64"
      ]
     },
     "execution_count": 52,
     "metadata": {},
     "output_type": "execute_result"
    },
    {
     "data": {
      "image/png": "[encoded data removed]",
      "text/plain": [
       "<Figure size 432x288 with 1 Axes>"
      ]
     },
     "metadata": {
      "needs_background": "light"
     },
     "output_type": "display_data"
    }
   ],
   "source": [
    "price_and_location['airports_nearest_km'].hist(bins=25)\n",
    "price_and_location['airports_nearest_km'].describe()\n",
    "#Больше всего квартир находятся в 10-30 км от аэропорта. \n",
    "#Опять-таки, попадает весь СПб и окрестности. Максимальное расстояние  - около 80 км"
   ]
  },
  {
   "cell_type": "code",
   "execution_count": 53,
   "metadata": {},
   "outputs": [
    {
     "data": {
      "text/plain": [
       "<AxesSubplot:>"
      ]
     },
     "execution_count": 53,
     "metadata": {},
     "output_type": "execute_result"
    },
    {
     "data": {
      "image/png": "[encoded data removed]",
      "text/plain": [
       "<Figure size 432x288 with 1 Axes>"
      ]
     },
     "metadata": {
      "needs_background": "light"
     },
     "output_type": "display_data"
    }
   ],
   "source": [
    "price_and_location['parks_nearest'].hist(bins=60)\n",
    "#Пик - около 400-500 метров. Максимальное рассстояние - около 3,5 км."
   ]
  },
  {
   "cell_type": "markdown",
   "metadata": {},
   "source": [
    "#### Исследование даты публикации объявления"
   ]
  },
  {
   "cell_type": "code",
   "execution_count": 54,
   "metadata": {},
   "outputs": [
    {
     "data": {
      "text/plain": [
       "<AxesSubplot:>"
      ]
     },
     "execution_count": 54,
     "metadata": {},
     "output_type": "execute_result"
    },
    {
     "data": {
      "image/png": "[encoded data removed]",
      "text/plain": [
       "<Figure size 432x288 with 1 Axes>"
      ]
     },
     "metadata": {
      "needs_background": "light"
     },
     "output_type": "display_data"
    }
   ],
   "source": [
    "price_and_advt['day_of_month'].hist(bins=31)\n",
    "#Равномерненько, но 1-ое и 10-ое числа явно выделяется. 1-ое может быть связано с привычкой человека начинать что-то \n",
    "#cколь-нибудь глобальное с \"красивого\" числа. 10-е объяснить сложнее - но тоже может быть связано с \"красивым\" числом."
   ]
  },
  {
   "cell_type": "code",
   "execution_count": 55,
   "metadata": {},
   "outputs": [
    {
     "data": {
      "text/plain": [
       "<AxesSubplot:>"
      ]
     },
     "execution_count": 55,
     "metadata": {},
     "output_type": "execute_result"
    },
    {
     "data": {
      "image/png": "[encoded data removed]",
      "text/plain": [
       "<Figure size 432x288 with 1 Axes>"
      ]
     },
     "metadata": {
      "needs_background": "light"
     },
     "output_type": "display_data"
    }
   ],
   "source": [
    "price_and_advt['month'].hist(bins=12)\n",
    "#Пики - в феврале-апреле и ноябре. В мае меньше всего. Возможно, это связано с сезонами отпусков и праздников."
   ]
  },
  {
   "cell_type": "markdown",
   "metadata": {},
   "source": [
    "Итак, мы считаем обычной квартиру с числом комнат <6,  стоимостью меньше 100 миллионов, с ценой за квадратный метр <=200000,  общей площадью менее 150 метров, c высотой потолков меньше 5 м. Также считаем, что этажей в здании не может быть больше 37, т.к это противоречит официальным данным."
   ]
  },
  {
   "cell_type": "markdown",
   "metadata": {},
   "source": [
    "### Изучим скорость продажи квартир"
   ]
  },
  {
   "cell_type": "code",
   "execution_count": 56,
   "metadata": {},
   "outputs": [
    {
     "data": {
      "text/plain": [
       "<AxesSubplot:>"
      ]
     },
     "execution_count": 56,
     "metadata": {},
     "output_type": "execute_result"
    },
    {
     "data": {
      "image/png": "[encoded data removed]",
      "text/plain": [
       "<Figure size 432x288 with 1 Axes>"
      ]
     },
     "metadata": {
      "needs_background": "light"
     },
     "output_type": "display_data"
    }
   ],
   "source": [
    "price_and_advt['days_exposition'].hist(bins=50)"
   ]
  },
  {
   "cell_type": "code",
   "execution_count": 57,
   "metadata": {},
   "outputs": [
    {
     "data": {
      "text/plain": [
       "count    23699.000000\n",
       "mean       156.608844\n",
       "std        213.546873\n",
       "min          0.000000\n",
       "25%         22.000000\n",
       "50%         74.000000\n",
       "75%        199.000000\n",
       "max       1580.000000\n",
       "Name: days_exposition, dtype: float64"
      ]
     },
     "execution_count": 57,
     "metadata": {},
     "output_type": "execute_result"
    }
   ],
   "source": [
    "price_and_advt['days_exposition'].describe()"
   ]
  },
  {
   "cell_type": "code",
   "execution_count": 58,
   "metadata": {
    "scrolled": true
   },
   "outputs": [
    {
     "data": {
      "text/plain": [
       "<AxesSubplot:>"
      ]
     },
     "execution_count": 58,
     "metadata": {},
     "output_type": "execute_result"
    },
    {
     "data": {
      "image/png": "[encoded data removed]",
      "text/plain": [
       "<Figure size 432x288 with 1 Axes>"
      ]
     },
     "metadata": {
      "needs_background": "light"
     },
     "output_type": "display_data"
    }
   ],
   "source": [
    "price_and_advt['days_exposition'].hist(range=(0,100),bins=50)\n",
    "#Очень много квартир продаётся в первый же день. Возможно, часть объявлений пропадает,\n",
    "#потому что люди находят ошибки в размещённом объявлении и удаляют его для исправления."
   ]
  },
  {
   "cell_type": "markdown",
   "metadata": {},
   "source": [
    "Итак, будем считать быстрой продажу, занявшую менее 22 дней (меньше первого квантиля) ; долгой - 200 и более дней. Среднее  время продажи равно 156 дням, медиана - 74 дня."
   ]
  },
  {
   "cell_type": "markdown",
   "metadata": {},
   "source": [
    "###  Изучим факторы, влияющие на скорость продажи квартиры"
   ]
  },
  {
   "cell_type": "code",
   "execution_count": 59,
   "metadata": {},
   "outputs": [
    {
     "data": {
      "text/plain": [
       "0.7930306245569048"
      ]
     },
     "execution_count": 59,
     "metadata": {},
     "output_type": "execute_result"
    },
    {
     "data": {
      "image/png": "[encoded data removed]",
      "text/plain": [
       "<Figure size 432x288 with 1 Axes>"
      ]
     },
     "metadata": {
      "needs_background": "light"
     },
     "output_type": "display_data"
    }
   ],
   "source": [
    "#Зависимость от общей площади \n",
    "pivot_table_total_area = price_and_flat.pivot_table(index = 'total_area', values = 'last_price', aggfunc = ['mean', 'count', 'median'])\n",
    "pivot_table_total_area.columns = ['mean', 'count', 'median']\n",
    "pivot_table_total_area.plot(y = 'median', style = 'o',  alpha=0.2)\n",
    "\n",
    "pivot_table_total_area.sort_values('median', ascending = False)\n",
    "\n",
    "price_and_flat['total_area'].corr(price_and_flat['last_price'])\n",
    "\n",
    "\n",
    "#Корреляция сильная - 0,79"
   ]
  },
  {
   "cell_type": "code",
   "execution_count": 60,
   "metadata": {},
   "outputs": [
    {
     "data": {
      "text/plain": [
       "0.4919972930924971"
      ]
     },
     "execution_count": 60,
     "metadata": {},
     "output_type": "execute_result"
    },
    {
     "data": {
      "image/png": "[encoded data removed]",
      "text/plain": [
       "<Figure size 432x288 with 1 Axes>"
      ]
     },
     "metadata": {
      "needs_background": "light"
     },
     "output_type": "display_data"
    }
   ],
   "source": [
    "#Зависимость цены от числа комнат \n",
    "pivot_table_rooms = price_and_flat.pivot_table(index = 'rooms', values = 'last_price', aggfunc = ['mean', 'count', 'median'])\n",
    "pivot_table_rooms.columns = ['mean', 'count', 'median']\n",
    "pivot_table_rooms.plot(y = 'median')\n",
    "\n",
    "pivot_table_rooms.sort_values('median', ascending = False)\n",
    "\n",
    "price_and_flat['rooms'].corr(price_and_flat['last_price'])\n",
    "#Корреляция слабая - 0,49. Зависимость условно можно назвать прямой пропорциональностью - чем больше комнат, тем выше цена квартиры."
   ]
  },
  {
   "cell_type": "code",
   "execution_count": 61,
   "metadata": {
    "scrolled": true
   },
   "outputs": [
    {
     "data": {
      "text/plain": [
       "0.6663562272940086"
      ]
     },
     "execution_count": 61,
     "metadata": {},
     "output_type": "execute_result"
    },
    {
     "data": {
      "image/png": "[encoded data removed]",
      "text/plain": [
       "<Figure size 432x288 with 1 Axes>"
      ]
     },
     "metadata": {
      "needs_background": "light"
     },
     "output_type": "display_data"
    }
   ],
   "source": [
    "#Зависимость цены от \"жилой\" площади\n",
    "pivot_table_living_area = price_and_flat.pivot_table(index = 'living_area', values = 'last_price', aggfunc = ['mean', 'count', 'median'])\n",
    "pivot_table_living_area.columns = ['mean', 'count', 'median']\n",
    "pivot_table_living_area.plot(y = 'median', style = 'o', alpha=0.2)\n",
    "#hw.plot(x='height', y='weight', kind='scatter') \n",
    "pivot_table_living_area.sort_values('median', ascending = False)\n",
    "\n",
    "\n",
    "price_and_flat['living_area'].corr(price_and_flat['last_price'])\n",
    "#Корреляция средняя - 0,67. Определенного типа зависимости нет, хотя при росте жилой площади цена всё-таки увеличивается."
   ]
  },
  {
   "cell_type": "code",
   "execution_count": 62,
   "metadata": {},
   "outputs": [
    {
     "data": {
      "text/plain": [
       "0.5819035291360587"
      ]
     },
     "execution_count": 62,
     "metadata": {},
     "output_type": "execute_result"
    },
    {
     "data": {
      "image/png": "[encoded data removed]",
      "text/plain": [
       "<Figure size 432x288 with 1 Axes>"
      ]
     },
     "metadata": {
      "needs_background": "light"
     },
     "output_type": "display_data"
    }
   ],
   "source": [
    "#Зависимость цены от площади кухни\n",
    "pivot_table_kitchen_area = price_and_flat.pivot_table(index = 'kitchen_area', values = 'last_price', aggfunc = ['mean', 'count', 'median'])\n",
    "pivot_table_kitchen_area.columns = ['mean', 'count', 'median']\n",
    "pivot_table_kitchen_area.plot(y = 'median',style = 'o', alpha=0.3)\n",
    "\n",
    "pivot_table_rooms.sort_values('median', ascending = False)\n",
    "\n",
    "price_and_flat['kitchen_area'].corr(price_and_flat['last_price'])\n",
    "#Корреляция средняя - 0,52. Как и в случае с жилой площадью, определённого типа у зависимости нет, но увеличение всё-таки есть"
   ]
  },
  {
   "cell_type": "code",
   "execution_count": 63,
   "metadata": {},
   "outputs": [
    {
     "data": {
      "text/html": [
       "<div>\n",
       "<style scoped>\n",
       "    .dataframe tbody tr th:only-of-type {\n",
       "        vertical-align: middle;\n",
       "    }\n",
       "\n",
       "    .dataframe tbody tr th {\n",
       "        vertical-align: top;\n",
       "    }\n",
       "\n",
       "    .dataframe thead th {\n",
       "        text-align: right;\n",
       "    }\n",
       "</style>\n",
       "<table border=\"1\" class=\"dataframe\">\n",
       "  <thead>\n",
       "    <tr style=\"text-align: right;\">\n",
       "      <th></th>\n",
       "      <th>mean</th>\n",
       "      <th>count</th>\n",
       "      <th>median</th>\n",
       "    </tr>\n",
       "    <tr>\n",
       "      <th>floor_status</th>\n",
       "      <th></th>\n",
       "      <th></th>\n",
       "      <th></th>\n",
       "    </tr>\n",
       "  </thead>\n",
       "  <tbody>\n",
       "    <tr>\n",
       "      <th>Другой</th>\n",
       "      <td>5.802284e+06</td>\n",
       "      <td>10080</td>\n",
       "      <td>4900000.0</td>\n",
       "    </tr>\n",
       "    <tr>\n",
       "      <th>Первый</th>\n",
       "      <td>4.529502e+06</td>\n",
       "      <td>1766</td>\n",
       "      <td>4000000.0</td>\n",
       "    </tr>\n",
       "    <tr>\n",
       "      <th>Последний</th>\n",
       "      <td>5.245563e+06</td>\n",
       "      <td>1957</td>\n",
       "      <td>4350000.0</td>\n",
       "    </tr>\n",
       "  </tbody>\n",
       "</table>\n",
       "</div>"
      ],
      "text/plain": [
       "                      mean  count     median\n",
       "floor_status                                \n",
       "Другой        5.802284e+06  10080  4900000.0\n",
       "Первый        4.529502e+06   1766  4000000.0\n",
       "Последний     5.245563e+06   1957  4350000.0"
      ]
     },
     "execution_count": 63,
     "metadata": {},
     "output_type": "execute_result"
    },
    {
     "data": {
      "image/png": "[encoded data removed]",
      "text/plain": [
       "<Figure size 432x288 with 1 Axes>"
      ]
     },
     "metadata": {
      "needs_background": "light"
     },
     "output_type": "display_data"
    }
   ],
   "source": [
    "#Зависимость от типа этажа\n",
    "pivot_table_floor_status = price_and_flat.pivot_table(index = 'floor_status', values = 'last_price', aggfunc = ['mean', 'count', 'median'])\n",
    "pivot_table_floor_status.columns = ['mean', 'count', 'median']\n",
    "pivot_table_floor_status.plot(y = 'median')\n",
    "pivot_table_floor_status\n",
    "\n",
    "#Ожидаемо, больше всего стоят \"другие\" этажи. А первые стоят меньше, чем последние - примерно на 9%\n",
    "#Связано, скорее всего, с тем, что проживание на 1 и последнем этаже влечёт за собой некоторые неудобства, и при прочих равных \n",
    "#покупатель, скорее, выберет вариант \"другой\"."
   ]
  },
  {
   "cell_type": "code",
   "execution_count": 64,
   "metadata": {},
   "outputs": [
    {
     "data": {
      "text/html": [
       "<div>\n",
       "<style scoped>\n",
       "    .dataframe tbody tr th:only-of-type {\n",
       "        vertical-align: middle;\n",
       "    }\n",
       "\n",
       "    .dataframe tbody tr th {\n",
       "        vertical-align: top;\n",
       "    }\n",
       "\n",
       "    .dataframe thead th {\n",
       "        text-align: right;\n",
       "    }\n",
       "</style>\n",
       "<table border=\"1\" class=\"dataframe\">\n",
       "  <thead>\n",
       "    <tr style=\"text-align: right;\">\n",
       "      <th></th>\n",
       "      <th>mean</th>\n",
       "      <th>count</th>\n",
       "      <th>median</th>\n",
       "    </tr>\n",
       "    <tr>\n",
       "      <th>day_of_week</th>\n",
       "      <th></th>\n",
       "      <th></th>\n",
       "      <th></th>\n",
       "    </tr>\n",
       "  </thead>\n",
       "  <tbody>\n",
       "    <tr>\n",
       "      <th>Tuesday</th>\n",
       "      <td>6.394233e+06</td>\n",
       "      <td>4183</td>\n",
       "      <td>4730000.0</td>\n",
       "    </tr>\n",
       "    <tr>\n",
       "      <th>Wednesday</th>\n",
       "      <td>6.627970e+06</td>\n",
       "      <td>3974</td>\n",
       "      <td>4700000.0</td>\n",
       "    </tr>\n",
       "    <tr>\n",
       "      <th>Monday</th>\n",
       "      <td>6.511613e+06</td>\n",
       "      <td>3612</td>\n",
       "      <td>4650000.0</td>\n",
       "    </tr>\n",
       "    <tr>\n",
       "      <th>Thursday</th>\n",
       "      <td>6.708663e+06</td>\n",
       "      <td>4295</td>\n",
       "      <td>4650000.0</td>\n",
       "    </tr>\n",
       "    <tr>\n",
       "      <th>Friday</th>\n",
       "      <td>6.372131e+06</td>\n",
       "      <td>4000</td>\n",
       "      <td>4585000.0</td>\n",
       "    </tr>\n",
       "    <tr>\n",
       "      <th>Saturday</th>\n",
       "      <td>6.976804e+06</td>\n",
       "      <td>1936</td>\n",
       "      <td>4555000.0</td>\n",
       "    </tr>\n",
       "    <tr>\n",
       "      <th>Sunday</th>\n",
       "      <td>6.246180e+06</td>\n",
       "      <td>1699</td>\n",
       "      <td>4550000.0</td>\n",
       "    </tr>\n",
       "  </tbody>\n",
       "</table>\n",
       "</div>"
      ],
      "text/plain": [
       "                     mean  count     median\n",
       "day_of_week                                \n",
       "Tuesday      6.394233e+06   4183  4730000.0\n",
       "Wednesday    6.627970e+06   3974  4700000.0\n",
       "Monday       6.511613e+06   3612  4650000.0\n",
       "Thursday     6.708663e+06   4295  4650000.0\n",
       "Friday       6.372131e+06   4000  4585000.0\n",
       "Saturday     6.976804e+06   1936  4555000.0\n",
       "Sunday       6.246180e+06   1699  4550000.0"
      ]
     },
     "execution_count": 64,
     "metadata": {},
     "output_type": "execute_result"
    },
    {
     "data": {
      "image/png": "[encoded data removed]",
      "text/plain": [
       "<Figure size 432x288 with 1 Axes>"
      ]
     },
     "metadata": {
      "needs_background": "light"
     },
     "output_type": "display_data"
    }
   ],
   "source": [
    "#Зависимость от дня размещения\n",
    "pivot_table_day = price_and_advt.pivot_table(index = 'day_of_week', values = 'last_price', aggfunc = ['mean', 'count', 'median'])\n",
    "pivot_table_day.columns = ['mean', 'count', 'median']\n",
    "pivot_table_day.plot(y = 'median')\n",
    "pivot_table_day.sort_values('median', ascending = False)"
   ]
  },
  {
   "cell_type": "markdown",
   "metadata": {},
   "source": [
    "Ниже всего стоимость квартир, выставленных на продажу в выходные. Почему-то мне кажется, что размещение объявления в выходной день означает, что люди занимались этим сами, без риелтора (риелтор разместил бы объявление в свой рабочий день). А риелтор может помочь найти \"сильные стороны\" квартиры, за которые можно было бы поднять цену. \n",
    "Выше всего цена в объявлениях, выставленных во вторник. Возможно, это тоже связано с работой риелторов: в свой выходной люди связываются с риелтором, понедельник используется для сбора информации и подготовки объявления, во вторник объявление выкладывается. "
   ]
  },
  {
   "cell_type": "code",
   "execution_count": 65,
   "metadata": {},
   "outputs": [
    {
     "data": {
      "text/html": [
       "<div>\n",
       "<style scoped>\n",
       "    .dataframe tbody tr th:only-of-type {\n",
       "        vertical-align: middle;\n",
       "    }\n",
       "\n",
       "    .dataframe tbody tr th {\n",
       "        vertical-align: top;\n",
       "    }\n",
       "\n",
       "    .dataframe thead th {\n",
       "        text-align: right;\n",
       "    }\n",
       "</style>\n",
       "<table border=\"1\" class=\"dataframe\">\n",
       "  <thead>\n",
       "    <tr style=\"text-align: right;\">\n",
       "      <th></th>\n",
       "      <th>mean</th>\n",
       "      <th>count</th>\n",
       "      <th>median</th>\n",
       "    </tr>\n",
       "    <tr>\n",
       "      <th>month</th>\n",
       "      <th></th>\n",
       "      <th></th>\n",
       "      <th></th>\n",
       "    </tr>\n",
       "  </thead>\n",
       "  <tbody>\n",
       "    <tr>\n",
       "      <th>4</th>\n",
       "      <td>6.737198e+06</td>\n",
       "      <td>2379</td>\n",
       "      <td>4800000.0</td>\n",
       "    </tr>\n",
       "    <tr>\n",
       "      <th>9</th>\n",
       "      <td>6.825470e+06</td>\n",
       "      <td>1981</td>\n",
       "      <td>4700000.0</td>\n",
       "    </tr>\n",
       "    <tr>\n",
       "      <th>11</th>\n",
       "      <td>6.461363e+06</td>\n",
       "      <td>2371</td>\n",
       "      <td>4700000.0</td>\n",
       "    </tr>\n",
       "    <tr>\n",
       "      <th>12</th>\n",
       "      <td>7.011731e+06</td>\n",
       "      <td>1641</td>\n",
       "      <td>4700000.0</td>\n",
       "    </tr>\n",
       "    <tr>\n",
       "      <th>2</th>\n",
       "      <td>6.468500e+06</td>\n",
       "      <td>2640</td>\n",
       "      <td>4650000.0</td>\n",
       "    </tr>\n",
       "    <tr>\n",
       "      <th>3</th>\n",
       "      <td>6.359275e+06</td>\n",
       "      <td>2587</td>\n",
       "      <td>4650000.0</td>\n",
       "    </tr>\n",
       "    <tr>\n",
       "      <th>7</th>\n",
       "      <td>6.649337e+06</td>\n",
       "      <td>1695</td>\n",
       "      <td>4650000.0</td>\n",
       "    </tr>\n",
       "    <tr>\n",
       "      <th>1</th>\n",
       "      <td>6.668233e+06</td>\n",
       "      <td>1500</td>\n",
       "      <td>4600000.0</td>\n",
       "    </tr>\n",
       "    <tr>\n",
       "      <th>8</th>\n",
       "      <td>6.350233e+06</td>\n",
       "      <td>1744</td>\n",
       "      <td>4570000.0</td>\n",
       "    </tr>\n",
       "    <tr>\n",
       "      <th>10</th>\n",
       "      <td>6.235013e+06</td>\n",
       "      <td>2127</td>\n",
       "      <td>4570000.0</td>\n",
       "    </tr>\n",
       "    <tr>\n",
       "      <th>5</th>\n",
       "      <td>6.600435e+06</td>\n",
       "      <td>1274</td>\n",
       "      <td>4515000.0</td>\n",
       "    </tr>\n",
       "    <tr>\n",
       "      <th>6</th>\n",
       "      <td>6.310269e+06</td>\n",
       "      <td>1760</td>\n",
       "      <td>4400000.0</td>\n",
       "    </tr>\n",
       "  </tbody>\n",
       "</table>\n",
       "</div>"
      ],
      "text/plain": [
       "               mean  count     median\n",
       "month                                \n",
       "4      6.737198e+06   2379  4800000.0\n",
       "9      6.825470e+06   1981  4700000.0\n",
       "11     6.461363e+06   2371  4700000.0\n",
       "12     7.011731e+06   1641  4700000.0\n",
       "2      6.468500e+06   2640  4650000.0\n",
       "3      6.359275e+06   2587  4650000.0\n",
       "7      6.649337e+06   1695  4650000.0\n",
       "1      6.668233e+06   1500  4600000.0\n",
       "8      6.350233e+06   1744  4570000.0\n",
       "10     6.235013e+06   2127  4570000.0\n",
       "5      6.600435e+06   1274  4515000.0\n",
       "6      6.310269e+06   1760  4400000.0"
      ]
     },
     "execution_count": 65,
     "metadata": {},
     "output_type": "execute_result"
    },
    {
     "data": {
      "image/png": "[encoded data removed]",
      "text/plain": [
       "<Figure size 432x288 with 1 Axes>"
      ]
     },
     "metadata": {
      "needs_background": "light"
     },
     "output_type": "display_data"
    }
   ],
   "source": [
    "#Зависимость от месяца\n",
    "pivot_table_day = price_and_advt.pivot_table(index = 'month', values = 'last_price', aggfunc = ['mean', 'count', 'median'])\n",
    "pivot_table_day.columns = ['mean', 'count', 'median']\n",
    "pivot_table_day.plot(y = 'median')\n",
    "pivot_table_day.sort_values('median', ascending = False)"
   ]
  },
  {
   "cell_type": "markdown",
   "metadata": {},
   "source": [
    "Дороже всего квартиры, выставленные на продажу в апреле. Далее цена резко снижается, и снова растёт только с июля.  Следовательно, на рынке присутствует сезонность - вероятнее всего, это связано с отпусками."
   ]
  },
  {
   "cell_type": "code",
   "execution_count": 66,
   "metadata": {
    "scrolled": true
   },
   "outputs": [
    {
     "data": {
      "text/html": [
       "<div>\n",
       "<style scoped>\n",
       "    .dataframe tbody tr th:only-of-type {\n",
       "        vertical-align: middle;\n",
       "    }\n",
       "\n",
       "    .dataframe tbody tr th {\n",
       "        vertical-align: top;\n",
       "    }\n",
       "\n",
       "    .dataframe thead th {\n",
       "        text-align: right;\n",
       "    }\n",
       "</style>\n",
       "<table border=\"1\" class=\"dataframe\">\n",
       "  <thead>\n",
       "    <tr style=\"text-align: right;\">\n",
       "      <th></th>\n",
       "      <th>mean</th>\n",
       "      <th>count</th>\n",
       "      <th>median</th>\n",
       "    </tr>\n",
       "    <tr>\n",
       "      <th>year</th>\n",
       "      <th></th>\n",
       "      <th></th>\n",
       "      <th></th>\n",
       "    </tr>\n",
       "  </thead>\n",
       "  <tbody>\n",
       "    <tr>\n",
       "      <th>2014</th>\n",
       "      <td>1.208714e+07</td>\n",
       "      <td>137</td>\n",
       "      <td>7700000.0</td>\n",
       "    </tr>\n",
       "    <tr>\n",
       "      <th>2015</th>\n",
       "      <td>8.572833e+06</td>\n",
       "      <td>1191</td>\n",
       "      <td>5350000.0</td>\n",
       "    </tr>\n",
       "    <tr>\n",
       "      <th>2019</th>\n",
       "      <td>6.782388e+06</td>\n",
       "      <td>2879</td>\n",
       "      <td>5050000.0</td>\n",
       "    </tr>\n",
       "    <tr>\n",
       "      <th>2016</th>\n",
       "      <td>6.827912e+06</td>\n",
       "      <td>2783</td>\n",
       "      <td>4550000.0</td>\n",
       "    </tr>\n",
       "    <tr>\n",
       "      <th>2018</th>\n",
       "      <td>5.950966e+06</td>\n",
       "      <td>8519</td>\n",
       "      <td>4550000.0</td>\n",
       "    </tr>\n",
       "    <tr>\n",
       "      <th>2017</th>\n",
       "      <td>6.585729e+06</td>\n",
       "      <td>8190</td>\n",
       "      <td>4500000.0</td>\n",
       "    </tr>\n",
       "  </tbody>\n",
       "</table>\n",
       "</div>"
      ],
      "text/plain": [
       "              mean  count     median\n",
       "year                                \n",
       "2014  1.208714e+07    137  7700000.0\n",
       "2015  8.572833e+06   1191  5350000.0\n",
       "2019  6.782388e+06   2879  5050000.0\n",
       "2016  6.827912e+06   2783  4550000.0\n",
       "2018  5.950966e+06   8519  4550000.0\n",
       "2017  6.585729e+06   8190  4500000.0"
      ]
     },
     "execution_count": 66,
     "metadata": {},
     "output_type": "execute_result"
    },
    {
     "data": {
      "image/png": "[encoded data removed]",
      "text/plain": [
       "<Figure size 432x288 with 1 Axes>"
      ]
     },
     "metadata": {
      "needs_background": "light"
     },
     "output_type": "display_data"
    }
   ],
   "source": [
    "#Зависимость от года\n",
    "pivot_table_day = price_and_advt.pivot_table(index = 'year', values = 'last_price', aggfunc = ['mean', 'count', 'median'])\n",
    "pivot_table_day.columns = ['mean', 'count', 'median']\n",
    "pivot_table_day.plot(y = 'median')\n",
    "pivot_table_day.sort_values('median', ascending = False)\n",
    "#Cтоимость квартир снижалась с 2014 по 2016 год. С 2018 года снова начала расти. Возможно, это связано с экономическим кризисом\n",
    "# и сокращением спроса."
   ]
  },
  {
   "cell_type": "code",
   "execution_count": 67,
   "metadata": {},
   "outputs": [
    {
     "data": {
      "text/html": [
       "<div>\n",
       "<style scoped>\n",
       "    .dataframe tbody tr th:only-of-type {\n",
       "        vertical-align: middle;\n",
       "    }\n",
       "\n",
       "    .dataframe tbody tr th {\n",
       "        vertical-align: top;\n",
       "    }\n",
       "\n",
       "    .dataframe thead th {\n",
       "        text-align: right;\n",
       "    }\n",
       "</style>\n",
       "<table border=\"1\" class=\"dataframe\">\n",
       "  <thead>\n",
       "    <tr style=\"text-align: right;\">\n",
       "      <th></th>\n",
       "      <th>mean</th>\n",
       "      <th>count</th>\n",
       "      <th>median</th>\n",
       "    </tr>\n",
       "    <tr>\n",
       "      <th>year</th>\n",
       "      <th></th>\n",
       "      <th></th>\n",
       "      <th></th>\n",
       "    </tr>\n",
       "  </thead>\n",
       "  <tbody>\n",
       "    <tr>\n",
       "      <th>2014</th>\n",
       "      <td>124830.459854</td>\n",
       "      <td>137</td>\n",
       "      <td>107000.0</td>\n",
       "    </tr>\n",
       "    <tr>\n",
       "      <th>2019</th>\n",
       "      <td>107123.773532</td>\n",
       "      <td>2879</td>\n",
       "      <td>103306.0</td>\n",
       "    </tr>\n",
       "    <tr>\n",
       "      <th>2018</th>\n",
       "      <td>97773.557460</td>\n",
       "      <td>8519</td>\n",
       "      <td>95690.0</td>\n",
       "    </tr>\n",
       "    <tr>\n",
       "      <th>2015</th>\n",
       "      <td>104614.206549</td>\n",
       "      <td>1191</td>\n",
       "      <td>93415.0</td>\n",
       "    </tr>\n",
       "    <tr>\n",
       "      <th>2017</th>\n",
       "      <td>97621.874847</td>\n",
       "      <td>8190</td>\n",
       "      <td>92565.0</td>\n",
       "    </tr>\n",
       "    <tr>\n",
       "      <th>2016</th>\n",
       "      <td>98322.341358</td>\n",
       "      <td>2783</td>\n",
       "      <td>91743.0</td>\n",
       "    </tr>\n",
       "  </tbody>\n",
       "</table>\n",
       "</div>"
      ],
      "text/plain": [
       "               mean  count    median\n",
       "year                                \n",
       "2014  124830.459854    137  107000.0\n",
       "2019  107123.773532   2879  103306.0\n",
       "2018   97773.557460   8519   95690.0\n",
       "2015  104614.206549   1191   93415.0\n",
       "2017   97621.874847   8190   92565.0\n",
       "2016   98322.341358   2783   91743.0"
      ]
     },
     "execution_count": 67,
     "metadata": {},
     "output_type": "execute_result"
    },
    {
     "data": {
      "image/png": "[encoded data removed]",
      "text/plain": [
       "<Figure size 432x288 with 1 Axes>"
      ]
     },
     "metadata": {
      "needs_background": "light"
     },
     "output_type": "display_data"
    }
   ],
   "source": [
    "#Зависимость cтоимости квадратного метра от года\n",
    "pivot_table_day = price_and_advt.pivot_table(index = 'year', values = 'price_per_area', aggfunc = ['mean', 'count', 'median'])\n",
    "pivot_table_day.columns = ['mean', 'count', 'median']\n",
    "pivot_table_day.plot(y = 'median')\n",
    "pivot_table_day.sort_values('median', ascending = False)\n",
    "#Cтоимость квадратного метра резко упала  с 2014 по 2015 год. В 2016-ом ещё немного снизилась. \n",
    "#С 2016 по 2017 год цены начали плавно расти, затем с каждым город скорость роста цен увеличивалась."
   ]
  },
  {
   "cell_type": "markdown",
   "metadata": {},
   "source": [
    "#### Вывод\n",
    "Итак, сильнее всего цена квартиры зависит от её площади (корреляция = 0,79). Чуть меньше - от жилой площади (корреляция = 0,67) и от площади кухни (корреляция = 0,52). Слабо зависит от числа комнат (корреляция = 0,49). \n",
    "Больше всего цена в объявлениях, размещённых во вторник, меньше всего - в выходные. Возможно, это косвенно связано с графиком работы риелторов (размещение объявления в выходные может свидетельствовать о продаже кваритиры собственными силами). Также цена в объявлениях падает с мая по июль - возможно, это связано с периодом отпусков. Наконец,  стоимость квартир снижалась с 2014 по 2016 год, и в 2017 году начала увеличиваться. Вероятно, это связано с экономическим кризисом и, соответственно, падением спроса."
   ]
  },
  {
   "cell_type": "markdown",
   "metadata": {},
   "source": [
    "### Посчитаем цену одного квадратного метра в 10 населённых пунктах с наибольшим числом объявлений"
   ]
  },
  {
   "cell_type": "code",
   "execution_count": 68,
   "metadata": {
    "scrolled": true
   },
   "outputs": [
    {
     "data": {
      "text/html": [
       "<div>\n",
       "<style scoped>\n",
       "    .dataframe tbody tr th:only-of-type {\n",
       "        vertical-align: middle;\n",
       "    }\n",
       "\n",
       "    .dataframe tbody tr th {\n",
       "        vertical-align: top;\n",
       "    }\n",
       "\n",
       "    .dataframe thead th {\n",
       "        text-align: right;\n",
       "    }\n",
       "</style>\n",
       "<table border=\"1\" class=\"dataframe\">\n",
       "  <thead>\n",
       "    <tr style=\"text-align: right;\">\n",
       "      <th></th>\n",
       "      <th>count</th>\n",
       "      <th>mean</th>\n",
       "    </tr>\n",
       "    <tr>\n",
       "      <th>locality_name</th>\n",
       "      <th></th>\n",
       "      <th></th>\n",
       "    </tr>\n",
       "  </thead>\n",
       "  <tbody>\n",
       "    <tr>\n",
       "      <th>Санкт-Петербург</th>\n",
       "      <td>15721</td>\n",
       "      <td>114849.005788</td>\n",
       "    </tr>\n",
       "    <tr>\n",
       "      <th>посёлок Мурино</th>\n",
       "      <td>590</td>\n",
       "      <td>86087.508475</td>\n",
       "    </tr>\n",
       "    <tr>\n",
       "      <th>Кудрово</th>\n",
       "      <td>472</td>\n",
       "      <td>95324.957627</td>\n",
       "    </tr>\n",
       "    <tr>\n",
       "      <th>посёлок Шушары</th>\n",
       "      <td>440</td>\n",
       "      <td>78677.379545</td>\n",
       "    </tr>\n",
       "    <tr>\n",
       "      <th>Всеволожск</th>\n",
       "      <td>398</td>\n",
       "      <td>68654.474874</td>\n",
       "    </tr>\n",
       "    <tr>\n",
       "      <th>Пушкин</th>\n",
       "      <td>369</td>\n",
       "      <td>103125.818428</td>\n",
       "    </tr>\n",
       "    <tr>\n",
       "      <th>Колпино</th>\n",
       "      <td>338</td>\n",
       "      <td>75424.571006</td>\n",
       "    </tr>\n",
       "    <tr>\n",
       "      <th>посёлок Парголово</th>\n",
       "      <td>327</td>\n",
       "      <td>90175.886850</td>\n",
       "    </tr>\n",
       "    <tr>\n",
       "      <th>Гатчина</th>\n",
       "      <td>307</td>\n",
       "      <td>68746.110749</td>\n",
       "    </tr>\n",
       "    <tr>\n",
       "      <th>Выборг</th>\n",
       "      <td>237</td>\n",
       "      <td>58141.919831</td>\n",
       "    </tr>\n",
       "  </tbody>\n",
       "</table>\n",
       "</div>"
      ],
      "text/plain": [
       "                   count           mean\n",
       "locality_name                          \n",
       "Санкт-Петербург    15721  114849.005788\n",
       "посёлок Мурино       590   86087.508475\n",
       "Кудрово              472   95324.957627\n",
       "посёлок Шушары       440   78677.379545\n",
       "Всеволожск           398   68654.474874\n",
       "Пушкин               369  103125.818428\n",
       "Колпино              338   75424.571006\n",
       "посёлок Парголово    327   90175.886850\n",
       "Гатчина              307   68746.110749\n",
       "Выборг               237   58141.919831"
      ]
     },
     "execution_count": 68,
     "metadata": {},
     "output_type": "execute_result"
    }
   ],
   "source": [
    "locality_pivot_table = price_and_location.pivot_table(index = 'locality_name', values = 'price_per_area', aggfunc=['count', 'mean'])\n",
    "locality_pivot_table.columns = ['count', 'mean']\n",
    "locality_pivot_table = locality_pivot_table.sort_values('count', ascending = False).head(10)\n",
    "locality_pivot_table\n"
   ]
  },
  {
   "cell_type": "code",
   "execution_count": 69,
   "metadata": {},
   "outputs": [
    {
     "data": {
      "text/plain": [
       "<AxesSubplot:xlabel='locality_name'>"
      ]
     },
     "execution_count": 69,
     "metadata": {},
     "output_type": "execute_result"
    },
    {
     "data": {
      "image/png": "[encoded data removed]",
      "text/plain": [
       "<Figure size 432x288 with 1 Axes>"
      ]
     },
     "metadata": {
      "needs_background": "light"
     },
     "output_type": "display_data"
    }
   ],
   "source": [
    "#Столбчатая диаграмма cредней цены в городах\n",
    "locality_pivot_table.plot(y='mean', kind='bar')"
   ]
  },
  {
   "cell_type": "code",
   "execution_count": 70,
   "metadata": {},
   "outputs": [
    {
     "data": {
      "text/html": [
       "<div>\n",
       "<style scoped>\n",
       "    .dataframe tbody tr th:only-of-type {\n",
       "        vertical-align: middle;\n",
       "    }\n",
       "\n",
       "    .dataframe tbody tr th {\n",
       "        vertical-align: top;\n",
       "    }\n",
       "\n",
       "    .dataframe thead th {\n",
       "        text-align: right;\n",
       "    }\n",
       "</style>\n",
       "<table border=\"1\" class=\"dataframe\">\n",
       "  <thead>\n",
       "    <tr style=\"text-align: right;\">\n",
       "      <th></th>\n",
       "      <th>count</th>\n",
       "      <th>mean</th>\n",
       "    </tr>\n",
       "    <tr>\n",
       "      <th>locality_name</th>\n",
       "      <th></th>\n",
       "      <th></th>\n",
       "    </tr>\n",
       "  </thead>\n",
       "  <tbody>\n",
       "    <tr>\n",
       "      <th>Санкт-Петербург</th>\n",
       "      <td>15721</td>\n",
       "      <td>114849.005788</td>\n",
       "    </tr>\n",
       "  </tbody>\n",
       "</table>\n",
       "</div>"
      ],
      "text/plain": [
       "                 count           mean\n",
       "locality_name                        \n",
       "Санкт-Петербург  15721  114849.005788"
      ]
     },
     "execution_count": 70,
     "metadata": {},
     "output_type": "execute_result"
    }
   ],
   "source": [
    "#Самая высокая стоимость\n",
    "locality_pivot_table[locality_pivot_table['mean']==locality_pivot_table['mean'].max()]"
   ]
  },
  {
   "cell_type": "code",
   "execution_count": 71,
   "metadata": {},
   "outputs": [
    {
     "data": {
      "text/html": [
       "<div>\n",
       "<style scoped>\n",
       "    .dataframe tbody tr th:only-of-type {\n",
       "        vertical-align: middle;\n",
       "    }\n",
       "\n",
       "    .dataframe tbody tr th {\n",
       "        vertical-align: top;\n",
       "    }\n",
       "\n",
       "    .dataframe thead th {\n",
       "        text-align: right;\n",
       "    }\n",
       "</style>\n",
       "<table border=\"1\" class=\"dataframe\">\n",
       "  <thead>\n",
       "    <tr style=\"text-align: right;\">\n",
       "      <th></th>\n",
       "      <th>count</th>\n",
       "      <th>mean</th>\n",
       "    </tr>\n",
       "    <tr>\n",
       "      <th>locality_name</th>\n",
       "      <th></th>\n",
       "      <th></th>\n",
       "    </tr>\n",
       "  </thead>\n",
       "  <tbody>\n",
       "    <tr>\n",
       "      <th>Выборг</th>\n",
       "      <td>237</td>\n",
       "      <td>58141.919831</td>\n",
       "    </tr>\n",
       "  </tbody>\n",
       "</table>\n",
       "</div>"
      ],
      "text/plain": [
       "               count          mean\n",
       "locality_name                     \n",
       "Выборг           237  58141.919831"
      ]
     },
     "execution_count": 71,
     "metadata": {},
     "output_type": "execute_result"
    }
   ],
   "source": [
    "#Cамая низкая стоимость\n",
    "locality_pivot_table[locality_pivot_table['mean']==locality_pivot_table['mean'].min()]"
   ]
  },
  {
   "cell_type": "markdown",
   "metadata": {},
   "source": [
    "#### Вывод:\n",
    "10 населённых пунктов с наибольшим числом объявлений: Санкт-Петербург, посёлок Мурино, Кудрово, посёлок Шушары, Всеволжск, Пушкин, Колпино, посёлок Парголово, Гатчина, Выборг. Ожидаемо, число объявлений в Петербурге на полтора-два порядка больше, чем в остальных объявлениях. \n",
    "Самая большая стоимость жилья, опять же, в Петербурге; самая низкая - в Выборге."
   ]
  },
  {
   "cell_type": "markdown",
   "metadata": {},
   "source": [
    "### Найдём цену каждого километра в СПб"
   ]
  },
  {
   "cell_type": "code",
   "execution_count": 72,
   "metadata": {
    "scrolled": true
   },
   "outputs": [
    {
     "data": {
      "text/html": [
       "<div>\n",
       "<style scoped>\n",
       "    .dataframe tbody tr th:only-of-type {\n",
       "        vertical-align: middle;\n",
       "    }\n",
       "\n",
       "    .dataframe tbody tr th {\n",
       "        vertical-align: top;\n",
       "    }\n",
       "\n",
       "    .dataframe thead th {\n",
       "        text-align: right;\n",
       "    }\n",
       "</style>\n",
       "<table border=\"1\" class=\"dataframe\">\n",
       "  <thead>\n",
       "    <tr style=\"text-align: right;\">\n",
       "      <th></th>\n",
       "      <th>last_price</th>\n",
       "    </tr>\n",
       "    <tr>\n",
       "      <th>cityCenters_nearest_km</th>\n",
       "      <th></th>\n",
       "    </tr>\n",
       "  </thead>\n",
       "  <tbody>\n",
       "    <tr>\n",
       "      <th>0</th>\n",
       "      <td>2.402579e+07</td>\n",
       "    </tr>\n",
       "    <tr>\n",
       "      <th>1</th>\n",
       "      <td>1.897459e+07</td>\n",
       "    </tr>\n",
       "    <tr>\n",
       "      <th>2</th>\n",
       "      <td>1.631810e+07</td>\n",
       "    </tr>\n",
       "    <tr>\n",
       "      <th>3</th>\n",
       "      <td>1.189902e+07</td>\n",
       "    </tr>\n",
       "    <tr>\n",
       "      <th>4</th>\n",
       "      <td>1.411770e+07</td>\n",
       "    </tr>\n",
       "    <tr>\n",
       "      <th>5</th>\n",
       "      <td>1.519757e+07</td>\n",
       "    </tr>\n",
       "    <tr>\n",
       "      <th>6</th>\n",
       "      <td>1.517667e+07</td>\n",
       "    </tr>\n",
       "    <tr>\n",
       "      <th>7</th>\n",
       "      <td>1.300653e+07</td>\n",
       "    </tr>\n",
       "    <tr>\n",
       "      <th>8</th>\n",
       "      <td>8.616643e+06</td>\n",
       "    </tr>\n",
       "    <tr>\n",
       "      <th>9</th>\n",
       "      <td>6.413127e+06</td>\n",
       "    </tr>\n",
       "    <tr>\n",
       "      <th>10</th>\n",
       "      <td>6.503043e+06</td>\n",
       "    </tr>\n",
       "    <tr>\n",
       "      <th>11</th>\n",
       "      <td>5.925200e+06</td>\n",
       "    </tr>\n",
       "    <tr>\n",
       "      <th>12</th>\n",
       "      <td>5.979740e+06</td>\n",
       "    </tr>\n",
       "    <tr>\n",
       "      <th>13</th>\n",
       "      <td>6.027762e+06</td>\n",
       "    </tr>\n",
       "    <tr>\n",
       "      <th>14</th>\n",
       "      <td>5.764216e+06</td>\n",
       "    </tr>\n",
       "    <tr>\n",
       "      <th>15</th>\n",
       "      <td>5.591005e+06</td>\n",
       "    </tr>\n",
       "    <tr>\n",
       "      <th>16</th>\n",
       "      <td>5.454464e+06</td>\n",
       "    </tr>\n",
       "    <tr>\n",
       "      <th>17</th>\n",
       "      <td>5.004018e+06</td>\n",
       "    </tr>\n",
       "    <tr>\n",
       "      <th>18</th>\n",
       "      <td>5.327831e+06</td>\n",
       "    </tr>\n",
       "    <tr>\n",
       "      <th>19</th>\n",
       "      <td>4.657761e+06</td>\n",
       "    </tr>\n",
       "    <tr>\n",
       "      <th>20</th>\n",
       "      <td>6.365864e+06</td>\n",
       "    </tr>\n",
       "    <tr>\n",
       "      <th>21</th>\n",
       "      <td>5.281231e+06</td>\n",
       "    </tr>\n",
       "    <tr>\n",
       "      <th>22</th>\n",
       "      <td>5.287379e+06</td>\n",
       "    </tr>\n",
       "    <tr>\n",
       "      <th>23</th>\n",
       "      <td>4.126867e+06</td>\n",
       "    </tr>\n",
       "    <tr>\n",
       "      <th>24</th>\n",
       "      <td>3.850913e+06</td>\n",
       "    </tr>\n",
       "    <tr>\n",
       "      <th>25</th>\n",
       "      <td>4.016033e+06</td>\n",
       "    </tr>\n",
       "    <tr>\n",
       "      <th>26</th>\n",
       "      <td>3.575000e+06</td>\n",
       "    </tr>\n",
       "    <tr>\n",
       "      <th>27</th>\n",
       "      <td>8.300000e+06</td>\n",
       "    </tr>\n",
       "    <tr>\n",
       "      <th>28</th>\n",
       "      <td>4.910500e+06</td>\n",
       "    </tr>\n",
       "    <tr>\n",
       "      <th>29</th>\n",
       "      <td>3.833333e+06</td>\n",
       "    </tr>\n",
       "  </tbody>\n",
       "</table>\n",
       "</div>"
      ],
      "text/plain": [
       "                          last_price\n",
       "cityCenters_nearest_km              \n",
       "0                       2.402579e+07\n",
       "1                       1.897459e+07\n",
       "2                       1.631810e+07\n",
       "3                       1.189902e+07\n",
       "4                       1.411770e+07\n",
       "5                       1.519757e+07\n",
       "6                       1.517667e+07\n",
       "7                       1.300653e+07\n",
       "8                       8.616643e+06\n",
       "9                       6.413127e+06\n",
       "10                      6.503043e+06\n",
       "11                      5.925200e+06\n",
       "12                      5.979740e+06\n",
       "13                      6.027762e+06\n",
       "14                      5.764216e+06\n",
       "15                      5.591005e+06\n",
       "16                      5.454464e+06\n",
       "17                      5.004018e+06\n",
       "18                      5.327831e+06\n",
       "19                      4.657761e+06\n",
       "20                      6.365864e+06\n",
       "21                      5.281231e+06\n",
       "22                      5.287379e+06\n",
       "23                      4.126867e+06\n",
       "24                      3.850913e+06\n",
       "25                      4.016033e+06\n",
       "26                      3.575000e+06\n",
       "27                      8.300000e+06\n",
       "28                      4.910500e+06\n",
       "29                      3.833333e+06"
      ]
     },
     "execution_count": 72,
     "metadata": {},
     "output_type": "execute_result"
    },
    {
     "data": {
      "image/png": "[encoded data removed]",
      "text/plain": [
       "<Figure size 432x288 with 1 Axes>"
      ]
     },
     "metadata": {
      "needs_background": "light"
     },
     "output_type": "display_data"
    }
   ],
   "source": [
    "price_and_location['cityCenters_nearest_km'] = price_and_location['cityCenters_nearest_km'].fillna(999999)\n",
    "price_and_location['cityCenters_nearest_km'] = price_and_location['cityCenters_nearest_km'].astype('int')\n",
    "pivot_table_km = price_and_location.query('locality_name == \"Санкт-Петербург\" and cityCenters_nearest_km !=999999').pivot_table(index = 'cityCenters_nearest_km', values = 'last_price', aggfunc = 'mean')\n",
    "pivot_table_km.plot()\n",
    "pivot_table_km"
   ]
  },
  {
   "cell_type": "markdown",
   "metadata": {},
   "source": [
    "В среднем, чем ближе к центру города, тем цена за квадратный метр больше. Интересно, что между 3 и 5 км цена снова растёт - возможно, это связано с близостью к Неве?...\n",
    "Также есть пик на 27 км. Возможно, там находится более крупный населённый пункт."
   ]
  },
  {
   "cell_type": "markdown",
   "metadata": {},
   "source": [
    "### Общий вывод"
   ]
  },
  {
   "cell_type": "markdown",
   "metadata": {},
   "source": [
    "Был изучен и обработан массив данных -  архив объявлений о продаже квартир в Санкт-Петербурге и соседних населённых пунктах.\n",
    "Некоторые из данных изменены для более удобного восприятия (часть данных округлена, километры переведены в метры,  и т.д), были устранены дубликаты и заполнены пропущенные значения, где это возможно. \n",
    "\n",
    "Также были установлены \"нормы\" для квартиры, считающейся обычной: \n",
    "* число комнат <6,  \n",
    "* стоимость меньше 100 миллионов, \n",
    "* цена за квадратный метр <=200000,  \n",
    "* общая площадь менее 150 метров, \n",
    "* высота потолков меньше 5 м. \n",
    "* Также считаем, что этажей в здании не может быть больше 37.\n",
    "\n",
    "Квартиры, не подходящие по критериям, не рассматривались\n",
    "\n",
    "Мы считаем быстрой продажу, занявшую менее 22 дней (меньше первого квантиля) ; долгой - 200 и более дней. \n",
    "* Среднее  время продажи равно 156 дням, медиана - 74 дня\n",
    "\n",
    "Было установлено, что\n",
    "* сильнее всего цена квартиры зависит от её площади (корреляция = 0,79). \n",
    "* от жилой площади (корреляция = 0,67) и от площади кухни (корреляция = 0,52) цена квартиры зависит слабее\n",
    "* Слабо зависит от числа комнат (корреляция = 0,49). \n",
    "\n",
    "\n",
    "Больше всего цена в объявлениях, размещённых во вторник, меньше всего - в выходные. Возможно, это косвенно связано с графиком работы риелторов (размещение объявления в выходные может свидетельствовать о продаже кваритиры собственными силами). Также цена в объявлениях падает с мая по июль - возможно, это связано с периодом отпусков. Наконец,  стоимость квартир снижалась с 2014 по 2016 год, и в 2017 году начала увеличиваться. Цены за квадратный метр вели себя схоже: стоимость квадратного метра резко упала  с 2014 по 2015 год. В 2016-ом ещё немного снизилась, с 2016 по 2017 год цены начали плавно расти, затем с каждым город скорость роста цен увеличивалась. Вероятно, это связано с экономическим кризисом и, соответственно, падением спроса.\n",
    "\n",
    "Также было установлено, что из 10 населенных пунктов с наибольшим числом объявлений в Петербурге стоимость квадратного метра самая высокая, а в Выборге - самая низкая. Кроме того, близость к центру города увеличивает стоимость квартиры (что ожидаемо), но на расстоянии 5 км и 27 км наблюдаются пики."
   ]
  },
  {
   "cell_type": "markdown",
   "metadata": {},
   "source": [
    "**Чек-лист готовности проекта**\n",
    "\n",
    "Поставьте 'x' в выполненных пунктах. Далее нажмите Shift+Enter."
   ]
  },
  {
   "cell_type": "markdown",
   "metadata": {},
   "source": [
    "- [x]  открыт файл\n",
    "- [x]  файлы изучены (выведены первые строки, метод `info()`, гистограммы и т.д.)\n",
    "- [x]  определены пропущенные значения\n",
    "- [x]  заполнены пропущенные значения там, где это возможно\n",
    "- [x]  есть пояснение, какие пропущенные значения обнаружены\n",
    "- [x]  изменены типы данных\n",
    "- [x]  есть пояснение, в каких столбцах изменены типы и почему\n",
    "- [x]  устранены неявные дубликаты в названиях населённых пунктов\n",
    "- [x]  устранены редкие и выбивающиеся значения (аномалии) во всех столбцах\n",
    "- [x]  посчитано и добавлено в таблицу: цена одного квадратного метра\n",
    "- [x]  посчитано и добавлено в таблицу: день публикации объявления (0 - понедельник, 1 - вторник и т.д.)\n",
    "- [x]  посчитано и добавлено в таблицу: месяц публикации объявления\n",
    "- [x]  посчитано и добавлено в таблицу: год публикации объявления\n",
    "- [x]  посчитано и добавлено в таблицу: тип этажа квартиры (значения — «первый», «последний», «другой»)\n",
    "- [x]  посчитано и добавлено в таблицу: расстояние в км до центра города\n",
    "- [x]  изучены и описаны следующие параметры:\n",
    "        - общая площадь;\n",
    "        - жилая площадь;\n",
    "        - площадь кухни;\n",
    "        - цена объекта;\n",
    "        - количество комнат;\n",
    "        - высота потолков;\n",
    "        - этаж квартиры;\n",
    "        - тип этажа квартиры («первый», «последний», «другой»);\n",
    "        - общее количество этажей в доме;\n",
    "        - расстояние до центра города в метрах;\n",
    "        - расстояние до ближайшего аэропорта;\n",
    "        - расстояние до ближайшего парка;\n",
    "        - день и месяц публикации объявления\n",
    "- [x]  построены гистограммы для каждого параметра\n",
    "- [x]  выполнено задание: \"Изучите, как быстро продавались квартиры (столбец days_exposition). Этот параметр показывает, сколько дней «висело» каждое объявление.\n",
    "    - Постройте гистограмму.\n",
    "    - Посчитайте среднее и медиану.\n",
    "    - В ячейке типа markdown опишите, сколько обычно занимает продажа. Какие продажи можно считать быстрыми, а какие — необычно долгими?\"\n",
    "- [x]  выполнено задание: \"Какие факторы больше всего влияют на общую (полную) стоимость объекта? Постройте графики, которые покажут зависимость цены от указанных ниже параметров. Для подготовки данных перед визуализацией вы можете использовать сводные таблицы.\"\n",
    "        - общей площади;\n",
    "        - жилой площади;\n",
    "        - площади кухни;\n",
    "        - количество комнат;\n",
    "        - типа этажа, на котором расположена квартира (первый, последний, другой);\n",
    "        - даты размещения (день недели, месяц, год);\n",
    "- [x]  выполнено задание: \"Посчитайте среднюю цену одного квадратного метра в 10 населённых пунктах с наибольшим числом объявлений. Выделите населённые пункты с самой высокой и низкой стоимостью квадратного метра. Эти данные можно найти по имени в столбце `locality_name`.\"\n",
    "- [x]  выполнено задание: \"Ранее вы посчитали расстояние до центра в километрах. Теперь выделите квартиры в Санкт-Петербурге с помощью столбца `locality_name` и вычислите среднюю цену каждого километра. Опишите, как стоимость объектов зависит от расстояния до центра города.\"\n",
    "- [x]  в каждом этапе есть промежуточные выводы\n",
    "- [x]  есть общий вывод"
   ]
  }
 ],
 "metadata": {
  "ExecuteTimeLog": [
   {
    "duration": 737,
    "start_time": "2022-06-30T12:56:47.311Z"
   },
   {
    "duration": 336,
    "start_time": "2022-06-30T12:56:49.405Z"
   },
   {
    "duration": 46,
    "start_time": "2022-06-30T12:57:10.764Z"
   },
   {
    "duration": 4,
    "start_time": "2022-06-30T12:58:29.377Z"
   },
   {
    "duration": 5,
    "start_time": "2022-06-30T12:59:23.344Z"
   },
   {
    "duration": 58,
    "start_time": "2022-06-30T14:15:14.012Z"
   },
   {
    "duration": 284,
    "start_time": "2022-06-30T14:15:40.070Z"
   },
   {
    "duration": 23,
    "start_time": "2022-06-30T14:16:19.648Z"
   },
   {
    "duration": 24,
    "start_time": "2022-06-30T14:16:35.579Z"
   },
   {
    "duration": 18,
    "start_time": "2022-06-30T14:16:46.514Z"
   },
   {
    "duration": 230,
    "start_time": "2022-06-30T14:17:18.159Z"
   },
   {
    "duration": 176,
    "start_time": "2022-06-30T14:17:29.125Z"
   },
   {
    "duration": 187,
    "start_time": "2022-06-30T14:17:45.191Z"
   },
   {
    "duration": 117,
    "start_time": "2022-06-30T14:18:01.736Z"
   },
   {
    "duration": 210,
    "start_time": "2022-06-30T14:18:14.266Z"
   },
   {
    "duration": 138,
    "start_time": "2022-06-30T14:35:30.054Z"
   },
   {
    "duration": 6,
    "start_time": "2022-06-30T16:49:34.674Z"
   },
   {
    "duration": 77,
    "start_time": "2022-06-30T16:53:19.303Z"
   },
   {
    "duration": 7,
    "start_time": "2022-06-30T16:53:30.765Z"
   },
   {
    "duration": 11,
    "start_time": "2022-06-30T16:57:22.869Z"
   },
   {
    "duration": 10,
    "start_time": "2022-06-30T17:07:18.865Z"
   },
   {
    "duration": 14,
    "start_time": "2022-06-30T17:07:36.547Z"
   },
   {
    "duration": 8,
    "start_time": "2022-06-30T17:13:03.833Z"
   },
   {
    "duration": 6,
    "start_time": "2022-06-30T17:15:02.386Z"
   },
   {
    "duration": 12,
    "start_time": "2022-06-30T17:31:15.357Z"
   },
   {
    "duration": 15,
    "start_time": "2022-06-30T17:31:30.490Z"
   },
   {
    "duration": 12,
    "start_time": "2022-06-30T17:32:59.859Z"
   },
   {
    "duration": 25,
    "start_time": "2022-06-30T17:38:30.945Z"
   },
   {
    "duration": 48,
    "start_time": "2022-06-30T17:56:10.937Z"
   },
   {
    "duration": 51,
    "start_time": "2022-06-30T18:04:01.091Z"
   },
   {
    "duration": 42,
    "start_time": "2022-06-30T18:10:19.404Z"
   },
   {
    "duration": 50,
    "start_time": "2022-06-30T18:12:09.986Z"
   },
   {
    "duration": 3,
    "start_time": "2022-06-30T18:12:17.734Z"
   },
   {
    "duration": 111,
    "start_time": "2022-06-30T18:12:17.739Z"
   },
   {
    "duration": 40,
    "start_time": "2022-06-30T18:12:17.852Z"
   },
   {
    "duration": 4,
    "start_time": "2022-06-30T18:12:17.894Z"
   },
   {
    "duration": 7,
    "start_time": "2022-06-30T18:12:17.900Z"
   },
   {
    "duration": 74,
    "start_time": "2022-06-30T18:12:17.909Z"
   },
   {
    "duration": 5,
    "start_time": "2022-06-30T18:12:17.985Z"
   },
   {
    "duration": 61,
    "start_time": "2022-06-30T18:12:17.992Z"
   },
   {
    "duration": 300,
    "start_time": "2022-06-30T18:12:18.055Z"
   },
   {
    "duration": 14,
    "start_time": "2022-06-30T18:12:18.357Z"
   },
   {
    "duration": 27,
    "start_time": "2022-06-30T18:12:18.373Z"
   },
   {
    "duration": 23,
    "start_time": "2022-06-30T18:12:18.402Z"
   },
   {
    "duration": 186,
    "start_time": "2022-06-30T18:12:18.426Z"
   },
   {
    "duration": 171,
    "start_time": "2022-06-30T18:12:18.614Z"
   },
   {
    "duration": 183,
    "start_time": "2022-06-30T18:12:18.786Z"
   },
   {
    "duration": 124,
    "start_time": "2022-06-30T18:12:18.970Z"
   },
   {
    "duration": 217,
    "start_time": "2022-06-30T18:12:19.096Z"
   },
   {
    "duration": 22,
    "start_time": "2022-06-30T19:28:23.390Z"
   },
   {
    "duration": 3,
    "start_time": "2022-06-30T19:28:37.249Z"
   },
   {
    "duration": 109,
    "start_time": "2022-06-30T19:28:37.254Z"
   },
   {
    "duration": 44,
    "start_time": "2022-06-30T19:28:37.365Z"
   },
   {
    "duration": 4,
    "start_time": "2022-06-30T19:28:37.411Z"
   },
   {
    "duration": 8,
    "start_time": "2022-06-30T19:28:37.417Z"
   },
   {
    "duration": 84,
    "start_time": "2022-06-30T19:28:37.426Z"
   },
   {
    "duration": 6,
    "start_time": "2022-06-30T19:28:37.511Z"
   },
   {
    "duration": 66,
    "start_time": "2022-06-30T19:28:37.518Z"
   },
   {
    "duration": 274,
    "start_time": "2022-06-30T19:28:37.586Z"
   },
   {
    "duration": 15,
    "start_time": "2022-06-30T19:28:37.861Z"
   },
   {
    "duration": 23,
    "start_time": "2022-06-30T19:28:37.877Z"
   },
   {
    "duration": 25,
    "start_time": "2022-06-30T19:28:37.901Z"
   },
   {
    "duration": 185,
    "start_time": "2022-06-30T19:28:37.952Z"
   },
   {
    "duration": 154,
    "start_time": "2022-06-30T19:28:38.140Z"
   },
   {
    "duration": 189,
    "start_time": "2022-06-30T19:28:38.295Z"
   },
   {
    "duration": 111,
    "start_time": "2022-06-30T19:28:38.486Z"
   },
   {
    "duration": 141,
    "start_time": "2022-06-30T19:28:38.599Z"
   },
   {
    "duration": 20,
    "start_time": "2022-06-30T20:09:35.495Z"
   },
   {
    "duration": 3,
    "start_time": "2022-06-30T20:09:44.829Z"
   },
   {
    "duration": 110,
    "start_time": "2022-06-30T20:09:44.833Z"
   },
   {
    "duration": 48,
    "start_time": "2022-06-30T20:09:44.945Z"
   },
   {
    "duration": 4,
    "start_time": "2022-06-30T20:09:44.995Z"
   },
   {
    "duration": 16,
    "start_time": "2022-06-30T20:09:45.001Z"
   },
   {
    "duration": 74,
    "start_time": "2022-06-30T20:09:45.019Z"
   },
   {
    "duration": 5,
    "start_time": "2022-06-30T20:09:45.095Z"
   },
   {
    "duration": 63,
    "start_time": "2022-06-30T20:09:45.102Z"
   },
   {
    "duration": 276,
    "start_time": "2022-06-30T20:09:45.166Z"
   },
   {
    "duration": 22,
    "start_time": "2022-06-30T20:09:45.443Z"
   },
   {
    "duration": 25,
    "start_time": "2022-06-30T20:09:45.467Z"
   },
   {
    "duration": 14,
    "start_time": "2022-06-30T20:09:45.493Z"
   },
   {
    "duration": 0,
    "start_time": "2022-06-30T20:09:45.509Z"
   },
   {
    "duration": 0,
    "start_time": "2022-06-30T20:09:45.510Z"
   },
   {
    "duration": 0,
    "start_time": "2022-06-30T20:09:45.511Z"
   },
   {
    "duration": 0,
    "start_time": "2022-06-30T20:09:45.513Z"
   },
   {
    "duration": 0,
    "start_time": "2022-06-30T20:09:45.514Z"
   },
   {
    "duration": 3,
    "start_time": "2022-06-30T20:10:05.000Z"
   },
   {
    "duration": 100,
    "start_time": "2022-06-30T20:10:05.005Z"
   },
   {
    "duration": 35,
    "start_time": "2022-06-30T20:10:05.107Z"
   },
   {
    "duration": 9,
    "start_time": "2022-06-30T20:10:05.144Z"
   },
   {
    "duration": 5,
    "start_time": "2022-06-30T20:10:05.155Z"
   },
   {
    "duration": 56,
    "start_time": "2022-06-30T20:10:05.161Z"
   },
   {
    "duration": 5,
    "start_time": "2022-06-30T20:10:05.219Z"
   },
   {
    "duration": 68,
    "start_time": "2022-06-30T20:10:05.225Z"
   },
   {
    "duration": 266,
    "start_time": "2022-06-30T20:10:05.294Z"
   },
   {
    "duration": 14,
    "start_time": "2022-06-30T20:10:05.561Z"
   },
   {
    "duration": 23,
    "start_time": "2022-06-30T20:10:05.576Z"
   },
   {
    "duration": 16,
    "start_time": "2022-06-30T20:10:05.601Z"
   },
   {
    "duration": 0,
    "start_time": "2022-06-30T20:10:05.618Z"
   },
   {
    "duration": 0,
    "start_time": "2022-06-30T20:10:05.619Z"
   },
   {
    "duration": 0,
    "start_time": "2022-06-30T20:10:05.620Z"
   },
   {
    "duration": 0,
    "start_time": "2022-06-30T20:10:05.621Z"
   },
   {
    "duration": 0,
    "start_time": "2022-06-30T20:10:05.621Z"
   },
   {
    "duration": 18,
    "start_time": "2022-06-30T20:14:58.232Z"
   },
   {
    "duration": 76,
    "start_time": "2022-06-30T20:34:25.896Z"
   },
   {
    "duration": 10,
    "start_time": "2022-06-30T20:34:30.715Z"
   },
   {
    "duration": 19,
    "start_time": "2022-06-30T20:35:19.641Z"
   },
   {
    "duration": 10,
    "start_time": "2022-06-30T20:38:45.554Z"
   },
   {
    "duration": 9,
    "start_time": "2022-06-30T20:38:59.304Z"
   },
   {
    "duration": 25,
    "start_time": "2022-06-30T20:39:06.628Z"
   },
   {
    "duration": 178,
    "start_time": "2022-06-30T21:24:37.941Z"
   },
   {
    "duration": 20,
    "start_time": "2022-06-30T21:32:59.519Z"
   },
   {
    "duration": 681,
    "start_time": "2022-06-30T21:50:43.544Z"
   },
   {
    "duration": 330,
    "start_time": "2022-06-30T21:50:59.212Z"
   },
   {
    "duration": 89,
    "start_time": "2022-07-02T09:16:07.558Z"
   },
   {
    "duration": 47,
    "start_time": "2022-07-02T09:16:27.418Z"
   },
   {
    "duration": 858,
    "start_time": "2022-07-02T09:16:45.724Z"
   },
   {
    "duration": 354,
    "start_time": "2022-07-02T09:16:46.584Z"
   },
   {
    "duration": 52,
    "start_time": "2022-07-02T09:16:46.939Z"
   },
   {
    "duration": 5,
    "start_time": "2022-07-02T09:16:46.993Z"
   },
   {
    "duration": 6,
    "start_time": "2022-07-02T09:16:47.001Z"
   },
   {
    "duration": 87,
    "start_time": "2022-07-02T09:16:47.008Z"
   },
   {
    "duration": 6,
    "start_time": "2022-07-02T09:16:47.097Z"
   },
   {
    "duration": 71,
    "start_time": "2022-07-02T09:16:47.106Z"
   },
   {
    "duration": 337,
    "start_time": "2022-07-02T09:16:47.179Z"
   },
   {
    "duration": 28,
    "start_time": "2022-07-02T09:16:47.518Z"
   },
   {
    "duration": 29,
    "start_time": "2022-07-02T09:16:47.547Z"
   },
   {
    "duration": 203,
    "start_time": "2022-07-02T09:16:47.577Z"
   },
   {
    "duration": 212,
    "start_time": "2022-07-02T09:16:47.782Z"
   },
   {
    "duration": 184,
    "start_time": "2022-07-02T09:16:47.997Z"
   },
   {
    "duration": 219,
    "start_time": "2022-07-02T09:16:48.183Z"
   },
   {
    "duration": 195,
    "start_time": "2022-07-02T09:16:48.404Z"
   },
   {
    "duration": 166,
    "start_time": "2022-07-02T09:16:48.600Z"
   },
   {
    "duration": 181,
    "start_time": "2022-07-02T09:16:59.531Z"
   },
   {
    "duration": 209,
    "start_time": "2022-07-02T09:18:23.801Z"
   },
   {
    "duration": 183,
    "start_time": "2022-07-02T09:18:59.063Z"
   },
   {
    "duration": 24,
    "start_time": "2022-07-02T09:19:22.246Z"
   },
   {
    "duration": 14,
    "start_time": "2022-07-02T09:19:52.034Z"
   },
   {
    "duration": 14,
    "start_time": "2022-07-02T09:20:35.321Z"
   },
   {
    "duration": 24,
    "start_time": "2022-07-02T09:20:46.501Z"
   },
   {
    "duration": 13,
    "start_time": "2022-07-02T09:21:30.763Z"
   },
   {
    "duration": 23,
    "start_time": "2022-07-02T09:23:43.283Z"
   },
   {
    "duration": 24,
    "start_time": "2022-07-02T09:24:10.001Z"
   },
   {
    "duration": 24,
    "start_time": "2022-07-02T09:24:21.015Z"
   },
   {
    "duration": 27,
    "start_time": "2022-07-02T09:24:46.383Z"
   },
   {
    "duration": 29,
    "start_time": "2022-07-02T09:25:26.766Z"
   },
   {
    "duration": 12,
    "start_time": "2022-07-02T09:36:17.157Z"
   },
   {
    "duration": 31,
    "start_time": "2022-07-02T09:37:24.600Z"
   },
   {
    "duration": 26,
    "start_time": "2022-07-02T09:37:40.461Z"
   },
   {
    "duration": 26,
    "start_time": "2022-07-02T09:40:01.041Z"
   },
   {
    "duration": 28,
    "start_time": "2022-07-02T09:40:09.035Z"
   },
   {
    "duration": 29,
    "start_time": "2022-07-02T09:42:35.387Z"
   },
   {
    "duration": 16,
    "start_time": "2022-07-02T09:49:40.043Z"
   },
   {
    "duration": 31,
    "start_time": "2022-07-02T09:50:36.443Z"
   },
   {
    "duration": 29,
    "start_time": "2022-07-02T09:51:08.100Z"
   },
   {
    "duration": 803,
    "start_time": "2022-07-03T13:56:10.696Z"
   },
   {
    "duration": 136,
    "start_time": "2022-07-03T13:56:11.501Z"
   },
   {
    "duration": 60,
    "start_time": "2022-07-03T13:56:11.639Z"
   },
   {
    "duration": 5,
    "start_time": "2022-07-03T13:56:11.701Z"
   },
   {
    "duration": 9,
    "start_time": "2022-07-03T13:56:11.708Z"
   },
   {
    "duration": 85,
    "start_time": "2022-07-03T13:56:11.718Z"
   },
   {
    "duration": 6,
    "start_time": "2022-07-03T13:56:11.804Z"
   },
   {
    "duration": 72,
    "start_time": "2022-07-03T13:56:11.812Z"
   },
   {
    "duration": 323,
    "start_time": "2022-07-03T13:56:11.886Z"
   },
   {
    "duration": 16,
    "start_time": "2022-07-03T13:56:12.211Z"
   },
   {
    "duration": 43,
    "start_time": "2022-07-03T13:56:12.229Z"
   },
   {
    "duration": 35,
    "start_time": "2022-07-03T13:56:12.274Z"
   },
   {
    "duration": 164,
    "start_time": "2022-07-03T13:56:12.311Z"
   },
   {
    "duration": 392,
    "start_time": "2022-07-03T13:56:12.479Z"
   },
   {
    "duration": 218,
    "start_time": "2022-07-03T13:56:12.872Z"
   },
   {
    "duration": 167,
    "start_time": "2022-07-03T13:56:13.092Z"
   },
   {
    "duration": 191,
    "start_time": "2022-07-03T13:56:13.261Z"
   },
   {
    "duration": 126,
    "start_time": "2022-07-03T13:56:13.454Z"
   },
   {
    "duration": 163,
    "start_time": "2022-07-03T13:56:13.582Z"
   },
   {
    "duration": 148,
    "start_time": "2022-07-03T14:00:28.961Z"
   },
   {
    "duration": 168,
    "start_time": "2022-07-03T14:01:07.829Z"
   },
   {
    "duration": 210,
    "start_time": "2022-07-03T14:15:04.696Z"
   },
   {
    "duration": 236,
    "start_time": "2022-07-03T14:15:12.540Z"
   },
   {
    "duration": 255,
    "start_time": "2022-07-03T14:16:50.676Z"
   },
   {
    "duration": 308,
    "start_time": "2022-07-03T14:17:14.291Z"
   },
   {
    "duration": 262,
    "start_time": "2022-07-03T14:36:27.375Z"
   },
   {
    "duration": 11,
    "start_time": "2022-07-03T14:36:49.437Z"
   },
   {
    "duration": 259,
    "start_time": "2022-07-03T14:37:23.849Z"
   },
   {
    "duration": 243,
    "start_time": "2022-07-03T14:37:47.175Z"
   },
   {
    "duration": 24,
    "start_time": "2022-07-03T14:38:18.150Z"
   },
   {
    "duration": 251,
    "start_time": "2022-07-03T14:38:20.949Z"
   },
   {
    "duration": 245,
    "start_time": "2022-07-03T14:38:36.849Z"
   },
   {
    "duration": 8,
    "start_time": "2022-07-03T14:38:44.214Z"
   },
   {
    "duration": 259,
    "start_time": "2022-07-03T14:38:44.225Z"
   },
   {
    "duration": 106,
    "start_time": "2022-07-03T14:38:44.486Z"
   },
   {
    "duration": 18,
    "start_time": "2022-07-03T14:38:44.600Z"
   },
   {
    "duration": 17,
    "start_time": "2022-07-03T14:38:44.624Z"
   },
   {
    "duration": 144,
    "start_time": "2022-07-03T14:38:44.643Z"
   },
   {
    "duration": 13,
    "start_time": "2022-07-03T14:38:44.790Z"
   },
   {
    "duration": 112,
    "start_time": "2022-07-03T14:38:44.806Z"
   },
   {
    "duration": 466,
    "start_time": "2022-07-03T14:38:44.920Z"
   },
   {
    "duration": 30,
    "start_time": "2022-07-03T14:38:45.388Z"
   },
   {
    "duration": 71,
    "start_time": "2022-07-03T14:38:45.421Z"
   },
   {
    "duration": 84,
    "start_time": "2022-07-03T14:38:45.494Z"
   },
   {
    "duration": 199,
    "start_time": "2022-07-03T14:38:45.580Z"
   },
   {
    "duration": 351,
    "start_time": "2022-07-03T14:38:45.786Z"
   },
   {
    "duration": 355,
    "start_time": "2022-07-03T14:38:46.139Z"
   },
   {
    "duration": 344,
    "start_time": "2022-07-03T14:38:46.506Z"
   },
   {
    "duration": 305,
    "start_time": "2022-07-03T14:38:46.869Z"
   },
   {
    "duration": 282,
    "start_time": "2022-07-03T14:38:47.176Z"
   },
   {
    "duration": 207,
    "start_time": "2022-07-03T14:38:47.471Z"
   },
   {
    "duration": 162,
    "start_time": "2022-07-03T14:38:47.685Z"
   },
   {
    "duration": 15,
    "start_time": "2022-07-03T14:38:47.849Z"
   },
   {
    "duration": 4,
    "start_time": "2022-07-03T14:39:08.181Z"
   },
   {
    "duration": 167,
    "start_time": "2022-07-03T14:39:08.198Z"
   },
   {
    "duration": 104,
    "start_time": "2022-07-03T14:39:08.366Z"
   },
   {
    "duration": 30,
    "start_time": "2022-07-03T14:39:08.484Z"
   },
   {
    "duration": 15,
    "start_time": "2022-07-03T14:39:08.519Z"
   },
   {
    "duration": 157,
    "start_time": "2022-07-03T14:39:08.537Z"
   },
   {
    "duration": 18,
    "start_time": "2022-07-03T14:39:08.696Z"
   },
   {
    "duration": 111,
    "start_time": "2022-07-03T14:39:08.716Z"
   },
   {
    "duration": 538,
    "start_time": "2022-07-03T14:39:08.830Z"
   },
   {
    "duration": 50,
    "start_time": "2022-07-03T14:39:09.371Z"
   },
   {
    "duration": 84,
    "start_time": "2022-07-03T14:39:09.422Z"
   },
   {
    "duration": 46,
    "start_time": "2022-07-03T14:39:09.509Z"
   },
   {
    "duration": 271,
    "start_time": "2022-07-03T14:39:09.562Z"
   },
   {
    "duration": 487,
    "start_time": "2022-07-03T14:39:09.838Z"
   },
   {
    "duration": 284,
    "start_time": "2022-07-03T14:39:10.328Z"
   },
   {
    "duration": 296,
    "start_time": "2022-07-03T14:39:10.618Z"
   },
   {
    "duration": 421,
    "start_time": "2022-07-03T14:39:10.917Z"
   },
   {
    "duration": 209,
    "start_time": "2022-07-03T14:39:11.342Z"
   },
   {
    "duration": 266,
    "start_time": "2022-07-03T14:39:11.560Z"
   },
   {
    "duration": 392,
    "start_time": "2022-07-03T14:39:11.830Z"
   },
   {
    "duration": 16,
    "start_time": "2022-07-03T14:39:12.234Z"
   },
   {
    "duration": 5,
    "start_time": "2022-07-03T14:39:41.906Z"
   },
   {
    "duration": 212,
    "start_time": "2022-07-03T14:39:41.914Z"
   },
   {
    "duration": 106,
    "start_time": "2022-07-03T14:39:42.129Z"
   },
   {
    "duration": 6,
    "start_time": "2022-07-03T14:39:42.238Z"
   },
   {
    "duration": 71,
    "start_time": "2022-07-03T14:39:42.246Z"
   },
   {
    "duration": 145,
    "start_time": "2022-07-03T14:39:42.319Z"
   },
   {
    "duration": 9,
    "start_time": "2022-07-03T14:39:42.466Z"
   },
   {
    "duration": 210,
    "start_time": "2022-07-03T14:39:42.477Z"
   },
   {
    "duration": 593,
    "start_time": "2022-07-03T14:39:42.692Z"
   },
   {
    "duration": 32,
    "start_time": "2022-07-03T14:39:43.294Z"
   },
   {
    "duration": 62,
    "start_time": "2022-07-03T14:39:43.332Z"
   },
   {
    "duration": 117,
    "start_time": "2022-07-03T14:39:43.397Z"
   },
   {
    "duration": 208,
    "start_time": "2022-07-03T14:39:43.516Z"
   },
   {
    "duration": 408,
    "start_time": "2022-07-03T14:39:43.726Z"
   },
   {
    "duration": 349,
    "start_time": "2022-07-03T14:39:44.141Z"
   },
   {
    "duration": 323,
    "start_time": "2022-07-03T14:39:44.500Z"
   },
   {
    "duration": 468,
    "start_time": "2022-07-03T14:39:44.826Z"
   },
   {
    "duration": 228,
    "start_time": "2022-07-03T14:39:45.308Z"
   },
   {
    "duration": 252,
    "start_time": "2022-07-03T14:39:45.538Z"
   },
   {
    "duration": 328,
    "start_time": "2022-07-03T14:39:45.792Z"
   },
   {
    "duration": 3,
    "start_time": "2022-07-03T14:39:46.123Z"
   },
   {
    "duration": 250,
    "start_time": "2022-07-03T14:39:55.775Z"
   },
   {
    "duration": 380,
    "start_time": "2022-07-03T14:47:07.691Z"
   },
   {
    "duration": 26,
    "start_time": "2022-07-03T14:47:59.880Z"
   },
   {
    "duration": 164,
    "start_time": "2022-07-03T14:47:59.908Z"
   },
   {
    "duration": 72,
    "start_time": "2022-07-03T14:48:00.074Z"
   },
   {
    "duration": 74,
    "start_time": "2022-07-03T14:48:00.148Z"
   },
   {
    "duration": 19,
    "start_time": "2022-07-03T14:48:00.225Z"
   },
   {
    "duration": 112,
    "start_time": "2022-07-03T14:48:00.246Z"
   },
   {
    "duration": 73,
    "start_time": "2022-07-03T14:48:00.361Z"
   },
   {
    "duration": 99,
    "start_time": "2022-07-03T14:48:00.436Z"
   },
   {
    "duration": 524,
    "start_time": "2022-07-03T14:48:00.538Z"
   },
   {
    "duration": 30,
    "start_time": "2022-07-03T14:48:01.064Z"
   },
   {
    "duration": 142,
    "start_time": "2022-07-03T14:48:01.095Z"
   },
   {
    "duration": 195,
    "start_time": "2022-07-03T14:48:01.239Z"
   },
   {
    "duration": 283,
    "start_time": "2022-07-03T14:48:01.437Z"
   },
   {
    "duration": 508,
    "start_time": "2022-07-03T14:48:01.728Z"
   },
   {
    "duration": 379,
    "start_time": "2022-07-03T14:48:02.243Z"
   },
   {
    "duration": 264,
    "start_time": "2022-07-03T14:48:02.629Z"
   },
   {
    "duration": 379,
    "start_time": "2022-07-03T14:48:02.907Z"
   },
   {
    "duration": 208,
    "start_time": "2022-07-03T14:48:03.294Z"
   },
   {
    "duration": 240,
    "start_time": "2022-07-03T14:48:03.510Z"
   },
   {
    "duration": 282,
    "start_time": "2022-07-03T14:48:03.768Z"
   },
   {
    "duration": 29,
    "start_time": "2022-07-03T14:48:04.057Z"
   },
   {
    "duration": 368,
    "start_time": "2022-07-03T14:48:04.106Z"
   },
   {
    "duration": 3,
    "start_time": "2022-07-03T14:48:50.861Z"
   },
   {
    "duration": 205,
    "start_time": "2022-07-03T14:48:50.865Z"
   },
   {
    "duration": 67,
    "start_time": "2022-07-03T14:48:51.072Z"
   },
   {
    "duration": 5,
    "start_time": "2022-07-03T14:48:51.141Z"
   },
   {
    "duration": 80,
    "start_time": "2022-07-03T14:48:51.148Z"
   },
   {
    "duration": 102,
    "start_time": "2022-07-03T14:48:51.230Z"
   },
   {
    "duration": 8,
    "start_time": "2022-07-03T14:48:51.334Z"
   },
   {
    "duration": 118,
    "start_time": "2022-07-03T14:48:51.344Z"
   },
   {
    "duration": 512,
    "start_time": "2022-07-03T14:48:51.465Z"
   },
   {
    "duration": 22,
    "start_time": "2022-07-03T14:48:51.982Z"
   },
   {
    "duration": 86,
    "start_time": "2022-07-03T14:48:52.011Z"
   },
   {
    "duration": 103,
    "start_time": "2022-07-03T14:48:52.101Z"
   },
   {
    "duration": 229,
    "start_time": "2022-07-03T14:48:52.209Z"
   },
   {
    "duration": 549,
    "start_time": "2022-07-03T14:48:52.441Z"
   },
   {
    "duration": 239,
    "start_time": "2022-07-03T14:48:52.992Z"
   },
   {
    "duration": 280,
    "start_time": "2022-07-03T14:48:53.234Z"
   },
   {
    "duration": 144,
    "start_time": "2022-07-03T14:48:53.517Z"
   },
   {
    "duration": 199,
    "start_time": "2022-07-03T14:48:53.663Z"
   },
   {
    "duration": 211,
    "start_time": "2022-07-03T14:48:53.864Z"
   },
   {
    "duration": 12,
    "start_time": "2022-07-03T14:48:54.077Z"
   },
   {
    "duration": 238,
    "start_time": "2022-07-03T14:48:54.091Z"
   },
   {
    "duration": 186,
    "start_time": "2022-07-03T14:48:54.330Z"
   },
   {
    "duration": 225,
    "start_time": "2022-07-03T14:50:49.913Z"
   },
   {
    "duration": 238,
    "start_time": "2022-07-03T14:51:03.006Z"
   },
   {
    "duration": 186,
    "start_time": "2022-07-03T14:53:54.200Z"
   },
   {
    "duration": 342,
    "start_time": "2022-07-03T14:55:00.644Z"
   },
   {
    "duration": 301,
    "start_time": "2022-07-03T15:05:24.995Z"
   },
   {
    "duration": 231,
    "start_time": "2022-07-03T15:05:38.854Z"
   },
   {
    "duration": 263,
    "start_time": "2022-07-03T15:05:55.795Z"
   },
   {
    "duration": 10,
    "start_time": "2022-07-03T15:06:50.260Z"
   },
   {
    "duration": 256,
    "start_time": "2022-07-03T15:06:50.273Z"
   },
   {
    "duration": 243,
    "start_time": "2022-07-03T15:06:50.531Z"
   },
   {
    "duration": 12,
    "start_time": "2022-07-03T15:06:50.776Z"
   },
   {
    "duration": 120,
    "start_time": "2022-07-03T15:06:50.790Z"
   },
   {
    "duration": 162,
    "start_time": "2022-07-03T15:06:50.913Z"
   },
   {
    "duration": 32,
    "start_time": "2022-07-03T15:06:51.078Z"
   },
   {
    "duration": 100,
    "start_time": "2022-07-03T15:06:51.113Z"
   },
   {
    "duration": 631,
    "start_time": "2022-07-03T15:06:51.215Z"
   },
   {
    "duration": 34,
    "start_time": "2022-07-03T15:06:51.852Z"
   },
   {
    "duration": 148,
    "start_time": "2022-07-03T15:06:51.888Z"
   },
   {
    "duration": 98,
    "start_time": "2022-07-03T15:06:52.039Z"
   },
   {
    "duration": 272,
    "start_time": "2022-07-03T15:06:52.143Z"
   },
   {
    "duration": 457,
    "start_time": "2022-07-03T15:06:52.420Z"
   },
   {
    "duration": 283,
    "start_time": "2022-07-03T15:06:52.879Z"
   },
   {
    "duration": 331,
    "start_time": "2022-07-03T15:06:53.164Z"
   },
   {
    "duration": 181,
    "start_time": "2022-07-03T15:06:53.497Z"
   },
   {
    "duration": 259,
    "start_time": "2022-07-03T15:06:53.683Z"
   },
   {
    "duration": 38,
    "start_time": "2022-07-03T15:06:53.948Z"
   },
   {
    "duration": 328,
    "start_time": "2022-07-03T15:06:54.005Z"
   },
   {
    "duration": 226,
    "start_time": "2022-07-03T15:06:54.339Z"
   },
   {
    "duration": 342,
    "start_time": "2022-07-03T15:06:54.569Z"
   },
   {
    "duration": 211,
    "start_time": "2022-07-03T15:06:54.913Z"
   },
   {
    "duration": 4,
    "start_time": "2022-07-03T15:14:48.071Z"
   },
   {
    "duration": 300,
    "start_time": "2022-07-03T15:16:31.506Z"
   },
   {
    "duration": 310,
    "start_time": "2022-07-03T15:16:42.700Z"
   },
   {
    "duration": 474,
    "start_time": "2022-07-03T15:17:06.444Z"
   },
   {
    "duration": 742,
    "start_time": "2022-07-03T15:17:25.952Z"
   },
   {
    "duration": 3,
    "start_time": "2022-07-03T15:18:48.377Z"
   },
   {
    "duration": 323,
    "start_time": "2022-07-03T15:18:48.387Z"
   },
   {
    "duration": 78,
    "start_time": "2022-07-03T15:18:48.712Z"
   },
   {
    "duration": 76,
    "start_time": "2022-07-03T15:18:48.799Z"
   },
   {
    "duration": 71,
    "start_time": "2022-07-03T15:18:48.880Z"
   },
   {
    "duration": 139,
    "start_time": "2022-07-03T15:18:48.971Z"
   },
   {
    "duration": 19,
    "start_time": "2022-07-03T15:18:49.126Z"
   },
   {
    "duration": 224,
    "start_time": "2022-07-03T15:18:49.150Z"
   },
   {
    "duration": 538,
    "start_time": "2022-07-03T15:18:49.376Z"
   },
   {
    "duration": 27,
    "start_time": "2022-07-03T15:18:49.917Z"
   },
   {
    "duration": 218,
    "start_time": "2022-07-03T15:18:49.948Z"
   },
   {
    "duration": 65,
    "start_time": "2022-07-03T15:18:50.168Z"
   },
   {
    "duration": 250,
    "start_time": "2022-07-03T15:18:50.239Z"
   },
   {
    "duration": 336,
    "start_time": "2022-07-03T15:18:50.495Z"
   },
   {
    "duration": 276,
    "start_time": "2022-07-03T15:18:50.838Z"
   },
   {
    "duration": 445,
    "start_time": "2022-07-03T15:18:51.121Z"
   },
   {
    "duration": 201,
    "start_time": "2022-07-03T15:18:51.573Z"
   },
   {
    "duration": 234,
    "start_time": "2022-07-03T15:18:51.780Z"
   },
   {
    "duration": 21,
    "start_time": "2022-07-03T15:18:52.021Z"
   },
   {
    "duration": 373,
    "start_time": "2022-07-03T15:18:52.051Z"
   },
   {
    "duration": 384,
    "start_time": "2022-07-03T15:18:52.430Z"
   },
   {
    "duration": 422,
    "start_time": "2022-07-03T15:18:52.832Z"
   },
   {
    "duration": 372,
    "start_time": "2022-07-03T15:18:53.258Z"
   },
   {
    "duration": 351,
    "start_time": "2022-07-03T15:18:53.643Z"
   },
   {
    "duration": 11,
    "start_time": "2022-07-03T15:19:18.283Z"
   },
   {
    "duration": 248,
    "start_time": "2022-07-03T15:19:18.314Z"
   },
   {
    "duration": 92,
    "start_time": "2022-07-03T15:19:18.567Z"
   },
   {
    "duration": 88,
    "start_time": "2022-07-03T15:19:18.666Z"
   },
   {
    "duration": 145,
    "start_time": "2022-07-03T15:19:18.773Z"
   },
   {
    "duration": 519,
    "start_time": "2022-07-03T15:19:18.937Z"
   },
   {
    "duration": 34,
    "start_time": "2022-07-03T15:19:19.472Z"
   },
   {
    "duration": 227,
    "start_time": "2022-07-03T15:19:19.514Z"
   },
   {
    "duration": 590,
    "start_time": "2022-07-03T15:19:19.746Z"
   },
   {
    "duration": 31,
    "start_time": "2022-07-03T15:19:20.338Z"
   },
   {
    "duration": 174,
    "start_time": "2022-07-03T15:19:20.375Z"
   },
   {
    "duration": 230,
    "start_time": "2022-07-03T15:19:20.562Z"
   },
   {
    "duration": 338,
    "start_time": "2022-07-03T15:19:20.808Z"
   },
   {
    "duration": 359,
    "start_time": "2022-07-03T15:19:21.155Z"
   },
   {
    "duration": 256,
    "start_time": "2022-07-03T15:19:21.522Z"
   },
   {
    "duration": 372,
    "start_time": "2022-07-03T15:19:21.785Z"
   },
   {
    "duration": 260,
    "start_time": "2022-07-03T15:19:22.171Z"
   },
   {
    "duration": 319,
    "start_time": "2022-07-03T15:19:22.442Z"
   },
   {
    "duration": 30,
    "start_time": "2022-07-03T15:19:22.766Z"
   },
   {
    "duration": 307,
    "start_time": "2022-07-03T15:19:22.803Z"
   },
   {
    "duration": 237,
    "start_time": "2022-07-03T15:19:23.112Z"
   },
   {
    "duration": 350,
    "start_time": "2022-07-03T15:19:23.352Z"
   },
   {
    "duration": 340,
    "start_time": "2022-07-03T15:19:23.709Z"
   },
   {
    "duration": 443,
    "start_time": "2022-07-03T15:19:24.051Z"
   },
   {
    "duration": 3,
    "start_time": "2022-07-03T15:20:10.040Z"
   },
   {
    "duration": 223,
    "start_time": "2022-07-03T15:20:10.046Z"
   },
   {
    "duration": 78,
    "start_time": "2022-07-03T15:20:10.280Z"
   },
   {
    "duration": 8,
    "start_time": "2022-07-03T15:20:10.368Z"
   },
   {
    "duration": 68,
    "start_time": "2022-07-03T15:20:10.378Z"
   },
   {
    "duration": 128,
    "start_time": "2022-07-03T15:20:10.448Z"
   },
   {
    "duration": 56,
    "start_time": "2022-07-03T15:20:10.578Z"
   },
   {
    "duration": 178,
    "start_time": "2022-07-03T15:20:10.636Z"
   },
   {
    "duration": 446,
    "start_time": "2022-07-03T15:20:10.816Z"
   },
   {
    "duration": 29,
    "start_time": "2022-07-03T15:20:11.269Z"
   },
   {
    "duration": 165,
    "start_time": "2022-07-03T15:20:11.305Z"
   },
   {
    "duration": 55,
    "start_time": "2022-07-03T15:20:11.472Z"
   },
   {
    "duration": 267,
    "start_time": "2022-07-03T15:20:11.530Z"
   },
   {
    "duration": 403,
    "start_time": "2022-07-03T15:20:11.799Z"
   },
   {
    "duration": 265,
    "start_time": "2022-07-03T15:20:12.212Z"
   },
   {
    "duration": 423,
    "start_time": "2022-07-03T15:20:12.483Z"
   },
   {
    "duration": 218,
    "start_time": "2022-07-03T15:20:12.923Z"
   },
   {
    "duration": 267,
    "start_time": "2022-07-03T15:20:13.146Z"
   },
   {
    "duration": 11,
    "start_time": "2022-07-03T15:20:13.415Z"
   },
   {
    "duration": 335,
    "start_time": "2022-07-03T15:20:13.430Z"
   },
   {
    "duration": 567,
    "start_time": "2022-07-03T15:20:13.776Z"
   },
   {
    "duration": 456,
    "start_time": "2022-07-03T15:20:14.346Z"
   },
   {
    "duration": 377,
    "start_time": "2022-07-03T15:20:14.822Z"
   },
   {
    "duration": 232,
    "start_time": "2022-07-03T15:20:15.210Z"
   },
   {
    "duration": 6,
    "start_time": "2022-07-03T15:21:26.671Z"
   },
   {
    "duration": 240,
    "start_time": "2022-07-03T15:21:26.679Z"
   },
   {
    "duration": 69,
    "start_time": "2022-07-03T15:21:26.925Z"
   },
   {
    "duration": 34,
    "start_time": "2022-07-03T15:21:26.998Z"
   },
   {
    "duration": 51,
    "start_time": "2022-07-03T15:21:27.037Z"
   },
   {
    "duration": 240,
    "start_time": "2022-07-03T15:21:27.094Z"
   },
   {
    "duration": 16,
    "start_time": "2022-07-03T15:21:27.342Z"
   },
   {
    "duration": 130,
    "start_time": "2022-07-03T15:21:27.368Z"
   },
   {
    "duration": 635,
    "start_time": "2022-07-03T15:21:27.506Z"
   },
   {
    "duration": 66,
    "start_time": "2022-07-03T15:21:28.151Z"
   },
   {
    "duration": 166,
    "start_time": "2022-07-03T15:21:28.224Z"
   },
   {
    "duration": 152,
    "start_time": "2022-07-03T15:21:28.394Z"
   },
   {
    "duration": 295,
    "start_time": "2022-07-03T15:21:28.553Z"
   },
   {
    "duration": 438,
    "start_time": "2022-07-03T15:21:28.853Z"
   },
   {
    "duration": 291,
    "start_time": "2022-07-03T15:21:29.303Z"
   },
   {
    "duration": 350,
    "start_time": "2022-07-03T15:21:29.602Z"
   },
   {
    "duration": 245,
    "start_time": "2022-07-03T15:21:29.965Z"
   },
   {
    "duration": 309,
    "start_time": "2022-07-03T15:21:30.217Z"
   },
   {
    "duration": 15,
    "start_time": "2022-07-03T15:21:30.534Z"
   },
   {
    "duration": 411,
    "start_time": "2022-07-03T15:21:30.551Z"
   },
   {
    "duration": 451,
    "start_time": "2022-07-03T15:21:30.963Z"
   },
   {
    "duration": 512,
    "start_time": "2022-07-03T15:21:31.420Z"
   },
   {
    "duration": 274,
    "start_time": "2022-07-03T15:21:31.936Z"
   },
   {
    "duration": 50,
    "start_time": "2022-07-03T19:36:43.280Z"
   },
   {
    "duration": 836,
    "start_time": "2022-07-03T19:36:48.778Z"
   },
   {
    "duration": 351,
    "start_time": "2022-07-03T19:36:49.617Z"
   },
   {
    "duration": 51,
    "start_time": "2022-07-03T19:36:49.970Z"
   },
   {
    "duration": 5,
    "start_time": "2022-07-03T19:36:50.022Z"
   },
   {
    "duration": 11,
    "start_time": "2022-07-03T19:36:50.029Z"
   },
   {
    "duration": 77,
    "start_time": "2022-07-03T19:36:50.042Z"
   },
   {
    "duration": 8,
    "start_time": "2022-07-03T19:36:50.121Z"
   },
   {
    "duration": 52,
    "start_time": "2022-07-03T19:36:50.148Z"
   },
   {
    "duration": 339,
    "start_time": "2022-07-03T19:36:50.201Z"
   },
   {
    "duration": 24,
    "start_time": "2022-07-03T19:36:50.546Z"
   },
   {
    "duration": 28,
    "start_time": "2022-07-03T19:36:50.571Z"
   },
   {
    "duration": 52,
    "start_time": "2022-07-03T19:36:50.601Z"
   },
   {
    "duration": 161,
    "start_time": "2022-07-03T19:36:50.655Z"
   },
   {
    "duration": 275,
    "start_time": "2022-07-03T19:36:50.819Z"
   },
   {
    "duration": 230,
    "start_time": "2022-07-03T19:36:51.096Z"
   },
   {
    "duration": 272,
    "start_time": "2022-07-03T19:36:51.327Z"
   },
   {
    "duration": 137,
    "start_time": "2022-07-03T19:36:51.601Z"
   },
   {
    "duration": 173,
    "start_time": "2022-07-03T19:36:51.741Z"
   },
   {
    "duration": 8,
    "start_time": "2022-07-03T19:36:51.916Z"
   },
   {
    "duration": 209,
    "start_time": "2022-07-03T19:36:51.926Z"
   },
   {
    "duration": 297,
    "start_time": "2022-07-03T19:36:52.137Z"
   },
   {
    "duration": 279,
    "start_time": "2022-07-03T19:36:52.442Z"
   },
   {
    "duration": 181,
    "start_time": "2022-07-03T19:36:52.722Z"
   },
   {
    "duration": 182,
    "start_time": "2022-07-03T19:38:46.042Z"
   },
   {
    "duration": 165,
    "start_time": "2022-07-03T19:44:11.491Z"
   },
   {
    "duration": 215,
    "start_time": "2022-07-03T19:44:16.107Z"
   },
   {
    "duration": 287,
    "start_time": "2022-07-03T19:47:27.521Z"
   },
   {
    "duration": 191,
    "start_time": "2022-07-03T19:48:30.139Z"
   },
   {
    "duration": 182,
    "start_time": "2022-07-03T19:50:22.985Z"
   },
   {
    "duration": 194,
    "start_time": "2022-07-03T19:50:52.228Z"
   },
   {
    "duration": 168,
    "start_time": "2022-07-03T19:51:11.658Z"
   },
   {
    "duration": 168,
    "start_time": "2022-07-03T19:53:02.903Z"
   },
   {
    "duration": 215,
    "start_time": "2022-07-03T19:54:02.695Z"
   },
   {
    "duration": 208,
    "start_time": "2022-07-03T20:00:36.103Z"
   },
   {
    "duration": 346,
    "start_time": "2022-07-03T20:00:52.060Z"
   },
   {
    "duration": 253,
    "start_time": "2022-07-03T20:03:38.784Z"
   },
   {
    "duration": 175,
    "start_time": "2022-07-03T20:05:43.315Z"
   },
   {
    "duration": 165,
    "start_time": "2022-07-03T20:06:04.806Z"
   },
   {
    "duration": 447,
    "start_time": "2022-07-03T21:05:18.516Z"
   },
   {
    "duration": 157,
    "start_time": "2022-07-03T21:05:29.626Z"
   },
   {
    "duration": 149,
    "start_time": "2022-07-03T21:06:22.992Z"
   },
   {
    "duration": 371,
    "start_time": "2022-07-03T21:07:12.421Z"
   },
   {
    "duration": 190,
    "start_time": "2022-07-03T21:07:20.411Z"
   },
   {
    "duration": 152,
    "start_time": "2022-07-03T21:07:47.295Z"
   },
   {
    "duration": 157,
    "start_time": "2022-07-03T21:08:13.957Z"
   },
   {
    "duration": 129,
    "start_time": "2022-07-03T21:09:23.211Z"
   },
   {
    "duration": 142,
    "start_time": "2022-07-03T21:10:43.361Z"
   },
   {
    "duration": 160,
    "start_time": "2022-07-03T21:10:52.255Z"
   },
   {
    "duration": 148,
    "start_time": "2022-07-03T21:12:23.123Z"
   },
   {
    "duration": 159,
    "start_time": "2022-07-03T21:13:11.108Z"
   },
   {
    "duration": 151,
    "start_time": "2022-07-03T21:13:26.307Z"
   },
   {
    "duration": 144,
    "start_time": "2022-07-03T21:13:33.064Z"
   },
   {
    "duration": 142,
    "start_time": "2022-07-03T21:13:53.188Z"
   },
   {
    "duration": 133,
    "start_time": "2022-07-03T21:20:42.855Z"
   },
   {
    "duration": 135,
    "start_time": "2022-07-03T21:20:55.053Z"
   },
   {
    "duration": 284,
    "start_time": "2022-07-03T21:21:04.102Z"
   },
   {
    "duration": 140,
    "start_time": "2022-07-03T21:21:10.646Z"
   },
   {
    "duration": 149,
    "start_time": "2022-07-03T21:21:26.711Z"
   },
   {
    "duration": 127,
    "start_time": "2022-07-03T21:21:37.108Z"
   },
   {
    "duration": 65,
    "start_time": "2022-07-04T20:40:19.133Z"
   },
   {
    "duration": 775,
    "start_time": "2022-07-04T20:40:23.314Z"
   },
   {
    "duration": 138,
    "start_time": "2022-07-04T20:40:24.091Z"
   },
   {
    "duration": 46,
    "start_time": "2022-07-04T20:40:24.231Z"
   },
   {
    "duration": 5,
    "start_time": "2022-07-04T20:40:24.279Z"
   },
   {
    "duration": 11,
    "start_time": "2022-07-04T20:40:24.285Z"
   },
   {
    "duration": 75,
    "start_time": "2022-07-04T20:40:24.297Z"
   },
   {
    "duration": 7,
    "start_time": "2022-07-04T20:40:24.373Z"
   },
   {
    "duration": 46,
    "start_time": "2022-07-04T20:40:24.382Z"
   },
   {
    "duration": 321,
    "start_time": "2022-07-04T20:40:24.429Z"
   },
   {
    "duration": 21,
    "start_time": "2022-07-04T20:40:24.752Z"
   },
   {
    "duration": 34,
    "start_time": "2022-07-04T20:40:24.775Z"
   },
   {
    "duration": 29,
    "start_time": "2022-07-04T20:40:24.811Z"
   },
   {
    "duration": 161,
    "start_time": "2022-07-04T20:40:24.841Z"
   },
   {
    "duration": 242,
    "start_time": "2022-07-04T20:40:25.004Z"
   },
   {
    "duration": 243,
    "start_time": "2022-07-04T20:40:25.248Z"
   },
   {
    "duration": 190,
    "start_time": "2022-07-04T20:40:25.493Z"
   },
   {
    "duration": 115,
    "start_time": "2022-07-04T20:40:25.685Z"
   },
   {
    "duration": 152,
    "start_time": "2022-07-04T20:40:25.802Z"
   },
   {
    "duration": 10,
    "start_time": "2022-07-04T20:40:25.956Z"
   },
   {
    "duration": 173,
    "start_time": "2022-07-04T20:40:25.968Z"
   },
   {
    "duration": 258,
    "start_time": "2022-07-04T20:40:26.142Z"
   },
   {
    "duration": 232,
    "start_time": "2022-07-04T20:40:26.402Z"
   },
   {
    "duration": 158,
    "start_time": "2022-07-04T20:40:26.635Z"
   },
   {
    "duration": 181,
    "start_time": "2022-07-04T20:40:26.795Z"
   },
   {
    "duration": 251,
    "start_time": "2022-07-04T20:40:26.977Z"
   },
   {
    "duration": 209,
    "start_time": "2022-07-04T20:40:27.230Z"
   },
   {
    "duration": 220,
    "start_time": "2022-07-04T20:40:27.441Z"
   },
   {
    "duration": 131,
    "start_time": "2022-07-04T20:40:27.664Z"
   },
   {
    "duration": 221,
    "start_time": "2022-07-04T20:44:37.686Z"
   },
   {
    "duration": 134,
    "start_time": "2022-07-04T20:45:15.130Z"
   },
   {
    "duration": 225,
    "start_time": "2022-07-04T20:48:37.416Z"
   },
   {
    "duration": 216,
    "start_time": "2022-07-04T20:49:20.001Z"
   },
   {
    "duration": 204,
    "start_time": "2022-07-04T20:50:44.241Z"
   },
   {
    "duration": 135,
    "start_time": "2022-07-04T20:50:55.419Z"
   },
   {
    "duration": 174,
    "start_time": "2022-07-04T20:51:07.964Z"
   },
   {
    "duration": 138,
    "start_time": "2022-07-04T20:53:56.829Z"
   },
   {
    "duration": 151,
    "start_time": "2022-07-04T20:54:21.101Z"
   },
   {
    "duration": 181,
    "start_time": "2022-07-04T20:55:37.162Z"
   },
   {
    "duration": 193,
    "start_time": "2022-07-04T20:56:01.716Z"
   },
   {
    "duration": 159,
    "start_time": "2022-07-04T20:57:31.504Z"
   },
   {
    "duration": 772,
    "start_time": "2022-07-07T12:18:56.124Z"
   },
   {
    "duration": 132,
    "start_time": "2022-07-07T12:18:56.898Z"
   },
   {
    "duration": 47,
    "start_time": "2022-07-07T12:18:57.032Z"
   },
   {
    "duration": 4,
    "start_time": "2022-07-07T12:18:57.081Z"
   },
   {
    "duration": 8,
    "start_time": "2022-07-07T12:18:57.087Z"
   },
   {
    "duration": 80,
    "start_time": "2022-07-07T12:18:57.097Z"
   },
   {
    "duration": 7,
    "start_time": "2022-07-07T12:18:57.178Z"
   },
   {
    "duration": 62,
    "start_time": "2022-07-07T12:18:57.187Z"
   },
   {
    "duration": 317,
    "start_time": "2022-07-07T12:18:57.250Z"
   },
   {
    "duration": 20,
    "start_time": "2022-07-07T12:18:57.569Z"
   },
   {
    "duration": 57,
    "start_time": "2022-07-07T12:18:57.591Z"
   },
   {
    "duration": 42,
    "start_time": "2022-07-07T12:18:57.650Z"
   },
   {
    "duration": 149,
    "start_time": "2022-07-07T12:18:57.694Z"
   },
   {
    "duration": 228,
    "start_time": "2022-07-07T12:18:57.846Z"
   },
   {
    "duration": 173,
    "start_time": "2022-07-07T12:18:58.075Z"
   },
   {
    "duration": 277,
    "start_time": "2022-07-07T12:18:58.250Z"
   },
   {
    "duration": 124,
    "start_time": "2022-07-07T12:18:58.528Z"
   },
   {
    "duration": 152,
    "start_time": "2022-07-07T12:18:58.653Z"
   },
   {
    "duration": 8,
    "start_time": "2022-07-07T12:18:58.806Z"
   },
   {
    "duration": 173,
    "start_time": "2022-07-07T12:18:58.816Z"
   },
   {
    "duration": 247,
    "start_time": "2022-07-07T12:18:58.991Z"
   },
   {
    "duration": 236,
    "start_time": "2022-07-07T12:18:59.240Z"
   },
   {
    "duration": 140,
    "start_time": "2022-07-07T12:18:59.478Z"
   },
   {
    "duration": 166,
    "start_time": "2022-07-07T12:18:59.620Z"
   },
   {
    "duration": 175,
    "start_time": "2022-07-07T12:18:59.787Z"
   },
   {
    "duration": 263,
    "start_time": "2022-07-07T12:18:59.964Z"
   },
   {
    "duration": 233,
    "start_time": "2022-07-07T12:19:00.228Z"
   },
   {
    "duration": 171,
    "start_time": "2022-07-07T12:19:00.463Z"
   },
   {
    "duration": 139,
    "start_time": "2022-07-07T12:21:06.835Z"
   },
   {
    "duration": 122,
    "start_time": "2022-07-07T12:21:19.184Z"
   },
   {
    "duration": 152,
    "start_time": "2022-07-07T12:21:43.504Z"
   },
   {
    "duration": 130,
    "start_time": "2022-07-07T12:21:49.740Z"
   },
   {
    "duration": 163,
    "start_time": "2022-07-07T12:32:25.965Z"
   },
   {
    "duration": 128,
    "start_time": "2022-07-07T12:32:33.011Z"
   },
   {
    "duration": 179,
    "start_time": "2022-07-07T12:32:47.608Z"
   },
   {
    "duration": 275,
    "start_time": "2022-07-07T12:34:14.634Z"
   },
   {
    "duration": 149,
    "start_time": "2022-07-07T12:34:26.421Z"
   },
   {
    "duration": 127,
    "start_time": "2022-07-07T12:35:03.501Z"
   },
   {
    "duration": 144,
    "start_time": "2022-07-07T12:36:17.353Z"
   },
   {
    "duration": 131,
    "start_time": "2022-07-07T12:37:27.579Z"
   },
   {
    "duration": 1151,
    "start_time": "2022-07-07T12:40:04.350Z"
   },
   {
    "duration": 225,
    "start_time": "2022-07-07T12:40:42.762Z"
   },
   {
    "duration": 165,
    "start_time": "2022-07-07T12:41:31.679Z"
   },
   {
    "duration": 2,
    "start_time": "2022-07-07T12:43:17.010Z"
   },
   {
    "duration": 130,
    "start_time": "2022-07-07T12:57:09.376Z"
   },
   {
    "duration": 144,
    "start_time": "2022-07-07T12:57:37.516Z"
   },
   {
    "duration": 115,
    "start_time": "2022-07-07T12:57:39.583Z"
   },
   {
    "duration": 130,
    "start_time": "2022-07-07T12:57:48.029Z"
   },
   {
    "duration": 240,
    "start_time": "2022-07-07T12:58:34.965Z"
   },
   {
    "duration": 185,
    "start_time": "2022-07-07T12:58:47.376Z"
   },
   {
    "duration": 179,
    "start_time": "2022-07-07T12:59:01.878Z"
   },
   {
    "duration": 122,
    "start_time": "2022-07-07T12:59:35.997Z"
   },
   {
    "duration": 111,
    "start_time": "2022-07-07T12:59:56.847Z"
   },
   {
    "duration": 110,
    "start_time": "2022-07-07T13:02:18.787Z"
   },
   {
    "duration": 119,
    "start_time": "2022-07-07T13:02:27.630Z"
   },
   {
    "duration": 124,
    "start_time": "2022-07-07T13:03:02.011Z"
   },
   {
    "duration": 121,
    "start_time": "2022-07-07T13:37:10.058Z"
   },
   {
    "duration": 176,
    "start_time": "2022-07-07T13:37:26.217Z"
   },
   {
    "duration": 133,
    "start_time": "2022-07-07T13:44:32.811Z"
   },
   {
    "duration": 3,
    "start_time": "2022-07-07T13:44:44.867Z"
   },
   {
    "duration": 104,
    "start_time": "2022-07-07T13:44:44.872Z"
   },
   {
    "duration": 51,
    "start_time": "2022-07-07T13:44:44.978Z"
   },
   {
    "duration": 5,
    "start_time": "2022-07-07T13:44:45.030Z"
   },
   {
    "duration": 9,
    "start_time": "2022-07-07T13:44:45.038Z"
   },
   {
    "duration": 80,
    "start_time": "2022-07-07T13:44:45.048Z"
   },
   {
    "duration": 6,
    "start_time": "2022-07-07T13:44:45.130Z"
   },
   {
    "duration": 46,
    "start_time": "2022-07-07T13:44:45.138Z"
   },
   {
    "duration": 294,
    "start_time": "2022-07-07T13:44:45.185Z"
   },
   {
    "duration": 15,
    "start_time": "2022-07-07T13:44:45.480Z"
   },
   {
    "duration": 42,
    "start_time": "2022-07-07T13:44:45.498Z"
   },
   {
    "duration": 32,
    "start_time": "2022-07-07T13:44:45.542Z"
   },
   {
    "duration": 139,
    "start_time": "2022-07-07T13:44:45.577Z"
   },
   {
    "duration": 238,
    "start_time": "2022-07-07T13:44:45.717Z"
   },
   {
    "duration": 185,
    "start_time": "2022-07-07T13:44:45.957Z"
   },
   {
    "duration": 354,
    "start_time": "2022-07-07T13:44:46.144Z"
   },
   {
    "duration": 123,
    "start_time": "2022-07-07T13:44:46.500Z"
   },
   {
    "duration": 149,
    "start_time": "2022-07-07T13:44:46.625Z"
   },
   {
    "duration": 8,
    "start_time": "2022-07-07T13:44:46.776Z"
   },
   {
    "duration": 176,
    "start_time": "2022-07-07T13:44:46.786Z"
   },
   {
    "duration": 268,
    "start_time": "2022-07-07T13:44:46.964Z"
   },
   {
    "duration": 334,
    "start_time": "2022-07-07T13:44:47.234Z"
   },
   {
    "duration": 150,
    "start_time": "2022-07-07T13:44:47.569Z"
   },
   {
    "duration": 180,
    "start_time": "2022-07-07T13:44:47.724Z"
   },
   {
    "duration": 174,
    "start_time": "2022-07-07T13:44:47.906Z"
   },
   {
    "duration": 212,
    "start_time": "2022-07-07T13:44:48.081Z"
   },
   {
    "duration": 236,
    "start_time": "2022-07-07T13:44:48.295Z"
   },
   {
    "duration": 143,
    "start_time": "2022-07-07T13:44:48.533Z"
   },
   {
    "duration": 196,
    "start_time": "2022-07-07T13:44:48.679Z"
   },
   {
    "duration": 298,
    "start_time": "2022-07-07T13:44:48.877Z"
   },
   {
    "duration": 157,
    "start_time": "2022-07-07T13:44:49.176Z"
   },
   {
    "duration": 248,
    "start_time": "2022-07-07T13:44:49.335Z"
   },
   {
    "duration": 167,
    "start_time": "2022-07-07T13:44:49.585Z"
   },
   {
    "duration": 146,
    "start_time": "2022-07-07T13:44:49.754Z"
   },
   {
    "duration": 197,
    "start_time": "2022-07-07T13:44:49.902Z"
   },
   {
    "duration": 125,
    "start_time": "2022-07-07T13:44:50.101Z"
   },
   {
    "duration": 178,
    "start_time": "2022-07-07T13:44:50.228Z"
   },
   {
    "duration": 161,
    "start_time": "2022-07-07T13:45:13.245Z"
   },
   {
    "duration": 3,
    "start_time": "2022-07-07T13:45:24.960Z"
   },
   {
    "duration": 99,
    "start_time": "2022-07-07T13:45:24.964Z"
   },
   {
    "duration": 44,
    "start_time": "2022-07-07T13:45:25.064Z"
   },
   {
    "duration": 17,
    "start_time": "2022-07-07T13:45:25.109Z"
   },
   {
    "duration": 8,
    "start_time": "2022-07-07T13:45:25.129Z"
   },
   {
    "duration": 59,
    "start_time": "2022-07-07T13:45:25.139Z"
   },
   {
    "duration": 24,
    "start_time": "2022-07-07T13:45:25.200Z"
   },
   {
    "duration": 56,
    "start_time": "2022-07-07T13:45:25.226Z"
   },
   {
    "duration": 293,
    "start_time": "2022-07-07T13:45:25.284Z"
   },
   {
    "duration": 14,
    "start_time": "2022-07-07T13:45:25.579Z"
   },
   {
    "duration": 44,
    "start_time": "2022-07-07T13:45:25.594Z"
   },
   {
    "duration": 26,
    "start_time": "2022-07-07T13:45:25.639Z"
   },
   {
    "duration": 136,
    "start_time": "2022-07-07T13:45:25.666Z"
   },
   {
    "duration": 235,
    "start_time": "2022-07-07T13:45:25.805Z"
   },
   {
    "duration": 183,
    "start_time": "2022-07-07T13:45:26.041Z"
   },
   {
    "duration": 200,
    "start_time": "2022-07-07T13:45:26.225Z"
   },
   {
    "duration": 124,
    "start_time": "2022-07-07T13:45:26.427Z"
   },
   {
    "duration": 146,
    "start_time": "2022-07-07T13:45:26.553Z"
   },
   {
    "duration": 8,
    "start_time": "2022-07-07T13:45:26.701Z"
   },
   {
    "duration": 187,
    "start_time": "2022-07-07T13:45:26.710Z"
   },
   {
    "duration": 264,
    "start_time": "2022-07-07T13:45:26.898Z"
   },
   {
    "duration": 537,
    "start_time": "2022-07-07T13:45:27.164Z"
   },
   {
    "duration": 166,
    "start_time": "2022-07-07T13:45:27.704Z"
   },
   {
    "duration": 177,
    "start_time": "2022-07-07T13:45:27.872Z"
   },
   {
    "duration": 160,
    "start_time": "2022-07-07T13:45:28.050Z"
   },
   {
    "duration": 207,
    "start_time": "2022-07-07T13:45:28.213Z"
   },
   {
    "duration": 226,
    "start_time": "2022-07-07T13:45:28.423Z"
   },
   {
    "duration": 141,
    "start_time": "2022-07-07T13:45:28.650Z"
   },
   {
    "duration": 192,
    "start_time": "2022-07-07T13:45:28.793Z"
   },
   {
    "duration": 125,
    "start_time": "2022-07-07T13:45:28.987Z"
   },
   {
    "duration": 178,
    "start_time": "2022-07-07T13:45:29.114Z"
   },
   {
    "duration": 266,
    "start_time": "2022-07-07T13:45:29.294Z"
   },
   {
    "duration": 158,
    "start_time": "2022-07-07T13:45:29.562Z"
   },
   {
    "duration": 165,
    "start_time": "2022-07-07T13:45:29.723Z"
   },
   {
    "duration": 194,
    "start_time": "2022-07-07T13:45:29.889Z"
   },
   {
    "duration": 132,
    "start_time": "2022-07-07T13:45:30.085Z"
   },
   {
    "duration": 180,
    "start_time": "2022-07-07T13:45:30.223Z"
   },
   {
    "duration": 218,
    "start_time": "2022-07-07T13:47:27.171Z"
   },
   {
    "duration": 185,
    "start_time": "2022-07-07T13:47:47.962Z"
   },
   {
    "duration": 98,
    "start_time": "2022-07-07T13:48:10.655Z"
   },
   {
    "duration": 124,
    "start_time": "2022-07-07T13:51:15.489Z"
   },
   {
    "duration": 380,
    "start_time": "2022-07-07T13:51:46.474Z"
   },
   {
    "duration": 147,
    "start_time": "2022-07-07T14:52:42.382Z"
   },
   {
    "duration": 130,
    "start_time": "2022-07-07T14:52:55.176Z"
   },
   {
    "duration": 115,
    "start_time": "2022-07-07T14:55:59.860Z"
   },
   {
    "duration": 158,
    "start_time": "2022-07-07T15:04:25.614Z"
   },
   {
    "duration": 148,
    "start_time": "2022-07-07T15:08:03.660Z"
   },
   {
    "duration": 136,
    "start_time": "2022-07-07T15:08:18.795Z"
   },
   {
    "duration": 86,
    "start_time": "2022-07-07T15:09:55.486Z"
   },
   {
    "duration": 150,
    "start_time": "2022-07-07T15:09:59.546Z"
   },
   {
    "duration": 136,
    "start_time": "2022-07-07T15:10:54.586Z"
   },
   {
    "duration": 183,
    "start_time": "2022-07-07T15:11:34.457Z"
   },
   {
    "duration": 745,
    "start_time": "2022-07-08T09:09:45.973Z"
   },
   {
    "duration": 151,
    "start_time": "2022-07-08T09:09:46.720Z"
   },
   {
    "duration": 45,
    "start_time": "2022-07-08T09:09:46.873Z"
   },
   {
    "duration": 5,
    "start_time": "2022-07-08T09:09:46.920Z"
   },
   {
    "duration": 8,
    "start_time": "2022-07-08T09:09:46.926Z"
   },
   {
    "duration": 70,
    "start_time": "2022-07-08T09:09:46.936Z"
   },
   {
    "duration": 6,
    "start_time": "2022-07-08T09:09:47.007Z"
   },
   {
    "duration": 62,
    "start_time": "2022-07-08T09:09:47.015Z"
   },
   {
    "duration": 281,
    "start_time": "2022-07-08T09:09:47.078Z"
   },
   {
    "duration": 15,
    "start_time": "2022-07-08T09:09:47.361Z"
   },
   {
    "duration": 30,
    "start_time": "2022-07-08T09:09:47.378Z"
   },
   {
    "duration": 38,
    "start_time": "2022-07-08T09:09:47.409Z"
   },
   {
    "duration": 141,
    "start_time": "2022-07-08T09:09:47.448Z"
   },
   {
    "duration": 237,
    "start_time": "2022-07-08T09:09:47.590Z"
   },
   {
    "duration": 178,
    "start_time": "2022-07-08T09:09:47.829Z"
   },
   {
    "duration": 249,
    "start_time": "2022-07-08T09:09:48.009Z"
   },
   {
    "duration": 114,
    "start_time": "2022-07-08T09:09:48.260Z"
   },
   {
    "duration": 153,
    "start_time": "2022-07-08T09:09:48.376Z"
   },
   {
    "duration": 7,
    "start_time": "2022-07-08T09:09:48.531Z"
   },
   {
    "duration": 183,
    "start_time": "2022-07-08T09:09:48.539Z"
   },
   {
    "duration": 263,
    "start_time": "2022-07-08T09:09:48.724Z"
   },
   {
    "duration": 239,
    "start_time": "2022-07-08T09:09:48.989Z"
   },
   {
    "duration": 158,
    "start_time": "2022-07-08T09:09:49.229Z"
   },
   {
    "duration": 185,
    "start_time": "2022-07-08T09:09:49.389Z"
   },
   {
    "duration": 157,
    "start_time": "2022-07-08T09:09:49.575Z"
   },
   {
    "duration": 269,
    "start_time": "2022-07-08T09:09:49.733Z"
   },
   {
    "duration": 219,
    "start_time": "2022-07-08T09:09:50.004Z"
   },
   {
    "duration": 145,
    "start_time": "2022-07-08T09:09:50.226Z"
   },
   {
    "duration": 202,
    "start_time": "2022-07-08T09:09:50.373Z"
   },
   {
    "duration": 129,
    "start_time": "2022-07-08T09:09:50.576Z"
   },
   {
    "duration": 177,
    "start_time": "2022-07-08T09:09:50.706Z"
   },
   {
    "duration": 250,
    "start_time": "2022-07-08T09:09:50.885Z"
   },
   {
    "duration": 166,
    "start_time": "2022-07-08T09:09:51.136Z"
   },
   {
    "duration": 279,
    "start_time": "2022-07-08T09:09:51.303Z"
   },
   {
    "duration": 194,
    "start_time": "2022-07-08T09:09:51.584Z"
   },
   {
    "duration": 139,
    "start_time": "2022-07-08T09:09:51.780Z"
   },
   {
    "duration": 161,
    "start_time": "2022-07-08T09:09:51.921Z"
   },
   {
    "duration": 140,
    "start_time": "2022-07-08T09:09:52.083Z"
   },
   {
    "duration": 109,
    "start_time": "2022-07-08T09:09:52.224Z"
   },
   {
    "duration": 152,
    "start_time": "2022-07-08T09:09:52.335Z"
   },
   {
    "duration": 151,
    "start_time": "2022-07-08T09:09:52.489Z"
   },
   {
    "duration": 157,
    "start_time": "2022-07-08T09:09:52.648Z"
   },
   {
    "duration": 6,
    "start_time": "2022-07-08T09:09:52.807Z"
   },
   {
    "duration": 128,
    "start_time": "2022-07-08T09:17:14.457Z"
   },
   {
    "duration": 142,
    "start_time": "2022-07-08T09:17:24.330Z"
   },
   {
    "duration": 137,
    "start_time": "2022-07-08T09:17:28.437Z"
   },
   {
    "duration": 143,
    "start_time": "2022-07-08T09:17:35.823Z"
   },
   {
    "duration": 289,
    "start_time": "2022-07-08T09:17:40.488Z"
   },
   {
    "duration": 185,
    "start_time": "2022-07-08T09:17:45.899Z"
   },
   {
    "duration": 1037,
    "start_time": "2022-07-08T16:24:54.766Z"
   },
   {
    "duration": 401,
    "start_time": "2022-07-08T16:24:55.807Z"
   },
   {
    "duration": 58,
    "start_time": "2022-07-08T16:24:56.210Z"
   },
   {
    "duration": 10,
    "start_time": "2022-07-08T16:24:56.271Z"
   },
   {
    "duration": 8,
    "start_time": "2022-07-08T16:24:56.298Z"
   },
   {
    "duration": 122,
    "start_time": "2022-07-08T16:24:56.308Z"
   },
   {
    "duration": 8,
    "start_time": "2022-07-08T16:24:56.431Z"
   },
   {
    "duration": 93,
    "start_time": "2022-07-08T16:24:56.441Z"
   },
   {
    "duration": 495,
    "start_time": "2022-07-08T16:24:56.537Z"
   },
   {
    "duration": 24,
    "start_time": "2022-07-08T16:24:57.035Z"
   },
   {
    "duration": 61,
    "start_time": "2022-07-08T16:24:57.061Z"
   },
   {
    "duration": 46,
    "start_time": "2022-07-08T16:24:57.124Z"
   },
   {
    "duration": 265,
    "start_time": "2022-07-08T16:24:57.173Z"
   },
   {
    "duration": 389,
    "start_time": "2022-07-08T16:24:57.440Z"
   },
   {
    "duration": 275,
    "start_time": "2022-07-08T16:24:57.831Z"
   },
   {
    "duration": 363,
    "start_time": "2022-07-08T16:24:58.108Z"
   },
   {
    "duration": 161,
    "start_time": "2022-07-08T16:24:58.474Z"
   },
   {
    "duration": 178,
    "start_time": "2022-07-08T16:24:58.640Z"
   },
   {
    "duration": 9,
    "start_time": "2022-07-08T16:24:58.820Z"
   },
   {
    "duration": 238,
    "start_time": "2022-07-08T16:24:58.831Z"
   },
   {
    "duration": 328,
    "start_time": "2022-07-08T16:24:59.072Z"
   },
   {
    "duration": 281,
    "start_time": "2022-07-08T16:24:59.403Z"
   },
   {
    "duration": 184,
    "start_time": "2022-07-08T16:24:59.686Z"
   },
   {
    "duration": 289,
    "start_time": "2022-07-08T16:24:59.872Z"
   },
   {
    "duration": 243,
    "start_time": "2022-07-08T16:25:00.163Z"
   },
   {
    "duration": 313,
    "start_time": "2022-07-08T16:25:00.408Z"
   },
   {
    "duration": 263,
    "start_time": "2022-07-08T16:25:00.723Z"
   },
   {
    "duration": 316,
    "start_time": "2022-07-08T16:25:00.990Z"
   },
   {
    "duration": 184,
    "start_time": "2022-07-08T16:25:01.308Z"
   },
   {
    "duration": 176,
    "start_time": "2022-07-08T16:25:01.499Z"
   },
   {
    "duration": 260,
    "start_time": "2022-07-08T16:25:01.677Z"
   },
   {
    "duration": 314,
    "start_time": "2022-07-08T16:25:01.939Z"
   },
   {
    "duration": 185,
    "start_time": "2022-07-08T16:25:02.255Z"
   },
   {
    "duration": 278,
    "start_time": "2022-07-08T16:25:02.442Z"
   },
   {
    "duration": 239,
    "start_time": "2022-07-08T16:25:02.722Z"
   },
   {
    "duration": 167,
    "start_time": "2022-07-08T16:25:02.962Z"
   },
   {
    "duration": 224,
    "start_time": "2022-07-08T16:25:03.132Z"
   },
   {
    "duration": 166,
    "start_time": "2022-07-08T16:25:03.358Z"
   },
   {
    "duration": 199,
    "start_time": "2022-07-08T16:25:03.526Z"
   },
   {
    "duration": 245,
    "start_time": "2022-07-08T16:25:03.728Z"
   },
   {
    "duration": 246,
    "start_time": "2022-07-08T16:25:03.975Z"
   },
   {
    "duration": 207,
    "start_time": "2022-07-08T16:25:04.222Z"
   },
   {
    "duration": 293,
    "start_time": "2022-07-08T16:25:04.431Z"
   },
   {
    "duration": 3,
    "start_time": "2022-07-08T16:34:41.907Z"
   },
   {
    "duration": 119,
    "start_time": "2022-07-08T16:34:41.912Z"
   },
   {
    "duration": 49,
    "start_time": "2022-07-08T16:34:42.034Z"
   },
   {
    "duration": 16,
    "start_time": "2022-07-08T16:34:42.085Z"
   },
   {
    "duration": 7,
    "start_time": "2022-07-08T16:34:42.103Z"
   },
   {
    "duration": 87,
    "start_time": "2022-07-08T16:34:42.112Z"
   },
   {
    "duration": 7,
    "start_time": "2022-07-08T16:34:42.201Z"
   },
   {
    "duration": 48,
    "start_time": "2022-07-08T16:34:42.210Z"
   },
   {
    "duration": 334,
    "start_time": "2022-07-08T16:34:42.260Z"
   },
   {
    "duration": 19,
    "start_time": "2022-07-08T16:34:42.597Z"
   },
   {
    "duration": 38,
    "start_time": "2022-07-08T16:34:42.620Z"
   },
   {
    "duration": 49,
    "start_time": "2022-07-08T16:34:42.659Z"
   },
   {
    "duration": 152,
    "start_time": "2022-07-08T16:34:42.710Z"
   },
   {
    "duration": 389,
    "start_time": "2022-07-08T16:34:42.864Z"
   },
   {
    "duration": 203,
    "start_time": "2022-07-08T16:34:43.255Z"
   },
   {
    "duration": 221,
    "start_time": "2022-07-08T16:34:43.461Z"
   },
   {
    "duration": 139,
    "start_time": "2022-07-08T16:34:43.685Z"
   },
   {
    "duration": 172,
    "start_time": "2022-07-08T16:34:43.826Z"
   },
   {
    "duration": 10,
    "start_time": "2022-07-08T16:34:44.000Z"
   },
   {
    "duration": 224,
    "start_time": "2022-07-08T16:34:44.012Z"
   },
   {
    "duration": 300,
    "start_time": "2022-07-08T16:34:44.237Z"
   },
   {
    "duration": 273,
    "start_time": "2022-07-08T16:34:44.538Z"
   },
   {
    "duration": 167,
    "start_time": "2022-07-08T16:34:44.813Z"
   },
   {
    "duration": 342,
    "start_time": "2022-07-08T16:34:44.982Z"
   },
   {
    "duration": 192,
    "start_time": "2022-07-08T16:34:45.325Z"
   },
   {
    "duration": 235,
    "start_time": "2022-07-08T16:34:45.519Z"
   },
   {
    "duration": 267,
    "start_time": "2022-07-08T16:34:45.756Z"
   },
   {
    "duration": 231,
    "start_time": "2022-07-08T16:34:46.026Z"
   },
   {
    "duration": 167,
    "start_time": "2022-07-08T16:34:46.261Z"
   },
   {
    "duration": 150,
    "start_time": "2022-07-08T16:34:46.431Z"
   },
   {
    "duration": 223,
    "start_time": "2022-07-08T16:34:46.583Z"
   },
   {
    "duration": 315,
    "start_time": "2022-07-08T16:34:46.808Z"
   },
   {
    "duration": 193,
    "start_time": "2022-07-08T16:34:47.126Z"
   },
   {
    "duration": 184,
    "start_time": "2022-07-08T16:34:47.321Z"
   },
   {
    "duration": 376,
    "start_time": "2022-07-08T16:34:47.507Z"
   },
   {
    "duration": 150,
    "start_time": "2022-07-08T16:34:47.885Z"
   },
   {
    "duration": 198,
    "start_time": "2022-07-08T16:34:48.037Z"
   },
   {
    "duration": 163,
    "start_time": "2022-07-08T16:34:48.237Z"
   },
   {
    "duration": 139,
    "start_time": "2022-07-08T16:34:48.402Z"
   },
   {
    "duration": 181,
    "start_time": "2022-07-08T16:34:48.543Z"
   },
   {
    "duration": 178,
    "start_time": "2022-07-08T16:34:48.726Z"
   },
   {
    "duration": 195,
    "start_time": "2022-07-08T16:34:48.905Z"
   },
   {
    "duration": 249,
    "start_time": "2022-07-08T16:34:49.102Z"
   },
   {
    "duration": 1275,
    "start_time": "2022-07-08T16:52:45.581Z"
   },
   {
    "duration": 1242,
    "start_time": "2022-07-08T16:53:02.298Z"
   },
   {
    "duration": 189,
    "start_time": "2022-07-08T16:53:37.866Z"
   },
   {
    "duration": 184,
    "start_time": "2022-07-08T16:53:56.439Z"
   },
   {
    "duration": 165,
    "start_time": "2022-07-08T16:54:03.022Z"
   },
   {
    "duration": 186,
    "start_time": "2022-07-08T16:54:08.913Z"
   },
   {
    "duration": 162,
    "start_time": "2022-07-08T16:54:23.163Z"
   },
   {
    "duration": 202,
    "start_time": "2022-07-08T16:57:28.834Z"
   },
   {
    "duration": 220,
    "start_time": "2022-07-08T16:57:38.830Z"
   },
   {
    "duration": 458,
    "start_time": "2022-07-08T16:57:47.167Z"
   },
   {
    "duration": 210,
    "start_time": "2022-07-08T16:57:53.730Z"
   },
   {
    "duration": 15,
    "start_time": "2022-07-08T17:00:42.795Z"
   },
   {
    "duration": 164,
    "start_time": "2022-07-08T17:01:45.234Z"
   },
   {
    "duration": 141,
    "start_time": "2022-07-08T17:01:52.705Z"
   },
   {
    "duration": 175,
    "start_time": "2022-07-08T19:19:51.487Z"
   },
   {
    "duration": 214,
    "start_time": "2022-07-08T19:25:01.184Z"
   },
   {
    "duration": 791,
    "start_time": "2022-07-09T17:03:48.746Z"
   },
   {
    "duration": 147,
    "start_time": "2022-07-09T17:03:49.539Z"
   },
   {
    "duration": 48,
    "start_time": "2022-07-09T17:03:49.688Z"
   },
   {
    "duration": 6,
    "start_time": "2022-07-09T17:03:49.738Z"
   },
   {
    "duration": 10,
    "start_time": "2022-07-09T17:03:49.747Z"
   },
   {
    "duration": 88,
    "start_time": "2022-07-09T17:03:49.758Z"
   },
   {
    "duration": 6,
    "start_time": "2022-07-09T17:03:49.847Z"
   },
   {
    "duration": 68,
    "start_time": "2022-07-09T17:03:49.855Z"
   },
   {
    "duration": 308,
    "start_time": "2022-07-09T17:03:49.925Z"
   },
   {
    "duration": 16,
    "start_time": "2022-07-09T17:03:50.235Z"
   },
   {
    "duration": 30,
    "start_time": "2022-07-09T17:03:50.253Z"
   },
   {
    "duration": 42,
    "start_time": "2022-07-09T17:03:50.285Z"
   },
   {
    "duration": 153,
    "start_time": "2022-07-09T17:03:50.329Z"
   },
   {
    "duration": 251,
    "start_time": "2022-07-09T17:03:50.485Z"
   },
   {
    "duration": 181,
    "start_time": "2022-07-09T17:03:50.738Z"
   },
   {
    "duration": 263,
    "start_time": "2022-07-09T17:03:50.920Z"
   },
   {
    "duration": 127,
    "start_time": "2022-07-09T17:03:51.185Z"
   },
   {
    "duration": 167,
    "start_time": "2022-07-09T17:03:51.313Z"
   },
   {
    "duration": 18,
    "start_time": "2022-07-09T17:03:51.482Z"
   },
   {
    "duration": 187,
    "start_time": "2022-07-09T17:03:51.502Z"
   },
   {
    "duration": 278,
    "start_time": "2022-07-09T17:03:51.691Z"
   },
   {
    "duration": 253,
    "start_time": "2022-07-09T17:03:51.971Z"
   },
   {
    "duration": 162,
    "start_time": "2022-07-09T17:03:52.225Z"
   },
   {
    "duration": 201,
    "start_time": "2022-07-09T17:03:52.388Z"
   },
   {
    "duration": 192,
    "start_time": "2022-07-09T17:03:52.591Z"
   },
   {
    "duration": 292,
    "start_time": "2022-07-09T17:03:52.785Z"
   },
   {
    "duration": 241,
    "start_time": "2022-07-09T17:03:53.079Z"
   },
   {
    "duration": 148,
    "start_time": "2022-07-09T17:03:53.322Z"
   },
   {
    "duration": 203,
    "start_time": "2022-07-09T17:03:53.472Z"
   },
   {
    "duration": 125,
    "start_time": "2022-07-09T17:03:53.676Z"
   },
   {
    "duration": 176,
    "start_time": "2022-07-09T17:03:53.802Z"
   },
   {
    "duration": 260,
    "start_time": "2022-07-09T17:03:53.980Z"
   },
   {
    "duration": 151,
    "start_time": "2022-07-09T17:03:54.242Z"
   },
   {
    "duration": 249,
    "start_time": "2022-07-09T17:03:54.395Z"
   },
   {
    "duration": 189,
    "start_time": "2022-07-09T17:03:54.645Z"
   },
   {
    "duration": 129,
    "start_time": "2022-07-09T17:03:54.836Z"
   },
   {
    "duration": 175,
    "start_time": "2022-07-09T17:03:54.967Z"
   },
   {
    "duration": 176,
    "start_time": "2022-07-09T17:03:55.143Z"
   },
   {
    "duration": 136,
    "start_time": "2022-07-09T17:03:55.321Z"
   },
   {
    "duration": 155,
    "start_time": "2022-07-09T17:03:55.459Z"
   },
   {
    "duration": 160,
    "start_time": "2022-07-09T17:03:55.618Z"
   },
   {
    "duration": 157,
    "start_time": "2022-07-09T17:03:55.779Z"
   },
   {
    "duration": 208,
    "start_time": "2022-07-09T17:03:55.937Z"
   },
   {
    "duration": 157,
    "start_time": "2022-07-09T17:03:56.147Z"
   },
   {
    "duration": 302,
    "start_time": "2022-07-09T17:03:56.306Z"
   },
   {
    "duration": 159,
    "start_time": "2022-07-09T17:03:56.609Z"
   },
   {
    "duration": 133,
    "start_time": "2022-07-09T17:03:56.770Z"
   },
   {
    "duration": 198,
    "start_time": "2022-07-09T17:03:56.905Z"
   },
   {
    "duration": 9,
    "start_time": "2022-07-09T17:19:16.559Z"
   },
   {
    "duration": 144,
    "start_time": "2022-07-09T17:19:42.050Z"
   },
   {
    "duration": 120,
    "start_time": "2022-07-09T17:19:59.343Z"
   },
   {
    "duration": 115,
    "start_time": "2022-07-09T17:20:26.137Z"
   },
   {
    "duration": 144,
    "start_time": "2022-07-09T17:20:31.259Z"
   },
   {
    "duration": 202,
    "start_time": "2022-07-09T17:20:50.648Z"
   },
   {
    "duration": 196,
    "start_time": "2022-07-09T17:21:15.409Z"
   },
   {
    "duration": 166,
    "start_time": "2022-07-09T17:21:30.537Z"
   },
   {
    "duration": 152,
    "start_time": "2022-07-09T17:21:39.104Z"
   },
   {
    "duration": 267,
    "start_time": "2022-07-09T17:22:07.860Z"
   },
   {
    "duration": 140,
    "start_time": "2022-07-09T17:22:31.002Z"
   },
   {
    "duration": 164,
    "start_time": "2022-07-09T17:23:23.200Z"
   },
   {
    "duration": 170,
    "start_time": "2022-07-09T17:26:31.406Z"
   },
   {
    "duration": 3,
    "start_time": "2022-07-09T17:26:42.972Z"
   },
   {
    "duration": 89,
    "start_time": "2022-07-09T17:26:42.977Z"
   },
   {
    "duration": 49,
    "start_time": "2022-07-09T17:26:43.068Z"
   },
   {
    "duration": 4,
    "start_time": "2022-07-09T17:26:43.119Z"
   },
   {
    "duration": 9,
    "start_time": "2022-07-09T17:26:43.125Z"
   },
   {
    "duration": 70,
    "start_time": "2022-07-09T17:26:43.135Z"
   },
   {
    "duration": 5,
    "start_time": "2022-07-09T17:26:43.207Z"
   },
   {
    "duration": 42,
    "start_time": "2022-07-09T17:26:43.221Z"
   },
   {
    "duration": 301,
    "start_time": "2022-07-09T17:26:43.265Z"
   },
   {
    "duration": 17,
    "start_time": "2022-07-09T17:26:43.567Z"
   },
   {
    "duration": 43,
    "start_time": "2022-07-09T17:26:43.586Z"
   },
   {
    "duration": 28,
    "start_time": "2022-07-09T17:26:43.631Z"
   },
   {
    "duration": 129,
    "start_time": "2022-07-09T17:26:43.660Z"
   },
   {
    "duration": 254,
    "start_time": "2022-07-09T17:26:43.800Z"
   },
   {
    "duration": 183,
    "start_time": "2022-07-09T17:26:44.055Z"
   },
   {
    "duration": 185,
    "start_time": "2022-07-09T17:26:44.239Z"
   },
   {
    "duration": 128,
    "start_time": "2022-07-09T17:26:44.425Z"
   },
   {
    "duration": 150,
    "start_time": "2022-07-09T17:26:44.556Z"
   },
   {
    "duration": 8,
    "start_time": "2022-07-09T17:26:44.707Z"
   },
   {
    "duration": 175,
    "start_time": "2022-07-09T17:26:44.716Z"
   },
   {
    "duration": 266,
    "start_time": "2022-07-09T17:26:44.893Z"
   },
   {
    "duration": 412,
    "start_time": "2022-07-09T17:26:45.160Z"
   },
   {
    "duration": 146,
    "start_time": "2022-07-09T17:26:45.574Z"
   },
   {
    "duration": 181,
    "start_time": "2022-07-09T17:26:45.722Z"
   },
   {
    "duration": 154,
    "start_time": "2022-07-09T17:26:45.905Z"
   },
   {
    "duration": 191,
    "start_time": "2022-07-09T17:26:46.061Z"
   },
   {
    "duration": 219,
    "start_time": "2022-07-09T17:26:46.253Z"
   },
   {
    "duration": 141,
    "start_time": "2022-07-09T17:26:46.474Z"
   },
   {
    "duration": 188,
    "start_time": "2022-07-09T17:26:46.617Z"
   },
   {
    "duration": 119,
    "start_time": "2022-07-09T17:26:46.807Z"
   },
   {
    "duration": 147,
    "start_time": "2022-07-09T17:26:46.928Z"
   },
   {
    "duration": 236,
    "start_time": "2022-07-09T17:26:47.077Z"
   },
   {
    "duration": 165,
    "start_time": "2022-07-09T17:26:47.314Z"
   },
   {
    "duration": 158,
    "start_time": "2022-07-09T17:26:47.480Z"
   },
   {
    "duration": 343,
    "start_time": "2022-07-09T17:26:47.640Z"
   },
   {
    "duration": 135,
    "start_time": "2022-07-09T17:26:47.986Z"
   },
   {
    "duration": 169,
    "start_time": "2022-07-09T17:26:48.122Z"
   },
   {
    "duration": 138,
    "start_time": "2022-07-09T17:26:48.293Z"
   },
   {
    "duration": 108,
    "start_time": "2022-07-09T17:26:48.432Z"
   },
   {
    "duration": 146,
    "start_time": "2022-07-09T17:26:48.541Z"
   },
   {
    "duration": 150,
    "start_time": "2022-07-09T17:26:48.689Z"
   },
   {
    "duration": 162,
    "start_time": "2022-07-09T17:26:48.840Z"
   },
   {
    "duration": 221,
    "start_time": "2022-07-09T17:26:49.004Z"
   },
   {
    "duration": 161,
    "start_time": "2022-07-09T17:26:49.227Z"
   },
   {
    "duration": 212,
    "start_time": "2022-07-09T17:26:49.390Z"
   },
   {
    "duration": 167,
    "start_time": "2022-07-09T17:26:49.604Z"
   },
   {
    "duration": 147,
    "start_time": "2022-07-09T17:26:49.772Z"
   },
   {
    "duration": 217,
    "start_time": "2022-07-09T17:26:49.921Z"
   },
   {
    "duration": 9,
    "start_time": "2022-07-09T17:26:50.140Z"
   },
   {
    "duration": 264,
    "start_time": "2022-07-09T17:30:36.577Z"
   },
   {
    "duration": 150,
    "start_time": "2022-07-09T17:31:09.242Z"
   },
   {
    "duration": 212,
    "start_time": "2022-07-09T17:31:43.011Z"
   },
   {
    "duration": 12,
    "start_time": "2022-07-09T17:32:23.450Z"
   },
   {
    "duration": 220,
    "start_time": "2022-07-09T17:33:21.370Z"
   },
   {
    "duration": 2,
    "start_time": "2022-07-09T17:34:06.666Z"
   },
   {
    "duration": 95,
    "start_time": "2022-07-09T17:34:06.670Z"
   },
   {
    "duration": 268,
    "start_time": "2022-07-09T17:34:06.767Z"
   },
   {
    "duration": 6,
    "start_time": "2022-07-09T17:34:07.037Z"
   },
   {
    "duration": 8,
    "start_time": "2022-07-09T17:34:07.046Z"
   },
   {
    "duration": 84,
    "start_time": "2022-07-09T17:34:07.056Z"
   },
   {
    "duration": 7,
    "start_time": "2022-07-09T17:34:07.142Z"
   },
   {
    "duration": 67,
    "start_time": "2022-07-09T17:34:07.151Z"
   },
   {
    "duration": 298,
    "start_time": "2022-07-09T17:34:07.219Z"
   },
   {
    "duration": 18,
    "start_time": "2022-07-09T17:34:07.518Z"
   },
   {
    "duration": 36,
    "start_time": "2022-07-09T17:34:07.537Z"
   },
   {
    "duration": 46,
    "start_time": "2022-07-09T17:34:07.575Z"
   },
   {
    "duration": 133,
    "start_time": "2022-07-09T17:34:07.623Z"
   },
   {
    "duration": 230,
    "start_time": "2022-07-09T17:34:07.760Z"
   },
   {
    "duration": 178,
    "start_time": "2022-07-09T17:34:07.992Z"
   },
   {
    "duration": 183,
    "start_time": "2022-07-09T17:34:08.172Z"
   },
   {
    "duration": 121,
    "start_time": "2022-07-09T17:34:08.357Z"
   },
   {
    "duration": 139,
    "start_time": "2022-07-09T17:34:08.480Z"
   },
   {
    "duration": 13,
    "start_time": "2022-07-09T17:34:08.621Z"
   },
   {
    "duration": 187,
    "start_time": "2022-07-09T17:34:08.636Z"
   },
   {
    "duration": 263,
    "start_time": "2022-07-09T17:34:08.825Z"
   },
   {
    "duration": 239,
    "start_time": "2022-07-09T17:34:09.090Z"
   },
   {
    "duration": 172,
    "start_time": "2022-07-09T17:34:09.330Z"
   },
   {
    "duration": 198,
    "start_time": "2022-07-09T17:34:09.504Z"
   },
   {
    "duration": 167,
    "start_time": "2022-07-09T17:34:09.704Z"
   },
   {
    "duration": 201,
    "start_time": "2022-07-09T17:34:09.873Z"
   },
   {
    "duration": 235,
    "start_time": "2022-07-09T17:34:10.076Z"
   },
   {
    "duration": 151,
    "start_time": "2022-07-09T17:34:10.312Z"
   },
   {
    "duration": 223,
    "start_time": "2022-07-09T17:34:10.465Z"
   },
   {
    "duration": 363,
    "start_time": "2022-07-09T17:34:10.690Z"
   },
   {
    "duration": 158,
    "start_time": "2022-07-09T17:34:11.054Z"
   },
   {
    "duration": 255,
    "start_time": "2022-07-09T17:34:11.214Z"
   },
   {
    "duration": 167,
    "start_time": "2022-07-09T17:34:11.471Z"
   },
   {
    "duration": 171,
    "start_time": "2022-07-09T17:34:11.640Z"
   },
   {
    "duration": 192,
    "start_time": "2022-07-09T17:34:11.813Z"
   },
   {
    "duration": 134,
    "start_time": "2022-07-09T17:34:12.006Z"
   },
   {
    "duration": 160,
    "start_time": "2022-07-09T17:34:12.142Z"
   },
   {
    "duration": 136,
    "start_time": "2022-07-09T17:34:12.304Z"
   },
   {
    "duration": 112,
    "start_time": "2022-07-09T17:34:12.442Z"
   },
   {
    "duration": 147,
    "start_time": "2022-07-09T17:34:12.555Z"
   },
   {
    "duration": 141,
    "start_time": "2022-07-09T17:34:12.706Z"
   },
   {
    "duration": 169,
    "start_time": "2022-07-09T17:34:12.849Z"
   },
   {
    "duration": 198,
    "start_time": "2022-07-09T17:34:13.019Z"
   },
   {
    "duration": 158,
    "start_time": "2022-07-09T17:34:13.219Z"
   },
   {
    "duration": 206,
    "start_time": "2022-07-09T17:34:13.379Z"
   },
   {
    "duration": 155,
    "start_time": "2022-07-09T17:34:13.586Z"
   },
   {
    "duration": 135,
    "start_time": "2022-07-09T17:34:13.743Z"
   },
   {
    "duration": 205,
    "start_time": "2022-07-09T17:34:13.880Z"
   },
   {
    "duration": 17,
    "start_time": "2022-07-09T17:34:14.087Z"
   },
   {
    "duration": 274,
    "start_time": "2022-07-09T17:37:22.679Z"
   },
   {
    "duration": 157,
    "start_time": "2022-07-09T17:38:02.216Z"
   },
   {
    "duration": 235,
    "start_time": "2022-07-09T20:14:49.510Z"
   },
   {
    "duration": 522,
    "start_time": "2022-07-09T20:16:25.284Z"
   },
   {
    "duration": 177,
    "start_time": "2022-07-09T20:16:48.656Z"
   },
   {
    "duration": 925,
    "start_time": "2022-07-12T16:58:38.491Z"
   },
   {
    "duration": 332,
    "start_time": "2022-07-12T16:58:39.418Z"
   },
   {
    "duration": 51,
    "start_time": "2022-07-12T16:58:39.752Z"
   },
   {
    "duration": 6,
    "start_time": "2022-07-12T16:58:39.805Z"
   },
   {
    "duration": 10,
    "start_time": "2022-07-12T16:58:39.813Z"
   },
   {
    "duration": 90,
    "start_time": "2022-07-12T16:58:39.824Z"
   },
   {
    "duration": 7,
    "start_time": "2022-07-12T16:58:39.915Z"
   },
   {
    "duration": 88,
    "start_time": "2022-07-12T16:58:39.924Z"
   },
   {
    "duration": 353,
    "start_time": "2022-07-12T16:58:40.014Z"
   },
   {
    "duration": 17,
    "start_time": "2022-07-12T16:58:40.370Z"
   },
   {
    "duration": 29,
    "start_time": "2022-07-12T16:58:40.397Z"
   },
   {
    "duration": 32,
    "start_time": "2022-07-12T16:58:40.428Z"
   },
   {
    "duration": 172,
    "start_time": "2022-07-12T16:58:40.462Z"
   },
   {
    "duration": 268,
    "start_time": "2022-07-12T16:58:40.638Z"
   },
   {
    "duration": 207,
    "start_time": "2022-07-12T16:58:40.908Z"
   },
   {
    "duration": 291,
    "start_time": "2022-07-12T16:58:41.117Z"
   },
   {
    "duration": 133,
    "start_time": "2022-07-12T16:58:41.410Z"
   },
   {
    "duration": 176,
    "start_time": "2022-07-12T16:58:41.544Z"
   },
   {
    "duration": 14,
    "start_time": "2022-07-12T16:58:41.721Z"
   },
   {
    "duration": 209,
    "start_time": "2022-07-12T16:58:41.737Z"
   },
   {
    "duration": 304,
    "start_time": "2022-07-12T16:58:41.950Z"
   },
   {
    "duration": 269,
    "start_time": "2022-07-12T16:58:42.256Z"
   },
   {
    "duration": 194,
    "start_time": "2022-07-12T16:58:42.527Z"
   },
   {
    "duration": 207,
    "start_time": "2022-07-12T16:58:42.723Z"
   },
   {
    "duration": 178,
    "start_time": "2022-07-12T16:58:42.932Z"
   },
   {
    "duration": 307,
    "start_time": "2022-07-12T16:58:43.112Z"
   },
   {
    "duration": 259,
    "start_time": "2022-07-12T16:58:43.420Z"
   },
   {
    "duration": 158,
    "start_time": "2022-07-12T16:58:43.681Z"
   },
   {
    "duration": 243,
    "start_time": "2022-07-12T16:58:43.841Z"
   },
   {
    "duration": 153,
    "start_time": "2022-07-12T16:58:44.087Z"
   },
   {
    "duration": 181,
    "start_time": "2022-07-12T16:58:44.242Z"
   },
   {
    "duration": 299,
    "start_time": "2022-07-12T16:58:44.426Z"
   },
   {
    "duration": 181,
    "start_time": "2022-07-12T16:58:44.727Z"
   },
   {
    "duration": 257,
    "start_time": "2022-07-12T16:58:44.910Z"
   },
   {
    "duration": 243,
    "start_time": "2022-07-12T16:58:45.169Z"
   },
   {
    "duration": 162,
    "start_time": "2022-07-12T16:58:45.414Z"
   },
   {
    "duration": 203,
    "start_time": "2022-07-12T16:58:45.578Z"
   },
   {
    "duration": 168,
    "start_time": "2022-07-12T16:58:45.783Z"
   },
   {
    "duration": 131,
    "start_time": "2022-07-12T16:58:45.953Z"
   },
   {
    "duration": 168,
    "start_time": "2022-07-12T16:58:46.086Z"
   },
   {
    "duration": 163,
    "start_time": "2022-07-12T16:58:46.258Z"
   },
   {
    "duration": 178,
    "start_time": "2022-07-12T16:58:46.423Z"
   },
   {
    "duration": 307,
    "start_time": "2022-07-12T16:58:46.602Z"
   },
   {
    "duration": 307,
    "start_time": "2022-07-12T16:58:46.911Z"
   },
   {
    "duration": 238,
    "start_time": "2022-07-12T16:58:47.219Z"
   },
   {
    "duration": 215,
    "start_time": "2022-07-12T16:58:47.459Z"
   },
   {
    "duration": 151,
    "start_time": "2022-07-12T16:58:47.676Z"
   },
   {
    "duration": 221,
    "start_time": "2022-07-12T16:58:47.829Z"
   },
   {
    "duration": 10,
    "start_time": "2022-07-12T16:58:48.052Z"
   },
   {
    "duration": 217,
    "start_time": "2022-07-12T16:58:48.064Z"
   },
   {
    "duration": 168,
    "start_time": "2022-07-12T17:04:00.850Z"
   },
   {
    "duration": 222,
    "start_time": "2022-07-12T17:04:18.258Z"
   },
   {
    "duration": 347,
    "start_time": "2022-07-12T17:04:24.644Z"
   },
   {
    "duration": 209,
    "start_time": "2022-07-12T17:05:02.873Z"
   },
   {
    "duration": 735,
    "start_time": "2022-07-13T10:09:58.009Z"
   },
   {
    "duration": 134,
    "start_time": "2022-07-13T10:09:58.746Z"
   },
   {
    "duration": 47,
    "start_time": "2022-07-13T10:09:58.882Z"
   },
   {
    "duration": 6,
    "start_time": "2022-07-13T10:09:58.931Z"
   },
   {
    "duration": 23,
    "start_time": "2022-07-13T10:09:58.940Z"
   },
   {
    "duration": 76,
    "start_time": "2022-07-13T10:09:58.965Z"
   },
   {
    "duration": 6,
    "start_time": "2022-07-13T10:09:59.043Z"
   },
   {
    "duration": 49,
    "start_time": "2022-07-13T10:09:59.063Z"
   },
   {
    "duration": 302,
    "start_time": "2022-07-13T10:09:59.113Z"
   },
   {
    "duration": 19,
    "start_time": "2022-07-13T10:09:59.418Z"
   },
   {
    "duration": 41,
    "start_time": "2022-07-13T10:09:59.439Z"
   },
   {
    "duration": 29,
    "start_time": "2022-07-13T10:09:59.482Z"
   },
   {
    "duration": 164,
    "start_time": "2022-07-13T10:09:59.513Z"
   },
   {
    "duration": 266,
    "start_time": "2022-07-13T10:09:59.681Z"
   },
   {
    "duration": 214,
    "start_time": "2022-07-13T10:09:59.949Z"
   },
   {
    "duration": 266,
    "start_time": "2022-07-13T10:10:00.165Z"
   },
   {
    "duration": 130,
    "start_time": "2022-07-13T10:10:00.435Z"
   },
   {
    "duration": 175,
    "start_time": "2022-07-13T10:10:00.567Z"
   },
   {
    "duration": 21,
    "start_time": "2022-07-13T10:10:00.743Z"
   },
   {
    "duration": 169,
    "start_time": "2022-07-13T10:10:00.766Z"
   },
   {
    "duration": 310,
    "start_time": "2022-07-13T10:10:00.937Z"
   },
   {
    "duration": 265,
    "start_time": "2022-07-13T10:10:01.249Z"
   },
   {
    "duration": 180,
    "start_time": "2022-07-13T10:10:01.515Z"
   },
   {
    "duration": 195,
    "start_time": "2022-07-13T10:10:01.696Z"
   },
   {
    "duration": 162,
    "start_time": "2022-07-13T10:10:01.893Z"
   },
   {
    "duration": 296,
    "start_time": "2022-07-13T10:10:02.057Z"
   },
   {
    "duration": 265,
    "start_time": "2022-07-13T10:10:02.355Z"
   },
   {
    "duration": 193,
    "start_time": "2022-07-13T10:10:02.622Z"
   },
   {
    "duration": 209,
    "start_time": "2022-07-13T10:10:02.817Z"
   },
   {
    "duration": 152,
    "start_time": "2022-07-13T10:10:03.028Z"
   },
   {
    "duration": 167,
    "start_time": "2022-07-13T10:10:03.183Z"
   },
   {
    "duration": 254,
    "start_time": "2022-07-13T10:10:03.352Z"
   },
   {
    "duration": 158,
    "start_time": "2022-07-13T10:10:03.607Z"
   },
   {
    "duration": 244,
    "start_time": "2022-07-13T10:10:03.767Z"
   },
   {
    "duration": 194,
    "start_time": "2022-07-13T10:10:04.012Z"
   },
   {
    "duration": 145,
    "start_time": "2022-07-13T10:10:04.207Z"
   },
   {
    "duration": 179,
    "start_time": "2022-07-13T10:10:04.354Z"
   },
   {
    "duration": 145,
    "start_time": "2022-07-13T10:10:04.535Z"
   },
   {
    "duration": 127,
    "start_time": "2022-07-13T10:10:04.682Z"
   },
   {
    "duration": 159,
    "start_time": "2022-07-13T10:10:04.811Z"
   },
   {
    "duration": 164,
    "start_time": "2022-07-13T10:10:04.974Z"
   },
   {
    "duration": 161,
    "start_time": "2022-07-13T10:10:05.140Z"
   },
   {
    "duration": 214,
    "start_time": "2022-07-13T10:10:05.303Z"
   },
   {
    "duration": 265,
    "start_time": "2022-07-13T10:10:05.518Z"
   },
   {
    "duration": 204,
    "start_time": "2022-07-13T10:10:05.785Z"
   },
   {
    "duration": 160,
    "start_time": "2022-07-13T10:10:05.991Z"
   },
   {
    "duration": 133,
    "start_time": "2022-07-13T10:10:06.152Z"
   },
   {
    "duration": 207,
    "start_time": "2022-07-13T10:10:06.287Z"
   },
   {
    "duration": 9,
    "start_time": "2022-07-13T10:10:06.496Z"
   },
   {
    "duration": 188,
    "start_time": "2022-07-13T10:10:06.506Z"
   },
   {
    "duration": 81,
    "start_time": "2022-07-13T10:23:17.396Z"
   },
   {
    "duration": 56,
    "start_time": "2022-07-13T10:25:04.385Z"
   },
   {
    "duration": 8,
    "start_time": "2022-07-13T10:36:33.315Z"
   },
   {
    "duration": 17,
    "start_time": "2022-07-13T10:36:45.570Z"
   },
   {
    "duration": 146,
    "start_time": "2022-07-13T10:48:14.589Z"
   },
   {
    "duration": 159,
    "start_time": "2022-07-13T10:51:45.480Z"
   },
   {
    "duration": 137,
    "start_time": "2022-07-13T10:53:16.269Z"
   },
   {
    "duration": 954,
    "start_time": "2022-07-13T10:58:31.467Z"
   },
   {
    "duration": 241,
    "start_time": "2022-07-13T10:58:36.809Z"
   },
   {
    "duration": 157,
    "start_time": "2022-07-13T10:59:46.993Z"
   },
   {
    "duration": 157,
    "start_time": "2022-07-13T11:00:12.791Z"
   },
   {
    "duration": 163,
    "start_time": "2022-07-13T11:00:26.507Z"
   },
   {
    "duration": 145,
    "start_time": "2022-07-13T11:07:18.518Z"
   },
   {
    "duration": 893,
    "start_time": "2022-07-17T16:27:20.521Z"
   },
   {
    "duration": 325,
    "start_time": "2022-07-17T16:27:21.417Z"
   },
   {
    "duration": 49,
    "start_time": "2022-07-17T16:27:21.744Z"
   },
   {
    "duration": 6,
    "start_time": "2022-07-17T16:27:21.794Z"
   },
   {
    "duration": 16,
    "start_time": "2022-07-17T16:27:21.802Z"
   },
   {
    "duration": 74,
    "start_time": "2022-07-17T16:27:21.820Z"
   },
   {
    "duration": 7,
    "start_time": "2022-07-17T16:27:21.896Z"
   },
   {
    "duration": 46,
    "start_time": "2022-07-17T16:27:21.905Z"
   },
   {
    "duration": 299,
    "start_time": "2022-07-17T16:27:21.953Z"
   },
   {
    "duration": 15,
    "start_time": "2022-07-17T16:27:22.254Z"
   },
   {
    "duration": 35,
    "start_time": "2022-07-17T16:27:22.271Z"
   },
   {
    "duration": 26,
    "start_time": "2022-07-17T16:27:22.308Z"
   },
   {
    "duration": 135,
    "start_time": "2022-07-17T16:27:22.336Z"
   },
   {
    "duration": 238,
    "start_time": "2022-07-17T16:27:22.474Z"
   },
   {
    "duration": 183,
    "start_time": "2022-07-17T16:27:22.714Z"
   },
   {
    "duration": 226,
    "start_time": "2022-07-17T16:27:22.901Z"
   },
   {
    "duration": 114,
    "start_time": "2022-07-17T16:27:23.128Z"
   },
   {
    "duration": 145,
    "start_time": "2022-07-17T16:27:23.244Z"
   },
   {
    "duration": 18,
    "start_time": "2022-07-17T16:27:23.390Z"
   },
   {
    "duration": 175,
    "start_time": "2022-07-17T16:27:23.410Z"
   },
   {
    "duration": 264,
    "start_time": "2022-07-17T16:27:23.587Z"
   },
   {
    "duration": 251,
    "start_time": "2022-07-17T16:27:23.853Z"
   },
   {
    "duration": 146,
    "start_time": "2022-07-17T16:27:24.106Z"
   },
   {
    "duration": 173,
    "start_time": "2022-07-17T16:27:24.254Z"
   },
   {
    "duration": 149,
    "start_time": "2022-07-17T16:27:24.429Z"
   },
   {
    "duration": 254,
    "start_time": "2022-07-17T16:27:24.579Z"
   },
   {
    "duration": 227,
    "start_time": "2022-07-17T16:27:24.835Z"
   },
   {
    "duration": 159,
    "start_time": "2022-07-17T16:27:25.063Z"
   },
   {
    "duration": 387,
    "start_time": "2022-07-17T16:27:25.224Z"
   },
   {
    "duration": 123,
    "start_time": "2022-07-17T16:27:25.613Z"
   },
   {
    "duration": 146,
    "start_time": "2022-07-17T16:27:25.737Z"
   },
   {
    "duration": 246,
    "start_time": "2022-07-17T16:27:25.885Z"
   },
   {
    "duration": 154,
    "start_time": "2022-07-17T16:27:26.132Z"
   },
   {
    "duration": 219,
    "start_time": "2022-07-17T16:27:26.288Z"
   },
   {
    "duration": 198,
    "start_time": "2022-07-17T16:27:26.508Z"
   },
   {
    "duration": 140,
    "start_time": "2022-07-17T16:27:26.709Z"
   },
   {
    "duration": 163,
    "start_time": "2022-07-17T16:27:26.851Z"
   },
   {
    "duration": 140,
    "start_time": "2022-07-17T16:27:27.016Z"
   },
   {
    "duration": 111,
    "start_time": "2022-07-17T16:27:27.158Z"
   },
   {
    "duration": 147,
    "start_time": "2022-07-17T16:27:27.270Z"
   },
   {
    "duration": 157,
    "start_time": "2022-07-17T16:27:27.420Z"
   },
   {
    "duration": 157,
    "start_time": "2022-07-17T16:27:27.579Z"
   },
   {
    "duration": 203,
    "start_time": "2022-07-17T16:27:27.737Z"
   },
   {
    "duration": 282,
    "start_time": "2022-07-17T16:27:27.942Z"
   },
   {
    "duration": 196,
    "start_time": "2022-07-17T16:27:28.226Z"
   },
   {
    "duration": 152,
    "start_time": "2022-07-17T16:27:28.424Z"
   },
   {
    "duration": 128,
    "start_time": "2022-07-17T16:27:28.578Z"
   },
   {
    "duration": 190,
    "start_time": "2022-07-17T16:27:28.707Z"
   },
   {
    "duration": 7,
    "start_time": "2022-07-17T16:27:28.900Z"
   },
   {
    "duration": 175,
    "start_time": "2022-07-17T16:27:28.909Z"
   },
   {
    "duration": 154,
    "start_time": "2022-07-17T16:27:29.085Z"
   },
   {
    "duration": 162,
    "start_time": "2022-07-17T16:27:29.240Z"
   },
   {
    "duration": 156,
    "start_time": "2022-07-17T16:27:29.403Z"
   },
   {
    "duration": 145,
    "start_time": "2022-07-17T16:32:52.063Z"
   },
   {
    "duration": 92,
    "start_time": "2022-07-17T16:43:37.601Z"
   },
   {
    "duration": 250,
    "start_time": "2022-07-17T16:46:16.833Z"
   },
   {
    "duration": 138,
    "start_time": "2022-07-17T16:47:06.082Z"
   },
   {
    "duration": 156,
    "start_time": "2022-07-17T16:47:24.101Z"
   },
   {
    "duration": 55,
    "start_time": "2022-07-17T16:49:10.466Z"
   },
   {
    "duration": 51,
    "start_time": "2022-07-17T16:49:25.129Z"
   },
   {
    "duration": 156,
    "start_time": "2022-07-17T16:49:30.079Z"
   },
   {
    "duration": 151,
    "start_time": "2022-07-17T16:50:09.722Z"
   },
   {
    "duration": 160,
    "start_time": "2022-07-17T16:50:33.414Z"
   },
   {
    "duration": 170,
    "start_time": "2022-07-17T16:51:02.075Z"
   },
   {
    "duration": 969,
    "start_time": "2022-07-18T12:27:35.639Z"
   },
   {
    "duration": 391,
    "start_time": "2022-07-18T12:27:36.612Z"
   },
   {
    "duration": 47,
    "start_time": "2022-07-18T12:27:37.005Z"
   },
   {
    "duration": 5,
    "start_time": "2022-07-18T12:27:37.053Z"
   },
   {
    "duration": 25,
    "start_time": "2022-07-18T12:27:37.061Z"
   },
   {
    "duration": 67,
    "start_time": "2022-07-18T12:27:37.087Z"
   },
   {
    "duration": 14,
    "start_time": "2022-07-18T12:27:37.156Z"
   },
   {
    "duration": 68,
    "start_time": "2022-07-18T12:27:37.172Z"
   },
   {
    "duration": 290,
    "start_time": "2022-07-18T12:27:37.242Z"
   },
   {
    "duration": 14,
    "start_time": "2022-07-18T12:27:37.534Z"
   },
   {
    "duration": 46,
    "start_time": "2022-07-18T12:27:37.549Z"
   },
   {
    "duration": 26,
    "start_time": "2022-07-18T12:27:37.597Z"
   },
   {
    "duration": 159,
    "start_time": "2022-07-18T12:27:37.625Z"
   },
   {
    "duration": 241,
    "start_time": "2022-07-18T12:27:37.787Z"
   },
   {
    "duration": 182,
    "start_time": "2022-07-18T12:27:38.029Z"
   },
   {
    "duration": 240,
    "start_time": "2022-07-18T12:27:38.213Z"
   },
   {
    "duration": 126,
    "start_time": "2022-07-18T12:27:38.454Z"
   },
   {
    "duration": 149,
    "start_time": "2022-07-18T12:27:38.581Z"
   },
   {
    "duration": 14,
    "start_time": "2022-07-18T12:27:38.731Z"
   },
   {
    "duration": 233,
    "start_time": "2022-07-18T12:27:38.747Z"
   },
   {
    "duration": 269,
    "start_time": "2022-07-18T12:27:38.981Z"
   },
   {
    "duration": 266,
    "start_time": "2022-07-18T12:27:39.252Z"
   },
   {
    "duration": 159,
    "start_time": "2022-07-18T12:27:39.520Z"
   },
   {
    "duration": 190,
    "start_time": "2022-07-18T12:27:39.681Z"
   },
   {
    "duration": 151,
    "start_time": "2022-07-18T12:27:39.875Z"
   },
   {
    "duration": 303,
    "start_time": "2022-07-18T12:27:40.028Z"
   },
   {
    "duration": 236,
    "start_time": "2022-07-18T12:27:40.333Z"
   },
   {
    "duration": 144,
    "start_time": "2022-07-18T12:27:40.574Z"
   },
   {
    "duration": 204,
    "start_time": "2022-07-18T12:27:40.720Z"
   },
   {
    "duration": 127,
    "start_time": "2022-07-18T12:27:40.926Z"
   },
   {
    "duration": 156,
    "start_time": "2022-07-18T12:27:41.055Z"
   },
   {
    "duration": 328,
    "start_time": "2022-07-18T12:27:41.212Z"
   },
   {
    "duration": 166,
    "start_time": "2022-07-18T12:27:41.542Z"
   },
   {
    "duration": 236,
    "start_time": "2022-07-18T12:27:41.709Z"
   },
   {
    "duration": 201,
    "start_time": "2022-07-18T12:27:41.947Z"
   },
   {
    "duration": 144,
    "start_time": "2022-07-18T12:27:42.150Z"
   },
   {
    "duration": 170,
    "start_time": "2022-07-18T12:27:42.296Z"
   },
   {
    "duration": 146,
    "start_time": "2022-07-18T12:27:42.468Z"
   },
   {
    "duration": 121,
    "start_time": "2022-07-18T12:27:42.616Z"
   },
   {
    "duration": 164,
    "start_time": "2022-07-18T12:27:42.739Z"
   },
   {
    "duration": 158,
    "start_time": "2022-07-18T12:27:42.907Z"
   },
   {
    "duration": 179,
    "start_time": "2022-07-18T12:27:43.067Z"
   },
   {
    "duration": 319,
    "start_time": "2022-07-18T12:27:43.248Z"
   },
   {
    "duration": 329,
    "start_time": "2022-07-18T12:27:43.571Z"
   },
   {
    "duration": 235,
    "start_time": "2022-07-18T12:27:43.901Z"
   },
   {
    "duration": 193,
    "start_time": "2022-07-18T12:27:44.138Z"
   },
   {
    "duration": 147,
    "start_time": "2022-07-18T12:27:44.334Z"
   },
   {
    "duration": 284,
    "start_time": "2022-07-18T12:27:44.483Z"
   },
   {
    "duration": 21,
    "start_time": "2022-07-18T12:27:44.769Z"
   },
   {
    "duration": 227,
    "start_time": "2022-07-18T12:27:44.793Z"
   },
   {
    "duration": 263,
    "start_time": "2022-07-18T12:27:45.022Z"
   },
   {
    "duration": 181,
    "start_time": "2022-07-18T12:27:45.287Z"
   },
   {
    "duration": 191,
    "start_time": "2022-07-18T12:27:45.470Z"
   },
   {
    "duration": 174,
    "start_time": "2022-07-18T12:27:45.666Z"
   },
   {
    "duration": 282,
    "start_time": "2022-07-18T12:27:45.842Z"
   },
   {
    "duration": 152,
    "start_time": "2022-07-18T13:00:56.843Z"
   },
   {
    "duration": 161,
    "start_time": "2022-07-18T13:03:12.443Z"
   },
   {
    "duration": 204,
    "start_time": "2022-07-18T13:03:22.936Z"
   },
   {
    "duration": 162,
    "start_time": "2022-07-18T13:04:04.418Z"
   },
   {
    "duration": 145,
    "start_time": "2022-07-18T13:04:21.256Z"
   },
   {
    "duration": 158,
    "start_time": "2022-07-18T13:15:43.468Z"
   },
   {
    "duration": 60,
    "start_time": "2022-07-18T13:16:08.002Z"
   },
   {
    "duration": 3,
    "start_time": "2022-07-18T14:55:52.743Z"
   },
   {
    "duration": 29,
    "start_time": "2022-07-18T15:01:26.513Z"
   },
   {
    "duration": 8,
    "start_time": "2022-07-18T15:03:01.017Z"
   },
   {
    "duration": 21,
    "start_time": "2022-07-18T15:03:04.491Z"
   },
   {
    "duration": 33,
    "start_time": "2022-07-18T15:03:33.660Z"
   },
   {
    "duration": 61,
    "start_time": "2022-07-18T15:03:42.199Z"
   },
   {
    "duration": 7,
    "start_time": "2022-07-18T15:03:57.943Z"
   },
   {
    "duration": 1046,
    "start_time": "2022-07-18T16:06:10.238Z"
   },
   {
    "duration": 152,
    "start_time": "2022-07-18T16:08:15.560Z"
   },
   {
    "duration": 268,
    "start_time": "2022-07-18T16:09:56.176Z"
   },
   {
    "duration": 631,
    "start_time": "2022-07-18T21:45:38.511Z"
   },
   {
    "duration": 94,
    "start_time": "2022-07-18T21:45:39.144Z"
   },
   {
    "duration": 45,
    "start_time": "2022-07-18T21:45:39.240Z"
   },
   {
    "duration": 5,
    "start_time": "2022-07-18T21:45:39.287Z"
   },
   {
    "duration": 5,
    "start_time": "2022-07-18T21:45:39.301Z"
   },
   {
    "duration": 63,
    "start_time": "2022-07-18T21:45:39.307Z"
   },
   {
    "duration": 5,
    "start_time": "2022-07-18T21:45:39.372Z"
   },
   {
    "duration": 64,
    "start_time": "2022-07-18T21:45:39.379Z"
   },
   {
    "duration": 280,
    "start_time": "2022-07-18T21:45:39.445Z"
   },
   {
    "duration": 13,
    "start_time": "2022-07-18T21:45:39.728Z"
   },
   {
    "duration": 23,
    "start_time": "2022-07-18T21:45:39.743Z"
   },
   {
    "duration": 47,
    "start_time": "2022-07-18T21:45:39.768Z"
   },
   {
    "duration": 127,
    "start_time": "2022-07-18T21:45:39.816Z"
   },
   {
    "duration": 235,
    "start_time": "2022-07-18T21:45:39.945Z"
   },
   {
    "duration": 182,
    "start_time": "2022-07-18T21:45:40.181Z"
   },
   {
    "duration": 231,
    "start_time": "2022-07-18T21:45:40.365Z"
   },
   {
    "duration": 105,
    "start_time": "2022-07-18T21:45:40.600Z"
   },
   {
    "duration": 143,
    "start_time": "2022-07-18T21:45:40.706Z"
   },
   {
    "duration": 11,
    "start_time": "2022-07-18T21:45:40.851Z"
   },
   {
    "duration": 170,
    "start_time": "2022-07-18T21:45:40.864Z"
   },
   {
    "duration": 242,
    "start_time": "2022-07-18T21:45:41.036Z"
   },
   {
    "duration": 221,
    "start_time": "2022-07-18T21:45:41.279Z"
   },
   {
    "duration": 162,
    "start_time": "2022-07-18T21:45:41.502Z"
   },
   {
    "duration": 176,
    "start_time": "2022-07-18T21:45:41.666Z"
   },
   {
    "duration": 151,
    "start_time": "2022-07-18T21:45:41.843Z"
   },
   {
    "duration": 246,
    "start_time": "2022-07-18T21:45:42.000Z"
   },
   {
    "duration": 204,
    "start_time": "2022-07-18T21:45:42.248Z"
   },
   {
    "duration": 130,
    "start_time": "2022-07-18T21:45:42.455Z"
   },
   {
    "duration": 183,
    "start_time": "2022-07-18T21:45:42.587Z"
   },
   {
    "duration": 112,
    "start_time": "2022-07-18T21:45:42.771Z"
   },
   {
    "duration": 142,
    "start_time": "2022-07-18T21:45:42.885Z"
   },
   {
    "duration": 228,
    "start_time": "2022-07-18T21:45:43.028Z"
   },
   {
    "duration": 148,
    "start_time": "2022-07-18T21:45:43.257Z"
   },
   {
    "duration": 229,
    "start_time": "2022-07-18T21:45:43.406Z"
   },
   {
    "duration": 182,
    "start_time": "2022-07-18T21:45:43.636Z"
   },
   {
    "duration": 151,
    "start_time": "2022-07-18T21:45:43.820Z"
   },
   {
    "duration": 164,
    "start_time": "2022-07-18T21:45:43.973Z"
   },
   {
    "duration": 136,
    "start_time": "2022-07-18T21:45:44.139Z"
   },
   {
    "duration": 109,
    "start_time": "2022-07-18T21:45:44.276Z"
   },
   {
    "duration": 152,
    "start_time": "2022-07-18T21:45:44.386Z"
   },
   {
    "duration": 135,
    "start_time": "2022-07-18T21:45:44.540Z"
   },
   {
    "duration": 146,
    "start_time": "2022-07-18T21:45:44.677Z"
   },
   {
    "duration": 193,
    "start_time": "2022-07-18T21:45:44.825Z"
   },
   {
    "duration": 275,
    "start_time": "2022-07-18T21:45:45.020Z"
   },
   {
    "duration": 189,
    "start_time": "2022-07-18T21:45:45.301Z"
   },
   {
    "duration": 153,
    "start_time": "2022-07-18T21:45:45.492Z"
   },
   {
    "duration": 118,
    "start_time": "2022-07-18T21:45:45.646Z"
   },
   {
    "duration": 178,
    "start_time": "2022-07-18T21:45:45.766Z"
   },
   {
    "duration": 8,
    "start_time": "2022-07-18T21:45:45.946Z"
   },
   {
    "duration": 175,
    "start_time": "2022-07-18T21:45:45.956Z"
   },
   {
    "duration": 175,
    "start_time": "2022-07-18T21:45:46.133Z"
   },
   {
    "duration": 303,
    "start_time": "2022-07-18T21:45:46.310Z"
   },
   {
    "duration": 303,
    "start_time": "2022-07-18T21:45:46.615Z"
   },
   {
    "duration": 296,
    "start_time": "2022-07-18T21:45:46.920Z"
   },
   {
    "duration": 495,
    "start_time": "2022-07-18T21:45:47.217Z"
   },
   {
    "duration": 236,
    "start_time": "2022-07-18T21:45:47.713Z"
   },
   {
    "duration": 155,
    "start_time": "2022-07-18T21:45:47.951Z"
   },
   {
    "duration": 151,
    "start_time": "2022-07-18T21:45:48.107Z"
   },
   {
    "duration": 23,
    "start_time": "2022-07-18T21:45:48.260Z"
   },
   {
    "duration": 20,
    "start_time": "2022-07-18T21:45:48.285Z"
   },
   {
    "duration": 13,
    "start_time": "2022-07-18T21:45:48.307Z"
   },
   {
    "duration": 157,
    "start_time": "2022-07-18T21:45:48.321Z"
   },
   {
    "duration": 39,
    "start_time": "2022-07-25T10:40:12.218Z"
   },
   {
    "duration": 971,
    "start_time": "2022-07-25T10:40:15.318Z"
   },
   {
    "duration": 139,
    "start_time": "2022-07-25T10:40:16.291Z"
   },
   {
    "duration": 40,
    "start_time": "2022-07-25T10:40:16.432Z"
   },
   {
    "duration": 5,
    "start_time": "2022-07-25T10:40:16.473Z"
   },
   {
    "duration": 1728,
    "start_time": "2022-07-25T10:40:16.480Z"
   },
   {
    "duration": 5,
    "start_time": "2022-07-25T10:40:18.210Z"
   },
   {
    "duration": 66,
    "start_time": "2022-07-25T10:40:18.216Z"
   },
   {
    "duration": 6,
    "start_time": "2022-07-25T10:40:18.283Z"
   },
   {
    "duration": 42,
    "start_time": "2022-07-25T10:40:18.301Z"
   },
   {
    "duration": 263,
    "start_time": "2022-07-25T10:40:18.345Z"
   },
   {
    "duration": 14,
    "start_time": "2022-07-25T10:40:18.609Z"
   },
   {
    "duration": 21,
    "start_time": "2022-07-25T10:40:18.625Z"
   },
   {
    "duration": 25,
    "start_time": "2022-07-25T10:40:18.647Z"
   },
   {
    "duration": 135,
    "start_time": "2022-07-25T10:40:18.675Z"
   },
   {
    "duration": 206,
    "start_time": "2022-07-25T10:40:18.812Z"
   },
   {
    "duration": 159,
    "start_time": "2022-07-25T10:40:19.020Z"
   },
   {
    "duration": 162,
    "start_time": "2022-07-25T10:40:19.180Z"
   },
   {
    "duration": 99,
    "start_time": "2022-07-25T10:40:19.344Z"
   },
   {
    "duration": 201,
    "start_time": "2022-07-25T10:40:19.444Z"
   },
   {
    "duration": 10,
    "start_time": "2022-07-25T10:40:19.646Z"
   },
   {
    "duration": 163,
    "start_time": "2022-07-25T10:40:19.658Z"
   },
   {
    "duration": 241,
    "start_time": "2022-07-25T10:40:19.823Z"
   },
   {
    "duration": 201,
    "start_time": "2022-07-25T10:40:20.065Z"
   },
   {
    "duration": 135,
    "start_time": "2022-07-25T10:40:20.268Z"
   },
   {
    "duration": 165,
    "start_time": "2022-07-25T10:40:20.405Z"
   },
   {
    "duration": 144,
    "start_time": "2022-07-25T10:40:20.572Z"
   },
   {
    "duration": 168,
    "start_time": "2022-07-25T10:40:20.717Z"
   },
   {
    "duration": 276,
    "start_time": "2022-07-25T10:40:20.887Z"
   },
   {
    "duration": 124,
    "start_time": "2022-07-25T10:40:21.165Z"
   },
   {
    "duration": 185,
    "start_time": "2022-07-25T10:40:21.290Z"
   },
   {
    "duration": 115,
    "start_time": "2022-07-25T10:40:21.477Z"
   },
   {
    "duration": 138,
    "start_time": "2022-07-25T10:40:21.594Z"
   },
   {
    "duration": 220,
    "start_time": "2022-07-25T10:40:21.733Z"
   },
   {
    "duration": 141,
    "start_time": "2022-07-25T10:40:21.955Z"
   },
   {
    "duration": 139,
    "start_time": "2022-07-25T10:40:22.101Z"
   },
   {
    "duration": 168,
    "start_time": "2022-07-25T10:40:22.241Z"
   },
   {
    "duration": 222,
    "start_time": "2022-07-25T10:40:22.410Z"
   },
   {
    "duration": 160,
    "start_time": "2022-07-25T10:40:22.633Z"
   },
   {
    "duration": 145,
    "start_time": "2022-07-25T10:40:22.794Z"
   },
   {
    "duration": 105,
    "start_time": "2022-07-25T10:40:22.940Z"
   },
   {
    "duration": 142,
    "start_time": "2022-07-25T10:40:23.049Z"
   },
   {
    "duration": 147,
    "start_time": "2022-07-25T10:40:23.192Z"
   },
   {
    "duration": 162,
    "start_time": "2022-07-25T10:40:23.340Z"
   },
   {
    "duration": 199,
    "start_time": "2022-07-25T10:40:23.503Z"
   },
   {
    "duration": 146,
    "start_time": "2022-07-25T10:40:23.703Z"
   },
   {
    "duration": 186,
    "start_time": "2022-07-25T10:40:23.850Z"
   },
   {
    "duration": 146,
    "start_time": "2022-07-25T10:40:24.038Z"
   },
   {
    "duration": 118,
    "start_time": "2022-07-25T10:40:24.186Z"
   },
   {
    "duration": 288,
    "start_time": "2022-07-25T10:40:24.306Z"
   },
   {
    "duration": 7,
    "start_time": "2022-07-25T10:40:24.602Z"
   },
   {
    "duration": 165,
    "start_time": "2022-07-25T10:40:24.611Z"
   },
   {
    "duration": 149,
    "start_time": "2022-07-25T10:40:24.777Z"
   },
   {
    "duration": 148,
    "start_time": "2022-07-25T10:40:24.928Z"
   },
   {
    "duration": 161,
    "start_time": "2022-07-25T10:40:25.078Z"
   },
   {
    "duration": 141,
    "start_time": "2022-07-25T10:40:25.241Z"
   },
   {
    "duration": 134,
    "start_time": "2022-07-25T10:40:25.384Z"
   },
   {
    "duration": 160,
    "start_time": "2022-07-25T10:40:25.520Z"
   },
   {
    "duration": 148,
    "start_time": "2022-07-25T10:40:25.681Z"
   },
   {
    "duration": 145,
    "start_time": "2022-07-25T10:40:25.831Z"
   },
   {
    "duration": 32,
    "start_time": "2022-07-25T10:40:25.978Z"
   },
   {
    "duration": 6,
    "start_time": "2022-07-25T10:40:26.012Z"
   },
   {
    "duration": 8,
    "start_time": "2022-07-25T10:40:26.020Z"
   },
   {
    "duration": 155,
    "start_time": "2022-07-25T10:40:26.030Z"
   },
   {
    "duration": 88,
    "start_time": "2022-07-25T15:57:29.616Z"
   },
   {
    "duration": 87,
    "start_time": "2022-07-25T15:57:33.801Z"
   },
   {
    "duration": 94,
    "start_time": "2022-07-25T15:57:46.180Z"
   },
   {
    "duration": 87,
    "start_time": "2022-07-25T15:57:49.085Z"
   },
   {
    "duration": 89,
    "start_time": "2022-07-25T15:57:55.521Z"
   },
   {
    "duration": 106,
    "start_time": "2022-07-25T15:57:59.831Z"
   },
   {
    "duration": 100,
    "start_time": "2022-07-25T16:03:24.144Z"
   },
   {
    "duration": 104,
    "start_time": "2022-07-25T16:03:36.842Z"
   },
   {
    "duration": 51,
    "start_time": "2022-07-25T16:07:10.198Z"
   },
   {
    "duration": 141,
    "start_time": "2022-07-25T16:07:33.718Z"
   },
   {
    "duration": 1417,
    "start_time": "2022-07-25T16:08:30.420Z"
   },
   {
    "duration": 301,
    "start_time": "2022-07-25T16:17:15.749Z"
   },
   {
    "duration": 137,
    "start_time": "2022-07-25T16:18:29.653Z"
   },
   {
    "duration": 309,
    "start_time": "2022-07-25T16:19:21.568Z"
   },
   {
    "duration": 346,
    "start_time": "2022-07-25T16:23:41.160Z"
   },
   {
    "duration": 130,
    "start_time": "2022-07-25T16:23:54.215Z"
   },
   {
    "duration": 1177,
    "start_time": "2022-07-25T16:24:20.942Z"
   },
   {
    "duration": 11009,
    "start_time": "2022-07-25T16:25:18.386Z"
   },
   {
    "duration": 26,
    "start_time": "2022-07-25T16:25:41.491Z"
   },
   {
    "duration": 22,
    "start_time": "2022-07-25T16:25:57.011Z"
   },
   {
    "duration": 1292,
    "start_time": "2022-07-25T16:26:32.773Z"
   },
   {
    "duration": 132,
    "start_time": "2022-07-25T16:28:52.560Z"
   },
   {
    "duration": 26,
    "start_time": "2022-07-25T16:29:10.661Z"
   },
   {
    "duration": 128,
    "start_time": "2022-07-25T16:31:21.564Z"
   },
   {
    "duration": 139,
    "start_time": "2022-07-25T16:32:33.964Z"
   },
   {
    "duration": 155,
    "start_time": "2022-07-25T16:32:40.645Z"
   },
   {
    "duration": 143,
    "start_time": "2022-07-25T16:32:46.961Z"
   },
   {
    "duration": 161,
    "start_time": "2022-07-25T16:33:02.149Z"
   },
   {
    "duration": 155,
    "start_time": "2022-07-25T16:33:13.428Z"
   },
   {
    "duration": 135,
    "start_time": "2022-07-25T16:33:48.848Z"
   },
   {
    "duration": 3,
    "start_time": "2022-07-25T16:34:19.247Z"
   },
   {
    "duration": 99,
    "start_time": "2022-07-25T16:34:19.251Z"
   },
   {
    "duration": 36,
    "start_time": "2022-07-25T16:34:19.351Z"
   },
   {
    "duration": 15,
    "start_time": "2022-07-25T16:34:19.388Z"
   },
   {
    "duration": 1880,
    "start_time": "2022-07-25T16:34:19.405Z"
   },
   {
    "duration": 5,
    "start_time": "2022-07-25T16:34:21.286Z"
   },
   {
    "duration": 15,
    "start_time": "2022-07-25T16:34:21.301Z"
   },
   {
    "duration": 0,
    "start_time": "2022-07-25T16:34:21.318Z"
   },
   {
    "duration": 0,
    "start_time": "2022-07-25T16:34:21.319Z"
   },
   {
    "duration": 0,
    "start_time": "2022-07-25T16:34:21.320Z"
   },
   {
    "duration": 0,
    "start_time": "2022-07-25T16:34:21.321Z"
   },
   {
    "duration": 0,
    "start_time": "2022-07-25T16:34:21.322Z"
   },
   {
    "duration": 0,
    "start_time": "2022-07-25T16:34:21.323Z"
   },
   {
    "duration": 0,
    "start_time": "2022-07-25T16:34:21.324Z"
   },
   {
    "duration": 0,
    "start_time": "2022-07-25T16:34:21.324Z"
   },
   {
    "duration": 0,
    "start_time": "2022-07-25T16:34:21.325Z"
   },
   {
    "duration": 0,
    "start_time": "2022-07-25T16:34:21.326Z"
   },
   {
    "duration": 0,
    "start_time": "2022-07-25T16:34:21.327Z"
   },
   {
    "duration": 0,
    "start_time": "2022-07-25T16:34:21.328Z"
   },
   {
    "duration": 0,
    "start_time": "2022-07-25T16:34:21.329Z"
   },
   {
    "duration": 0,
    "start_time": "2022-07-25T16:34:21.329Z"
   },
   {
    "duration": 0,
    "start_time": "2022-07-25T16:34:21.330Z"
   },
   {
    "duration": 0,
    "start_time": "2022-07-25T16:34:21.331Z"
   },
   {
    "duration": 0,
    "start_time": "2022-07-25T16:34:21.332Z"
   },
   {
    "duration": 0,
    "start_time": "2022-07-25T16:34:21.333Z"
   },
   {
    "duration": 0,
    "start_time": "2022-07-25T16:34:21.333Z"
   },
   {
    "duration": 0,
    "start_time": "2022-07-25T16:34:21.334Z"
   },
   {
    "duration": 0,
    "start_time": "2022-07-25T16:34:21.335Z"
   },
   {
    "duration": 0,
    "start_time": "2022-07-25T16:34:21.336Z"
   },
   {
    "duration": 0,
    "start_time": "2022-07-25T16:34:21.337Z"
   },
   {
    "duration": 0,
    "start_time": "2022-07-25T16:34:21.338Z"
   },
   {
    "duration": 0,
    "start_time": "2022-07-25T16:34:21.338Z"
   },
   {
    "duration": 0,
    "start_time": "2022-07-25T16:34:21.339Z"
   },
   {
    "duration": 0,
    "start_time": "2022-07-25T16:34:21.340Z"
   },
   {
    "duration": 0,
    "start_time": "2022-07-25T16:34:21.341Z"
   },
   {
    "duration": 0,
    "start_time": "2022-07-25T16:34:21.342Z"
   },
   {
    "duration": 0,
    "start_time": "2022-07-25T16:34:21.343Z"
   },
   {
    "duration": 0,
    "start_time": "2022-07-25T16:34:21.344Z"
   },
   {
    "duration": 0,
    "start_time": "2022-07-25T16:34:21.345Z"
   },
   {
    "duration": 0,
    "start_time": "2022-07-25T16:34:21.345Z"
   },
   {
    "duration": 0,
    "start_time": "2022-07-25T16:34:21.346Z"
   },
   {
    "duration": 0,
    "start_time": "2022-07-25T16:34:21.347Z"
   },
   {
    "duration": 0,
    "start_time": "2022-07-25T16:34:21.402Z"
   },
   {
    "duration": 0,
    "start_time": "2022-07-25T16:34:21.403Z"
   },
   {
    "duration": 0,
    "start_time": "2022-07-25T16:34:21.404Z"
   },
   {
    "duration": 0,
    "start_time": "2022-07-25T16:34:21.405Z"
   },
   {
    "duration": 0,
    "start_time": "2022-07-25T16:34:21.406Z"
   },
   {
    "duration": 0,
    "start_time": "2022-07-25T16:34:21.406Z"
   },
   {
    "duration": 0,
    "start_time": "2022-07-25T16:34:21.408Z"
   },
   {
    "duration": 0,
    "start_time": "2022-07-25T16:34:21.408Z"
   },
   {
    "duration": 0,
    "start_time": "2022-07-25T16:34:21.409Z"
   },
   {
    "duration": 0,
    "start_time": "2022-07-25T16:34:21.410Z"
   },
   {
    "duration": 0,
    "start_time": "2022-07-25T16:34:21.411Z"
   },
   {
    "duration": 0,
    "start_time": "2022-07-25T16:34:21.412Z"
   },
   {
    "duration": 0,
    "start_time": "2022-07-25T16:34:21.412Z"
   },
   {
    "duration": 0,
    "start_time": "2022-07-25T16:34:21.414Z"
   },
   {
    "duration": 0,
    "start_time": "2022-07-25T16:34:21.415Z"
   },
   {
    "duration": 0,
    "start_time": "2022-07-25T16:34:21.415Z"
   },
   {
    "duration": 0,
    "start_time": "2022-07-25T16:34:21.416Z"
   },
   {
    "duration": 0,
    "start_time": "2022-07-25T16:34:21.417Z"
   },
   {
    "duration": 0,
    "start_time": "2022-07-25T16:34:21.418Z"
   },
   {
    "duration": 0,
    "start_time": "2022-07-25T16:34:21.419Z"
   },
   {
    "duration": 0,
    "start_time": "2022-07-25T16:34:21.420Z"
   },
   {
    "duration": 2,
    "start_time": "2022-07-25T16:37:26.972Z"
   },
   {
    "duration": 100,
    "start_time": "2022-07-25T16:37:26.976Z"
   },
   {
    "duration": 41,
    "start_time": "2022-07-25T16:37:27.078Z"
   },
   {
    "duration": 5,
    "start_time": "2022-07-25T16:37:27.120Z"
   },
   {
    "duration": 1851,
    "start_time": "2022-07-25T16:37:27.127Z"
   },
   {
    "duration": 6,
    "start_time": "2022-07-25T16:37:28.980Z"
   },
   {
    "duration": 25,
    "start_time": "2022-07-25T16:37:28.987Z"
   },
   {
    "duration": 0,
    "start_time": "2022-07-25T16:37:29.015Z"
   },
   {
    "duration": 0,
    "start_time": "2022-07-25T16:37:29.017Z"
   },
   {
    "duration": 0,
    "start_time": "2022-07-25T16:37:29.018Z"
   },
   {
    "duration": 0,
    "start_time": "2022-07-25T16:37:29.019Z"
   },
   {
    "duration": 0,
    "start_time": "2022-07-25T16:37:29.020Z"
   },
   {
    "duration": 0,
    "start_time": "2022-07-25T16:37:29.022Z"
   },
   {
    "duration": 0,
    "start_time": "2022-07-25T16:37:29.023Z"
   },
   {
    "duration": 0,
    "start_time": "2022-07-25T16:37:29.025Z"
   },
   {
    "duration": 0,
    "start_time": "2022-07-25T16:37:29.026Z"
   },
   {
    "duration": 0,
    "start_time": "2022-07-25T16:37:29.028Z"
   },
   {
    "duration": 0,
    "start_time": "2022-07-25T16:37:29.029Z"
   },
   {
    "duration": 1,
    "start_time": "2022-07-25T16:37:29.030Z"
   },
   {
    "duration": 0,
    "start_time": "2022-07-25T16:37:29.032Z"
   },
   {
    "duration": 0,
    "start_time": "2022-07-25T16:37:29.033Z"
   },
   {
    "duration": 0,
    "start_time": "2022-07-25T16:37:29.034Z"
   },
   {
    "duration": 0,
    "start_time": "2022-07-25T16:37:29.036Z"
   },
   {
    "duration": 0,
    "start_time": "2022-07-25T16:37:29.037Z"
   },
   {
    "duration": 0,
    "start_time": "2022-07-25T16:37:29.038Z"
   },
   {
    "duration": 0,
    "start_time": "2022-07-25T16:37:29.040Z"
   },
   {
    "duration": 0,
    "start_time": "2022-07-25T16:37:29.041Z"
   },
   {
    "duration": 0,
    "start_time": "2022-07-25T16:37:29.043Z"
   },
   {
    "duration": 0,
    "start_time": "2022-07-25T16:37:29.044Z"
   },
   {
    "duration": 0,
    "start_time": "2022-07-25T16:37:29.046Z"
   },
   {
    "duration": 0,
    "start_time": "2022-07-25T16:37:29.047Z"
   },
   {
    "duration": 0,
    "start_time": "2022-07-25T16:37:29.048Z"
   },
   {
    "duration": 0,
    "start_time": "2022-07-25T16:37:29.102Z"
   },
   {
    "duration": 0,
    "start_time": "2022-07-25T16:37:29.104Z"
   },
   {
    "duration": 0,
    "start_time": "2022-07-25T16:37:29.105Z"
   },
   {
    "duration": 0,
    "start_time": "2022-07-25T16:37:29.106Z"
   },
   {
    "duration": 0,
    "start_time": "2022-07-25T16:37:29.108Z"
   },
   {
    "duration": 0,
    "start_time": "2022-07-25T16:37:29.109Z"
   },
   {
    "duration": 0,
    "start_time": "2022-07-25T16:37:29.110Z"
   },
   {
    "duration": 0,
    "start_time": "2022-07-25T16:37:29.112Z"
   },
   {
    "duration": 0,
    "start_time": "2022-07-25T16:37:29.113Z"
   },
   {
    "duration": 0,
    "start_time": "2022-07-25T16:37:29.114Z"
   },
   {
    "duration": 0,
    "start_time": "2022-07-25T16:37:29.115Z"
   },
   {
    "duration": 0,
    "start_time": "2022-07-25T16:37:29.117Z"
   },
   {
    "duration": 0,
    "start_time": "2022-07-25T16:37:29.118Z"
   },
   {
    "duration": 1,
    "start_time": "2022-07-25T16:37:29.119Z"
   },
   {
    "duration": 0,
    "start_time": "2022-07-25T16:37:29.121Z"
   },
   {
    "duration": 0,
    "start_time": "2022-07-25T16:37:29.122Z"
   },
   {
    "duration": 0,
    "start_time": "2022-07-25T16:37:29.123Z"
   },
   {
    "duration": 0,
    "start_time": "2022-07-25T16:37:29.125Z"
   },
   {
    "duration": 0,
    "start_time": "2022-07-25T16:37:29.126Z"
   },
   {
    "duration": 0,
    "start_time": "2022-07-25T16:37:29.127Z"
   },
   {
    "duration": 0,
    "start_time": "2022-07-25T16:37:29.129Z"
   },
   {
    "duration": 0,
    "start_time": "2022-07-25T16:37:29.130Z"
   },
   {
    "duration": 0,
    "start_time": "2022-07-25T16:37:29.132Z"
   },
   {
    "duration": 0,
    "start_time": "2022-07-25T16:37:29.133Z"
   },
   {
    "duration": 0,
    "start_time": "2022-07-25T16:37:29.134Z"
   },
   {
    "duration": 0,
    "start_time": "2022-07-25T16:37:29.135Z"
   },
   {
    "duration": 0,
    "start_time": "2022-07-25T16:37:29.136Z"
   },
   {
    "duration": 0,
    "start_time": "2022-07-25T16:37:29.138Z"
   },
   {
    "duration": 0,
    "start_time": "2022-07-25T16:37:29.139Z"
   },
   {
    "duration": 0,
    "start_time": "2022-07-25T16:37:29.140Z"
   },
   {
    "duration": 0,
    "start_time": "2022-07-25T16:37:29.141Z"
   },
   {
    "duration": 61,
    "start_time": "2022-07-25T16:38:10.725Z"
   },
   {
    "duration": 107,
    "start_time": "2022-07-25T16:42:06.898Z"
   },
   {
    "duration": 2,
    "start_time": "2022-07-25T16:42:59.297Z"
   },
   {
    "duration": 93,
    "start_time": "2022-07-25T16:42:59.301Z"
   },
   {
    "duration": 37,
    "start_time": "2022-07-25T16:42:59.396Z"
   },
   {
    "duration": 5,
    "start_time": "2022-07-25T16:42:59.434Z"
   },
   {
    "duration": 1633,
    "start_time": "2022-07-25T16:42:59.441Z"
   },
   {
    "duration": 6,
    "start_time": "2022-07-25T16:43:01.076Z"
   },
   {
    "duration": 67,
    "start_time": "2022-07-25T16:43:01.084Z"
   },
   {
    "duration": 5,
    "start_time": "2022-07-25T16:43:01.152Z"
   },
   {
    "duration": 55,
    "start_time": "2022-07-25T16:43:01.159Z"
   },
   {
    "duration": 492,
    "start_time": "2022-07-25T16:43:01.215Z"
   },
   {
    "duration": 14,
    "start_time": "2022-07-25T16:43:01.709Z"
   },
   {
    "duration": 39,
    "start_time": "2022-07-25T16:43:01.724Z"
   },
   {
    "duration": 39,
    "start_time": "2022-07-25T16:43:01.765Z"
   },
   {
    "duration": 120,
    "start_time": "2022-07-25T16:43:01.805Z"
   },
   {
    "duration": 245,
    "start_time": "2022-07-25T16:43:01.927Z"
   },
   {
    "duration": 174,
    "start_time": "2022-07-25T16:43:02.173Z"
   },
   {
    "duration": 171,
    "start_time": "2022-07-25T16:43:02.348Z"
   },
   {
    "duration": 108,
    "start_time": "2022-07-25T16:43:02.521Z"
   },
   {
    "duration": 137,
    "start_time": "2022-07-25T16:43:02.631Z"
   },
   {
    "duration": 13,
    "start_time": "2022-07-25T16:43:02.769Z"
   },
   {
    "duration": 170,
    "start_time": "2022-07-25T16:43:02.783Z"
   },
   {
    "duration": 251,
    "start_time": "2022-07-25T16:43:02.955Z"
   },
   {
    "duration": 221,
    "start_time": "2022-07-25T16:43:03.208Z"
   },
   {
    "duration": 145,
    "start_time": "2022-07-25T16:43:03.431Z"
   },
   {
    "duration": 173,
    "start_time": "2022-07-25T16:43:03.578Z"
   },
   {
    "duration": 149,
    "start_time": "2022-07-25T16:43:03.753Z"
   },
   {
    "duration": 179,
    "start_time": "2022-07-25T16:43:03.903Z"
   },
   {
    "duration": 206,
    "start_time": "2022-07-25T16:43:04.084Z"
   },
   {
    "duration": 131,
    "start_time": "2022-07-25T16:43:04.293Z"
   },
   {
    "duration": 171,
    "start_time": "2022-07-25T16:43:04.425Z"
   },
   {
    "duration": 114,
    "start_time": "2022-07-25T16:43:04.597Z"
   },
   {
    "duration": 356,
    "start_time": "2022-07-25T16:43:04.713Z"
   },
   {
    "duration": 242,
    "start_time": "2022-07-25T16:43:05.070Z"
   },
   {
    "duration": 142,
    "start_time": "2022-07-25T16:43:05.314Z"
   },
   {
    "duration": 150,
    "start_time": "2022-07-25T16:43:05.457Z"
   },
   {
    "duration": 186,
    "start_time": "2022-07-25T16:43:05.608Z"
   },
   {
    "duration": 131,
    "start_time": "2022-07-25T16:43:05.801Z"
   },
   {
    "duration": 155,
    "start_time": "2022-07-25T16:43:05.934Z"
   },
   {
    "duration": 131,
    "start_time": "2022-07-25T16:43:06.091Z"
   },
   {
    "duration": 107,
    "start_time": "2022-07-25T16:43:06.224Z"
   },
   {
    "duration": 142,
    "start_time": "2022-07-25T16:43:06.333Z"
   },
   {
    "duration": 140,
    "start_time": "2022-07-25T16:43:06.477Z"
   },
   {
    "duration": 142,
    "start_time": "2022-07-25T16:43:06.618Z"
   },
   {
    "duration": 184,
    "start_time": "2022-07-25T16:43:06.762Z"
   },
   {
    "duration": 140,
    "start_time": "2022-07-25T16:43:06.947Z"
   },
   {
    "duration": 177,
    "start_time": "2022-07-25T16:43:07.089Z"
   },
   {
    "duration": 182,
    "start_time": "2022-07-25T16:43:07.268Z"
   },
   {
    "duration": 141,
    "start_time": "2022-07-25T16:43:07.452Z"
   },
   {
    "duration": 201,
    "start_time": "2022-07-25T16:43:07.595Z"
   },
   {
    "duration": 10,
    "start_time": "2022-07-25T16:43:07.798Z"
   },
   {
    "duration": 168,
    "start_time": "2022-07-25T16:43:07.810Z"
   },
   {
    "duration": 159,
    "start_time": "2022-07-25T16:43:07.980Z"
   },
   {
    "duration": 166,
    "start_time": "2022-07-25T16:43:08.141Z"
   },
   {
    "duration": 161,
    "start_time": "2022-07-25T16:43:08.309Z"
   },
   {
    "duration": 151,
    "start_time": "2022-07-25T16:43:08.471Z"
   },
   {
    "duration": 143,
    "start_time": "2022-07-25T16:43:08.623Z"
   },
   {
    "duration": 179,
    "start_time": "2022-07-25T16:43:08.768Z"
   },
   {
    "duration": 159,
    "start_time": "2022-07-25T16:43:08.949Z"
   },
   {
    "duration": 388,
    "start_time": "2022-07-25T16:43:09.109Z"
   },
   {
    "duration": 20,
    "start_time": "2022-07-25T16:43:09.502Z"
   },
   {
    "duration": 6,
    "start_time": "2022-07-25T16:43:09.523Z"
   },
   {
    "duration": 8,
    "start_time": "2022-07-25T16:43:09.531Z"
   },
   {
    "duration": 165,
    "start_time": "2022-07-25T16:43:09.540Z"
   },
   {
    "duration": 145,
    "start_time": "2022-07-25T16:45:18.330Z"
   },
   {
    "duration": 130,
    "start_time": "2022-07-25T19:08:24.943Z"
   },
   {
    "duration": 122,
    "start_time": "2022-07-25T19:08:37.041Z"
   },
   {
    "duration": 128,
    "start_time": "2022-07-25T19:08:46.950Z"
   },
   {
    "duration": 21,
    "start_time": "2022-07-25T19:10:33.869Z"
   },
   {
    "duration": 1185,
    "start_time": "2022-07-25T19:12:11.149Z"
   },
   {
    "duration": 1174,
    "start_time": "2022-07-25T19:13:24.804Z"
   },
   {
    "duration": 160,
    "start_time": "2022-07-25T19:13:38.834Z"
   },
   {
    "duration": 152,
    "start_time": "2022-07-25T19:14:25.448Z"
   },
   {
    "duration": 160,
    "start_time": "2022-07-25T19:14:43.304Z"
   },
   {
    "duration": 150,
    "start_time": "2022-07-25T19:16:39.445Z"
   },
   {
    "duration": 133,
    "start_time": "2022-07-25T19:16:46.917Z"
   },
   {
    "duration": 129,
    "start_time": "2022-07-25T19:16:54.182Z"
   },
   {
    "duration": 94,
    "start_time": "2022-07-25T19:25:04.510Z"
   },
   {
    "duration": 632,
    "start_time": "2022-07-25T21:27:16.334Z"
   },
   {
    "duration": 100,
    "start_time": "2022-07-25T21:27:16.968Z"
   },
   {
    "duration": 45,
    "start_time": "2022-07-25T21:27:17.070Z"
   },
   {
    "duration": 5,
    "start_time": "2022-07-25T21:27:17.116Z"
   },
   {
    "duration": 2306,
    "start_time": "2022-07-25T21:27:17.136Z"
   },
   {
    "duration": 121,
    "start_time": "2022-07-25T21:27:19.443Z"
   },
   {
    "duration": 0,
    "start_time": "2022-07-25T21:27:19.567Z"
   },
   {
    "duration": 0,
    "start_time": "2022-07-25T21:27:19.568Z"
   },
   {
    "duration": 0,
    "start_time": "2022-07-25T21:27:19.569Z"
   },
   {
    "duration": 0,
    "start_time": "2022-07-25T21:27:19.570Z"
   },
   {
    "duration": 0,
    "start_time": "2022-07-25T21:27:19.571Z"
   },
   {
    "duration": 0,
    "start_time": "2022-07-25T21:27:19.572Z"
   },
   {
    "duration": 0,
    "start_time": "2022-07-25T21:27:19.573Z"
   },
   {
    "duration": 0,
    "start_time": "2022-07-25T21:27:19.574Z"
   },
   {
    "duration": 0,
    "start_time": "2022-07-25T21:27:19.575Z"
   },
   {
    "duration": 0,
    "start_time": "2022-07-25T21:27:19.576Z"
   },
   {
    "duration": 0,
    "start_time": "2022-07-25T21:27:19.576Z"
   },
   {
    "duration": 0,
    "start_time": "2022-07-25T21:27:19.577Z"
   },
   {
    "duration": 0,
    "start_time": "2022-07-25T21:27:19.578Z"
   },
   {
    "duration": 0,
    "start_time": "2022-07-25T21:27:19.637Z"
   },
   {
    "duration": 0,
    "start_time": "2022-07-25T21:27:19.638Z"
   },
   {
    "duration": 0,
    "start_time": "2022-07-25T21:27:19.639Z"
   },
   {
    "duration": 0,
    "start_time": "2022-07-25T21:27:19.640Z"
   },
   {
    "duration": 0,
    "start_time": "2022-07-25T21:27:19.641Z"
   },
   {
    "duration": 0,
    "start_time": "2022-07-25T21:27:19.641Z"
   },
   {
    "duration": 0,
    "start_time": "2022-07-25T21:27:19.643Z"
   },
   {
    "duration": 0,
    "start_time": "2022-07-25T21:27:19.644Z"
   },
   {
    "duration": 0,
    "start_time": "2022-07-25T21:27:19.645Z"
   },
   {
    "duration": 0,
    "start_time": "2022-07-25T21:27:19.647Z"
   },
   {
    "duration": 0,
    "start_time": "2022-07-25T21:27:19.648Z"
   },
   {
    "duration": 0,
    "start_time": "2022-07-25T21:27:19.649Z"
   },
   {
    "duration": 0,
    "start_time": "2022-07-25T21:27:19.650Z"
   },
   {
    "duration": 0,
    "start_time": "2022-07-25T21:27:19.651Z"
   },
   {
    "duration": 0,
    "start_time": "2022-07-25T21:27:19.653Z"
   },
   {
    "duration": 0,
    "start_time": "2022-07-25T21:27:19.654Z"
   },
   {
    "duration": 0,
    "start_time": "2022-07-25T21:27:19.655Z"
   },
   {
    "duration": 0,
    "start_time": "2022-07-25T21:27:19.657Z"
   },
   {
    "duration": 0,
    "start_time": "2022-07-25T21:27:19.658Z"
   },
   {
    "duration": 0,
    "start_time": "2022-07-25T21:27:19.659Z"
   },
   {
    "duration": 0,
    "start_time": "2022-07-25T21:27:19.660Z"
   },
   {
    "duration": 0,
    "start_time": "2022-07-25T21:27:19.662Z"
   },
   {
    "duration": 1,
    "start_time": "2022-07-25T21:27:19.662Z"
   },
   {
    "duration": 0,
    "start_time": "2022-07-25T21:27:19.663Z"
   },
   {
    "duration": 0,
    "start_time": "2022-07-25T21:27:19.664Z"
   },
   {
    "duration": 0,
    "start_time": "2022-07-25T21:27:19.665Z"
   },
   {
    "duration": 0,
    "start_time": "2022-07-25T21:27:19.666Z"
   },
   {
    "duration": 0,
    "start_time": "2022-07-25T21:27:19.667Z"
   },
   {
    "duration": 0,
    "start_time": "2022-07-25T21:27:19.668Z"
   },
   {
    "duration": 0,
    "start_time": "2022-07-25T21:27:19.669Z"
   },
   {
    "duration": 0,
    "start_time": "2022-07-25T21:27:19.670Z"
   },
   {
    "duration": 0,
    "start_time": "2022-07-25T21:27:19.671Z"
   },
   {
    "duration": 0,
    "start_time": "2022-07-25T21:27:19.672Z"
   },
   {
    "duration": 0,
    "start_time": "2022-07-25T21:27:19.672Z"
   },
   {
    "duration": 0,
    "start_time": "2022-07-25T21:27:19.674Z"
   },
   {
    "duration": 0,
    "start_time": "2022-07-25T21:27:19.675Z"
   },
   {
    "duration": 0,
    "start_time": "2022-07-25T21:27:19.675Z"
   },
   {
    "duration": 0,
    "start_time": "2022-07-25T21:27:19.737Z"
   },
   {
    "duration": 0,
    "start_time": "2022-07-25T21:27:19.739Z"
   },
   {
    "duration": 0,
    "start_time": "2022-07-25T21:27:19.739Z"
   },
   {
    "duration": 0,
    "start_time": "2022-07-25T21:27:19.740Z"
   },
   {
    "duration": 0,
    "start_time": "2022-07-25T21:27:19.741Z"
   },
   {
    "duration": 0,
    "start_time": "2022-07-25T21:27:19.742Z"
   },
   {
    "duration": 0,
    "start_time": "2022-07-25T21:27:19.743Z"
   },
   {
    "duration": 0,
    "start_time": "2022-07-25T21:27:19.744Z"
   },
   {
    "duration": 0,
    "start_time": "2022-07-25T21:27:19.745Z"
   },
   {
    "duration": 0,
    "start_time": "2022-07-25T21:27:19.746Z"
   },
   {
    "duration": 269,
    "start_time": "2022-07-25T21:27:27.271Z"
   },
   {
    "duration": 635,
    "start_time": "2022-07-25T21:28:40.778Z"
   },
   {
    "duration": 100,
    "start_time": "2022-07-25T21:28:41.415Z"
   },
   {
    "duration": 55,
    "start_time": "2022-07-25T21:28:41.517Z"
   },
   {
    "duration": 5,
    "start_time": "2022-07-25T21:28:41.574Z"
   },
   {
    "duration": 1922,
    "start_time": "2022-07-25T21:28:41.581Z"
   },
   {
    "duration": 325,
    "start_time": "2022-07-25T21:28:43.504Z"
   },
   {
    "duration": 10,
    "start_time": "2022-07-25T21:28:43.837Z"
   },
   {
    "duration": 95,
    "start_time": "2022-07-25T21:28:43.850Z"
   },
   {
    "duration": 6,
    "start_time": "2022-07-25T21:28:43.947Z"
   },
   {
    "duration": 54,
    "start_time": "2022-07-25T21:28:43.957Z"
   },
   {
    "duration": 454,
    "start_time": "2022-07-25T21:28:44.013Z"
   },
   {
    "duration": 17,
    "start_time": "2022-07-25T21:28:44.469Z"
   },
   {
    "duration": 32,
    "start_time": "2022-07-25T21:28:44.488Z"
   },
   {
    "duration": 40,
    "start_time": "2022-07-25T21:28:44.521Z"
   },
   {
    "duration": 149,
    "start_time": "2022-07-25T21:28:44.562Z"
   },
   {
    "duration": 274,
    "start_time": "2022-07-25T21:28:44.713Z"
   },
   {
    "duration": 199,
    "start_time": "2022-07-25T21:28:44.989Z"
   },
   {
    "duration": 208,
    "start_time": "2022-07-25T21:28:45.189Z"
   },
   {
    "duration": 177,
    "start_time": "2022-07-25T21:28:45.399Z"
   },
   {
    "duration": 303,
    "start_time": "2022-07-25T21:28:45.578Z"
   },
   {
    "duration": 66,
    "start_time": "2022-07-25T21:28:45.883Z"
   },
   {
    "duration": 387,
    "start_time": "2022-07-25T21:28:45.950Z"
   },
   {
    "duration": 600,
    "start_time": "2022-07-25T21:28:46.340Z"
   },
   {
    "duration": 625,
    "start_time": "2022-07-25T21:28:46.942Z"
   },
   {
    "duration": 156,
    "start_time": "2022-07-25T21:28:47.568Z"
   },
   {
    "duration": 171,
    "start_time": "2022-07-25T21:28:47.736Z"
   },
   {
    "duration": 160,
    "start_time": "2022-07-25T21:28:47.909Z"
   },
   {
    "duration": 192,
    "start_time": "2022-07-25T21:28:48.073Z"
   },
   {
    "duration": 233,
    "start_time": "2022-07-25T21:28:48.267Z"
   },
   {
    "duration": 147,
    "start_time": "2022-07-25T21:28:48.501Z"
   },
   {
    "duration": 204,
    "start_time": "2022-07-25T21:28:48.650Z"
   },
   {
    "duration": 281,
    "start_time": "2022-07-25T21:28:48.856Z"
   },
   {
    "duration": 161,
    "start_time": "2022-07-25T21:28:49.140Z"
   },
   {
    "duration": 269,
    "start_time": "2022-07-25T21:28:49.303Z"
   },
   {
    "duration": 304,
    "start_time": "2022-07-25T21:28:49.573Z"
   },
   {
    "duration": 361,
    "start_time": "2022-07-25T21:28:49.879Z"
   },
   {
    "duration": 337,
    "start_time": "2022-07-25T21:28:50.242Z"
   },
   {
    "duration": 292,
    "start_time": "2022-07-25T21:28:50.580Z"
   },
   {
    "duration": 384,
    "start_time": "2022-07-25T21:28:50.873Z"
   },
   {
    "duration": 383,
    "start_time": "2022-07-25T21:28:51.258Z"
   },
   {
    "duration": 234,
    "start_time": "2022-07-25T21:28:51.643Z"
   },
   {
    "duration": 385,
    "start_time": "2022-07-25T21:28:51.879Z"
   },
   {
    "duration": 497,
    "start_time": "2022-07-25T21:28:52.266Z"
   },
   {
    "duration": 385,
    "start_time": "2022-07-25T21:28:52.765Z"
   },
   {
    "duration": 426,
    "start_time": "2022-07-25T21:28:53.152Z"
   },
   {
    "duration": 369,
    "start_time": "2022-07-25T21:28:53.580Z"
   },
   {
    "duration": 405,
    "start_time": "2022-07-25T21:28:53.951Z"
   },
   {
    "duration": 302,
    "start_time": "2022-07-25T21:28:54.358Z"
   },
   {
    "duration": 313,
    "start_time": "2022-07-25T21:28:54.661Z"
   },
   {
    "duration": 267,
    "start_time": "2022-07-25T21:28:54.976Z"
   },
   {
    "duration": 8,
    "start_time": "2022-07-25T21:28:55.244Z"
   },
   {
    "duration": 188,
    "start_time": "2022-07-25T21:28:55.254Z"
   },
   {
    "duration": 163,
    "start_time": "2022-07-25T21:28:55.444Z"
   },
   {
    "duration": 155,
    "start_time": "2022-07-25T21:28:55.608Z"
   },
   {
    "duration": 157,
    "start_time": "2022-07-25T21:28:55.765Z"
   },
   {
    "duration": 158,
    "start_time": "2022-07-25T21:28:55.923Z"
   },
   {
    "duration": 273,
    "start_time": "2022-07-25T21:28:56.083Z"
   },
   {
    "duration": 167,
    "start_time": "2022-07-25T21:28:56.358Z"
   },
   {
    "duration": 179,
    "start_time": "2022-07-25T21:28:56.526Z"
   },
   {
    "duration": 164,
    "start_time": "2022-07-25T21:28:56.707Z"
   },
   {
    "duration": 154,
    "start_time": "2022-07-25T21:28:56.873Z"
   },
   {
    "duration": 23,
    "start_time": "2022-07-25T21:28:57.036Z"
   },
   {
    "duration": 190,
    "start_time": "2022-07-25T21:28:57.060Z"
   },
   {
    "duration": 10,
    "start_time": "2022-07-25T21:28:57.251Z"
   },
   {
    "duration": 14,
    "start_time": "2022-07-25T21:28:57.263Z"
   },
   {
    "duration": 177,
    "start_time": "2022-07-25T21:28:57.279Z"
   },
   {
    "duration": 676,
    "start_time": "2022-07-25T21:32:10.789Z"
   },
   {
    "duration": 104,
    "start_time": "2022-07-25T21:32:11.466Z"
   },
   {
    "duration": 47,
    "start_time": "2022-07-25T21:32:11.572Z"
   },
   {
    "duration": 16,
    "start_time": "2022-07-25T21:32:11.621Z"
   },
   {
    "duration": 1882,
    "start_time": "2022-07-25T21:32:11.638Z"
   },
   {
    "duration": 349,
    "start_time": "2022-07-25T21:32:13.521Z"
   },
   {
    "duration": 7,
    "start_time": "2022-07-25T21:32:13.872Z"
   },
   {
    "duration": 174,
    "start_time": "2022-07-25T21:32:13.881Z"
   },
   {
    "duration": 6,
    "start_time": "2022-07-25T21:32:14.057Z"
   },
   {
    "duration": 100,
    "start_time": "2022-07-25T21:32:14.065Z"
   },
   {
    "duration": 891,
    "start_time": "2022-07-25T21:32:14.167Z"
   },
   {
    "duration": 21,
    "start_time": "2022-07-25T21:32:15.061Z"
   },
   {
    "duration": 26,
    "start_time": "2022-07-25T21:32:15.138Z"
   },
   {
    "duration": 80,
    "start_time": "2022-07-25T21:32:15.165Z"
   },
   {
    "duration": 229,
    "start_time": "2022-07-25T21:32:15.247Z"
   },
   {
    "duration": 300,
    "start_time": "2022-07-25T21:32:15.477Z"
   },
   {
    "duration": 174,
    "start_time": "2022-07-25T21:32:15.779Z"
   },
   {
    "duration": 185,
    "start_time": "2022-07-25T21:32:15.955Z"
   },
   {
    "duration": 123,
    "start_time": "2022-07-25T21:32:16.142Z"
   },
   {
    "duration": 161,
    "start_time": "2022-07-25T21:32:16.267Z"
   },
   {
    "duration": 17,
    "start_time": "2022-07-25T21:32:16.430Z"
   },
   {
    "duration": 183,
    "start_time": "2022-07-25T21:32:16.448Z"
   },
   {
    "duration": 273,
    "start_time": "2022-07-25T21:32:16.633Z"
   },
   {
    "duration": 323,
    "start_time": "2022-07-25T21:32:16.908Z"
   },
   {
    "duration": 148,
    "start_time": "2022-07-25T21:32:17.236Z"
   },
   {
    "duration": 203,
    "start_time": "2022-07-25T21:32:17.386Z"
   },
   {
    "duration": 162,
    "start_time": "2022-07-25T21:32:17.591Z"
   },
   {
    "duration": 189,
    "start_time": "2022-07-25T21:32:17.758Z"
   },
   {
    "duration": 227,
    "start_time": "2022-07-25T21:32:17.949Z"
   },
   {
    "duration": 145,
    "start_time": "2022-07-25T21:32:18.178Z"
   },
   {
    "duration": 231,
    "start_time": "2022-07-25T21:32:18.325Z"
   },
   {
    "duration": 228,
    "start_time": "2022-07-25T21:32:18.558Z"
   },
   {
    "duration": 187,
    "start_time": "2022-07-25T21:32:18.787Z"
   },
   {
    "duration": 295,
    "start_time": "2022-07-25T21:32:18.976Z"
   },
   {
    "duration": 154,
    "start_time": "2022-07-25T21:32:19.273Z"
   },
   {
    "duration": 167,
    "start_time": "2022-07-25T21:32:19.428Z"
   },
   {
    "duration": 192,
    "start_time": "2022-07-25T21:32:19.596Z"
   },
   {
    "duration": 134,
    "start_time": "2022-07-25T21:32:19.789Z"
   },
   {
    "duration": 174,
    "start_time": "2022-07-25T21:32:19.925Z"
   },
   {
    "duration": 146,
    "start_time": "2022-07-25T21:32:20.101Z"
   },
   {
    "duration": 119,
    "start_time": "2022-07-25T21:32:20.249Z"
   },
   {
    "duration": 151,
    "start_time": "2022-07-25T21:32:20.370Z"
   },
   {
    "duration": 259,
    "start_time": "2022-07-25T21:32:20.522Z"
   },
   {
    "duration": 172,
    "start_time": "2022-07-25T21:32:20.783Z"
   },
   {
    "duration": 214,
    "start_time": "2022-07-25T21:32:20.957Z"
   },
   {
    "duration": 158,
    "start_time": "2022-07-25T21:32:21.173Z"
   },
   {
    "duration": 202,
    "start_time": "2022-07-25T21:32:21.336Z"
   },
   {
    "duration": 162,
    "start_time": "2022-07-25T21:32:21.540Z"
   },
   {
    "duration": 134,
    "start_time": "2022-07-25T21:32:21.704Z"
   },
   {
    "duration": 194,
    "start_time": "2022-07-25T21:32:21.840Z"
   },
   {
    "duration": 9,
    "start_time": "2022-07-25T21:32:22.035Z"
   },
   {
    "duration": 191,
    "start_time": "2022-07-25T21:32:22.045Z"
   },
   {
    "duration": 177,
    "start_time": "2022-07-25T21:32:22.238Z"
   },
   {
    "duration": 151,
    "start_time": "2022-07-25T21:32:22.416Z"
   },
   {
    "duration": 159,
    "start_time": "2022-07-25T21:32:22.569Z"
   },
   {
    "duration": 168,
    "start_time": "2022-07-25T21:32:22.730Z"
   },
   {
    "duration": 286,
    "start_time": "2022-07-25T21:32:22.901Z"
   },
   {
    "duration": 180,
    "start_time": "2022-07-25T21:32:23.189Z"
   },
   {
    "duration": 168,
    "start_time": "2022-07-25T21:32:23.371Z"
   },
   {
    "duration": 167,
    "start_time": "2022-07-25T21:32:23.541Z"
   },
   {
    "duration": 169,
    "start_time": "2022-07-25T21:32:23.710Z"
   },
   {
    "duration": 23,
    "start_time": "2022-07-25T21:32:23.880Z"
   },
   {
    "duration": 184,
    "start_time": "2022-07-25T21:32:23.905Z"
   },
   {
    "duration": 9,
    "start_time": "2022-07-25T21:32:24.091Z"
   },
   {
    "duration": 11,
    "start_time": "2022-07-25T21:32:24.101Z"
   },
   {
    "duration": 183,
    "start_time": "2022-07-25T21:32:24.113Z"
   },
   {
    "duration": 16,
    "start_time": "2022-07-25T21:33:19.956Z"
   },
   {
    "duration": 59,
    "start_time": "2022-07-26T09:50:33.205Z"
   },
   {
    "duration": 970,
    "start_time": "2022-07-26T09:53:15.272Z"
   },
   {
    "duration": 197,
    "start_time": "2022-07-26T09:53:16.244Z"
   },
   {
    "duration": 54,
    "start_time": "2022-07-26T09:53:16.442Z"
   },
   {
    "duration": 5,
    "start_time": "2022-07-26T09:53:16.497Z"
   },
   {
    "duration": 2264,
    "start_time": "2022-07-26T09:53:16.510Z"
   },
   {
    "duration": 307,
    "start_time": "2022-07-26T09:53:18.776Z"
   },
   {
    "duration": 7,
    "start_time": "2022-07-26T09:53:19.085Z"
   },
   {
    "duration": 95,
    "start_time": "2022-07-26T09:53:19.094Z"
   },
   {
    "duration": 6,
    "start_time": "2022-07-26T09:53:19.191Z"
   },
   {
    "duration": 51,
    "start_time": "2022-07-26T09:53:19.221Z"
   },
   {
    "duration": 504,
    "start_time": "2022-07-26T09:53:19.274Z"
   },
   {
    "duration": 18,
    "start_time": "2022-07-26T09:53:19.780Z"
   },
   {
    "duration": 45,
    "start_time": "2022-07-26T09:53:19.799Z"
   },
   {
    "duration": 31,
    "start_time": "2022-07-26T09:53:19.847Z"
   },
   {
    "duration": 169,
    "start_time": "2022-07-26T09:53:19.880Z"
   },
   {
    "duration": 285,
    "start_time": "2022-07-26T09:53:20.051Z"
   },
   {
    "duration": 223,
    "start_time": "2022-07-26T09:53:20.339Z"
   },
   {
    "duration": 217,
    "start_time": "2022-07-26T09:53:20.563Z"
   },
   {
    "duration": 136,
    "start_time": "2022-07-26T09:53:20.782Z"
   },
   {
    "duration": 168,
    "start_time": "2022-07-26T09:53:20.921Z"
   },
   {
    "duration": 20,
    "start_time": "2022-07-26T09:53:21.091Z"
   },
   {
    "duration": 210,
    "start_time": "2022-07-26T09:53:21.113Z"
   },
   {
    "duration": 226,
    "start_time": "2022-07-26T09:53:21.325Z"
   },
   {
    "duration": 330,
    "start_time": "2022-07-26T09:53:21.553Z"
   },
   {
    "duration": 451,
    "start_time": "2022-07-26T09:53:21.885Z"
   },
   {
    "duration": 193,
    "start_time": "2022-07-26T09:53:22.338Z"
   },
   {
    "duration": 230,
    "start_time": "2022-07-26T09:53:22.533Z"
   },
   {
    "duration": 183,
    "start_time": "2022-07-26T09:53:22.765Z"
   },
   {
    "duration": 390,
    "start_time": "2022-07-26T09:53:22.950Z"
   },
   {
    "duration": 597,
    "start_time": "2022-07-26T09:53:23.342Z"
   },
   {
    "duration": 387,
    "start_time": "2022-07-26T09:53:23.941Z"
   },
   {
    "duration": 517,
    "start_time": "2022-07-26T09:53:24.329Z"
   },
   {
    "duration": 579,
    "start_time": "2022-07-26T09:53:24.848Z"
   },
   {
    "duration": 192,
    "start_time": "2022-07-26T09:53:25.430Z"
   },
   {
    "duration": 303,
    "start_time": "2022-07-26T09:53:25.625Z"
   },
   {
    "duration": 182,
    "start_time": "2022-07-26T09:53:25.930Z"
   },
   {
    "duration": 188,
    "start_time": "2022-07-26T09:53:26.115Z"
   },
   {
    "duration": 246,
    "start_time": "2022-07-26T09:53:26.304Z"
   },
   {
    "duration": 172,
    "start_time": "2022-07-26T09:53:26.552Z"
   },
   {
    "duration": 202,
    "start_time": "2022-07-26T09:53:26.727Z"
   },
   {
    "duration": 171,
    "start_time": "2022-07-26T09:53:26.933Z"
   },
   {
    "duration": 152,
    "start_time": "2022-07-26T09:53:27.106Z"
   },
   {
    "duration": 181,
    "start_time": "2022-07-26T09:53:27.260Z"
   },
   {
    "duration": 325,
    "start_time": "2022-07-26T09:53:27.442Z"
   },
   {
    "duration": 207,
    "start_time": "2022-07-26T09:53:27.769Z"
   },
   {
    "duration": 256,
    "start_time": "2022-07-26T09:53:27.978Z"
   },
   {
    "duration": 211,
    "start_time": "2022-07-26T09:53:28.236Z"
   },
   {
    "duration": 278,
    "start_time": "2022-07-26T09:53:28.449Z"
   },
   {
    "duration": 204,
    "start_time": "2022-07-26T09:53:28.729Z"
   },
   {
    "duration": 169,
    "start_time": "2022-07-26T09:53:28.935Z"
   },
   {
    "duration": 260,
    "start_time": "2022-07-26T09:53:29.107Z"
   },
   {
    "duration": 9,
    "start_time": "2022-07-26T09:53:29.368Z"
   },
   {
    "duration": 218,
    "start_time": "2022-07-26T09:53:29.378Z"
   },
   {
    "duration": 211,
    "start_time": "2022-07-26T09:53:29.597Z"
   },
   {
    "duration": 202,
    "start_time": "2022-07-26T09:53:29.811Z"
   },
   {
    "duration": 204,
    "start_time": "2022-07-26T09:53:30.016Z"
   },
   {
    "duration": 219,
    "start_time": "2022-07-26T09:53:30.223Z"
   },
   {
    "duration": 345,
    "start_time": "2022-07-26T09:53:30.444Z"
   },
   {
    "duration": 216,
    "start_time": "2022-07-26T09:53:30.791Z"
   },
   {
    "duration": 226,
    "start_time": "2022-07-26T09:53:31.009Z"
   },
   {
    "duration": 207,
    "start_time": "2022-07-26T09:53:31.237Z"
   },
   {
    "duration": 222,
    "start_time": "2022-07-26T09:53:31.446Z"
   },
   {
    "duration": 26,
    "start_time": "2022-07-26T09:53:31.670Z"
   },
   {
    "duration": 252,
    "start_time": "2022-07-26T09:53:31.711Z"
   },
   {
    "duration": 12,
    "start_time": "2022-07-26T09:53:31.966Z"
   },
   {
    "duration": 16,
    "start_time": "2022-07-26T09:53:31.980Z"
   },
   {
    "duration": 249,
    "start_time": "2022-07-26T09:53:32.010Z"
   },
   {
    "duration": 12,
    "start_time": "2022-07-26T09:53:50.509Z"
   },
   {
    "duration": 133,
    "start_time": "2022-07-26T09:53:50.524Z"
   },
   {
    "duration": 65,
    "start_time": "2022-07-26T09:53:50.659Z"
   },
   {
    "duration": 5,
    "start_time": "2022-07-26T09:53:50.726Z"
   },
   {
    "duration": 2412,
    "start_time": "2022-07-26T09:53:50.733Z"
   },
   {
    "duration": 251,
    "start_time": "2022-07-26T09:53:53.147Z"
   },
   {
    "duration": 13,
    "start_time": "2022-07-26T09:53:53.399Z"
   },
   {
    "duration": 78,
    "start_time": "2022-07-26T09:53:53.414Z"
   },
   {
    "duration": 31,
    "start_time": "2022-07-26T09:53:53.494Z"
   },
   {
    "duration": 53,
    "start_time": "2022-07-26T09:53:53.527Z"
   },
   {
    "duration": 411,
    "start_time": "2022-07-26T09:53:53.584Z"
   },
   {
    "duration": 28,
    "start_time": "2022-07-26T09:53:53.997Z"
   },
   {
    "duration": 31,
    "start_time": "2022-07-26T09:53:54.028Z"
   },
   {
    "duration": 44,
    "start_time": "2022-07-26T09:53:54.060Z"
   },
   {
    "duration": 162,
    "start_time": "2022-07-26T09:53:54.106Z"
   },
   {
    "duration": 280,
    "start_time": "2022-07-26T09:53:54.270Z"
   },
   {
    "duration": 252,
    "start_time": "2022-07-26T09:53:54.551Z"
   },
   {
    "duration": 254,
    "start_time": "2022-07-26T09:53:54.805Z"
   },
   {
    "duration": 138,
    "start_time": "2022-07-26T09:53:55.061Z"
   },
   {
    "duration": 187,
    "start_time": "2022-07-26T09:53:55.201Z"
   },
   {
    "duration": 27,
    "start_time": "2022-07-26T09:53:55.390Z"
   },
   {
    "duration": 224,
    "start_time": "2022-07-26T09:53:55.419Z"
   },
   {
    "duration": 338,
    "start_time": "2022-07-26T09:53:55.645Z"
   },
   {
    "duration": 326,
    "start_time": "2022-07-26T09:53:55.985Z"
   },
   {
    "duration": 283,
    "start_time": "2022-07-26T09:53:56.313Z"
   },
   {
    "duration": 179,
    "start_time": "2022-07-26T09:53:56.597Z"
   },
   {
    "duration": 211,
    "start_time": "2022-07-26T09:53:56.778Z"
   },
   {
    "duration": 196,
    "start_time": "2022-07-26T09:53:56.991Z"
   },
   {
    "duration": 245,
    "start_time": "2022-07-26T09:53:57.191Z"
   },
   {
    "duration": 266,
    "start_time": "2022-07-26T09:53:57.438Z"
   },
   {
    "duration": 188,
    "start_time": "2022-07-26T09:53:57.709Z"
   },
   {
    "duration": 230,
    "start_time": "2022-07-26T09:53:57.899Z"
   },
   {
    "duration": 147,
    "start_time": "2022-07-26T09:53:58.131Z"
   },
   {
    "duration": 191,
    "start_time": "2022-07-26T09:53:58.280Z"
   },
   {
    "duration": 500,
    "start_time": "2022-07-26T09:53:58.473Z"
   },
   {
    "duration": 186,
    "start_time": "2022-07-26T09:53:58.974Z"
   },
   {
    "duration": 193,
    "start_time": "2022-07-26T09:53:59.162Z"
   },
   {
    "duration": 229,
    "start_time": "2022-07-26T09:53:59.357Z"
   },
   {
    "duration": 164,
    "start_time": "2022-07-26T09:53:59.588Z"
   },
   {
    "duration": 192,
    "start_time": "2022-07-26T09:53:59.754Z"
   },
   {
    "duration": 165,
    "start_time": "2022-07-26T09:53:59.948Z"
   },
   {
    "duration": 136,
    "start_time": "2022-07-26T09:54:00.116Z"
   },
   {
    "duration": 202,
    "start_time": "2022-07-26T09:54:00.254Z"
   },
   {
    "duration": 193,
    "start_time": "2022-07-26T09:54:00.458Z"
   },
   {
    "duration": 192,
    "start_time": "2022-07-26T09:54:00.653Z"
   },
   {
    "duration": 256,
    "start_time": "2022-07-26T09:54:00.846Z"
   },
   {
    "duration": 195,
    "start_time": "2022-07-26T09:54:01.105Z"
   },
   {
    "duration": 256,
    "start_time": "2022-07-26T09:54:01.303Z"
   },
   {
    "duration": 203,
    "start_time": "2022-07-26T09:54:01.561Z"
   },
   {
    "duration": 191,
    "start_time": "2022-07-26T09:54:01.766Z"
   },
   {
    "duration": 569,
    "start_time": "2022-07-26T09:54:01.960Z"
   },
   {
    "duration": 10,
    "start_time": "2022-07-26T09:54:02.532Z"
   },
   {
    "duration": 512,
    "start_time": "2022-07-26T09:54:02.544Z"
   },
   {
    "duration": 409,
    "start_time": "2022-07-26T09:54:03.111Z"
   },
   {
    "duration": 420,
    "start_time": "2022-07-26T09:54:03.524Z"
   },
   {
    "duration": 483,
    "start_time": "2022-07-26T09:54:03.947Z"
   },
   {
    "duration": 213,
    "start_time": "2022-07-26T09:54:04.433Z"
   },
   {
    "duration": 907,
    "start_time": "2022-07-26T09:54:04.648Z"
   },
   {
    "duration": 427,
    "start_time": "2022-07-26T09:54:05.612Z"
   },
   {
    "duration": 471,
    "start_time": "2022-07-26T09:54:06.040Z"
   },
   {
    "duration": 437,
    "start_time": "2022-07-26T09:54:06.513Z"
   },
   {
    "duration": 399,
    "start_time": "2022-07-26T09:54:06.951Z"
   },
   {
    "duration": 25,
    "start_time": "2022-07-26T09:54:07.352Z"
   },
   {
    "duration": 223,
    "start_time": "2022-07-26T09:54:07.379Z"
   },
   {
    "duration": 16,
    "start_time": "2022-07-26T09:54:07.604Z"
   },
   {
    "duration": 13,
    "start_time": "2022-07-26T09:54:07.624Z"
   },
   {
    "duration": 208,
    "start_time": "2022-07-26T09:54:07.639Z"
   },
   {
    "duration": 5,
    "start_time": "2022-07-26T09:55:15.719Z"
   },
   {
    "duration": 133,
    "start_time": "2022-07-26T09:55:15.726Z"
   },
   {
    "duration": 75,
    "start_time": "2022-07-26T09:55:15.861Z"
   },
   {
    "duration": 6,
    "start_time": "2022-07-26T09:55:15.938Z"
   },
   {
    "duration": 2293,
    "start_time": "2022-07-26T09:55:15.946Z"
   },
   {
    "duration": 288,
    "start_time": "2022-07-26T09:55:18.241Z"
   },
   {
    "duration": 8,
    "start_time": "2022-07-26T09:55:18.531Z"
   },
   {
    "duration": 91,
    "start_time": "2022-07-26T09:55:18.540Z"
   },
   {
    "duration": 7,
    "start_time": "2022-07-26T09:55:18.633Z"
   },
   {
    "duration": 76,
    "start_time": "2022-07-26T09:55:18.642Z"
   },
   {
    "duration": 675,
    "start_time": "2022-07-26T09:55:18.722Z"
   },
   {
    "duration": 34,
    "start_time": "2022-07-26T09:55:19.399Z"
   },
   {
    "duration": 39,
    "start_time": "2022-07-26T09:55:19.435Z"
   },
   {
    "duration": 71,
    "start_time": "2022-07-26T09:55:19.476Z"
   },
   {
    "duration": 151,
    "start_time": "2022-07-26T09:55:19.549Z"
   },
   {
    "duration": 295,
    "start_time": "2022-07-26T09:55:19.702Z"
   },
   {
    "duration": 250,
    "start_time": "2022-07-26T09:55:19.999Z"
   },
   {
    "duration": 235,
    "start_time": "2022-07-26T09:55:20.251Z"
   },
   {
    "duration": 167,
    "start_time": "2022-07-26T09:55:20.487Z"
   },
   {
    "duration": 190,
    "start_time": "2022-07-26T09:55:20.655Z"
   },
   {
    "duration": 13,
    "start_time": "2022-07-26T09:55:20.847Z"
   },
   {
    "duration": 238,
    "start_time": "2022-07-26T09:55:20.863Z"
   },
   {
    "duration": 189,
    "start_time": "2022-07-26T09:55:21.103Z"
   },
   {
    "duration": 306,
    "start_time": "2022-07-26T09:55:21.294Z"
   },
   {
    "duration": 332,
    "start_time": "2022-07-26T09:55:21.606Z"
   },
   {
    "duration": 222,
    "start_time": "2022-07-26T09:55:21.940Z"
   },
   {
    "duration": 252,
    "start_time": "2022-07-26T09:55:22.164Z"
   },
   {
    "duration": 186,
    "start_time": "2022-07-26T09:55:22.422Z"
   },
   {
    "duration": 245,
    "start_time": "2022-07-26T09:55:22.614Z"
   },
   {
    "duration": 281,
    "start_time": "2022-07-26T09:55:22.861Z"
   },
   {
    "duration": 190,
    "start_time": "2022-07-26T09:55:23.145Z"
   },
   {
    "duration": 242,
    "start_time": "2022-07-26T09:55:23.338Z"
   },
   {
    "duration": 165,
    "start_time": "2022-07-26T09:55:23.582Z"
   },
   {
    "duration": 196,
    "start_time": "2022-07-26T09:55:23.749Z"
   },
   {
    "duration": 311,
    "start_time": "2022-07-26T09:55:23.947Z"
   },
   {
    "duration": 507,
    "start_time": "2022-07-26T09:55:24.259Z"
   },
   {
    "duration": 211,
    "start_time": "2022-07-26T09:55:24.769Z"
   },
   {
    "duration": 280,
    "start_time": "2022-07-26T09:55:24.982Z"
   },
   {
    "duration": 189,
    "start_time": "2022-07-26T09:55:25.264Z"
   },
   {
    "duration": 217,
    "start_time": "2022-07-26T09:55:25.455Z"
   },
   {
    "duration": 180,
    "start_time": "2022-07-26T09:55:25.674Z"
   },
   {
    "duration": 136,
    "start_time": "2022-07-26T09:55:25.856Z"
   },
   {
    "duration": 189,
    "start_time": "2022-07-26T09:55:25.994Z"
   },
   {
    "duration": 198,
    "start_time": "2022-07-26T09:55:26.185Z"
   },
   {
    "duration": 196,
    "start_time": "2022-07-26T09:55:26.385Z"
   },
   {
    "duration": 257,
    "start_time": "2022-07-26T09:55:26.583Z"
   },
   {
    "duration": 191,
    "start_time": "2022-07-26T09:55:26.843Z"
   },
   {
    "duration": 254,
    "start_time": "2022-07-26T09:55:27.036Z"
   },
   {
    "duration": 199,
    "start_time": "2022-07-26T09:55:27.291Z"
   },
   {
    "duration": 168,
    "start_time": "2022-07-26T09:55:27.492Z"
   },
   {
    "duration": 269,
    "start_time": "2022-07-26T09:55:27.662Z"
   },
   {
    "duration": 10,
    "start_time": "2022-07-26T09:55:27.934Z"
   },
   {
    "duration": 220,
    "start_time": "2022-07-26T09:55:27.946Z"
   },
   {
    "duration": 218,
    "start_time": "2022-07-26T09:55:28.168Z"
   },
   {
    "duration": 213,
    "start_time": "2022-07-26T09:55:28.387Z"
   },
   {
    "duration": 284,
    "start_time": "2022-07-26T09:55:28.602Z"
   },
   {
    "duration": 219,
    "start_time": "2022-07-26T09:55:28.888Z"
   },
   {
    "duration": 181,
    "start_time": "2022-07-26T09:55:29.110Z"
   },
   {
    "duration": 213,
    "start_time": "2022-07-26T09:55:29.293Z"
   },
   {
    "duration": 204,
    "start_time": "2022-07-26T09:55:29.510Z"
   },
   {
    "duration": 200,
    "start_time": "2022-07-26T09:55:29.717Z"
   },
   {
    "duration": 217,
    "start_time": "2022-07-26T09:55:29.920Z"
   },
   {
    "duration": 26,
    "start_time": "2022-07-26T09:55:30.139Z"
   },
   {
    "duration": 224,
    "start_time": "2022-07-26T09:55:30.167Z"
   },
   {
    "duration": 9,
    "start_time": "2022-07-26T09:55:30.393Z"
   },
   {
    "duration": 31,
    "start_time": "2022-07-26T09:55:30.403Z"
   },
   {
    "duration": 215,
    "start_time": "2022-07-26T09:55:30.436Z"
   },
   {
    "duration": 2,
    "start_time": "2022-07-26T09:56:38.091Z"
   },
   {
    "duration": 145,
    "start_time": "2022-07-26T09:56:38.095Z"
   },
   {
    "duration": 72,
    "start_time": "2022-07-26T09:56:38.242Z"
   },
   {
    "duration": 7,
    "start_time": "2022-07-26T09:56:38.316Z"
   },
   {
    "duration": 2642,
    "start_time": "2022-07-26T09:56:38.326Z"
   },
   {
    "duration": 257,
    "start_time": "2022-07-26T09:56:40.970Z"
   },
   {
    "duration": 7,
    "start_time": "2022-07-26T09:56:41.229Z"
   },
   {
    "duration": 88,
    "start_time": "2022-07-26T09:56:41.238Z"
   },
   {
    "duration": 7,
    "start_time": "2022-07-26T09:56:41.328Z"
   },
   {
    "duration": 79,
    "start_time": "2022-07-26T09:56:41.337Z"
   },
   {
    "duration": 441,
    "start_time": "2022-07-26T09:56:41.419Z"
   },
   {
    "duration": 21,
    "start_time": "2022-07-26T09:56:41.863Z"
   },
   {
    "duration": 51,
    "start_time": "2022-07-26T09:56:41.886Z"
   },
   {
    "duration": 44,
    "start_time": "2022-07-26T09:56:41.939Z"
   },
   {
    "duration": 190,
    "start_time": "2022-07-26T09:56:41.985Z"
   },
   {
    "duration": 312,
    "start_time": "2022-07-26T09:56:42.178Z"
   },
   {
    "duration": 545,
    "start_time": "2022-07-26T09:56:42.492Z"
   },
   {
    "duration": 616,
    "start_time": "2022-07-26T09:56:43.039Z"
   },
   {
    "duration": 367,
    "start_time": "2022-07-26T09:56:43.657Z"
   },
   {
    "duration": 387,
    "start_time": "2022-07-26T09:56:44.027Z"
   },
   {
    "duration": 18,
    "start_time": "2022-07-26T09:56:44.417Z"
   },
   {
    "duration": 607,
    "start_time": "2022-07-26T09:56:44.438Z"
   },
   {
    "duration": 330,
    "start_time": "2022-07-26T09:56:45.047Z"
   },
   {
    "duration": 326,
    "start_time": "2022-07-26T09:56:45.379Z"
   },
   {
    "duration": 300,
    "start_time": "2022-07-26T09:56:45.710Z"
   },
   {
    "duration": 180,
    "start_time": "2022-07-26T09:56:46.013Z"
   },
   {
    "duration": 266,
    "start_time": "2022-07-26T09:56:46.195Z"
   },
   {
    "duration": 201,
    "start_time": "2022-07-26T09:56:46.462Z"
   },
   {
    "duration": 265,
    "start_time": "2022-07-26T09:56:46.668Z"
   },
   {
    "duration": 653,
    "start_time": "2022-07-26T09:56:46.935Z"
   },
   {
    "duration": 179,
    "start_time": "2022-07-26T09:56:47.590Z"
   },
   {
    "duration": 240,
    "start_time": "2022-07-26T09:56:47.772Z"
   },
   {
    "duration": 160,
    "start_time": "2022-07-26T09:56:48.015Z"
   },
   {
    "duration": 205,
    "start_time": "2022-07-26T09:56:48.177Z"
   },
   {
    "duration": 328,
    "start_time": "2022-07-26T09:56:48.384Z"
   },
   {
    "duration": 215,
    "start_time": "2022-07-26T09:56:48.714Z"
   },
   {
    "duration": 203,
    "start_time": "2022-07-26T09:56:48.931Z"
   },
   {
    "duration": 238,
    "start_time": "2022-07-26T09:56:49.137Z"
   },
   {
    "duration": 180,
    "start_time": "2022-07-26T09:56:49.377Z"
   },
   {
    "duration": 216,
    "start_time": "2022-07-26T09:56:49.559Z"
   },
   {
    "duration": 192,
    "start_time": "2022-07-26T09:56:49.778Z"
   },
   {
    "duration": 137,
    "start_time": "2022-07-26T09:56:49.973Z"
   },
   {
    "duration": 183,
    "start_time": "2022-07-26T09:56:50.113Z"
   },
   {
    "duration": 198,
    "start_time": "2022-07-26T09:56:50.298Z"
   },
   {
    "duration": 196,
    "start_time": "2022-07-26T09:56:50.498Z"
   },
   {
    "duration": 258,
    "start_time": "2022-07-26T09:56:50.696Z"
   },
   {
    "duration": 200,
    "start_time": "2022-07-26T09:56:50.956Z"
   },
   {
    "duration": 261,
    "start_time": "2022-07-26T09:56:51.158Z"
   },
   {
    "duration": 192,
    "start_time": "2022-07-26T09:56:51.422Z"
   },
   {
    "duration": 175,
    "start_time": "2022-07-26T09:56:51.617Z"
   },
   {
    "duration": 335,
    "start_time": "2022-07-26T09:56:51.794Z"
   },
   {
    "duration": 13,
    "start_time": "2022-07-26T09:56:52.132Z"
   },
   {
    "duration": 259,
    "start_time": "2022-07-26T09:56:52.147Z"
   },
   {
    "duration": 242,
    "start_time": "2022-07-26T09:56:52.412Z"
   },
   {
    "duration": 213,
    "start_time": "2022-07-26T09:56:52.656Z"
   },
   {
    "duration": 249,
    "start_time": "2022-07-26T09:56:52.872Z"
   },
   {
    "duration": 256,
    "start_time": "2022-07-26T09:56:53.123Z"
   },
   {
    "duration": 238,
    "start_time": "2022-07-26T09:56:53.381Z"
   },
   {
    "duration": 226,
    "start_time": "2022-07-26T09:56:53.621Z"
   },
   {
    "duration": 203,
    "start_time": "2022-07-26T09:56:53.848Z"
   },
   {
    "duration": 242,
    "start_time": "2022-07-26T09:56:54.053Z"
   },
   {
    "duration": 230,
    "start_time": "2022-07-26T09:56:54.297Z"
   },
   {
    "duration": 30,
    "start_time": "2022-07-26T09:56:54.529Z"
   },
   {
    "duration": 226,
    "start_time": "2022-07-26T09:56:54.561Z"
   },
   {
    "duration": 11,
    "start_time": "2022-07-26T09:56:54.790Z"
   },
   {
    "duration": 12,
    "start_time": "2022-07-26T09:56:54.811Z"
   },
   {
    "duration": 225,
    "start_time": "2022-07-26T09:56:54.826Z"
   },
   {
    "duration": 2,
    "start_time": "2022-07-26T10:00:53.524Z"
   },
   {
    "duration": 123,
    "start_time": "2022-07-26T10:00:53.531Z"
   },
   {
    "duration": 47,
    "start_time": "2022-07-26T10:00:53.656Z"
   },
   {
    "duration": 6,
    "start_time": "2022-07-26T10:00:53.710Z"
   },
   {
    "duration": 2555,
    "start_time": "2022-07-26T10:00:53.717Z"
   },
   {
    "duration": 240,
    "start_time": "2022-07-26T10:00:56.275Z"
   },
   {
    "duration": 7,
    "start_time": "2022-07-26T10:00:56.517Z"
   },
   {
    "duration": 105,
    "start_time": "2022-07-26T10:00:56.526Z"
   },
   {
    "duration": 6,
    "start_time": "2022-07-26T10:00:56.633Z"
   },
   {
    "duration": 69,
    "start_time": "2022-07-26T10:00:56.642Z"
   },
   {
    "duration": 384,
    "start_time": "2022-07-26T10:00:56.714Z"
   },
   {
    "duration": 24,
    "start_time": "2022-07-26T10:00:57.101Z"
   },
   {
    "duration": 29,
    "start_time": "2022-07-26T10:00:57.127Z"
   },
   {
    "duration": 53,
    "start_time": "2022-07-26T10:00:57.158Z"
   },
   {
    "duration": 147,
    "start_time": "2022-07-26T10:00:57.214Z"
   },
   {
    "duration": 132,
    "start_time": "2022-07-26T10:01:05.370Z"
   },
   {
    "duration": 159,
    "start_time": "2022-07-26T10:02:24.346Z"
   },
   {
    "duration": 150,
    "start_time": "2022-07-26T10:02:33.484Z"
   },
   {
    "duration": 134,
    "start_time": "2022-07-26T10:02:45.880Z"
   },
   {
    "duration": 148,
    "start_time": "2022-07-26T10:03:32.238Z"
   },
   {
    "duration": 194,
    "start_time": "2022-07-26T10:07:46.742Z"
   },
   {
    "duration": 3,
    "start_time": "2022-07-26T10:08:10.734Z"
   },
   {
    "duration": 110,
    "start_time": "2022-07-26T10:08:10.742Z"
   },
   {
    "duration": 62,
    "start_time": "2022-07-26T10:08:10.854Z"
   },
   {
    "duration": 5,
    "start_time": "2022-07-26T10:08:10.918Z"
   },
   {
    "duration": 2175,
    "start_time": "2022-07-26T10:08:10.926Z"
   },
   {
    "duration": 264,
    "start_time": "2022-07-26T10:08:13.103Z"
   },
   {
    "duration": 7,
    "start_time": "2022-07-26T10:08:13.369Z"
   },
   {
    "duration": 89,
    "start_time": "2022-07-26T10:08:13.378Z"
   },
   {
    "duration": 8,
    "start_time": "2022-07-26T10:08:13.469Z"
   },
   {
    "duration": 75,
    "start_time": "2022-07-26T10:08:13.478Z"
   },
   {
    "duration": 409,
    "start_time": "2022-07-26T10:08:13.556Z"
   },
   {
    "duration": 18,
    "start_time": "2022-07-26T10:08:13.967Z"
   },
   {
    "duration": 59,
    "start_time": "2022-07-26T10:08:13.987Z"
   },
   {
    "duration": 33,
    "start_time": "2022-07-26T10:08:14.048Z"
   },
   {
    "duration": 160,
    "start_time": "2022-07-26T10:08:14.083Z"
   },
   {
    "duration": 201,
    "start_time": "2022-07-26T10:08:14.245Z"
   },
   {
    "duration": 722,
    "start_time": "2022-07-26T10:08:14.448Z"
   },
   {
    "duration": 230,
    "start_time": "2022-07-26T10:08:15.172Z"
   },
   {
    "duration": 231,
    "start_time": "2022-07-26T10:08:15.404Z"
   },
   {
    "duration": 143,
    "start_time": "2022-07-26T10:08:15.638Z"
   },
   {
    "duration": 182,
    "start_time": "2022-07-26T10:08:15.783Z"
   },
   {
    "duration": 15,
    "start_time": "2022-07-26T10:08:15.967Z"
   },
   {
    "duration": 218,
    "start_time": "2022-07-26T10:08:15.984Z"
   },
   {
    "duration": 198,
    "start_time": "2022-07-26T10:08:16.204Z"
   },
   {
    "duration": 314,
    "start_time": "2022-07-26T10:08:16.404Z"
   },
   {
    "duration": 273,
    "start_time": "2022-07-26T10:08:16.719Z"
   },
   {
    "duration": 226,
    "start_time": "2022-07-26T10:08:16.994Z"
   },
   {
    "duration": 210,
    "start_time": "2022-07-26T10:08:39.463Z"
   },
   {
    "duration": 260,
    "start_time": "2022-07-26T10:10:14.290Z"
   },
   {
    "duration": 53,
    "start_time": "2022-07-27T08:49:47.593Z"
   },
   {
    "duration": 977,
    "start_time": "2022-07-27T08:56:30.387Z"
   },
   {
    "duration": 389,
    "start_time": "2022-07-27T08:56:31.367Z"
   },
   {
    "duration": 71,
    "start_time": "2022-07-27T08:56:31.758Z"
   },
   {
    "duration": 6,
    "start_time": "2022-07-27T08:56:31.830Z"
   },
   {
    "duration": 2439,
    "start_time": "2022-07-27T08:56:31.839Z"
   },
   {
    "duration": 358,
    "start_time": "2022-07-27T08:56:34.286Z"
   },
   {
    "duration": 17,
    "start_time": "2022-07-27T08:56:34.646Z"
   },
   {
    "duration": 115,
    "start_time": "2022-07-27T08:56:34.668Z"
   },
   {
    "duration": 12,
    "start_time": "2022-07-27T08:56:34.785Z"
   },
   {
    "duration": 62,
    "start_time": "2022-07-27T08:56:34.800Z"
   },
   {
    "duration": 490,
    "start_time": "2022-07-27T08:56:34.864Z"
   },
   {
    "duration": 25,
    "start_time": "2022-07-27T08:56:35.362Z"
   },
   {
    "duration": 59,
    "start_time": "2022-07-27T08:56:35.390Z"
   },
   {
    "duration": 51,
    "start_time": "2022-07-27T08:56:35.454Z"
   },
   {
    "duration": 146,
    "start_time": "2022-07-27T08:56:35.507Z"
   },
   {
    "duration": 157,
    "start_time": "2022-07-27T08:56:35.654Z"
   },
   {
    "duration": 234,
    "start_time": "2022-07-27T08:56:35.813Z"
   },
   {
    "duration": 196,
    "start_time": "2022-07-27T08:56:36.048Z"
   },
   {
    "duration": 242,
    "start_time": "2022-07-27T08:56:36.246Z"
   },
   {
    "duration": 200,
    "start_time": "2022-07-27T08:56:36.490Z"
   },
   {
    "duration": 303,
    "start_time": "2022-07-27T08:56:36.703Z"
   },
   {
    "duration": 169,
    "start_time": "2022-07-27T08:56:37.009Z"
   },
   {
    "duration": 192,
    "start_time": "2022-07-27T08:56:37.180Z"
   },
   {
    "duration": 203,
    "start_time": "2022-07-27T08:56:37.376Z"
   },
   {
    "duration": 279,
    "start_time": "2022-07-27T08:56:37.581Z"
   },
   {
    "duration": 174,
    "start_time": "2022-07-27T08:56:37.862Z"
   },
   {
    "duration": 282,
    "start_time": "2022-07-27T08:56:38.038Z"
   },
   {
    "duration": 198,
    "start_time": "2022-07-27T08:56:38.322Z"
   },
   {
    "duration": 120,
    "start_time": "2022-07-27T08:56:38.521Z"
   },
   {
    "duration": 7,
    "start_time": "2022-07-27T08:56:38.643Z"
   },
   {
    "duration": 346,
    "start_time": "2022-07-27T08:56:38.661Z"
   },
   {
    "duration": 15,
    "start_time": "2022-07-27T08:56:39.009Z"
   },
   {
    "duration": 220,
    "start_time": "2022-07-27T08:56:39.026Z"
   },
   {
    "duration": 231,
    "start_time": "2022-07-27T08:56:39.248Z"
   },
   {
    "duration": 173,
    "start_time": "2022-07-27T08:56:39.481Z"
   },
   {
    "duration": 325,
    "start_time": "2022-07-27T08:56:39.660Z"
   },
   {
    "duration": 261,
    "start_time": "2022-07-27T08:56:39.987Z"
   },
   {
    "duration": 176,
    "start_time": "2022-07-27T08:56:40.250Z"
   },
   {
    "duration": 262,
    "start_time": "2022-07-27T08:56:40.427Z"
   },
   {
    "duration": 181,
    "start_time": "2022-07-27T08:56:40.692Z"
   },
   {
    "duration": 222,
    "start_time": "2022-07-27T08:56:40.881Z"
   },
   {
    "duration": 315,
    "start_time": "2022-07-27T08:56:41.106Z"
   },
   {
    "duration": 187,
    "start_time": "2022-07-27T08:56:41.423Z"
   },
   {
    "duration": 386,
    "start_time": "2022-07-27T08:56:41.614Z"
   },
   {
    "duration": 203,
    "start_time": "2022-07-27T08:56:42.002Z"
   },
   {
    "duration": 175,
    "start_time": "2022-07-27T08:56:42.207Z"
   },
   {
    "duration": 157,
    "start_time": "2022-07-27T08:56:42.389Z"
   },
   {
    "duration": 203,
    "start_time": "2022-07-27T08:56:42.548Z"
   },
   {
    "duration": 314,
    "start_time": "2022-07-27T08:56:42.753Z"
   },
   {
    "duration": 182,
    "start_time": "2022-07-27T08:56:43.069Z"
   },
   {
    "duration": 261,
    "start_time": "2022-07-27T08:56:43.253Z"
   },
   {
    "duration": 195,
    "start_time": "2022-07-27T08:56:43.516Z"
   },
   {
    "duration": 146,
    "start_time": "2022-07-27T08:56:43.713Z"
   },
   {
    "duration": 270,
    "start_time": "2022-07-27T08:56:43.862Z"
   },
   {
    "duration": 11,
    "start_time": "2022-07-27T08:56:44.134Z"
   },
   {
    "duration": 243,
    "start_time": "2022-07-27T08:56:44.147Z"
   },
   {
    "duration": 356,
    "start_time": "2022-07-27T08:56:44.393Z"
   },
   {
    "duration": 240,
    "start_time": "2022-07-27T08:56:44.750Z"
   },
   {
    "duration": 197,
    "start_time": "2022-07-27T08:56:44.993Z"
   },
   {
    "duration": 180,
    "start_time": "2022-07-27T08:56:45.192Z"
   },
   {
    "duration": 166,
    "start_time": "2022-07-27T08:56:45.378Z"
   },
   {
    "duration": 204,
    "start_time": "2022-07-27T08:56:45.546Z"
   },
   {
    "duration": 195,
    "start_time": "2022-07-27T08:56:45.752Z"
   },
   {
    "duration": 196,
    "start_time": "2022-07-27T08:56:45.949Z"
   },
   {
    "duration": 232,
    "start_time": "2022-07-27T08:56:46.146Z"
   },
   {
    "duration": 37,
    "start_time": "2022-07-27T08:56:46.380Z"
   },
   {
    "duration": 275,
    "start_time": "2022-07-27T08:56:46.419Z"
   },
   {
    "duration": 10,
    "start_time": "2022-07-27T08:56:46.697Z"
   },
   {
    "duration": 29,
    "start_time": "2022-07-27T08:56:46.709Z"
   },
   {
    "duration": 230,
    "start_time": "2022-07-27T08:56:46.740Z"
   }
  ],
  "kernelspec": {
   "display_name": "Python 3 (ipykernel)",
   "language": "python",
   "name": "python3"
  },
  "language_info": {
   "codemirror_mode": {
    "name": "ipython",
    "version": 3
   },
   "file_extension": ".py",
   "mimetype": "text/x-python",
   "name": "python",
   "nbconvert_exporter": "python",
   "pygments_lexer": "ipython3",
   "version": "3.9.5"
  },
  "toc": {
   "base_numbering": 1,
   "nav_menu": {},
   "number_sections": true,
   "sideBar": true,
   "skip_h1_title": true,
   "title_cell": "Table of Contents",
   "title_sidebar": "Contents",
   "toc_cell": false,
   "toc_position": {
    "height": "calc(100% - 180px)",
    "left": "10px",
    "top": "150px",
    "width": "323.719px"
   },
   "toc_section_display": true,
   "toc_window_display": true
  }
 },
 "nbformat": 4,
 "nbformat_minor": 2
}
