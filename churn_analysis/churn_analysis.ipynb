{
 "cells": [
  {
   "cell_type": "markdown",
   "metadata": {},
   "source": [
    "# Проект: Анализ оттока клиентов"
   ]
  },
  {
   "cell_type": "markdown",
   "metadata": {},
   "source": [
    "## Описание\n",
    "Предоставлены данные о клиентах регионального банка \"Метанпромбанк\". Необходимо провести анализ оттока клиентов и составить портрет склонных уходить из банка клиентов."
   ]
  },
  {
   "cell_type": "markdown",
   "metadata": {},
   "source": [
    "### Ход исследования:\n",
    " 1. Загрузка необходимых библиотек и датасета, первичное ознакомление с данными\n",
    " 2. Предобработка данных: изучение дубликатов, пропусков, выбросов, дополнительная категоризация\n",
    " 3. Исследовательский анализ данных: поиск взаимосвязей, вычисление корреляции\n",
    " 4. Анализ оттока: создание портрета склонных уходить клиентов - город, пол, возраст и т.д\n",
    " 5. Статистический анализ данных: формулировка гипотез и их проверка\n",
    " 6. Выводы и рекомендации."
   ]
  },
  {
   "cell_type": "markdown",
   "metadata": {},
   "source": [
    "## Первичное ознакомление с данными"
   ]
  },
  {
   "cell_type": "code",
   "execution_count": 1,
   "metadata": {},
   "outputs": [],
   "source": [
    "# Подключение библиотек\n",
    "import pandas as pd\n",
    "import numpy as np\n",
    "import matplotlib.pyplot as plt\n",
    "import seaborn as sns\n",
    "sns.set_palette('pastel') \n",
    "from scipy import stats as st"
   ]
  },
  {
   "cell_type": "code",
   "execution_count": 2,
   "metadata": {},
   "outputs": [
    {
     "data": {
      "text/html": [
       "<div>\n",
       "<style scoped>\n",
       "    .dataframe tbody tr th:only-of-type {\n",
       "        vertical-align: middle;\n",
       "    }\n",
       "\n",
       "    .dataframe tbody tr th {\n",
       "        vertical-align: top;\n",
       "    }\n",
       "\n",
       "    .dataframe thead th {\n",
       "        text-align: right;\n",
       "    }\n",
       "</style>\n",
       "<table border=\"1\" class=\"dataframe\">\n",
       "  <thead>\n",
       "    <tr style=\"text-align: right;\">\n",
       "      <th></th>\n",
       "      <th>userid</th>\n",
       "      <th>score</th>\n",
       "      <th>City</th>\n",
       "      <th>Gender</th>\n",
       "      <th>Age</th>\n",
       "      <th>Objects</th>\n",
       "      <th>Balance</th>\n",
       "      <th>Products</th>\n",
       "      <th>CreditCard</th>\n",
       "      <th>Loyalty</th>\n",
       "      <th>estimated_salary</th>\n",
       "      <th>Churn</th>\n",
       "    </tr>\n",
       "  </thead>\n",
       "  <tbody>\n",
       "    <tr>\n",
       "      <th>0</th>\n",
       "      <td>15677338</td>\n",
       "      <td>619</td>\n",
       "      <td>Ярославль</td>\n",
       "      <td>Ж</td>\n",
       "      <td>42</td>\n",
       "      <td>2</td>\n",
       "      <td>NaN</td>\n",
       "      <td>1</td>\n",
       "      <td>1</td>\n",
       "      <td>1</td>\n",
       "      <td>101348.88</td>\n",
       "      <td>1</td>\n",
       "    </tr>\n",
       "    <tr>\n",
       "      <th>1</th>\n",
       "      <td>15690047</td>\n",
       "      <td>608</td>\n",
       "      <td>Рыбинск</td>\n",
       "      <td>Ж</td>\n",
       "      <td>41</td>\n",
       "      <td>1</td>\n",
       "      <td>83807.86</td>\n",
       "      <td>1</td>\n",
       "      <td>0</td>\n",
       "      <td>1</td>\n",
       "      <td>112542.58</td>\n",
       "      <td>0</td>\n",
       "    </tr>\n",
       "    <tr>\n",
       "      <th>2</th>\n",
       "      <td>15662040</td>\n",
       "      <td>502</td>\n",
       "      <td>Ярославль</td>\n",
       "      <td>Ж</td>\n",
       "      <td>42</td>\n",
       "      <td>8</td>\n",
       "      <td>159660.80</td>\n",
       "      <td>3</td>\n",
       "      <td>1</td>\n",
       "      <td>0</td>\n",
       "      <td>113931.57</td>\n",
       "      <td>1</td>\n",
       "    </tr>\n",
       "    <tr>\n",
       "      <th>3</th>\n",
       "      <td>15744090</td>\n",
       "      <td>699</td>\n",
       "      <td>Ярославль</td>\n",
       "      <td>Ж</td>\n",
       "      <td>39</td>\n",
       "      <td>1</td>\n",
       "      <td>NaN</td>\n",
       "      <td>2</td>\n",
       "      <td>0</td>\n",
       "      <td>0</td>\n",
       "      <td>93826.63</td>\n",
       "      <td>0</td>\n",
       "    </tr>\n",
       "    <tr>\n",
       "      <th>4</th>\n",
       "      <td>15780624</td>\n",
       "      <td>850</td>\n",
       "      <td>Рыбинск</td>\n",
       "      <td>Ж</td>\n",
       "      <td>43</td>\n",
       "      <td>2</td>\n",
       "      <td>125510.82</td>\n",
       "      <td>1</td>\n",
       "      <td>1</td>\n",
       "      <td>1</td>\n",
       "      <td>79084.10</td>\n",
       "      <td>0</td>\n",
       "    </tr>\n",
       "    <tr>\n",
       "      <th>...</th>\n",
       "      <td>...</td>\n",
       "      <td>...</td>\n",
       "      <td>...</td>\n",
       "      <td>...</td>\n",
       "      <td>...</td>\n",
       "      <td>...</td>\n",
       "      <td>...</td>\n",
       "      <td>...</td>\n",
       "      <td>...</td>\n",
       "      <td>...</td>\n",
       "      <td>...</td>\n",
       "      <td>...</td>\n",
       "    </tr>\n",
       "    <tr>\n",
       "      <th>9995</th>\n",
       "      <td>15648965</td>\n",
       "      <td>771</td>\n",
       "      <td>Ярославль</td>\n",
       "      <td>М</td>\n",
       "      <td>39</td>\n",
       "      <td>5</td>\n",
       "      <td>NaN</td>\n",
       "      <td>2</td>\n",
       "      <td>1</td>\n",
       "      <td>0</td>\n",
       "      <td>96270.64</td>\n",
       "      <td>0</td>\n",
       "    </tr>\n",
       "    <tr>\n",
       "      <th>9996</th>\n",
       "      <td>15612628</td>\n",
       "      <td>516</td>\n",
       "      <td>Ярославль</td>\n",
       "      <td>М</td>\n",
       "      <td>35</td>\n",
       "      <td>10</td>\n",
       "      <td>57369.61</td>\n",
       "      <td>1</td>\n",
       "      <td>1</td>\n",
       "      <td>1</td>\n",
       "      <td>101699.77</td>\n",
       "      <td>0</td>\n",
       "    </tr>\n",
       "    <tr>\n",
       "      <th>9997</th>\n",
       "      <td>15627268</td>\n",
       "      <td>709</td>\n",
       "      <td>Ярославль</td>\n",
       "      <td>Ж</td>\n",
       "      <td>36</td>\n",
       "      <td>7</td>\n",
       "      <td>NaN</td>\n",
       "      <td>1</td>\n",
       "      <td>0</td>\n",
       "      <td>1</td>\n",
       "      <td>42085.58</td>\n",
       "      <td>1</td>\n",
       "    </tr>\n",
       "    <tr>\n",
       "      <th>9998</th>\n",
       "      <td>15725091</td>\n",
       "      <td>772</td>\n",
       "      <td>Ростов Великий</td>\n",
       "      <td>М</td>\n",
       "      <td>42</td>\n",
       "      <td>3</td>\n",
       "      <td>75075.31</td>\n",
       "      <td>2</td>\n",
       "      <td>1</td>\n",
       "      <td>0</td>\n",
       "      <td>92888.52</td>\n",
       "      <td>1</td>\n",
       "    </tr>\n",
       "    <tr>\n",
       "      <th>9999</th>\n",
       "      <td>15671055</td>\n",
       "      <td>792</td>\n",
       "      <td>Ярославль</td>\n",
       "      <td>Ж</td>\n",
       "      <td>28</td>\n",
       "      <td>4</td>\n",
       "      <td>130142.79</td>\n",
       "      <td>1</td>\n",
       "      <td>1</td>\n",
       "      <td>0</td>\n",
       "      <td>38190.78</td>\n",
       "      <td>0</td>\n",
       "    </tr>\n",
       "  </tbody>\n",
       "</table>\n",
       "<p>10000 rows × 12 columns</p>\n",
       "</div>"
      ],
      "text/plain": [
       "        userid  score            City Gender  Age  Objects    Balance  \\\n",
       "0     15677338    619       Ярославль      Ж   42        2        NaN   \n",
       "1     15690047    608         Рыбинск      Ж   41        1   83807.86   \n",
       "2     15662040    502       Ярославль      Ж   42        8  159660.80   \n",
       "3     15744090    699       Ярославль      Ж   39        1        NaN   \n",
       "4     15780624    850         Рыбинск      Ж   43        2  125510.82   \n",
       "...        ...    ...             ...    ...  ...      ...        ...   \n",
       "9995  15648965    771       Ярославль      М   39        5        NaN   \n",
       "9996  15612628    516       Ярославль      М   35       10   57369.61   \n",
       "9997  15627268    709       Ярославль      Ж   36        7        NaN   \n",
       "9998  15725091    772  Ростов Великий      М   42        3   75075.31   \n",
       "9999  15671055    792       Ярославль      Ж   28        4  130142.79   \n",
       "\n",
       "      Products  CreditCard  Loyalty  estimated_salary  Churn  \n",
       "0            1           1        1         101348.88      1  \n",
       "1            1           0        1         112542.58      0  \n",
       "2            3           1        0         113931.57      1  \n",
       "3            2           0        0          93826.63      0  \n",
       "4            1           1        1          79084.10      0  \n",
       "...        ...         ...      ...               ...    ...  \n",
       "9995         2           1        0          96270.64      0  \n",
       "9996         1           1        1         101699.77      0  \n",
       "9997         1           0        1          42085.58      1  \n",
       "9998         2           1        0          92888.52      1  \n",
       "9999         1           1        0          38190.78      0  \n",
       "\n",
       "[10000 rows x 12 columns]"
      ]
     },
     "execution_count": 2,
     "metadata": {},
     "output_type": "execute_result"
    }
   ],
   "source": [
    "data=pd.read_csv('/datasets/bank_dataset.csv')\n",
    "data"
   ]
  },
  {
   "cell_type": "code",
   "execution_count": 3,
   "metadata": {},
   "outputs": [
    {
     "name": "stdout",
     "output_type": "stream",
     "text": [
      "<class 'pandas.core.frame.DataFrame'>\n",
      "RangeIndex: 10000 entries, 0 to 9999\n",
      "Data columns (total 12 columns):\n",
      " #   Column            Non-Null Count  Dtype  \n",
      "---  ------            --------------  -----  \n",
      " 0   userid            10000 non-null  int64  \n",
      " 1   score             10000 non-null  int64  \n",
      " 2   City              10000 non-null  object \n",
      " 3   Gender            10000 non-null  object \n",
      " 4   Age               10000 non-null  int64  \n",
      " 5   Objects           10000 non-null  int64  \n",
      " 6   Balance           6383 non-null   float64\n",
      " 7   Products          10000 non-null  int64  \n",
      " 8   CreditCard        10000 non-null  int64  \n",
      " 9   Loyalty           10000 non-null  int64  \n",
      " 10  estimated_salary  10000 non-null  float64\n",
      " 11  Churn             10000 non-null  int64  \n",
      "dtypes: float64(2), int64(8), object(2)\n",
      "memory usage: 937.6+ KB\n"
     ]
    }
   ],
   "source": [
    "data.info()"
   ]
  },
  {
   "cell_type": "markdown",
   "metadata": {},
   "source": [
    "Итак, у нас 11 колонок, 1000 строк, пропуски есть только в Balance. Типы объектов выглядят правильно, здесь менять ничего не будем. Для удобства переименуем столбцы в cоответствии со стилем snake. "
   ]
  },
  {
   "cell_type": "markdown",
   "metadata": {},
   "source": [
    "## Предобработка данных"
   ]
  },
  {
   "cell_type": "markdown",
   "metadata": {},
   "source": [
    "### Названия столбцов"
   ]
  },
  {
   "cell_type": "code",
   "execution_count": 4,
   "metadata": {},
   "outputs": [
    {
     "name": "stdout",
     "output_type": "stream",
     "text": [
      "<class 'pandas.core.frame.DataFrame'>\n",
      "RangeIndex: 10000 entries, 0 to 9999\n",
      "Data columns (total 12 columns):\n",
      " #   Column            Non-Null Count  Dtype  \n",
      "---  ------            --------------  -----  \n",
      " 0   user_id           10000 non-null  int64  \n",
      " 1   score             10000 non-null  int64  \n",
      " 2   city              10000 non-null  object \n",
      " 3   gender            10000 non-null  object \n",
      " 4   age               10000 non-null  int64  \n",
      " 5   objects           10000 non-null  int64  \n",
      " 6   balance           6383 non-null   float64\n",
      " 7   products          10000 non-null  int64  \n",
      " 8   credit_card       10000 non-null  int64  \n",
      " 9   loyalty           10000 non-null  int64  \n",
      " 10  estimated_salary  10000 non-null  float64\n",
      " 11  churn             10000 non-null  int64  \n",
      "dtypes: float64(2), int64(8), object(2)\n",
      "memory usage: 937.6+ KB\n"
     ]
    }
   ],
   "source": [
    "#Переименуем столбцы\n",
    "data.columns= data.columns.str.lower()\n",
    "data.rename(columns={'userid': 'user_id', 'creditcard':'credit_card'}, inplace=True)\n",
    "data.info()"
   ]
  },
  {
   "cell_type": "markdown",
   "metadata": {},
   "source": [
    "Вывод: названия столбцов приведены к стилю snake"
   ]
  },
  {
   "cell_type": "markdown",
   "metadata": {},
   "source": [
    "### Аномалии и выбросы"
   ]
  },
  {
   "cell_type": "code",
   "execution_count": 5,
   "metadata": {
    "scrolled": true
   },
   "outputs": [
    {
     "data": {
      "image/png": "[encoded data removed]",
      "text/plain": [
       "<Figure size 1080x1440 with 12 Axes>"
      ]
     },
     "metadata": {
      "needs_background": "light"
     },
     "output_type": "display_data"
    }
   ],
   "source": [
    "data.hist(figsize=(15, 20))\n",
    "plt.show()"
   ]
  },
  {
   "cell_type": "code",
   "execution_count": 6,
   "metadata": {
    "scrolled": true
   },
   "outputs": [
    {
     "name": "stdout",
     "output_type": "stream",
     "text": [
      "Варианты пола:  ['Ж' 'М']\n",
      "Варианты городов:  ['Ярославль' 'Рыбинск' 'Ростов Великий']\n"
     ]
    }
   ],
   "source": [
    "print(\"Варианты пола: \", data['gender'].unique())\n",
    "print(\"Варианты городов: \", data['city'].unique())"
   ]
  },
  {
   "cell_type": "markdown",
   "metadata": {},
   "source": [
    "Вывод: Выбросов и аномальных данных не обнаружено. "
   ]
  },
  {
   "cell_type": "markdown",
   "metadata": {},
   "source": [
    "### Анализ пропусков"
   ]
  },
  {
   "cell_type": "code",
   "execution_count": 7,
   "metadata": {},
   "outputs": [
    {
     "data": {
      "text/html": [
       "<div>\n",
       "<style scoped>\n",
       "    .dataframe tbody tr th:only-of-type {\n",
       "        vertical-align: middle;\n",
       "    }\n",
       "\n",
       "    .dataframe tbody tr th {\n",
       "        vertical-align: top;\n",
       "    }\n",
       "\n",
       "    .dataframe thead th {\n",
       "        text-align: right;\n",
       "    }\n",
       "</style>\n",
       "<table border=\"1\" class=\"dataframe\">\n",
       "  <thead>\n",
       "    <tr style=\"text-align: right;\">\n",
       "      <th></th>\n",
       "      <th>user_id</th>\n",
       "      <th>score</th>\n",
       "      <th>city</th>\n",
       "      <th>gender</th>\n",
       "      <th>age</th>\n",
       "      <th>objects</th>\n",
       "      <th>balance</th>\n",
       "      <th>products</th>\n",
       "      <th>credit_card</th>\n",
       "      <th>loyalty</th>\n",
       "      <th>estimated_salary</th>\n",
       "      <th>churn</th>\n",
       "    </tr>\n",
       "  </thead>\n",
       "  <tbody>\n",
       "    <tr>\n",
       "      <th>0</th>\n",
       "      <td>15677338</td>\n",
       "      <td>619</td>\n",
       "      <td>Ярославль</td>\n",
       "      <td>Ж</td>\n",
       "      <td>42</td>\n",
       "      <td>2</td>\n",
       "      <td>NaN</td>\n",
       "      <td>1</td>\n",
       "      <td>1</td>\n",
       "      <td>1</td>\n",
       "      <td>101348.88</td>\n",
       "      <td>1</td>\n",
       "    </tr>\n",
       "    <tr>\n",
       "      <th>3</th>\n",
       "      <td>15744090</td>\n",
       "      <td>699</td>\n",
       "      <td>Ярославль</td>\n",
       "      <td>Ж</td>\n",
       "      <td>39</td>\n",
       "      <td>1</td>\n",
       "      <td>NaN</td>\n",
       "      <td>2</td>\n",
       "      <td>0</td>\n",
       "      <td>0</td>\n",
       "      <td>93826.63</td>\n",
       "      <td>0</td>\n",
       "    </tr>\n",
       "    <tr>\n",
       "      <th>6</th>\n",
       "      <td>15635267</td>\n",
       "      <td>822</td>\n",
       "      <td>Ярославль</td>\n",
       "      <td>М</td>\n",
       "      <td>50</td>\n",
       "      <td>7</td>\n",
       "      <td>NaN</td>\n",
       "      <td>2</td>\n",
       "      <td>1</td>\n",
       "      <td>1</td>\n",
       "      <td>10062.80</td>\n",
       "      <td>0</td>\n",
       "    </tr>\n",
       "    <tr>\n",
       "      <th>11</th>\n",
       "      <td>15779909</td>\n",
       "      <td>497</td>\n",
       "      <td>Рыбинск</td>\n",
       "      <td>М</td>\n",
       "      <td>24</td>\n",
       "      <td>3</td>\n",
       "      <td>NaN</td>\n",
       "      <td>2</td>\n",
       "      <td>1</td>\n",
       "      <td>0</td>\n",
       "      <td>76390.01</td>\n",
       "      <td>0</td>\n",
       "    </tr>\n",
       "    <tr>\n",
       "      <th>12</th>\n",
       "      <td>15675000</td>\n",
       "      <td>476</td>\n",
       "      <td>Ярославль</td>\n",
       "      <td>Ж</td>\n",
       "      <td>34</td>\n",
       "      <td>10</td>\n",
       "      <td>NaN</td>\n",
       "      <td>2</td>\n",
       "      <td>1</td>\n",
       "      <td>0</td>\n",
       "      <td>26260.98</td>\n",
       "      <td>0</td>\n",
       "    </tr>\n",
       "    <tr>\n",
       "      <th>...</th>\n",
       "      <td>...</td>\n",
       "      <td>...</td>\n",
       "      <td>...</td>\n",
       "      <td>...</td>\n",
       "      <td>...</td>\n",
       "      <td>...</td>\n",
       "      <td>...</td>\n",
       "      <td>...</td>\n",
       "      <td>...</td>\n",
       "      <td>...</td>\n",
       "      <td>...</td>\n",
       "      <td>...</td>\n",
       "    </tr>\n",
       "    <tr>\n",
       "      <th>9989</th>\n",
       "      <td>15648358</td>\n",
       "      <td>841</td>\n",
       "      <td>Рыбинск</td>\n",
       "      <td>М</td>\n",
       "      <td>28</td>\n",
       "      <td>4</td>\n",
       "      <td>NaN</td>\n",
       "      <td>2</td>\n",
       "      <td>1</td>\n",
       "      <td>1</td>\n",
       "      <td>179436.60</td>\n",
       "      <td>0</td>\n",
       "    </tr>\n",
       "    <tr>\n",
       "      <th>9992</th>\n",
       "      <td>15699841</td>\n",
       "      <td>726</td>\n",
       "      <td>Рыбинск</td>\n",
       "      <td>М</td>\n",
       "      <td>36</td>\n",
       "      <td>2</td>\n",
       "      <td>NaN</td>\n",
       "      <td>1</td>\n",
       "      <td>1</td>\n",
       "      <td>0</td>\n",
       "      <td>195192.40</td>\n",
       "      <td>0</td>\n",
       "    </tr>\n",
       "    <tr>\n",
       "      <th>9994</th>\n",
       "      <td>15762030</td>\n",
       "      <td>800</td>\n",
       "      <td>Ярославль</td>\n",
       "      <td>Ж</td>\n",
       "      <td>29</td>\n",
       "      <td>2</td>\n",
       "      <td>NaN</td>\n",
       "      <td>2</td>\n",
       "      <td>0</td>\n",
       "      <td>0</td>\n",
       "      <td>167773.55</td>\n",
       "      <td>0</td>\n",
       "    </tr>\n",
       "    <tr>\n",
       "      <th>9995</th>\n",
       "      <td>15648965</td>\n",
       "      <td>771</td>\n",
       "      <td>Ярославль</td>\n",
       "      <td>М</td>\n",
       "      <td>39</td>\n",
       "      <td>5</td>\n",
       "      <td>NaN</td>\n",
       "      <td>2</td>\n",
       "      <td>1</td>\n",
       "      <td>0</td>\n",
       "      <td>96270.64</td>\n",
       "      <td>0</td>\n",
       "    </tr>\n",
       "    <tr>\n",
       "      <th>9997</th>\n",
       "      <td>15627268</td>\n",
       "      <td>709</td>\n",
       "      <td>Ярославль</td>\n",
       "      <td>Ж</td>\n",
       "      <td>36</td>\n",
       "      <td>7</td>\n",
       "      <td>NaN</td>\n",
       "      <td>1</td>\n",
       "      <td>0</td>\n",
       "      <td>1</td>\n",
       "      <td>42085.58</td>\n",
       "      <td>1</td>\n",
       "    </tr>\n",
       "  </tbody>\n",
       "</table>\n",
       "<p>3617 rows × 12 columns</p>\n",
       "</div>"
      ],
      "text/plain": [
       "       user_id  score       city gender  age  objects  balance  products  \\\n",
       "0     15677338    619  Ярославль      Ж   42        2      NaN         1   \n",
       "3     15744090    699  Ярославль      Ж   39        1      NaN         2   \n",
       "6     15635267    822  Ярославль      М   50        7      NaN         2   \n",
       "11    15779909    497    Рыбинск      М   24        3      NaN         2   \n",
       "12    15675000    476  Ярославль      Ж   34       10      NaN         2   \n",
       "...        ...    ...        ...    ...  ...      ...      ...       ...   \n",
       "9989  15648358    841    Рыбинск      М   28        4      NaN         2   \n",
       "9992  15699841    726    Рыбинск      М   36        2      NaN         1   \n",
       "9994  15762030    800  Ярославль      Ж   29        2      NaN         2   \n",
       "9995  15648965    771  Ярославль      М   39        5      NaN         2   \n",
       "9997  15627268    709  Ярославль      Ж   36        7      NaN         1   \n",
       "\n",
       "      credit_card  loyalty  estimated_salary  churn  \n",
       "0               1        1         101348.88      1  \n",
       "3               0        0          93826.63      0  \n",
       "6               1        1          10062.80      0  \n",
       "11              1        0          76390.01      0  \n",
       "12              1        0          26260.98      0  \n",
       "...           ...      ...               ...    ...  \n",
       "9989            1        1         179436.60      0  \n",
       "9992            1        0         195192.40      0  \n",
       "9994            0        0         167773.55      0  \n",
       "9995            1        0          96270.64      0  \n",
       "9997            0        1          42085.58      1  \n",
       "\n",
       "[3617 rows x 12 columns]"
      ]
     },
     "execution_count": 7,
     "metadata": {},
     "output_type": "execute_result"
    }
   ],
   "source": [
    "#Выделим данные с пропусками в отдельную таблицу\n",
    "no_balance=data.query('balance.isna()')\n",
    "no_balance"
   ]
  },
  {
   "cell_type": "code",
   "execution_count": 8,
   "metadata": {},
   "outputs": [
    {
     "data": {
      "text/html": [
       "<div>\n",
       "<style scoped>\n",
       "    .dataframe tbody tr th:only-of-type {\n",
       "        vertical-align: middle;\n",
       "    }\n",
       "\n",
       "    .dataframe tbody tr th {\n",
       "        vertical-align: top;\n",
       "    }\n",
       "\n",
       "    .dataframe thead th {\n",
       "        text-align: right;\n",
       "    }\n",
       "</style>\n",
       "<table border=\"1\" class=\"dataframe\">\n",
       "  <thead>\n",
       "    <tr style=\"text-align: right;\">\n",
       "      <th></th>\n",
       "      <th>gender</th>\n",
       "      <th>products</th>\n",
       "    </tr>\n",
       "  </thead>\n",
       "  <tbody>\n",
       "    <tr>\n",
       "      <th>0</th>\n",
       "      <td>Ж</td>\n",
       "      <td>1654</td>\n",
       "    </tr>\n",
       "    <tr>\n",
       "      <th>1</th>\n",
       "      <td>М</td>\n",
       "      <td>1963</td>\n",
       "    </tr>\n",
       "  </tbody>\n",
       "</table>\n",
       "</div>"
      ],
      "text/plain": [
       "  gender  products\n",
       "0      Ж      1654\n",
       "1      М      1963"
      ]
     },
     "execution_count": 8,
     "metadata": {},
     "output_type": "execute_result"
    }
   ],
   "source": [
    "#Проверим распределение пропусков по признаку пола:\n",
    "gender_isna = no_balance.pivot_table(index='gender',values='products',aggfunc='count').reset_index()\n",
    "gender_isna\n",
    "#Значимых различий нет."
   ]
  },
  {
   "cell_type": "code",
   "execution_count": 9,
   "metadata": {},
   "outputs": [
    {
     "data": {
      "text/html": [
       "<div>\n",
       "<style scoped>\n",
       "    .dataframe tbody tr th:only-of-type {\n",
       "        vertical-align: middle;\n",
       "    }\n",
       "\n",
       "    .dataframe tbody tr th {\n",
       "        vertical-align: top;\n",
       "    }\n",
       "\n",
       "    .dataframe thead th {\n",
       "        text-align: right;\n",
       "    }\n",
       "</style>\n",
       "<table border=\"1\" class=\"dataframe\">\n",
       "  <thead>\n",
       "    <tr style=\"text-align: right;\">\n",
       "      <th></th>\n",
       "      <th>city</th>\n",
       "      <th>products</th>\n",
       "    </tr>\n",
       "  </thead>\n",
       "  <tbody>\n",
       "    <tr>\n",
       "      <th>0</th>\n",
       "      <td>Рыбинск</td>\n",
       "      <td>1199</td>\n",
       "    </tr>\n",
       "    <tr>\n",
       "      <th>1</th>\n",
       "      <td>Ярославль</td>\n",
       "      <td>2418</td>\n",
       "    </tr>\n",
       "  </tbody>\n",
       "</table>\n",
       "</div>"
      ],
      "text/plain": [
       "        city  products\n",
       "0    Рыбинск      1199\n",
       "1  Ярославль      2418"
      ]
     },
     "execution_count": 9,
     "metadata": {},
     "output_type": "execute_result"
    }
   ],
   "source": [
    "#Проверим распределение пропусков по признаку географии:\n",
    "city_isna = no_balance.pivot_table(index='city',values='products',aggfunc='count').reset_index()\n",
    "city_isna\n",
    "# В Ярославле пропуски в balance встречаются в 2 раза чаще. Интересно, что в Ростове при этом пропусков нет вообще."
   ]
  },
  {
   "cell_type": "code",
   "execution_count": 10,
   "metadata": {
    "scrolled": true
   },
   "outputs": [
    {
     "data": {
      "image/png": "[encoded data removed]",
      "text/plain": [
       "<Figure size 1080x1440 with 12 Axes>"
      ]
     },
     "metadata": {
      "needs_background": "light"
     },
     "output_type": "display_data"
    }
   ],
   "source": [
    "#Проверим распределение пропусков по \"Числовым\" признакам\n",
    "no_balance.hist(figsize=(15, 20))\n",
    "plt.show()"
   ]
  },
  {
   "cell_type": "markdown",
   "metadata": {},
   "source": [
    "Значимых различий по зарплате, активности и количеству объектов в собственности клиентов не наблюдается.\n",
    "Из графиков можно видеть, что пропуск в значении Balance: \n",
    "- Чаще всего встречается у тех, кто пользуется 2 продуктами (примерно в 2.5 раза больше, чем у пользующихся 1 продуктом, и больше чем в 10  раз, чем у пользующихся тремя). \n",
    "- Примерно в 2.5 раза чаще у клиентов с кредитной карточкой, чем без. \n",
    "- Чаще всего у клиентов около 30 лет\n",
    "- Как ни странно, но оставшихся клиентов с пропуском в балансе в 6 раз больше, чем ушедших."
   ]
  },
  {
   "cell_type": "code",
   "execution_count": 11,
   "metadata": {},
   "outputs": [
    {
     "data": {
      "text/plain": [
       "count      6383.000000\n",
       "mean     119827.493793\n",
       "std       30095.056462\n",
       "min        3768.690000\n",
       "25%      100181.975000\n",
       "50%      119839.690000\n",
       "75%      139512.290000\n",
       "max      250898.090000\n",
       "Name: balance, dtype: float64"
      ]
     },
     "execution_count": 11,
     "metadata": {},
     "output_type": "execute_result"
    }
   ],
   "source": [
    "#Проверим, есть ли в датасете клиенты с нулевым балансом\n",
    "data['balance'].describe()"
   ]
  },
  {
   "cell_type": "markdown",
   "metadata": {},
   "source": [
    "Итак, можно видеть, что нет клиентов, у которых на счету было бы меньше 3.7к рублей. \n",
    "Предположу, что пропуск в cтолбце balance означает нулевой дебетовый счёт. Это может быть связано, например, с тем, что клиент пользуется только кредитной картой/выплачивает банку кредит или ипотеку.\n",
    "\n",
    "Вывод: разумнее всего будет оставить пропуски как  есть, т.к точную причину их появления установить не удаётся. Имеет смысл связаться с заказчиком и уточнить этот момент."
   ]
  },
  {
   "cell_type": "markdown",
   "metadata": {},
   "source": [
    "### Проверка дубликатов"
   ]
  },
  {
   "cell_type": "code",
   "execution_count": 12,
   "metadata": {},
   "outputs": [
    {
     "data": {
      "text/plain": [
       "0"
      ]
     },
     "execution_count": 12,
     "metadata": {},
     "output_type": "execute_result"
    }
   ],
   "source": [
    "data.duplicated().sum()"
   ]
  },
  {
   "cell_type": "code",
   "execution_count": 13,
   "metadata": {},
   "outputs": [
    {
     "data": {
      "text/plain": [
       "0"
      ]
     },
     "execution_count": 13,
     "metadata": {},
     "output_type": "execute_result"
    }
   ],
   "source": [
    "data['user_id'].duplicated().sum()"
   ]
  },
  {
   "cell_type": "markdown",
   "metadata": {},
   "source": [
    "Вывод: дубликатов не обнаружено"
   ]
  },
  {
   "cell_type": "markdown",
   "metadata": {},
   "source": [
    "### Дополнительная категоризация"
   ]
  },
  {
   "cell_type": "code",
   "execution_count": 14,
   "metadata": {},
   "outputs": [
    {
     "data": {
      "text/plain": [
       "count    10000.000000\n",
       "mean        38.921800\n",
       "std         10.487806\n",
       "min         18.000000\n",
       "25%         32.000000\n",
       "50%         37.000000\n",
       "75%         44.000000\n",
       "max         92.000000\n",
       "Name: age, dtype: float64"
      ]
     },
     "execution_count": 14,
     "metadata": {},
     "output_type": "execute_result"
    }
   ],
   "source": [
    "data['age'].describe()"
   ]
  },
  {
   "cell_type": "code",
   "execution_count": 15,
   "metadata": {},
   "outputs": [
    {
     "data": {
      "text/html": [
       "<div>\n",
       "<style scoped>\n",
       "    .dataframe tbody tr th:only-of-type {\n",
       "        vertical-align: middle;\n",
       "    }\n",
       "\n",
       "    .dataframe tbody tr th {\n",
       "        vertical-align: top;\n",
       "    }\n",
       "\n",
       "    .dataframe thead th {\n",
       "        text-align: right;\n",
       "    }\n",
       "</style>\n",
       "<table border=\"1\" class=\"dataframe\">\n",
       "  <thead>\n",
       "    <tr style=\"text-align: right;\">\n",
       "      <th></th>\n",
       "      <th>user_id</th>\n",
       "      <th>score</th>\n",
       "      <th>city</th>\n",
       "      <th>gender</th>\n",
       "      <th>age</th>\n",
       "      <th>objects</th>\n",
       "      <th>balance</th>\n",
       "      <th>products</th>\n",
       "      <th>credit_card</th>\n",
       "      <th>loyalty</th>\n",
       "      <th>estimated_salary</th>\n",
       "      <th>churn</th>\n",
       "      <th>age_category</th>\n",
       "    </tr>\n",
       "  </thead>\n",
       "  <tbody>\n",
       "    <tr>\n",
       "      <th>0</th>\n",
       "      <td>15677338</td>\n",
       "      <td>619</td>\n",
       "      <td>Ярославль</td>\n",
       "      <td>Ж</td>\n",
       "      <td>42</td>\n",
       "      <td>2</td>\n",
       "      <td>NaN</td>\n",
       "      <td>1</td>\n",
       "      <td>1</td>\n",
       "      <td>1</td>\n",
       "      <td>101348.88</td>\n",
       "      <td>1</td>\n",
       "      <td>middle</td>\n",
       "    </tr>\n",
       "    <tr>\n",
       "      <th>1</th>\n",
       "      <td>15690047</td>\n",
       "      <td>608</td>\n",
       "      <td>Рыбинск</td>\n",
       "      <td>Ж</td>\n",
       "      <td>41</td>\n",
       "      <td>1</td>\n",
       "      <td>83807.86</td>\n",
       "      <td>1</td>\n",
       "      <td>0</td>\n",
       "      <td>1</td>\n",
       "      <td>112542.58</td>\n",
       "      <td>0</td>\n",
       "      <td>middle</td>\n",
       "    </tr>\n",
       "    <tr>\n",
       "      <th>2</th>\n",
       "      <td>15662040</td>\n",
       "      <td>502</td>\n",
       "      <td>Ярославль</td>\n",
       "      <td>Ж</td>\n",
       "      <td>42</td>\n",
       "      <td>8</td>\n",
       "      <td>159660.80</td>\n",
       "      <td>3</td>\n",
       "      <td>1</td>\n",
       "      <td>0</td>\n",
       "      <td>113931.57</td>\n",
       "      <td>1</td>\n",
       "      <td>middle</td>\n",
       "    </tr>\n",
       "    <tr>\n",
       "      <th>3</th>\n",
       "      <td>15744090</td>\n",
       "      <td>699</td>\n",
       "      <td>Ярославль</td>\n",
       "      <td>Ж</td>\n",
       "      <td>39</td>\n",
       "      <td>1</td>\n",
       "      <td>NaN</td>\n",
       "      <td>2</td>\n",
       "      <td>0</td>\n",
       "      <td>0</td>\n",
       "      <td>93826.63</td>\n",
       "      <td>0</td>\n",
       "      <td>middle</td>\n",
       "    </tr>\n",
       "    <tr>\n",
       "      <th>4</th>\n",
       "      <td>15780624</td>\n",
       "      <td>850</td>\n",
       "      <td>Рыбинск</td>\n",
       "      <td>Ж</td>\n",
       "      <td>43</td>\n",
       "      <td>2</td>\n",
       "      <td>125510.82</td>\n",
       "      <td>1</td>\n",
       "      <td>1</td>\n",
       "      <td>1</td>\n",
       "      <td>79084.10</td>\n",
       "      <td>0</td>\n",
       "      <td>middle</td>\n",
       "    </tr>\n",
       "    <tr>\n",
       "      <th>...</th>\n",
       "      <td>...</td>\n",
       "      <td>...</td>\n",
       "      <td>...</td>\n",
       "      <td>...</td>\n",
       "      <td>...</td>\n",
       "      <td>...</td>\n",
       "      <td>...</td>\n",
       "      <td>...</td>\n",
       "      <td>...</td>\n",
       "      <td>...</td>\n",
       "      <td>...</td>\n",
       "      <td>...</td>\n",
       "      <td>...</td>\n",
       "    </tr>\n",
       "    <tr>\n",
       "      <th>9995</th>\n",
       "      <td>15648965</td>\n",
       "      <td>771</td>\n",
       "      <td>Ярославль</td>\n",
       "      <td>М</td>\n",
       "      <td>39</td>\n",
       "      <td>5</td>\n",
       "      <td>NaN</td>\n",
       "      <td>2</td>\n",
       "      <td>1</td>\n",
       "      <td>0</td>\n",
       "      <td>96270.64</td>\n",
       "      <td>0</td>\n",
       "      <td>middle</td>\n",
       "    </tr>\n",
       "    <tr>\n",
       "      <th>9996</th>\n",
       "      <td>15612628</td>\n",
       "      <td>516</td>\n",
       "      <td>Ярославль</td>\n",
       "      <td>М</td>\n",
       "      <td>35</td>\n",
       "      <td>10</td>\n",
       "      <td>57369.61</td>\n",
       "      <td>1</td>\n",
       "      <td>1</td>\n",
       "      <td>1</td>\n",
       "      <td>101699.77</td>\n",
       "      <td>0</td>\n",
       "      <td>middle</td>\n",
       "    </tr>\n",
       "    <tr>\n",
       "      <th>9997</th>\n",
       "      <td>15627268</td>\n",
       "      <td>709</td>\n",
       "      <td>Ярославль</td>\n",
       "      <td>Ж</td>\n",
       "      <td>36</td>\n",
       "      <td>7</td>\n",
       "      <td>NaN</td>\n",
       "      <td>1</td>\n",
       "      <td>0</td>\n",
       "      <td>1</td>\n",
       "      <td>42085.58</td>\n",
       "      <td>1</td>\n",
       "      <td>middle</td>\n",
       "    </tr>\n",
       "    <tr>\n",
       "      <th>9998</th>\n",
       "      <td>15725091</td>\n",
       "      <td>772</td>\n",
       "      <td>Ростов Великий</td>\n",
       "      <td>М</td>\n",
       "      <td>42</td>\n",
       "      <td>3</td>\n",
       "      <td>75075.31</td>\n",
       "      <td>2</td>\n",
       "      <td>1</td>\n",
       "      <td>0</td>\n",
       "      <td>92888.52</td>\n",
       "      <td>1</td>\n",
       "      <td>middle</td>\n",
       "    </tr>\n",
       "    <tr>\n",
       "      <th>9999</th>\n",
       "      <td>15671055</td>\n",
       "      <td>792</td>\n",
       "      <td>Ярославль</td>\n",
       "      <td>Ж</td>\n",
       "      <td>28</td>\n",
       "      <td>4</td>\n",
       "      <td>130142.79</td>\n",
       "      <td>1</td>\n",
       "      <td>1</td>\n",
       "      <td>0</td>\n",
       "      <td>38190.78</td>\n",
       "      <td>0</td>\n",
       "      <td>middle</td>\n",
       "    </tr>\n",
       "  </tbody>\n",
       "</table>\n",
       "<p>10000 rows × 13 columns</p>\n",
       "</div>"
      ],
      "text/plain": [
       "       user_id  score            city gender  age  objects    balance  \\\n",
       "0     15677338    619       Ярославль      Ж   42        2        NaN   \n",
       "1     15690047    608         Рыбинск      Ж   41        1   83807.86   \n",
       "2     15662040    502       Ярославль      Ж   42        8  159660.80   \n",
       "3     15744090    699       Ярославль      Ж   39        1        NaN   \n",
       "4     15780624    850         Рыбинск      Ж   43        2  125510.82   \n",
       "...        ...    ...             ...    ...  ...      ...        ...   \n",
       "9995  15648965    771       Ярославль      М   39        5        NaN   \n",
       "9996  15612628    516       Ярославль      М   35       10   57369.61   \n",
       "9997  15627268    709       Ярославль      Ж   36        7        NaN   \n",
       "9998  15725091    772  Ростов Великий      М   42        3   75075.31   \n",
       "9999  15671055    792       Ярославль      Ж   28        4  130142.79   \n",
       "\n",
       "      products  credit_card  loyalty  estimated_salary  churn age_category  \n",
       "0            1            1        1         101348.88      1       middle  \n",
       "1            1            0        1         112542.58      0       middle  \n",
       "2            3            1        0         113931.57      1       middle  \n",
       "3            2            0        0          93826.63      0       middle  \n",
       "4            1            1        1          79084.10      0       middle  \n",
       "...        ...          ...      ...               ...    ...          ...  \n",
       "9995         2            1        0          96270.64      0       middle  \n",
       "9996         1            1        1         101699.77      0       middle  \n",
       "9997         1            0        1          42085.58      1       middle  \n",
       "9998         2            1        0          92888.52      1       middle  \n",
       "9999         1            1        0          38190.78      0       middle  \n",
       "\n",
       "[10000 rows x 13 columns]"
      ]
     },
     "execution_count": 15,
     "metadata": {},
     "output_type": "execute_result"
    }
   ],
   "source": [
    "#Проведём дополнительную категоризацию по возрасту\n",
    "def age_category(row): #Функция, определяющая категорию возраста\n",
    "    age = row['age']\n",
    "    if age <=25:\n",
    "        category='junior'    \n",
    "    elif age <=50:\n",
    "        category='middle'       \n",
    "    else:\n",
    "        category='senior'    \n",
    "    return category\n",
    "data['age_category']=data.apply(age_category, axis=1)\n",
    "data.sort_values(by='age').head(10)\n",
    "data.sort_values(by='age').tail(10)\n",
    "data"
   ]
  },
  {
   "cell_type": "code",
   "execution_count": 16,
   "metadata": {},
   "outputs": [
    {
     "data": {
      "text/plain": [
       "count     10000.000000\n",
       "mean     100090.239881\n",
       "std       57510.492818\n",
       "min          11.580000\n",
       "25%       51002.110000\n",
       "50%      100193.915000\n",
       "75%      149388.247500\n",
       "max      199992.480000\n",
       "Name: estimated_salary, dtype: float64"
      ]
     },
     "execution_count": 16,
     "metadata": {},
     "output_type": "execute_result"
    }
   ],
   "source": [
    "data['estimated_salary'].describe()"
   ]
  },
  {
   "cell_type": "code",
   "execution_count": 17,
   "metadata": {},
   "outputs": [
    {
     "data": {
      "text/html": [
       "<div>\n",
       "<style scoped>\n",
       "    .dataframe tbody tr th:only-of-type {\n",
       "        vertical-align: middle;\n",
       "    }\n",
       "\n",
       "    .dataframe tbody tr th {\n",
       "        vertical-align: top;\n",
       "    }\n",
       "\n",
       "    .dataframe thead th {\n",
       "        text-align: right;\n",
       "    }\n",
       "</style>\n",
       "<table border=\"1\" class=\"dataframe\">\n",
       "  <thead>\n",
       "    <tr style=\"text-align: right;\">\n",
       "      <th></th>\n",
       "      <th>user_id</th>\n",
       "      <th>score</th>\n",
       "      <th>city</th>\n",
       "      <th>gender</th>\n",
       "      <th>age</th>\n",
       "      <th>objects</th>\n",
       "      <th>balance</th>\n",
       "      <th>products</th>\n",
       "      <th>credit_card</th>\n",
       "      <th>loyalty</th>\n",
       "      <th>estimated_salary</th>\n",
       "      <th>churn</th>\n",
       "      <th>age_category</th>\n",
       "      <th>salary_category</th>\n",
       "    </tr>\n",
       "  </thead>\n",
       "  <tbody>\n",
       "    <tr>\n",
       "      <th>6125</th>\n",
       "      <td>15730649</td>\n",
       "      <td>501</td>\n",
       "      <td>Ростов Великий</td>\n",
       "      <td>Ж</td>\n",
       "      <td>34</td>\n",
       "      <td>7</td>\n",
       "      <td>93244.42</td>\n",
       "      <td>1</td>\n",
       "      <td>0</td>\n",
       "      <td>1</td>\n",
       "      <td>199805.63</td>\n",
       "      <td>0</td>\n",
       "      <td>middle</td>\n",
       "      <td>A</td>\n",
       "    </tr>\n",
       "    <tr>\n",
       "      <th>8088</th>\n",
       "      <td>15858392</td>\n",
       "      <td>541</td>\n",
       "      <td>Ростов Великий</td>\n",
       "      <td>Ж</td>\n",
       "      <td>39</td>\n",
       "      <td>9</td>\n",
       "      <td>100116.67</td>\n",
       "      <td>1</td>\n",
       "      <td>1</td>\n",
       "      <td>1</td>\n",
       "      <td>199808.10</td>\n",
       "      <td>1</td>\n",
       "      <td>middle</td>\n",
       "      <td>A</td>\n",
       "    </tr>\n",
       "    <tr>\n",
       "      <th>6402</th>\n",
       "      <td>15846947</td>\n",
       "      <td>719</td>\n",
       "      <td>Ярославль</td>\n",
       "      <td>М</td>\n",
       "      <td>36</td>\n",
       "      <td>3</td>\n",
       "      <td>155423.17</td>\n",
       "      <td>1</td>\n",
       "      <td>1</td>\n",
       "      <td>1</td>\n",
       "      <td>199841.32</td>\n",
       "      <td>0</td>\n",
       "      <td>middle</td>\n",
       "      <td>A</td>\n",
       "    </tr>\n",
       "    <tr>\n",
       "      <th>1378</th>\n",
       "      <td>15725570</td>\n",
       "      <td>715</td>\n",
       "      <td>Рыбинск</td>\n",
       "      <td>Ж</td>\n",
       "      <td>35</td>\n",
       "      <td>4</td>\n",
       "      <td>40169.88</td>\n",
       "      <td>2</td>\n",
       "      <td>1</td>\n",
       "      <td>1</td>\n",
       "      <td>199857.47</td>\n",
       "      <td>0</td>\n",
       "      <td>middle</td>\n",
       "      <td>A</td>\n",
       "    </tr>\n",
       "    <tr>\n",
       "      <th>5958</th>\n",
       "      <td>15784455</td>\n",
       "      <td>540</td>\n",
       "      <td>Ярославль</td>\n",
       "      <td>Ж</td>\n",
       "      <td>40</td>\n",
       "      <td>3</td>\n",
       "      <td>165298.12</td>\n",
       "      <td>1</td>\n",
       "      <td>0</td>\n",
       "      <td>1</td>\n",
       "      <td>199862.75</td>\n",
       "      <td>0</td>\n",
       "      <td>middle</td>\n",
       "      <td>A</td>\n",
       "    </tr>\n",
       "    <tr>\n",
       "      <th>8926</th>\n",
       "      <td>15751872</td>\n",
       "      <td>620</td>\n",
       "      <td>Ярославль</td>\n",
       "      <td>М</td>\n",
       "      <td>28</td>\n",
       "      <td>8</td>\n",
       "      <td>NaN</td>\n",
       "      <td>2</td>\n",
       "      <td>1</td>\n",
       "      <td>1</td>\n",
       "      <td>199909.32</td>\n",
       "      <td>0</td>\n",
       "      <td>middle</td>\n",
       "      <td>A</td>\n",
       "    </tr>\n",
       "    <tr>\n",
       "      <th>9096</th>\n",
       "      <td>15805067</td>\n",
       "      <td>569</td>\n",
       "      <td>Ярославль</td>\n",
       "      <td>М</td>\n",
       "      <td>37</td>\n",
       "      <td>9</td>\n",
       "      <td>178755.84</td>\n",
       "      <td>1</td>\n",
       "      <td>1</td>\n",
       "      <td>0</td>\n",
       "      <td>199929.17</td>\n",
       "      <td>0</td>\n",
       "      <td>middle</td>\n",
       "      <td>A</td>\n",
       "    </tr>\n",
       "    <tr>\n",
       "      <th>4417</th>\n",
       "      <td>15740006</td>\n",
       "      <td>608</td>\n",
       "      <td>Рыбинск</td>\n",
       "      <td>М</td>\n",
       "      <td>27</td>\n",
       "      <td>4</td>\n",
       "      <td>153325.10</td>\n",
       "      <td>1</td>\n",
       "      <td>1</td>\n",
       "      <td>1</td>\n",
       "      <td>199953.33</td>\n",
       "      <td>0</td>\n",
       "      <td>middle</td>\n",
       "      <td>A</td>\n",
       "    </tr>\n",
       "    <tr>\n",
       "      <th>3580</th>\n",
       "      <td>15677095</td>\n",
       "      <td>639</td>\n",
       "      <td>Ростов Великий</td>\n",
       "      <td>Ж</td>\n",
       "      <td>41</td>\n",
       "      <td>5</td>\n",
       "      <td>98635.77</td>\n",
       "      <td>1</td>\n",
       "      <td>1</td>\n",
       "      <td>0</td>\n",
       "      <td>199970.74</td>\n",
       "      <td>0</td>\n",
       "      <td>middle</td>\n",
       "      <td>A</td>\n",
       "    </tr>\n",
       "    <tr>\n",
       "      <th>6646</th>\n",
       "      <td>15704757</td>\n",
       "      <td>685</td>\n",
       "      <td>Рыбинск</td>\n",
       "      <td>Ж</td>\n",
       "      <td>42</td>\n",
       "      <td>2</td>\n",
       "      <td>NaN</td>\n",
       "      <td>2</td>\n",
       "      <td>0</td>\n",
       "      <td>0</td>\n",
       "      <td>199992.48</td>\n",
       "      <td>0</td>\n",
       "      <td>middle</td>\n",
       "      <td>A</td>\n",
       "    </tr>\n",
       "  </tbody>\n",
       "</table>\n",
       "</div>"
      ],
      "text/plain": [
       "       user_id  score            city gender  age  objects    balance  \\\n",
       "6125  15730649    501  Ростов Великий      Ж   34        7   93244.42   \n",
       "8088  15858392    541  Ростов Великий      Ж   39        9  100116.67   \n",
       "6402  15846947    719       Ярославль      М   36        3  155423.17   \n",
       "1378  15725570    715         Рыбинск      Ж   35        4   40169.88   \n",
       "5958  15784455    540       Ярославль      Ж   40        3  165298.12   \n",
       "8926  15751872    620       Ярославль      М   28        8        NaN   \n",
       "9096  15805067    569       Ярославль      М   37        9  178755.84   \n",
       "4417  15740006    608         Рыбинск      М   27        4  153325.10   \n",
       "3580  15677095    639  Ростов Великий      Ж   41        5   98635.77   \n",
       "6646  15704757    685         Рыбинск      Ж   42        2        NaN   \n",
       "\n",
       "      products  credit_card  loyalty  estimated_salary  churn age_category  \\\n",
       "6125         1            0        1         199805.63      0       middle   \n",
       "8088         1            1        1         199808.10      1       middle   \n",
       "6402         1            1        1         199841.32      0       middle   \n",
       "1378         2            1        1         199857.47      0       middle   \n",
       "5958         1            0        1         199862.75      0       middle   \n",
       "8926         2            1        1         199909.32      0       middle   \n",
       "9096         1            1        0         199929.17      0       middle   \n",
       "4417         1            1        1         199953.33      0       middle   \n",
       "3580         1            1        0         199970.74      0       middle   \n",
       "6646         2            0        0         199992.48      0       middle   \n",
       "\n",
       "     salary_category  \n",
       "6125               A  \n",
       "8088               A  \n",
       "6402               A  \n",
       "1378               A  \n",
       "5958               A  \n",
       "8926               A  \n",
       "9096               A  \n",
       "4417               A  \n",
       "3580               A  \n",
       "6646               A  "
      ]
     },
     "execution_count": 17,
     "metadata": {},
     "output_type": "execute_result"
    }
   ],
   "source": [
    "def salary_category(row): #Функция, определяющая категорию дохода\n",
    "    money = row['estimated_salary']\n",
    "    if money <=30000:\n",
    "        category='E'    \n",
    "    elif money <=50000:\n",
    "        category='D'    \n",
    "    elif money <=100000:\n",
    "        category='C'  \n",
    "    elif money <=150000:\n",
    "        category='B'    \n",
    "    else:\n",
    "        category='A'    \n",
    "    return category    \n",
    "    return category\n",
    "data['salary_category']=data.apply(salary_category, axis=1)\n",
    "#data.sort_values(by='estimated_salary').head(10)\n",
    "data.sort_values(by='estimated_salary').tail(10)\n"
   ]
  },
  {
   "cell_type": "markdown",
   "metadata": {},
   "source": [
    "### Вывод по предобработке\n",
    "В результате предобработки данных:\n",
    "- Столбцы переименованы в соответствии со стилем snake\n",
    "- Выбросов и аномальных данных не обнаружено\n",
    "- Дубликатов не обнаружено\n",
    "- Обнаружены и обработаны пропуски в столбце Balance. Пропуск: \n",
    "\n",
    "  * Чаще всего встречается у тех, кто пользуется 2 продуктами (примерно в 2.5 раза больше, чем у пользующихся 1 продуктом, и больше чем в 10  раз, чем у пользующихся тремя)\n",
    "  * Примерно в 2.5 раза чаще у клиентов с кредитной карточкой, чем без. \n",
    "  * Чаще всего у клиентов около 30 лет\n",
    "  * Оставшихся клиентов с пропуском в балансе в 6 раз больше, чем ушедших.\n",
    "  * Значимых различий в возрасте, поле,  активности и количеству объектов в собственности клиентов не обнаружено\n",
    "  * В Ярославле встречается в 2 раза чаще, чем в Рыбинске. Интересно, что в Ростове при этом пропусков нет вообще.\n",
    "  \n",
    "  Предположительно пропуск в cтолбце balance означает нулевой дебетовый счёт. Это может быть связано, например, с тем, что клиент пользуется только кредитной картой/выплачивает банку кредит или ипотеку. Принято решение оставить пропуски как есть, т.к точную причину их появления установить не удаётся. Имеет смысл связаться с заказчиком и уточнить этот момент.\n",
    "  \n",
    "  \n",
    "- Проведена дополнительная категоризация. Клиентам от 18 (минимальный возраст) до 25 присвоена категория junior, от 26 до 45 - middle, более 45 - senior."
   ]
  },
  {
   "cell_type": "markdown",
   "metadata": {},
   "source": [
    "## Исследовательский анализ данных"
   ]
  },
  {
   "cell_type": "markdown",
   "metadata": {},
   "source": [
    "### Общий анализ\n",
    "Посмотрим, нельзя ли обнаружить взаимосвязь между какими-либо параметрами и проверим распределение по различным признакам. Часть гистограмм была построена на этапе предобработки, но повторим их для наглядности и аккуратности.  Также построим матрицу корреляций."
   ]
  },
  {
   "cell_type": "code",
   "execution_count": 18,
   "metadata": {},
   "outputs": [
    {
     "data": {
      "image/png": "[encoded data removed]",
      "text/plain": [
       "<Figure size 720x432 with 1 Axes>"
      ]
     },
     "metadata": {
      "needs_background": "light"
     },
     "output_type": "display_data"
    },
    {
     "data": {
      "image/png": "[encoded data removed]",
      "text/plain": [
       "<Figure size 720x432 with 1 Axes>"
      ]
     },
     "metadata": {
      "needs_background": "light"
     },
     "output_type": "display_data"
    },
    {
     "data": {
      "image/png": "[encoded data removed]",
      "text/plain": [
       "<Figure size 720x432 with 1 Axes>"
      ]
     },
     "metadata": {
      "needs_background": "light"
     },
     "output_type": "display_data"
    },
    {
     "data": {
      "image/png": "[encoded data removed]",
      "text/plain": [
       "<Figure size 720x432 with 1 Axes>"
      ]
     },
     "metadata": {
      "needs_background": "light"
     },
     "output_type": "display_data"
    },
    {
     "data": {
      "image/png": "[encoded data removed]",
      "text/plain": [
       "<Figure size 720x432 with 1 Axes>"
      ]
     },
     "metadata": {
      "needs_background": "light"
     },
     "output_type": "display_data"
    },
    {
     "data": {
      "image/png": "[encoded data removed]",
      "text/plain": [
       "<Figure size 720x432 with 1 Axes>"
      ]
     },
     "metadata": {
      "needs_background": "light"
     },
     "output_type": "display_data"
    },
    {
     "data": {
      "image/png": "[encoded data removed]",
      "text/plain": [
       "<Figure size 720x432 with 1 Axes>"
      ]
     },
     "metadata": {
      "needs_background": "light"
     },
     "output_type": "display_data"
    },
    {
     "data": {
      "image/png": "[encoded data removed]",
      "text/plain": [
       "<Figure size 720x432 with 1 Axes>"
      ]
     },
     "metadata": {
      "needs_background": "light"
     },
     "output_type": "display_data"
    },
    {
     "data": {
      "image/png": "[encoded data removed]",
      "text/plain": [
       "<Figure size 720x432 with 1 Axes>"
      ]
     },
     "metadata": {
      "needs_background": "light"
     },
     "output_type": "display_data"
    }
   ],
   "source": [
    "data_to_plt = data[[\n",
    "    'gender', 'city', 'objects', 'credit_card', 'products', 'loyalty', 'churn', 'age_category', 'salary_category'\n",
    "]]\n",
    "\n",
    "for i in data_to_plt.columns:\n",
    "        plt.figure(figsize=(10, 6))\n",
    "        sns.histplot(x=i, data=data, color='lightyellow')\n",
    "        plt.title(i)\n",
    "        plt.xlabel(' ')\n",
    "        plt.ylabel('count')\n",
    "        plt.show()"
   ]
  },
  {
   "cell_type": "markdown",
   "metadata": {},
   "source": [
    "Можно видеть, что распределение по полу, активности, и количеству объектов в собственности примерно равномерное (за исключением количества клиентов с 1 и 10 объектами в последнем параметре - их значительно меньше, чем остальных, около 4%). В Рыбинске и Ростове клиентов примерно равное количество, но в Ярославле приблизительно вдвое больше. Клиентов с кредитной картой примерно вдвое больше, чем без. Чуть больше половины клиентов пользуются одним продуктом, около 45% - двумя. 3 и 4 - менее 5%. \n",
    "Людей в возрасте от 25 до 45 около 80%, старше 45 - 13%. Младше 25 - меньше 10%.\n",
    "Клиентов с зарплатами категорий А, B и С (от 50к до 100к, от 100к до 150к и больше 150к соответственно) примерно поровну - по 25%. Клиентов категории  E (от 30к до 50к) около 15%,  категории D (до 30к) - около 10%. \n",
    "#Судя по степени красивости чисел (каждые 50к - 25%, данные специально подбирали так.\n",
    "Наконец, оставшихся - чуть меньше 80%, ушедших - около 20%."
   ]
  },
  {
   "cell_type": "code",
   "execution_count": 19,
   "metadata": {},
   "outputs": [
    {
     "data": {
      "image/png": "[encoded data removed]",
      "text/plain": [
       "<Figure size 720x720 with 2 Axes>"
      ]
     },
     "metadata": {
      "needs_background": "light"
     },
     "output_type": "display_data"
    }
   ],
   "source": [
    "plt.figure(figsize = (10,10))\n",
    "sns.heatmap(data.corr(), cmap='BuPu', annot=True)\n",
    "plt.title('Матрица линейной корреляции')\n",
    "plt.show()"
   ]
  },
  {
   "cell_type": "markdown",
   "metadata": {},
   "source": [
    "Коэффициент корреляции везде <0.3 - связь очень слабая. Однако можно отметить связь churn и age, а также loyalty и age - их парный коэффициент корреляции больше остальных и достигает по меньшей мере десятых долей."
   ]
  },
  {
   "cell_type": "markdown",
   "metadata": {},
   "source": [
    "#### Вывод: \n",
    "Cильнее всего проявляется связь между \"параметром ухода\" и возрастом, а также \"параметром ухода\" и активностью.  Тем не менее, коэффициент корреляции для всех пар меньше 0.3 => связь очень слабая.\n",
    "\n",
    "Можно видеть, что распределение по полу, активности, и количеству объектов в собственности примерно равномерное (за исключением количества клиентов с 1 и 10 объектами в последнем параметре - их значительно меньше, чем остальных, около 4%). В Рыбинске и Ростове клиентов примерно равное количество, но в Ярославле приблизительно вдвое больше. Клиентов с кредитной картой примерно вдвое больше, чем без. Чуть больше половины клиентов пользуются одним продуктом, около 45% - двумя. 3 и 4 - менее 5%. \n",
    "Людей в возрасте от 25 до 45 около 80%, старше 45 - 13%. Младше 25 - меньше 10%.\n",
    "Клиентов с зарплатами категорий А, B и С (от 50к до 100к, от 100к до 150к и больше 150к соответственно) примерно поровну - по 25%. Клиентов категории  E (от 30к до 50к) около 15%,  категории D (до 30к) - около 10%. \n",
    "Наконец, оставшихся - чуть меньше 80%, ушедших - около 20%."
   ]
  },
  {
   "cell_type": "markdown",
   "metadata": {},
   "source": [
    "### Анализ оттока\n",
    "Разобьём имеющийся датасет на две таблицы - с ушедшими клиентами (data_out) и оставшимися (data_rest)."
   ]
  },
  {
   "cell_type": "code",
   "execution_count": 20,
   "metadata": {},
   "outputs": [
    {
     "data": {
      "text/html": [
       "<div>\n",
       "<style scoped>\n",
       "    .dataframe tbody tr th:only-of-type {\n",
       "        vertical-align: middle;\n",
       "    }\n",
       "\n",
       "    .dataframe tbody tr th {\n",
       "        vertical-align: top;\n",
       "    }\n",
       "\n",
       "    .dataframe thead th {\n",
       "        text-align: right;\n",
       "    }\n",
       "</style>\n",
       "<table border=\"1\" class=\"dataframe\">\n",
       "  <thead>\n",
       "    <tr style=\"text-align: right;\">\n",
       "      <th></th>\n",
       "      <th>user_id</th>\n",
       "      <th>score</th>\n",
       "      <th>city</th>\n",
       "      <th>gender</th>\n",
       "      <th>age</th>\n",
       "      <th>objects</th>\n",
       "      <th>balance</th>\n",
       "      <th>products</th>\n",
       "      <th>credit_card</th>\n",
       "      <th>loyalty</th>\n",
       "      <th>estimated_salary</th>\n",
       "      <th>churn</th>\n",
       "      <th>age_category</th>\n",
       "      <th>salary_category</th>\n",
       "    </tr>\n",
       "  </thead>\n",
       "  <tbody>\n",
       "    <tr>\n",
       "      <th>0</th>\n",
       "      <td>15677338</td>\n",
       "      <td>619</td>\n",
       "      <td>Ярославль</td>\n",
       "      <td>Ж</td>\n",
       "      <td>42</td>\n",
       "      <td>2</td>\n",
       "      <td>NaN</td>\n",
       "      <td>1</td>\n",
       "      <td>1</td>\n",
       "      <td>1</td>\n",
       "      <td>101348.88</td>\n",
       "      <td>1</td>\n",
       "      <td>middle</td>\n",
       "      <td>B</td>\n",
       "    </tr>\n",
       "    <tr>\n",
       "      <th>2</th>\n",
       "      <td>15662040</td>\n",
       "      <td>502</td>\n",
       "      <td>Ярославль</td>\n",
       "      <td>Ж</td>\n",
       "      <td>42</td>\n",
       "      <td>8</td>\n",
       "      <td>159660.80</td>\n",
       "      <td>3</td>\n",
       "      <td>1</td>\n",
       "      <td>0</td>\n",
       "      <td>113931.57</td>\n",
       "      <td>1</td>\n",
       "      <td>middle</td>\n",
       "      <td>B</td>\n",
       "    </tr>\n",
       "    <tr>\n",
       "      <th>5</th>\n",
       "      <td>15616748</td>\n",
       "      <td>645</td>\n",
       "      <td>Рыбинск</td>\n",
       "      <td>М</td>\n",
       "      <td>44</td>\n",
       "      <td>8</td>\n",
       "      <td>113755.78</td>\n",
       "      <td>2</td>\n",
       "      <td>1</td>\n",
       "      <td>0</td>\n",
       "      <td>149756.71</td>\n",
       "      <td>1</td>\n",
       "      <td>middle</td>\n",
       "      <td>B</td>\n",
       "    </tr>\n",
       "    <tr>\n",
       "      <th>7</th>\n",
       "      <td>15698884</td>\n",
       "      <td>376</td>\n",
       "      <td>Ростов Великий</td>\n",
       "      <td>Ж</td>\n",
       "      <td>29</td>\n",
       "      <td>4</td>\n",
       "      <td>115046.74</td>\n",
       "      <td>4</td>\n",
       "      <td>1</td>\n",
       "      <td>0</td>\n",
       "      <td>119346.88</td>\n",
       "      <td>1</td>\n",
       "      <td>middle</td>\n",
       "      <td>B</td>\n",
       "    </tr>\n",
       "    <tr>\n",
       "      <th>16</th>\n",
       "      <td>15780188</td>\n",
       "      <td>653</td>\n",
       "      <td>Ростов Великий</td>\n",
       "      <td>М</td>\n",
       "      <td>58</td>\n",
       "      <td>1</td>\n",
       "      <td>132602.88</td>\n",
       "      <td>1</td>\n",
       "      <td>1</td>\n",
       "      <td>0</td>\n",
       "      <td>5097.67</td>\n",
       "      <td>1</td>\n",
       "      <td>senior</td>\n",
       "      <td>E</td>\n",
       "    </tr>\n",
       "    <tr>\n",
       "      <th>...</th>\n",
       "      <td>...</td>\n",
       "      <td>...</td>\n",
       "      <td>...</td>\n",
       "      <td>...</td>\n",
       "      <td>...</td>\n",
       "      <td>...</td>\n",
       "      <td>...</td>\n",
       "      <td>...</td>\n",
       "      <td>...</td>\n",
       "      <td>...</td>\n",
       "      <td>...</td>\n",
       "      <td>...</td>\n",
       "      <td>...</td>\n",
       "      <td>...</td>\n",
       "    </tr>\n",
       "    <tr>\n",
       "      <th>9981</th>\n",
       "      <td>15715490</td>\n",
       "      <td>498</td>\n",
       "      <td>Ростов Великий</td>\n",
       "      <td>М</td>\n",
       "      <td>42</td>\n",
       "      <td>3</td>\n",
       "      <td>152039.70</td>\n",
       "      <td>1</td>\n",
       "      <td>1</td>\n",
       "      <td>1</td>\n",
       "      <td>53445.17</td>\n",
       "      <td>1</td>\n",
       "      <td>middle</td>\n",
       "      <td>C</td>\n",
       "    </tr>\n",
       "    <tr>\n",
       "      <th>9982</th>\n",
       "      <td>15810899</td>\n",
       "      <td>655</td>\n",
       "      <td>Ростов Великий</td>\n",
       "      <td>Ж</td>\n",
       "      <td>46</td>\n",
       "      <td>7</td>\n",
       "      <td>137145.12</td>\n",
       "      <td>1</td>\n",
       "      <td>1</td>\n",
       "      <td>0</td>\n",
       "      <td>115146.40</td>\n",
       "      <td>1</td>\n",
       "      <td>middle</td>\n",
       "      <td>B</td>\n",
       "    </tr>\n",
       "    <tr>\n",
       "      <th>9991</th>\n",
       "      <td>15812695</td>\n",
       "      <td>597</td>\n",
       "      <td>Ярославль</td>\n",
       "      <td>Ж</td>\n",
       "      <td>53</td>\n",
       "      <td>4</td>\n",
       "      <td>88381.21</td>\n",
       "      <td>1</td>\n",
       "      <td>1</td>\n",
       "      <td>0</td>\n",
       "      <td>69384.71</td>\n",
       "      <td>1</td>\n",
       "      <td>senior</td>\n",
       "      <td>C</td>\n",
       "    </tr>\n",
       "    <tr>\n",
       "      <th>9997</th>\n",
       "      <td>15627268</td>\n",
       "      <td>709</td>\n",
       "      <td>Ярославль</td>\n",
       "      <td>Ж</td>\n",
       "      <td>36</td>\n",
       "      <td>7</td>\n",
       "      <td>NaN</td>\n",
       "      <td>1</td>\n",
       "      <td>0</td>\n",
       "      <td>1</td>\n",
       "      <td>42085.58</td>\n",
       "      <td>1</td>\n",
       "      <td>middle</td>\n",
       "      <td>D</td>\n",
       "    </tr>\n",
       "    <tr>\n",
       "      <th>9998</th>\n",
       "      <td>15725091</td>\n",
       "      <td>772</td>\n",
       "      <td>Ростов Великий</td>\n",
       "      <td>М</td>\n",
       "      <td>42</td>\n",
       "      <td>3</td>\n",
       "      <td>75075.31</td>\n",
       "      <td>2</td>\n",
       "      <td>1</td>\n",
       "      <td>0</td>\n",
       "      <td>92888.52</td>\n",
       "      <td>1</td>\n",
       "      <td>middle</td>\n",
       "      <td>C</td>\n",
       "    </tr>\n",
       "  </tbody>\n",
       "</table>\n",
       "<p>2037 rows × 14 columns</p>\n",
       "</div>"
      ],
      "text/plain": [
       "       user_id  score            city gender  age  objects    balance  \\\n",
       "0     15677338    619       Ярославль      Ж   42        2        NaN   \n",
       "2     15662040    502       Ярославль      Ж   42        8  159660.80   \n",
       "5     15616748    645         Рыбинск      М   44        8  113755.78   \n",
       "7     15698884    376  Ростов Великий      Ж   29        4  115046.74   \n",
       "16    15780188    653  Ростов Великий      М   58        1  132602.88   \n",
       "...        ...    ...             ...    ...  ...      ...        ...   \n",
       "9981  15715490    498  Ростов Великий      М   42        3  152039.70   \n",
       "9982  15810899    655  Ростов Великий      Ж   46        7  137145.12   \n",
       "9991  15812695    597       Ярославль      Ж   53        4   88381.21   \n",
       "9997  15627268    709       Ярославль      Ж   36        7        NaN   \n",
       "9998  15725091    772  Ростов Великий      М   42        3   75075.31   \n",
       "\n",
       "      products  credit_card  loyalty  estimated_salary  churn age_category  \\\n",
       "0            1            1        1         101348.88      1       middle   \n",
       "2            3            1        0         113931.57      1       middle   \n",
       "5            2            1        0         149756.71      1       middle   \n",
       "7            4            1        0         119346.88      1       middle   \n",
       "16           1            1        0           5097.67      1       senior   \n",
       "...        ...          ...      ...               ...    ...          ...   \n",
       "9981         1            1        1          53445.17      1       middle   \n",
       "9982         1            1        0         115146.40      1       middle   \n",
       "9991         1            1        0          69384.71      1       senior   \n",
       "9997         1            0        1          42085.58      1       middle   \n",
       "9998         2            1        0          92888.52      1       middle   \n",
       "\n",
       "     salary_category  \n",
       "0                  B  \n",
       "2                  B  \n",
       "5                  B  \n",
       "7                  B  \n",
       "16                 E  \n",
       "...              ...  \n",
       "9981               C  \n",
       "9982               B  \n",
       "9991               C  \n",
       "9997               D  \n",
       "9998               C  \n",
       "\n",
       "[2037 rows x 14 columns]"
      ]
     },
     "execution_count": 20,
     "metadata": {},
     "output_type": "execute_result"
    }
   ],
   "source": [
    "data_out = data.query('churn==1')\n",
    "data_out"
   ]
  },
  {
   "cell_type": "code",
   "execution_count": 21,
   "metadata": {},
   "outputs": [
    {
     "data": {
      "text/html": [
       "<div>\n",
       "<style scoped>\n",
       "    .dataframe tbody tr th:only-of-type {\n",
       "        vertical-align: middle;\n",
       "    }\n",
       "\n",
       "    .dataframe tbody tr th {\n",
       "        vertical-align: top;\n",
       "    }\n",
       "\n",
       "    .dataframe thead th {\n",
       "        text-align: right;\n",
       "    }\n",
       "</style>\n",
       "<table border=\"1\" class=\"dataframe\">\n",
       "  <thead>\n",
       "    <tr style=\"text-align: right;\">\n",
       "      <th></th>\n",
       "      <th>user_id</th>\n",
       "      <th>score</th>\n",
       "      <th>city</th>\n",
       "      <th>gender</th>\n",
       "      <th>age</th>\n",
       "      <th>objects</th>\n",
       "      <th>balance</th>\n",
       "      <th>products</th>\n",
       "      <th>credit_card</th>\n",
       "      <th>loyalty</th>\n",
       "      <th>estimated_salary</th>\n",
       "      <th>churn</th>\n",
       "      <th>age_category</th>\n",
       "      <th>salary_category</th>\n",
       "    </tr>\n",
       "  </thead>\n",
       "  <tbody>\n",
       "    <tr>\n",
       "      <th>1</th>\n",
       "      <td>15690047</td>\n",
       "      <td>608</td>\n",
       "      <td>Рыбинск</td>\n",
       "      <td>Ж</td>\n",
       "      <td>41</td>\n",
       "      <td>1</td>\n",
       "      <td>83807.86</td>\n",
       "      <td>1</td>\n",
       "      <td>0</td>\n",
       "      <td>1</td>\n",
       "      <td>112542.58</td>\n",
       "      <td>0</td>\n",
       "      <td>middle</td>\n",
       "      <td>B</td>\n",
       "    </tr>\n",
       "    <tr>\n",
       "      <th>3</th>\n",
       "      <td>15744090</td>\n",
       "      <td>699</td>\n",
       "      <td>Ярославль</td>\n",
       "      <td>Ж</td>\n",
       "      <td>39</td>\n",
       "      <td>1</td>\n",
       "      <td>NaN</td>\n",
       "      <td>2</td>\n",
       "      <td>0</td>\n",
       "      <td>0</td>\n",
       "      <td>93826.63</td>\n",
       "      <td>0</td>\n",
       "      <td>middle</td>\n",
       "      <td>C</td>\n",
       "    </tr>\n",
       "    <tr>\n",
       "      <th>4</th>\n",
       "      <td>15780624</td>\n",
       "      <td>850</td>\n",
       "      <td>Рыбинск</td>\n",
       "      <td>Ж</td>\n",
       "      <td>43</td>\n",
       "      <td>2</td>\n",
       "      <td>125510.82</td>\n",
       "      <td>1</td>\n",
       "      <td>1</td>\n",
       "      <td>1</td>\n",
       "      <td>79084.10</td>\n",
       "      <td>0</td>\n",
       "      <td>middle</td>\n",
       "      <td>C</td>\n",
       "    </tr>\n",
       "    <tr>\n",
       "      <th>6</th>\n",
       "      <td>15635267</td>\n",
       "      <td>822</td>\n",
       "      <td>Ярославль</td>\n",
       "      <td>М</td>\n",
       "      <td>50</td>\n",
       "      <td>7</td>\n",
       "      <td>NaN</td>\n",
       "      <td>2</td>\n",
       "      <td>1</td>\n",
       "      <td>1</td>\n",
       "      <td>10062.80</td>\n",
       "      <td>0</td>\n",
       "      <td>middle</td>\n",
       "      <td>E</td>\n",
       "    </tr>\n",
       "    <tr>\n",
       "      <th>8</th>\n",
       "      <td>15835101</td>\n",
       "      <td>501</td>\n",
       "      <td>Ярославль</td>\n",
       "      <td>М</td>\n",
       "      <td>44</td>\n",
       "      <td>4</td>\n",
       "      <td>142051.07</td>\n",
       "      <td>2</td>\n",
       "      <td>0</td>\n",
       "      <td>1</td>\n",
       "      <td>74940.50</td>\n",
       "      <td>0</td>\n",
       "      <td>middle</td>\n",
       "      <td>C</td>\n",
       "    </tr>\n",
       "    <tr>\n",
       "      <th>...</th>\n",
       "      <td>...</td>\n",
       "      <td>...</td>\n",
       "      <td>...</td>\n",
       "      <td>...</td>\n",
       "      <td>...</td>\n",
       "      <td>...</td>\n",
       "      <td>...</td>\n",
       "      <td>...</td>\n",
       "      <td>...</td>\n",
       "      <td>...</td>\n",
       "      <td>...</td>\n",
       "      <td>...</td>\n",
       "      <td>...</td>\n",
       "      <td>...</td>\n",
       "    </tr>\n",
       "    <tr>\n",
       "      <th>9993</th>\n",
       "      <td>15612002</td>\n",
       "      <td>644</td>\n",
       "      <td>Ярославль</td>\n",
       "      <td>М</td>\n",
       "      <td>28</td>\n",
       "      <td>7</td>\n",
       "      <td>155060.41</td>\n",
       "      <td>1</td>\n",
       "      <td>1</td>\n",
       "      <td>0</td>\n",
       "      <td>29179.52</td>\n",
       "      <td>0</td>\n",
       "      <td>middle</td>\n",
       "      <td>E</td>\n",
       "    </tr>\n",
       "    <tr>\n",
       "      <th>9994</th>\n",
       "      <td>15762030</td>\n",
       "      <td>800</td>\n",
       "      <td>Ярославль</td>\n",
       "      <td>Ж</td>\n",
       "      <td>29</td>\n",
       "      <td>2</td>\n",
       "      <td>NaN</td>\n",
       "      <td>2</td>\n",
       "      <td>0</td>\n",
       "      <td>0</td>\n",
       "      <td>167773.55</td>\n",
       "      <td>0</td>\n",
       "      <td>middle</td>\n",
       "      <td>A</td>\n",
       "    </tr>\n",
       "    <tr>\n",
       "      <th>9995</th>\n",
       "      <td>15648965</td>\n",
       "      <td>771</td>\n",
       "      <td>Ярославль</td>\n",
       "      <td>М</td>\n",
       "      <td>39</td>\n",
       "      <td>5</td>\n",
       "      <td>NaN</td>\n",
       "      <td>2</td>\n",
       "      <td>1</td>\n",
       "      <td>0</td>\n",
       "      <td>96270.64</td>\n",
       "      <td>0</td>\n",
       "      <td>middle</td>\n",
       "      <td>C</td>\n",
       "    </tr>\n",
       "    <tr>\n",
       "      <th>9996</th>\n",
       "      <td>15612628</td>\n",
       "      <td>516</td>\n",
       "      <td>Ярославль</td>\n",
       "      <td>М</td>\n",
       "      <td>35</td>\n",
       "      <td>10</td>\n",
       "      <td>57369.61</td>\n",
       "      <td>1</td>\n",
       "      <td>1</td>\n",
       "      <td>1</td>\n",
       "      <td>101699.77</td>\n",
       "      <td>0</td>\n",
       "      <td>middle</td>\n",
       "      <td>B</td>\n",
       "    </tr>\n",
       "    <tr>\n",
       "      <th>9999</th>\n",
       "      <td>15671055</td>\n",
       "      <td>792</td>\n",
       "      <td>Ярославль</td>\n",
       "      <td>Ж</td>\n",
       "      <td>28</td>\n",
       "      <td>4</td>\n",
       "      <td>130142.79</td>\n",
       "      <td>1</td>\n",
       "      <td>1</td>\n",
       "      <td>0</td>\n",
       "      <td>38190.78</td>\n",
       "      <td>0</td>\n",
       "      <td>middle</td>\n",
       "      <td>D</td>\n",
       "    </tr>\n",
       "  </tbody>\n",
       "</table>\n",
       "<p>7963 rows × 14 columns</p>\n",
       "</div>"
      ],
      "text/plain": [
       "       user_id  score       city gender  age  objects    balance  products  \\\n",
       "1     15690047    608    Рыбинск      Ж   41        1   83807.86         1   \n",
       "3     15744090    699  Ярославль      Ж   39        1        NaN         2   \n",
       "4     15780624    850    Рыбинск      Ж   43        2  125510.82         1   \n",
       "6     15635267    822  Ярославль      М   50        7        NaN         2   \n",
       "8     15835101    501  Ярославль      М   44        4  142051.07         2   \n",
       "...        ...    ...        ...    ...  ...      ...        ...       ...   \n",
       "9993  15612002    644  Ярославль      М   28        7  155060.41         1   \n",
       "9994  15762030    800  Ярославль      Ж   29        2        NaN         2   \n",
       "9995  15648965    771  Ярославль      М   39        5        NaN         2   \n",
       "9996  15612628    516  Ярославль      М   35       10   57369.61         1   \n",
       "9999  15671055    792  Ярославль      Ж   28        4  130142.79         1   \n",
       "\n",
       "      credit_card  loyalty  estimated_salary  churn age_category  \\\n",
       "1               0        1         112542.58      0       middle   \n",
       "3               0        0          93826.63      0       middle   \n",
       "4               1        1          79084.10      0       middle   \n",
       "6               1        1          10062.80      0       middle   \n",
       "8               0        1          74940.50      0       middle   \n",
       "...           ...      ...               ...    ...          ...   \n",
       "9993            1        0          29179.52      0       middle   \n",
       "9994            0        0         167773.55      0       middle   \n",
       "9995            1        0          96270.64      0       middle   \n",
       "9996            1        1         101699.77      0       middle   \n",
       "9999            1        0          38190.78      0       middle   \n",
       "\n",
       "     salary_category  \n",
       "1                  B  \n",
       "3                  C  \n",
       "4                  C  \n",
       "6                  E  \n",
       "8                  C  \n",
       "...              ...  \n",
       "9993               E  \n",
       "9994               A  \n",
       "9995               C  \n",
       "9996               B  \n",
       "9999               D  \n",
       "\n",
       "[7963 rows x 14 columns]"
      ]
     },
     "execution_count": 21,
     "metadata": {},
     "output_type": "execute_result"
    }
   ],
   "source": [
    "data_rest = data.query('churn==0')\n",
    "data_rest"
   ]
  },
  {
   "cell_type": "code",
   "execution_count": 22,
   "metadata": {},
   "outputs": [],
   "source": [
    "#Фунцкия для добавления чисел на график в центре столбика\n",
    "def addlabels_t(x,y):\n",
    "    for i in range(len(x)):\n",
    "        plt.text(i, y[i], y[i], ha = 'center')"
   ]
  },
  {
   "cell_type": "code",
   "execution_count": 23,
   "metadata": {
    "scrolled": true
   },
   "outputs": [
    {
     "data": {
      "image/png": "[encoded data removed]",
      "text/plain": [
       "<Figure size 1080x504 with 1 Axes>"
      ]
     },
     "metadata": {
      "needs_background": "light"
     },
     "output_type": "display_data"
    },
    {
     "data": {
      "image/png": "[encoded data removed]",
      "text/plain": [
       "<Figure size 1080x504 with 1 Axes>"
      ]
     },
     "metadata": {
      "needs_background": "light"
     },
     "output_type": "display_data"
    },
    {
     "data": {
      "image/png": "[encoded data removed]",
      "text/plain": [
       "<Figure size 1080x504 with 1 Axes>"
      ]
     },
     "metadata": {
      "needs_background": "light"
     },
     "output_type": "display_data"
    },
    {
     "data": {
      "image/png": "[encoded data removed]",
      "text/plain": [
       "<Figure size 1080x504 with 1 Axes>"
      ]
     },
     "metadata": {
      "needs_background": "light"
     },
     "output_type": "display_data"
    },
    {
     "data": {
      "image/png": "[encoded data removed]",
      "text/plain": [
       "<Figure size 1080x504 with 1 Axes>"
      ]
     },
     "metadata": {
      "needs_background": "light"
     },
     "output_type": "display_data"
    },
    {
     "data": {
      "image/png": "[encoded data removed]",
      "text/plain": [
       "<Figure size 1080x504 with 1 Axes>"
      ]
     },
     "metadata": {
      "needs_background": "light"
     },
     "output_type": "display_data"
    },
    {
     "data": {
      "image/png": "[encoded data removed]",
      "text/plain": [
       "<Figure size 1080x504 with 1 Axes>"
      ]
     },
     "metadata": {
      "needs_background": "light"
     },
     "output_type": "display_data"
    }
   ],
   "source": [
    "#Построим столбчатые диаграммы для обоих типов клиентов\n",
    "data_out_to_plt = data_out[['gender', 'city', 'objects', 'credit_card', 'loyalty', 'age_category', 'salary_category']]\n",
    "data_rest_to_plt = data_rest[['gender', 'city', 'objects', 'credit_card', 'loyalty', 'age_category', 'salary_category']]\n",
    "for k in data_out_to_plt.columns:\n",
    "    plt.figure(figsize=(15, 7))\n",
    "    \n",
    "    table_out = data_out.pivot_table(index=k,values='user_id',aggfunc='count').reset_index()\n",
    "    table_rest = data_rest.pivot_table(index=k,values='user_id',aggfunc='count').reset_index()\n",
    "    \n",
    "    plt.bar(x=table_rest[k], height=table_rest['user_id'], label = 'Оставшиеся')\n",
    "    plt.bar(x=table_out[k], height=table_out['user_id'], label = 'Ушедшие') \n",
    "    addlabels_t(table_out[k], table_out['user_id'])\n",
    "    addlabels_t(table_rest[k], table_rest['user_id'])\n",
    "\n",
    "    \n",
    "    plt.title(k)\n",
    "    plt.legend()\n",
    "    plt.xlabel(' ')\n",
    "    plt.ylabel('count')\n",
    "    plt.show()"
   ]
  },
  {
   "cell_type": "markdown",
   "metadata": {},
   "source": [
    "Посчитаем ещё проценты для удобства анализа:"
   ]
  },
  {
   "cell_type": "code",
   "execution_count": 24,
   "metadata": {},
   "outputs": [],
   "source": [
    "#Фунцкия для добавления чисел на график в центре столбика\n",
    "def addlabels_c(x,y):\n",
    "    for i in range(len(x)):\n",
    "        plt.text(i, y[i]//2, y[i], ha = 'center')"
   ]
  },
  {
   "cell_type": "code",
   "execution_count": 25,
   "metadata": {
    "scrolled": true
   },
   "outputs": [
    {
     "data": {
      "image/png": "[encoded data removed]",
      "text/plain": [
       "<Figure size 432x288 with 1 Axes>"
      ]
     },
     "metadata": {
      "needs_background": "light"
     },
     "output_type": "display_data"
    },
    {
     "data": {
      "image/png": "[encoded data removed]",
      "text/plain": [
       "<Figure size 432x288 with 1 Axes>"
      ]
     },
     "metadata": {
      "needs_background": "light"
     },
     "output_type": "display_data"
    },
    {
     "data": {
      "image/png": "[encoded data removed]",
      "text/plain": [
       "<Figure size 432x288 with 1 Axes>"
      ]
     },
     "metadata": {
      "needs_background": "light"
     },
     "output_type": "display_data"
    },
    {
     "data": {
      "image/png": "[encoded data removed]",
      "text/plain": [
       "<Figure size 432x288 with 1 Axes>"
      ]
     },
     "metadata": {
      "needs_background": "light"
     },
     "output_type": "display_data"
    },
    {
     "data": {
      "image/png": "[encoded data removed]",
      "text/plain": [
       "<Figure size 432x288 with 1 Axes>"
      ]
     },
     "metadata": {
      "needs_background": "light"
     },
     "output_type": "display_data"
    },
    {
     "data": {
      "image/png": "[encoded data removed]",
      "text/plain": [
       "<Figure size 432x288 with 1 Axes>"
      ]
     },
     "metadata": {
      "needs_background": "light"
     },
     "output_type": "display_data"
    },
    {
     "data": {
      "image/png": "[encoded data removed]",
      "text/plain": [
       "<Figure size 432x288 with 1 Axes>"
      ]
     },
     "metadata": {
      "needs_background": "light"
     },
     "output_type": "display_data"
    }
   ],
   "source": [
    "for k in data_out_to_plt.columns:\n",
    "    \n",
    "    \n",
    "    table_out = data_out.pivot_table(index=k,values='user_id',aggfunc='count').reset_index()\n",
    "    table_rest = data_rest.pivot_table(index=k,values='user_id',aggfunc='count').reset_index()\n",
    "    full_table= table_out.merge(table_rest, on=k, how='outer')\n",
    "    #Рассчитываем отношение ушедших к сумме ушедших и оставшихся\n",
    "    full_table['percent']=round(full_table['user_id_x']*100/(full_table['user_id_x']+full_table['user_id_y']),1)\n",
    "    plt.bar(x=full_table[k], height=full_table['percent'], color='cyan')\n",
    "    addlabels_c(full_table[k], full_table['percent'])\n",
    "\n",
    "    \n",
    "    plt.title(k)\n",
    "    plt.xlabel(' ')\n",
    "    plt.ylabel('count')\n",
    "    plt.show()\n",
    "    "
   ]
  },
  {
   "cell_type": "code",
   "execution_count": 26,
   "metadata": {},
   "outputs": [
    {
     "data": {
      "image/png": "[encoded data removed]",
      "text/plain": [
       "<Figure size 432x288 with 1 Axes>"
      ]
     },
     "metadata": {
      "needs_background": "light"
     },
     "output_type": "display_data"
    }
   ],
   "source": [
    "# С product  всё почему-то пошло не так - его посчитаю отдельно.\n",
    "table_out = data_out.pivot_table(index='products',values='user_id',aggfunc='count').reset_index()\n",
    "table_rest = data_rest.pivot_table(index='products',values='user_id',aggfunc='count').reset_index()\n",
    "full_table= table_out.merge(table_rest, on='products', how='outer')\n",
    "#Рассчитываем отношение ушедших к сумме ушедших и оставшихся\n",
    "full_table\n",
    "#А, вот почему всё пошло не так. У них нет оставшихся.\n",
    "full_table=full_table.fillna(0)\n",
    "full_table['percent']=round(full_table['user_id_x']*100/(full_table['user_id_x']+full_table['user_id_y']),1)\n",
    "plt.bar(x=full_table['products'], height=full_table['percent'], color='cyan')\n",
    "addlabels_c(full_table['products'], full_table['percent'])\n",
    "\n",
    "    \n",
    "plt.title('products')\n",
    "plt.xlabel(' ')\n",
    "plt.ylabel('count')\n",
    "plt.show()\n",
    "#А числа всё равно съезжают..."
   ]
  },
  {
   "cell_type": "markdown",
   "metadata": {},
   "source": [
    "#### Вывод\n",
    "Можно видеть, что  число ушедших клиентов почти не зависит количества объектов, находящихся во владении клиента, его зарплаты и наличия кредитной карточки. Чуть заметнее различия для активности (ушло 26.9% неактивных клиентов и 14.3% - активных), пола (ушло 25.1% женщин и 16.5% мужчин) и географии (В Ростове Великом ушло 32,4% клиентов, в Рыбинске - 16.7, в Ярославле - 16.2%). Ярче всего проявляется различия в возрасте (ушло 44.6% клиентов старше 45 лет, 17.6% - от 25 до  45 лет, и всего 7.5% - от 18 до 25 лет) и в количестве используемых продуктов (ушли все клиенты, использующие 4 продукта, 82.7%- использующих 3 продукта, 7.6%  - 2 продукта и 27.7% - 1 продукт)"
   ]
  },
  {
   "cell_type": "markdown",
   "metadata": {},
   "source": [
    "## Портреты\n",
    "### Портрет клиента, склонного уходить из банка\n",
    "- Женщины\n",
    "- Старше 45\n",
    "- Из Ростова Великого\n",
    "- Использовал(а) больше 2 продуктов\n",
    "- Не проявлял(а) активность в последнее время\n",
    "### Портрет клиента, склонного уходить из банка\n",
    "- Мужчины\n",
    "- От 18 до 25 лет\n",
    "- Из Ярославля\n",
    "- Использовал(а) два продукта\n",
    "- Последнее время проявлял(а) активность"
   ]
  },
  {
   "cell_type": "markdown",
   "metadata": {},
   "source": [
    "##  Формулировка гипотез\n",
    "1.Гипотеза равенства дохода между теми клиентами, которые ушли и теми, которые остались.\n",
    "- H0: Между доходом клиентов, ушедших из банка и клиентов, оставшихся в нём, нет  статистически значимой разницы\n",
    "- H1: Между доходом клиентов, ушедших из банка и клиентов, оставшихся в нём, есть статистически значимая разница.\n",
    "2.Гипотеза равенства баллов кредитного скоринга между теми клиентами, которые ушли и теми, которые остались.\n",
    "- H0: Между кол-вом баллов кредитного скоринга клиентов, ушедших из банка и клиентов, оставшихся в нём, нет  статистически значимой разницы\n",
    "- H1: Между кол-вом баллов кредитного скоринга клиентов, ушедших из банка и клиентов, оставшихся в нём, есть статистически значимая разница."
   ]
  },
  {
   "cell_type": "code",
   "execution_count": 27,
   "metadata": {},
   "outputs": [],
   "source": [
    "# Функция для проведения теста Манна-Уитни\n",
    "def mw_test(df1, df2, alpha):\n",
    "    results =st.mannwhitneyu(df1, df2) # ваш код\n",
    "    print('p-значение: ', results.pvalue)\n",
    "    if results.pvalue < alpha:\n",
    "        print('Отвергаем нулевую гипотезу: разница статистически значима')\n",
    "    else:\n",
    "        print(\n",
    "        'Не получилось отвергнуть нулевую гипотезу, вывод о различии сделать нельзя'\n",
    "    ) "
   ]
  },
  {
   "cell_type": "code",
   "execution_count": 28,
   "metadata": {
    "scrolled": true
   },
   "outputs": [
    {
     "data": {
      "image/png": "[encoded data removed]",
      "text/plain": [
       "<Figure size 432x288 with 1 Axes>"
      ]
     },
     "metadata": {
      "needs_background": "light"
     },
     "output_type": "display_data"
    },
    {
     "data": {
      "image/png": "[encoded data removed]",
      "text/plain": [
       "<Figure size 432x288 with 1 Axes>"
      ]
     },
     "metadata": {
      "needs_background": "light"
     },
     "output_type": "display_data"
    },
    {
     "name": "stdout",
     "output_type": "stream",
     "text": [
      "p-значение:  0.22705150930153783\n",
      "Не получилось отвергнуть нулевую гипотезу, вывод о различии сделать нельзя\n"
     ]
    }
   ],
   "source": [
    "# Проверим первую гипотезу. Изучим распределения.\n",
    "data_out['estimated_salary'].hist(color='cyan')\n",
    "plt.title('Распределение по зарплате, ушедшие клиенты')\n",
    "plt.xlabel('Зарплата')\n",
    "plt.ylabel('Кол-во клиентов')\n",
    "plt.show()\n",
    "\n",
    "data_rest['estimated_salary'].hist(color='cyan')\n",
    "plt.title('Распределение по зарплате, оставшиеся клиенты')\n",
    "plt.xlabel('Зарплата')\n",
    "plt.ylabel('Кол-во клиентов')\n",
    "plt.show()\n",
    "mw_test(data_out['estimated_salary'], data_rest['estimated_salary'], 0.05)"
   ]
  },
  {
   "cell_type": "code",
   "execution_count": 29,
   "metadata": {},
   "outputs": [
    {
     "name": "stdout",
     "output_type": "stream",
     "text": [
      "p-значение:  0.22705150930153783\n",
      "Не получилось отвергнуть нулевую гипотезу, вывод о различии сделать нельзя\n"
     ]
    }
   ],
   "source": [
    "## Формы распределения похожи - можем использовать тест Манна-Уитни.\n",
    "mw_test(data_out['estimated_salary'], data_rest['estimated_salary'], 0.05)"
   ]
  },
  {
   "cell_type": "code",
   "execution_count": 30,
   "metadata": {
    "scrolled": true
   },
   "outputs": [
    {
     "data": {
      "image/png": "[encoded data removed]",
      "text/plain": [
       "<Figure size 432x288 with 1 Axes>"
      ]
     },
     "metadata": {
      "needs_background": "light"
     },
     "output_type": "display_data"
    },
    {
     "data": {
      "image/png": "[encoded data removed]",
      "text/plain": [
       "<Figure size 432x288 with 1 Axes>"
      ]
     },
     "metadata": {
      "needs_background": "light"
     },
     "output_type": "display_data"
    },
    {
     "name": "stdout",
     "output_type": "stream",
     "text": [
      "p-значение:  0.01986866117272834\n",
      "Отвергаем нулевую гипотезу: разница статистически значима\n"
     ]
    }
   ],
   "source": [
    "# Проверим  вторую гипотезу. \n",
    "data_out['score'].hist()\n",
    "plt.title('Распределение по баллам кредитного скоринга, ушедшие клиенты')\n",
    "plt.xlabel('Баллы кредитного скоринга')\n",
    "plt.ylabel('Кол-во клиентов')\n",
    "plt.show()\n",
    "\n",
    "data_rest['score'].hist()\n",
    "plt.title('Распределение по баллам кредитного скоринга, оставшиеся клиенты')\n",
    "plt.xlabel('Баллы кредитного скоринга')\n",
    "plt.ylabel('Кол-во клиентов')\n",
    "plt.show()\n",
    "## Формы распределения похожи - можем использовать тест Манна-Уитни.\n",
    "mw_test(data_out['score'], data_rest['score'], 0.05)"
   ]
  },
  {
   "cell_type": "markdown",
   "metadata": {},
   "source": [
    "### Вывод:\n",
    "Итак,  между доходом клиентов, ушедших из банка и клиентов, оставшихся в нём, нет статистически значимой разницы, а между  их кол-вом баллов кредитного скоринга статистически значимая разница есть."
   ]
  },
  {
   "cell_type": "markdown",
   "metadata": {},
   "source": [
    "## Выводы и рекомендации\n",
    "\n",
    " В результате выполнения работы был изучен и проанализирован массив данных от Метанпромбанка об их клиентах.\n",
    "### В результате предобработки данных выявлено:\n",
    "- Столбцы переименованы в соответствии со стилем snake\n",
    "- Выбросов и аномальных данных не обнаружено\n",
    "- Дубликатов не обнаружено\n",
    "- Обнаружены и обработаны пропуски в столбце Balance. Пропуск: \n",
    "\n",
    "  * Чаще всего встречается у тех, кто пользуется 2 продуктами (примерно в 2.5 раза больше, чем у пользующихся 1 продуктом, и больше чем в 10  раз, чем у пользующихся тремя)\n",
    "  * Примерно в 2.5 раза чаще у клиентов с кредитной карточкой, чем без. \n",
    "  * Чаще всего у клиентов около 30 лет\n",
    "  * Оставшихся клиентов с пропуском в балансе в 6 раз больше, чем ушедших.\n",
    "  * Значимых различий в возрасте, поле,  активности и количеству объектов в собственности клиентов не обнаружено\n",
    "  * В Ярославле встречается в 2 раза чаще, чем в Рыбинске. Интересно, что в Ростове при этом пропусков нет вообще.\n",
    "  \n",
    "  Предположительно пропуск в cтолбце balance означает нулевой дебетовый счёт. Это может быть связано, например, с тем, что клиент пользуется только кредитной картой/выплачивает банку кредит или ипотеку. Принято решение оставить пропуски как есть, т.к точную причину их появления установить не удаётся. Имеет смысл связаться с заказчиком и уточнить этот момент.\n",
    "  \n",
    "  \n",
    "- Проведена дополнительная категоризация. Клиентам от 18 (минимальный возраст) до 25 присвоена категория junior, от 26 до 45 - middle, более 45 - senior.\n",
    "\n",
    "### В результате исследовательского анализа данных выявлено:\n",
    "Число ушедших клиентов почти не зависит от:  \n",
    "- Количества объектов, находящихся во владении клиента, \n",
    "- Зарплаты  клиента\n",
    "- Наличия кредитной карточки у клиента\n",
    "\n",
    "Чуть заметнее различия для:\n",
    "- Активности (ушло 26.9% неактивных клиентов и 14.3% - активных) \n",
    "- Пола (ушло 25.1% женщин и 16.5% мужчин)\n",
    "- Географии (В Ростове Великом ушло 32,4% клиентов, в Рыбинске - 16.7, в Ярославле - 16.2%). \n",
    "\n",
    "Ярче всего проявляется различия в:\n",
    "- Возрасте (ушло 44.6% клиентов старше 45 лет, 17.6% - от 25 до  45 лет, и всего 7.5% - от 18 до 25 лет)\n",
    "- Количестве используемых продуктов (ушли все клиенты, использующие 4 продукта, 82.7%- использующих 3 продукта, 7.6%  - 2 продукта и 27.7% - 1 продукт)\n",
    "\n",
    "### В результате статистического анализа данных:\n",
    "Проверены гипотезы о равенстве дохода между ушедшими и оставшимися клиентами и о равенстве баллов кредитного скоринга между ними. \n",
    "\n",
    "Выявлено, что между доходом клиентов, ушедших из банка и клиентов, оставшихся в нём, нет статистически значимой разницы, а между  их кол-вом баллов кредитного скоринга статистически значимая разница есть.\n",
    "\n",
    "### Портреты:\n",
    "Портрет клиента, склонного уходить из банка\n",
    "- Женщины\n",
    "- Старше 45\n",
    "- Из Ростова Великого\n",
    "- Использовал(а) больше 2 продуктов\n",
    "- Не проявлял(а) активность в последнее время\n",
    "\n",
    " Портрет клиента, склонного уходить из банка\n",
    "- Мужчины\n",
    "- От 18 до 25 лет\n",
    "- Из Ярославля\n",
    "- Использовал(а) два продукта\n",
    "- Последнее время проявлял(а) активность\n",
    "\n",
    "### Рекомендации:\n",
    " 1. Проверить данные для столбца balance и уточнить причину пропусков.\n",
    " 2. Разработать продукт, который мог бы заинтересовать уходящих клиентов, дополнительно прорекламировать его. Например, льготные условия вкладов для пенсионеров, обслуживание пенсионного счёта.\n",
    " 3. Изучить, какими продуктами пользовались клиенты, у которых было более двух продуктов. Возможно, в них есть проблема, и это отпугнуло часть клиентов."
   ]
  }
 ],
 "metadata": {
  "ExecuteTimeLog": [
   {
    "duration": 1403,
    "start_time": "2022-12-28T15:30:02.207Z"
   },
   {
    "duration": 146,
    "start_time": "2022-12-28T15:30:04.674Z"
   },
   {
    "duration": 57,
    "start_time": "2022-12-28T15:30:11.880Z"
   },
   {
    "duration": 15,
    "start_time": "2022-12-28T15:30:20.997Z"
   },
   {
    "duration": 3,
    "start_time": "2022-12-28T15:36:45.334Z"
   },
   {
    "duration": 3,
    "start_time": "2022-12-28T15:37:00.012Z"
   },
   {
    "duration": 20,
    "start_time": "2022-12-28T15:41:17.280Z"
   },
   {
    "duration": 15,
    "start_time": "2022-12-28T15:41:48.935Z"
   },
   {
    "duration": 155,
    "start_time": "2022-12-28T15:53:31.549Z"
   },
   {
    "duration": 29,
    "start_time": "2022-12-28T15:53:38.099Z"
   },
   {
    "duration": 29,
    "start_time": "2022-12-28T15:58:25.292Z"
   },
   {
    "duration": 21,
    "start_time": "2022-12-28T15:58:41.292Z"
   },
   {
    "duration": 854,
    "start_time": "2022-12-28T15:59:35.509Z"
   },
   {
    "duration": 1482,
    "start_time": "2022-12-28T16:02:52.203Z"
   },
   {
    "duration": 1393,
    "start_time": "2022-12-28T16:03:04.586Z"
   },
   {
    "duration": 5,
    "start_time": "2022-12-28T16:04:08.793Z"
   },
   {
    "duration": 5,
    "start_time": "2022-12-28T16:05:43.365Z"
   },
   {
    "duration": 6,
    "start_time": "2022-12-28T16:05:52.227Z"
   },
   {
    "duration": 1515,
    "start_time": "2022-12-28T16:07:01.227Z"
   },
   {
    "duration": 1553,
    "start_time": "2022-12-28T16:07:10.246Z"
   },
   {
    "duration": 10,
    "start_time": "2022-12-28T16:21:37.804Z"
   },
   {
    "duration": 14,
    "start_time": "2022-12-28T16:21:43.016Z"
   },
   {
    "duration": 16,
    "start_time": "2022-12-28T16:23:10.593Z"
   },
   {
    "duration": 13,
    "start_time": "2022-12-28T16:26:15.512Z"
   },
   {
    "duration": 6,
    "start_time": "2022-12-28T16:26:46.541Z"
   },
   {
    "duration": 9,
    "start_time": "2022-12-28T16:35:53.769Z"
   },
   {
    "duration": 11,
    "start_time": "2022-12-28T16:46:01.604Z"
   },
   {
    "duration": 5,
    "start_time": "2022-12-28T16:46:18.112Z"
   },
   {
    "duration": 18,
    "start_time": "2022-12-28T17:00:11.314Z"
   },
   {
    "duration": 8,
    "start_time": "2022-12-28T17:17:34.579Z"
   },
   {
    "duration": 91,
    "start_time": "2022-12-28T17:18:45.617Z"
   },
   {
    "duration": 81,
    "start_time": "2022-12-28T17:19:29.011Z"
   },
   {
    "duration": 77,
    "start_time": "2022-12-28T17:19:35.702Z"
   },
   {
    "duration": 83,
    "start_time": "2022-12-28T17:20:05.433Z"
   },
   {
    "duration": 87,
    "start_time": "2022-12-28T17:20:11.013Z"
   },
   {
    "duration": 2,
    "start_time": "2022-12-28T18:30:03.735Z"
   },
   {
    "duration": 3,
    "start_time": "2022-12-28T18:40:31.280Z"
   },
   {
    "duration": 77,
    "start_time": "2022-12-28T19:16:05.344Z"
   },
   {
    "duration": 15,
    "start_time": "2022-12-28T19:16:11.186Z"
   },
   {
    "duration": 14,
    "start_time": "2022-12-28T19:16:29.295Z"
   },
   {
    "duration": 20,
    "start_time": "2022-12-28T19:19:14.436Z"
   },
   {
    "duration": 14,
    "start_time": "2022-12-28T19:19:20.077Z"
   },
   {
    "duration": 14,
    "start_time": "2022-12-28T19:19:53.306Z"
   },
   {
    "duration": 4,
    "start_time": "2022-12-28T19:20:01.236Z"
   },
   {
    "duration": 190,
    "start_time": "2022-12-28T19:20:01.243Z"
   },
   {
    "duration": 15,
    "start_time": "2022-12-28T19:20:01.435Z"
   },
   {
    "duration": 43,
    "start_time": "2022-12-28T19:20:01.452Z"
   },
   {
    "duration": 1702,
    "start_time": "2022-12-28T19:20:01.498Z"
   },
   {
    "duration": 6,
    "start_time": "2022-12-28T19:20:03.202Z"
   },
   {
    "duration": 52,
    "start_time": "2022-12-28T19:20:03.210Z"
   },
   {
    "duration": 17,
    "start_time": "2022-12-28T19:20:03.267Z"
   },
   {
    "duration": 21,
    "start_time": "2022-12-28T19:20:03.286Z"
   },
   {
    "duration": 1545,
    "start_time": "2022-12-28T19:20:03.309Z"
   },
   {
    "duration": 10,
    "start_time": "2022-12-28T19:20:04.864Z"
   },
   {
    "duration": 24,
    "start_time": "2022-12-28T19:20:04.876Z"
   },
   {
    "duration": 8,
    "start_time": "2022-12-28T19:20:04.902Z"
   },
   {
    "duration": 25,
    "start_time": "2022-12-28T19:20:04.913Z"
   },
   {
    "duration": 106,
    "start_time": "2022-12-28T19:20:04.940Z"
   },
   {
    "duration": 21,
    "start_time": "2022-12-28T19:20:05.048Z"
   },
   {
    "duration": 3289,
    "start_time": "2022-12-28T19:20:32.781Z"
   },
   {
    "duration": 330,
    "start_time": "2022-12-28T19:21:09.834Z"
   },
   {
    "duration": 312,
    "start_time": "2022-12-28T19:21:22.683Z"
   },
   {
    "duration": 1805,
    "start_time": "2022-12-28T19:22:41.620Z"
   },
   {
    "duration": 2027,
    "start_time": "2022-12-28T19:23:00.193Z"
   },
   {
    "duration": 2027,
    "start_time": "2022-12-28T19:23:42.687Z"
   },
   {
    "duration": 2099,
    "start_time": "2022-12-28T19:24:00.013Z"
   },
   {
    "duration": 2298,
    "start_time": "2022-12-28T19:24:04.707Z"
   },
   {
    "duration": 2078,
    "start_time": "2022-12-28T19:24:30.246Z"
   },
   {
    "duration": 2010,
    "start_time": "2022-12-28T19:24:43.598Z"
   },
   {
    "duration": 2598,
    "start_time": "2022-12-28T19:27:58.861Z"
   },
   {
    "duration": 2284,
    "start_time": "2022-12-28T21:16:58.737Z"
   },
   {
    "duration": 409,
    "start_time": "2022-12-28T21:17:29.065Z"
   },
   {
    "duration": 1011,
    "start_time": "2022-12-28T21:18:05.105Z"
   },
   {
    "duration": 1133,
    "start_time": "2022-12-28T21:29:49.895Z"
   },
   {
    "duration": 972,
    "start_time": "2022-12-28T21:30:36.484Z"
   },
   {
    "duration": 23,
    "start_time": "2022-12-28T21:30:43.981Z"
   },
   {
    "duration": 1005,
    "start_time": "2022-12-28T21:31:50.126Z"
   },
   {
    "duration": 1109,
    "start_time": "2022-12-28T21:32:18.887Z"
   },
   {
    "duration": 974,
    "start_time": "2022-12-28T21:32:51.189Z"
   },
   {
    "duration": 26,
    "start_time": "2022-12-28T21:43:17.431Z"
   },
   {
    "duration": 23,
    "start_time": "2022-12-28T21:43:38.043Z"
   },
   {
    "duration": 7,
    "start_time": "2022-12-28T21:44:00.773Z"
   },
   {
    "duration": 5,
    "start_time": "2022-12-28T21:44:05.973Z"
   },
   {
    "duration": 48,
    "start_time": "2022-12-28T21:45:47.365Z"
   },
   {
    "duration": 126,
    "start_time": "2022-12-28T21:47:16.982Z"
   },
   {
    "duration": 12,
    "start_time": "2022-12-28T21:50:43.569Z"
   },
   {
    "duration": 4,
    "start_time": "2022-12-28T21:53:50.259Z"
   },
   {
    "duration": 87,
    "start_time": "2022-12-28T21:53:50.266Z"
   },
   {
    "duration": 14,
    "start_time": "2022-12-28T21:53:50.355Z"
   },
   {
    "duration": 18,
    "start_time": "2022-12-28T21:53:50.371Z"
   },
   {
    "duration": 2059,
    "start_time": "2022-12-28T21:53:50.392Z"
   },
   {
    "duration": 5,
    "start_time": "2022-12-28T21:53:52.453Z"
   },
   {
    "duration": 22,
    "start_time": "2022-12-28T21:53:52.460Z"
   },
   {
    "duration": 13,
    "start_time": "2022-12-28T21:53:52.484Z"
   },
   {
    "duration": 13,
    "start_time": "2022-12-28T21:53:52.499Z"
   },
   {
    "duration": 2094,
    "start_time": "2022-12-28T21:53:52.514Z"
   },
   {
    "duration": 10,
    "start_time": "2022-12-28T21:53:54.610Z"
   },
   {
    "duration": 33,
    "start_time": "2022-12-28T21:53:54.623Z"
   },
   {
    "duration": 6,
    "start_time": "2022-12-28T21:53:54.658Z"
   },
   {
    "duration": 14,
    "start_time": "2022-12-28T21:53:54.667Z"
   },
   {
    "duration": 118,
    "start_time": "2022-12-28T21:53:54.683Z"
   },
   {
    "duration": 13,
    "start_time": "2022-12-28T21:53:54.803Z"
   },
   {
    "duration": 93,
    "start_time": "2022-12-28T21:54:05.151Z"
   },
   {
    "duration": 110,
    "start_time": "2022-12-28T21:54:19.064Z"
   },
   {
    "duration": 79,
    "start_time": "2022-12-28T21:55:34.280Z"
   },
   {
    "duration": 2653,
    "start_time": "2022-12-28T21:56:13.029Z"
   },
   {
    "duration": 23,
    "start_time": "2022-12-28T22:03:47.698Z"
   },
   {
    "duration": 22,
    "start_time": "2022-12-28T22:03:51.417Z"
   },
   {
    "duration": 2423,
    "start_time": "2022-12-28T22:04:13.328Z"
   },
   {
    "duration": 2481,
    "start_time": "2022-12-28T22:05:03.659Z"
   },
   {
    "duration": 4,
    "start_time": "2022-12-28T22:08:27.625Z"
   },
   {
    "duration": 68,
    "start_time": "2022-12-28T22:08:27.631Z"
   },
   {
    "duration": 14,
    "start_time": "2022-12-28T22:08:27.701Z"
   },
   {
    "duration": 14,
    "start_time": "2022-12-28T22:08:27.717Z"
   },
   {
    "duration": 1410,
    "start_time": "2022-12-28T22:08:27.733Z"
   },
   {
    "duration": 7,
    "start_time": "2022-12-28T22:08:29.145Z"
   },
   {
    "duration": 23,
    "start_time": "2022-12-28T22:08:29.154Z"
   },
   {
    "duration": 14,
    "start_time": "2022-12-28T22:08:29.179Z"
   },
   {
    "duration": 28,
    "start_time": "2022-12-28T22:08:29.195Z"
   },
   {
    "duration": 1686,
    "start_time": "2022-12-28T22:08:29.252Z"
   },
   {
    "duration": 23,
    "start_time": "2022-12-28T22:08:30.940Z"
   },
   {
    "duration": 41,
    "start_time": "2022-12-28T22:08:30.966Z"
   },
   {
    "duration": 12,
    "start_time": "2022-12-28T22:08:31.010Z"
   },
   {
    "duration": 41,
    "start_time": "2022-12-28T22:08:31.025Z"
   },
   {
    "duration": 109,
    "start_time": "2022-12-28T22:08:31.069Z"
   },
   {
    "duration": 11,
    "start_time": "2022-12-28T22:08:31.180Z"
   },
   {
    "duration": 105,
    "start_time": "2022-12-28T22:08:31.193Z"
   },
   {
    "duration": 2523,
    "start_time": "2022-12-28T22:08:31.300Z"
   },
   {
    "duration": 1007,
    "start_time": "2022-12-28T22:08:33.824Z"
   },
   {
    "duration": 40,
    "start_time": "2022-12-28T22:08:34.833Z"
   },
   {
    "duration": 24,
    "start_time": "2022-12-28T22:08:34.876Z"
   },
   {
    "duration": 2644,
    "start_time": "2022-12-28T22:08:34.902Z"
   },
   {
    "duration": 2334,
    "start_time": "2022-12-28T22:09:30.370Z"
   },
   {
    "duration": 2548,
    "start_time": "2022-12-28T22:09:47.488Z"
   },
   {
    "duration": 2284,
    "start_time": "2022-12-28T22:10:43.526Z"
   },
   {
    "duration": 2189,
    "start_time": "2022-12-28T22:11:06.842Z"
   },
   {
    "duration": 2565,
    "start_time": "2022-12-28T22:17:08.944Z"
   },
   {
    "duration": 20,
    "start_time": "2022-12-28T22:19:08.280Z"
   },
   {
    "duration": 1189,
    "start_time": "2022-12-28T22:22:14.081Z"
   },
   {
    "duration": 1691,
    "start_time": "2022-12-28T22:35:10.753Z"
   },
   {
    "duration": 2052,
    "start_time": "2022-12-28T22:36:38.801Z"
   },
   {
    "duration": 159,
    "start_time": "2022-12-28T22:50:33.834Z"
   },
   {
    "duration": 150,
    "start_time": "2022-12-28T22:54:37.278Z"
   },
   {
    "duration": 1432,
    "start_time": "2022-12-28T22:55:36.069Z"
   },
   {
    "duration": 129,
    "start_time": "2022-12-28T22:56:19.324Z"
   },
   {
    "duration": 1322,
    "start_time": "2022-12-28T22:56:48.200Z"
   },
   {
    "duration": 1659,
    "start_time": "2022-12-28T22:57:13.821Z"
   },
   {
    "duration": 1372,
    "start_time": "2022-12-28T22:57:29.707Z"
   },
   {
    "duration": 9,
    "start_time": "2022-12-28T23:00:53.287Z"
   },
   {
    "duration": 1423,
    "start_time": "2022-12-28T23:08:51.101Z"
   },
   {
    "duration": 1327,
    "start_time": "2022-12-28T23:09:30.031Z"
   },
   {
    "duration": 137,
    "start_time": "2022-12-28T23:12:10.443Z"
   },
   {
    "duration": 3,
    "start_time": "2022-12-28T23:12:15.799Z"
   },
   {
    "duration": 142,
    "start_time": "2022-12-28T23:12:19.469Z"
   },
   {
    "duration": 1650,
    "start_time": "2022-12-28T23:12:41.421Z"
   },
   {
    "duration": 4,
    "start_time": "2022-12-28T23:13:43.268Z"
   },
   {
    "duration": 1805,
    "start_time": "2022-12-28T23:13:59.307Z"
   },
   {
    "duration": 1767,
    "start_time": "2022-12-28T23:15:31.219Z"
   },
   {
    "duration": 1599,
    "start_time": "2022-12-28T23:27:31.883Z"
   },
   {
    "duration": 119,
    "start_time": "2022-12-28T23:41:02.051Z"
   },
   {
    "duration": 112,
    "start_time": "2022-12-28T23:41:22.189Z"
   },
   {
    "duration": 91,
    "start_time": "2022-12-28T23:43:12.547Z"
   },
   {
    "duration": 72,
    "start_time": "2022-12-28T23:43:58.853Z"
   },
   {
    "duration": 90,
    "start_time": "2022-12-28T23:44:14.775Z"
   },
   {
    "duration": 119,
    "start_time": "2022-12-28T23:44:44.377Z"
   },
   {
    "duration": 120,
    "start_time": "2022-12-28T23:45:09.725Z"
   },
   {
    "duration": 1118,
    "start_time": "2022-12-28T23:47:24.977Z"
   },
   {
    "duration": 1237,
    "start_time": "2022-12-28T23:47:32.825Z"
   },
   {
    "duration": 3,
    "start_time": "2022-12-28T23:48:57.477Z"
   },
   {
    "duration": 100,
    "start_time": "2022-12-28T23:49:06.025Z"
   },
   {
    "duration": 3,
    "start_time": "2022-12-28T23:49:09.342Z"
   },
   {
    "duration": 111,
    "start_time": "2022-12-28T23:49:10.812Z"
   },
   {
    "duration": 4,
    "start_time": "2022-12-28T23:49:22.296Z"
   },
   {
    "duration": 106,
    "start_time": "2022-12-28T23:49:23.884Z"
   },
   {
    "duration": 109,
    "start_time": "2022-12-28T23:49:37.753Z"
   },
   {
    "duration": 1074,
    "start_time": "2022-12-28T23:49:54.767Z"
   },
   {
    "duration": 3,
    "start_time": "2022-12-28T23:50:14.828Z"
   },
   {
    "duration": 1306,
    "start_time": "2022-12-28T23:50:15.850Z"
   },
   {
    "duration": 1130,
    "start_time": "2022-12-28T23:50:46.845Z"
   },
   {
    "duration": 3,
    "start_time": "2022-12-28T23:52:27.814Z"
   },
   {
    "duration": 1544,
    "start_time": "2022-12-28T23:55:40.409Z"
   },
   {
    "duration": 954,
    "start_time": "2022-12-28T23:55:48.645Z"
   },
   {
    "duration": 182,
    "start_time": "2022-12-28T23:58:54.482Z"
   },
   {
    "duration": 18,
    "start_time": "2022-12-28T23:59:04.884Z"
   },
   {
    "duration": 23,
    "start_time": "2022-12-28T23:59:14.529Z"
   },
   {
    "duration": 33,
    "start_time": "2022-12-29T00:00:47.888Z"
   },
   {
    "duration": 20,
    "start_time": "2022-12-29T00:02:37.026Z"
   },
   {
    "duration": 21,
    "start_time": "2022-12-29T00:02:48.845Z"
   },
   {
    "duration": 25,
    "start_time": "2022-12-29T00:03:41.846Z"
   },
   {
    "duration": 25,
    "start_time": "2022-12-29T00:04:00.795Z"
   },
   {
    "duration": 25,
    "start_time": "2022-12-29T00:04:54.845Z"
   },
   {
    "duration": 164,
    "start_time": "2022-12-29T00:05:44.417Z"
   },
   {
    "duration": 160,
    "start_time": "2022-12-29T00:06:29.806Z"
   },
   {
    "duration": 152,
    "start_time": "2022-12-29T00:06:39.416Z"
   },
   {
    "duration": 187,
    "start_time": "2022-12-29T00:07:09.489Z"
   },
   {
    "duration": 10,
    "start_time": "2022-12-29T15:33:24.173Z"
   },
   {
    "duration": 1458,
    "start_time": "2022-12-29T15:56:59.577Z"
   },
   {
    "duration": 74,
    "start_time": "2022-12-29T16:01:44.706Z"
   },
   {
    "duration": 79,
    "start_time": "2022-12-29T16:01:56.043Z"
   },
   {
    "duration": 3,
    "start_time": "2022-12-29T16:02:12.634Z"
   },
   {
    "duration": 4,
    "start_time": "2022-12-29T16:02:29.462Z"
   },
   {
    "duration": 178,
    "start_time": "2022-12-29T16:02:29.467Z"
   },
   {
    "duration": 14,
    "start_time": "2022-12-29T16:02:29.646Z"
   },
   {
    "duration": 14,
    "start_time": "2022-12-29T16:02:29.662Z"
   },
   {
    "duration": 1345,
    "start_time": "2022-12-29T16:02:29.678Z"
   },
   {
    "duration": 6,
    "start_time": "2022-12-29T16:02:31.025Z"
   },
   {
    "duration": 33,
    "start_time": "2022-12-29T16:02:31.033Z"
   },
   {
    "duration": 27,
    "start_time": "2022-12-29T16:02:31.068Z"
   },
   {
    "duration": 33,
    "start_time": "2022-12-29T16:02:31.097Z"
   },
   {
    "duration": 1409,
    "start_time": "2022-12-29T16:02:31.132Z"
   },
   {
    "duration": 8,
    "start_time": "2022-12-29T16:02:32.543Z"
   },
   {
    "duration": 14,
    "start_time": "2022-12-29T16:02:32.553Z"
   },
   {
    "duration": 5,
    "start_time": "2022-12-29T16:02:32.579Z"
   },
   {
    "duration": 15,
    "start_time": "2022-12-29T16:02:32.585Z"
   },
   {
    "duration": 93,
    "start_time": "2022-12-29T16:02:32.602Z"
   },
   {
    "duration": 8,
    "start_time": "2022-12-29T16:02:32.697Z"
   },
   {
    "duration": 87,
    "start_time": "2022-12-29T16:02:32.707Z"
   },
   {
    "duration": 1449,
    "start_time": "2022-12-29T16:02:32.795Z"
   },
   {
    "duration": 1002,
    "start_time": "2022-12-29T16:02:34.246Z"
   },
   {
    "duration": 26,
    "start_time": "2022-12-29T16:02:35.250Z"
   },
   {
    "duration": 23,
    "start_time": "2022-12-29T16:02:35.278Z"
   },
   {
    "duration": 3,
    "start_time": "2022-12-29T16:02:35.303Z"
   },
   {
    "duration": 1379,
    "start_time": "2022-12-29T16:02:35.308Z"
   },
   {
    "duration": 3,
    "start_time": "2022-12-29T16:02:36.688Z"
   },
   {
    "duration": 966,
    "start_time": "2022-12-29T16:02:36.693Z"
   },
   {
    "duration": 180,
    "start_time": "2022-12-29T16:02:37.661Z"
   },
   {
    "duration": 6,
    "start_time": "2022-12-29T16:02:37.843Z"
   },
   {
    "duration": 10,
    "start_time": "2022-12-29T16:02:37.850Z"
   },
   {
    "duration": 179,
    "start_time": "2022-12-29T16:05:35.599Z"
   },
   {
    "duration": 131,
    "start_time": "2022-12-29T16:05:42.003Z"
   },
   {
    "duration": 151,
    "start_time": "2022-12-29T16:05:45.450Z"
   },
   {
    "duration": 267,
    "start_time": "2022-12-29T16:07:01.173Z"
   },
   {
    "duration": 174,
    "start_time": "2022-12-29T16:07:39.292Z"
   },
   {
    "duration": 159,
    "start_time": "2022-12-29T16:08:37.286Z"
   },
   {
    "duration": 140,
    "start_time": "2022-12-29T16:10:32.841Z"
   },
   {
    "duration": 168,
    "start_time": "2022-12-29T16:10:35.932Z"
   },
   {
    "duration": 4,
    "start_time": "2022-12-29T16:11:05.812Z"
   },
   {
    "duration": 58,
    "start_time": "2022-12-29T16:11:05.818Z"
   },
   {
    "duration": 12,
    "start_time": "2022-12-29T16:11:05.878Z"
   },
   {
    "duration": 30,
    "start_time": "2022-12-29T16:11:05.891Z"
   },
   {
    "duration": 1409,
    "start_time": "2022-12-29T16:11:05.923Z"
   },
   {
    "duration": 7,
    "start_time": "2022-12-29T16:11:07.333Z"
   },
   {
    "duration": 54,
    "start_time": "2022-12-29T16:11:07.342Z"
   },
   {
    "duration": 24,
    "start_time": "2022-12-29T16:11:07.398Z"
   },
   {
    "duration": 67,
    "start_time": "2022-12-29T16:11:07.424Z"
   },
   {
    "duration": 1397,
    "start_time": "2022-12-29T16:11:07.494Z"
   },
   {
    "duration": 10,
    "start_time": "2022-12-29T16:11:08.894Z"
   },
   {
    "duration": 11,
    "start_time": "2022-12-29T16:11:08.906Z"
   },
   {
    "duration": 22,
    "start_time": "2022-12-29T16:11:08.919Z"
   },
   {
    "duration": 17,
    "start_time": "2022-12-29T16:11:08.943Z"
   },
   {
    "duration": 100,
    "start_time": "2022-12-29T16:11:08.962Z"
   },
   {
    "duration": 21,
    "start_time": "2022-12-29T16:11:09.063Z"
   },
   {
    "duration": 85,
    "start_time": "2022-12-29T16:11:09.086Z"
   },
   {
    "duration": 1376,
    "start_time": "2022-12-29T16:11:09.178Z"
   },
   {
    "duration": 926,
    "start_time": "2022-12-29T16:11:10.555Z"
   },
   {
    "duration": 24,
    "start_time": "2022-12-29T16:11:11.483Z"
   },
   {
    "duration": 24,
    "start_time": "2022-12-29T16:11:11.508Z"
   },
   {
    "duration": 4,
    "start_time": "2022-12-29T16:11:11.534Z"
   },
   {
    "duration": 1477,
    "start_time": "2022-12-29T16:11:11.541Z"
   },
   {
    "duration": 4,
    "start_time": "2022-12-29T16:11:13.019Z"
   },
   {
    "duration": 937,
    "start_time": "2022-12-29T16:11:13.025Z"
   },
   {
    "duration": 201,
    "start_time": "2022-12-29T16:11:13.964Z"
   },
   {
    "duration": 13,
    "start_time": "2022-12-29T16:11:14.167Z"
   },
   {
    "duration": 24,
    "start_time": "2022-12-29T16:11:14.183Z"
   },
   {
    "duration": 145,
    "start_time": "2022-12-29T16:11:14.210Z"
   },
   {
    "duration": 169,
    "start_time": "2022-12-29T16:11:14.357Z"
   },
   {
    "duration": 10,
    "start_time": "2022-12-29T16:14:37.271Z"
   },
   {
    "duration": 1234,
    "start_time": "2022-12-29T16:18:01.557Z"
   },
   {
    "duration": 400,
    "start_time": "2022-12-29T16:22:06.640Z"
   },
   {
    "duration": 299,
    "start_time": "2022-12-29T16:22:31.979Z"
   },
   {
    "duration": 274,
    "start_time": "2022-12-29T16:23:02.130Z"
   },
   {
    "duration": 6317,
    "start_time": "2022-12-29T16:26:24.469Z"
   },
   {
    "duration": 6147,
    "start_time": "2022-12-29T16:26:46.326Z"
   },
   {
    "duration": 1420,
    "start_time": "2022-12-29T16:37:35.408Z"
   },
   {
    "duration": 1145,
    "start_time": "2022-12-29T18:15:39.647Z"
   },
   {
    "duration": 302,
    "start_time": "2022-12-29T18:19:08.670Z"
   },
   {
    "duration": 304,
    "start_time": "2022-12-29T18:20:10.477Z"
   },
   {
    "duration": 1238,
    "start_time": "2022-12-29T19:29:08.066Z"
   },
   {
    "duration": 106,
    "start_time": "2022-12-29T19:29:09.306Z"
   },
   {
    "duration": 12,
    "start_time": "2022-12-29T19:29:09.413Z"
   },
   {
    "duration": 14,
    "start_time": "2022-12-29T19:29:09.427Z"
   },
   {
    "duration": 1252,
    "start_time": "2022-12-29T19:29:09.443Z"
   },
   {
    "duration": 5,
    "start_time": "2022-12-29T19:29:10.697Z"
   },
   {
    "duration": 20,
    "start_time": "2022-12-29T19:29:10.712Z"
   },
   {
    "duration": 12,
    "start_time": "2022-12-29T19:29:10.734Z"
   },
   {
    "duration": 11,
    "start_time": "2022-12-29T19:29:10.748Z"
   },
   {
    "duration": 1381,
    "start_time": "2022-12-29T19:29:10.762Z"
   },
   {
    "duration": 11,
    "start_time": "2022-12-29T19:29:12.145Z"
   },
   {
    "duration": 19,
    "start_time": "2022-12-29T19:29:12.157Z"
   },
   {
    "duration": 5,
    "start_time": "2022-12-29T19:29:12.178Z"
   },
   {
    "duration": 28,
    "start_time": "2022-12-29T19:29:12.185Z"
   },
   {
    "duration": 99,
    "start_time": "2022-12-29T19:29:12.215Z"
   },
   {
    "duration": 9,
    "start_time": "2022-12-29T19:29:12.316Z"
   },
   {
    "duration": 95,
    "start_time": "2022-12-29T19:29:12.327Z"
   },
   {
    "duration": 1533,
    "start_time": "2022-12-29T19:29:12.423Z"
   },
   {
    "duration": 1010,
    "start_time": "2022-12-29T19:29:13.957Z"
   },
   {
    "duration": 22,
    "start_time": "2022-12-29T19:29:14.969Z"
   },
   {
    "duration": 24,
    "start_time": "2022-12-29T19:29:14.993Z"
   },
   {
    "duration": 7,
    "start_time": "2022-12-29T19:29:15.020Z"
   },
   {
    "duration": 1328,
    "start_time": "2022-12-29T19:29:15.029Z"
   },
   {
    "duration": 4,
    "start_time": "2022-12-29T19:29:16.360Z"
   },
   {
    "duration": 1022,
    "start_time": "2022-12-29T19:29:16.365Z"
   },
   {
    "duration": 149,
    "start_time": "2022-12-29T19:29:17.389Z"
   },
   {
    "duration": 3,
    "start_time": "2022-12-29T19:29:17.540Z"
   },
   {
    "duration": 320,
    "start_time": "2022-12-29T19:29:17.546Z"
   },
   {
    "duration": 11,
    "start_time": "2022-12-29T19:29:17.868Z"
   },
   {
    "duration": 377,
    "start_time": "2022-12-29T19:29:17.882Z"
   },
   {
    "duration": 1067,
    "start_time": "2022-12-30T22:33:09.427Z"
   },
   {
    "duration": 52,
    "start_time": "2022-12-30T22:33:10.496Z"
   },
   {
    "duration": 10,
    "start_time": "2022-12-30T22:33:10.549Z"
   },
   {
    "duration": 9,
    "start_time": "2022-12-30T22:33:10.561Z"
   },
   {
    "duration": 1227,
    "start_time": "2022-12-30T22:33:10.992Z"
   },
   {
    "duration": 6,
    "start_time": "2022-12-30T22:33:12.220Z"
   },
   {
    "duration": 24,
    "start_time": "2022-12-30T22:33:12.227Z"
   },
   {
    "duration": 13,
    "start_time": "2022-12-30T22:33:12.605Z"
   },
   {
    "duration": 12,
    "start_time": "2022-12-30T22:33:12.620Z"
   },
   {
    "duration": 1268,
    "start_time": "2022-12-30T22:33:12.633Z"
   },
   {
    "duration": 14,
    "start_time": "2022-12-30T22:33:13.902Z"
   },
   {
    "duration": 8,
    "start_time": "2022-12-30T22:33:13.918Z"
   },
   {
    "duration": 4,
    "start_time": "2022-12-30T22:33:13.928Z"
   },
   {
    "duration": 7,
    "start_time": "2022-12-30T22:33:13.934Z"
   },
   {
    "duration": 97,
    "start_time": "2022-12-30T22:33:13.943Z"
   },
   {
    "duration": 7,
    "start_time": "2022-12-30T22:33:14.042Z"
   },
   {
    "duration": 89,
    "start_time": "2022-12-30T22:33:14.051Z"
   },
   {
    "duration": 1258,
    "start_time": "2022-12-30T22:33:14.141Z"
   },
   {
    "duration": 850,
    "start_time": "2022-12-30T22:33:15.401Z"
   },
   {
    "duration": 24,
    "start_time": "2022-12-30T22:33:16.254Z"
   },
   {
    "duration": 25,
    "start_time": "2022-12-30T22:33:16.280Z"
   },
   {
    "duration": 8,
    "start_time": "2022-12-30T22:33:16.308Z"
   },
   {
    "duration": 1192,
    "start_time": "2022-12-30T22:33:16.318Z"
   },
   {
    "duration": 5,
    "start_time": "2022-12-30T22:33:17.511Z"
   },
   {
    "duration": 875,
    "start_time": "2022-12-30T22:33:17.517Z"
   },
   {
    "duration": 140,
    "start_time": "2022-12-30T22:33:18.393Z"
   },
   {
    "duration": 3,
    "start_time": "2022-12-30T22:33:18.536Z"
   },
   {
    "duration": 303,
    "start_time": "2022-12-30T22:33:18.540Z"
   },
   {
    "duration": 10,
    "start_time": "2022-12-30T22:33:18.845Z"
   },
   {
    "duration": 369,
    "start_time": "2022-12-30T22:33:18.857Z"
   },
   {
    "duration": 49,
    "start_time": "2022-12-30T23:05:06.076Z"
   },
   {
    "duration": 41,
    "start_time": "2022-12-30T23:07:04.674Z"
   },
   {
    "duration": 43,
    "start_time": "2022-12-30T23:08:02.673Z"
   },
   {
    "duration": 46,
    "start_time": "2022-12-30T23:08:25.542Z"
   },
   {
    "duration": 44,
    "start_time": "2022-12-30T23:09:00.814Z"
   }
  ],
  "kernelspec": {
   "display_name": "Python 3 (ipykernel)",
   "language": "python",
   "name": "python3"
  },
  "language_info": {
   "codemirror_mode": {
    "name": "ipython",
    "version": 3
   },
   "file_extension": ".py",
   "mimetype": "text/x-python",
   "name": "python",
   "nbconvert_exporter": "python",
   "pygments_lexer": "ipython3",
   "version": "3.9.5"
  },
  "toc": {
   "base_numbering": 1,
   "nav_menu": {},
   "number_sections": true,
   "sideBar": true,
   "skip_h1_title": true,
   "title_cell": "Table of Contents",
   "title_sidebar": "Contents",
   "toc_cell": false,
   "toc_position": {},
   "toc_section_display": true,
   "toc_window_display": false
  }
 },
 "nbformat": 4,
 "nbformat_minor": 2
}
